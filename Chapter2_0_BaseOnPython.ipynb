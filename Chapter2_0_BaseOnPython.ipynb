{
 "cells": [
  {
   "cell_type": "markdown",
   "metadata": {},
   "source": [
    "# Python 基础\n",
    "\n",
    "## Python 基础概览\n",
    "- 导包\n",
    "- 变量\n",
    "- 循环 while\n",
    "- 打印 print\n",
    "- 异常处理 try except\n",
    "- 条件判断 if\n",
    "- 比较运算符"
   ]
  },
  {
   "cell_type": "markdown",
   "metadata": {
    "ExecuteTime": {
     "end_time": "2021-11-23T05:55:38.874718Z",
     "start_time": "2021-11-23T05:55:38.863745Z"
    }
   },
   "source": [
    "### 导包\n",
    "```py\n",
    "import 包\n",
    "from 包 import 包内类/函数\n",
    "```"
   ]
  },
  {
   "cell_type": "code",
   "execution_count": 4,
   "metadata": {
    "ExecuteTime": {
     "end_time": "2021-11-23T05:56:34.725743Z",
     "start_time": "2021-11-23T05:56:34.710749Z"
    }
   },
   "outputs": [],
   "source": [
    "## 导包\n",
    "import random # 随机数"
   ]
  },
  {
   "cell_type": "markdown",
   "metadata": {},
   "source": [
    "### 变量\n",
    "- 随用随赋值"
   ]
  },
  {
   "cell_type": "code",
   "execution_count": 5,
   "metadata": {
    "ExecuteTime": {
     "end_time": "2021-11-23T05:56:35.682192Z",
     "start_time": "2021-11-23T05:56:35.663201Z"
    }
   },
   "outputs": [
    {
     "name": "stdout",
     "output_type": "stream",
     "text": [
      "10\n"
     ]
    }
   ],
   "source": [
    "tmp = 10\n",
    "print(tmp)"
   ]
  },
  {
   "cell_type": "markdown",
   "metadata": {
    "ExecuteTime": {
     "end_time": "2021-11-23T05:56:45.766682Z",
     "start_time": "2021-11-23T05:56:45.751691Z"
    }
   },
   "source": [
    "### 循环\n",
    "- for\n",
    "- while"
   ]
  },
  {
   "cell_type": "code",
   "execution_count": 7,
   "metadata": {
    "ExecuteTime": {
     "end_time": "2021-11-23T05:57:05.844594Z",
     "start_time": "2021-11-23T05:57:05.830605Z"
    }
   },
   "outputs": [
    {
     "name": "stdout",
     "output_type": "stream",
     "text": [
      "I Love You!"
     ]
    }
   ],
   "source": [
    "## for\n",
    "str = \"I Love You!\"\n",
    "for each in str:\n",
    "    print(each, end='')"
   ]
  },
  {
   "cell_type": "markdown",
   "metadata": {},
   "source": [
    "#### while"
   ]
  },
  {
   "cell_type": "code",
   "execution_count": 8,
   "metadata": {
    "ExecuteTime": {
     "end_time": "2021-11-23T05:57:27.985594Z",
     "start_time": "2021-11-23T05:57:27.975600Z"
    }
   },
   "outputs": [
    {
     "name": "stdout",
     "output_type": "stream",
     "text": [
      "3\n",
      "2\n",
      "1\n"
     ]
    }
   ],
   "source": [
    "## while\n",
    "i = 3\n",
    "while True:\n",
    "    print(i)\n",
    "    i = i - 1\n",
    "    if(i < 1):\n",
    "        break"
   ]
  },
  {
   "cell_type": "markdown",
   "metadata": {},
   "source": [
    "### 异常处理\n",
    "```py\n",
    "try:\n",
    "    要执行的语句\n",
    "except 错误类型:\n",
    "    出错之后要执行的语句\n",
    "```"
   ]
  },
  {
   "cell_type": "markdown",
   "metadata": {},
   "source": [
    "### 条件判断\n",
    "```py\n",
    "## if, if-else\n",
    "if 条件语句:\n",
    "    条件为真，执行此\n",
    "else:\n",
    "    条件为假，执行此\n",
    "## if-elif-else\n",
    "if 条件1:\n",
    "    条件1为真，执行此\n",
    "elif 条件2:\n",
    "    条件2为真，执行此\n",
    "elif 条件3:\n",
    "    条件3为真，执行此\n",
    "...\n",
    "else:\n",
    "    上述条件为假，执行此\n",
    "```"
   ]
  },
  {
   "cell_type": "code",
   "execution_count": 9,
   "metadata": {
    "ExecuteTime": {
     "end_time": "2021-11-23T05:58:04.352109Z",
     "start_time": "2021-11-23T05:58:04.337114Z"
    }
   },
   "outputs": [],
   "source": [
    "## 导包\n",
    "import random"
   ]
  },
  {
   "cell_type": "code",
   "execution_count": 10,
   "metadata": {
    "ExecuteTime": {
     "end_time": "2021-11-23T05:58:25.353613Z",
     "start_time": "2021-11-23T05:58:12.231601Z"
    }
   },
   "outputs": [
    {
     "name": "stdout",
     "output_type": "stream",
     "text": [
      "第0次猜数，请输入一个整数：\n",
      "5\n",
      "小了\n",
      "第1次猜数，请输入一个整数：\n",
      "8\n",
      "大了\n",
      "第2次猜数，请输入一个整数：\n",
      "7\n",
      "恭喜你猜对了^_^!，就是这个数： 7\n"
     ]
    }
   ],
   "source": [
    "## if-elif-else\n",
    "guess = random.randint(1,10)\n",
    "\n",
    "counter = 1 # 猜测的次数\n",
    "while True:\n",
    "    print(\"第%d次猜数，请输入一个整数：\"%(i))\n",
    "    try:\n",
    "        tmp = int(input())\n",
    "        i += 1\n",
    "    except ValueError:\n",
    "        print(\"非法的输入！\")\n",
    "        continue\n",
    "    if tmp == guess:\n",
    "        print(\"恭喜你猜对了^_^!，就是这个数：\", guess)\n",
    "        break\n",
    "    elif (tmp > guess):\n",
    "        print(\"大了\")\n",
    "    elif (tmp < guess):\n",
    "        print(\"小了\")"
   ]
  },
  {
   "cell_type": "markdown",
   "metadata": {},
   "source": [
    "## Python数据结构\n",
    "- 列表\n",
    "- 元组\n",
    "- 字符串\n",
    "- 字典\n",
    "- 集合\n",
    "- 序列"
   ]
  },
  {
   "cell_type": "code",
   "execution_count": null,
   "metadata": {},
   "outputs": [],
   "source": []
  },
  {
   "cell_type": "markdown",
   "metadata": {},
   "source": [
    "## Python进阶\n",
    "- 函数\n",
    "- lambda表达式\n",
    "- 类与对象\n",
    "- 魔法方法"
   ]
  },
  {
   "cell_type": "code",
   "execution_count": null,
   "metadata": {},
   "outputs": [],
   "source": []
  }
 ],
 "metadata": {
  "kernelspec": {
   "display_name": "Python 3",
   "language": "python",
   "name": "python3"
  },
  "language_info": {
   "codemirror_mode": {
    "name": "ipython",
    "version": 3
   },
   "file_extension": ".py",
   "mimetype": "text/x-python",
   "name": "python",
   "nbconvert_exporter": "python",
   "pygments_lexer": "ipython3",
   "version": "3.8.3"
  },
  "toc": {
   "base_numbering": 1,
   "nav_menu": {},
   "number_sections": true,
   "sideBar": true,
   "skip_h1_title": false,
   "title_cell": "Table of Contents",
   "title_sidebar": "Contents",
   "toc_cell": false,
   "toc_position": {
    "height": "calc(100% - 180px)",
    "left": "10px",
    "top": "150px",
    "width": "230.188px"
   },
   "toc_section_display": true,
   "toc_window_display": true
  }
 },
 "nbformat": 4,
 "nbformat_minor": 4
}
