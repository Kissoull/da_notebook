{
 "cells": [
  {
   "cell_type": "markdown",
   "metadata": {
    "ExecuteTime": {
     "end_time": "2021-11-10T14:50:54.721833Z",
     "start_time": "2021-11-10T14:50:54.701844Z"
    }
   },
   "source": [
    "======  \n",
    "[TOC]  \n",
    "======  \n",
    "\n",
    "| Ahthor | Date\n",
    "| :--- | :---\n",
    "|Kissoul | 2021-11-18"
   ]
  },
  {
   "cell_type": "markdown",
   "metadata": {
    "ExecuteTime": {
     "end_time": "2021-11-03T11:18:40.995513Z",
     "start_time": "2021-11-03T11:18:40.988519Z"
    }
   },
   "source": [
    "# Kaggle 数据挖掘项目入门\n",
    "- 数据竞赛网站：\n",
    "    - Kaggle: https://www.kaggle.com/\n",
    "    - 天池: https://tianchi.aliyun.com/\n",
    "- 数据集网站：\n",
    "    - ImageNet: \n",
    "    - Open Images: \n",
    "- 各领域统计数据：\n",
    "    - 统计局\n",
    "    - 政府机构\n",
    "    - 公司财报\n",
    "\n",
    "## 命令行语句"
   ]
  },
  {
   "cell_type": "code",
   "execution_count": 125,
   "metadata": {
    "ExecuteTime": {
     "end_time": "2021-11-21T11:44:19.483495Z",
     "start_time": "2021-11-21T11:44:19.461507Z"
    }
   },
   "outputs": [
    {
     "data": {
      "text/plain": [
       "'c:\\\\programdata\\\\miniconda3\\\\python.exe'"
      ]
     },
     "execution_count": 125,
     "metadata": {},
     "output_type": "execute_result"
    }
   ],
   "source": [
    "## 查询当前 python 内核\n",
    "import sys\n",
    "sys.executable"
   ]
  },
  {
   "cell_type": "code",
   "execution_count": 81,
   "metadata": {
    "ExecuteTime": {
     "end_time": "2021-11-10T14:53:51.876719Z",
     "start_time": "2021-11-10T14:53:51.861726Z"
    }
   },
   "outputs": [
    {
     "data": {
      "text/plain": [
       "'C:\\\\Users\\\\kisso\\\\OneDrive\\\\share\\\\24 - Kaggle'"
      ]
     },
     "execution_count": 81,
     "metadata": {},
     "output_type": "execute_result"
    }
   ],
   "source": [
    "## 查询当前路径\n",
    "%pwd"
   ]
  },
  {
   "cell_type": "code",
   "execution_count": 82,
   "metadata": {
    "ExecuteTime": {
     "end_time": "2021-11-10T14:53:52.661785Z",
     "start_time": "2021-11-10T14:53:52.592881Z"
    }
   },
   "outputs": [
    {
     "name": "stdout",
     "output_type": "stream",
     "text": [
      " 驱动器 C 中的卷没有标签。\n",
      " 卷的序列号是 98B9-FBB3\n",
      "\n",
      " C:\\Users\\kisso\\OneDrive\\share\\24 - Kaggle 的目录\n",
      "\n",
      "10/11/2021  22:53    <DIR>          .\n",
      "10/11/2021  22:53    <DIR>          ..\n",
      "03/11/2021  19:24    <DIR>          .ipynb_checkpoints\n",
      "10/11/2021  21:59    <DIR>          datasets\n",
      "10/11/2021  16:20    <DIR>          figures\n",
      "10/11/2021  22:53           253,962 KaggleDataAnalysis.ipynb\n",
      "10/11/2021  16:23    <DIR>          lecture_notes\n",
      "               1 个文件        253,962 字节\n",
      "               6 个目录 124,850,192,384 可用字节\n"
     ]
    }
   ],
   "source": [
    "## 查询当前路径下文件目录\n",
    "%ls"
   ]
  },
  {
   "cell_type": "code",
   "execution_count": null,
   "metadata": {
    "ExecuteTime": {
     "end_time": "2021-11-22T12:31:54.814353Z",
     "start_time": "2021-11-22T12:31:54.794366Z"
    }
   },
   "outputs": [],
   "source": [
    "## 加载外部 python 程序\n",
    "# %load \".\\\\code\\\\main.py\"\n",
    "## 主函数\n",
    "def main():\n",
    "#     print(hr_preprocessing(sl=True, le=True, lower_d=False, ld_n=3))\n",
    "    features,label = hr_preprocessing()\n",
    "    hr_modeling(features, label)\n",
    "    \n",
    "if __name__ == \"__main__\":\n",
    "    main()\n",
    "    \n"
   ]
  },
  {
   "cell_type": "code",
   "execution_count": null,
   "metadata": {},
   "outputs": [],
   "source": [
    "## 运行外部 python 代码\n",
    "%run \".\\\\code\\\\main.py\"\n"
   ]
  },
  {
   "cell_type": "markdown",
   "metadata": {},
   "source": [
    "# Python 语法\n",
    "\n",
    "## Python 基础\n",
    "- 导包\n",
    "- 变量\n",
    "- 循环 while\n",
    "- 打印 print\n",
    "- 异常处理 try except\n",
    "- 条件判断 if\n",
    "- 比较运算符"
   ]
  },
  {
   "cell_type": "markdown",
   "metadata": {},
   "source": [
    "### 导包\n",
    "```py\n",
    "import 包\n",
    "from 包 import 包内类/函数\n",
    "```"
   ]
  },
  {
   "cell_type": "code",
   "execution_count": 83,
   "metadata": {
    "ExecuteTime": {
     "end_time": "2021-11-10T14:53:54.758466Z",
     "start_time": "2021-11-10T14:53:54.739476Z"
    }
   },
   "outputs": [],
   "source": [
    "## 导包\n",
    "import random # 随机数"
   ]
  },
  {
   "cell_type": "markdown",
   "metadata": {},
   "source": [
    "### 变量\n",
    "- 随用随赋值"
   ]
  },
  {
   "cell_type": "code",
   "execution_count": 84,
   "metadata": {
    "ExecuteTime": {
     "end_time": "2021-11-10T14:53:56.856035Z",
     "start_time": "2021-11-10T14:53:56.842889Z"
    }
   },
   "outputs": [
    {
     "name": "stdout",
     "output_type": "stream",
     "text": [
      "10\n"
     ]
    }
   ],
   "source": [
    "tmp = 10\n",
    "print(tmp)"
   ]
  },
  {
   "cell_type": "markdown",
   "metadata": {},
   "source": [
    "### 循环\n",
    "- for\n",
    "- while"
   ]
  },
  {
   "cell_type": "markdown",
   "metadata": {},
   "source": [
    "#### for"
   ]
  },
  {
   "cell_type": "code",
   "execution_count": 85,
   "metadata": {
    "ExecuteTime": {
     "end_time": "2021-11-10T14:53:59.785222Z",
     "start_time": "2021-11-10T14:53:59.764237Z"
    }
   },
   "outputs": [
    {
     "name": "stdout",
     "output_type": "stream",
     "text": [
      "I Love You!"
     ]
    }
   ],
   "source": [
    "## for\n",
    "str = \"I Love You!\"\n",
    "for each in str:\n",
    "    print(each, end='')"
   ]
  },
  {
   "cell_type": "markdown",
   "metadata": {},
   "source": [
    "#### while"
   ]
  },
  {
   "cell_type": "code",
   "execution_count": 23,
   "metadata": {
    "ExecuteTime": {
     "end_time": "2021-11-03T11:43:02.822404Z",
     "start_time": "2021-11-03T11:43:02.807421Z"
    }
   },
   "outputs": [
    {
     "name": "stdout",
     "output_type": "stream",
     "text": [
      "3\n",
      "2\n",
      "1\n"
     ]
    }
   ],
   "source": [
    "## while\n",
    "i = 3\n",
    "while True:\n",
    "    print(i)\n",
    "    i = i - 1\n",
    "    if(i < 1):\n",
    "        break"
   ]
  },
  {
   "cell_type": "markdown",
   "metadata": {},
   "source": [
    "### 异常处理\n",
    "```py\n",
    "try:\n",
    "    要执行的语句\n",
    "except 错误类型:\n",
    "    出错之后要执行的语句\n",
    "```"
   ]
  },
  {
   "cell_type": "markdown",
   "metadata": {},
   "source": [
    "### 条件判断\n",
    "```py\n",
    "## if, if-else\n",
    "if 条件语句:\n",
    "    条件为真，执行此\n",
    "else:\n",
    "    条件为假，执行此\n",
    "## if-elif-else\n",
    "if 条件1:\n",
    "    条件1为真，执行此\n",
    "elif 条件2:\n",
    "    条件2为真，执行此\n",
    "elif 条件3:\n",
    "    条件3为真，执行此\n",
    "...\n",
    "else:\n",
    "    上述条件为假，执行此\n",
    "```"
   ]
  },
  {
   "cell_type": "code",
   "execution_count": 24,
   "metadata": {
    "ExecuteTime": {
     "end_time": "2021-11-03T11:52:26.800573Z",
     "start_time": "2021-11-03T11:52:26.794577Z"
    }
   },
   "outputs": [],
   "source": [
    "## 导包\n",
    "import random"
   ]
  },
  {
   "cell_type": "code",
   "execution_count": 27,
   "metadata": {
    "ExecuteTime": {
     "end_time": "2021-11-03T12:00:18.517070Z",
     "start_time": "2021-11-03T12:00:04.104645Z"
    }
   },
   "outputs": [
    {
     "name": "stdout",
     "output_type": "stream",
     "text": [
      "第4次猜数，请输入一个整数：\n",
      "5\n",
      "大了\n",
      "第5次猜数，请输入一个整数：\n",
      "3\n",
      "大了\n",
      "第6次猜数，请输入一个整数：\n",
      "1\n",
      "小了\n",
      "第7次猜数，请输入一个整数：\n",
      "2\n",
      "恭喜你猜对了^_^!，就是这个数： 2\n"
     ]
    }
   ],
   "source": [
    "## if-elif-else\n",
    "guess = random.randint(1,10)\n",
    "\n",
    "counter = 1 # 猜测的次数\n",
    "while True:\n",
    "    print(\"第%d次猜数，请输入一个整数：\"%(i))\n",
    "    try:\n",
    "        tmp = int(input())\n",
    "        i += 1\n",
    "    except ValueError:\n",
    "        print(\"非法的输入！\")\n",
    "        continue\n",
    "    if tmp == guess:\n",
    "        print(\"恭喜你猜对了^_^!，就是这个数：\", guess)\n",
    "        break\n",
    "    elif (tmp > guess):\n",
    "        print(\"大了\")\n",
    "    elif (tmp < guess):\n",
    "        print(\"小了\")"
   ]
  },
  {
   "cell_type": "markdown",
   "metadata": {},
   "source": [
    "## Python数据结构\n",
    "- 列表\n",
    "- 元组\n",
    "- 字符串\n",
    "- 字典\n",
    "- 集合\n",
    "- 序列"
   ]
  },
  {
   "cell_type": "markdown",
   "metadata": {},
   "source": [
    "### "
   ]
  },
  {
   "cell_type": "code",
   "execution_count": null,
   "metadata": {},
   "outputs": [],
   "source": []
  },
  {
   "cell_type": "markdown",
   "metadata": {
    "ExecuteTime": {
     "end_time": "2021-11-03T11:21:10.365349Z",
     "start_time": "2021-11-03T11:21:10.304384Z"
    }
   },
   "source": [
    "## Python进阶\n",
    "- 函数\n",
    "- lambda表达式\n",
    "- 类与对象\n",
    "- 魔法方法"
   ]
  },
  {
   "cell_type": "markdown",
   "metadata": {},
   "source": [
    "# 数据分析基本思路\n",
    "> 数据分析基本流程：数据获取-->探索分析-->数据预处理-->挖掘建模-->模型评估  \n",
    "> 数据分析师的任务：描述-->解释-->预测-->控制  \n",
    "\n",
    "## SEMMA 范式（SAS 公司提出）\n",
    "1. **Sample**: 数据抽样，保证数据的效度和信度；  \n",
    "    - **效度**是指数据的准确性，也指选择的数据和分析目标及业务目标是吻合的；  \n",
    "    - **信度**是指数据的稳定性，要保证样本数据有代表性，且在一定周期内不能有过大的波动(否则模型不稳定)；  \n",
    "2. **Explore**: 数据特征探索及预处理，e.g. 看数据的分布情况、对数据进行标准化等；  \n",
    "3. **Modefy**: 明确问题、模型选择、方案调整；  \n",
    "4. **Model**: 执行建模方案；  \n",
    "5. **Assess**: 结果评估(准确性、稳定性、是否符合业务预期、效益如何)；  \n",
    "\n",
    "## CRISP-DM 范式\n",
    "1. **商业理解**：确定业务目标，评估现有资源，确定分析目标，制定解决方案；  \n",
    "2. **数据理解**：数据采集，探索分析，数据质量验证；  \n",
    "3. **数据准备**：筛选数据，数据清洗，整合数据，变量衍生；  \n",
    "4. **建立模型**：模型选择，检验设计，模型建立，结果评估；  \n",
    "5. **模型评估**：分析结果和业务目标匹配度确认，检查1-4步的执行过程，确定下一步行动；  \n",
    "6. **结果部署**：规划部署方案、监控和维护方案，输出项目报告，项目复盘；  \n"
   ]
  },
  {
   "cell_type": "markdown",
   "metadata": {},
   "source": [
    "## 数据报表\n",
    "> **数据报表的上线流程**：需求登记 --> 方案规划 --> 需求排期 --> 数据ETL--> 代码编写 --> 数据验证 --> 报表上线  \n"
   ]
  },
  {
   "cell_type": "markdown",
   "metadata": {},
   "source": [
    "### 分布转化\n",
    "> **电商APP转化漏斗**：注册-->登录-->浏览商品-->加购物车-->支付-->售后  \n",
    "> **用户运营理念**：在用户运营理念中有这样一个转化公式：路人-->用户-->粉丝-->员工，先把围观的感兴趣的路人转化为用户，轻度用户是产品的使用者，中度用户是产品的“追随者”，重度用户则会主动参与产品的功能反馈和改进建议，在这个转化过程中用户的参与度逐步提高。  \n"
   ]
  },
  {
   "cell_type": "markdown",
   "metadata": {
    "ExecuteTime": {
     "end_time": "2021-11-06T08:44:47.681925Z",
     "start_time": "2021-11-06T08:44:47.665933Z"
    }
   },
   "source": [
    "### 闭环迭代\n",
    "#### 闭环流程\n",
    "1. **事前方案规划**：确定目标，选定用户，制定方案，确定检验标准等；\n",
    "2. **事中执行监控**：实时数据监控（是否达到预期），不同方案赛马，备用方案启用等；\n",
    "3. **事后复盘总结**：对整个流程复盘，总结经验，CSS 归类（Continue做先前已验证的正确的事，Stop 做错误的事，Start 做新的正确的事）；\n",
    "\n",
    "### PDCA 闭环迭代框架\n",
    "- 计划(P)、实施(D)、检查(C)、总结(A)4个步骤，循环迭代，螺旋上升。\n",
    "- 在使用流程化思维时，除了常见的正向思考，也要逆向思考。\n",
    "<img style=\"float: center;\" src=\".\\figures\\PDCA.png\" width=\"50%\">\n",
    "<center>Fig. PDCA闭环迭代示意图</center>"
   ]
  },
  {
   "cell_type": "markdown",
   "metadata": {},
   "source": [
    "## 分类\n",
    "\n",
    "### 分类方法\n",
    "- **二分法**：非此即彼，e.g. 网站新客、老客，贷款审批结果分为通过申请、拒绝申请等；\n",
    "- **并列分类**：多个分类(子集)构成一个全集，e.g. 用户地域可以按省份划分，按年龄可以将用户分为70后、80后、90后、00后等，女性用户群体可以分为时尚丽人、都市白领、家庭主妇等；\n",
    "- **等级分类**：e.g. 会员等级——铁牌、铜牌、银牌、金牌、钻石、皇冠，城市等级——一线、二线、三线、四线；\n",
    "- **矩阵象限**：\n",
    "    - 波士顿矩阵\n",
    "    - RFM模型：消费时间间隔（Recency），消费频率（Frequency），消费金额（Monetary）\n",
    "<img style=\"float: center;\" src=\"./figures/RFM.jpg\" width=\"50%\">\n",
    "<center>Fig. RFM象限图</center>"
   ]
  },
  {
   "cell_type": "markdown",
   "metadata": {},
   "source": [
    "### 分类规则\n",
    "- 按主体分类\n",
    "> e.g. 按社会关系模型，用户角色可以是父母、配偶、子女、朋友等；  \n",
    "> e.g. 按照群体划分，可以分为一般情况和特殊情况、二八原则等；  \n",
    "- 按属性分类：依据主体（比如用户）的属性进行类别划分。\n",
    "> e.g. 用户画像时可以考虑以下属性：  \n",
    "> 1. 社会属性：收入水平、学历、职业、婚姻情况等  \n",
    "> 2. 位置属性：居住地、工作地、从手机端还是PC端登录等  \n",
    "> 3. 生物属性：年龄、性别、种族等  \n",
    "> 4. 心理属性：品牌偏好、购买行为、优惠偏好等  "
   ]
  },
  {
   "cell_type": "markdown",
   "metadata": {},
   "source": [
    "## 对比\n",
    "\n",
    "### 对比方法\n",
    "#### 横向对比：和其他对象比较\n",
    "- 和同类(竞品)比较\n",
    "- 实验对比\n",
    "- 和整体比较\n",
    "> 辛普森悖论：即两个样本单独得到的结论和样本合并后得到的结论相反。  \n",
    "> 幸存者偏差：即样本已经被容易忽略的因素筛选过。  \n",
    "\n",
    "#### 纵向对比：和自己的历史数据比较\n",
    "> 常见的纵向对比有同比和环比，对比的周期根据实际情况可以按日、周、月、季、年等。\n",
    "> 对比的时候，除了比较相对量，也要看绝对量，以合理地评估数据差异的大小。  \n",
    "> e.g. 0.5%的波动是大还是小，需要找参考点，如果历史波动最高也就0.1%，那么这个波动就很大。  \n",
    "> e.g. 公众号关注人数昨日环比增长20%(看着还不错)，实际上才增加4个人，截止前天也就20个人。  \n",
    "\n",
    "- **同比**\n",
    "- **环比**\n",
    "<img style=\"float: center;\" src=\".\\figures\\compare.png\" width=\"50%\">\n",
    "<center>Fig. 一个常用的多组对比柱状图</center>"
   ]
  },
  {
   "cell_type": "markdown",
   "metadata": {},
   "source": [
    "## 关联\n",
    "> 看数据指标要点、线、面（体）结合，看整个大环境中的因素之间相互作用  \n",
    "\n",
    "- **调节模型**\n",
    "<img style=\"float: center;\" src=\"./figures/adjust.png\" width=\"50%\">\n",
    "<center>Fig. 调节模型</center>\n",
    "\n",
    "X是自变量，Y是因变量，M是调节变量  \n",
    "寻找关联关系时，不仅仅要找出对Y有直接影响的X(一个或者多个)，还要找出影响X对Y作用的调节因素M。  "
   ]
  },
  {
   "cell_type": "markdown",
   "metadata": {},
   "source": [
    "- **同时关联**：多个因素(X)同时发生作用一起促成了现象(Y)的发生。\n",
    "> e.g. 电商网站销售的变化可能考虑的因素：  \n",
    "> 用户：用户结构是否发生变化，是否有新的注册渠道，新渠道导流进来的用户质量如何；  \n",
    "> 商品：品类结构是否有变化，e.g. 随着四季变化，服装类的种类也会发生变化；  \n",
    "> 产品：多少用户使用旧版本或者新版本，产品某个环节有没有改版，产品的策略(商品推荐策略等)是否有变化；  \n",
    "> 运营：前期的线上或者线下预热，商城的优惠力度，优惠涉及的人群等；  \n",
    "\n",
    "- **延时关联**：现象的产生可能存在延迟效应，要考虑当前现象(环节)的前置的“因”和后置的“果”。\n",
    "> e.g. 今天上线的营销方案可能在几天甚至几十天后才会有显著的效应，今天交易量上出现的波动也可能是因为一段时间前产品或者运营策略上有改动。"
   ]
  },
  {
   "cell_type": "markdown",
   "metadata": {},
   "source": [
    "## 层级\n",
    "> 培养结构化、系统化的思维  \n",
    "\n",
    "- 自上而下（拆解）：分级钻取，问题细化，复杂问题拆分为简单的小问题\n",
    "- 自下而上（组合）：拆解的逆过程，将小的指标组合成一个综合指标"
   ]
  },
  {
   "cell_type": "markdown",
   "metadata": {},
   "source": [
    "## 优化\n",
    "- **目标**：寻找解、寻找更优解\n",
    "    - 分析的最终目标无非两种：寻找解决方案，寻找更好的解决方案。\n",
    "- **评价**：稳准效\n",
    "    - 第一步是保证数据的准确性和稳定性，第二步就是优化，提高准确性、提高效率和效益。  \n",
    "- **优化的内涵**：\n",
    "    - 缩差：缩小当前和目标的差距，直到达成并超越目标；\n",
    "    - 效益最大化：在成本或者预算固定的前提下，使收益最大化。\n",
    "    \n",
    "### 缩小当前和目标的差距\n",
    "> e.g. 全公司各部门各业务线的同事们都在追逐和超越KPI的路上；  \n",
    "> e.g. 机器学习建模时，尝试多种方案，调试各种参数，使模型的精确度逐渐提高  \n",
    "\n",
    "<img style=\"float: center;\" src=\"./figures/goal.png\" width=\"50%\">\n",
    "<center>缩小当前和目标的差距</center>"
   ]
  },
  {
   "cell_type": "markdown",
   "metadata": {},
   "source": [
    "### 成本固定，最大化收益\n",
    "> 任何商业模式都是追逐利益的，首要目标是收益最大化，参考如下公式：  \n",
    "> 利润 = 收入 - 投入成本 - 风险损失  \n",
    "> 优化的过程就是寻找利润最大化的过程。  \n",
    "\n",
    "> e.g. 对于信用贷款产品而言，如果把“最安全”放在首位，那么极端的方式就是不给任何人发放贷款，这样就不会出现坏账了。正确的信贷模型思维是将坏账控制在业务上可以接受的范围内，并使利息覆盖坏账，进而最大化收益。  \n",
    "\n",
    "<img style=\"float: center;\" src=\"./figures/optim.png\" width=\"50%\">\n",
    "<center>Fig. 效益最大化</center>"
   ]
  },
  {
   "cell_type": "markdown",
   "metadata": {},
   "source": [
    "## Python 数据分析步骤\n",
    "1. **提出问题**：即我们所想要知道的指标（平均消费额、客户的年龄分布、营业额变化趋势等等）\n",
    "2. **导入数据**：把原始数据源导入Jupyter Notebook中（网络爬虫、数据读取等）\n",
    "3. **数据清洗**：数据清洗是指发现并纠正数据文件中可识别的错误（检查数据一致性，处理无效值和缺失值等）\n",
    "4. **构建模型**：高级的模型构建会使用机器学习的算法\n",
    "5. **数据可视化**：matplotib库等"
   ]
  },
  {
   "cell_type": "markdown",
   "metadata": {},
   "source": [
    "# 探索型数据分析（单因子分析）\n",
    "- 相关职位：数据分析师\n",
    "\n",
    "## 数据获取\n",
    "- 获取数据方法：\n",
    "    - 监测与抓取\n",
    "    - 填写、埋点、日志、计算\n",
    "\n",
    "- 样例数据集介绍：\n",
    "| Field | Description |\n",
    "| :--- | :--- |\n",
    "| statistion_level | 满意度（0~1） |\n",
    "| last_evaluation | 最近一次的评价（0~1） |\n",
    "| number_project | 接手项目数 |\n",
    "| average_montly_hours | 每月平均工作时长（小时） |\n",
    "| time_spend_company | 入职时长（年） |\n",
    "| work_accident | 是否有工作事故（boolean） |\n",
    "| left | 是否离职（boolean） |\n",
    "| promotion_last_5years | 近5年是否有晋升（boolean） |\n",
    "| department | 所属部门 |\n",
    "| salary | 薪资（low, medium, high） |\n"
   ]
  },
  {
   "cell_type": "markdown",
   "metadata": {},
   "source": [
    "## 探索分析与可视化\n",
    "### 描述性统计\n",
    "- 空值：isnull()\n",
    "- 描述性统计：df.describe()\n",
    "- 均值：mean()\n",
    "- 标准差、方差：std(), var()\n",
    "- 中位数：median()\n",
    "- 最大值：max()\n",
    "- 最小值：min()\n",
    "- 偏度：skew()\n",
    "- 峰度：kurt()\n",
    "- 分位数：\n",
    "```py\n",
    "# 下四分位数\n",
    "q_low = dat.quantile(q=0.25)\n",
    "# 上四分位数\n",
    "q_high = dat.quantile(q=0.75)\n",
    "# 四分位间距\n",
    "q_interval = q_high - q_low\n",
    "# 形变\n",
    "k = 1.5\n",
    "# 筛选去除异常数据\n",
    "dat = dat[dat<q_high+k*q_interval][dat>q_low-k*q_interval]\n",
    "```\n"
   ]
  },
  {
   "cell_type": "markdown",
   "metadata": {},
   "source": [
    "## 可视化分析\n",
    "- 可视化工具：matpltlib, seaborn, plotly\n",
    "```py\n",
    "## 可视化分析库\n",
    "import seaborn as sns\n",
    "import matpltlib.pyplot as plt\n",
    "```\n"
   ]
  },
  {
   "cell_type": "code",
   "execution_count": 1,
   "metadata": {
    "ExecuteTime": {
     "end_time": "2021-11-23T06:17:24.932693Z",
     "start_time": "2021-11-23T06:17:23.724319Z"
    }
   },
   "outputs": [],
   "source": [
    "## 数值计算库\n",
    "import numpy as np\n",
    "import pandas as pd\n"
   ]
  },
  {
   "cell_type": "code",
   "execution_count": 2,
   "metadata": {
    "ExecuteTime": {
     "end_time": "2021-11-11T03:37:16.918957Z",
     "start_time": "2021-11-11T03:37:14.622871Z"
    }
   },
   "outputs": [],
   "source": [
    "## 可视化库\n",
    "import matplotlib.pyplot as plt\n",
    "import seaborn as sns\n"
   ]
  },
  {
   "cell_type": "code",
   "execution_count": 2,
   "metadata": {
    "ExecuteTime": {
     "end_time": "2021-11-23T06:17:56.282713Z",
     "start_time": "2021-11-23T06:17:56.221745Z"
    }
   },
   "outputs": [
    {
     "data": {
      "text/html": [
       "<div>\n",
       "<style scoped>\n",
       "    .dataframe tbody tr th:only-of-type {\n",
       "        vertical-align: middle;\n",
       "    }\n",
       "\n",
       "    .dataframe tbody tr th {\n",
       "        vertical-align: top;\n",
       "    }\n",
       "\n",
       "    .dataframe thead th {\n",
       "        text-align: right;\n",
       "    }\n",
       "</style>\n",
       "<table border=\"1\" class=\"dataframe\">\n",
       "  <thead>\n",
       "    <tr style=\"text-align: right;\">\n",
       "      <th></th>\n",
       "      <th>satisfaction_level</th>\n",
       "      <th>last_evaluation</th>\n",
       "      <th>number_project</th>\n",
       "      <th>average_monthly_hours</th>\n",
       "      <th>time_spend_company</th>\n",
       "      <th>Work_accident</th>\n",
       "      <th>left</th>\n",
       "      <th>promotion_last_5years</th>\n",
       "      <th>Department</th>\n",
       "      <th>salary</th>\n",
       "    </tr>\n",
       "  </thead>\n",
       "  <tbody>\n",
       "    <tr>\n",
       "      <th>0</th>\n",
       "      <td>0.38</td>\n",
       "      <td>0.53</td>\n",
       "      <td>2</td>\n",
       "      <td>157</td>\n",
       "      <td>3</td>\n",
       "      <td>0</td>\n",
       "      <td>1</td>\n",
       "      <td>0</td>\n",
       "      <td>sales</td>\n",
       "      <td>low</td>\n",
       "    </tr>\n",
       "    <tr>\n",
       "      <th>1</th>\n",
       "      <td>0.80</td>\n",
       "      <td>0.86</td>\n",
       "      <td>5</td>\n",
       "      <td>262</td>\n",
       "      <td>6</td>\n",
       "      <td>0</td>\n",
       "      <td>1</td>\n",
       "      <td>0</td>\n",
       "      <td>sales</td>\n",
       "      <td>medium</td>\n",
       "    </tr>\n",
       "    <tr>\n",
       "      <th>2</th>\n",
       "      <td>0.11</td>\n",
       "      <td>0.88</td>\n",
       "      <td>7</td>\n",
       "      <td>272</td>\n",
       "      <td>4</td>\n",
       "      <td>0</td>\n",
       "      <td>1</td>\n",
       "      <td>0</td>\n",
       "      <td>sales</td>\n",
       "      <td>medium</td>\n",
       "    </tr>\n",
       "    <tr>\n",
       "      <th>3</th>\n",
       "      <td>0.72</td>\n",
       "      <td>0.87</td>\n",
       "      <td>5</td>\n",
       "      <td>223</td>\n",
       "      <td>5</td>\n",
       "      <td>0</td>\n",
       "      <td>1</td>\n",
       "      <td>0</td>\n",
       "      <td>sales</td>\n",
       "      <td>low</td>\n",
       "    </tr>\n",
       "    <tr>\n",
       "      <th>4</th>\n",
       "      <td>0.37</td>\n",
       "      <td>0.52</td>\n",
       "      <td>2</td>\n",
       "      <td>159</td>\n",
       "      <td>3</td>\n",
       "      <td>0</td>\n",
       "      <td>1</td>\n",
       "      <td>0</td>\n",
       "      <td>sales</td>\n",
       "      <td>low</td>\n",
       "    </tr>\n",
       "  </tbody>\n",
       "</table>\n",
       "</div>"
      ],
      "text/plain": [
       "   satisfaction_level  last_evaluation  number_project  average_monthly_hours  \\\n",
       "0                0.38             0.53               2                    157   \n",
       "1                0.80             0.86               5                    262   \n",
       "2                0.11             0.88               7                    272   \n",
       "3                0.72             0.87               5                    223   \n",
       "4                0.37             0.52               2                    159   \n",
       "\n",
       "   time_spend_company  Work_accident  left  promotion_last_5years Department  \\\n",
       "0                   3              0     1                      0      sales   \n",
       "1                   6              0     1                      0      sales   \n",
       "2                   4              0     1                      0      sales   \n",
       "3                   5              0     1                      0      sales   \n",
       "4                   3              0     1                      0      sales   \n",
       "\n",
       "   salary  \n",
       "0     low  \n",
       "1  medium  \n",
       "2  medium  \n",
       "3     low  \n",
       "4     low  "
      ]
     },
     "execution_count": 2,
     "metadata": {},
     "output_type": "execute_result"
    }
   ],
   "source": [
    "df = pd.read_csv(\".//datasets//HR_comma_sep.csv\")\n",
    "df.head()"
   ]
  },
  {
   "cell_type": "code",
   "execution_count": 3,
   "metadata": {
    "ExecuteTime": {
     "end_time": "2021-11-23T06:18:23.261433Z",
     "start_time": "2021-11-23T06:18:23.192476Z"
    }
   },
   "outputs": [
    {
     "data": {
      "text/html": [
       "<div>\n",
       "<style scoped>\n",
       "    .dataframe tbody tr th:only-of-type {\n",
       "        vertical-align: middle;\n",
       "    }\n",
       "\n",
       "    .dataframe tbody tr th {\n",
       "        vertical-align: top;\n",
       "    }\n",
       "\n",
       "    .dataframe thead th {\n",
       "        text-align: right;\n",
       "    }\n",
       "</style>\n",
       "<table border=\"1\" class=\"dataframe\">\n",
       "  <thead>\n",
       "    <tr style=\"text-align: right;\">\n",
       "      <th></th>\n",
       "      <th>satisfaction_level</th>\n",
       "      <th>last_evaluation</th>\n",
       "      <th>number_project</th>\n",
       "      <th>average_monthly_hours</th>\n",
       "      <th>time_spend_company</th>\n",
       "      <th>Work_accident</th>\n",
       "      <th>left</th>\n",
       "      <th>promotion_last_5years</th>\n",
       "    </tr>\n",
       "  </thead>\n",
       "  <tbody>\n",
       "    <tr>\n",
       "      <th>count</th>\n",
       "      <td>14999.000000</td>\n",
       "      <td>14999.000000</td>\n",
       "      <td>14999.000000</td>\n",
       "      <td>14999.000000</td>\n",
       "      <td>14999.000000</td>\n",
       "      <td>14999.000000</td>\n",
       "      <td>14999.000000</td>\n",
       "      <td>14999.000000</td>\n",
       "    </tr>\n",
       "    <tr>\n",
       "      <th>mean</th>\n",
       "      <td>0.612834</td>\n",
       "      <td>0.716102</td>\n",
       "      <td>3.803054</td>\n",
       "      <td>201.050337</td>\n",
       "      <td>3.498233</td>\n",
       "      <td>0.144610</td>\n",
       "      <td>0.238083</td>\n",
       "      <td>0.021268</td>\n",
       "    </tr>\n",
       "    <tr>\n",
       "      <th>std</th>\n",
       "      <td>0.248631</td>\n",
       "      <td>0.171169</td>\n",
       "      <td>1.232592</td>\n",
       "      <td>49.943099</td>\n",
       "      <td>1.460136</td>\n",
       "      <td>0.351719</td>\n",
       "      <td>0.425924</td>\n",
       "      <td>0.144281</td>\n",
       "    </tr>\n",
       "    <tr>\n",
       "      <th>min</th>\n",
       "      <td>0.090000</td>\n",
       "      <td>0.360000</td>\n",
       "      <td>2.000000</td>\n",
       "      <td>96.000000</td>\n",
       "      <td>2.000000</td>\n",
       "      <td>0.000000</td>\n",
       "      <td>0.000000</td>\n",
       "      <td>0.000000</td>\n",
       "    </tr>\n",
       "    <tr>\n",
       "      <th>25%</th>\n",
       "      <td>0.440000</td>\n",
       "      <td>0.560000</td>\n",
       "      <td>3.000000</td>\n",
       "      <td>156.000000</td>\n",
       "      <td>3.000000</td>\n",
       "      <td>0.000000</td>\n",
       "      <td>0.000000</td>\n",
       "      <td>0.000000</td>\n",
       "    </tr>\n",
       "    <tr>\n",
       "      <th>50%</th>\n",
       "      <td>0.640000</td>\n",
       "      <td>0.720000</td>\n",
       "      <td>4.000000</td>\n",
       "      <td>200.000000</td>\n",
       "      <td>3.000000</td>\n",
       "      <td>0.000000</td>\n",
       "      <td>0.000000</td>\n",
       "      <td>0.000000</td>\n",
       "    </tr>\n",
       "    <tr>\n",
       "      <th>75%</th>\n",
       "      <td>0.820000</td>\n",
       "      <td>0.870000</td>\n",
       "      <td>5.000000</td>\n",
       "      <td>245.000000</td>\n",
       "      <td>4.000000</td>\n",
       "      <td>0.000000</td>\n",
       "      <td>0.000000</td>\n",
       "      <td>0.000000</td>\n",
       "    </tr>\n",
       "    <tr>\n",
       "      <th>max</th>\n",
       "      <td>1.000000</td>\n",
       "      <td>1.000000</td>\n",
       "      <td>7.000000</td>\n",
       "      <td>310.000000</td>\n",
       "      <td>10.000000</td>\n",
       "      <td>1.000000</td>\n",
       "      <td>1.000000</td>\n",
       "      <td>1.000000</td>\n",
       "    </tr>\n",
       "  </tbody>\n",
       "</table>\n",
       "</div>"
      ],
      "text/plain": [
       "       satisfaction_level  last_evaluation  number_project  \\\n",
       "count        14999.000000     14999.000000    14999.000000   \n",
       "mean             0.612834         0.716102        3.803054   \n",
       "std              0.248631         0.171169        1.232592   \n",
       "min              0.090000         0.360000        2.000000   \n",
       "25%              0.440000         0.560000        3.000000   \n",
       "50%              0.640000         0.720000        4.000000   \n",
       "75%              0.820000         0.870000        5.000000   \n",
       "max              1.000000         1.000000        7.000000   \n",
       "\n",
       "       average_monthly_hours  time_spend_company  Work_accident          left  \\\n",
       "count           14999.000000        14999.000000   14999.000000  14999.000000   \n",
       "mean              201.050337            3.498233       0.144610      0.238083   \n",
       "std                49.943099            1.460136       0.351719      0.425924   \n",
       "min                96.000000            2.000000       0.000000      0.000000   \n",
       "25%               156.000000            3.000000       0.000000      0.000000   \n",
       "50%               200.000000            3.000000       0.000000      0.000000   \n",
       "75%               245.000000            4.000000       0.000000      0.000000   \n",
       "max               310.000000           10.000000       1.000000      1.000000   \n",
       "\n",
       "       promotion_last_5years  \n",
       "count           14999.000000  \n",
       "mean                0.021268  \n",
       "std                 0.144281  \n",
       "min                 0.000000  \n",
       "25%                 0.000000  \n",
       "50%                 0.000000  \n",
       "75%                 0.000000  \n",
       "max                 1.000000  "
      ]
     },
     "execution_count": 3,
     "metadata": {},
     "output_type": "execute_result"
    }
   ],
   "source": [
    "df.describe() # 描述性统计"
   ]
  },
  {
   "cell_type": "markdown",
   "metadata": {},
   "source": [
    "### 条形图"
   ]
  },
  {
   "cell_type": "code",
   "execution_count": 9,
   "metadata": {
    "ExecuteTime": {
     "end_time": "2021-11-11T03:38:12.772895Z",
     "start_time": "2021-11-11T03:38:12.070300Z"
    }
   },
   "outputs": [
    {
     "data": {
      "image/png": "[encoded data removed]",
      "text/plain": [
       "<Figure size 432x288 with 1 Axes>"
      ]
     },
     "metadata": {
      "needs_background": "light"
     },
     "output_type": "display_data"
    }
   ],
   "source": [
    "## seaborn 柱状图 countplot\n",
    "## 设置显示效果：背景、样式、颜色等\n",
    "# sns.set_style(style=\"whitegrid\") # 背景\n",
    "# sns.set_context(context=\"poster\", font_scale=0.8) # 字体字号\n",
    "# sns.set_palette(sns.color_palette(\"RdBu\", n_colors=7)) # 颜色\n",
    "## 绘制条形图\n",
    "sns.countplot(x=\"salary\", hue=\"Department\", data=df)\n",
    "plt.show()\n"
   ]
  },
  {
   "cell_type": "code",
   "execution_count": 10,
   "metadata": {
    "ExecuteTime": {
     "end_time": "2021-11-11T03:38:18.701820Z",
     "start_time": "2021-11-11T03:38:18.416983Z"
    }
   },
   "outputs": [
    {
     "data": {
      "image/png": "[encoded data removed]",
      "text/plain": [
       "<Figure size 432x288 with 1 Axes>"
      ]
     },
     "metadata": {
      "needs_background": "light"
     },
     "output_type": "display_data"
    }
   ],
   "source": [
    "## 可视化\n",
    "## 设置显示效果：背景、样式、颜色等\n",
    "# sns.set_style(style=\"whitegrid\") # 背景样式\n",
    "# sns.set_context(context=\"poster\", font_scale=0.7) # 字体字号\n",
    "# sns.set_palette([sns.color_palette(\"RdBu\", n_colors=7)[5]]) # 柱条颜色\n",
    "## matplotlib 柱状图 bar\n",
    "## 绘制条形图 bar(), barh()\n",
    "plt.title(\"SALARY\") # 标题\n",
    "plt.xlabel(\"Salary\") # X 轴注释\n",
    "plt.ylabel(\"Number\") # Y 轴注释\n",
    "plt.xticks(np.arange(len(df[\"salary\"].value_counts()))+0.5, df[\"salary\"].value_counts().index)\n",
    "plt.axis([0,4,0,10000])\n",
    "plt.bar(np.arange(len(df[\"salary\"].value_counts()))+0.5, df[\"salary\"].value_counts(), width=0.5)\n",
    "for x,y in zip(np.arange(len(df[\"salary\"].value_counts()))+0.5, df[\"salary\"].value_counts()):\n",
    "    plt.text(x,y,y,ha=\"center\",va=\"bottom\")\n",
    "plt.show()\n"
   ]
  },
  {
   "cell_type": "markdown",
   "metadata": {
    "ExecuteTime": {
     "end_time": "2021-11-10T13:21:40.079312Z",
     "start_time": "2021-11-10T13:15:08.737Z"
    }
   },
   "source": [
    "### 直方图"
   ]
  },
  {
   "cell_type": "code",
   "execution_count": 21,
   "metadata": {
    "ExecuteTime": {
     "end_time": "2021-11-11T03:46:48.052908Z",
     "start_time": "2021-11-11T03:46:47.141005Z"
    }
   },
   "outputs": [
    {
     "name": "stderr",
     "output_type": "stream",
     "text": [
      "c:\\programdata\\miniconda3\\lib\\site-packages\\seaborn\\distributions.py:2557: FutureWarning: `distplot` is a deprecated function and will be removed in a future version. Please adapt your code to use either `displot` (a figure-level function with similar flexibility) or `histplot` (an axes-level function for histograms).\n",
      "  warnings.warn(msg, FutureWarning)\n",
      "c:\\programdata\\miniconda3\\lib\\site-packages\\seaborn\\distributions.py:2557: FutureWarning: `distplot` is a deprecated function and will be removed in a future version. Please adapt your code to use either `displot` (a figure-level function with similar flexibility) or `histplot` (an axes-level function for histograms).\n",
      "  warnings.warn(msg, FutureWarning)\n",
      "c:\\programdata\\miniconda3\\lib\\site-packages\\seaborn\\distributions.py:2557: FutureWarning: `distplot` is a deprecated function and will be removed in a future version. Please adapt your code to use either `displot` (a figure-level function with similar flexibility) or `histplot` (an axes-level function for histograms).\n",
      "  warnings.warn(msg, FutureWarning)\n"
     ]
    },
    {
     "data": {
      "image/png": "[encoded data removed]",
      "text/plain": [
       "<Figure size 432x288 with 3 Axes>"
      ]
     },
     "metadata": {
      "needs_background": "light"
     },
     "output_type": "display_data"
    }
   ],
   "source": [
    "## seaborn 直方图 distplot\n",
    "f = plt.figure()\n",
    "# plt.subplots_adjust(wspace=0.8, hspace=0.8) # 调整子图格式\n",
    "f.add_subplot(1,3,1)\n",
    "sns.distplot(df[\"satisfaction_level\"], bins=10) # kde=True, hist=True\n",
    "f.add_subplot(1,3,2)\n",
    "sns.distplot(df[\"last_evaluation\"], bins=10)\n",
    "f.add_subplot(1,3,3)\n",
    "sns.distplot(df[\"average_monthly_hours\"], bins=10)\n",
    "plt.show()\n"
   ]
  },
  {
   "cell_type": "markdown",
   "metadata": {},
   "source": [
    "### 箱线图"
   ]
  },
  {
   "cell_type": "code",
   "execution_count": 6,
   "metadata": {
    "ExecuteTime": {
     "end_time": "2021-11-11T03:37:36.817352Z",
     "start_time": "2021-11-11T03:37:36.570496Z"
    }
   },
   "outputs": [
    {
     "data": {
      "image/png": "[encoded data removed]",
      "text/plain": [
       "<Figure size 432x288 with 1 Axes>"
      ]
     },
     "metadata": {
      "needs_background": "light"
     },
     "output_type": "display_data"
    }
   ],
   "source": [
    "## BOX PLOT\n",
    "sns.boxplot(y=df[\"time_spend_company\"])\n",
    "plt.show()\n"
   ]
  },
  {
   "cell_type": "markdown",
   "metadata": {},
   "source": [
    "### 折线图"
   ]
  },
  {
   "cell_type": "code",
   "execution_count": 7,
   "metadata": {
    "ExecuteTime": {
     "end_time": "2021-11-11T03:37:41.160496Z",
     "start_time": "2021-11-11T03:37:40.315576Z"
    }
   },
   "outputs": [
    {
     "data": {
      "image/png": "[encoded data removed]",
      "text/plain": [
       "<Figure size 432x288 with 1 Axes>"
      ]
     },
     "metadata": {
      "needs_background": "light"
     },
     "output_type": "display_data"
    }
   ],
   "source": [
    "## LINE PLOT (POINT PLOT)\n",
    "# sub_df = df.groupby(\"time_spend_company\").mean()\n",
    "# sns.pointplot(sub_df.index, sub_df[\"left\"])\n",
    "sns.pointplot(x=\"time_spend_company\", y=\"left\", data=df)\n",
    "plt.show()\n"
   ]
  },
  {
   "cell_type": "markdown",
   "metadata": {
    "ExecuteTime": {
     "end_time": "2021-11-10T14:39:35.831926Z",
     "start_time": "2021-11-10T14:39:35.821933Z"
    }
   },
   "source": [
    "### 饼图"
   ]
  },
  {
   "cell_type": "code",
   "execution_count": 8,
   "metadata": {
    "ExecuteTime": {
     "end_time": "2021-11-11T03:37:45.610396Z",
     "start_time": "2021-11-11T03:37:45.308567Z"
    }
   },
   "outputs": [
    {
     "data": {
      "image/png": "[encoded data removed]",
      "text/plain": [
       "<Figure size 432x288 with 1 Axes>"
      ]
     },
     "metadata": {},
     "output_type": "display_data"
    }
   ],
   "source": [
    "## PIE\n",
    "lbs = df[\"Department\"].value_counts().index\n",
    "explodes = [0.1 if i==\"sales\" else 0 for i in lbs] # 突出显示 sales\n",
    "plt.pie(df[\"Department\"].value_counts(normalize=True), explode=explodes, labels=lbs, autopct=\"%1.1f%%\", colors=sns.color_palette(\"Reds\"))\n",
    "plt.show()\n"
   ]
  },
  {
   "cell_type": "markdown",
   "metadata": {},
   "source": [
    "# 探索型数据分析（多因子与复合分析）\n",
    "- 假设检验与方差分析\n",
    "- 相关系数：皮尔逊、斯皮尔曼\n",
    "- 回归：线性回归\n",
    "- PCA与奇异值分解\n",
    "\n",
    "## 假设检验\n",
    "1. 建立原假设 $H_0$\n",
    "2. 选择统计量\n",
    "3. 显著性水平 $\\alpha$ ：一般为 0.05\n",
    "4. 计算 $p$ 值，做出判断：$p<\\alpha$ 则拒绝原假设 $H_0$（多采取双边检验）\n",
    "\n",
    "## 卡方检验\n",
    "- 卡方检验：$$\\chi ^2 = \\sum ^{k}_{i=1}\\frac{(f_i-np_i)^2}{np_i}$$\n",
    "\n",
    "## 方差检验（F 检验）\n",
    "### 单因素方差分析\n",
    "- m：组数 n：采样数\n",
    "- 离差平方和：$$SST = \\sum^{m}_{i=1}\\sum^{n_i}_{j=1}(x_{ij}-\\bar{x})^2$$\n",
    "- 组间平方和：$$SSM = \\sum^{m}_{i=1}\\sum^{n_i}_{j=1}(x_{i}-\\bar{x})^2$$\n",
    "- 残差平方和：$$SSE = \\sum^{m}_{i=1}\\sum^{n_i}_{j=1}(x_{i}-\\bar{x_i})^2$$\n",
    "- F 分布：$$F = \\frac{SSM/(m-1)}{SSE/(n-m)}$$\n",
    "- p值：查表得 $p_{value}$\n",
    "\n",
    "## 相关系数\n",
    "### 皮尔逊相关系数（Pearson correlation coefficient）\n",
    "- 皮尔逊相关系数：\n",
    "$$\\gamma(X,Y) = \\frac{Cov(X,Y)}{\\sigma_x\\sigma_y} = \\frac{E[(X-\\mu_x)(Y-\\mu_y)]}{\\sigma_x\\sigma_y}$$\n",
    "\n",
    "### 斯皮尔曼相关系数（Spearman correlation coefficient）\n",
    "- 斯皮尔曼相关系数：\n",
    "$$\\rho_s = 1-\\frac{6\\sum d^{2}_{i}}{n(n^2-1)}$$\n",
    "\n",
    "## 线性回归\n",
    "- 线性回归：\n",
    "<img style=\"float: center;\" src=\"./figures/线性回归.png\" width=\"50%\">\n",
    "<center>Fig. 线性回归</center>\n",
    "\n",
    "- 线性回归检验：\n",
    "<img style=\"float: center;\" src=\"./figures/线型回归检验.png\" width=\"50%\">\n",
    "<center>Fig. 线型回归检验</center>\n",
    "\n",
    "\n",
    "## 数据降维\n",
    "### 主成分分析（PCA）\n",
    "- 求特征协方差矩阵\n",
    "- 求协方差的特征值和特征向量\n",
    "- 求贡献率和累计贡献率\n",
    "\n",
    "### 奇异值分解（SVD）\n",
    "- 奇异值分解：特征矩阵 $A$ 分解为 $m*n$ 的酉矩阵 $U$，$m*n$ 半正定矩阵（奇异值阵），$n*n$ 酉矩阵转置 $V$\n",
    "$$A = U\\sum V^T$$\n",
    "$$A_{m*n} \\approx U_{m*r}\\Sigma_{r*r}V^{T}_{r*n}$$\n",
    "$$U^T_{r*m}A_{m*n} = \\Sigma_{r*r}V^T_{r*n}$$\n",
    "\n"
   ]
  },
  {
   "cell_type": "code",
   "execution_count": 4,
   "metadata": {
    "ExecuteTime": {
     "end_time": "2021-11-23T06:21:54.469623Z",
     "start_time": "2021-11-23T06:21:53.356405Z"
    }
   },
   "outputs": [],
   "source": [
    "## 导包\n",
    "import numpy as np # 数值计算\n",
    "import scipy.stats as ss # 统计学习"
   ]
  },
  {
   "cell_type": "code",
   "execution_count": 3,
   "metadata": {
    "ExecuteTime": {
     "end_time": "2021-11-14T07:17:57.104649Z",
     "start_time": "2021-11-14T07:17:57.082663Z"
    }
   },
   "outputs": [
    {
     "data": {
      "text/plain": [
       "array([ 1.58293905e+00, -3.46614180e-01,  1.00016597e-01,  1.75900544e-01,\n",
       "        2.29356018e-01, -8.67822352e-01,  8.01560604e-01, -1.21125680e+00,\n",
       "        1.31402495e+00, -4.12232898e-01, -1.20955658e+00, -6.44130978e-01,\n",
       "       -5.24010532e-01, -4.09730365e-01,  1.45975343e+00, -1.18075143e-03,\n",
       "        1.46505255e-01, -6.66747028e-01, -1.67423261e-01, -8.30656464e-02])"
      ]
     },
     "execution_count": 3,
     "metadata": {},
     "output_type": "execute_result"
    }
   ],
   "source": [
    "norm_dist = ss.norm.rvs(size=20) # 构造一个正太分布\n",
    "norm_dist"
   ]
  },
  {
   "cell_type": "code",
   "execution_count": 4,
   "metadata": {
    "ExecuteTime": {
     "end_time": "2021-11-14T07:18:25.974545Z",
     "start_time": "2021-11-14T07:18:25.946563Z"
    }
   },
   "outputs": [
    {
     "data": {
      "text/plain": [
       "NormaltestResult(statistic=1.8833837477228677, pvalue=0.3899675010929851)"
      ]
     },
     "execution_count": 4,
     "metadata": {},
     "output_type": "execute_result"
    }
   ],
   "source": [
    "ss.normaltest(norm_dist) # 正太检验"
   ]
  },
  {
   "cell_type": "code",
   "execution_count": 5,
   "metadata": {
    "ExecuteTime": {
     "end_time": "2021-11-14T07:21:06.043895Z",
     "start_time": "2021-11-14T07:21:06.004918Z"
    }
   },
   "outputs": [
    {
     "data": {
      "text/plain": [
       "(126.08080808080808,\n",
       " 2.9521414005078985e-29,\n",
       " 1,\n",
       " array([[55., 55.],\n",
       "        [45., 45.]]))"
      ]
     },
     "execution_count": 5,
     "metadata": {},
     "output_type": "execute_result"
    }
   ],
   "source": [
    "ss.chi2_contingency([[15,95],[85,5]]) # 卡方检验"
   ]
  },
  {
   "cell_type": "code",
   "execution_count": 6,
   "metadata": {
    "ExecuteTime": {
     "end_time": "2021-11-14T07:23:55.963900Z",
     "start_time": "2021-11-14T07:23:55.944912Z"
    }
   },
   "outputs": [
    {
     "data": {
      "text/plain": [
       "Ttest_indResult(statistic=-1.6236798560898165, pvalue=0.11565048036647108)"
      ]
     },
     "execution_count": 6,
     "metadata": {},
     "output_type": "execute_result"
    }
   ],
   "source": [
    "ss.ttest_ind(ss.norm.rvs(size=10), ss.norm.rvs(size=20)) # t检验"
   ]
  },
  {
   "cell_type": "code",
   "execution_count": 7,
   "metadata": {
    "ExecuteTime": {
     "end_time": "2021-11-14T07:27:21.132076Z",
     "start_time": "2021-11-14T07:27:21.115091Z"
    }
   },
   "outputs": [
    {
     "data": {
      "text/plain": [
       "F_onewayResult(statistic=16.71888111888112, pvalue=0.00033930156922179407)"
      ]
     },
     "execution_count": 7,
     "metadata": {},
     "output_type": "execute_result"
    }
   ],
   "source": [
    "ss.f_oneway([49,50,39,40,43],[28,32,20,26,34],[38,40,45,42,48]) # 方差检验"
   ]
  },
  {
   "cell_type": "code",
   "execution_count": 8,
   "metadata": {
    "ExecuteTime": {
     "end_time": "2021-11-14T07:29:00.098430Z",
     "start_time": "2021-11-14T07:28:59.229433Z"
    }
   },
   "outputs": [],
   "source": [
    "from statsmodels.graphics.api import qqplot\n",
    "from matplotlib import pyplot as plt"
   ]
  },
  {
   "cell_type": "code",
   "execution_count": 9,
   "metadata": {
    "ExecuteTime": {
     "end_time": "2021-11-14T07:30:01.421492Z",
     "start_time": "2021-11-14T07:30:00.974750Z"
    }
   },
   "outputs": [
    {
     "data": {
      "image/png": "[encoded data removed]",
      "text/plain": [
       "<Figure size 432x288 with 1 Axes>"
      ]
     },
     "metadata": {
      "needs_background": "light"
     },
     "output_type": "display_data"
    }
   ],
   "source": [
    "plt.show(qqplot(ss.norm.rvs(size=100))) # QQ图（默认检验正太分布）"
   ]
  },
  {
   "cell_type": "code",
   "execution_count": 10,
   "metadata": {
    "ExecuteTime": {
     "end_time": "2021-11-14T07:30:51.237257Z",
     "start_time": "2021-11-14T07:30:51.220274Z"
    }
   },
   "outputs": [],
   "source": [
    "import pandas as pd"
   ]
  },
  {
   "cell_type": "code",
   "execution_count": 11,
   "metadata": {
    "ExecuteTime": {
     "end_time": "2021-11-14T07:33:26.879287Z",
     "start_time": "2021-11-14T07:33:26.855300Z"
    }
   },
   "outputs": [
    {
     "data": {
      "text/plain": [
       "0.9333729600465923"
      ]
     },
     "execution_count": 11,
     "metadata": {},
     "output_type": "execute_result"
    }
   ],
   "source": [
    "s1 = pd.Series([0.1,0.2,1.1,2.4,1.3,0.3,0.5])\n",
    "s2 = pd.Series([0.5,0.4,1.2,2.5,1.1,0.7,0.1])\n",
    "s1.corr(s2)"
   ]
  },
  {
   "cell_type": "code",
   "execution_count": 12,
   "metadata": {
    "ExecuteTime": {
     "end_time": "2021-11-14T07:34:00.916734Z",
     "start_time": "2021-11-14T07:34:00.895746Z"
    }
   },
   "outputs": [
    {
     "data": {
      "text/plain": [
       "0.7142857142857144"
      ]
     },
     "execution_count": 12,
     "metadata": {},
     "output_type": "execute_result"
    }
   ],
   "source": [
    "s1.corr(s2, method=\"spearman\")"
   ]
  },
  {
   "cell_type": "code",
   "execution_count": 16,
   "metadata": {
    "ExecuteTime": {
     "end_time": "2021-11-14T07:37:58.595473Z",
     "start_time": "2021-11-14T07:37:58.558466Z"
    }
   },
   "outputs": [
    {
     "data": {
      "text/html": [
       "<div>\n",
       "<style scoped>\n",
       "    .dataframe tbody tr th:only-of-type {\n",
       "        vertical-align: middle;\n",
       "    }\n",
       "\n",
       "    .dataframe tbody tr th {\n",
       "        vertical-align: top;\n",
       "    }\n",
       "\n",
       "    .dataframe thead th {\n",
       "        text-align: right;\n",
       "    }\n",
       "</style>\n",
       "<table border=\"1\" class=\"dataframe\">\n",
       "  <thead>\n",
       "    <tr style=\"text-align: right;\">\n",
       "      <th></th>\n",
       "      <th>0</th>\n",
       "      <th>1</th>\n",
       "    </tr>\n",
       "  </thead>\n",
       "  <tbody>\n",
       "    <tr>\n",
       "      <th>0</th>\n",
       "      <td>1.000000</td>\n",
       "      <td>0.933373</td>\n",
       "    </tr>\n",
       "    <tr>\n",
       "      <th>1</th>\n",
       "      <td>0.933373</td>\n",
       "      <td>1.000000</td>\n",
       "    </tr>\n",
       "  </tbody>\n",
       "</table>\n",
       "</div>"
      ],
      "text/plain": [
       "          0         1\n",
       "0  1.000000  0.933373\n",
       "1  0.933373  1.000000"
      ]
     },
     "execution_count": 16,
     "metadata": {},
     "output_type": "execute_result"
    }
   ],
   "source": [
    "# df = pd.DataFrame([s1, s2])\n",
    "df = pd.DataFrame(np.array([s1,s2]).T) # 转置\n",
    "df.corr() # 对列进行相关性计算"
   ]
  },
  {
   "cell_type": "code",
   "execution_count": 17,
   "metadata": {
    "ExecuteTime": {
     "end_time": "2021-11-14T07:40:37.270952Z",
     "start_time": "2021-11-14T07:40:37.252963Z"
    }
   },
   "outputs": [],
   "source": [
    "x = np.arange(10).astype(np.float).reshape(10,1) # 强制类型转换\n",
    "y = x*3 + 4 + np.random.random((10,1)) # np.random.random(()) 是引入的噪声"
   ]
  },
  {
   "cell_type": "code",
   "execution_count": 18,
   "metadata": {
    "ExecuteTime": {
     "end_time": "2021-11-14T07:41:17.674976Z",
     "start_time": "2021-11-14T07:41:17.657992Z"
    }
   },
   "outputs": [],
   "source": [
    "from sklearn.linear_model import LinearRegression # 线性回归"
   ]
  },
  {
   "cell_type": "code",
   "execution_count": 21,
   "metadata": {
    "ExecuteTime": {
     "end_time": "2021-11-14T07:49:04.643835Z",
     "start_time": "2021-11-14T07:49:04.617842Z"
    }
   },
   "outputs": [
    {
     "data": {
      "text/plain": [
       "array([[ 4.43325425],\n",
       "       [ 7.42625884],\n",
       "       [10.41926343],\n",
       "       [13.41226802],\n",
       "       [16.4052726 ],\n",
       "       [19.39827719],\n",
       "       [22.39128178],\n",
       "       [25.38428637],\n",
       "       [28.37729095],\n",
       "       [31.37029554]])"
      ]
     },
     "execution_count": 21,
     "metadata": {},
     "output_type": "execute_result"
    }
   ],
   "source": [
    "reg = LinearRegression()\n",
    "res = reg.fit(x,y)\n",
    "y_pred = reg.predict(x)\n",
    "y_pred"
   ]
  },
  {
   "cell_type": "code",
   "execution_count": 24,
   "metadata": {
    "ExecuteTime": {
     "end_time": "2021-11-14T07:54:24.856491Z",
     "start_time": "2021-11-14T07:54:24.838500Z"
    }
   },
   "outputs": [
    {
     "data": {
      "text/plain": [
       "array([[2.5, 2.4],\n",
       "       [0.5, 0.7],\n",
       "       [2.2, 2.9],\n",
       "       [1.9, 2.2],\n",
       "       [3.1, 3. ],\n",
       "       [2.3, 2.7],\n",
       "       [2. , 1.6],\n",
       "       [1. , 1.1],\n",
       "       [1.5, 1.6],\n",
       "       [1.1, 0.9]])"
      ]
     },
     "execution_count": 24,
     "metadata": {},
     "output_type": "execute_result"
    }
   ],
   "source": [
    "data = np.array([np.array([2.5, 0.5, 2.2, 1.9, 3.1, 2.3, 2, 1, 1.5, 1.1]), \n",
    "                 np.array([2.4, 0.7, 2.9, 2.2, 3, 2.7, 1.6, 1.1, 1.6, 0.9])]).T\n",
    "data"
   ]
  },
  {
   "cell_type": "code",
   "execution_count": 25,
   "metadata": {
    "ExecuteTime": {
     "end_time": "2021-11-14T07:54:55.081281Z",
     "start_time": "2021-11-14T07:54:55.013299Z"
    }
   },
   "outputs": [],
   "source": [
    "from sklearn.decomposition import PCA"
   ]
  },
  {
   "cell_type": "code",
   "execution_count": 26,
   "metadata": {
    "ExecuteTime": {
     "end_time": "2021-11-14T07:56:01.323766Z",
     "start_time": "2021-11-14T07:56:01.299174Z"
    }
   },
   "outputs": [
    {
     "data": {
      "text/plain": [
       "PCA(n_components=1)"
      ]
     },
     "execution_count": 26,
     "metadata": {},
     "output_type": "execute_result"
    }
   ],
   "source": [
    "lower_dim = PCA(n_components=1)\n",
    "lower_dim.fit(data)"
   ]
  },
  {
   "cell_type": "code",
   "execution_count": 27,
   "metadata": {
    "ExecuteTime": {
     "end_time": "2021-11-14T07:57:02.779310Z",
     "start_time": "2021-11-14T07:57:02.762319Z"
    }
   },
   "outputs": [
    {
     "data": {
      "text/plain": [
       "array([0.96318131])"
      ]
     },
     "execution_count": 27,
     "metadata": {},
     "output_type": "execute_result"
    }
   ],
   "source": [
    "lower_dim.explained_variance_ratio_"
   ]
  },
  {
   "cell_type": "code",
   "execution_count": 28,
   "metadata": {
    "ExecuteTime": {
     "end_time": "2021-11-14T07:57:40.040859Z",
     "start_time": "2021-11-14T07:57:40.021868Z"
    }
   },
   "outputs": [
    {
     "data": {
      "text/plain": [
       "array([[-0.82797019],\n",
       "       [ 1.77758033],\n",
       "       [-0.99219749],\n",
       "       [-0.27421042],\n",
       "       [-1.67580142],\n",
       "       [-0.9129491 ],\n",
       "       [ 0.09910944],\n",
       "       [ 1.14457216],\n",
       "       [ 0.43804614],\n",
       "       [ 1.22382056]])"
      ]
     },
     "execution_count": 28,
     "metadata": {},
     "output_type": "execute_result"
    }
   ],
   "source": [
    "lower_dim.fit_transform(data)"
   ]
  },
  {
   "cell_type": "code",
   "execution_count": 43,
   "metadata": {
    "ExecuteTime": {
     "end_time": "2021-11-14T08:33:38.344352Z",
     "start_time": "2021-11-14T08:33:38.327345Z"
    }
   },
   "outputs": [],
   "source": [
    "# 导包\n",
    "import pandas as pd\n",
    "import numpy as np\n",
    "\n",
    "\n",
    "'''\n",
    "@desc: 主成分分析\n",
    "@func: \n",
    "@args: \n",
    "@ret: \n",
    "'''\n",
    "def myPCA(data, n_components=100000000):\n",
    "    mean_vals = np.mean(data, axis=0) # 属性的均值（列）\n",
    "    mid = data - mean_vals\n",
    "    cov_mat = np.cov(mid, rowvar=False) # 协方差矩阵\n",
    "    from scipy import linalg\n",
    "    eig_vals, eig_vects = linalg.eig(np.mat(cov_mat)) # 特征值、特征向量\n",
    "    eig_val_index = np.argsort(eig_vals) # 特征值排序后的索引\n",
    "    eig_val_index = eig_val_index[:-(n_components+1):-1]\n",
    "    eig_vects = eig_vects[:,eig_val_index]\n",
    "    low_dim_mat = np.dot(mid, eig_vects)\n",
    "    \n",
    "    return low_dim_mat, eig_vals\n",
    "    \n"
   ]
  },
  {
   "cell_type": "code",
   "execution_count": 44,
   "metadata": {
    "ExecuteTime": {
     "end_time": "2021-11-14T08:33:38.826763Z",
     "start_time": "2021-11-14T08:33:38.811772Z"
    },
    "collapsed": true
   },
   "outputs": [
    {
     "data": {
      "text/plain": [
       "(array([[-0.82797019],\n",
       "        [ 1.77758033],\n",
       "        [-0.99219749],\n",
       "        [-0.27421042],\n",
       "        [-1.67580142],\n",
       "        [-0.9129491 ],\n",
       "        [ 0.09910944],\n",
       "        [ 1.14457216],\n",
       "        [ 0.43804614],\n",
       "        [ 1.22382056]]),\n",
       " array([0.0490834 +0.j, 1.28402771+0.j]))"
      ]
     },
     "execution_count": 44,
     "metadata": {},
     "output_type": "execute_result"
    }
   ],
   "source": [
    "data = np.array([np.array([2.5, 0.5, 2.2, 1.9, 3.1, 2.3, 2, 1, 1.5, 1.1]), \n",
    "                 np.array([2.4, 0.7, 2.9, 2.2, 3, 2.7, 1.6, 1.1, 1.6, 0.9])]).T\n",
    "print(myPCA(data, n_components=1))"
   ]
  },
  {
   "cell_type": "markdown",
   "metadata": {},
   "source": [
    "## 复合分析\n",
    "- 交叉分析\n",
    "- 分组分析\n",
    "- 相关分析\n",
    "- 因子分析\n",
    "- 聚类分析\n",
    "- 回归分析\n"
   ]
  },
  {
   "cell_type": "code",
   "execution_count": 1,
   "metadata": {
    "ExecuteTime": {
     "end_time": "2021-11-15T05:01:36.476213Z",
     "start_time": "2021-11-15T05:01:32.770749Z"
    }
   },
   "outputs": [],
   "source": [
    "## 导包\n",
    "import numpy as np # 数值计算\n",
    "import pandas as pd # 数据分析\n",
    "import scipy.stats as ss # 统计分析\n",
    "import matplotlib.pyplot as plt # 绘图\n",
    "import seaborn as sns # 绘图"
   ]
  },
  {
   "cell_type": "code",
   "execution_count": 4,
   "metadata": {
    "ExecuteTime": {
     "end_time": "2021-11-15T05:03:40.127446Z",
     "start_time": "2021-11-15T05:03:40.074942Z"
    }
   },
   "outputs": [
    {
     "data": {
      "text/html": [
       "<div>\n",
       "<style scoped>\n",
       "    .dataframe tbody tr th:only-of-type {\n",
       "        vertical-align: middle;\n",
       "    }\n",
       "\n",
       "    .dataframe tbody tr th {\n",
       "        vertical-align: top;\n",
       "    }\n",
       "\n",
       "    .dataframe thead th {\n",
       "        text-align: right;\n",
       "    }\n",
       "</style>\n",
       "<table border=\"1\" class=\"dataframe\">\n",
       "  <thead>\n",
       "    <tr style=\"text-align: right;\">\n",
       "      <th></th>\n",
       "      <th>satisfaction_level</th>\n",
       "      <th>last_evaluation</th>\n",
       "      <th>number_project</th>\n",
       "      <th>average_monthly_hours</th>\n",
       "      <th>time_spend_company</th>\n",
       "      <th>Work_accident</th>\n",
       "      <th>left</th>\n",
       "      <th>promotion_last_5years</th>\n",
       "      <th>Department</th>\n",
       "      <th>salary</th>\n",
       "    </tr>\n",
       "  </thead>\n",
       "  <tbody>\n",
       "    <tr>\n",
       "      <th>0</th>\n",
       "      <td>0.38</td>\n",
       "      <td>0.53</td>\n",
       "      <td>2</td>\n",
       "      <td>157</td>\n",
       "      <td>3</td>\n",
       "      <td>0</td>\n",
       "      <td>1</td>\n",
       "      <td>0</td>\n",
       "      <td>sales</td>\n",
       "      <td>low</td>\n",
       "    </tr>\n",
       "    <tr>\n",
       "      <th>1</th>\n",
       "      <td>0.80</td>\n",
       "      <td>0.86</td>\n",
       "      <td>5</td>\n",
       "      <td>262</td>\n",
       "      <td>6</td>\n",
       "      <td>0</td>\n",
       "      <td>1</td>\n",
       "      <td>0</td>\n",
       "      <td>sales</td>\n",
       "      <td>medium</td>\n",
       "    </tr>\n",
       "    <tr>\n",
       "      <th>2</th>\n",
       "      <td>0.11</td>\n",
       "      <td>0.88</td>\n",
       "      <td>7</td>\n",
       "      <td>272</td>\n",
       "      <td>4</td>\n",
       "      <td>0</td>\n",
       "      <td>1</td>\n",
       "      <td>0</td>\n",
       "      <td>sales</td>\n",
       "      <td>medium</td>\n",
       "    </tr>\n",
       "    <tr>\n",
       "      <th>3</th>\n",
       "      <td>0.72</td>\n",
       "      <td>0.87</td>\n",
       "      <td>5</td>\n",
       "      <td>223</td>\n",
       "      <td>5</td>\n",
       "      <td>0</td>\n",
       "      <td>1</td>\n",
       "      <td>0</td>\n",
       "      <td>sales</td>\n",
       "      <td>low</td>\n",
       "    </tr>\n",
       "    <tr>\n",
       "      <th>4</th>\n",
       "      <td>0.37</td>\n",
       "      <td>0.52</td>\n",
       "      <td>2</td>\n",
       "      <td>159</td>\n",
       "      <td>3</td>\n",
       "      <td>0</td>\n",
       "      <td>1</td>\n",
       "      <td>0</td>\n",
       "      <td>sales</td>\n",
       "      <td>low</td>\n",
       "    </tr>\n",
       "  </tbody>\n",
       "</table>\n",
       "</div>"
      ],
      "text/plain": [
       "   satisfaction_level  last_evaluation  number_project  average_monthly_hours  \\\n",
       "0                0.38             0.53               2                    157   \n",
       "1                0.80             0.86               5                    262   \n",
       "2                0.11             0.88               7                    272   \n",
       "3                0.72             0.87               5                    223   \n",
       "4                0.37             0.52               2                    159   \n",
       "\n",
       "   time_spend_company  Work_accident  left  promotion_last_5years Department  \\\n",
       "0                   3              0     1                      0      sales   \n",
       "1                   6              0     1                      0      sales   \n",
       "2                   4              0     1                      0      sales   \n",
       "3                   5              0     1                      0      sales   \n",
       "4                   3              0     1                      0      sales   \n",
       "\n",
       "   salary  \n",
       "0     low  \n",
       "1  medium  \n",
       "2  medium  \n",
       "3     low  \n",
       "4     low  "
      ]
     },
     "execution_count": 4,
     "metadata": {},
     "output_type": "execute_result"
    }
   ],
   "source": [
    "df = pd.read_csv(\".//datasets//HR_comma_sep.csv\")\n",
    "df.head()"
   ]
  },
  {
   "cell_type": "code",
   "execution_count": 8,
   "metadata": {
    "ExecuteTime": {
     "end_time": "2021-11-15T05:09:44.662166Z",
     "start_time": "2021-11-15T05:09:44.628210Z"
    },
    "collapsed": true
   },
   "outputs": [
    {
     "name": "stdout",
     "output_type": "stream",
     "text": [
      "{'IT': array([   61,    62,    63, ..., 14932, 14933, 14938], dtype=int64), 'RandD': array([  301,   302,   303,   304,   305,   453,   454,   455,   456,\n",
      "         457,   605,   606,   607,   608,   609,   833,   834,   835,\n",
      "         836,   837,   985,   986,   987,   988,   989,  1061,  1062,\n",
      "        1063,  1064,  1065,  1217,  1218,  1219,  1291,  1292,  1293,\n",
      "        1294,  1295,  1296,  1368,  1369,  1370,  1371,  1372,  1373,\n",
      "        1445,  1446,  1447,  1448,  1449,  1450,  1522,  1523,  1524,\n",
      "        1525,  1526,  1598,  1599,  1600,  1601,  1602,  1675,  1676,\n",
      "        1677,  1678,  1679,  1751,  1752,  1753,  1754,  1755,  1827,\n",
      "        1828,  1829,  1830,  1831,  1903,  1904,  1905,  1906,  1907,\n",
      "        1979,  1980,  1981,  1982,  1983,  2055,  2056,  2057,  2058,\n",
      "        2059,  2131,  2132,  2133,  2134,  2135,  2207,  2208,  2209,\n",
      "        2210,  2211,  2283,  2284,  2285,  2286,  2287,  2359,  2360,\n",
      "        2361,  2362,  2363,  2435,  2436,  2437,  2438,  2439,  2511,\n",
      "        2512,  2513,  2514,  2515,  2588,  2589,  2590,  2591,  2592,\n",
      "        2593,  2665,  2666,  2667,  2668,  2669,  2670,  2742,  2743,\n",
      "        2744,  2745,  2746,  2747,  2819,  2820,  2821,  2822,  2823,\n",
      "        2824,  2896,  2897,  2898,  2899,  2900,  2972,  2973,  2974,\n",
      "        2975,  2976,  3049,  3050,  3051,  3052,  3053,  3125,  3126,\n",
      "        3127,  3128,  3129,  3201,  3202,  3203,  3204,  3205,  3277,\n",
      "        3278,  3279,  3280,  3281,  3353,  3354,  3355,  3356,  3357,\n",
      "        3429,  3430,  3431,  3432,  3433,  3505,  3506,  3507,  3508,\n",
      "        3509,  3581,  3582,  3583,  3584,  3585,  3657,  3658,  3659,\n",
      "        3660,  3661,  3733,  3734,  3735,  3736,  3737,  3809,  3810,\n",
      "        3811,  3812,  3813,  3885,  3886,  3887,  3888,  3889,  3962,\n",
      "        3963,  3964,  3965,  3966,  3967,  4039,  4040,  4041,  4042,\n",
      "        4043,  4044,  4116,  4117,  4118,  4119,  4120,  4121,  4193,\n",
      "        4194,  4195,  4196,  4197,  4198,  4270,  4271,  4272,  4273,\n",
      "        4274,  4346,  4347,  4348,  4349,  4350,  4423,  4424,  4425,\n",
      "        4426,  4427,  4499,  4500,  4501,  4502,  4503,  4575,  4576,\n",
      "        4577,  4578,  4579,  4651,  4652,  4653,  4654,  4655,  4727,\n",
      "        4728,  4729,  4730,  4731,  4803,  4804,  4805,  4806,  4807,\n",
      "        4879,  4880,  4881,  4882,  4883,  4955,  4956,  4957,  4958,\n",
      "        4959,  5031,  5032,  5033,  5034,  5035,  5107,  5108,  5109,\n",
      "        5110,  5111,  5183,  5184,  5185,  5186,  5187,  5259,  5260,\n",
      "        5261,  5262,  5263,  5336,  5337,  5338,  5339,  5340,  5341,\n",
      "        5413,  5414,  5415,  5416,  5417,  5418,  5490,  5491,  5492,\n",
      "        5493,  5494,  5495,  5567,  5568,  5569,  5570,  5571,  5572,\n",
      "        5644,  5645,  5646,  5647,  5648,  5720,  5721,  5722,  5723,\n",
      "        5724,  5797,  5798,  5799,  5800,  5801,  5873,  5874,  5875,\n",
      "        5876,  5877,  5949,  5950,  5951,  5952,  5953,  6025,  6026,\n",
      "        6027,  6028,  6029,  6101,  6102,  6103,  6104,  6105,  6177,\n",
      "        6178,  6179,  6180,  6181,  6253,  6254,  6255,  6256,  6257,\n",
      "        6329,  6330,  6331,  6332,  6333,  6405,  6406,  6407,  6408,\n",
      "        6409,  6481,  6482,  6483,  6484,  6485,  6557,  6558,  6559,\n",
      "        6560,  6561,  6633,  6634,  6635,  6636,  6637,  6710,  6711,\n",
      "        6712,  6713,  6714,  6715,  6787,  6788,  6789,  6790,  6791,\n",
      "        6792,  6864,  6865,  6866,  6867,  6868,  6869,  6941,  6942,\n",
      "        6943,  6944,  6945,  6946,  7018,  7019,  7020,  7021,  7022,\n",
      "        7094,  7095,  7096,  7097,  7098,  7171,  7172,  7173,  7174,\n",
      "        7175,  7247,  7248,  7249,  7250,  7251,  7323,  7324,  7325,\n",
      "        7326,  7327,  7399,  7400,  7401,  7402,  7403,  7475,  7476,\n",
      "        7477,  7478,  7479,  7551,  7552,  7553,  7554,  7555,  7627,\n",
      "        7628,  7629,  7630,  7631,  7703,  7704,  7705,  7706,  7707,\n",
      "        7779,  7780,  7781,  7782,  7783,  7855,  7856,  7857,  7858,\n",
      "        7859,  7931,  7932,  7933,  7934,  7935,  8007,  8008,  8009,\n",
      "        8010,  8011,  8084,  8085,  8086,  8087,  8088,  8089,  8161,\n",
      "        8162,  8163,  8164,  8165,  8166,  8238,  8239,  8240,  8241,\n",
      "        8242,  8243,  8315,  8316,  8317,  8318,  8319,  8320,  8392,\n",
      "        8393,  8394,  8395,  8396,  8468,  8469,  8470,  8471,  8472,\n",
      "        8545,  8546,  8547,  8548,  8549,  8621,  8622,  8623,  8624,\n",
      "        8625,  8697,  8698,  8699,  8700,  8701,  8773,  8774,  8775,\n",
      "        8776,  8777,  8849,  8850,  8851,  8852,  8853,  8925,  8926,\n",
      "        8927,  8928,  8929,  9001,  9002,  9003,  9004,  9005,  9077,\n",
      "        9078,  9079,  9080,  9081,  9153,  9154,  9155,  9156,  9157,\n",
      "        9229,  9230,  9231,  9232,  9233,  9305,  9306,  9307,  9308,\n",
      "        9309,  9381,  9382,  9383,  9384,  9385,  9535,  9536,  9537,\n",
      "        9538,  9539,  9540,  9689,  9690,  9691,  9692,  9693,  9694,\n",
      "        9766,  9767,  9768,  9769,  9770, 10147, 10148, 10149, 10150,\n",
      "       10151, 10223, 10224, 10225, 10226, 10227, 10299, 10300, 10301,\n",
      "       10302, 10303, 10375, 10376, 10377, 10378, 10379, 10451, 10452,\n",
      "       10453, 10454, 10455, 10527, 10528, 10529, 10530, 10531, 10603,\n",
      "       10604, 10605, 10606, 10607, 10679, 10680, 10681, 10682, 10683,\n",
      "       10755, 10756, 10757, 10758, 10759, 10832, 10833, 10834, 10835,\n",
      "       10836, 10837, 10909, 10910, 10911, 10912, 10913, 10914, 10986,\n",
      "       10987, 10988, 10989, 10990, 10991, 11001, 11002, 11003, 11004,\n",
      "       11005, 11006, 11179, 11180, 11181, 11182, 11183, 11184, 11478,\n",
      "       11479, 11480, 11481, 11482, 11483, 11659, 11660, 11661, 11662,\n",
      "       11663, 11664, 12301, 12302, 12303, 12304, 12305, 12453, 12454,\n",
      "       12455, 12456, 12457, 12605, 12606, 12607, 12608, 12609, 12814,\n",
      "       12815, 12816, 12817, 12818, 12890, 12891, 12892, 12893, 12894,\n",
      "       12966, 12967, 12968, 12969, 12970, 13043, 13044, 13045, 13046,\n",
      "       13047, 13048, 13120, 13121, 13122, 13123, 13124, 13125, 13197,\n",
      "       13198, 13199, 13200, 13201, 13202, 13212, 13213, 13214, 13215,\n",
      "       13216, 13217, 13390, 13391, 13392, 13393, 13394, 13395, 13689,\n",
      "       13690, 13691, 13692, 13693, 13694, 13870, 13871, 13872, 13873,\n",
      "       13874, 13875, 14512, 14513, 14514, 14515, 14516, 14664, 14665,\n",
      "       14666, 14667, 14668, 14816, 14817, 14818, 14819, 14820, 14939,\n",
      "       14940, 14941, 14942, 14943], dtype=int64), 'accounting': array([   28,    29,    30,    79,   105,   106,   107,   155,   181,\n",
      "         182,   183,   224,   225,   232,   258,   259,   260,   308,\n",
      "         334,   335,   336,   377,   378,   384,   410,   411,   412,\n",
      "         460,   486,   487,   488,   529,   530,   536,   562,   563,\n",
      "         564,   612,   638,   639,   640,   688,   714,   715,   716,\n",
      "         764,   790,   791,   792,   840,   866,   867,   868,   916,\n",
      "         942,   943,   944,   992,  1018,  1019,  1020,  1068,  1094,\n",
      "        1095,  1096,  1145,  1171,  1172,  1173,  1222,  1248,  1249,\n",
      "        1250,  1299,  1325,  1326,  1327,  1376,  1402,  1403,  1404,\n",
      "        1453,  1479,  1480,  1481,  1529,  1555,  1556,  1557,  1606,\n",
      "        1632,  1633,  1634,  1682,  1708,  1709,  1710,  1758,  1784,\n",
      "        1785,  1786,  1834,  1860,  1861,  1862,  1910,  1936,  1937,\n",
      "        1938,  1986,  2012,  2013,  2014,  2062,  2088,  2089,  2090,\n",
      "        2138,  2164,  2165,  2166,  2214,  2240,  2241,  2242,  2290,\n",
      "        2316,  2317,  2318,  2366,  2392,  2393,  2394,  2442,  2468,\n",
      "        2469,  2470,  2519,  2545,  2546,  2547,  2596,  2622,  2623,\n",
      "        2624,  2673,  2699,  2700,  2701,  2750,  2776,  2777,  2778,\n",
      "        2827,  2853,  2854,  2855,  2903,  2929,  2930,  2931,  2980,\n",
      "        3006,  3007,  3008,  3056,  3082,  3083,  3084,  3132,  3158,\n",
      "        3159,  3160,  3208,  3234,  3235,  3236,  3284,  3310,  3311,\n",
      "        3312,  3360,  3386,  3387,  3388,  3436,  3462,  3463,  3464,\n",
      "        3512,  3538,  3539,  3540,  3588,  3614,  3615,  3616,  3664,\n",
      "        3690,  3691,  3692,  3740,  3766,  3767,  3768,  3816,  3842,\n",
      "        3843,  3844,  3893,  3919,  3920,  3921,  3970,  3996,  3997,\n",
      "        3998,  4047,  4073,  4074,  4075,  4124,  4150,  4151,  4152,\n",
      "        4201,  4227,  4228,  4229,  4277,  4303,  4304,  4305,  4354,\n",
      "        4380,  4381,  4382,  4430,  4456,  4457,  4458,  4506,  4532,\n",
      "        4533,  4534,  4582,  4608,  4609,  4610,  4658,  4684,  4685,\n",
      "        4686,  4734,  4760,  4761,  4762,  4810,  4836,  4837,  4838,\n",
      "        4886,  4912,  4913,  4914,  4962,  4988,  4989,  4990,  5038,\n",
      "        5064,  5065,  5066,  5114,  5140,  5141,  5142,  5190,  5216,\n",
      "        5217,  5218,  5267,  5293,  5294,  5295,  5344,  5370,  5371,\n",
      "        5372,  5421,  5447,  5448,  5449,  5498,  5524,  5525,  5526,\n",
      "        5575,  5601,  5602,  5603,  5651,  5677,  5678,  5679,  5728,\n",
      "        5754,  5755,  5756,  5804,  5830,  5831,  5832,  5880,  5906,\n",
      "        5907,  5908,  5956,  5982,  5983,  5984,  6032,  6058,  6059,\n",
      "        6060,  6108,  6134,  6135,  6136,  6184,  6210,  6211,  6212,\n",
      "        6260,  6286,  6287,  6288,  6336,  6362,  6363,  6364,  6412,\n",
      "        6438,  6439,  6440,  6488,  6514,  6515,  6516,  6564,  6590,\n",
      "        6591,  6592,  6641,  6667,  6668,  6669,  6718,  6744,  6745,\n",
      "        6746,  6795,  6821,  6822,  6823,  6872,  6898,  6899,  6900,\n",
      "        6949,  6975,  6976,  6977,  7025,  7051,  7052,  7053,  7102,\n",
      "        7128,  7129,  7130,  7178,  7204,  7205,  7206,  7254,  7280,\n",
      "        7281,  7282,  7330,  7356,  7357,  7358,  7406,  7432,  7433,\n",
      "        7434,  7482,  7508,  7509,  7510,  7558,  7584,  7585,  7586,\n",
      "        7634,  7660,  7661,  7662,  7710,  7736,  7737,  7738,  7786,\n",
      "        7812,  7813,  7814,  7862,  7888,  7889,  7890,  7938,  7964,\n",
      "        7965,  7966,  8015,  8041,  8042,  8043,  8092,  8118,  8119,\n",
      "        8120,  8169,  8195,  8196,  8197,  8246,  8272,  8273,  8274,\n",
      "        8323,  8349,  8350,  8351,  8399,  8425,  8426,  8427,  8476,\n",
      "        8502,  8503,  8504,  8552,  8578,  8579,  8580,  8628,  8654,\n",
      "        8655,  8656,  8704,  8730,  8731,  8732,  8780,  8806,  8807,\n",
      "        8808,  8856,  8882,  8883,  8884,  8932,  8958,  8959,  8960,\n",
      "        9008,  9034,  9035,  9036,  9084,  9110,  9111,  9112,  9160,\n",
      "        9186,  9187,  9188,  9236,  9262,  9263,  9264,  9312,  9338,\n",
      "        9339,  9340,  9389,  9415,  9416,  9417,  9466,  9492,  9493,\n",
      "        9494,  9543,  9569,  9570,  9571,  9613,  9614,  9620,  9646,\n",
      "        9647,  9648,  9697,  9723,  9724,  9725,  9773,  9799,  9800,\n",
      "        9801,  9843,  9844,  9850,  9876,  9877,  9878,  9920,  9921,\n",
      "        9926,  9952,  9953,  9954,  9996,  9997, 10002, 10028, 10029,\n",
      "       10030, 10072, 10073, 10078, 10104, 10105, 10106, 10154, 10180,\n",
      "       10181, 10182, 10230, 10256, 10257, 10258, 10306, 10332, 10333,\n",
      "       10334, 10382, 10408, 10409, 10410, 10458, 10484, 10485, 10486,\n",
      "       10534, 10560, 10561, 10562, 10610, 10636, 10637, 10638, 10686,\n",
      "       10712, 10713, 10714, 10763, 10789, 10790, 10791, 10840, 10866,\n",
      "       10867, 10868, 10917, 10943, 10944, 10945, 11009, 11035, 11036,\n",
      "       11037, 11101, 11127, 11128, 11129, 11187, 11213, 11214, 11215,\n",
      "       11277, 11303, 11304, 11305, 11400, 11429, 11457, 11486, 11581,\n",
      "       11610, 11638, 11667, 11762, 11791, 11819, 11848, 11943, 11971,\n",
      "       11972, 12028, 12029, 12030, 12079, 12105, 12106, 12107, 12155,\n",
      "       12181, 12182, 12183, 12224, 12225, 12232, 12258, 12259, 12260,\n",
      "       12308, 12334, 12335, 12336, 12377, 12378, 12384, 12410, 12411,\n",
      "       12412, 12460, 12486, 12487, 12488, 12529, 12530, 12536, 12562,\n",
      "       12563, 12564, 12612, 12638, 12639, 12640, 12688, 12714, 12715,\n",
      "       12716, 12764, 12821, 12847, 12848, 12849, 12897, 12923, 12924,\n",
      "       12925, 12974, 13000, 13001, 13002, 13051, 13077, 13078, 13079,\n",
      "       13128, 13154, 13155, 13156, 13220, 13246, 13247, 13248, 13312,\n",
      "       13338, 13339, 13340, 13398, 13424, 13425, 13426, 13488, 13514,\n",
      "       13515, 13516, 13611, 13640, 13668, 13697, 13792, 13821, 13849,\n",
      "       13878, 13973, 14002, 14030, 14059, 14154, 14182, 14183, 14239,\n",
      "       14240, 14241, 14290, 14316, 14317, 14318, 14366, 14392, 14393,\n",
      "       14394, 14435, 14436, 14443, 14469, 14470, 14471, 14519, 14545,\n",
      "       14546, 14547, 14588, 14589, 14595, 14621, 14622, 14623, 14671,\n",
      "       14697, 14698, 14699, 14740, 14741, 14747, 14773, 14774, 14775,\n",
      "       14823, 14849, 14850, 14851, 14896, 14897, 14898, 14946, 14972,\n",
      "       14973, 14974], dtype=int64), 'hr': array([   31,    32,    33,    34,   108,   109,   110,   111,   184,\n",
      "         185,   186,   187,   226,   227,   228,   261,   262,   263,\n",
      "         264,   337,   338,   339,   340,   379,   380,   381,   413,\n",
      "         414,   415,   416,   489,   490,   491,   492,   531,   532,\n",
      "         533,   565,   566,   567,   568,   641,   642,   643,   644,\n",
      "         717,   718,   719,   720,   793,   794,   795,   796,   869,\n",
      "         870,   871,   872,   945,   946,   947,   948,  1021,  1022,\n",
      "        1023,  1024,  1097,  1098,  1099,  1100,  1174,  1175,  1176,\n",
      "        1177,  1251,  1252,  1253,  1254,  1328,  1329,  1330,  1331,\n",
      "        1405,  1406,  1407,  1408,  1482,  1483,  1484,  1485,  1558,\n",
      "        1559,  1560,  1561,  1635,  1636,  1637,  1638,  1711,  1712,\n",
      "        1713,  1714,  1787,  1788,  1789,  1790,  1863,  1864,  1865,\n",
      "        1866,  1939,  1940,  1941,  1942,  2015,  2016,  2017,  2018,\n",
      "        2091,  2092,  2093,  2094,  2167,  2168,  2169,  2170,  2243,\n",
      "        2244,  2245,  2246,  2319,  2320,  2321,  2322,  2395,  2396,\n",
      "        2397,  2398,  2471,  2472,  2473,  2474,  2548,  2549,  2550,\n",
      "        2551,  2625,  2626,  2627,  2628,  2702,  2703,  2704,  2705,\n",
      "        2779,  2780,  2781,  2782,  2856,  2857,  2858,  2859,  2932,\n",
      "        2933,  2934,  2935,  3009,  3010,  3011,  3012,  3085,  3086,\n",
      "        3087,  3088,  3161,  3162,  3163,  3164,  3237,  3238,  3239,\n",
      "        3240,  3313,  3314,  3315,  3316,  3389,  3390,  3391,  3392,\n",
      "        3465,  3466,  3467,  3468,  3541,  3542,  3543,  3544,  3617,\n",
      "        3618,  3619,  3620,  3693,  3694,  3695,  3696,  3769,  3770,\n",
      "        3771,  3772,  3845,  3846,  3847,  3848,  3922,  3923,  3924,\n",
      "        3925,  3999,  4000,  4001,  4002,  4076,  4077,  4078,  4079,\n",
      "        4153,  4154,  4155,  4156,  4230,  4231,  4232,  4233,  4306,\n",
      "        4307,  4308,  4309,  4383,  4384,  4385,  4386,  4459,  4460,\n",
      "        4461,  4462,  4535,  4536,  4537,  4538,  4611,  4612,  4613,\n",
      "        4614,  4687,  4688,  4689,  4690,  4763,  4764,  4765,  4766,\n",
      "        4839,  4840,  4841,  4842,  4915,  4916,  4917,  4918,  4991,\n",
      "        4992,  4993,  4994,  5067,  5068,  5069,  5070,  5143,  5144,\n",
      "        5145,  5146,  5219,  5220,  5221,  5222,  5296,  5297,  5298,\n",
      "        5299,  5373,  5374,  5375,  5376,  5450,  5451,  5452,  5453,\n",
      "        5527,  5528,  5529,  5530,  5604,  5605,  5606,  5607,  5680,\n",
      "        5681,  5682,  5683,  5757,  5758,  5759,  5760,  5833,  5834,\n",
      "        5835,  5836,  5909,  5910,  5911,  5912,  5985,  5986,  5987,\n",
      "        5988,  6061,  6062,  6063,  6064,  6137,  6138,  6139,  6140,\n",
      "        6213,  6214,  6215,  6216,  6289,  6290,  6291,  6292,  6365,\n",
      "        6366,  6367,  6368,  6441,  6442,  6443,  6444,  6517,  6518,\n",
      "        6519,  6520,  6593,  6594,  6595,  6596,  6670,  6671,  6672,\n",
      "        6673,  6747,  6748,  6749,  6750,  6824,  6825,  6826,  6827,\n",
      "        6901,  6902,  6903,  6904,  6978,  6979,  6980,  6981,  7054,\n",
      "        7055,  7056,  7057,  7131,  7132,  7133,  7134,  7207,  7208,\n",
      "        7209,  7210,  7283,  7284,  7285,  7286,  7359,  7360,  7361,\n",
      "        7362,  7435,  7436,  7437,  7438,  7511,  7512,  7513,  7514,\n",
      "        7587,  7588,  7589,  7590,  7663,  7664,  7665,  7666,  7739,\n",
      "        7740,  7741,  7742,  7815,  7816,  7817,  7818,  7891,  7892,\n",
      "        7893,  7894,  7967,  7968,  7969,  7970,  8044,  8045,  8046,\n",
      "        8047,  8121,  8122,  8123,  8124,  8198,  8199,  8200,  8201,\n",
      "        8275,  8276,  8277,  8278,  8352,  8353,  8354,  8355,  8428,\n",
      "        8429,  8430,  8431,  8505,  8506,  8507,  8508,  8581,  8582,\n",
      "        8583,  8584,  8657,  8658,  8659,  8660,  8733,  8734,  8735,\n",
      "        8736,  8809,  8810,  8811,  8812,  8885,  8886,  8887,  8888,\n",
      "        8961,  8962,  8963,  8964,  9037,  9038,  9039,  9040,  9113,\n",
      "        9114,  9115,  9116,  9189,  9190,  9191,  9192,  9265,  9266,\n",
      "        9267,  9268,  9341,  9342,  9343,  9344,  9418,  9419,  9420,\n",
      "        9421,  9495,  9496,  9497,  9498,  9572,  9573,  9574,  9575,\n",
      "        9649,  9650,  9651,  9652,  9726,  9727,  9728,  9729,  9802,\n",
      "        9803,  9804,  9805,  9879,  9880,  9881,  9882,  9955,  9956,\n",
      "        9957,  9958, 10031, 10032, 10033, 10034, 10107, 10108, 10109,\n",
      "       10110, 10183, 10184, 10185, 10186, 10259, 10260, 10261, 10262,\n",
      "       10335, 10336, 10337, 10338, 10411, 10412, 10413, 10414, 10487,\n",
      "       10488, 10489, 10490, 10563, 10564, 10565, 10566, 10639, 10640,\n",
      "       10641, 10642, 10715, 10716, 10717, 10718, 10792, 10793, 10794,\n",
      "       10795, 10869, 10870, 10871, 10872, 10946, 10947, 10948, 10949,\n",
      "       11038, 11039, 11040, 11041, 11130, 11131, 11132, 11133, 11216,\n",
      "       11217, 11218, 11219, 11306, 11307, 11308, 11309, 12031, 12032,\n",
      "       12033, 12034, 12108, 12109, 12110, 12111, 12184, 12185, 12186,\n",
      "       12187, 12226, 12227, 12228, 12261, 12262, 12263, 12264, 12337,\n",
      "       12338, 12339, 12340, 12379, 12380, 12381, 12413, 12414, 12415,\n",
      "       12416, 12489, 12490, 12491, 12492, 12531, 12532, 12533, 12565,\n",
      "       12566, 12567, 12568, 12641, 12642, 12643, 12644, 12717, 12718,\n",
      "       12719, 12720, 12850, 12851, 12852, 12853, 12926, 12927, 12928,\n",
      "       12929, 13003, 13004, 13005, 13006, 13080, 13081, 13082, 13083,\n",
      "       13157, 13158, 13159, 13160, 13249, 13250, 13251, 13252, 13341,\n",
      "       13342, 13343, 13344, 13427, 13428, 13429, 13430, 13517, 13518,\n",
      "       13519, 13520, 14242, 14243, 14244, 14245, 14319, 14320, 14321,\n",
      "       14322, 14395, 14396, 14397, 14398, 14437, 14438, 14439, 14472,\n",
      "       14473, 14474, 14475, 14548, 14549, 14550, 14551, 14590, 14591,\n",
      "       14592, 14624, 14625, 14626, 14627, 14700, 14701, 14702, 14703,\n",
      "       14742, 14743, 14744, 14776, 14777, 14778, 14779, 14852, 14853,\n",
      "       14854, 14855, 14899, 14900, 14901, 14902, 14975, 14976, 14977,\n",
      "       14978], dtype=int64), 'management': array([   60,    82,   137,   158,   213,   235,   290,   311,   366,\n",
      "         387,   442,   463,   518,   539,   594,   615,   670,   691,\n",
      "         746,   767,   822,   843,   898,   919,   974,   995,  1050,\n",
      "        1071,  1126,  1148,  1203,  1225,  1280,  1302,  1357,  1379,\n",
      "        1434,  1456,  1511,  1532,  1587,  1609,  1664,  1685,  1740,\n",
      "        1761,  1816,  1837,  1892,  1913,  1968,  1989,  2044,  2065,\n",
      "        2120,  2141,  2196,  2217,  2272,  2293,  2348,  2369,  2424,\n",
      "        2445,  2500,  2522,  2577,  2599,  2654,  2676,  2731,  2753,\n",
      "        2808,  2830,  2885,  2906,  2961,  2983,  3038,  3059,  3114,\n",
      "        3135,  3190,  3211,  3266,  3287,  3342,  3363,  3418,  3439,\n",
      "        3494,  3515,  3570,  3591,  3646,  3667,  3722,  3743,  3798,\n",
      "        3819,  3874,  3896,  3951,  3973,  4028,  4050,  4105,  4127,\n",
      "        4182,  4204,  4259,  4280,  4335,  4357,  4412,  4433,  4488,\n",
      "        4509,  4564,  4585,  4640,  4661,  4716,  4737,  4792,  4813,\n",
      "        4868,  4889,  4944,  4965,  5020,  5041,  5096,  5117,  5172,\n",
      "        5193,  5248,  5270,  5325,  5347,  5402,  5424,  5479,  5501,\n",
      "        5556,  5578,  5633,  5654,  5709,  5731,  5786,  5807,  5862,\n",
      "        5883,  5938,  5959,  6014,  6035,  6090,  6111,  6166,  6187,\n",
      "        6242,  6263,  6318,  6339,  6394,  6415,  6470,  6491,  6546,\n",
      "        6567,  6622,  6644,  6699,  6721,  6776,  6798,  6853,  6875,\n",
      "        6930,  6952,  7007,  7028,  7083,  7105,  7160,  7181,  7236,\n",
      "        7257,  7312,  7333,  7388,  7409,  7464,  7485,  7540,  7561,\n",
      "        7616,  7637,  7692,  7713,  7768,  7789,  7844,  7865,  7920,\n",
      "        7941,  7996,  8018,  8073,  8095,  8150,  8172,  8227,  8249,\n",
      "        8304,  8326,  8381,  8402,  8457,  8479,  8534,  8555,  8610,\n",
      "        8631,  8686,  8707,  8762,  8783,  8838,  8859,  8914,  8935,\n",
      "        8990,  9011,  9066,  9087,  9142,  9163,  9218,  9239,  9294,\n",
      "        9315,  9370,  9392,  9447,  9469,  9524,  9546,  9601,  9617,\n",
      "        9623,  9678,  9700,  9755,  9776,  9831,  9847,  9853,  9908,\n",
      "        9924,  9929,  9984, 10000, 10005, 10060, 10076, 10081, 10136,\n",
      "       10157, 10212, 10233, 10288, 10309, 10364, 10385, 10440, 10461,\n",
      "       10516, 10537, 10592, 10613, 10668, 10689, 10744, 10766, 10821,\n",
      "       10843, 10898, 10920, 10975, 11012, 11067, 11078, 11079, 11080,\n",
      "       11081, 11082, 11083, 11093, 11094, 11095, 11096, 11097, 11098,\n",
      "       11104, 11159, 11190, 11245, 11256, 11257, 11258, 11259, 11260,\n",
      "       11261, 11269, 11270, 11271, 11272, 11273, 11274, 11280, 11335,\n",
      "       11346, 11347, 11348, 11349, 11350, 11351, 11392, 11393, 11394,\n",
      "       11395, 11396, 11397, 11403, 11421, 11422, 11423, 11424, 11425,\n",
      "       11426, 11432, 11449, 11450, 11451, 11452, 11453, 11454, 11460,\n",
      "       11489, 11516, 11527, 11528, 11529, 11530, 11531, 11532, 11573,\n",
      "       11574, 11575, 11576, 11577, 11578, 11584, 11602, 11603, 11604,\n",
      "       11605, 11606, 11607, 11613, 11630, 11631, 11632, 11633, 11634,\n",
      "       11635, 11641, 11670, 11697, 11708, 11709, 11710, 11711, 11712,\n",
      "       11713, 11754, 11755, 11756, 11757, 11758, 11759, 11765, 11783,\n",
      "       11784, 11785, 11786, 11787, 11788, 11794, 11811, 11812, 11813,\n",
      "       11814, 11815, 11816, 11822, 11840, 11841, 11842, 11843, 11844,\n",
      "       11845, 11851, 11878, 11889, 11890, 11891, 11892, 11893, 11894,\n",
      "       11935, 11936, 11937, 11938, 11939, 11940, 11946, 11975, 11993,\n",
      "       11994, 11995, 11996, 11997, 12060, 12082, 12137, 12158, 12213,\n",
      "       12235, 12290, 12311, 12366, 12387, 12442, 12463, 12518, 12539,\n",
      "       12594, 12615, 12670, 12691, 12746, 12767, 12803, 12824, 12879,\n",
      "       12900, 12955, 12977, 13032, 13054, 13109, 13131, 13186, 13223,\n",
      "       13278, 13289, 13290, 13291, 13292, 13293, 13294, 13304, 13305,\n",
      "       13306, 13307, 13308, 13309, 13315, 13370, 13401, 13456, 13467,\n",
      "       13468, 13469, 13470, 13471, 13472, 13480, 13481, 13482, 13483,\n",
      "       13484, 13485, 13491, 13546, 13557, 13558, 13559, 13560, 13561,\n",
      "       13562, 13603, 13604, 13605, 13606, 13607, 13608, 13614, 13632,\n",
      "       13633, 13634, 13635, 13636, 13637, 13643, 13660, 13661, 13662,\n",
      "       13663, 13664, 13665, 13671, 13700, 13727, 13738, 13739, 13740,\n",
      "       13741, 13742, 13743, 13784, 13785, 13786, 13787, 13788, 13789,\n",
      "       13795, 13813, 13814, 13815, 13816, 13817, 13818, 13824, 13841,\n",
      "       13842, 13843, 13844, 13845, 13846, 13852, 13881, 13908, 13919,\n",
      "       13920, 13921, 13922, 13923, 13924, 13965, 13966, 13967, 13968,\n",
      "       13969, 13970, 13976, 13994, 13995, 13996, 13997, 13998, 13999,\n",
      "       14005, 14022, 14023, 14024, 14025, 14026, 14027, 14033, 14051,\n",
      "       14052, 14053, 14054, 14055, 14056, 14062, 14089, 14100, 14101,\n",
      "       14102, 14103, 14104, 14105, 14146, 14147, 14148, 14149, 14150,\n",
      "       14151, 14157, 14186, 14204, 14205, 14206, 14207, 14208, 14271,\n",
      "       14293, 14348, 14369, 14424, 14446, 14501, 14522, 14577, 14598,\n",
      "       14653, 14674, 14729, 14750, 14805, 14826, 14873, 14928, 14949],\n",
      "      dtype=int64), 'marketing': array([   77,    83,    84,    85,   148,   149,   150,   151,   152,\n",
      "         153,   159,   160,   161,   229,   230,   236,   237,   238,\n",
      "         306,   312,   313,   314,   382,   388,   389,   390,   458,\n",
      "         464,   465,   466,   534,   540,   541,   542,   610,   616,\n",
      "         617,   618,   686,   692,   693,   694,   762,   768,   769,\n",
      "         770,   838,   844,   845,   846,   914,   920,   921,   922,\n",
      "         990,   996,   997,   998,  1066,  1072,  1073,  1074,  1142,\n",
      "        1143,  1149,  1150,  1151,  1220,  1226,  1227,  1228,  1297,\n",
      "        1303,  1304,  1305,  1374,  1380,  1381,  1382,  1451,  1457,\n",
      "        1458,  1459,  1527,  1533,  1534,  1535,  1603,  1604,  1610,\n",
      "        1611,  1612,  1680,  1686,  1687,  1688,  1756,  1762,  1763,\n",
      "        1764,  1832,  1838,  1839,  1840,  1908,  1914,  1915,  1916,\n",
      "        1984,  1990,  1991,  1992,  2060,  2066,  2067,  2068,  2136,\n",
      "        2142,  2143,  2144,  2212,  2218,  2219,  2220,  2288,  2294,\n",
      "        2295,  2296,  2364,  2370,  2371,  2372,  2440,  2446,  2447,\n",
      "        2448,  2516,  2517,  2523,  2524,  2525,  2594,  2600,  2601,\n",
      "        2602,  2671,  2677,  2678,  2679,  2748,  2754,  2755,  2756,\n",
      "        2825,  2831,  2832,  2833,  2901,  2907,  2908,  2909,  2977,\n",
      "        2978,  2984,  2985,  2986,  3054,  3060,  3061,  3062,  3130,\n",
      "        3136,  3137,  3138,  3206,  3212,  3213,  3214,  3282,  3288,\n",
      "        3289,  3290,  3358,  3364,  3365,  3366,  3434,  3440,  3441,\n",
      "        3442,  3510,  3516,  3517,  3518,  3586,  3592,  3593,  3594,\n",
      "        3662,  3668,  3669,  3670,  3738,  3744,  3745,  3746,  3814,\n",
      "        3820,  3821,  3822,  3890,  3891,  3897,  3898,  3899,  3968,\n",
      "        3974,  3975,  3976,  4045,  4051,  4052,  4053,  4122,  4128,\n",
      "        4129,  4130,  4199,  4205,  4206,  4207,  4275,  4281,  4282,\n",
      "        4283,  4351,  4352,  4358,  4359,  4360,  4428,  4434,  4435,\n",
      "        4436,  4504,  4510,  4511,  4512,  4580,  4586,  4587,  4588,\n",
      "        4656,  4662,  4663,  4664,  4732,  4738,  4739,  4740,  4808,\n",
      "        4814,  4815,  4816,  4884,  4890,  4891,  4892,  4960,  4966,\n",
      "        4967,  4968,  5036,  5042,  5043,  5044,  5112,  5118,  5119,\n",
      "        5120,  5188,  5194,  5195,  5196,  5264,  5265,  5271,  5272,\n",
      "        5273,  5342,  5348,  5349,  5350,  5419,  5425,  5426,  5427,\n",
      "        5496,  5502,  5503,  5504,  5573,  5579,  5580,  5581,  5649,\n",
      "        5655,  5656,  5657,  5725,  5726,  5732,  5733,  5734,  5802,\n",
      "        5808,  5809,  5810,  5878,  5884,  5885,  5886,  5954,  5960,\n",
      "        5961,  5962,  6030,  6036,  6037,  6038,  6106,  6112,  6113,\n",
      "        6114,  6182,  6188,  6189,  6190,  6258,  6264,  6265,  6266,\n",
      "        6334,  6340,  6341,  6342,  6410,  6416,  6417,  6418,  6486,\n",
      "        6492,  6493,  6494,  6562,  6568,  6569,  6570,  6638,  6639,\n",
      "        6645,  6646,  6647,  6716,  6722,  6723,  6724,  6793,  6799,\n",
      "        6800,  6801,  6870,  6876,  6877,  6878,  6947,  6953,  6954,\n",
      "        6955,  7023,  7029,  7030,  7031,  7099,  7100,  7106,  7107,\n",
      "        7108,  7176,  7182,  7183,  7184,  7252,  7258,  7259,  7260,\n",
      "        7328,  7334,  7335,  7336,  7404,  7410,  7411,  7412,  7480,\n",
      "        7486,  7487,  7488,  7556,  7562,  7563,  7564,  7632,  7638,\n",
      "        7639,  7640,  7708,  7714,  7715,  7716,  7784,  7790,  7791,\n",
      "        7792,  7860,  7866,  7867,  7868,  7936,  7942,  7943,  7944,\n",
      "        8012,  8013,  8019,  8020,  8021,  8090,  8096,  8097,  8098,\n",
      "        8167,  8173,  8174,  8175,  8244,  8250,  8251,  8252,  8321,\n",
      "        8327,  8328,  8329,  8397,  8403,  8404,  8405,  8473,  8474,\n",
      "        8480,  8481,  8482,  8550,  8556,  8557,  8558,  8626,  8632,\n",
      "        8633,  8634,  8702,  8708,  8709,  8710,  8778,  8784,  8785,\n",
      "        8786,  8854,  8860,  8861,  8862,  8930,  8936,  8937,  8938,\n",
      "        9006,  9012,  9013,  9014,  9082,  9088,  9089,  9090,  9158,\n",
      "        9164,  9165,  9166,  9234,  9240,  9241,  9242,  9310,  9316,\n",
      "        9317,  9318,  9386,  9387,  9393,  9394,  9395,  9458,  9459,\n",
      "        9460,  9461,  9462,  9463,  9464,  9470,  9471,  9472,  9541,\n",
      "        9547,  9548,  9549,  9612,  9618,  9624,  9625,  9626,  9695,\n",
      "        9701,  9702,  9703,  9771,  9777,  9778,  9779,  9842,  9848,\n",
      "        9854,  9855,  9856,  9919,  9930,  9931,  9932,  9995, 10006,\n",
      "       10007, 10008, 10071, 10082, 10083, 10084, 10152, 10158, 10159,\n",
      "       10160, 10228, 10234, 10235, 10236, 10304, 10310, 10311, 10312,\n",
      "       10380, 10386, 10387, 10388, 10456, 10462, 10463, 10464, 10532,\n",
      "       10538, 10539, 10540, 10608, 10614, 10615, 10616, 10684, 10690,\n",
      "       10691, 10692, 10760, 10761, 10767, 10768, 10769, 10838, 10844,\n",
      "       10845, 10846, 10915, 10921, 10922, 10923, 11007, 11013, 11014,\n",
      "       11015, 11099, 11105, 11106, 11107, 11185, 11191, 11192, 11193,\n",
      "       11275, 11281, 11282, 11283, 11398, 11404, 11405, 11406, 11427,\n",
      "       11433, 11434, 11435, 11455, 11461, 11462, 11463, 11484, 11490,\n",
      "       11491, 11492, 11579, 11585, 11586, 11587, 11608, 11614, 11615,\n",
      "       11616, 11636, 11642, 11643, 11644, 11665, 11671, 11672, 11673,\n",
      "       11760, 11766, 11767, 11768, 11789, 11795, 11796, 11797, 11817,\n",
      "       11823, 11824, 11825, 11846, 11852, 11853, 11854, 11941, 11947,\n",
      "       11948, 11949, 11970, 11976, 11977, 11978, 11998, 12077, 12083,\n",
      "       12084, 12085, 12148, 12149, 12150, 12151, 12152, 12153, 12159,\n",
      "       12160, 12161, 12229, 12230, 12236, 12237, 12238, 12306, 12312,\n",
      "       12313, 12314, 12382, 12388, 12389, 12390, 12458, 12464, 12465,\n",
      "       12466, 12534, 12540, 12541, 12542, 12610, 12616, 12617, 12618,\n",
      "       12686, 12692, 12693, 12694, 12762, 12768, 12769, 12770, 12819,\n",
      "       12825, 12826, 12827, 12895, 12901, 12902, 12903, 12971, 12972,\n",
      "       12978, 12979, 12980, 13049, 13055, 13056, 13057, 13126, 13132,\n",
      "       13133, 13134, 13218, 13224, 13225, 13226, 13310, 13316, 13317,\n",
      "       13318, 13396, 13402, 13403, 13404, 13486, 13492, 13493, 13494,\n",
      "       13609, 13615, 13616, 13617, 13638, 13644, 13645, 13646, 13666,\n",
      "       13672, 13673, 13674, 13695, 13701, 13702, 13703, 13790, 13796,\n",
      "       13797, 13798, 13819, 13825, 13826, 13827, 13847, 13853, 13854,\n",
      "       13855, 13876, 13882, 13883, 13884, 13971, 13977, 13978, 13979,\n",
      "       14000, 14006, 14007, 14008, 14028, 14034, 14035, 14036, 14057,\n",
      "       14063, 14064, 14065, 14152, 14158, 14159, 14160, 14181, 14187,\n",
      "       14188, 14189, 14209, 14288, 14294, 14295, 14296, 14359, 14360,\n",
      "       14361, 14362, 14363, 14364, 14370, 14371, 14372, 14440, 14441,\n",
      "       14447, 14448, 14449, 14517, 14523, 14524, 14525, 14593, 14599,\n",
      "       14600, 14601, 14669, 14675, 14676, 14677, 14745, 14751, 14752,\n",
      "       14753, 14821, 14827, 14828, 14829, 14874, 14875, 14876, 14944,\n",
      "       14950, 14951, 14952], dtype=int64), 'product_mng': array([   66,    67,    68,    69,    71,    72,    73,    74,    75,\n",
      "          76,   143,   144,   145,   146,   219,   220,   221,   222,\n",
      "         296,   297,   298,   299,   372,   373,   374,   375,   448,\n",
      "         449,   450,   451,   524,   525,   526,   527,   600,   601,\n",
      "         602,   603,   676,   677,   678,   679,   752,   753,   754,\n",
      "         755,   828,   829,   830,   831,   904,   905,   906,   907,\n",
      "         980,   981,   982,   983,  1056,  1057,  1058,  1059,  1132,\n",
      "        1133,  1134,  1135,  1209,  1210,  1211,  1212,  1286,  1287,\n",
      "        1288,  1289,  1363,  1364,  1365,  1366,  1440,  1441,  1442,\n",
      "        1443,  1517,  1518,  1519,  1520,  1593,  1594,  1595,  1596,\n",
      "        1670,  1671,  1672,  1673,  1746,  1747,  1748,  1749,  1822,\n",
      "        1823,  1824,  1825,  1898,  1899,  1900,  1901,  1974,  1975,\n",
      "        1976,  1977,  2050,  2051,  2052,  2053,  2126,  2127,  2128,\n",
      "        2129,  2202,  2203,  2204,  2205,  2278,  2279,  2280,  2281,\n",
      "        2354,  2355,  2356,  2357,  2430,  2431,  2432,  2433,  2506,\n",
      "        2507,  2508,  2509,  2583,  2584,  2585,  2586,  2660,  2661,\n",
      "        2662,  2663,  2737,  2738,  2739,  2740,  2814,  2815,  2816,\n",
      "        2817,  2891,  2892,  2893,  2894,  2967,  2968,  2969,  2970,\n",
      "        3044,  3045,  3046,  3047,  3120,  3121,  3122,  3123,  3196,\n",
      "        3197,  3198,  3199,  3272,  3273,  3274,  3275,  3348,  3349,\n",
      "        3350,  3351,  3424,  3425,  3426,  3427,  3500,  3501,  3502,\n",
      "        3503,  3576,  3577,  3578,  3579,  3652,  3653,  3654,  3655,\n",
      "        3728,  3729,  3730,  3731,  3804,  3805,  3806,  3807,  3880,\n",
      "        3881,  3882,  3883,  3957,  3958,  3959,  3960,  4034,  4035,\n",
      "        4036,  4037,  4111,  4112,  4113,  4114,  4188,  4189,  4190,\n",
      "        4191,  4265,  4266,  4267,  4268,  4341,  4342,  4343,  4344,\n",
      "        4418,  4419,  4420,  4421,  4494,  4495,  4496,  4497,  4570,\n",
      "        4571,  4572,  4573,  4646,  4647,  4648,  4649,  4722,  4723,\n",
      "        4724,  4725,  4798,  4799,  4800,  4801,  4874,  4875,  4876,\n",
      "        4877,  4950,  4951,  4952,  4953,  5026,  5027,  5028,  5029,\n",
      "        5102,  5103,  5104,  5105,  5178,  5179,  5180,  5181,  5254,\n",
      "        5255,  5256,  5257,  5331,  5332,  5333,  5334,  5408,  5409,\n",
      "        5410,  5411,  5485,  5486,  5487,  5488,  5562,  5563,  5564,\n",
      "        5565,  5639,  5640,  5641,  5642,  5715,  5716,  5717,  5718,\n",
      "        5792,  5793,  5794,  5795,  5868,  5869,  5870,  5871,  5944,\n",
      "        5945,  5946,  5947,  6020,  6021,  6022,  6023,  6096,  6097,\n",
      "        6098,  6099,  6172,  6173,  6174,  6175,  6248,  6249,  6250,\n",
      "        6251,  6324,  6325,  6326,  6327,  6400,  6401,  6402,  6403,\n",
      "        6476,  6477,  6478,  6479,  6552,  6553,  6554,  6555,  6628,\n",
      "        6629,  6630,  6631,  6705,  6706,  6707,  6708,  6782,  6783,\n",
      "        6784,  6785,  6859,  6860,  6861,  6862,  6936,  6937,  6938,\n",
      "        6939,  7013,  7014,  7015,  7016,  7089,  7090,  7091,  7092,\n",
      "        7166,  7167,  7168,  7169,  7242,  7243,  7244,  7245,  7318,\n",
      "        7319,  7320,  7321,  7394,  7395,  7396,  7397,  7470,  7471,\n",
      "        7472,  7473,  7546,  7547,  7548,  7549,  7622,  7623,  7624,\n",
      "        7625,  7698,  7699,  7700,  7701,  7774,  7775,  7776,  7777,\n",
      "        7850,  7851,  7852,  7853,  7926,  7927,  7928,  7929,  8002,\n",
      "        8003,  8004,  8005,  8079,  8080,  8081,  8082,  8156,  8157,\n",
      "        8158,  8159,  8233,  8234,  8235,  8236,  8310,  8311,  8312,\n",
      "        8313,  8387,  8388,  8389,  8390,  8463,  8464,  8465,  8466,\n",
      "        8540,  8541,  8542,  8543,  8616,  8617,  8618,  8619,  8692,\n",
      "        8693,  8694,  8695,  8768,  8769,  8770,  8771,  8844,  8845,\n",
      "        8846,  8847,  8920,  8921,  8922,  8923,  8996,  8997,  8998,\n",
      "        8999,  9072,  9073,  9074,  9075,  9148,  9149,  9150,  9151,\n",
      "        9224,  9225,  9226,  9227,  9300,  9301,  9302,  9303,  9376,\n",
      "        9377,  9378,  9379,  9453,  9454,  9455,  9456,  9530,  9531,\n",
      "        9532,  9533,  9607,  9608,  9609,  9610,  9684,  9685,  9686,\n",
      "        9687,  9761,  9762,  9763,  9764,  9837,  9838,  9839,  9840,\n",
      "        9914,  9915,  9916,  9917,  9990,  9991,  9992,  9993, 10066,\n",
      "       10067, 10068, 10069, 10142, 10143, 10144, 10145, 10218, 10219,\n",
      "       10220, 10221, 10294, 10295, 10296, 10297, 10370, 10371, 10372,\n",
      "       10373, 10446, 10447, 10448, 10449, 10522, 10523, 10524, 10525,\n",
      "       10598, 10599, 10600, 10601, 10674, 10675, 10676, 10677, 10750,\n",
      "       10751, 10752, 10753, 10827, 10828, 10829, 10830, 10904, 10905,\n",
      "       10906, 10907, 10981, 10982, 10983, 10984, 10996, 10997, 10998,\n",
      "       10999, 11073, 11074, 11075, 11076, 11088, 11089, 11090, 11091,\n",
      "       11165, 11166, 11167, 11168, 11174, 11175, 11176, 11177, 11251,\n",
      "       11252, 11253, 11254, 11264, 11265, 11266, 11267, 11341, 11342,\n",
      "       11343, 11344, 11387, 11388, 11389, 11390, 11416, 11417, 11418,\n",
      "       11419, 11444, 11445, 11446, 11447, 11473, 11474, 11475, 11476,\n",
      "       11522, 11523, 11524, 11525, 11568, 11569, 11570, 11571, 11597,\n",
      "       11598, 11599, 11600, 11625, 11626, 11627, 11628, 11654, 11655,\n",
      "       11656, 11657, 11703, 11704, 11705, 11706, 11749, 11750, 11751,\n",
      "       11752, 11778, 11779, 11780, 11781, 11806, 11807, 11808, 11809,\n",
      "       11835, 11836, 11837, 11838, 11884, 11885, 11886, 11887, 11930,\n",
      "       11931, 11932, 11933, 11959, 11960, 11961, 11962, 11987, 11988,\n",
      "       11989, 11990, 12066, 12067, 12068, 12069, 12071, 12072, 12073,\n",
      "       12074, 12075, 12076, 12143, 12144, 12145, 12146, 12219, 12220,\n",
      "       12221, 12222, 12296, 12297, 12298, 12299, 12372, 12373, 12374,\n",
      "       12375, 12448, 12449, 12450, 12451, 12524, 12525, 12526, 12527,\n",
      "       12600, 12601, 12602, 12603, 12676, 12677, 12678, 12679, 12752,\n",
      "       12753, 12754, 12755, 12809, 12810, 12811, 12812, 12885, 12886,\n",
      "       12887, 12888, 12961, 12962, 12963, 12964, 13038, 13039, 13040,\n",
      "       13041, 13115, 13116, 13117, 13118, 13192, 13193, 13194, 13195,\n",
      "       13207, 13208, 13209, 13210, 13284, 13285, 13286, 13287, 13299,\n",
      "       13300, 13301, 13302, 13376, 13377, 13378, 13379, 13385, 13386,\n",
      "       13387, 13388, 13462, 13463, 13464, 13465, 13475, 13476, 13477,\n",
      "       13478, 13552, 13553, 13554, 13555, 13598, 13599, 13600, 13601,\n",
      "       13627, 13628, 13629, 13630, 13655, 13656, 13657, 13658, 13684,\n",
      "       13685, 13686, 13687, 13733, 13734, 13735, 13736, 13779, 13780,\n",
      "       13781, 13782, 13808, 13809, 13810, 13811, 13836, 13837, 13838,\n",
      "       13839, 13865, 13866, 13867, 13868, 13914, 13915, 13916, 13917,\n",
      "       13960, 13961, 13962, 13963, 13989, 13990, 13991, 13992, 14017,\n",
      "       14018, 14019, 14020, 14046, 14047, 14048, 14049, 14095, 14096,\n",
      "       14097, 14098, 14141, 14142, 14143, 14144, 14170, 14171, 14172,\n",
      "       14173, 14198, 14199, 14200, 14201, 14277, 14278, 14279, 14280,\n",
      "       14282, 14283, 14284, 14285, 14286, 14287, 14354, 14355, 14356,\n",
      "       14357, 14430, 14431, 14432, 14433, 14507, 14508, 14509, 14510,\n",
      "       14583, 14584, 14585, 14586, 14659, 14660, 14661, 14662, 14735,\n",
      "       14736, 14737, 14738, 14811, 14812, 14813, 14814, 14934, 14935,\n",
      "       14936, 14937], dtype=int64), 'sales': array([    0,     1,     2, ..., 14969, 14970, 14971], dtype=int64), 'support': array([   46,    47,    48, ..., 14996, 14997, 14998], dtype=int64), 'technical': array([   35,    36,    37, ..., 14987, 14988, 14989], dtype=int64)}\n"
     ]
    }
   ],
   "source": [
    "dp_indices = df.groupby(by=\"Department\").indices\n",
    "print(dp_indices)"
   ]
  },
  {
   "cell_type": "code",
   "execution_count": 9,
   "metadata": {
    "ExecuteTime": {
     "end_time": "2021-11-15T05:11:16.605252Z",
     "start_time": "2021-11-15T05:11:16.589241Z"
    }
   },
   "outputs": [
    {
     "name": "stdout",
     "output_type": "stream",
     "text": [
      "0.2891069046174478\n"
     ]
    }
   ],
   "source": [
    "sales_values = df[\"left\"].iloc[dp_indices[\"sales\"]].values\n",
    "technical_values = df[\"left\"].iloc[dp_indices[\"technical\"]].values\n",
    "print(ss.ttest_ind(sales_values, technical_values)[1]) # p 值"
   ]
  },
  {
   "cell_type": "markdown",
   "metadata": {},
   "source": [
    "### 交叉分析\n",
    "#### p 值"
   ]
  },
  {
   "cell_type": "code",
   "execution_count": 14,
   "metadata": {
    "ExecuteTime": {
     "end_time": "2021-11-15T05:23:58.486227Z",
     "start_time": "2021-11-15T05:23:57.820590Z"
    }
   },
   "outputs": [
    {
     "data": {
      "image/png": "[encoded data removed]",
      "text/plain": [
       "<Figure size 432x288 with 2 Axes>"
      ]
     },
     "metadata": {
      "needs_background": "light"
     },
     "output_type": "display_data"
    }
   ],
   "source": [
    "## 交叉分析\n",
    "dp_keys = list(dp_indices.keys())\n",
    "dp_t_mat = np.zeros([len(dp_keys), len(dp_keys)])\n",
    "for i in range(len(dp_keys)):\n",
    "    for j in range(len(dp_keys)):\n",
    "        p_value = ss.ttest_ind(df[\"left\"].iloc[dp_indices[dp_keys[i]]].values, \\\n",
    "                    df[\"left\"].iloc[dp_indices[dp_keys[j]]].values)[1]\n",
    "        # 突出显示离职率有显著差异的部门\n",
    "        if p_value < 0.05:\n",
    "            dp_t_mat[i][j] = -1\n",
    "        else:\n",
    "            dp_t_mat[i][j] = p_value\n",
    "sns.heatmap(dp_t_mat, xticklabels=dp_keys, yticklabels=dp_keys)\n",
    "plt.show()"
   ]
  },
  {
   "cell_type": "markdown",
   "metadata": {},
   "source": [
    "#### 透视表"
   ]
  },
  {
   "cell_type": "code",
   "execution_count": 17,
   "metadata": {
    "ExecuteTime": {
     "end_time": "2021-11-15T05:32:20.122102Z",
     "start_time": "2021-11-15T05:32:20.110108Z"
    }
   },
   "outputs": [
    {
     "name": "stdout",
     "output_type": "stream",
     "text": [
      "Index(['satisfaction_level', 'last_evaluation', 'number_project',\n",
      "       'average_monthly_hours', 'time_spend_company', 'Work_accident', 'left',\n",
      "       'promotion_last_5years', 'Department', 'salary'],\n",
      "      dtype='object')\n"
     ]
    }
   ],
   "source": [
    "df_cols = df.columns # 字段名\n",
    "print(df_cols)"
   ]
  },
  {
   "cell_type": "code",
   "execution_count": 18,
   "metadata": {
    "ExecuteTime": {
     "end_time": "2021-11-15T05:34:26.967156Z",
     "start_time": "2021-11-15T05:34:26.905191Z"
    }
   },
   "outputs": [
    {
     "name": "stdout",
     "output_type": "stream",
     "text": [
      "Work_accident                        0         1\n",
      "promotion_last_5years salary                    \n",
      "0                     high    0.082996  0.000000\n",
      "                      low     0.331728  0.090020\n",
      "                      medium  0.230683  0.081655\n",
      "1                     high    0.000000  0.000000\n",
      "                      low     0.229167  0.166667\n",
      "                      medium  0.028986  0.023256\n"
     ]
    }
   ],
   "source": [
    "## 透视表\n",
    "piv_tb = pd.pivot_table(df, values=\"left\", index=[\"promotion_last_5years\", \"salary\"], \\\n",
    "                       columns=[\"Work_accident\"], aggfunc=np.mean)\n",
    "print(piv_tb)"
   ]
  },
  {
   "cell_type": "code",
   "execution_count": 20,
   "metadata": {
    "ExecuteTime": {
     "end_time": "2021-11-15T05:37:25.843890Z",
     "start_time": "2021-11-15T05:37:25.439123Z"
    }
   },
   "outputs": [
    {
     "data": {
      "image/png": "[encoded data removed]",
      "text/plain": [
       "<Figure size 432x288 with 2 Axes>"
      ]
     },
     "metadata": {
      "needs_background": "light"
     },
     "output_type": "display_data"
    }
   ],
   "source": [
    "sns.heatmap(piv_tb, vmin=0, vmax=1, cmap=sns.color_palette(\"Reds\", n_colors=256))\n",
    "plt.show()"
   ]
  },
  {
   "cell_type": "markdown",
   "metadata": {
    "ExecuteTime": {
     "end_time": "2021-11-15T05:46:28.922769Z",
     "start_time": "2021-11-15T05:46:28.906782Z"
    }
   },
   "source": [
    "### 分组与钻取\n",
    "- 连续分组\n",
    "    - 分隔（一阶差分）\n",
    "    - 拐点（二阶差分）\n",
    "    - 聚类\n",
    "    - 不纯度（Gini）\n",
    "- 不纯度（Gini）：$$Gini(D) = 1 - \\sum(\\frac{C_k}{D})^2$$\n"
   ]
  },
  {
   "cell_type": "code",
   "execution_count": 23,
   "metadata": {
    "ExecuteTime": {
     "end_time": "2021-11-15T05:52:23.310902Z",
     "start_time": "2021-11-15T05:52:23.294915Z"
    }
   },
   "outputs": [],
   "source": [
    "## 导包\n",
    "import numpy as np # 数值计算\n",
    "import pandas as pd # 数据分析\n",
    "import scipy.stats as ss # 统计分析\n",
    "import matplotlib.pyplot as plt # 绘图\n",
    "import seaborn as sns"
   ]
  },
  {
   "cell_type": "code",
   "execution_count": 25,
   "metadata": {
    "ExecuteTime": {
     "end_time": "2021-11-15T05:55:17.259336Z",
     "start_time": "2021-11-15T05:55:17.198369Z"
    }
   },
   "outputs": [
    {
     "data": {
      "text/plain": [
       "Index(['satisfaction_level', 'last_evaluation', 'number_project',\n",
       "       'average_monthly_hours', 'time_spend_company', 'Work_accident', 'left',\n",
       "       'promotion_last_5years', 'Department', 'salary'],\n",
       "      dtype='object')"
      ]
     },
     "execution_count": 25,
     "metadata": {},
     "output_type": "execute_result"
    }
   ],
   "source": [
    "## 加载数据\n",
    "df = pd.read_csv(\".//datasets/HR_comma_sep.csv\")\n",
    "df.columns"
   ]
  },
  {
   "cell_type": "code",
   "execution_count": 26,
   "metadata": {
    "ExecuteTime": {
     "end_time": "2021-11-15T05:55:55.183953Z",
     "start_time": "2021-11-15T05:55:52.381561Z"
    }
   },
   "outputs": [
    {
     "data": {
      "text/plain": [
       "<function matplotlib.pyplot.show(close=None, block=None)>"
      ]
     },
     "execution_count": 26,
     "metadata": {},
     "output_type": "execute_result"
    },
    {
     "data": {
      "image/png": "[encoded data removed]",
      "text/plain": [
       "<Figure size 432x288 with 1 Axes>"
      ]
     },
     "metadata": {
      "needs_background": "light"
     },
     "output_type": "display_data"
    }
   ],
   "source": [
    "## 分组分析\n",
    "# sns.set_context(font_scale=1.5)\n",
    "sns.barplot(x=\"salary\", y=\"left\", hue=\"Department\", data=df)\n",
    "plt.show"
   ]
  },
  {
   "cell_type": "code",
   "execution_count": 28,
   "metadata": {
    "ExecuteTime": {
     "end_time": "2021-11-15T06:20:25.663688Z",
     "start_time": "2021-11-15T06:12:42.526060Z"
    }
   },
   "outputs": [
    {
     "name": "stderr",
     "output_type": "stream",
     "text": [
      "c:\\programdata\\miniconda3\\lib\\site-packages\\seaborn\\_decorators.py:36: FutureWarning: Pass the following variables as keyword args: x, y. From version 0.12, the only valid positional argument will be `data`, and passing other arguments without an explicit keyword will result in an error or misinterpretation.\n",
      "  warnings.warn(\n"
     ]
    },
    {
     "data": {
      "image/png": "[encoded data removed]",
      "text/plain": [
       "<Figure size 432x288 with 1 Axes>"
      ]
     },
     "metadata": {
      "needs_background": "light"
     },
     "output_type": "display_data"
    }
   ],
   "source": [
    "sl_s = df[\"satisfaction_level\"]\n",
    "sns.barplot(list(range(len(sl_s))), sl_s.sort_values())\n",
    "plt.show()"
   ]
  },
  {
   "cell_type": "markdown",
   "metadata": {},
   "source": [
    "### 相关分析\n",
    "- 熵：$$H(X) = -\\sum p_{i}log(p_{i})$$\n",
    "- 条件熵：$$H(Y|X) = \\sum p(x_{i})H(Y|X=x_{i})$$\n",
    "- 互信息（熵增益）：$$I(X,Y) = H(Y) - H(Y|X) = H(X) - H(X|Y)$$\n",
    "- 熵增益率：$$GainRatio(X - > Y) = \\frac{I(X,Y)}{H(Y)}$$\n",
    "- 相关性：$$Corr(X,Y) = \\frac{I(X,Y)}{\\sqrt{H(X)H(Y)}}$$\n"
   ]
  },
  {
   "cell_type": "code",
   "execution_count": 1,
   "metadata": {
    "ExecuteTime": {
     "end_time": "2021-11-15T09:51:20.564597Z",
     "start_time": "2021-11-15T09:51:17.091080Z"
    }
   },
   "outputs": [],
   "source": [
    "## 导包\n",
    "import numpy as np # 数值计算\n",
    "import pandas as pd # 数据分析\n",
    "import scipy.stats as ss # 统计分析\n",
    "import matplotlib.pyplot as plt # 绘图\n",
    "import seaborn as sns"
   ]
  },
  {
   "cell_type": "code",
   "execution_count": 2,
   "metadata": {
    "ExecuteTime": {
     "end_time": "2021-11-15T09:51:22.181467Z",
     "start_time": "2021-11-15T09:51:22.120501Z"
    }
   },
   "outputs": [
    {
     "name": "stdout",
     "output_type": "stream",
     "text": [
      "Index(['satisfaction_level', 'last_evaluation', 'number_project',\n",
      "       'average_monthly_hours', 'time_spend_company', 'Work_accident', 'left',\n",
      "       'promotion_last_5years', 'Department', 'salary'],\n",
      "      dtype='object')\n"
     ]
    }
   ],
   "source": [
    "## 加载数据\n",
    "# sns.set_context(font_scale=1.5)\n",
    "df = pd.read_csv(\".//datasets/HR_comma_sep.csv\")\n",
    "print(df.columns)"
   ]
  },
  {
   "cell_type": "code",
   "execution_count": 3,
   "metadata": {
    "ExecuteTime": {
     "end_time": "2021-11-15T09:51:27.479853Z",
     "start_time": "2021-11-15T09:51:26.872343Z"
    }
   },
   "outputs": [
    {
     "data": {
      "image/png": "[encoded data removed]",
      "text/plain": [
       "<Figure size 432x288 with 2 Axes>"
      ]
     },
     "metadata": {
      "needs_background": "light"
     },
     "output_type": "display_data"
    }
   ],
   "source": [
    "## 相关分析\n",
    "# sns.set_context(font_scale=1.5)\n",
    "sns.heatmap(df.corr(), vmin=-1, vmax=1, cmap=sns.color_palette(\"RdBu\", n_colors=128))\n",
    "plt.show()"
   ]
  },
  {
   "cell_type": "markdown",
   "metadata": {},
   "source": [
    "#### 熵"
   ]
  },
  {
   "cell_type": "code",
   "execution_count": 72,
   "metadata": {
    "ExecuteTime": {
     "end_time": "2021-11-21T08:48:11.292103Z",
     "start_time": "2021-11-21T08:48:11.286109Z"
    }
   },
   "outputs": [],
   "source": [
    "## 熵\n",
    "def getEntropy(s):\n",
    "    import pandas as pd\n",
    "    if not isinstance(s, pd.core.series.Series):\n",
    "        s = pd.Series(s)\n",
    "    prt_ary = pd.groupby(s, by=s).count().values/float(len(s)) # 计算概率分布\n",
    "    \n",
    "    return -(np.log2(prt_ary)*prt_ary).sum()\n"
   ]
  },
  {
   "cell_type": "code",
   "execution_count": 73,
   "metadata": {
    "ExecuteTime": {
     "end_time": "2021-11-21T08:48:11.832791Z",
     "start_time": "2021-11-21T08:48:11.821799Z"
    }
   },
   "outputs": [],
   "source": [
    "s1 = pd.Series([\"X1\", \"X1\", \"X2\", \"X2\", \"X2\", \"X2\"])\n",
    "s2 = pd.Series([\"Y1\", \"Y1\", \"Y1\", \"Y2\", \"Y2\", \"Y2\"])"
   ]
  },
  {
   "cell_type": "code",
   "execution_count": 74,
   "metadata": {
    "ExecuteTime": {
     "end_time": "2021-11-21T08:48:12.595416Z",
     "start_time": "2021-11-21T08:48:12.542447Z"
    },
    "collapsed": true
   },
   "outputs": [
    {
     "ename": "AttributeError",
     "evalue": "module 'pandas' has no attribute 'groupby'",
     "output_type": "error",
     "traceback": [
      "\u001b[1;31m---------------------------------------------------------------------------\u001b[0m",
      "\u001b[1;31mAttributeError\u001b[0m                            Traceback (most recent call last)",
      "\u001b[1;32m<ipython-input-74-10f0d78f0137>\u001b[0m in \u001b[0;36m<module>\u001b[1;34m\u001b[0m\n\u001b[1;32m----> 1\u001b[1;33m \u001b[0mprint\u001b[0m\u001b[1;33m(\u001b[0m\u001b[1;34m\"Entropy:\"\u001b[0m\u001b[1;33m,\u001b[0m \u001b[0mgetEntropy\u001b[0m\u001b[1;33m(\u001b[0m\u001b[0ms2\u001b[0m\u001b[1;33m)\u001b[0m\u001b[1;33m)\u001b[0m\u001b[1;33m\u001b[0m\u001b[1;33m\u001b[0m\u001b[0m\n\u001b[0m",
      "\u001b[1;32m<ipython-input-72-194cb9773fbb>\u001b[0m in \u001b[0;36mgetEntropy\u001b[1;34m(s)\u001b[0m\n\u001b[0;32m      4\u001b[0m     \u001b[1;32mif\u001b[0m \u001b[1;32mnot\u001b[0m \u001b[0misinstance\u001b[0m\u001b[1;33m(\u001b[0m\u001b[0ms\u001b[0m\u001b[1;33m,\u001b[0m \u001b[0mpd\u001b[0m\u001b[1;33m.\u001b[0m\u001b[0mcore\u001b[0m\u001b[1;33m.\u001b[0m\u001b[0mseries\u001b[0m\u001b[1;33m.\u001b[0m\u001b[0mSeries\u001b[0m\u001b[1;33m)\u001b[0m\u001b[1;33m:\u001b[0m\u001b[1;33m\u001b[0m\u001b[1;33m\u001b[0m\u001b[0m\n\u001b[0;32m      5\u001b[0m         \u001b[0ms\u001b[0m \u001b[1;33m=\u001b[0m \u001b[0mpd\u001b[0m\u001b[1;33m.\u001b[0m\u001b[0mSeries\u001b[0m\u001b[1;33m(\u001b[0m\u001b[0ms\u001b[0m\u001b[1;33m)\u001b[0m\u001b[1;33m\u001b[0m\u001b[1;33m\u001b[0m\u001b[0m\n\u001b[1;32m----> 6\u001b[1;33m     \u001b[0mprt_ary\u001b[0m \u001b[1;33m=\u001b[0m \u001b[0mpd\u001b[0m\u001b[1;33m.\u001b[0m\u001b[0mgroupby\u001b[0m\u001b[1;33m(\u001b[0m\u001b[0ms\u001b[0m\u001b[1;33m,\u001b[0m \u001b[0mby\u001b[0m\u001b[1;33m=\u001b[0m\u001b[0ms\u001b[0m\u001b[1;33m)\u001b[0m\u001b[1;33m.\u001b[0m\u001b[0mcount\u001b[0m\u001b[1;33m(\u001b[0m\u001b[1;33m)\u001b[0m\u001b[1;33m.\u001b[0m\u001b[0mvalues\u001b[0m\u001b[1;33m/\u001b[0m\u001b[0mfloat\u001b[0m\u001b[1;33m(\u001b[0m\u001b[0mlen\u001b[0m\u001b[1;33m(\u001b[0m\u001b[0ms\u001b[0m\u001b[1;33m)\u001b[0m\u001b[1;33m)\u001b[0m \u001b[1;31m# 计算概率分布\u001b[0m\u001b[1;33m\u001b[0m\u001b[1;33m\u001b[0m\u001b[0m\n\u001b[0m\u001b[0;32m      7\u001b[0m \u001b[1;33m\u001b[0m\u001b[0m\n\u001b[0;32m      8\u001b[0m     \u001b[1;32mreturn\u001b[0m \u001b[1;33m-\u001b[0m\u001b[1;33m(\u001b[0m\u001b[0mnp\u001b[0m\u001b[1;33m.\u001b[0m\u001b[0mlog2\u001b[0m\u001b[1;33m(\u001b[0m\u001b[0mprt_ary\u001b[0m\u001b[1;33m)\u001b[0m\u001b[1;33m*\u001b[0m\u001b[0mprt_ary\u001b[0m\u001b[1;33m)\u001b[0m\u001b[1;33m.\u001b[0m\u001b[0msum\u001b[0m\u001b[1;33m(\u001b[0m\u001b[1;33m)\u001b[0m\u001b[1;33m\u001b[0m\u001b[1;33m\u001b[0m\u001b[0m\n",
      "\u001b[1;32mc:\\programdata\\miniconda3\\lib\\site-packages\\pandas\\__init__.py\u001b[0m in \u001b[0;36m__getattr__\u001b[1;34m(name)\u001b[0m\n\u001b[0;32m    256\u001b[0m             \u001b[1;32mreturn\u001b[0m \u001b[0m_SparseArray\u001b[0m\u001b[1;33m\u001b[0m\u001b[1;33m\u001b[0m\u001b[0m\n\u001b[0;32m    257\u001b[0m \u001b[1;33m\u001b[0m\u001b[0m\n\u001b[1;32m--> 258\u001b[1;33m         \u001b[1;32mraise\u001b[0m \u001b[0mAttributeError\u001b[0m\u001b[1;33m(\u001b[0m\u001b[1;34mf\"module 'pandas' has no attribute '{name}'\"\u001b[0m\u001b[1;33m)\u001b[0m\u001b[1;33m\u001b[0m\u001b[1;33m\u001b[0m\u001b[0m\n\u001b[0m\u001b[0;32m    259\u001b[0m \u001b[1;33m\u001b[0m\u001b[0m\n\u001b[0;32m    260\u001b[0m \u001b[1;33m\u001b[0m\u001b[0m\n",
      "\u001b[1;31mAttributeError\u001b[0m: module 'pandas' has no attribute 'groupby'"
     ]
    }
   ],
   "source": [
    "print(\"Entropy:\", getEntropy(s2)) # 打印熵"
   ]
  },
  {
   "cell_type": "markdown",
   "metadata": {},
   "source": [
    "#### 条件熵"
   ]
  },
  {
   "cell_type": "code",
   "execution_count": 75,
   "metadata": {
    "ExecuteTime": {
     "end_time": "2021-11-21T08:48:17.805488Z",
     "start_time": "2021-11-21T08:48:17.785499Z"
    }
   },
   "outputs": [],
   "source": [
    "## 条件熵\n",
    "def getCondEntropy(s1,s2):\n",
    "    d = dict()\n",
    "    for i in list(range(len(s1))):\n",
    "        d[s1[i]] = d.get(s1[i], []) + [s2[i]]\n",
    "        \n",
    "    return sum([getEntropy(d[k])*len(d[k])/float(len(s1)) for k in d])\n"
   ]
  },
  {
   "cell_type": "code",
   "execution_count": 76,
   "metadata": {
    "ExecuteTime": {
     "end_time": "2021-11-21T08:48:18.732955Z",
     "start_time": "2021-11-21T08:48:18.640012Z"
    },
    "collapsed": true
   },
   "outputs": [
    {
     "ename": "AttributeError",
     "evalue": "module 'pandas' has no attribute 'groupby'",
     "output_type": "error",
     "traceback": [
      "\u001b[1;31m---------------------------------------------------------------------------\u001b[0m",
      "\u001b[1;31mAttributeError\u001b[0m                            Traceback (most recent call last)",
      "\u001b[1;32m<ipython-input-76-f1036196e38d>\u001b[0m in \u001b[0;36m<module>\u001b[1;34m\u001b[0m\n\u001b[1;32m----> 1\u001b[1;33m \u001b[0mprint\u001b[0m\u001b[1;33m(\u001b[0m\u001b[1;34m\"CondEntropy:\"\u001b[0m\u001b[1;33m,\u001b[0m \u001b[0mgetCondEntropy\u001b[0m\u001b[1;33m(\u001b[0m\u001b[0ms1\u001b[0m\u001b[1;33m,\u001b[0m\u001b[0ms2\u001b[0m\u001b[1;33m)\u001b[0m\u001b[1;33m)\u001b[0m\u001b[1;33m\u001b[0m\u001b[1;33m\u001b[0m\u001b[0m\n\u001b[0m",
      "\u001b[1;32m<ipython-input-75-23c5e762637d>\u001b[0m in \u001b[0;36mgetCondEntropy\u001b[1;34m(s1, s2)\u001b[0m\n\u001b[0;32m      5\u001b[0m         \u001b[0md\u001b[0m\u001b[1;33m[\u001b[0m\u001b[0ms1\u001b[0m\u001b[1;33m[\u001b[0m\u001b[0mi\u001b[0m\u001b[1;33m]\u001b[0m\u001b[1;33m]\u001b[0m \u001b[1;33m=\u001b[0m \u001b[0md\u001b[0m\u001b[1;33m.\u001b[0m\u001b[0mget\u001b[0m\u001b[1;33m(\u001b[0m\u001b[0ms1\u001b[0m\u001b[1;33m[\u001b[0m\u001b[0mi\u001b[0m\u001b[1;33m]\u001b[0m\u001b[1;33m,\u001b[0m \u001b[1;33m[\u001b[0m\u001b[1;33m]\u001b[0m\u001b[1;33m)\u001b[0m \u001b[1;33m+\u001b[0m \u001b[1;33m[\u001b[0m\u001b[0ms2\u001b[0m\u001b[1;33m[\u001b[0m\u001b[0mi\u001b[0m\u001b[1;33m]\u001b[0m\u001b[1;33m]\u001b[0m\u001b[1;33m\u001b[0m\u001b[1;33m\u001b[0m\u001b[0m\n\u001b[0;32m      6\u001b[0m \u001b[1;33m\u001b[0m\u001b[0m\n\u001b[1;32m----> 7\u001b[1;33m     \u001b[1;32mreturn\u001b[0m \u001b[0msum\u001b[0m\u001b[1;33m(\u001b[0m\u001b[1;33m[\u001b[0m\u001b[0mgetEntropy\u001b[0m\u001b[1;33m(\u001b[0m\u001b[0md\u001b[0m\u001b[1;33m[\u001b[0m\u001b[0mk\u001b[0m\u001b[1;33m]\u001b[0m\u001b[1;33m)\u001b[0m\u001b[1;33m*\u001b[0m\u001b[0mlen\u001b[0m\u001b[1;33m(\u001b[0m\u001b[0md\u001b[0m\u001b[1;33m[\u001b[0m\u001b[0mk\u001b[0m\u001b[1;33m]\u001b[0m\u001b[1;33m)\u001b[0m\u001b[1;33m/\u001b[0m\u001b[0mfloat\u001b[0m\u001b[1;33m(\u001b[0m\u001b[0mlen\u001b[0m\u001b[1;33m(\u001b[0m\u001b[0ms1\u001b[0m\u001b[1;33m)\u001b[0m\u001b[1;33m)\u001b[0m \u001b[1;32mfor\u001b[0m \u001b[0mk\u001b[0m \u001b[1;32min\u001b[0m \u001b[0md\u001b[0m\u001b[1;33m]\u001b[0m\u001b[1;33m)\u001b[0m\u001b[1;33m\u001b[0m\u001b[1;33m\u001b[0m\u001b[0m\n\u001b[0m",
      "\u001b[1;32m<ipython-input-75-23c5e762637d>\u001b[0m in \u001b[0;36m<listcomp>\u001b[1;34m(.0)\u001b[0m\n\u001b[0;32m      5\u001b[0m         \u001b[0md\u001b[0m\u001b[1;33m[\u001b[0m\u001b[0ms1\u001b[0m\u001b[1;33m[\u001b[0m\u001b[0mi\u001b[0m\u001b[1;33m]\u001b[0m\u001b[1;33m]\u001b[0m \u001b[1;33m=\u001b[0m \u001b[0md\u001b[0m\u001b[1;33m.\u001b[0m\u001b[0mget\u001b[0m\u001b[1;33m(\u001b[0m\u001b[0ms1\u001b[0m\u001b[1;33m[\u001b[0m\u001b[0mi\u001b[0m\u001b[1;33m]\u001b[0m\u001b[1;33m,\u001b[0m \u001b[1;33m[\u001b[0m\u001b[1;33m]\u001b[0m\u001b[1;33m)\u001b[0m \u001b[1;33m+\u001b[0m \u001b[1;33m[\u001b[0m\u001b[0ms2\u001b[0m\u001b[1;33m[\u001b[0m\u001b[0mi\u001b[0m\u001b[1;33m]\u001b[0m\u001b[1;33m]\u001b[0m\u001b[1;33m\u001b[0m\u001b[1;33m\u001b[0m\u001b[0m\n\u001b[0;32m      6\u001b[0m \u001b[1;33m\u001b[0m\u001b[0m\n\u001b[1;32m----> 7\u001b[1;33m     \u001b[1;32mreturn\u001b[0m \u001b[0msum\u001b[0m\u001b[1;33m(\u001b[0m\u001b[1;33m[\u001b[0m\u001b[0mgetEntropy\u001b[0m\u001b[1;33m(\u001b[0m\u001b[0md\u001b[0m\u001b[1;33m[\u001b[0m\u001b[0mk\u001b[0m\u001b[1;33m]\u001b[0m\u001b[1;33m)\u001b[0m\u001b[1;33m*\u001b[0m\u001b[0mlen\u001b[0m\u001b[1;33m(\u001b[0m\u001b[0md\u001b[0m\u001b[1;33m[\u001b[0m\u001b[0mk\u001b[0m\u001b[1;33m]\u001b[0m\u001b[1;33m)\u001b[0m\u001b[1;33m/\u001b[0m\u001b[0mfloat\u001b[0m\u001b[1;33m(\u001b[0m\u001b[0mlen\u001b[0m\u001b[1;33m(\u001b[0m\u001b[0ms1\u001b[0m\u001b[1;33m)\u001b[0m\u001b[1;33m)\u001b[0m \u001b[1;32mfor\u001b[0m \u001b[0mk\u001b[0m \u001b[1;32min\u001b[0m \u001b[0md\u001b[0m\u001b[1;33m]\u001b[0m\u001b[1;33m)\u001b[0m\u001b[1;33m\u001b[0m\u001b[1;33m\u001b[0m\u001b[0m\n\u001b[0m",
      "\u001b[1;32m<ipython-input-72-194cb9773fbb>\u001b[0m in \u001b[0;36mgetEntropy\u001b[1;34m(s)\u001b[0m\n\u001b[0;32m      4\u001b[0m     \u001b[1;32mif\u001b[0m \u001b[1;32mnot\u001b[0m \u001b[0misinstance\u001b[0m\u001b[1;33m(\u001b[0m\u001b[0ms\u001b[0m\u001b[1;33m,\u001b[0m \u001b[0mpd\u001b[0m\u001b[1;33m.\u001b[0m\u001b[0mcore\u001b[0m\u001b[1;33m.\u001b[0m\u001b[0mseries\u001b[0m\u001b[1;33m.\u001b[0m\u001b[0mSeries\u001b[0m\u001b[1;33m)\u001b[0m\u001b[1;33m:\u001b[0m\u001b[1;33m\u001b[0m\u001b[1;33m\u001b[0m\u001b[0m\n\u001b[0;32m      5\u001b[0m         \u001b[0ms\u001b[0m \u001b[1;33m=\u001b[0m \u001b[0mpd\u001b[0m\u001b[1;33m.\u001b[0m\u001b[0mSeries\u001b[0m\u001b[1;33m(\u001b[0m\u001b[0ms\u001b[0m\u001b[1;33m)\u001b[0m\u001b[1;33m\u001b[0m\u001b[1;33m\u001b[0m\u001b[0m\n\u001b[1;32m----> 6\u001b[1;33m     \u001b[0mprt_ary\u001b[0m \u001b[1;33m=\u001b[0m \u001b[0mpd\u001b[0m\u001b[1;33m.\u001b[0m\u001b[0mgroupby\u001b[0m\u001b[1;33m(\u001b[0m\u001b[0ms\u001b[0m\u001b[1;33m,\u001b[0m \u001b[0mby\u001b[0m\u001b[1;33m=\u001b[0m\u001b[0ms\u001b[0m\u001b[1;33m)\u001b[0m\u001b[1;33m.\u001b[0m\u001b[0mcount\u001b[0m\u001b[1;33m(\u001b[0m\u001b[1;33m)\u001b[0m\u001b[1;33m.\u001b[0m\u001b[0mvalues\u001b[0m\u001b[1;33m/\u001b[0m\u001b[0mfloat\u001b[0m\u001b[1;33m(\u001b[0m\u001b[0mlen\u001b[0m\u001b[1;33m(\u001b[0m\u001b[0ms\u001b[0m\u001b[1;33m)\u001b[0m\u001b[1;33m)\u001b[0m \u001b[1;31m# 计算概率分布\u001b[0m\u001b[1;33m\u001b[0m\u001b[1;33m\u001b[0m\u001b[0m\n\u001b[0m\u001b[0;32m      7\u001b[0m \u001b[1;33m\u001b[0m\u001b[0m\n\u001b[0;32m      8\u001b[0m     \u001b[1;32mreturn\u001b[0m \u001b[1;33m-\u001b[0m\u001b[1;33m(\u001b[0m\u001b[0mnp\u001b[0m\u001b[1;33m.\u001b[0m\u001b[0mlog2\u001b[0m\u001b[1;33m(\u001b[0m\u001b[0mprt_ary\u001b[0m\u001b[1;33m)\u001b[0m\u001b[1;33m*\u001b[0m\u001b[0mprt_ary\u001b[0m\u001b[1;33m)\u001b[0m\u001b[1;33m.\u001b[0m\u001b[0msum\u001b[0m\u001b[1;33m(\u001b[0m\u001b[1;33m)\u001b[0m\u001b[1;33m\u001b[0m\u001b[1;33m\u001b[0m\u001b[0m\n",
      "\u001b[1;32mc:\\programdata\\miniconda3\\lib\\site-packages\\pandas\\__init__.py\u001b[0m in \u001b[0;36m__getattr__\u001b[1;34m(name)\u001b[0m\n\u001b[0;32m    256\u001b[0m             \u001b[1;32mreturn\u001b[0m \u001b[0m_SparseArray\u001b[0m\u001b[1;33m\u001b[0m\u001b[1;33m\u001b[0m\u001b[0m\n\u001b[0;32m    257\u001b[0m \u001b[1;33m\u001b[0m\u001b[0m\n\u001b[1;32m--> 258\u001b[1;33m         \u001b[1;32mraise\u001b[0m \u001b[0mAttributeError\u001b[0m\u001b[1;33m(\u001b[0m\u001b[1;34mf\"module 'pandas' has no attribute '{name}'\"\u001b[0m\u001b[1;33m)\u001b[0m\u001b[1;33m\u001b[0m\u001b[1;33m\u001b[0m\u001b[0m\n\u001b[0m\u001b[0;32m    259\u001b[0m \u001b[1;33m\u001b[0m\u001b[0m\n\u001b[0;32m    260\u001b[0m \u001b[1;33m\u001b[0m\u001b[0m\n",
      "\u001b[1;31mAttributeError\u001b[0m: module 'pandas' has no attribute 'groupby'"
     ]
    }
   ],
   "source": [
    "print(\"CondEntropy:\", getCondEntropy(s1,s2)) # 打印条件熵"
   ]
  },
  {
   "cell_type": "markdown",
   "metadata": {},
   "source": [
    "#### 熵增益"
   ]
  },
  {
   "cell_type": "code",
   "execution_count": 77,
   "metadata": {
    "ExecuteTime": {
     "end_time": "2021-11-21T08:48:24.527095Z",
     "start_time": "2021-11-21T08:48:24.517124Z"
    }
   },
   "outputs": [],
   "source": [
    "## 熵增益\n",
    "def getEntropyGain(s1, s2):\n",
    "    return getEntropy(s2) - getCondEntropy(s1, s2)\n"
   ]
  },
  {
   "cell_type": "code",
   "execution_count": 78,
   "metadata": {
    "ExecuteTime": {
     "end_time": "2021-11-21T08:48:24.972839Z",
     "start_time": "2021-11-21T08:48:24.920870Z"
    },
    "collapsed": true
   },
   "outputs": [
    {
     "ename": "AttributeError",
     "evalue": "module 'pandas' has no attribute 'groupby'",
     "output_type": "error",
     "traceback": [
      "\u001b[1;31m---------------------------------------------------------------------------\u001b[0m",
      "\u001b[1;31mAttributeError\u001b[0m                            Traceback (most recent call last)",
      "\u001b[1;32m<ipython-input-78-d17d317daa2b>\u001b[0m in \u001b[0;36m<module>\u001b[1;34m\u001b[0m\n\u001b[1;32m----> 1\u001b[1;33m \u001b[0mprint\u001b[0m\u001b[1;33m(\u001b[0m\u001b[1;34m\"EntropyGin:\"\u001b[0m\u001b[1;33m,\u001b[0m \u001b[0mgetEntropyGain\u001b[0m\u001b[1;33m(\u001b[0m\u001b[0ms1\u001b[0m\u001b[1;33m,\u001b[0m \u001b[0ms2\u001b[0m\u001b[1;33m)\u001b[0m\u001b[1;33m)\u001b[0m\u001b[1;33m\u001b[0m\u001b[1;33m\u001b[0m\u001b[0m\n\u001b[0m\u001b[0;32m      2\u001b[0m \u001b[0mprint\u001b[0m\u001b[1;33m(\u001b[0m\u001b[1;34m\"EntropyGin:\"\u001b[0m\u001b[1;33m,\u001b[0m \u001b[0mgetEntropyGain\u001b[0m\u001b[1;33m(\u001b[0m\u001b[0ms2\u001b[0m\u001b[1;33m,\u001b[0m \u001b[0ms1\u001b[0m\u001b[1;33m)\u001b[0m\u001b[1;33m)\u001b[0m\u001b[1;33m\u001b[0m\u001b[1;33m\u001b[0m\u001b[0m\n",
      "\u001b[1;32m<ipython-input-77-df11183d3adf>\u001b[0m in \u001b[0;36mgetEntropyGain\u001b[1;34m(s1, s2)\u001b[0m\n\u001b[0;32m      1\u001b[0m \u001b[1;31m## 熵增益\u001b[0m\u001b[1;33m\u001b[0m\u001b[1;33m\u001b[0m\u001b[1;33m\u001b[0m\u001b[0m\n\u001b[0;32m      2\u001b[0m \u001b[1;32mdef\u001b[0m \u001b[0mgetEntropyGain\u001b[0m\u001b[1;33m(\u001b[0m\u001b[0ms1\u001b[0m\u001b[1;33m,\u001b[0m \u001b[0ms2\u001b[0m\u001b[1;33m)\u001b[0m\u001b[1;33m:\u001b[0m\u001b[1;33m\u001b[0m\u001b[1;33m\u001b[0m\u001b[0m\n\u001b[1;32m----> 3\u001b[1;33m     \u001b[1;32mreturn\u001b[0m \u001b[0mgetEntropy\u001b[0m\u001b[1;33m(\u001b[0m\u001b[0ms2\u001b[0m\u001b[1;33m)\u001b[0m \u001b[1;33m-\u001b[0m \u001b[0mgetCondEntropy\u001b[0m\u001b[1;33m(\u001b[0m\u001b[0ms1\u001b[0m\u001b[1;33m,\u001b[0m \u001b[0ms2\u001b[0m\u001b[1;33m)\u001b[0m\u001b[1;33m\u001b[0m\u001b[1;33m\u001b[0m\u001b[0m\n\u001b[0m",
      "\u001b[1;32m<ipython-input-72-194cb9773fbb>\u001b[0m in \u001b[0;36mgetEntropy\u001b[1;34m(s)\u001b[0m\n\u001b[0;32m      4\u001b[0m     \u001b[1;32mif\u001b[0m \u001b[1;32mnot\u001b[0m \u001b[0misinstance\u001b[0m\u001b[1;33m(\u001b[0m\u001b[0ms\u001b[0m\u001b[1;33m,\u001b[0m \u001b[0mpd\u001b[0m\u001b[1;33m.\u001b[0m\u001b[0mcore\u001b[0m\u001b[1;33m.\u001b[0m\u001b[0mseries\u001b[0m\u001b[1;33m.\u001b[0m\u001b[0mSeries\u001b[0m\u001b[1;33m)\u001b[0m\u001b[1;33m:\u001b[0m\u001b[1;33m\u001b[0m\u001b[1;33m\u001b[0m\u001b[0m\n\u001b[0;32m      5\u001b[0m         \u001b[0ms\u001b[0m \u001b[1;33m=\u001b[0m \u001b[0mpd\u001b[0m\u001b[1;33m.\u001b[0m\u001b[0mSeries\u001b[0m\u001b[1;33m(\u001b[0m\u001b[0ms\u001b[0m\u001b[1;33m)\u001b[0m\u001b[1;33m\u001b[0m\u001b[1;33m\u001b[0m\u001b[0m\n\u001b[1;32m----> 6\u001b[1;33m     \u001b[0mprt_ary\u001b[0m \u001b[1;33m=\u001b[0m \u001b[0mpd\u001b[0m\u001b[1;33m.\u001b[0m\u001b[0mgroupby\u001b[0m\u001b[1;33m(\u001b[0m\u001b[0ms\u001b[0m\u001b[1;33m,\u001b[0m \u001b[0mby\u001b[0m\u001b[1;33m=\u001b[0m\u001b[0ms\u001b[0m\u001b[1;33m)\u001b[0m\u001b[1;33m.\u001b[0m\u001b[0mcount\u001b[0m\u001b[1;33m(\u001b[0m\u001b[1;33m)\u001b[0m\u001b[1;33m.\u001b[0m\u001b[0mvalues\u001b[0m\u001b[1;33m/\u001b[0m\u001b[0mfloat\u001b[0m\u001b[1;33m(\u001b[0m\u001b[0mlen\u001b[0m\u001b[1;33m(\u001b[0m\u001b[0ms\u001b[0m\u001b[1;33m)\u001b[0m\u001b[1;33m)\u001b[0m \u001b[1;31m# 计算概率分布\u001b[0m\u001b[1;33m\u001b[0m\u001b[1;33m\u001b[0m\u001b[0m\n\u001b[0m\u001b[0;32m      7\u001b[0m \u001b[1;33m\u001b[0m\u001b[0m\n\u001b[0;32m      8\u001b[0m     \u001b[1;32mreturn\u001b[0m \u001b[1;33m-\u001b[0m\u001b[1;33m(\u001b[0m\u001b[0mnp\u001b[0m\u001b[1;33m.\u001b[0m\u001b[0mlog2\u001b[0m\u001b[1;33m(\u001b[0m\u001b[0mprt_ary\u001b[0m\u001b[1;33m)\u001b[0m\u001b[1;33m*\u001b[0m\u001b[0mprt_ary\u001b[0m\u001b[1;33m)\u001b[0m\u001b[1;33m.\u001b[0m\u001b[0msum\u001b[0m\u001b[1;33m(\u001b[0m\u001b[1;33m)\u001b[0m\u001b[1;33m\u001b[0m\u001b[1;33m\u001b[0m\u001b[0m\n",
      "\u001b[1;32mc:\\programdata\\miniconda3\\lib\\site-packages\\pandas\\__init__.py\u001b[0m in \u001b[0;36m__getattr__\u001b[1;34m(name)\u001b[0m\n\u001b[0;32m    256\u001b[0m             \u001b[1;32mreturn\u001b[0m \u001b[0m_SparseArray\u001b[0m\u001b[1;33m\u001b[0m\u001b[1;33m\u001b[0m\u001b[0m\n\u001b[0;32m    257\u001b[0m \u001b[1;33m\u001b[0m\u001b[0m\n\u001b[1;32m--> 258\u001b[1;33m         \u001b[1;32mraise\u001b[0m \u001b[0mAttributeError\u001b[0m\u001b[1;33m(\u001b[0m\u001b[1;34mf\"module 'pandas' has no attribute '{name}'\"\u001b[0m\u001b[1;33m)\u001b[0m\u001b[1;33m\u001b[0m\u001b[1;33m\u001b[0m\u001b[0m\n\u001b[0m\u001b[0;32m    259\u001b[0m \u001b[1;33m\u001b[0m\u001b[0m\n\u001b[0;32m    260\u001b[0m \u001b[1;33m\u001b[0m\u001b[0m\n",
      "\u001b[1;31mAttributeError\u001b[0m: module 'pandas' has no attribute 'groupby'"
     ]
    }
   ],
   "source": [
    "print(\"EntropyGin:\", getEntropyGain(s1, s2))\n",
    "print(\"EntropyGin:\", getEntropyGain(s2, s1))"
   ]
  },
  {
   "cell_type": "markdown",
   "metadata": {},
   "source": [
    "#### 增益率"
   ]
  },
  {
   "cell_type": "code",
   "execution_count": 79,
   "metadata": {
    "ExecuteTime": {
     "end_time": "2021-11-21T08:48:32.367175Z",
     "start_time": "2021-11-21T08:48:32.358182Z"
    }
   },
   "outputs": [],
   "source": [
    "## 增益率\n",
    "def getEntropyGainRatio(s1, s2):\n",
    "    return getEntropyGain(s1, s2)/getEntropy(s2)\n"
   ]
  },
  {
   "cell_type": "code",
   "execution_count": 80,
   "metadata": {
    "ExecuteTime": {
     "end_time": "2021-11-21T08:48:32.855179Z",
     "start_time": "2021-11-21T08:48:32.788217Z"
    },
    "collapsed": true
   },
   "outputs": [
    {
     "ename": "AttributeError",
     "evalue": "module 'pandas' has no attribute 'groupby'",
     "output_type": "error",
     "traceback": [
      "\u001b[1;31m---------------------------------------------------------------------------\u001b[0m",
      "\u001b[1;31mAttributeError\u001b[0m                            Traceback (most recent call last)",
      "\u001b[1;32m<ipython-input-80-29f75400eab9>\u001b[0m in \u001b[0;36m<module>\u001b[1;34m\u001b[0m\n\u001b[1;32m----> 1\u001b[1;33m \u001b[0mprint\u001b[0m\u001b[1;33m(\u001b[0m\u001b[1;34m\"EntropyGainRatio:\"\u001b[0m\u001b[1;33m,\u001b[0m \u001b[0mgetEntropyGainRatio\u001b[0m\u001b[1;33m(\u001b[0m\u001b[0ms1\u001b[0m\u001b[1;33m,\u001b[0m \u001b[0ms2\u001b[0m\u001b[1;33m)\u001b[0m\u001b[1;33m)\u001b[0m\u001b[1;33m\u001b[0m\u001b[1;33m\u001b[0m\u001b[0m\n\u001b[0m\u001b[0;32m      2\u001b[0m \u001b[0mprint\u001b[0m\u001b[1;33m(\u001b[0m\u001b[1;34m\"EntropyGainRatio:\"\u001b[0m\u001b[1;33m,\u001b[0m \u001b[0mgetEntropyGainRatio\u001b[0m\u001b[1;33m(\u001b[0m\u001b[0ms2\u001b[0m\u001b[1;33m,\u001b[0m \u001b[0ms1\u001b[0m\u001b[1;33m)\u001b[0m\u001b[1;33m)\u001b[0m\u001b[1;33m\u001b[0m\u001b[1;33m\u001b[0m\u001b[0m\n",
      "\u001b[1;32m<ipython-input-79-3eeda0028a49>\u001b[0m in \u001b[0;36mgetEntropyGainRatio\u001b[1;34m(s1, s2)\u001b[0m\n\u001b[0;32m      1\u001b[0m \u001b[1;31m## 增益率\u001b[0m\u001b[1;33m\u001b[0m\u001b[1;33m\u001b[0m\u001b[1;33m\u001b[0m\u001b[0m\n\u001b[0;32m      2\u001b[0m \u001b[1;32mdef\u001b[0m \u001b[0mgetEntropyGainRatio\u001b[0m\u001b[1;33m(\u001b[0m\u001b[0ms1\u001b[0m\u001b[1;33m,\u001b[0m \u001b[0ms2\u001b[0m\u001b[1;33m)\u001b[0m\u001b[1;33m:\u001b[0m\u001b[1;33m\u001b[0m\u001b[1;33m\u001b[0m\u001b[0m\n\u001b[1;32m----> 3\u001b[1;33m     \u001b[1;32mreturn\u001b[0m \u001b[0mgetEntropyGain\u001b[0m\u001b[1;33m(\u001b[0m\u001b[0ms1\u001b[0m\u001b[1;33m,\u001b[0m \u001b[0ms2\u001b[0m\u001b[1;33m)\u001b[0m\u001b[1;33m/\u001b[0m\u001b[0mgetEntropy\u001b[0m\u001b[1;33m(\u001b[0m\u001b[0ms2\u001b[0m\u001b[1;33m)\u001b[0m\u001b[1;33m\u001b[0m\u001b[1;33m\u001b[0m\u001b[0m\n\u001b[0m",
      "\u001b[1;32m<ipython-input-77-df11183d3adf>\u001b[0m in \u001b[0;36mgetEntropyGain\u001b[1;34m(s1, s2)\u001b[0m\n\u001b[0;32m      1\u001b[0m \u001b[1;31m## 熵增益\u001b[0m\u001b[1;33m\u001b[0m\u001b[1;33m\u001b[0m\u001b[1;33m\u001b[0m\u001b[0m\n\u001b[0;32m      2\u001b[0m \u001b[1;32mdef\u001b[0m \u001b[0mgetEntropyGain\u001b[0m\u001b[1;33m(\u001b[0m\u001b[0ms1\u001b[0m\u001b[1;33m,\u001b[0m \u001b[0ms2\u001b[0m\u001b[1;33m)\u001b[0m\u001b[1;33m:\u001b[0m\u001b[1;33m\u001b[0m\u001b[1;33m\u001b[0m\u001b[0m\n\u001b[1;32m----> 3\u001b[1;33m     \u001b[1;32mreturn\u001b[0m \u001b[0mgetEntropy\u001b[0m\u001b[1;33m(\u001b[0m\u001b[0ms2\u001b[0m\u001b[1;33m)\u001b[0m \u001b[1;33m-\u001b[0m \u001b[0mgetCondEntropy\u001b[0m\u001b[1;33m(\u001b[0m\u001b[0ms1\u001b[0m\u001b[1;33m,\u001b[0m \u001b[0ms2\u001b[0m\u001b[1;33m)\u001b[0m\u001b[1;33m\u001b[0m\u001b[1;33m\u001b[0m\u001b[0m\n\u001b[0m",
      "\u001b[1;32m<ipython-input-72-194cb9773fbb>\u001b[0m in \u001b[0;36mgetEntropy\u001b[1;34m(s)\u001b[0m\n\u001b[0;32m      4\u001b[0m     \u001b[1;32mif\u001b[0m \u001b[1;32mnot\u001b[0m \u001b[0misinstance\u001b[0m\u001b[1;33m(\u001b[0m\u001b[0ms\u001b[0m\u001b[1;33m,\u001b[0m \u001b[0mpd\u001b[0m\u001b[1;33m.\u001b[0m\u001b[0mcore\u001b[0m\u001b[1;33m.\u001b[0m\u001b[0mseries\u001b[0m\u001b[1;33m.\u001b[0m\u001b[0mSeries\u001b[0m\u001b[1;33m)\u001b[0m\u001b[1;33m:\u001b[0m\u001b[1;33m\u001b[0m\u001b[1;33m\u001b[0m\u001b[0m\n\u001b[0;32m      5\u001b[0m         \u001b[0ms\u001b[0m \u001b[1;33m=\u001b[0m \u001b[0mpd\u001b[0m\u001b[1;33m.\u001b[0m\u001b[0mSeries\u001b[0m\u001b[1;33m(\u001b[0m\u001b[0ms\u001b[0m\u001b[1;33m)\u001b[0m\u001b[1;33m\u001b[0m\u001b[1;33m\u001b[0m\u001b[0m\n\u001b[1;32m----> 6\u001b[1;33m     \u001b[0mprt_ary\u001b[0m \u001b[1;33m=\u001b[0m \u001b[0mpd\u001b[0m\u001b[1;33m.\u001b[0m\u001b[0mgroupby\u001b[0m\u001b[1;33m(\u001b[0m\u001b[0ms\u001b[0m\u001b[1;33m,\u001b[0m \u001b[0mby\u001b[0m\u001b[1;33m=\u001b[0m\u001b[0ms\u001b[0m\u001b[1;33m)\u001b[0m\u001b[1;33m.\u001b[0m\u001b[0mcount\u001b[0m\u001b[1;33m(\u001b[0m\u001b[1;33m)\u001b[0m\u001b[1;33m.\u001b[0m\u001b[0mvalues\u001b[0m\u001b[1;33m/\u001b[0m\u001b[0mfloat\u001b[0m\u001b[1;33m(\u001b[0m\u001b[0mlen\u001b[0m\u001b[1;33m(\u001b[0m\u001b[0ms\u001b[0m\u001b[1;33m)\u001b[0m\u001b[1;33m)\u001b[0m \u001b[1;31m# 计算概率分布\u001b[0m\u001b[1;33m\u001b[0m\u001b[1;33m\u001b[0m\u001b[0m\n\u001b[0m\u001b[0;32m      7\u001b[0m \u001b[1;33m\u001b[0m\u001b[0m\n\u001b[0;32m      8\u001b[0m     \u001b[1;32mreturn\u001b[0m \u001b[1;33m-\u001b[0m\u001b[1;33m(\u001b[0m\u001b[0mnp\u001b[0m\u001b[1;33m.\u001b[0m\u001b[0mlog2\u001b[0m\u001b[1;33m(\u001b[0m\u001b[0mprt_ary\u001b[0m\u001b[1;33m)\u001b[0m\u001b[1;33m*\u001b[0m\u001b[0mprt_ary\u001b[0m\u001b[1;33m)\u001b[0m\u001b[1;33m.\u001b[0m\u001b[0msum\u001b[0m\u001b[1;33m(\u001b[0m\u001b[1;33m)\u001b[0m\u001b[1;33m\u001b[0m\u001b[1;33m\u001b[0m\u001b[0m\n",
      "\u001b[1;32mc:\\programdata\\miniconda3\\lib\\site-packages\\pandas\\__init__.py\u001b[0m in \u001b[0;36m__getattr__\u001b[1;34m(name)\u001b[0m\n\u001b[0;32m    256\u001b[0m             \u001b[1;32mreturn\u001b[0m \u001b[0m_SparseArray\u001b[0m\u001b[1;33m\u001b[0m\u001b[1;33m\u001b[0m\u001b[0m\n\u001b[0;32m    257\u001b[0m \u001b[1;33m\u001b[0m\u001b[0m\n\u001b[1;32m--> 258\u001b[1;33m         \u001b[1;32mraise\u001b[0m \u001b[0mAttributeError\u001b[0m\u001b[1;33m(\u001b[0m\u001b[1;34mf\"module 'pandas' has no attribute '{name}'\"\u001b[0m\u001b[1;33m)\u001b[0m\u001b[1;33m\u001b[0m\u001b[1;33m\u001b[0m\u001b[0m\n\u001b[0m\u001b[0;32m    259\u001b[0m \u001b[1;33m\u001b[0m\u001b[0m\n\u001b[0;32m    260\u001b[0m \u001b[1;33m\u001b[0m\u001b[0m\n",
      "\u001b[1;31mAttributeError\u001b[0m: module 'pandas' has no attribute 'groupby'"
     ]
    }
   ],
   "source": [
    "print(\"EntropyGainRatio:\", getEntropyGainRatio(s1, s2)) # 增益率\n",
    "print(\"EntropyGainRatio:\", getEntropyGainRatio(s2, s1)) # 增益率"
   ]
  },
  {
   "cell_type": "markdown",
   "metadata": {},
   "source": [
    "#### 相关性"
   ]
  },
  {
   "cell_type": "code",
   "execution_count": 81,
   "metadata": {
    "ExecuteTime": {
     "end_time": "2021-11-21T08:48:37.177259Z",
     "start_time": "2021-11-21T08:48:37.158269Z"
    }
   },
   "outputs": [],
   "source": [
    "##　相关性\n",
    "def getDiscreteCorr(s1, s2):\n",
    "    import math # \n",
    "    return getEntropyGain(s1, s2)/math.sqrt(getEntropy(s1)*getEntropy(s2))"
   ]
  },
  {
   "cell_type": "code",
   "execution_count": 82,
   "metadata": {
    "ExecuteTime": {
     "end_time": "2021-11-21T08:48:37.574031Z",
     "start_time": "2021-11-21T08:48:37.520065Z"
    },
    "collapsed": true
   },
   "outputs": [
    {
     "ename": "AttributeError",
     "evalue": "module 'pandas' has no attribute 'groupby'",
     "output_type": "error",
     "traceback": [
      "\u001b[1;31m---------------------------------------------------------------------------\u001b[0m",
      "\u001b[1;31mAttributeError\u001b[0m                            Traceback (most recent call last)",
      "\u001b[1;32m<ipython-input-82-d2aefa9bd8c1>\u001b[0m in \u001b[0;36m<module>\u001b[1;34m\u001b[0m\n\u001b[1;32m----> 1\u001b[1;33m \u001b[0mprint\u001b[0m\u001b[1;33m(\u001b[0m\u001b[1;34m\"DiscreteCorr:\"\u001b[0m\u001b[1;33m,\u001b[0m \u001b[0mgetDiscreteCorr\u001b[0m\u001b[1;33m(\u001b[0m\u001b[0ms2\u001b[0m\u001b[1;33m,\u001b[0m \u001b[0ms1\u001b[0m\u001b[1;33m)\u001b[0m\u001b[1;33m)\u001b[0m\u001b[1;33m\u001b[0m\u001b[1;33m\u001b[0m\u001b[0m\n\u001b[0m",
      "\u001b[1;32m<ipython-input-81-0d5dd5fe4d20>\u001b[0m in \u001b[0;36mgetDiscreteCorr\u001b[1;34m(s1, s2)\u001b[0m\n\u001b[0;32m      2\u001b[0m \u001b[1;32mdef\u001b[0m \u001b[0mgetDiscreteCorr\u001b[0m\u001b[1;33m(\u001b[0m\u001b[0ms1\u001b[0m\u001b[1;33m,\u001b[0m \u001b[0ms2\u001b[0m\u001b[1;33m)\u001b[0m\u001b[1;33m:\u001b[0m\u001b[1;33m\u001b[0m\u001b[1;33m\u001b[0m\u001b[0m\n\u001b[0;32m      3\u001b[0m     \u001b[1;32mimport\u001b[0m \u001b[0mmath\u001b[0m \u001b[1;31m#\u001b[0m\u001b[1;33m\u001b[0m\u001b[1;33m\u001b[0m\u001b[0m\n\u001b[1;32m----> 4\u001b[1;33m     \u001b[1;32mreturn\u001b[0m \u001b[0mgetEntropyGain\u001b[0m\u001b[1;33m(\u001b[0m\u001b[0ms1\u001b[0m\u001b[1;33m,\u001b[0m \u001b[0ms2\u001b[0m\u001b[1;33m)\u001b[0m\u001b[1;33m/\u001b[0m\u001b[0mmath\u001b[0m\u001b[1;33m.\u001b[0m\u001b[0msqrt\u001b[0m\u001b[1;33m(\u001b[0m\u001b[0mgetEntropy\u001b[0m\u001b[1;33m(\u001b[0m\u001b[0ms1\u001b[0m\u001b[1;33m)\u001b[0m\u001b[1;33m*\u001b[0m\u001b[0mgetEntropy\u001b[0m\u001b[1;33m(\u001b[0m\u001b[0ms2\u001b[0m\u001b[1;33m)\u001b[0m\u001b[1;33m)\u001b[0m\u001b[1;33m\u001b[0m\u001b[1;33m\u001b[0m\u001b[0m\n\u001b[0m",
      "\u001b[1;32m<ipython-input-77-df11183d3adf>\u001b[0m in \u001b[0;36mgetEntropyGain\u001b[1;34m(s1, s2)\u001b[0m\n\u001b[0;32m      1\u001b[0m \u001b[1;31m## 熵增益\u001b[0m\u001b[1;33m\u001b[0m\u001b[1;33m\u001b[0m\u001b[1;33m\u001b[0m\u001b[0m\n\u001b[0;32m      2\u001b[0m \u001b[1;32mdef\u001b[0m \u001b[0mgetEntropyGain\u001b[0m\u001b[1;33m(\u001b[0m\u001b[0ms1\u001b[0m\u001b[1;33m,\u001b[0m \u001b[0ms2\u001b[0m\u001b[1;33m)\u001b[0m\u001b[1;33m:\u001b[0m\u001b[1;33m\u001b[0m\u001b[1;33m\u001b[0m\u001b[0m\n\u001b[1;32m----> 3\u001b[1;33m     \u001b[1;32mreturn\u001b[0m \u001b[0mgetEntropy\u001b[0m\u001b[1;33m(\u001b[0m\u001b[0ms2\u001b[0m\u001b[1;33m)\u001b[0m \u001b[1;33m-\u001b[0m \u001b[0mgetCondEntropy\u001b[0m\u001b[1;33m(\u001b[0m\u001b[0ms1\u001b[0m\u001b[1;33m,\u001b[0m \u001b[0ms2\u001b[0m\u001b[1;33m)\u001b[0m\u001b[1;33m\u001b[0m\u001b[1;33m\u001b[0m\u001b[0m\n\u001b[0m",
      "\u001b[1;32m<ipython-input-72-194cb9773fbb>\u001b[0m in \u001b[0;36mgetEntropy\u001b[1;34m(s)\u001b[0m\n\u001b[0;32m      4\u001b[0m     \u001b[1;32mif\u001b[0m \u001b[1;32mnot\u001b[0m \u001b[0misinstance\u001b[0m\u001b[1;33m(\u001b[0m\u001b[0ms\u001b[0m\u001b[1;33m,\u001b[0m \u001b[0mpd\u001b[0m\u001b[1;33m.\u001b[0m\u001b[0mcore\u001b[0m\u001b[1;33m.\u001b[0m\u001b[0mseries\u001b[0m\u001b[1;33m.\u001b[0m\u001b[0mSeries\u001b[0m\u001b[1;33m)\u001b[0m\u001b[1;33m:\u001b[0m\u001b[1;33m\u001b[0m\u001b[1;33m\u001b[0m\u001b[0m\n\u001b[0;32m      5\u001b[0m         \u001b[0ms\u001b[0m \u001b[1;33m=\u001b[0m \u001b[0mpd\u001b[0m\u001b[1;33m.\u001b[0m\u001b[0mSeries\u001b[0m\u001b[1;33m(\u001b[0m\u001b[0ms\u001b[0m\u001b[1;33m)\u001b[0m\u001b[1;33m\u001b[0m\u001b[1;33m\u001b[0m\u001b[0m\n\u001b[1;32m----> 6\u001b[1;33m     \u001b[0mprt_ary\u001b[0m \u001b[1;33m=\u001b[0m \u001b[0mpd\u001b[0m\u001b[1;33m.\u001b[0m\u001b[0mgroupby\u001b[0m\u001b[1;33m(\u001b[0m\u001b[0ms\u001b[0m\u001b[1;33m,\u001b[0m \u001b[0mby\u001b[0m\u001b[1;33m=\u001b[0m\u001b[0ms\u001b[0m\u001b[1;33m)\u001b[0m\u001b[1;33m.\u001b[0m\u001b[0mcount\u001b[0m\u001b[1;33m(\u001b[0m\u001b[1;33m)\u001b[0m\u001b[1;33m.\u001b[0m\u001b[0mvalues\u001b[0m\u001b[1;33m/\u001b[0m\u001b[0mfloat\u001b[0m\u001b[1;33m(\u001b[0m\u001b[0mlen\u001b[0m\u001b[1;33m(\u001b[0m\u001b[0ms\u001b[0m\u001b[1;33m)\u001b[0m\u001b[1;33m)\u001b[0m \u001b[1;31m# 计算概率分布\u001b[0m\u001b[1;33m\u001b[0m\u001b[1;33m\u001b[0m\u001b[0m\n\u001b[0m\u001b[0;32m      7\u001b[0m \u001b[1;33m\u001b[0m\u001b[0m\n\u001b[0;32m      8\u001b[0m     \u001b[1;32mreturn\u001b[0m \u001b[1;33m-\u001b[0m\u001b[1;33m(\u001b[0m\u001b[0mnp\u001b[0m\u001b[1;33m.\u001b[0m\u001b[0mlog2\u001b[0m\u001b[1;33m(\u001b[0m\u001b[0mprt_ary\u001b[0m\u001b[1;33m)\u001b[0m\u001b[1;33m*\u001b[0m\u001b[0mprt_ary\u001b[0m\u001b[1;33m)\u001b[0m\u001b[1;33m.\u001b[0m\u001b[0msum\u001b[0m\u001b[1;33m(\u001b[0m\u001b[1;33m)\u001b[0m\u001b[1;33m\u001b[0m\u001b[1;33m\u001b[0m\u001b[0m\n",
      "\u001b[1;32mc:\\programdata\\miniconda3\\lib\\site-packages\\pandas\\__init__.py\u001b[0m in \u001b[0;36m__getattr__\u001b[1;34m(name)\u001b[0m\n\u001b[0;32m    256\u001b[0m             \u001b[1;32mreturn\u001b[0m \u001b[0m_SparseArray\u001b[0m\u001b[1;33m\u001b[0m\u001b[1;33m\u001b[0m\u001b[0m\n\u001b[0;32m    257\u001b[0m \u001b[1;33m\u001b[0m\u001b[0m\n\u001b[1;32m--> 258\u001b[1;33m         \u001b[1;32mraise\u001b[0m \u001b[0mAttributeError\u001b[0m\u001b[1;33m(\u001b[0m\u001b[1;34mf\"module 'pandas' has no attribute '{name}'\"\u001b[0m\u001b[1;33m)\u001b[0m\u001b[1;33m\u001b[0m\u001b[1;33m\u001b[0m\u001b[0m\n\u001b[0m\u001b[0;32m    259\u001b[0m \u001b[1;33m\u001b[0m\u001b[0m\n\u001b[0;32m    260\u001b[0m \u001b[1;33m\u001b[0m\u001b[0m\n",
      "\u001b[1;31mAttributeError\u001b[0m: module 'pandas' has no attribute 'groupby'"
     ]
    }
   ],
   "source": [
    "print(\"DiscreteCorr:\", getDiscreteCorr(s2, s1))"
   ]
  },
  {
   "cell_type": "code",
   "execution_count": 84,
   "metadata": {
    "ExecuteTime": {
     "end_time": "2021-11-21T08:48:44.772364Z",
     "start_time": "2021-11-21T08:48:44.755378Z"
    }
   },
   "outputs": [],
   "source": [
    "## \n",
    "def getProbSS(s):\n",
    "    import pandas as pd # \n",
    "    if not isinstance(s, pd.core.series.Series):\n",
    "        s = pd.Series(s)\n",
    "    prt_ary = pd.groupby(s, by=s).count().values/float(len(s)) # 计算概率分布\n",
    "    \n",
    "    return sum(prt_ary**2)\n"
   ]
  },
  {
   "cell_type": "code",
   "execution_count": 85,
   "metadata": {
    "ExecuteTime": {
     "end_time": "2021-11-21T08:48:45.599655Z",
     "start_time": "2021-11-21T08:48:45.582666Z"
    }
   },
   "outputs": [],
   "source": [
    "## Gini 系数\n",
    "def getGini(s1, s2):\n",
    "    d = dict()\n",
    "    for i in list(range(len(s1))):\n",
    "        d[s1[i]] = d.get(s1[i], []) + [s2[i]]\n",
    "        \n",
    "    return 1-sum([getProbSS(d[k])*len(d[k])/float(len(s1)) for k in d])\n"
   ]
  },
  {
   "cell_type": "code",
   "execution_count": 86,
   "metadata": {
    "ExecuteTime": {
     "end_time": "2021-11-21T08:48:46.530562Z",
     "start_time": "2021-11-21T08:48:46.473573Z"
    },
    "collapsed": true
   },
   "outputs": [
    {
     "ename": "AttributeError",
     "evalue": "module 'pandas' has no attribute 'groupby'",
     "output_type": "error",
     "traceback": [
      "\u001b[1;31m---------------------------------------------------------------------------\u001b[0m",
      "\u001b[1;31mAttributeError\u001b[0m                            Traceback (most recent call last)",
      "\u001b[1;32m<ipython-input-86-6fbedb15c1e1>\u001b[0m in \u001b[0;36m<module>\u001b[1;34m\u001b[0m\n\u001b[1;32m----> 1\u001b[1;33m \u001b[0mprint\u001b[0m\u001b[1;33m(\u001b[0m\u001b[1;34m\"Gini:\"\u001b[0m\u001b[1;33m,\u001b[0m \u001b[0mgetGini\u001b[0m\u001b[1;33m(\u001b[0m\u001b[0ms1\u001b[0m\u001b[1;33m,\u001b[0m \u001b[0ms2\u001b[0m\u001b[1;33m)\u001b[0m\u001b[1;33m)\u001b[0m\u001b[1;33m\u001b[0m\u001b[1;33m\u001b[0m\u001b[0m\n\u001b[0m\u001b[0;32m      2\u001b[0m \u001b[0mprint\u001b[0m\u001b[1;33m(\u001b[0m\u001b[1;34m\"Gini:\"\u001b[0m\u001b[1;33m,\u001b[0m \u001b[0mgetGini\u001b[0m\u001b[1;33m(\u001b[0m\u001b[0ms2\u001b[0m\u001b[1;33m,\u001b[0m \u001b[0ms1\u001b[0m\u001b[1;33m)\u001b[0m\u001b[1;33m)\u001b[0m\u001b[1;33m\u001b[0m\u001b[1;33m\u001b[0m\u001b[0m\n",
      "\u001b[1;32m<ipython-input-85-aabc97561765>\u001b[0m in \u001b[0;36mgetGini\u001b[1;34m(s1, s2)\u001b[0m\n\u001b[0;32m      5\u001b[0m         \u001b[0md\u001b[0m\u001b[1;33m[\u001b[0m\u001b[0ms1\u001b[0m\u001b[1;33m[\u001b[0m\u001b[0mi\u001b[0m\u001b[1;33m]\u001b[0m\u001b[1;33m]\u001b[0m \u001b[1;33m=\u001b[0m \u001b[0md\u001b[0m\u001b[1;33m.\u001b[0m\u001b[0mget\u001b[0m\u001b[1;33m(\u001b[0m\u001b[0ms1\u001b[0m\u001b[1;33m[\u001b[0m\u001b[0mi\u001b[0m\u001b[1;33m]\u001b[0m\u001b[1;33m,\u001b[0m \u001b[1;33m[\u001b[0m\u001b[1;33m]\u001b[0m\u001b[1;33m)\u001b[0m \u001b[1;33m+\u001b[0m \u001b[1;33m[\u001b[0m\u001b[0ms2\u001b[0m\u001b[1;33m[\u001b[0m\u001b[0mi\u001b[0m\u001b[1;33m]\u001b[0m\u001b[1;33m]\u001b[0m\u001b[1;33m\u001b[0m\u001b[1;33m\u001b[0m\u001b[0m\n\u001b[0;32m      6\u001b[0m \u001b[1;33m\u001b[0m\u001b[0m\n\u001b[1;32m----> 7\u001b[1;33m     \u001b[1;32mreturn\u001b[0m \u001b[1;36m1\u001b[0m\u001b[1;33m-\u001b[0m\u001b[0msum\u001b[0m\u001b[1;33m(\u001b[0m\u001b[1;33m[\u001b[0m\u001b[0mgetProbSS\u001b[0m\u001b[1;33m(\u001b[0m\u001b[0md\u001b[0m\u001b[1;33m[\u001b[0m\u001b[0mk\u001b[0m\u001b[1;33m]\u001b[0m\u001b[1;33m)\u001b[0m\u001b[1;33m*\u001b[0m\u001b[0mlen\u001b[0m\u001b[1;33m(\u001b[0m\u001b[0md\u001b[0m\u001b[1;33m[\u001b[0m\u001b[0mk\u001b[0m\u001b[1;33m]\u001b[0m\u001b[1;33m)\u001b[0m\u001b[1;33m/\u001b[0m\u001b[0mfloat\u001b[0m\u001b[1;33m(\u001b[0m\u001b[0mlen\u001b[0m\u001b[1;33m(\u001b[0m\u001b[0ms1\u001b[0m\u001b[1;33m)\u001b[0m\u001b[1;33m)\u001b[0m \u001b[1;32mfor\u001b[0m \u001b[0mk\u001b[0m \u001b[1;32min\u001b[0m \u001b[0md\u001b[0m\u001b[1;33m]\u001b[0m\u001b[1;33m)\u001b[0m\u001b[1;33m\u001b[0m\u001b[1;33m\u001b[0m\u001b[0m\n\u001b[0m",
      "\u001b[1;32m<ipython-input-85-aabc97561765>\u001b[0m in \u001b[0;36m<listcomp>\u001b[1;34m(.0)\u001b[0m\n\u001b[0;32m      5\u001b[0m         \u001b[0md\u001b[0m\u001b[1;33m[\u001b[0m\u001b[0ms1\u001b[0m\u001b[1;33m[\u001b[0m\u001b[0mi\u001b[0m\u001b[1;33m]\u001b[0m\u001b[1;33m]\u001b[0m \u001b[1;33m=\u001b[0m \u001b[0md\u001b[0m\u001b[1;33m.\u001b[0m\u001b[0mget\u001b[0m\u001b[1;33m(\u001b[0m\u001b[0ms1\u001b[0m\u001b[1;33m[\u001b[0m\u001b[0mi\u001b[0m\u001b[1;33m]\u001b[0m\u001b[1;33m,\u001b[0m \u001b[1;33m[\u001b[0m\u001b[1;33m]\u001b[0m\u001b[1;33m)\u001b[0m \u001b[1;33m+\u001b[0m \u001b[1;33m[\u001b[0m\u001b[0ms2\u001b[0m\u001b[1;33m[\u001b[0m\u001b[0mi\u001b[0m\u001b[1;33m]\u001b[0m\u001b[1;33m]\u001b[0m\u001b[1;33m\u001b[0m\u001b[1;33m\u001b[0m\u001b[0m\n\u001b[0;32m      6\u001b[0m \u001b[1;33m\u001b[0m\u001b[0m\n\u001b[1;32m----> 7\u001b[1;33m     \u001b[1;32mreturn\u001b[0m \u001b[1;36m1\u001b[0m\u001b[1;33m-\u001b[0m\u001b[0msum\u001b[0m\u001b[1;33m(\u001b[0m\u001b[1;33m[\u001b[0m\u001b[0mgetProbSS\u001b[0m\u001b[1;33m(\u001b[0m\u001b[0md\u001b[0m\u001b[1;33m[\u001b[0m\u001b[0mk\u001b[0m\u001b[1;33m]\u001b[0m\u001b[1;33m)\u001b[0m\u001b[1;33m*\u001b[0m\u001b[0mlen\u001b[0m\u001b[1;33m(\u001b[0m\u001b[0md\u001b[0m\u001b[1;33m[\u001b[0m\u001b[0mk\u001b[0m\u001b[1;33m]\u001b[0m\u001b[1;33m)\u001b[0m\u001b[1;33m/\u001b[0m\u001b[0mfloat\u001b[0m\u001b[1;33m(\u001b[0m\u001b[0mlen\u001b[0m\u001b[1;33m(\u001b[0m\u001b[0ms1\u001b[0m\u001b[1;33m)\u001b[0m\u001b[1;33m)\u001b[0m \u001b[1;32mfor\u001b[0m \u001b[0mk\u001b[0m \u001b[1;32min\u001b[0m \u001b[0md\u001b[0m\u001b[1;33m]\u001b[0m\u001b[1;33m)\u001b[0m\u001b[1;33m\u001b[0m\u001b[1;33m\u001b[0m\u001b[0m\n\u001b[0m",
      "\u001b[1;32m<ipython-input-84-b75c13b2d294>\u001b[0m in \u001b[0;36mgetProbSS\u001b[1;34m(s)\u001b[0m\n\u001b[0;32m      4\u001b[0m     \u001b[1;32mif\u001b[0m \u001b[1;32mnot\u001b[0m \u001b[0misinstance\u001b[0m\u001b[1;33m(\u001b[0m\u001b[0ms\u001b[0m\u001b[1;33m,\u001b[0m \u001b[0mpd\u001b[0m\u001b[1;33m.\u001b[0m\u001b[0mcore\u001b[0m\u001b[1;33m.\u001b[0m\u001b[0mseries\u001b[0m\u001b[1;33m.\u001b[0m\u001b[0mSeries\u001b[0m\u001b[1;33m)\u001b[0m\u001b[1;33m:\u001b[0m\u001b[1;33m\u001b[0m\u001b[1;33m\u001b[0m\u001b[0m\n\u001b[0;32m      5\u001b[0m         \u001b[0ms\u001b[0m \u001b[1;33m=\u001b[0m \u001b[0mpd\u001b[0m\u001b[1;33m.\u001b[0m\u001b[0mSeries\u001b[0m\u001b[1;33m(\u001b[0m\u001b[0ms\u001b[0m\u001b[1;33m)\u001b[0m\u001b[1;33m\u001b[0m\u001b[1;33m\u001b[0m\u001b[0m\n\u001b[1;32m----> 6\u001b[1;33m     \u001b[0mprt_ary\u001b[0m \u001b[1;33m=\u001b[0m \u001b[0mpd\u001b[0m\u001b[1;33m.\u001b[0m\u001b[0mgroupby\u001b[0m\u001b[1;33m(\u001b[0m\u001b[0ms\u001b[0m\u001b[1;33m,\u001b[0m \u001b[0mby\u001b[0m\u001b[1;33m=\u001b[0m\u001b[0ms\u001b[0m\u001b[1;33m)\u001b[0m\u001b[1;33m.\u001b[0m\u001b[0mcount\u001b[0m\u001b[1;33m(\u001b[0m\u001b[1;33m)\u001b[0m\u001b[1;33m.\u001b[0m\u001b[0mvalues\u001b[0m\u001b[1;33m/\u001b[0m\u001b[0mfloat\u001b[0m\u001b[1;33m(\u001b[0m\u001b[0mlen\u001b[0m\u001b[1;33m(\u001b[0m\u001b[0ms\u001b[0m\u001b[1;33m)\u001b[0m\u001b[1;33m)\u001b[0m \u001b[1;31m# 计算概率分布\u001b[0m\u001b[1;33m\u001b[0m\u001b[1;33m\u001b[0m\u001b[0m\n\u001b[0m\u001b[0;32m      7\u001b[0m \u001b[1;33m\u001b[0m\u001b[0m\n\u001b[0;32m      8\u001b[0m     \u001b[1;32mreturn\u001b[0m \u001b[0msum\u001b[0m\u001b[1;33m(\u001b[0m\u001b[0mprt_ary\u001b[0m\u001b[1;33m**\u001b[0m\u001b[1;36m2\u001b[0m\u001b[1;33m)\u001b[0m\u001b[1;33m\u001b[0m\u001b[1;33m\u001b[0m\u001b[0m\n",
      "\u001b[1;32mc:\\programdata\\miniconda3\\lib\\site-packages\\pandas\\__init__.py\u001b[0m in \u001b[0;36m__getattr__\u001b[1;34m(name)\u001b[0m\n\u001b[0;32m    256\u001b[0m             \u001b[1;32mreturn\u001b[0m \u001b[0m_SparseArray\u001b[0m\u001b[1;33m\u001b[0m\u001b[1;33m\u001b[0m\u001b[0m\n\u001b[0;32m    257\u001b[0m \u001b[1;33m\u001b[0m\u001b[0m\n\u001b[1;32m--> 258\u001b[1;33m         \u001b[1;32mraise\u001b[0m \u001b[0mAttributeError\u001b[0m\u001b[1;33m(\u001b[0m\u001b[1;34mf\"module 'pandas' has no attribute '{name}'\"\u001b[0m\u001b[1;33m)\u001b[0m\u001b[1;33m\u001b[0m\u001b[1;33m\u001b[0m\u001b[0m\n\u001b[0m\u001b[0;32m    259\u001b[0m \u001b[1;33m\u001b[0m\u001b[0m\n\u001b[0;32m    260\u001b[0m \u001b[1;33m\u001b[0m\u001b[0m\n",
      "\u001b[1;31mAttributeError\u001b[0m: module 'pandas' has no attribute 'groupby'"
     ]
    }
   ],
   "source": [
    "print(\"Gini:\", getGini(s1, s2)) # 打印 Gini 系数\n",
    "print(\"Gini:\", getGini(s2, s1)) # 打印 Gini 系数"
   ]
  },
  {
   "cell_type": "markdown",
   "metadata": {},
   "source": [
    "### 因子分析\n",
    "- 探索性因子分析：PCA\n",
    "- 验证性因子分析：相关、卡方、覆盖、Anova、熵、F-Value、自定\n"
   ]
  },
  {
   "cell_type": "code",
   "execution_count": 52,
   "metadata": {
    "ExecuteTime": {
     "end_time": "2021-11-15T11:15:15.147594Z",
     "start_time": "2021-11-15T11:15:15.131607Z"
    }
   },
   "outputs": [],
   "source": [
    "## 导包\n",
    "import numpy as np # 数值计算\n",
    "import pandas as pd # 数据分析\n",
    "import scipy.stats as ss # 统计分析\n",
    "import matplotlib.pyplot as plt # 绘图\n",
    "import seaborn as sns # 绘图\n",
    "from sklearn.decomposition import PCA # 主成分分析"
   ]
  },
  {
   "cell_type": "code",
   "execution_count": 53,
   "metadata": {
    "ExecuteTime": {
     "end_time": "2021-11-15T11:15:17.062283Z",
     "start_time": "2021-11-15T11:15:17.012332Z"
    }
   },
   "outputs": [
    {
     "name": "stdout",
     "output_type": "stream",
     "text": [
      "Index(['satisfaction_level', 'last_evaluation', 'number_project',\n",
      "       'average_monthly_hours', 'time_spend_company', 'Work_accident', 'left',\n",
      "       'promotion_last_5years', 'Department', 'salary'],\n",
      "      dtype='object')\n"
     ]
    }
   ],
   "source": [
    "## 加载数据\n",
    "df = pd.read_csv(\".//datasets/HR_comma_sep.csv\")\n",
    "print(df.columns)"
   ]
  },
  {
   "cell_type": "code",
   "execution_count": 54,
   "metadata": {
    "ExecuteTime": {
     "end_time": "2021-11-15T11:15:18.250105Z",
     "start_time": "2021-11-15T11:15:18.244112Z"
    }
   },
   "outputs": [],
   "source": [
    "# sns.set_context(font_scale=1.5)\n",
    "my_pca = PCA(n_components=7)"
   ]
  },
  {
   "cell_type": "code",
   "execution_count": 57,
   "metadata": {
    "ExecuteTime": {
     "end_time": "2021-11-15T11:18:37.194896Z",
     "start_time": "2021-11-15T11:18:37.154919Z"
    }
   },
   "outputs": [
    {
     "name": "stdout",
     "output_type": "stream",
     "text": [
      "Ratio: [9.98565340e-01 8.69246970e-04 4.73865973e-04 4.96932182e-05\n",
      " 2.43172315e-05 9.29496619e-06 8.24128218e-06]\n"
     ]
    }
   ],
   "source": [
    "lower_mat = my_pca.fit_transform(df.drop(labels=[\"salary\", \"Department\", \"left\"], axis=1))\n",
    "print(\"Ratio:\", my_pca.explained_variance_ratio_)"
   ]
  },
  {
   "cell_type": "code",
   "execution_count": 58,
   "metadata": {
    "ExecuteTime": {
     "end_time": "2021-11-15T11:18:39.335445Z",
     "start_time": "2021-11-15T11:18:38.840725Z"
    }
   },
   "outputs": [
    {
     "data": {
      "image/png": "[encoded data removed]",
      "text/plain": [
       "<Figure size 432x288 with 2 Axes>"
      ]
     },
     "metadata": {
      "needs_background": "light"
     },
     "output_type": "display_data"
    }
   ],
   "source": [
    "sns.heatmap(pd.DataFrame(lower_mat).corr(), vmin=-1, vmax=1, cmap=sns.color_palette(\"RdBu\", n_colors=128))\n",
    "plt.show()"
   ]
  },
  {
   "cell_type": "markdown",
   "metadata": {},
   "source": [
    "### 小结\n",
    "| 数据类型 | 可用方法 |\n",
    "| :--- | :--- |\n",
    "| 连续---连续 | 相关系数、假设检验 |\n",
    "| 连续---离散（二值） | 相关系数、连续二值化（最小 Gini切分、最大熵增益切分）\n",
    "| 连续---离散（非二值） | 相关系数（定序）\n",
    "| 离散（二值）---离散（二值） | 相关系数、熵相关、F 分值\n",
    "| 离散---离散（非二值） | 熵相关、Gini、相关系数（定序）\n"
   ]
  },
  {
   "cell_type": "markdown",
   "metadata": {},
   "source": [
    "## 数据挖掘\n",
    "\n",
    "\n",
    "### 特征工程\n",
    "> 数据和特征决定了机器学习的上限，而模型和算法只是逼近这个上限而已。  \n",
    "\n",
    "- 流程：\n",
    "<img style=\"float: center;\" src=\"./figures/特征工程.png\" width=\"50%\">\n",
    "<center>Fig. 特征工程</center>\n"
   ]
  },
  {
   "cell_type": "markdown",
   "metadata": {},
   "source": [
    "#### 数据清洗\n",
    "- 数据样本抽样\n",
    "    - 样本要具有代表性\n",
    "    - 样本比例要平衡、样本不平衡时如何处理\n",
    "    - 考虑全量数据\n",
    "\n",
    "- 异常值（空值）处理\n",
    "    - 识别异常值和重复值\n",
    "        - Pandas: isnull()/duplicated()\n",
    "    - 直接丢弃（包括重复数据）\n",
    "        - Pandas: drop()/dropna()/drop_duplicated()\n",
    "    - 将是否有异常当作一个新的属性，替代原值\n",
    "        - Pandas: fillna()\n",
    "    - 集中值指代\n",
    "        - Pandas: fillna()\n",
    "    - 边界值指代\n",
    "        - Pandas: fillna()\n",
    "    - 插值\n",
    "        - Pandas: interpolate()---Series\n"
   ]
  },
  {
   "cell_type": "code",
   "execution_count": 1,
   "metadata": {
    "ExecuteTime": {
     "end_time": "2021-11-18T07:00:50.939847Z",
     "start_time": "2021-11-18T07:00:49.634527Z"
    }
   },
   "outputs": [],
   "source": [
    "import numpy as np # 数值计算\n",
    "import pandas as pd # 数据分析"
   ]
  },
  {
   "cell_type": "code",
   "execution_count": 2,
   "metadata": {
    "ExecuteTime": {
     "end_time": "2021-11-18T07:06:53.095786Z",
     "start_time": "2021-11-18T07:06:53.037818Z"
    }
   },
   "outputs": [
    {
     "data": {
      "text/html": [
       "<div>\n",
       "<style scoped>\n",
       "    .dataframe tbody tr th:only-of-type {\n",
       "        vertical-align: middle;\n",
       "    }\n",
       "\n",
       "    .dataframe tbody tr th {\n",
       "        vertical-align: top;\n",
       "    }\n",
       "\n",
       "    .dataframe thead th {\n",
       "        text-align: right;\n",
       "    }\n",
       "</style>\n",
       "<table border=\"1\" class=\"dataframe\">\n",
       "  <thead>\n",
       "    <tr style=\"text-align: right;\">\n",
       "      <th></th>\n",
       "      <th>A</th>\n",
       "      <th>B</th>\n",
       "      <th>C</th>\n",
       "      <th>D</th>\n",
       "      <th>E</th>\n",
       "      <th>F</th>\n",
       "    </tr>\n",
       "  </thead>\n",
       "  <tbody>\n",
       "    <tr>\n",
       "      <th>0</th>\n",
       "      <td>a0</td>\n",
       "      <td>b0</td>\n",
       "      <td>1.0</td>\n",
       "      <td>0.1</td>\n",
       "      <td>10.0</td>\n",
       "      <td>f0</td>\n",
       "    </tr>\n",
       "    <tr>\n",
       "      <th>1</th>\n",
       "      <td>a1</td>\n",
       "      <td>b1</td>\n",
       "      <td>2.0</td>\n",
       "      <td>10.2</td>\n",
       "      <td>19.0</td>\n",
       "      <td>f1</td>\n",
       "    </tr>\n",
       "    <tr>\n",
       "      <th>2</th>\n",
       "      <td>a1</td>\n",
       "      <td>b2</td>\n",
       "      <td>NaN</td>\n",
       "      <td>11.4</td>\n",
       "      <td>32.0</td>\n",
       "      <td>g2</td>\n",
       "    </tr>\n",
       "    <tr>\n",
       "      <th>3</th>\n",
       "      <td>a2</td>\n",
       "      <td>b2</td>\n",
       "      <td>3.0</td>\n",
       "      <td>8.9</td>\n",
       "      <td>25.0</td>\n",
       "      <td>f3</td>\n",
       "    </tr>\n",
       "    <tr>\n",
       "      <th>4</th>\n",
       "      <td>a3</td>\n",
       "      <td>b3</td>\n",
       "      <td>4.0</td>\n",
       "      <td>9.1</td>\n",
       "      <td>8.0</td>\n",
       "      <td>f4</td>\n",
       "    </tr>\n",
       "    <tr>\n",
       "      <th>5</th>\n",
       "      <td>a4</td>\n",
       "      <td>None</td>\n",
       "      <td>5.0</td>\n",
       "      <td>12.0</td>\n",
       "      <td>NaN</td>\n",
       "      <td>f5</td>\n",
       "    </tr>\n",
       "  </tbody>\n",
       "</table>\n",
       "</div>"
      ],
      "text/plain": [
       "    A     B    C     D     E   F\n",
       "0  a0    b0  1.0   0.1  10.0  f0\n",
       "1  a1    b1  2.0  10.2  19.0  f1\n",
       "2  a1    b2  NaN  11.4  32.0  g2\n",
       "3  a2    b2  3.0   8.9  25.0  f3\n",
       "4  a3    b3  4.0   9.1   8.0  f4\n",
       "5  a4  None  5.0  12.0   NaN  f5"
      ]
     },
     "execution_count": 2,
     "metadata": {},
     "output_type": "execute_result"
    }
   ],
   "source": [
    "df = pd.DataFrame({\n",
    "    \"A\": [\"a0\", \"a1\", \"a1\", \"a2\", \"a3\", \"a4\"],\n",
    "    \"B\": [\"b0\", \"b1\", \"b2\", \"b2\", \"b3\", None],\n",
    "    \"C\": [1, 2, None, 3, 4, 5],\n",
    "    \"D\": [0.1, 10.2, 11.4, 8.9, 9.1, 12],\n",
    "    \"E\": [10, 19, 32, 25, 8, None],\n",
    "    \"F\": [\"f0\", \"f1\", \"g2\", \"f3\", \"f4\", \"f5\"]\n",
    "})\n",
    "df"
   ]
  },
  {
   "cell_type": "code",
   "execution_count": 3,
   "metadata": {
    "ExecuteTime": {
     "end_time": "2021-11-18T07:07:18.239760Z",
     "start_time": "2021-11-18T07:07:18.210776Z"
    }
   },
   "outputs": [
    {
     "data": {
      "text/html": [
       "<div>\n",
       "<style scoped>\n",
       "    .dataframe tbody tr th:only-of-type {\n",
       "        vertical-align: middle;\n",
       "    }\n",
       "\n",
       "    .dataframe tbody tr th {\n",
       "        vertical-align: top;\n",
       "    }\n",
       "\n",
       "    .dataframe thead th {\n",
       "        text-align: right;\n",
       "    }\n",
       "</style>\n",
       "<table border=\"1\" class=\"dataframe\">\n",
       "  <thead>\n",
       "    <tr style=\"text-align: right;\">\n",
       "      <th></th>\n",
       "      <th>A</th>\n",
       "      <th>B</th>\n",
       "      <th>C</th>\n",
       "      <th>D</th>\n",
       "      <th>E</th>\n",
       "      <th>F</th>\n",
       "    </tr>\n",
       "  </thead>\n",
       "  <tbody>\n",
       "    <tr>\n",
       "      <th>0</th>\n",
       "      <td>False</td>\n",
       "      <td>False</td>\n",
       "      <td>False</td>\n",
       "      <td>False</td>\n",
       "      <td>False</td>\n",
       "      <td>False</td>\n",
       "    </tr>\n",
       "    <tr>\n",
       "      <th>1</th>\n",
       "      <td>False</td>\n",
       "      <td>False</td>\n",
       "      <td>False</td>\n",
       "      <td>False</td>\n",
       "      <td>False</td>\n",
       "      <td>False</td>\n",
       "    </tr>\n",
       "    <tr>\n",
       "      <th>2</th>\n",
       "      <td>False</td>\n",
       "      <td>False</td>\n",
       "      <td>True</td>\n",
       "      <td>False</td>\n",
       "      <td>False</td>\n",
       "      <td>False</td>\n",
       "    </tr>\n",
       "    <tr>\n",
       "      <th>3</th>\n",
       "      <td>False</td>\n",
       "      <td>False</td>\n",
       "      <td>False</td>\n",
       "      <td>False</td>\n",
       "      <td>False</td>\n",
       "      <td>False</td>\n",
       "    </tr>\n",
       "    <tr>\n",
       "      <th>4</th>\n",
       "      <td>False</td>\n",
       "      <td>False</td>\n",
       "      <td>False</td>\n",
       "      <td>False</td>\n",
       "      <td>False</td>\n",
       "      <td>False</td>\n",
       "    </tr>\n",
       "    <tr>\n",
       "      <th>5</th>\n",
       "      <td>False</td>\n",
       "      <td>True</td>\n",
       "      <td>False</td>\n",
       "      <td>False</td>\n",
       "      <td>True</td>\n",
       "      <td>False</td>\n",
       "    </tr>\n",
       "  </tbody>\n",
       "</table>\n",
       "</div>"
      ],
      "text/plain": [
       "       A      B      C      D      E      F\n",
       "0  False  False  False  False  False  False\n",
       "1  False  False  False  False  False  False\n",
       "2  False  False   True  False  False  False\n",
       "3  False  False  False  False  False  False\n",
       "4  False  False  False  False  False  False\n",
       "5  False   True  False  False   True  False"
      ]
     },
     "execution_count": 3,
     "metadata": {},
     "output_type": "execute_result"
    }
   ],
   "source": [
    "df.isnull() # 返回空值"
   ]
  },
  {
   "cell_type": "code",
   "execution_count": 5,
   "metadata": {
    "ExecuteTime": {
     "end_time": "2021-11-18T07:08:30.063994Z",
     "start_time": "2021-11-18T07:08:30.029016Z"
    }
   },
   "outputs": [
    {
     "data": {
      "text/html": [
       "<div>\n",
       "<style scoped>\n",
       "    .dataframe tbody tr th:only-of-type {\n",
       "        vertical-align: middle;\n",
       "    }\n",
       "\n",
       "    .dataframe tbody tr th {\n",
       "        vertical-align: top;\n",
       "    }\n",
       "\n",
       "    .dataframe thead th {\n",
       "        text-align: right;\n",
       "    }\n",
       "</style>\n",
       "<table border=\"1\" class=\"dataframe\">\n",
       "  <thead>\n",
       "    <tr style=\"text-align: right;\">\n",
       "      <th></th>\n",
       "      <th>A</th>\n",
       "      <th>B</th>\n",
       "      <th>C</th>\n",
       "      <th>D</th>\n",
       "      <th>E</th>\n",
       "      <th>F</th>\n",
       "    </tr>\n",
       "  </thead>\n",
       "  <tbody>\n",
       "    <tr>\n",
       "      <th>0</th>\n",
       "      <td>a0</td>\n",
       "      <td>b0</td>\n",
       "      <td>1.0</td>\n",
       "      <td>0.1</td>\n",
       "      <td>10.0</td>\n",
       "      <td>f0</td>\n",
       "    </tr>\n",
       "    <tr>\n",
       "      <th>1</th>\n",
       "      <td>a1</td>\n",
       "      <td>b1</td>\n",
       "      <td>2.0</td>\n",
       "      <td>10.2</td>\n",
       "      <td>19.0</td>\n",
       "      <td>f1</td>\n",
       "    </tr>\n",
       "    <tr>\n",
       "      <th>3</th>\n",
       "      <td>a2</td>\n",
       "      <td>b2</td>\n",
       "      <td>3.0</td>\n",
       "      <td>8.9</td>\n",
       "      <td>25.0</td>\n",
       "      <td>f3</td>\n",
       "    </tr>\n",
       "    <tr>\n",
       "      <th>4</th>\n",
       "      <td>a3</td>\n",
       "      <td>b3</td>\n",
       "      <td>4.0</td>\n",
       "      <td>9.1</td>\n",
       "      <td>8.0</td>\n",
       "      <td>f4</td>\n",
       "    </tr>\n",
       "  </tbody>\n",
       "</table>\n",
       "</div>"
      ],
      "text/plain": [
       "    A   B    C     D     E   F\n",
       "0  a0  b0  1.0   0.1  10.0  f0\n",
       "1  a1  b1  2.0  10.2  19.0  f1\n",
       "3  a2  b2  3.0   8.9  25.0  f3\n",
       "4  a3  b3  4.0   9.1   8.0  f4"
      ]
     },
     "execution_count": 5,
     "metadata": {},
     "output_type": "execute_result"
    }
   ],
   "source": [
    "df.dropna() # 丢弃空值"
   ]
  },
  {
   "cell_type": "code",
   "execution_count": 6,
   "metadata": {
    "ExecuteTime": {
     "end_time": "2021-11-18T07:09:47.890918Z",
     "start_time": "2021-11-18T07:09:47.850943Z"
    }
   },
   "outputs": [
    {
     "data": {
      "text/html": [
       "<div>\n",
       "<style scoped>\n",
       "    .dataframe tbody tr th:only-of-type {\n",
       "        vertical-align: middle;\n",
       "    }\n",
       "\n",
       "    .dataframe tbody tr th {\n",
       "        vertical-align: top;\n",
       "    }\n",
       "\n",
       "    .dataframe thead th {\n",
       "        text-align: right;\n",
       "    }\n",
       "</style>\n",
       "<table border=\"1\" class=\"dataframe\">\n",
       "  <thead>\n",
       "    <tr style=\"text-align: right;\">\n",
       "      <th></th>\n",
       "      <th>A</th>\n",
       "      <th>B</th>\n",
       "      <th>C</th>\n",
       "      <th>D</th>\n",
       "      <th>E</th>\n",
       "      <th>F</th>\n",
       "    </tr>\n",
       "  </thead>\n",
       "  <tbody>\n",
       "    <tr>\n",
       "      <th>0</th>\n",
       "      <td>a0</td>\n",
       "      <td>b0</td>\n",
       "      <td>1.0</td>\n",
       "      <td>0.1</td>\n",
       "      <td>10.0</td>\n",
       "      <td>f0</td>\n",
       "    </tr>\n",
       "    <tr>\n",
       "      <th>1</th>\n",
       "      <td>a1</td>\n",
       "      <td>b1</td>\n",
       "      <td>2.0</td>\n",
       "      <td>10.2</td>\n",
       "      <td>19.0</td>\n",
       "      <td>f1</td>\n",
       "    </tr>\n",
       "    <tr>\n",
       "      <th>2</th>\n",
       "      <td>a1</td>\n",
       "      <td>b2</td>\n",
       "      <td>NaN</td>\n",
       "      <td>11.4</td>\n",
       "      <td>32.0</td>\n",
       "      <td>g2</td>\n",
       "    </tr>\n",
       "    <tr>\n",
       "      <th>3</th>\n",
       "      <td>a2</td>\n",
       "      <td>b2</td>\n",
       "      <td>3.0</td>\n",
       "      <td>8.9</td>\n",
       "      <td>25.0</td>\n",
       "      <td>f3</td>\n",
       "    </tr>\n",
       "    <tr>\n",
       "      <th>4</th>\n",
       "      <td>a3</td>\n",
       "      <td>b3</td>\n",
       "      <td>4.0</td>\n",
       "      <td>9.1</td>\n",
       "      <td>8.0</td>\n",
       "      <td>f4</td>\n",
       "    </tr>\n",
       "  </tbody>\n",
       "</table>\n",
       "</div>"
      ],
      "text/plain": [
       "    A   B    C     D     E   F\n",
       "0  a0  b0  1.0   0.1  10.0  f0\n",
       "1  a1  b1  2.0  10.2  19.0  f1\n",
       "2  a1  b2  NaN  11.4  32.0  g2\n",
       "3  a2  b2  3.0   8.9  25.0  f3\n",
       "4  a3  b3  4.0   9.1   8.0  f4"
      ]
     },
     "execution_count": 6,
     "metadata": {},
     "output_type": "execute_result"
    }
   ],
   "source": [
    "df.dropna(subset=[\"B\"])"
   ]
  },
  {
   "cell_type": "code",
   "execution_count": 8,
   "metadata": {
    "ExecuteTime": {
     "end_time": "2021-11-18T07:13:46.543623Z",
     "start_time": "2021-11-18T07:13:46.523635Z"
    }
   },
   "outputs": [
    {
     "data": {
      "text/plain": [
       "0    False\n",
       "1    False\n",
       "2     True\n",
       "3    False\n",
       "4    False\n",
       "5    False\n",
       "dtype: bool"
      ]
     },
     "execution_count": 8,
     "metadata": {},
     "output_type": "execute_result"
    }
   ],
   "source": [
    "df.duplicated([\"A\"]) # 返回重复值"
   ]
  },
  {
   "cell_type": "code",
   "execution_count": 9,
   "metadata": {
    "ExecuteTime": {
     "end_time": "2021-11-18T07:16:58.571099Z",
     "start_time": "2021-11-18T07:16:58.540117Z"
    }
   },
   "outputs": [
    {
     "data": {
      "text/html": [
       "<div>\n",
       "<style scoped>\n",
       "    .dataframe tbody tr th:only-of-type {\n",
       "        vertical-align: middle;\n",
       "    }\n",
       "\n",
       "    .dataframe tbody tr th {\n",
       "        vertical-align: top;\n",
       "    }\n",
       "\n",
       "    .dataframe thead th {\n",
       "        text-align: right;\n",
       "    }\n",
       "</style>\n",
       "<table border=\"1\" class=\"dataframe\">\n",
       "  <thead>\n",
       "    <tr style=\"text-align: right;\">\n",
       "      <th></th>\n",
       "      <th>A</th>\n",
       "      <th>B</th>\n",
       "      <th>C</th>\n",
       "      <th>D</th>\n",
       "      <th>E</th>\n",
       "      <th>F</th>\n",
       "    </tr>\n",
       "  </thead>\n",
       "  <tbody>\n",
       "    <tr>\n",
       "      <th>0</th>\n",
       "      <td>a0</td>\n",
       "      <td>b0</td>\n",
       "      <td>1.0</td>\n",
       "      <td>0.1</td>\n",
       "      <td>10.0</td>\n",
       "      <td>f0</td>\n",
       "    </tr>\n",
       "    <tr>\n",
       "      <th>1</th>\n",
       "      <td>a1</td>\n",
       "      <td>b1</td>\n",
       "      <td>2.0</td>\n",
       "      <td>10.2</td>\n",
       "      <td>19.0</td>\n",
       "      <td>f1</td>\n",
       "    </tr>\n",
       "    <tr>\n",
       "      <th>3</th>\n",
       "      <td>a2</td>\n",
       "      <td>b2</td>\n",
       "      <td>3.0</td>\n",
       "      <td>8.9</td>\n",
       "      <td>25.0</td>\n",
       "      <td>f3</td>\n",
       "    </tr>\n",
       "    <tr>\n",
       "      <th>4</th>\n",
       "      <td>a3</td>\n",
       "      <td>b3</td>\n",
       "      <td>4.0</td>\n",
       "      <td>9.1</td>\n",
       "      <td>8.0</td>\n",
       "      <td>f4</td>\n",
       "    </tr>\n",
       "    <tr>\n",
       "      <th>5</th>\n",
       "      <td>a4</td>\n",
       "      <td>None</td>\n",
       "      <td>5.0</td>\n",
       "      <td>12.0</td>\n",
       "      <td>NaN</td>\n",
       "      <td>f5</td>\n",
       "    </tr>\n",
       "  </tbody>\n",
       "</table>\n",
       "</div>"
      ],
      "text/plain": [
       "    A     B    C     D     E   F\n",
       "0  a0    b0  1.0   0.1  10.0  f0\n",
       "1  a1    b1  2.0  10.2  19.0  f1\n",
       "3  a2    b2  3.0   8.9  25.0  f3\n",
       "4  a3    b3  4.0   9.1   8.0  f4\n",
       "5  a4  None  5.0  12.0   NaN  f5"
      ]
     },
     "execution_count": 9,
     "metadata": {},
     "output_type": "execute_result"
    }
   ],
   "source": [
    "df.drop_duplicates([\"A\"]) # 丢弃\"A\"中的重复值"
   ]
  },
  {
   "cell_type": "code",
   "execution_count": 11,
   "metadata": {
    "ExecuteTime": {
     "end_time": "2021-11-18T07:19:04.046704Z",
     "start_time": "2021-11-18T07:19:04.012722Z"
    }
   },
   "outputs": [
    {
     "data": {
      "text/html": [
       "<div>\n",
       "<style scoped>\n",
       "    .dataframe tbody tr th:only-of-type {\n",
       "        vertical-align: middle;\n",
       "    }\n",
       "\n",
       "    .dataframe tbody tr th {\n",
       "        vertical-align: top;\n",
       "    }\n",
       "\n",
       "    .dataframe thead th {\n",
       "        text-align: right;\n",
       "    }\n",
       "</style>\n",
       "<table border=\"1\" class=\"dataframe\">\n",
       "  <thead>\n",
       "    <tr style=\"text-align: right;\">\n",
       "      <th></th>\n",
       "      <th>A</th>\n",
       "      <th>B</th>\n",
       "      <th>C</th>\n",
       "      <th>D</th>\n",
       "      <th>E</th>\n",
       "      <th>F</th>\n",
       "    </tr>\n",
       "  </thead>\n",
       "  <tbody>\n",
       "    <tr>\n",
       "      <th>0</th>\n",
       "      <td>a0</td>\n",
       "      <td>b0</td>\n",
       "      <td>1.0</td>\n",
       "      <td>0.1</td>\n",
       "      <td>10.0</td>\n",
       "      <td>f0</td>\n",
       "    </tr>\n",
       "    <tr>\n",
       "      <th>1</th>\n",
       "      <td>a1</td>\n",
       "      <td>b1</td>\n",
       "      <td>2.0</td>\n",
       "      <td>10.2</td>\n",
       "      <td>19.0</td>\n",
       "      <td>f1</td>\n",
       "    </tr>\n",
       "    <tr>\n",
       "      <th>2</th>\n",
       "      <td>a1</td>\n",
       "      <td>b2</td>\n",
       "      <td>18.8</td>\n",
       "      <td>11.4</td>\n",
       "      <td>32.0</td>\n",
       "      <td>g2</td>\n",
       "    </tr>\n",
       "    <tr>\n",
       "      <th>3</th>\n",
       "      <td>a2</td>\n",
       "      <td>b2</td>\n",
       "      <td>3.0</td>\n",
       "      <td>8.9</td>\n",
       "      <td>25.0</td>\n",
       "      <td>f3</td>\n",
       "    </tr>\n",
       "    <tr>\n",
       "      <th>4</th>\n",
       "      <td>a3</td>\n",
       "      <td>b3</td>\n",
       "      <td>4.0</td>\n",
       "      <td>9.1</td>\n",
       "      <td>8.0</td>\n",
       "      <td>f4</td>\n",
       "    </tr>\n",
       "    <tr>\n",
       "      <th>5</th>\n",
       "      <td>a4</td>\n",
       "      <td>18.8</td>\n",
       "      <td>5.0</td>\n",
       "      <td>12.0</td>\n",
       "      <td>18.8</td>\n",
       "      <td>f5</td>\n",
       "    </tr>\n",
       "  </tbody>\n",
       "</table>\n",
       "</div>"
      ],
      "text/plain": [
       "    A     B     C     D     E   F\n",
       "0  a0    b0   1.0   0.1  10.0  f0\n",
       "1  a1    b1   2.0  10.2  19.0  f1\n",
       "2  a1    b2  18.8  11.4  32.0  g2\n",
       "3  a2    b2   3.0   8.9  25.0  f3\n",
       "4  a3    b3   4.0   9.1   8.0  f4\n",
       "5  a4  18.8   5.0  12.0  18.8  f5"
      ]
     },
     "execution_count": 11,
     "metadata": {},
     "output_type": "execute_result"
    }
   ],
   "source": [
    "df.fillna(df[\"E\"].mean()) # 空值替换为均值"
   ]
  },
  {
   "cell_type": "code",
   "execution_count": 13,
   "metadata": {
    "ExecuteTime": {
     "end_time": "2021-11-18T07:20:22.230296Z",
     "start_time": "2021-11-18T07:20:22.215307Z"
    }
   },
   "outputs": [
    {
     "data": {
      "text/plain": [
       "0    10.0\n",
       "1    19.0\n",
       "2    32.0\n",
       "3    25.0\n",
       "4     8.0\n",
       "5     8.0\n",
       "Name: E, dtype: float64"
      ]
     },
     "execution_count": 13,
     "metadata": {},
     "output_type": "execute_result"
    }
   ],
   "source": [
    "df[\"E\"].interpolate() # 插值替换\"E\"中的空值，用于 Series"
   ]
  },
  {
   "cell_type": "code",
   "execution_count": 14,
   "metadata": {
    "ExecuteTime": {
     "end_time": "2021-11-18T07:23:12.281758Z",
     "start_time": "2021-11-18T07:23:12.259771Z"
    }
   },
   "outputs": [
    {
     "data": {
      "text/plain": [
       "0     1.0\n",
       "1     2.5\n",
       "2     4.0\n",
       "3     5.0\n",
       "4    20.0\n",
       "dtype: float64"
      ]
     },
     "execution_count": 14,
     "metadata": {},
     "output_type": "execute_result"
    }
   ],
   "source": [
    "pd.Series([1, None, 4, 5, 20]).interpolate()"
   ]
  },
  {
   "cell_type": "code",
   "execution_count": 15,
   "metadata": {
    "ExecuteTime": {
     "end_time": "2021-11-18T07:26:00.265635Z",
     "start_time": "2021-11-18T07:25:59.417341Z"
    }
   },
   "outputs": [
    {
     "data": {
      "text/plain": [
       "0    10.000000\n",
       "1    19.000000\n",
       "2    32.000000\n",
       "3    25.000000\n",
       "4     8.000000\n",
       "5   -20.143603\n",
       "Name: E, dtype: float64"
      ]
     },
     "execution_count": 15,
     "metadata": {},
     "output_type": "execute_result"
    }
   ],
   "source": [
    "df[\"E\"].interpolate(method=\"spline\", order=3) # "
   ]
  },
  {
   "cell_type": "code",
   "execution_count": 17,
   "metadata": {
    "ExecuteTime": {
     "end_time": "2021-11-18T07:36:16.487467Z",
     "start_time": "2021-11-18T07:36:16.450488Z"
    }
   },
   "outputs": [
    {
     "name": "stderr",
     "output_type": "stream",
     "text": [
      "<ipython-input-17-22afa43277b2>:5: UserWarning: Boolean Series key will be reindexed to match DataFrame index.\n",
      "  df[df[\"D\"]>lower_q-k*q_int][df[\"D\"]<upper_q+k*q_int]\n"
     ]
    },
    {
     "data": {
      "text/html": [
       "<div>\n",
       "<style scoped>\n",
       "    .dataframe tbody tr th:only-of-type {\n",
       "        vertical-align: middle;\n",
       "    }\n",
       "\n",
       "    .dataframe tbody tr th {\n",
       "        vertical-align: top;\n",
       "    }\n",
       "\n",
       "    .dataframe thead th {\n",
       "        text-align: right;\n",
       "    }\n",
       "</style>\n",
       "<table border=\"1\" class=\"dataframe\">\n",
       "  <thead>\n",
       "    <tr style=\"text-align: right;\">\n",
       "      <th></th>\n",
       "      <th>A</th>\n",
       "      <th>B</th>\n",
       "      <th>C</th>\n",
       "      <th>D</th>\n",
       "      <th>E</th>\n",
       "      <th>F</th>\n",
       "    </tr>\n",
       "  </thead>\n",
       "  <tbody>\n",
       "    <tr>\n",
       "      <th>1</th>\n",
       "      <td>a1</td>\n",
       "      <td>b1</td>\n",
       "      <td>2.0</td>\n",
       "      <td>10.2</td>\n",
       "      <td>19.0</td>\n",
       "      <td>f1</td>\n",
       "    </tr>\n",
       "    <tr>\n",
       "      <th>2</th>\n",
       "      <td>a1</td>\n",
       "      <td>b2</td>\n",
       "      <td>NaN</td>\n",
       "      <td>11.4</td>\n",
       "      <td>32.0</td>\n",
       "      <td>g2</td>\n",
       "    </tr>\n",
       "    <tr>\n",
       "      <th>3</th>\n",
       "      <td>a2</td>\n",
       "      <td>b2</td>\n",
       "      <td>3.0</td>\n",
       "      <td>8.9</td>\n",
       "      <td>25.0</td>\n",
       "      <td>f3</td>\n",
       "    </tr>\n",
       "    <tr>\n",
       "      <th>4</th>\n",
       "      <td>a3</td>\n",
       "      <td>b3</td>\n",
       "      <td>4.0</td>\n",
       "      <td>9.1</td>\n",
       "      <td>8.0</td>\n",
       "      <td>f4</td>\n",
       "    </tr>\n",
       "    <tr>\n",
       "      <th>5</th>\n",
       "      <td>a4</td>\n",
       "      <td>None</td>\n",
       "      <td>5.0</td>\n",
       "      <td>12.0</td>\n",
       "      <td>NaN</td>\n",
       "      <td>f5</td>\n",
       "    </tr>\n",
       "  </tbody>\n",
       "</table>\n",
       "</div>"
      ],
      "text/plain": [
       "    A     B    C     D     E   F\n",
       "1  a1    b1  2.0  10.2  19.0  f1\n",
       "2  a1    b2  NaN  11.4  32.0  g2\n",
       "3  a2    b2  3.0   8.9  25.0  f3\n",
       "4  a3    b3  4.0   9.1   8.0  f4\n",
       "5  a4  None  5.0  12.0   NaN  f5"
      ]
     },
     "execution_count": 17,
     "metadata": {},
     "output_type": "execute_result"
    }
   ],
   "source": [
    "# 去除 \"D\" 中异常值 \"0.1\"\n",
    "upper_q = df[\"D\"].quantile(0.75) # 上四分位数\n",
    "lower_q = df[\"D\"].quantile(0.25) #下四分位数\n",
    "q_int = upper_q - lower_q # 四分位间距\n",
    "k = 1.5\n",
    "df[df[\"D\"]>lower_q-k*q_int][df[\"D\"]<upper_q+k*q_int]"
   ]
  },
  {
   "cell_type": "code",
   "execution_count": 19,
   "metadata": {
    "ExecuteTime": {
     "end_time": "2021-11-18T07:39:51.220345Z",
     "start_time": "2021-11-18T07:39:51.181348Z"
    }
   },
   "outputs": [
    {
     "data": {
      "text/html": [
       "<div>\n",
       "<style scoped>\n",
       "    .dataframe tbody tr th:only-of-type {\n",
       "        vertical-align: middle;\n",
       "    }\n",
       "\n",
       "    .dataframe tbody tr th {\n",
       "        vertical-align: top;\n",
       "    }\n",
       "\n",
       "    .dataframe thead th {\n",
       "        text-align: right;\n",
       "    }\n",
       "</style>\n",
       "<table border=\"1\" class=\"dataframe\">\n",
       "  <thead>\n",
       "    <tr style=\"text-align: right;\">\n",
       "      <th></th>\n",
       "      <th>A</th>\n",
       "      <th>B</th>\n",
       "      <th>C</th>\n",
       "      <th>D</th>\n",
       "      <th>E</th>\n",
       "      <th>F</th>\n",
       "    </tr>\n",
       "  </thead>\n",
       "  <tbody>\n",
       "    <tr>\n",
       "      <th>0</th>\n",
       "      <td>a0</td>\n",
       "      <td>b0</td>\n",
       "      <td>1.0</td>\n",
       "      <td>0.1</td>\n",
       "      <td>10.0</td>\n",
       "      <td>f0</td>\n",
       "    </tr>\n",
       "    <tr>\n",
       "      <th>1</th>\n",
       "      <td>a1</td>\n",
       "      <td>b1</td>\n",
       "      <td>2.0</td>\n",
       "      <td>10.2</td>\n",
       "      <td>19.0</td>\n",
       "      <td>f1</td>\n",
       "    </tr>\n",
       "    <tr>\n",
       "      <th>3</th>\n",
       "      <td>a2</td>\n",
       "      <td>b2</td>\n",
       "      <td>3.0</td>\n",
       "      <td>8.9</td>\n",
       "      <td>25.0</td>\n",
       "      <td>f3</td>\n",
       "    </tr>\n",
       "    <tr>\n",
       "      <th>4</th>\n",
       "      <td>a3</td>\n",
       "      <td>b3</td>\n",
       "      <td>4.0</td>\n",
       "      <td>9.1</td>\n",
       "      <td>8.0</td>\n",
       "      <td>f4</td>\n",
       "    </tr>\n",
       "    <tr>\n",
       "      <th>5</th>\n",
       "      <td>a4</td>\n",
       "      <td>None</td>\n",
       "      <td>5.0</td>\n",
       "      <td>12.0</td>\n",
       "      <td>NaN</td>\n",
       "      <td>f5</td>\n",
       "    </tr>\n",
       "  </tbody>\n",
       "</table>\n",
       "</div>"
      ],
      "text/plain": [
       "    A     B    C     D     E   F\n",
       "0  a0    b0  1.0   0.1  10.0  f0\n",
       "1  a1    b1  2.0  10.2  19.0  f1\n",
       "3  a2    b2  3.0   8.9  25.0  f3\n",
       "4  a3    b3  4.0   9.1   8.0  f4\n",
       "5  a4  None  5.0  12.0   NaN  f5"
      ]
     },
     "execution_count": 19,
     "metadata": {},
     "output_type": "execute_result"
    }
   ],
   "source": [
    "df[[True if item.startswith(\"f\") else False for item in list(df[\"F\"].values)]] # 去除 \"F\" 中的异常值 \"g2\""
   ]
  },
  {
   "cell_type": "markdown",
   "metadata": {},
   "source": [
    "#### 特征预处理\n",
    "- 标注（标记、标签、label）：反应分析目的的属性\n",
    "\n",
    "<img style=\"float: center;\" src=\"./figures/标注.png\" width=\"50%\">\n",
    "<center>Fig. 标注</center>\n"
   ]
  },
  {
   "cell_type": "markdown",
   "metadata": {},
   "source": [
    "#### 特征选择\n",
    "> 特征选择中使用一些样本进行评估，在正式建模中使用全量数据  \n",
    "\n",
    "- 剔除与标注不相关或者冗余的特征\n",
    "<img style=\"float: center;\" src=\"./figures/数据归约.png\" width=\"50%\">\n",
    "<center>数据归约</center>\n",
    "- 数据归约的思路之一（另一个思路为抽样）\n",
    "    - 过滤思想\n",
    "    - 包裹思想\n",
    "    - 嵌入思想\n",
    "    <img style=\"float: center;\" src=\"./figures/包裹思想.png\" width=\"50%\">\n",
    "    <center>Fig. 包裹思想</center>\n",
    "\n",
    "    <img style=\"float: center;\" src=\"./figures/RFE算法.png\" width=\"50%\">\n",
    "    <center>Fig. RFE算法</center>\n",
    "\n",
    "    <img style=\"float: center;\" src=\"./figures/嵌入思想.png\" width=\"50%\">\n",
    "    <center>Fig. 嵌入思想</center>\n",
    "\n"
   ]
  },
  {
   "cell_type": "code",
   "execution_count": 20,
   "metadata": {
    "ExecuteTime": {
     "end_time": "2021-11-18T08:46:19.537142Z",
     "start_time": "2021-11-18T08:46:18.645254Z"
    }
   },
   "outputs": [],
   "source": [
    "## 导包\n",
    "import numpy as np # 数值计算\n",
    "import pandas as pd # 数据分析\n",
    "import scipy.stats as ss # 统计分析"
   ]
  },
  {
   "cell_type": "code",
   "execution_count": 32,
   "metadata": {
    "ExecuteTime": {
     "end_time": "2021-11-18T09:00:51.326152Z",
     "start_time": "2021-11-18T09:00:51.282157Z"
    }
   },
   "outputs": [
    {
     "data": {
      "text/html": [
       "<div>\n",
       "<style scoped>\n",
       "    .dataframe tbody tr th:only-of-type {\n",
       "        vertical-align: middle;\n",
       "    }\n",
       "\n",
       "    .dataframe tbody tr th {\n",
       "        vertical-align: top;\n",
       "    }\n",
       "\n",
       "    .dataframe thead th {\n",
       "        text-align: right;\n",
       "    }\n",
       "</style>\n",
       "<table border=\"1\" class=\"dataframe\">\n",
       "  <thead>\n",
       "    <tr style=\"text-align: right;\">\n",
       "      <th></th>\n",
       "      <th>A</th>\n",
       "      <th>B</th>\n",
       "      <th>C</th>\n",
       "      <th>D</th>\n",
       "    </tr>\n",
       "  </thead>\n",
       "  <tbody>\n",
       "    <tr>\n",
       "      <th>0</th>\n",
       "      <td>0.375570</td>\n",
       "      <td>-0.035215</td>\n",
       "      <td>0.956321</td>\n",
       "      <td>0</td>\n",
       "    </tr>\n",
       "    <tr>\n",
       "      <th>1</th>\n",
       "      <td>-1.772966</td>\n",
       "      <td>-0.288666</td>\n",
       "      <td>1.701132</td>\n",
       "      <td>1</td>\n",
       "    </tr>\n",
       "    <tr>\n",
       "      <th>2</th>\n",
       "      <td>-0.299359</td>\n",
       "      <td>-0.806098</td>\n",
       "      <td>0.964717</td>\n",
       "      <td>1</td>\n",
       "    </tr>\n",
       "    <tr>\n",
       "      <th>3</th>\n",
       "      <td>0.400253</td>\n",
       "      <td>-0.904869</td>\n",
       "      <td>-1.413885</td>\n",
       "      <td>0</td>\n",
       "    </tr>\n",
       "    <tr>\n",
       "      <th>4</th>\n",
       "      <td>0.578460</td>\n",
       "      <td>-0.409440</td>\n",
       "      <td>-0.752413</td>\n",
       "      <td>1</td>\n",
       "    </tr>\n",
       "    <tr>\n",
       "      <th>5</th>\n",
       "      <td>0.245209</td>\n",
       "      <td>-0.812082</td>\n",
       "      <td>1.622996</td>\n",
       "      <td>1</td>\n",
       "    </tr>\n",
       "    <tr>\n",
       "      <th>6</th>\n",
       "      <td>0.217553</td>\n",
       "      <td>-2.903896</td>\n",
       "      <td>-0.549768</td>\n",
       "      <td>0</td>\n",
       "    </tr>\n",
       "    <tr>\n",
       "      <th>7</th>\n",
       "      <td>0.107566</td>\n",
       "      <td>0.800821</td>\n",
       "      <td>-0.308337</td>\n",
       "      <td>1</td>\n",
       "    </tr>\n",
       "    <tr>\n",
       "      <th>8</th>\n",
       "      <td>0.978445</td>\n",
       "      <td>2.416800</td>\n",
       "      <td>-0.808717</td>\n",
       "      <td>1</td>\n",
       "    </tr>\n",
       "    <tr>\n",
       "      <th>9</th>\n",
       "      <td>-0.279394</td>\n",
       "      <td>-1.790944</td>\n",
       "      <td>-1.721212</td>\n",
       "      <td>0</td>\n",
       "    </tr>\n",
       "  </tbody>\n",
       "</table>\n",
       "</div>"
      ],
      "text/plain": [
       "          A         B         C  D\n",
       "0  0.375570 -0.035215  0.956321  0\n",
       "1 -1.772966 -0.288666  1.701132  1\n",
       "2 -0.299359 -0.806098  0.964717  1\n",
       "3  0.400253 -0.904869 -1.413885  0\n",
       "4  0.578460 -0.409440 -0.752413  1\n",
       "5  0.245209 -0.812082  1.622996  1\n",
       "6  0.217553 -2.903896 -0.549768  0\n",
       "7  0.107566  0.800821 -0.308337  1\n",
       "8  0.978445  2.416800 -0.808717  1\n",
       "9 -0.279394 -1.790944 -1.721212  0"
      ]
     },
     "execution_count": 32,
     "metadata": {},
     "output_type": "execute_result"
    }
   ],
   "source": [
    "df = pd.DataFrame({\n",
    "    \"A\": ss.norm.rvs(size=10),\n",
    "    \"B\": ss.norm.rvs(size=10),\n",
    "    \"C\": ss.norm.rvs(size=10),\n",
    "    \"D\": np.random.randint(low=0, high=2, size=10)\n",
    "})\n",
    "df"
   ]
  },
  {
   "cell_type": "code",
   "execution_count": 33,
   "metadata": {
    "ExecuteTime": {
     "end_time": "2021-11-18T09:00:57.229548Z",
     "start_time": "2021-11-18T09:00:57.217555Z"
    }
   },
   "outputs": [],
   "source": [
    "from sklearn.svm import SVR # SVR 回归器\n",
    "from sklearn.tree import DecisionTreeRegressor # 决策树回归器"
   ]
  },
  {
   "cell_type": "code",
   "execution_count": 35,
   "metadata": {
    "ExecuteTime": {
     "end_time": "2021-11-18T09:01:23.013251Z",
     "start_time": "2021-11-18T09:01:22.998725Z"
    }
   },
   "outputs": [],
   "source": [
    "X = df.loc[:, [\"A\", \"B\", \"C\"]] # 特征\n",
    "Y = df.loc[:, \"D\"] # 标注"
   ]
  },
  {
   "cell_type": "code",
   "execution_count": 36,
   "metadata": {
    "ExecuteTime": {
     "end_time": "2021-11-18T09:03:32.689546Z",
     "start_time": "2021-11-18T09:03:32.682551Z"
    }
   },
   "outputs": [],
   "source": [
    "from sklearn.feature_selection import SelectKBest,RFE,SelectFromModel # 特征选择：过滤、包裹、嵌入"
   ]
  },
  {
   "cell_type": "code",
   "execution_count": 37,
   "metadata": {
    "ExecuteTime": {
     "end_time": "2021-11-18T09:05:02.587957Z",
     "start_time": "2021-11-18T09:05:02.556978Z"
    }
   },
   "outputs": [
    {
     "data": {
      "text/plain": [
       "SelectKBest(k=2)"
      ]
     },
     "execution_count": 37,
     "metadata": {},
     "output_type": "execute_result"
    }
   ],
   "source": [
    "skb = SelectKBest(k=2) # \n",
    "skb.fit(X, Y) # 拟合"
   ]
  },
  {
   "cell_type": "code",
   "execution_count": 38,
   "metadata": {
    "ExecuteTime": {
     "end_time": "2021-11-18T09:07:34.054909Z",
     "start_time": "2021-11-18T09:07:34.033923Z"
    }
   },
   "outputs": [
    {
     "data": {
      "text/plain": [
       "array([[-0.03521504,  0.95632086],\n",
       "       [-0.2886659 ,  1.70113161],\n",
       "       [-0.80609786,  0.96471676],\n",
       "       [-0.90486873, -1.41388505],\n",
       "       [-0.40944024, -0.75241264],\n",
       "       [-0.81208179,  1.62299566],\n",
       "       [-2.90389642, -0.54976832],\n",
       "       [ 0.80082076, -0.30833698],\n",
       "       [ 2.41680008, -0.80871678],\n",
       "       [-1.79094405, -1.72121206]])"
      ]
     },
     "execution_count": 38,
     "metadata": {},
     "output_type": "execute_result"
    }
   ],
   "source": [
    "skb.transform(X) # 变换"
   ]
  },
  {
   "cell_type": "code",
   "execution_count": 39,
   "metadata": {
    "ExecuteTime": {
     "end_time": "2021-11-18T09:08:07.319683Z",
     "start_time": "2021-11-18T09:08:07.297699Z"
    }
   },
   "outputs": [
    {
     "data": {
      "text/html": [
       "<div>\n",
       "<style scoped>\n",
       "    .dataframe tbody tr th:only-of-type {\n",
       "        vertical-align: middle;\n",
       "    }\n",
       "\n",
       "    .dataframe tbody tr th {\n",
       "        vertical-align: top;\n",
       "    }\n",
       "\n",
       "    .dataframe thead th {\n",
       "        text-align: right;\n",
       "    }\n",
       "</style>\n",
       "<table border=\"1\" class=\"dataframe\">\n",
       "  <thead>\n",
       "    <tr style=\"text-align: right;\">\n",
       "      <th></th>\n",
       "      <th>A</th>\n",
       "      <th>B</th>\n",
       "      <th>C</th>\n",
       "      <th>D</th>\n",
       "    </tr>\n",
       "  </thead>\n",
       "  <tbody>\n",
       "    <tr>\n",
       "      <th>0</th>\n",
       "      <td>0.375570</td>\n",
       "      <td>-0.035215</td>\n",
       "      <td>0.956321</td>\n",
       "      <td>0</td>\n",
       "    </tr>\n",
       "    <tr>\n",
       "      <th>1</th>\n",
       "      <td>-1.772966</td>\n",
       "      <td>-0.288666</td>\n",
       "      <td>1.701132</td>\n",
       "      <td>1</td>\n",
       "    </tr>\n",
       "    <tr>\n",
       "      <th>2</th>\n",
       "      <td>-0.299359</td>\n",
       "      <td>-0.806098</td>\n",
       "      <td>0.964717</td>\n",
       "      <td>1</td>\n",
       "    </tr>\n",
       "    <tr>\n",
       "      <th>3</th>\n",
       "      <td>0.400253</td>\n",
       "      <td>-0.904869</td>\n",
       "      <td>-1.413885</td>\n",
       "      <td>0</td>\n",
       "    </tr>\n",
       "    <tr>\n",
       "      <th>4</th>\n",
       "      <td>0.578460</td>\n",
       "      <td>-0.409440</td>\n",
       "      <td>-0.752413</td>\n",
       "      <td>1</td>\n",
       "    </tr>\n",
       "    <tr>\n",
       "      <th>5</th>\n",
       "      <td>0.245209</td>\n",
       "      <td>-0.812082</td>\n",
       "      <td>1.622996</td>\n",
       "      <td>1</td>\n",
       "    </tr>\n",
       "    <tr>\n",
       "      <th>6</th>\n",
       "      <td>0.217553</td>\n",
       "      <td>-2.903896</td>\n",
       "      <td>-0.549768</td>\n",
       "      <td>0</td>\n",
       "    </tr>\n",
       "    <tr>\n",
       "      <th>7</th>\n",
       "      <td>0.107566</td>\n",
       "      <td>0.800821</td>\n",
       "      <td>-0.308337</td>\n",
       "      <td>1</td>\n",
       "    </tr>\n",
       "    <tr>\n",
       "      <th>8</th>\n",
       "      <td>0.978445</td>\n",
       "      <td>2.416800</td>\n",
       "      <td>-0.808717</td>\n",
       "      <td>1</td>\n",
       "    </tr>\n",
       "    <tr>\n",
       "      <th>9</th>\n",
       "      <td>-0.279394</td>\n",
       "      <td>-1.790944</td>\n",
       "      <td>-1.721212</td>\n",
       "      <td>0</td>\n",
       "    </tr>\n",
       "  </tbody>\n",
       "</table>\n",
       "</div>"
      ],
      "text/plain": [
       "          A         B         C  D\n",
       "0  0.375570 -0.035215  0.956321  0\n",
       "1 -1.772966 -0.288666  1.701132  1\n",
       "2 -0.299359 -0.806098  0.964717  1\n",
       "3  0.400253 -0.904869 -1.413885  0\n",
       "4  0.578460 -0.409440 -0.752413  1\n",
       "5  0.245209 -0.812082  1.622996  1\n",
       "6  0.217553 -2.903896 -0.549768  0\n",
       "7  0.107566  0.800821 -0.308337  1\n",
       "8  0.978445  2.416800 -0.808717  1\n",
       "9 -0.279394 -1.790944 -1.721212  0"
      ]
     },
     "execution_count": 39,
     "metadata": {},
     "output_type": "execute_result"
    }
   ],
   "source": [
    "df"
   ]
  },
  {
   "cell_type": "code",
   "execution_count": 40,
   "metadata": {
    "ExecuteTime": {
     "end_time": "2021-11-18T09:12:32.981774Z",
     "start_time": "2021-11-18T09:12:32.948793Z"
    }
   },
   "outputs": [
    {
     "data": {
      "text/plain": [
       "array([[-0.03521504,  0.95632086],\n",
       "       [-0.2886659 ,  1.70113161],\n",
       "       [-0.80609786,  0.96471676],\n",
       "       [-0.90486873, -1.41388505],\n",
       "       [-0.40944024, -0.75241264],\n",
       "       [-0.81208179,  1.62299566],\n",
       "       [-2.90389642, -0.54976832],\n",
       "       [ 0.80082076, -0.30833698],\n",
       "       [ 2.41680008, -0.80871678],\n",
       "       [-1.79094405, -1.72121206]])"
      ]
     },
     "execution_count": 40,
     "metadata": {},
     "output_type": "execute_result"
    }
   ],
   "source": [
    "rfe = RFE(estimator=SVR(kernel=\"linear\"), n_features_to_select=2, step=1) # \n",
    "rfe.fit_transform(X, Y) # 拟合、变换"
   ]
  },
  {
   "cell_type": "code",
   "execution_count": 49,
   "metadata": {
    "ExecuteTime": {
     "end_time": "2021-11-18T09:15:03.021963Z",
     "start_time": "2021-11-18T09:15:03.002975Z"
    }
   },
   "outputs": [
    {
     "data": {
      "text/plain": [
       "array([[-0.03521504,  0.95632086],\n",
       "       [-0.2886659 ,  1.70113161],\n",
       "       [-0.80609786,  0.96471676],\n",
       "       [-0.90486873, -1.41388505],\n",
       "       [-0.40944024, -0.75241264],\n",
       "       [-0.81208179,  1.62299566],\n",
       "       [-2.90389642, -0.54976832],\n",
       "       [ 0.80082076, -0.30833698],\n",
       "       [ 2.41680008, -0.80871678],\n",
       "       [-1.79094405, -1.72121206]])"
      ]
     },
     "execution_count": 49,
     "metadata": {},
     "output_type": "execute_result"
    }
   ],
   "source": [
    "sfm = SelectFromModel(estimator=DecisionTreeRegressor(), threshold=0.1) # \n",
    "sfm.fit_transform(X, Y) # 拟合、变换"
   ]
  },
  {
   "cell_type": "markdown",
   "metadata": {},
   "source": [
    "#### 特征变换\n",
    "> 对指化、离散化、数据平滑、归一化（标准化）、数值化、正规化  \n",
    "\n",
    "- **对指化**：\n",
    "    - 指数化（$e^x$）：numpy.exp\n",
    "    - 对数化（$lnx$）：numpy.log\n",
    "- **离散化（分箱）**：将连续变量分成几段（bins）\n",
    "    - 原因：克服数据缺陷、某些算法要求、非线数据映射\n",
    "    - 方法：\n",
    "        - 分箱：等频（等深）、等距（等宽）\n",
    "        - 自因变量优化\n"
   ]
  },
  {
   "cell_type": "code",
   "execution_count": 2,
   "metadata": {
    "ExecuteTime": {
     "end_time": "2021-11-18T14:59:58.266980Z",
     "start_time": "2021-11-18T14:59:57.351416Z"
    }
   },
   "outputs": [],
   "source": [
    "## 导包\n",
    "import numpy as np # 数值计算\n",
    "import pandas as pd # 数据分析"
   ]
  },
  {
   "cell_type": "code",
   "execution_count": 2,
   "metadata": {
    "ExecuteTime": {
     "end_time": "2021-11-18T11:35:26.218608Z",
     "start_time": "2021-11-18T11:35:26.167637Z"
    }
   },
   "outputs": [
    {
     "data": {
      "text/plain": [
       "[(5.999, 13.333], (5.999, 13.333], (5.999, 13.333], (13.333, 24.333], (13.333, 24.333], (13.333, 24.333], (24.333, 67.0], (24.333, 67.0], (24.333, 67.0]]\n",
       "Categories (3, interval[float64]): [(5.999, 13.333] < (13.333, 24.333] < (24.333, 67.0]]"
      ]
     },
     "execution_count": 2,
     "metadata": {},
     "output_type": "execute_result"
    }
   ],
   "source": [
    "lst = [6, 8, 10, 15, 16, 24, 25, 40, 67]\n",
    "pd.qcut(lst, 3) # 等深分箱"
   ]
  },
  {
   "cell_type": "code",
   "execution_count": 3,
   "metadata": {
    "ExecuteTime": {
     "end_time": "2021-11-18T11:36:38.553011Z",
     "start_time": "2021-11-18T11:36:38.539018Z"
    }
   },
   "outputs": [
    {
     "data": {
      "text/plain": [
       "['low', 'low', 'low', 'medium', 'medium', 'medium', 'high', 'high', 'high']\n",
       "Categories (3, object): ['low' < 'medium' < 'high']"
      ]
     },
     "execution_count": 3,
     "metadata": {},
     "output_type": "execute_result"
    }
   ],
   "source": [
    "pd.qcut(lst, q=3, labels=[\"low\", \"medium\", \"high\"]) # 等深分箱"
   ]
  },
  {
   "cell_type": "code",
   "execution_count": 4,
   "metadata": {
    "ExecuteTime": {
     "end_time": "2021-11-18T11:37:19.146761Z",
     "start_time": "2021-11-18T11:37:19.119785Z"
    }
   },
   "outputs": [
    {
     "data": {
      "text/plain": [
       "[(5.939, 26.333], (5.939, 26.333], (5.939, 26.333], (5.939, 26.333], (5.939, 26.333], (5.939, 26.333], (5.939, 26.333], (26.333, 46.667], (46.667, 67.0]]\n",
       "Categories (3, interval[float64]): [(5.939, 26.333] < (26.333, 46.667] < (46.667, 67.0]]"
      ]
     },
     "execution_count": 4,
     "metadata": {},
     "output_type": "execute_result"
    }
   ],
   "source": [
    "pd.cut(lst, bins=3) # 等宽分箱"
   ]
  },
  {
   "cell_type": "code",
   "execution_count": 5,
   "metadata": {
    "ExecuteTime": {
     "end_time": "2021-11-18T11:37:55.185600Z",
     "start_time": "2021-11-18T11:37:55.163612Z"
    }
   },
   "outputs": [
    {
     "data": {
      "text/plain": [
       "['low', 'low', 'low', 'low', 'low', 'low', 'low', 'medium', 'high']\n",
       "Categories (3, object): ['low' < 'medium' < 'high']"
      ]
     },
     "execution_count": 5,
     "metadata": {},
     "output_type": "execute_result"
    }
   ],
   "source": [
    "pd.cut(lst, bins=3, labels=[\"low\", \"medium\", \"high\"]) # 等宽分箱"
   ]
  },
  {
   "cell_type": "markdown",
   "metadata": {},
   "source": [
    "- **归一化（Min-Max）**：$$x^{\\prime} = \\frac{x-x_{min}}{x_{max}-x_{min}}$$\n",
    "- **标准化（Z-score）**：$$x^{\\prime} = \\frac{x-\\bar{x}}{\\sigma}$$\n"
   ]
  },
  {
   "cell_type": "code",
   "execution_count": 1,
   "metadata": {
    "ExecuteTime": {
     "end_time": "2021-11-18T14:58:59.335914Z",
     "start_time": "2021-11-18T14:58:59.325924Z"
    }
   },
   "outputs": [],
   "source": [
    "## 导包\n",
    "from sklearn.preprocessing import MinMaxScaler,StandardScaler # 归一化、标准化"
   ]
  },
  {
   "cell_type": "code",
   "execution_count": 3,
   "metadata": {
    "ExecuteTime": {
     "end_time": "2021-11-18T15:01:21.934489Z",
     "start_time": "2021-11-18T15:01:21.911504Z"
    }
   },
   "outputs": [
    {
     "data": {
      "text/plain": [
       "array([[0.  ],\n",
       "       [0.15],\n",
       "       [0.45],\n",
       "       [0.7 ],\n",
       "       [1.  ]])"
      ]
     },
     "execution_count": 3,
     "metadata": {},
     "output_type": "execute_result"
    }
   ],
   "source": [
    "MinMaxScaler().fit_transform(np.array([1,4,10,15,21]).reshape(-1,1)) # 归一化"
   ]
  },
  {
   "cell_type": "code",
   "execution_count": 4,
   "metadata": {
    "ExecuteTime": {
     "end_time": "2021-11-18T15:02:40.974644Z",
     "start_time": "2021-11-18T15:02:40.960650Z"
    }
   },
   "outputs": [
    {
     "data": {
      "text/plain": [
       "array([[ 1.],\n",
       "       [ 1.],\n",
       "       [ 1.],\n",
       "       [ 1.],\n",
       "       [-1.],\n",
       "       [-1.],\n",
       "       [-1.],\n",
       "       [-1.]])"
      ]
     },
     "execution_count": 4,
     "metadata": {},
     "output_type": "execute_result"
    }
   ],
   "source": [
    "StandardScaler().fit_transform(np.array([1,1,1,1,0,0,0,0]).reshape(-1,1)) # 标准化"
   ]
  },
  {
   "cell_type": "markdown",
   "metadata": {},
   "source": [
    "- **数值化**：定类、定序、定距、定比\n",
    "    - 标签化：定序、定类\n",
    "    - 归一化：定距\n",
    "    - 独热（One-Hot Encode）：定类、定序\n"
   ]
  },
  {
   "cell_type": "code",
   "execution_count": 5,
   "metadata": {
    "ExecuteTime": {
     "end_time": "2021-11-18T15:16:25.422068Z",
     "start_time": "2021-11-18T15:16:25.416075Z"
    }
   },
   "outputs": [],
   "source": [
    "## 导包\n",
    "import numpy as np # 数值计算\n",
    "import pandas as pd # 数据分析\n",
    "from sklearn.preprocessing import LabelEncoder,OneHotEncoder # 标签化、独热"
   ]
  },
  {
   "cell_type": "code",
   "execution_count": 8,
   "metadata": {
    "ExecuteTime": {
     "end_time": "2021-11-18T15:19:18.857855Z",
     "start_time": "2021-11-18T15:19:18.840865Z"
    }
   },
   "outputs": [
    {
     "data": {
      "text/plain": [
       "array([0, 1, 1, 0], dtype=int64)"
      ]
     },
     "execution_count": 8,
     "metadata": {},
     "output_type": "execute_result"
    }
   ],
   "source": [
    "LabelEncoder().fit_transform(np.array([\"Down\",\"Up\",\"Up\",\"Down\"]).reshape(-1,1)) # 标签化"
   ]
  },
  {
   "cell_type": "code",
   "execution_count": 9,
   "metadata": {
    "ExecuteTime": {
     "end_time": "2021-11-18T15:21:05.331784Z",
     "start_time": "2021-11-18T15:21:05.313804Z"
    }
   },
   "outputs": [
    {
     "data": {
      "text/plain": [
       "array([1, 2, 0, 2, 1], dtype=int64)"
      ]
     },
     "execution_count": 9,
     "metadata": {},
     "output_type": "execute_result"
    }
   ],
   "source": [
    "LabelEncoder().fit_transform(np.array([\"Low\",\"Medium\",\"High\",\"Medium\",\"Low\"]).reshape(-1,1)) # 标签化"
   ]
  },
  {
   "cell_type": "code",
   "execution_count": 15,
   "metadata": {
    "ExecuteTime": {
     "end_time": "2021-11-18T15:28:54.038964Z",
     "start_time": "2021-11-18T15:28:54.019997Z"
    }
   },
   "outputs": [
    {
     "data": {
      "text/plain": [
       "<5x4 sparse matrix of type '<class 'numpy.float64'>'\n",
       "\twith 5 stored elements in Compressed Sparse Row format>"
      ]
     },
     "execution_count": 15,
     "metadata": {},
     "output_type": "execute_result"
    }
   ],
   "source": [
    "# One-Hot\n",
    "lb_encoder = LabelEncoder()\n",
    "lb_tran_f = lb_encoder.fit_transform(np.array([\"Red\",\"Yellow\",\"Blue\",\"Green\"]))\n",
    "oht_encoder = OneHotEncoder().fit(lb_tran_f.reshape(-1,1))\n",
    "oht_encoder.transform(lb_encoder.transform(np.array([\"Yellow\",\"Blue\",\"Green\",\"Green\",\"Red\"])).reshape(-1,1)) # 这是一个结构体"
   ]
  },
  {
   "cell_type": "code",
   "execution_count": 16,
   "metadata": {
    "ExecuteTime": {
     "end_time": "2021-11-18T15:29:39.760850Z",
     "start_time": "2021-11-18T15:29:39.746858Z"
    }
   },
   "outputs": [
    {
     "data": {
      "text/plain": [
       "array([[0., 0., 0., 1.],\n",
       "       [1., 0., 0., 0.],\n",
       "       [0., 1., 0., 0.],\n",
       "       [0., 1., 0., 0.],\n",
       "       [0., 0., 1., 0.]])"
      ]
     },
     "execution_count": 16,
     "metadata": {},
     "output_type": "execute_result"
    }
   ],
   "source": [
    "oht_encoder.transform(lb_encoder.transform(np.array([\"Yellow\",\"Blue\",\"Green\",\"Green\",\"Red\"])).reshape(-1,1)).toarray()"
   ]
  },
  {
   "cell_type": "markdown",
   "metadata": {},
   "source": [
    "- **正规化（规范化）**：\n",
    "    - 公式：\n",
    "        - L1: $$x^{\\prime} = \\frac{x_i}{\\sum^{n}_{j=1}|x_j|}$$\n",
    "        - L2: $$x^{\\prime} = \\frac{x_i}{\\sqrt{\\sum^{n}_{j=1}|x_j|^2}}$$\n",
    "    - 应用：\n",
    "        - 直接用在特征上\n",
    "        - 用在每个对象的各个特征的表示（特征矩阵的行）\n",
    "        - 模型的参数上（回归模型使用较多）\n",
    "    "
   ]
  },
  {
   "cell_type": "code",
   "execution_count": 1,
   "metadata": {
    "ExecuteTime": {
     "end_time": "2021-11-19T01:30:25.137744Z",
     "start_time": "2021-11-19T01:30:20.836579Z"
    }
   },
   "outputs": [],
   "source": [
    "## 导包\n",
    "import numpy as np # 数值计算\n",
    "import pandas as pd # 数据分析\n",
    "from sklearn.preprocessing import Normalizer # 正规化"
   ]
  },
  {
   "cell_type": "code",
   "execution_count": 6,
   "metadata": {
    "ExecuteTime": {
     "end_time": "2021-11-19T01:43:45.191243Z",
     "start_time": "2021-11-19T01:43:45.170253Z"
    }
   },
   "outputs": [
    {
     "data": {
      "text/plain": [
       "array([[ 1.],\n",
       "       [ 1.],\n",
       "       [ 1.],\n",
       "       [-1.],\n",
       "       [ 1.]])"
      ]
     },
     "execution_count": 6,
     "metadata": {},
     "output_type": "execute_result"
    }
   ],
   "source": [
    "Normalizer(norm=\"l1\").fit_transform(np.array([1,1,3,-1,2]).reshape(-1,1)) # 正规化（针对行）"
   ]
  },
  {
   "cell_type": "code",
   "execution_count": 7,
   "metadata": {
    "ExecuteTime": {
     "end_time": "2021-11-19T01:43:46.109809Z",
     "start_time": "2021-11-19T01:43:46.091823Z"
    }
   },
   "outputs": [
    {
     "data": {
      "text/plain": [
       "array([[ 0.125,  0.125,  0.375, -0.125,  0.25 ]])"
      ]
     },
     "execution_count": 7,
     "metadata": {},
     "output_type": "execute_result"
    }
   ],
   "source": [
    "Normalizer(norm=\"l1\").fit_transform(np.array([[1,1,3,-1,2]])) # 正规化（针对行）"
   ]
  },
  {
   "cell_type": "code",
   "execution_count": 8,
   "metadata": {
    "ExecuteTime": {
     "end_time": "2021-11-19T01:43:47.090077Z",
     "start_time": "2021-11-19T01:43:47.070088Z"
    }
   },
   "outputs": [
    {
     "data": {
      "text/plain": [
       "array([[ 0.25,  0.25,  0.75, -0.25,  0.5 ]])"
      ]
     },
     "execution_count": 8,
     "metadata": {},
     "output_type": "execute_result"
    }
   ],
   "source": [
    "Normalizer(norm=\"l2\").fit_transform(np.array([[1,1,3,-1,2]])) # 正规化（针对行）"
   ]
  },
  {
   "cell_type": "code",
   "execution_count": 15,
   "metadata": {
    "ExecuteTime": {
     "end_time": "2021-11-19T01:47:32.334243Z",
     "start_time": "2021-11-19T01:47:32.326248Z"
    }
   },
   "outputs": [
    {
     "name": "stdout",
     "output_type": "stream",
     "text": [
      "[[ 1]\n",
      " [ 1]\n",
      " [ 3]\n",
      " [-1]\n",
      " [ 2]]\n",
      "[ 1  1  3 -1  2]\n",
      "[[ 1  1  3 -1  2]]\n"
     ]
    }
   ],
   "source": [
    "print(np.array([1,1,3,-1,2]).reshape(-1,1))\n",
    "print(np.array([1,1,3,-1,2]))\n",
    "print(np.array([[1,1,3,-1,2]]))"
   ]
  },
  {
   "cell_type": "markdown",
   "metadata": {},
   "source": [
    "#### 特征降维\n",
    "> PCA, LDA,   \n",
    "\n",
    "- LDA降维（线性判别式分析，Linear Discriminant Analysis）：投影变换后同一标注内距离尽可能小；不同标注间距离尽可能大\n",
    "    - 均值：$$\\mu_0 = \\frac{1}{n_0}\\sum_{s\\in X_0}x, \\mu_1 = \\frac{1}{n_1}\\sum_{s\\in X_1}x$$\n",
    "    - 最大化：\n",
    "        $$J(\\omega) = \\frac{||\\vec{\\omega}_{0}^{T}(\\vec{X}_0-u_0) -\\vec{\\omega}_{1}^{T}(\\vec{X}_1-u_1)||^2}{\\vec{\\omega }_{0}^{T}(\\vec{X}_0-u_0)(\\vec{X}_0-u_0)^{T}\\vec{\\omega}_0 +\\vec{\\omega}_{1}^{T}(\\vec{X}_1-u_1)(\\vec{X}_1-u_1)^T\\vec{\\omega}_1} = \\frac{\\vec{\\omega}^T(\\vec{X}_0-u_0)(\\vec{X}_1-u_1)^T\\vec{\\omega}}{\\vec{\\omega}_{0}^{T}(\\vec{X}_0-u_0)(\\vec{X}_0-u_0)^{T}\\vec{\\omega}_0 +\\vec{\\omega}_{1}^{T}(\\vec{X}_1-u_1)(\\vec{X}_1-u_1)^T\\vec{\\omega}_1}$$\n",
    "        $$\\text{令} S_b = (\\vec{X}_0-u_0)(\\vec{X}_1-u_1 )^T, S_w = (\\vec{X}_0-u_0)(\\vec{X}_0-u_0)^{T}+(\\vec{X}_1-u_1)(\\vec{X}_1-u_1)^T$$\n",
    "        $$\\Rightarrow \\max J(\\omega) = \\frac{\\vec{\\omega}^T S_b\\omega}{{\\omega}^T S_w\\omega}$$\n"
   ]
  },
  {
   "cell_type": "code",
   "execution_count": 16,
   "metadata": {
    "ExecuteTime": {
     "end_time": "2021-11-19T02:38:12.580477Z",
     "start_time": "2021-11-19T02:38:12.297640Z"
    }
   },
   "outputs": [],
   "source": [
    "## 导包\n",
    "import numpy as np # 数值计算\n",
    "import pandas as pd # 数据分析\n",
    "from sklearn.discriminant_analysis import LinearDiscriminantAnalysis # LDA降维"
   ]
  },
  {
   "cell_type": "code",
   "execution_count": 17,
   "metadata": {
    "ExecuteTime": {
     "end_time": "2021-11-19T02:40:49.802545Z",
     "start_time": "2021-11-19T02:40:49.761567Z"
    }
   },
   "outputs": [
    {
     "data": {
      "text/plain": [
       "array([[-1.73205081],\n",
       "       [-1.73205081],\n",
       "       [-3.46410162],\n",
       "       [ 1.73205081],\n",
       "       [ 1.73205081],\n",
       "       [ 3.46410162]])"
      ]
     },
     "execution_count": 17,
     "metadata": {},
     "output_type": "execute_result"
    }
   ],
   "source": [
    "X = np.array([[-1,-1],[-2,-1],[-3,-2],[1,1],[2,1],[3,2]])\n",
    "Y = np.array([1,1,1,2,2,2])\n",
    "LinearDiscriminantAnalysis(n_components=1).fit_transform(X, Y) # LDA 降维"
   ]
  },
  {
   "cell_type": "code",
   "execution_count": 18,
   "metadata": {
    "ExecuteTime": {
     "end_time": "2021-11-19T02:42:44.211461Z",
     "start_time": "2021-11-19T02:42:44.185454Z"
    }
   },
   "outputs": [
    {
     "data": {
      "text/plain": [
       "array([2])"
      ]
     },
     "execution_count": 18,
     "metadata": {},
     "output_type": "execute_result"
    }
   ],
   "source": [
    "## Fisher 判别器（fisher classifier）\n",
    "clf = LinearDiscriminantAnalysis(n_components=1).fit(X, Y) # 拟合\n",
    "clf.predict([[0.8,1]]) # 判别器"
   ]
  },
  {
   "cell_type": "markdown",
   "metadata": {},
   "source": [
    "#### 特征衍生\n",
    "- 从用户角度衍生：用户购买习惯？购买次数？...\n",
    "- 从商品角度衍生：商品特征？是否快消品？是否有季节影响？...\n",
    "- 从关系角度衍生：某商品是否是用户常买的？用户一般会如何搭配？...\n"
   ]
  },
  {
   "cell_type": "code",
   "execution_count": 39,
   "metadata": {
    "ExecuteTime": {
     "end_time": "2021-11-19T14:58:51.789771Z",
     "start_time": "2021-11-19T14:58:51.780777Z"
    }
   },
   "outputs": [],
   "source": [
    "## 导包\n",
    "import numpy as np # 数值计算\n",
    "import pandas as pd # 数据分析\n",
    "from sklearn.preprocessing import MinMaxScaler,StandardScaler # 归一化、标准化\n",
    "from sklearn.preprocessing import LabelEncoder,OneHotEncoder # 标签化、独热编码\n",
    "from sklearn.preprocessing import Normalizer #  \n",
    "from sklearn.discriminant_analysis import LinearDiscriminantAnalysis # LDA 降维\n",
    "from sklearn.decomposition import PCA # PCA 降维"
   ]
  },
  {
   "cell_type": "code",
   "execution_count": 40,
   "metadata": {
    "ExecuteTime": {
     "end_time": "2021-11-19T14:58:52.566921Z",
     "start_time": "2021-11-19T14:58:52.501960Z"
    }
   },
   "outputs": [
    {
     "data": {
      "text/html": [
       "<div>\n",
       "<style scoped>\n",
       "    .dataframe tbody tr th:only-of-type {\n",
       "        vertical-align: middle;\n",
       "    }\n",
       "\n",
       "    .dataframe tbody tr th {\n",
       "        vertical-align: top;\n",
       "    }\n",
       "\n",
       "    .dataframe thead th {\n",
       "        text-align: right;\n",
       "    }\n",
       "</style>\n",
       "<table border=\"1\" class=\"dataframe\">\n",
       "  <thead>\n",
       "    <tr style=\"text-align: right;\">\n",
       "      <th></th>\n",
       "      <th>satisfaction_level</th>\n",
       "      <th>last_evaluation</th>\n",
       "      <th>number_project</th>\n",
       "      <th>average_monthly_hours</th>\n",
       "      <th>time_spend_company</th>\n",
       "      <th>Work_accident</th>\n",
       "      <th>left</th>\n",
       "      <th>promotion_last_5years</th>\n",
       "      <th>Department</th>\n",
       "      <th>salary</th>\n",
       "    </tr>\n",
       "  </thead>\n",
       "  <tbody>\n",
       "    <tr>\n",
       "      <th>0</th>\n",
       "      <td>0.38</td>\n",
       "      <td>0.53</td>\n",
       "      <td>2</td>\n",
       "      <td>157</td>\n",
       "      <td>3</td>\n",
       "      <td>0</td>\n",
       "      <td>1</td>\n",
       "      <td>0</td>\n",
       "      <td>sales</td>\n",
       "      <td>low</td>\n",
       "    </tr>\n",
       "    <tr>\n",
       "      <th>1</th>\n",
       "      <td>0.80</td>\n",
       "      <td>0.86</td>\n",
       "      <td>5</td>\n",
       "      <td>262</td>\n",
       "      <td>6</td>\n",
       "      <td>0</td>\n",
       "      <td>1</td>\n",
       "      <td>0</td>\n",
       "      <td>sales</td>\n",
       "      <td>medium</td>\n",
       "    </tr>\n",
       "    <tr>\n",
       "      <th>2</th>\n",
       "      <td>0.11</td>\n",
       "      <td>0.88</td>\n",
       "      <td>7</td>\n",
       "      <td>272</td>\n",
       "      <td>4</td>\n",
       "      <td>0</td>\n",
       "      <td>1</td>\n",
       "      <td>0</td>\n",
       "      <td>sales</td>\n",
       "      <td>medium</td>\n",
       "    </tr>\n",
       "  </tbody>\n",
       "</table>\n",
       "</div>"
      ],
      "text/plain": [
       "   satisfaction_level  last_evaluation  number_project  average_monthly_hours  \\\n",
       "0                0.38             0.53               2                    157   \n",
       "1                0.80             0.86               5                    262   \n",
       "2                0.11             0.88               7                    272   \n",
       "\n",
       "   time_spend_company  Work_accident  left  promotion_last_5years Department  \\\n",
       "0                   3              0     1                      0      sales   \n",
       "1                   6              0     1                      0      sales   \n",
       "2                   4              0     1                      0      sales   \n",
       "\n",
       "   salary  \n",
       "0     low  \n",
       "1  medium  \n",
       "2  medium  "
      ]
     },
     "execution_count": 40,
     "metadata": {},
     "output_type": "execute_result"
    }
   ],
   "source": [
    "## 查看数据集\n",
    "df = pd.read_csv(\".//datasets//HR_comma_sep.csv\")\n",
    "df.head(3)"
   ]
  },
  {
   "cell_type": "code",
   "execution_count": 47,
   "metadata": {
    "ExecuteTime": {
     "end_time": "2021-11-19T15:00:33.237342Z",
     "start_time": "2021-11-19T15:00:33.196085Z"
    }
   },
   "outputs": [],
   "source": [
    "## \n",
    "# @arg\n",
    "# sl: statisfaction_level --- Flase: MinMaxScaler; True: StandardScaler\n",
    "# le: last_evaluation --- Flase: MinMaxScaler; True: StandardScaler\n",
    "# npr: number_project --- Flase: MinMaxScaler; True: StandardScaler\n",
    "# amh: average_monthly_hours --- Flase: MinMaxScaler; True: StandardScaler\n",
    "# tsc: time_spend_company --- Flase: MinMaxScaler; True: StandardScaler\n",
    "# wa: Work_accident --- Flase: MinMaxScaler; True: StandardScaler\n",
    "# pl5: promotion_last_5years --- Flase: MinMaxScaler; True: StandardScaler\n",
    "# dp: Department --- False: LabelEncoding; True: OneHotEncoding\n",
    "# slr: salary --- False: LabelEncoding; True: OneHotEncoding\n",
    "# lower_d: 是否降维 --- Default: False\n",
    "# ld_n: 保留的维数 --- Default: 1\n",
    "def hr_preprocessing(sl=False, le=False, npr=False, amh=False, tsc=False, wa=False, pl5=False, dp=False, slr=False, lower_d=False, ld_n=1):\n",
    "    ## 0. 加载数据\n",
    "    df = pd.read_csv(\".//datasets//HR_comma_sep.csv\")\n",
    "    \n",
    "    ## 1. 清洗数据（去除异常值、抽样，这里数据量较小不进行抽样了）\n",
    "    df = df.dropna(subset=[\"satisfaction_level\",\"last_evaluation\"])\n",
    "    df = df[df[\"satisfaction_level\"]<=1][df[\"salary\"]!=\"nme\"]\n",
    "    \n",
    "    ## 2. 得到标注\n",
    "    label = df[\"left\"]\n",
    "    df = df.drop(\"left\", axis=1)\n",
    "    \n",
    "    ## 3. 特征选择\n",
    "    \n",
    "    \n",
    "    ## 4. 特征处理\n",
    "    # 对 \"satisfaction_level\", \"last_evaluation\", \"number_project\",\n",
    "    # \"average_monthly_hours\", \"time_spend_company\", \"Work_accident\",\n",
    "    # \"promotion_last_5years\" 进行归一化和标准化\n",
    "    scaler_lst = [sl, le, npr, amh, tsc, wa, pl5]\n",
    "    column_lst = [\"satisfaction_level\", \"last_evaluation\", \"number_project\", \n",
    "                  \"average_monthly_hours\", \"time_spend_company\", \"Work_accident\", \n",
    "                  \"promotion_last_5years\"]\n",
    "    for i in range(len(scaler_lst)):\n",
    "        if not scaler_lst[i]:\n",
    "            df[column_lst[i]] =\\\n",
    "            MinMaxScaler().fit_transform(df[column_lst[i]].values.reshape(-1,1)).reshape(1,-1)[0]\n",
    "        else:\n",
    "            df[column_lst[i]] =\\\n",
    "            StandardScaler().fit_transform(df[column_lst[i]].values.reshape(-1,1)).reshape(1,-1)[0]\n",
    "    # 对 \"Department\", \"salary\" 进行标签化和归一化\n",
    "    scaler_lst = [dp, slr]\n",
    "    column_lst = [\"Department\", \"salary\"]\n",
    "    for i in range(len(scaler_lst)):\n",
    "        if not scaler_lst[i]:\n",
    "            if column_lst[i] == \"salary\":\n",
    "                df[column_lst[i]] = [map_salary(s) for s in df[\"salary\"].values]\n",
    "            else:\n",
    "                df[column_lst[i]] = LabelEncoder().fit_transform(df[column_lst[i]])\n",
    "            df[column_lst[i]] = MinMaxScaler().fit_transform(df[column_lst[i]].values.reshape(-1,1)).reshape(1,-1)[0]\n",
    "        else:\n",
    "            df = pd.get_dummies(df, columns=[column_lst[i]])\n",
    "    # 降维\n",
    "    if lower_d:\n",
    "        return PCA(n_components=ld_n).fit_transform(df.values),label\n",
    "#         return LinearDiscriminantAnalysis(n_components=ld_n)\n",
    "    \n",
    "    return df,label\n",
    "\n"
   ]
  },
  {
   "cell_type": "code",
   "execution_count": 48,
   "metadata": {
    "ExecuteTime": {
     "end_time": "2021-11-19T15:00:34.205310Z",
     "start_time": "2021-11-19T15:00:34.196315Z"
    }
   },
   "outputs": [],
   "source": [
    "##\n",
    "d = dict([(\"low\",0), (\"medium\",1), (\"high\",2)])\n",
    "def map_salary(s):\n",
    "    return d.get(s,0)\n"
   ]
  },
  {
   "cell_type": "code",
   "execution_count": 49,
   "metadata": {
    "ExecuteTime": {
     "end_time": "2021-11-19T15:00:35.409512Z",
     "start_time": "2021-11-19T15:00:35.258534Z"
    },
    "collapsed": true
   },
   "outputs": [
    {
     "name": "stdout",
     "output_type": "stream",
     "text": [
      "(       satisfaction_level  last_evaluation  number_project  \\\n",
      "0               -0.936495        -1.087275             0.0   \n",
      "1                0.752814         0.840707             0.6   \n",
      "2               -2.022479         0.957554             1.0   \n",
      "3                0.431041         0.899131             0.6   \n",
      "4               -0.976716        -1.145699             0.0   \n",
      "...                   ...              ...             ...   \n",
      "14994           -0.856051        -0.853580             0.0   \n",
      "14995           -0.976716        -1.379394             0.0   \n",
      "14996           -0.976716        -1.087275             0.0   \n",
      "14997           -2.022479         1.424944             0.8   \n",
      "14998           -0.976716        -1.145699             0.0   \n",
      "\n",
      "       average_monthly_hours  time_spend_company  Work_accident  \\\n",
      "0                   0.285047               0.125            0.0   \n",
      "1                   0.775701               0.500            0.0   \n",
      "2                   0.822430               0.250            0.0   \n",
      "3                   0.593458               0.375            0.0   \n",
      "4                   0.294393               0.125            0.0   \n",
      "...                      ...                 ...            ...   \n",
      "14994               0.257009               0.125            0.0   \n",
      "14995               0.299065               0.125            0.0   \n",
      "14996               0.219626               0.125            0.0   \n",
      "14997               0.859813               0.250            0.0   \n",
      "14998               0.289720               0.125            0.0   \n",
      "\n",
      "       promotion_last_5years  Department  salary  \n",
      "0                        0.0    0.777778     0.0  \n",
      "1                        0.0    0.777778     0.5  \n",
      "2                        0.0    0.777778     0.5  \n",
      "3                        0.0    0.777778     0.0  \n",
      "4                        0.0    0.777778     0.0  \n",
      "...                      ...         ...     ...  \n",
      "14994                    0.0    0.888889     0.0  \n",
      "14995                    0.0    0.888889     0.0  \n",
      "14996                    0.0    0.888889     0.0  \n",
      "14997                    0.0    0.888889     0.0  \n",
      "14998                    0.0    0.888889     0.0  \n",
      "\n",
      "[14999 rows x 9 columns], 0        1\n",
      "1        1\n",
      "2        1\n",
      "3        1\n",
      "4        1\n",
      "        ..\n",
      "14994    1\n",
      "14995    1\n",
      "14996    1\n",
      "14997    1\n",
      "14998    1\n",
      "Name: left, Length: 14999, dtype: int64)\n"
     ]
    }
   ],
   "source": [
    "## \n",
    "def main():\n",
    "    print(hr_preprocessing(sl=True, le=True, lower_d=False, ld_n=3))\n",
    "    \n",
    "if __name__ == \"__main__\":\n",
    "    main()\n",
    "    \n",
    "    "
   ]
  },
  {
   "cell_type": "markdown",
   "metadata": {},
   "source": [
    "#### 小结\n",
    "\n",
    "<img style=\"float: center;\" src=\"./figures/特征工程小结.png\" width=\"50%\">\n",
    "<center>Fig. 特征工程小结</center>\n"
   ]
  },
  {
   "cell_type": "markdown",
   "metadata": {},
   "source": [
    "## 机器学习\n",
    "- 数据集：训练集（train set）、验证集（validation set）、测试集（test set）\n",
    "    - 训练集（**建模**）：用来训练和拟合数据\n",
    "        - tips：训练集数据量越大，训练结果越准确，训练集的增多应该以整个数据集的增多为前提，而不是增大训练集在整个数据集中的占比\n",
    "    - 验证集（**调参**）：经过训练集训练出多个模型后，使用验证集进行数据纠偏或比较预测\n",
    "    - 测试集（**评价**）：考察模型的泛化能力\n",
    "        - 泛化：对未知数据的预测\n",
    "        - 过拟合：训练集、验证集表现良好，但是测试集表现较差\n",
    "        - 交叉验证：测试集、训练集二八分（二八定律），丢弃了测试集\n",
    "        - K-fold 交叉验证：将数据分为 K 份，每份轮流作一遍测试集，其他作训练集\n"
   ]
  },
  {
   "cell_type": "code",
   "execution_count": 36,
   "metadata": {
    "ExecuteTime": {
     "end_time": "2021-11-22T12:58:51.489452Z",
     "start_time": "2021-11-22T12:58:51.468442Z"
    }
   },
   "outputs": [],
   "source": [
    "## 导包\n",
    "import numpy as np # 数值计算\n",
    "import pandas as pd # 数据分析\n",
    "from sklearn.preprocessing import MinMaxScaler,StandardScaler # 归一化、标准化\n",
    "from sklearn.preprocessing import LabelEncoder,OneHotEncoder # 标签化、独热编码\n",
    "from sklearn.preprocessing import Normalizer # \n",
    "from sklearn.discriminant_analysis import LinearDiscriminantAnalysis # LDA 降维\n",
    "from sklearn.decomposition import PCA # PCA 降维"
   ]
  },
  {
   "cell_type": "code",
   "execution_count": 37,
   "metadata": {
    "ExecuteTime": {
     "end_time": "2021-11-22T12:58:52.203376Z",
     "start_time": "2021-11-22T12:58:52.146410Z"
    }
   },
   "outputs": [
    {
     "data": {
      "text/html": [
       "<div>\n",
       "<style scoped>\n",
       "    .dataframe tbody tr th:only-of-type {\n",
       "        vertical-align: middle;\n",
       "    }\n",
       "\n",
       "    .dataframe tbody tr th {\n",
       "        vertical-align: top;\n",
       "    }\n",
       "\n",
       "    .dataframe thead th {\n",
       "        text-align: right;\n",
       "    }\n",
       "</style>\n",
       "<table border=\"1\" class=\"dataframe\">\n",
       "  <thead>\n",
       "    <tr style=\"text-align: right;\">\n",
       "      <th></th>\n",
       "      <th>satisfaction_level</th>\n",
       "      <th>last_evaluation</th>\n",
       "      <th>number_project</th>\n",
       "      <th>average_monthly_hours</th>\n",
       "      <th>time_spend_company</th>\n",
       "      <th>Work_accident</th>\n",
       "      <th>left</th>\n",
       "      <th>promotion_last_5years</th>\n",
       "      <th>Department</th>\n",
       "      <th>salary</th>\n",
       "    </tr>\n",
       "  </thead>\n",
       "  <tbody>\n",
       "    <tr>\n",
       "      <th>0</th>\n",
       "      <td>0.38</td>\n",
       "      <td>0.53</td>\n",
       "      <td>2</td>\n",
       "      <td>157</td>\n",
       "      <td>3</td>\n",
       "      <td>0</td>\n",
       "      <td>1</td>\n",
       "      <td>0</td>\n",
       "      <td>sales</td>\n",
       "      <td>low</td>\n",
       "    </tr>\n",
       "    <tr>\n",
       "      <th>1</th>\n",
       "      <td>0.80</td>\n",
       "      <td>0.86</td>\n",
       "      <td>5</td>\n",
       "      <td>262</td>\n",
       "      <td>6</td>\n",
       "      <td>0</td>\n",
       "      <td>1</td>\n",
       "      <td>0</td>\n",
       "      <td>sales</td>\n",
       "      <td>medium</td>\n",
       "    </tr>\n",
       "    <tr>\n",
       "      <th>2</th>\n",
       "      <td>0.11</td>\n",
       "      <td>0.88</td>\n",
       "      <td>7</td>\n",
       "      <td>272</td>\n",
       "      <td>4</td>\n",
       "      <td>0</td>\n",
       "      <td>1</td>\n",
       "      <td>0</td>\n",
       "      <td>sales</td>\n",
       "      <td>medium</td>\n",
       "    </tr>\n",
       "  </tbody>\n",
       "</table>\n",
       "</div>"
      ],
      "text/plain": [
       "   satisfaction_level  last_evaluation  number_project  average_monthly_hours  \\\n",
       "0                0.38             0.53               2                    157   \n",
       "1                0.80             0.86               5                    262   \n",
       "2                0.11             0.88               7                    272   \n",
       "\n",
       "   time_spend_company  Work_accident  left  promotion_last_5years Department  \\\n",
       "0                   3              0     1                      0      sales   \n",
       "1                   6              0     1                      0      sales   \n",
       "2                   4              0     1                      0      sales   \n",
       "\n",
       "   salary  \n",
       "0     low  \n",
       "1  medium  \n",
       "2  medium  "
      ]
     },
     "execution_count": 37,
     "metadata": {},
     "output_type": "execute_result"
    }
   ],
   "source": [
    "## 查看数据集\n",
    "df = pd.read_csv(\".//datasets//HR_comma_sep.csv\")\n",
    "df.head(3)"
   ]
  },
  {
   "cell_type": "code",
   "execution_count": 38,
   "metadata": {
    "ExecuteTime": {
     "end_time": "2021-11-22T12:58:53.027579Z",
     "start_time": "2021-11-22T12:58:53.001598Z"
    }
   },
   "outputs": [],
   "source": [
    "## \n",
    "# @arg\n",
    "# sl: statisfaction_level --- Flase: MinMaxScaler; True: StandardScaler\n",
    "# le: last_evaluation --- Flase: MinMaxScaler; True: StandardScaler\n",
    "# npr: number_project --- Flase: MinMaxScaler; True: StandardScaler\n",
    "# amh: average_monthly_hours --- Flase: MinMaxScaler; True: StandardScaler\n",
    "# tsc: time_spend_company --- Flase: MinMaxScaler; True: StandardScaler\n",
    "# wa: Work_accident --- Flase: MinMaxScaler; True: StandardScaler\n",
    "# pl5: promotion_last_5years --- Flase: MinMaxScaler; True: StandardScaler\n",
    "# dp: Department --- False: LabelEncoding; True: OneHotEncoding\n",
    "# slr: salary --- False: LabelEncoding; True: OneHotEncoding\n",
    "# lower_d: 是否降维 --- Default: False\n",
    "# ld_n: 保留的维数 --- Default: 1\n",
    "def hr_preprocessing(sl=False, le=False, npr=False, amh=False, tsc=False, wa=False, pl5=False, dp=False, slr=False, lower_d=False, ld_n=1):\n",
    "    ## 0. 加载数据\n",
    "    df = pd.read_csv(\".//datasets//HR_comma_sep.csv\")\n",
    "    \n",
    "    ## 1. 清洗数据（去除异常值、抽样，这里数据量较小不进行抽样了）\n",
    "    df = df.dropna(subset=[\"satisfaction_level\",\"last_evaluation\"])\n",
    "    df = df[df[\"satisfaction_level\"]<=1][df[\"salary\"]!=\"nme\"]\n",
    "    \n",
    "    ## 2. 得到标注\n",
    "    label = df[\"left\"]\n",
    "    df = df.drop(\"left\", axis=1)\n",
    "    \n",
    "    ## 3. 特征选择\n",
    "    \n",
    "    \n",
    "    ## 4. 特征处理\n",
    "    # 对 \"satisfaction_level\", \"last_evaluation\", \"number_project\",\n",
    "    # \"average_monthly_hours\", \"time_spend_company\", \"Work_accident\",\n",
    "    # \"promotion_last_5years\" 进行归一化和标准化\n",
    "    scaler_lst = [sl, le, npr, amh, tsc, wa, pl5]\n",
    "    column_lst = [\"satisfaction_level\", \"last_evaluation\", \"number_project\", \n",
    "                  \"average_monthly_hours\", \"time_spend_company\", \"Work_accident\", \n",
    "                  \"promotion_last_5years\"]\n",
    "    for i in range(len(scaler_lst)):\n",
    "        if not scaler_lst[i]:\n",
    "            df[column_lst[i]] =\\\n",
    "            MinMaxScaler().fit_transform(df[column_lst[i]].values.reshape(-1,1)).reshape(1,-1)[0]\n",
    "        else:\n",
    "            df[column_lst[i]] =\\\n",
    "            StandardScaler().fit_transform(df[column_lst[i]].values.reshape(-1,1)).reshape(1,-1)[0]\n",
    "    # 对 \"Department\", \"salary\" 进行标签化和归一化\n",
    "    scaler_lst = [dp, slr]\n",
    "    column_lst = [\"Department\", \"salary\"]\n",
    "    for i in range(len(scaler_lst)):\n",
    "        if not scaler_lst[i]:\n",
    "            if column_lst[i] == \"salary\":\n",
    "                df[column_lst[i]] = [map_salary(s) for s in df[\"salary\"].values]\n",
    "            else:\n",
    "                df[column_lst[i]] = LabelEncoder().fit_transform(df[column_lst[i]])\n",
    "            df[column_lst[i]] = MinMaxScaler().fit_transform(df[column_lst[i]].values.reshape(-1,1)).reshape(1,-1)[0]\n",
    "        else:\n",
    "            df = pd.get_dummies(df, columns=[column_lst[i]])\n",
    "    # 降维\n",
    "    if lower_d:\n",
    "        return PCA(n_components=ld_n).fit_transform(df.values),label\n",
    "#         return LinearDiscriminantAnalysis(n_components=ld_n)\n",
    "    \n",
    "    return df,label\n",
    "\n"
   ]
  },
  {
   "cell_type": "code",
   "execution_count": 39,
   "metadata": {
    "ExecuteTime": {
     "end_time": "2021-11-22T12:58:54.776827Z",
     "start_time": "2021-11-22T12:58:54.766835Z"
    }
   },
   "outputs": [],
   "source": [
    "##\n",
    "d = dict([(\"low\",0), (\"medium\",1), (\"high\",2)])\n",
    "def map_salary(s):\n",
    "    return d.get(s,0)\n"
   ]
  },
  {
   "cell_type": "code",
   "execution_count": 14,
   "metadata": {
    "ExecuteTime": {
     "end_time": "2021-11-21T07:38:23.741023Z",
     "start_time": "2021-11-21T07:38:23.732028Z"
    }
   },
   "outputs": [],
   "source": [
    "## 建模分析\n",
    "def hr_modeling(features, label):\n",
    "    from sklearn.model_selection import train_test_split\n",
    "    f_v = features.values # 特征\n",
    "    l_v = label.values # 标注\n",
    "    X_tt,X_validation,Y_tt,Y_validation = train_test_split(f_v, l_v, test_size=0.2)\n",
    "    X_train,X_test,Y_train,Y_test = train_test_split(X_tt, Y_tt, test_size=0.25)\n",
    "    print(len(X_train), len(X_validation), len(X_test))\n"
   ]
  },
  {
   "cell_type": "code",
   "execution_count": 6,
   "metadata": {
    "ExecuteTime": {
     "end_time": "2021-11-21T07:30:37.541836Z",
     "start_time": "2021-11-21T07:30:37.409913Z"
    }
   },
   "outputs": [
    {
     "name": "stdout",
     "output_type": "stream",
     "text": [
      "8999 3000 3000\n"
     ]
    }
   ],
   "source": [
    "## \n",
    "def main():\n",
    "#     print(hr_preprocessing(sl=True, le=True, lower_d=False, ld_n=3))\n",
    "    features,label = hr_preprocessing()\n",
    "    hr_modeling(features, label)\n",
    "    \n",
    "if __name__ == \"__main__\":\n",
    "    main()\n",
    "    \n",
    "    "
   ]
  },
  {
   "cell_type": "markdown",
   "metadata": {},
   "source": [
    "### 分类模型\n",
    "> KNN、朴素贝叶斯、决策树、支持向量机、集成方法、Logistic 映射、人工神经网络\n",
    "\n",
    "#### KNN（K-Nearest Neighbors）\n",
    "- 距离：\n",
    "    - 欧氏距离：$$d_{12} = \\sqrt{\\sum^{n}_{k=1}(x_{1k}-x_{2k})^2}$$\n",
    "    - 曼哈顿距离：$$d_{12} = \\sum^{n}_{k=1}|x_{1k}-x_{2k}|$$\n",
    "    - 闵可夫斯基距离：$$d_{12} = ^p\\sqrt{\\sum^{n}_{k=1}|x_{1k}-x_{2k}|}$$\n",
    "\n",
    "<img style=\"float: center;\" src=\"./figures/距离.png\" width=\"50%\">\n",
    "<center>Fig. 距离</center>\n",
    "\n"
   ]
  },
  {
   "cell_type": "markdown",
   "metadata": {},
   "source": [
    "- KD-Tree：\n",
    "\n",
    "<img style=\"float: left;\" src=\"./figures/KD-Tree1.png\" width=\"50%\">\n",
    "<img style=\"float: right;\" src=\"./figures/KD-Tree2.png\" width=\"50%\">\n"
   ]
  },
  {
   "cell_type": "markdown",
   "metadata": {
    "ExecuteTime": {
     "end_time": "2021-11-21T14:47:36.731862Z",
     "start_time": "2021-11-21T14:47:36.692882Z"
    }
   },
   "source": [
    "<center>Fig. KD-Tree</center>"
   ]
  },
  {
   "cell_type": "markdown",
   "metadata": {},
   "source": [
    " - KNN算法思想：\n",
    " \n",
    "<img style=\"float: center;\" src=\"./figures/KNN算法思想.png\" width=\"50%\">\n",
    "<center>Fig. KNN算法思想</center>\n",
    "    "
   ]
  },
  {
   "cell_type": "code",
   "execution_count": 61,
   "metadata": {
    "ExecuteTime": {
     "end_time": "2021-11-21T08:32:31.220962Z",
     "start_time": "2021-11-21T08:32:31.194976Z"
    }
   },
   "outputs": [],
   "source": [
    "## 建模分析\n",
    "def hr_modeling(features, label):\n",
    "    from sklearn.model_selection import train_test_split\n",
    "    f_v = features.values # 特征\n",
    "    l_v = label.values # 标注\n",
    "    # 测试集：X_tt, Y_tt\n",
    "    # 验证集：X_validation, Y_validation\n",
    "    X_tt,X_validation,Y_tt,Y_validation = train_test_split(f_v, l_v, test_size=0.2)\n",
    "    X_train,X_test,Y_train,Y_test = train_test_split(X_tt, Y_tt, test_size=0.25)\n",
    "    print(len(X_train), len(X_validation), len(X_test))\n",
    "    \n",
    "    ## KNN\n",
    "    from sklearn.neighbors import NearestNeighbors,KNeighborsClassifier # \n",
    "    knn_clf = KNeighborsClassifier(n_neighbors=3) # 调参\n",
    "    knn_clf_n5 = KNeighborsClassifier(n_neighbors=5)\n",
    "    knn_clf.fit(X_train, Y_train) # 拟合\n",
    "    knn_clf_n5.fit(X_train, Y_train) # 拟合\n",
    "    Y_pred = knn_clf.predict(X_validation) # 模型验证\n",
    "    Y_pred_n5 = knn_clf_n5.predict(X_validation) # 模型验证\n",
    "    from sklearn.metrics import accuracy_score,recall_score,f1_score # 模型评价\n",
    "    print(\"训练集（Train Set）：\")\n",
    "    Y_pred = knn_clf.predict(X_train)\n",
    "    print(\"ACC:\", accuracy_score(Y_train, Y_pred)) # 准确率\n",
    "    print(\"REC:\", recall_score(Y_train, Y_pred)) # 召回率\n",
    "    print(\"F-Score:\", f1_score(Y_train, Y_pred)) # 综合反应\n",
    "\n",
    "    print(\"验证集(Validation Set)：\")\n",
    "    Y_pred = knn_clf.predict(X_validation)\n",
    "    print(\" ++++ n = 3 ++++ \")\n",
    "    print(\"ACC:\", accuracy_score(Y_validation, Y_pred)) # 准确率\n",
    "    print(\"REC:\", recall_score(Y_validation, Y_pred)) # 召回率\n",
    "    print(\"F-Score:\", f1_score(Y_validation, Y_pred)) # 综合反应\n",
    "    print(\" ++++ n = 5 ++++ \")\n",
    "    print(\"ACC:\", accuracy_score(Y_validation, Y_pred_n5)) # 准确率\n",
    "    print(\"REC:\", recall_score(Y_validation, Y_pred_n5)) # 召回率\n",
    "    print(\"F-Score:\", f1_score(Y_validation, Y_pred_n5)) # 综合反应\n",
    "    \n",
    "    print(\"测试集（Test Set）：\")\n",
    "    Y_pred = knn_clf.predict(X_test)\n",
    "    print(\"ACC:\", accuracy_score(Y_test, Y_pred)) # 准确率\n",
    "    print(\"REC:\", recall_score(Y_test, Y_pred)) # 召回率\n",
    "    print(\"F-Score:\", f1_score(Y_test, Y_pred)) # 综合反应\n",
    "    \n",
    "    # 模型存取\n",
    "#     from sklearn.externals import joblib # 旧版本 joblib 包引用方法（0.20.3）\n",
    "    import joblib # 0.20.3 之后版本的 joblib 引用方法\n",
    "    joblib.dump(knn_clf, \"knn_clf\") # 保存模型\n",
    "    knn_clf = joblib.load(\"knn_clf\") # 使用模型\n",
    "    print(\"Test2:\")\n",
    "    Y_pred = knn_clf.predict(X_test)\n",
    "    print(\"ACC:\", accuracy_score(Y_test, Y_pred)) # 准确率\n",
    "    print(\"REC:\", recall_score(Y_test, Y_pred)) # 召回率\n",
    "    print(\"F-Score:\", f1_score(Y_test, Y_pred)) # 综合反应\n",
    "    \n"
   ]
  },
  {
   "cell_type": "code",
   "execution_count": 62,
   "metadata": {
    "ExecuteTime": {
     "end_time": "2021-11-21T08:32:36.364665Z",
     "start_time": "2021-11-21T08:32:32.376945Z"
    }
   },
   "outputs": [
    {
     "name": "stdout",
     "output_type": "stream",
     "text": [
      "8999 3000 3000\n",
      "训练集（Train Set）：\n",
      "ACC: 0.9755528392043561\n",
      "REC: 0.9632850241545894\n",
      "F-Score: 0.9477186311787072\n",
      "验证集(Validation Set)：\n",
      " ++++ n = 3 ++++ \n",
      "ACC: 0.955\n",
      "REC: 0.9314888010540184\n",
      "F-Score: 0.9128469980632666\n",
      " ++++ n = 5 ++++ \n",
      "ACC: 0.9523333333333334\n",
      "REC: 0.9169960474308301\n",
      "F-Score: 0.9068403908794789\n",
      "测试集（Test Set）：\n",
      "ACC: 0.9546666666666667\n",
      "REC: 0.9231805929919138\n",
      "F-Score: 0.9096945551128818\n",
      "Test2:\n",
      "ACC: 0.9546666666666667\n",
      "REC: 0.9231805929919138\n",
      "F-Score: 0.9096945551128818\n"
     ]
    }
   ],
   "source": [
    "## \n",
    "def main():\n",
    "#     print(hr_preprocessing(sl=True, le=True, lower_d=False, ld_n=3))\n",
    "    features,label = hr_preprocessing()\n",
    "    hr_modeling(features, label)\n",
    "    \n",
    "if __name__ == \"__main__\":\n",
    "    main()\n",
    "    \n"
   ]
  },
  {
   "cell_type": "markdown",
   "metadata": {},
   "source": [
    "> n = 3 时模型要优于 n = 5 时"
   ]
  },
  {
   "cell_type": "code",
   "execution_count": 47,
   "metadata": {
    "ExecuteTime": {
     "end_time": "2021-11-21T08:18:15.279173Z",
     "start_time": "2021-11-21T08:18:11.170892Z"
    }
   },
   "outputs": [
    {
     "name": "stdout",
     "output_type": "stream",
     "text": [
      "8999 3000 3000\n",
      "训练集（Train Set）：\n",
      "ACC: 0.9792199133237026\n",
      "REC: 0.9642525533890436\n",
      "F-Score: 0.9569223681179452\n",
      "验证集(Validation Set)：\n",
      " ++++ n = 3 ++++ \n",
      "ACC: 0.9633333333333334\n",
      "REC: 0.9167842031029619\n",
      "F-Score: 0.9219858156028368\n",
      " ++++ n = 5 ++++ \n",
      "ACC: 0.961\n",
      "REC: 0.8998589562764457\n",
      "F-Score: 0.9160086145010768\n",
      "测试集（Test Set）：\n",
      "ACC: 0.9656666666666667\n",
      "REC: 0.9364406779661016\n",
      "F-Score: 0.927921623512946\n"
     ]
    }
   ],
   "source": [
    "## \n",
    "def main():\n",
    "#     print(hr_preprocessing(sl=True, le=True, lower_d=False, ld_n=3))\n",
    "    features,label = hr_preprocessing(sl=True, le=True, npr=True, amh=True, tsc=True, wa=True, pl5=True, dp=False, slr=False)\n",
    "    hr_modeling(features, label)\n",
    "    \n",
    "if __name__ == \"__main__\":\n",
    "    main()\n",
    "    \n"
   ]
  },
  {
   "cell_type": "code",
   "execution_count": 48,
   "metadata": {
    "ExecuteTime": {
     "end_time": "2021-11-21T08:18:43.142530Z",
     "start_time": "2021-11-21T08:18:35.078712Z"
    }
   },
   "outputs": [
    {
     "name": "stdout",
     "output_type": "stream",
     "text": [
      "8999 3000 3000\n",
      "训练集（Train Set）：\n",
      "ACC: 0.975441715746194\n",
      "REC: 0.9608675153229609\n",
      "F-Score: 0.9485687689085408\n",
      "验证集(Validation Set)：\n",
      " ++++ n = 3 ++++ \n",
      "ACC: 0.9606666666666667\n",
      "REC: 0.945280437756498\n",
      "F-Score: 0.9213333333333333\n",
      " ++++ n = 5 ++++ \n",
      "ACC: 0.9573333333333334\n",
      "REC: 0.9288645690834473\n",
      "F-Score: 0.9138627187079408\n",
      "测试集（Test Set）：\n",
      "ACC: 0.9513333333333334\n",
      "REC: 0.9123783031988874\n",
      "F-Score: 0.8998628257887519\n"
     ]
    }
   ],
   "source": [
    "## \n",
    "def main():\n",
    "#     print(hr_preprocessing(sl=True, le=True, lower_d=False, ld_n=3))\n",
    "    features,label = hr_preprocessing(sl=True, le=True, npr=True, amh=True, tsc=True, wa=True, pl5=True, dp=True, slr=False)\n",
    "    hr_modeling(features, label)\n",
    "    \n",
    "if __name__ == \"__main__\":\n",
    "    main()\n",
    "    \n"
   ]
  },
  {
   "cell_type": "markdown",
   "metadata": {},
   "source": [
    "#### 朴素贝叶斯（Naive Bayes ）\n",
    "- 概率：$P(A)$\n",
    "- 条件概率：$P(A|B)$\n",
    "- 联合概率：$P(A,B)$\n",
    "- 三种概率之间的关系：$$P(A,B) = P(A|B)P(B) = P(B|A)P(A)$$\n",
    "- 全概率公式：$$P(B) = \\sum P(A_i)P(B|A_i)$$\n",
    "- 贝叶斯公式：\n",
    "$$P(B_i|A) = \\frac{P(B_i)P(A|B_i)}{\\sum P(B_j)P(A|B_j)}$$\n",
    "$$\\Rightarrow P(B|A) = \\frac{P(A|B)P(B)}{P(A)}$$\n",
    "\n",
    "- 拉普拉斯平滑：\n",
    "<img style=\"float: center;\" src=\"./figures/拉普拉斯平滑.png\" width=\"50%\">\n",
    "<center>Fig. 拉普拉斯平滑</center>\n",
    "\n",
    "- 伯努利朴素贝叶斯（Bernoulli Naive Bayes）：多用于二值（0-1），离散值，连续值二值化\n",
    "- 高斯朴素贝叶斯（Gaussian Naive Bayes）：假设特征满足高斯分布\n"
   ]
  },
  {
   "cell_type": "code",
   "execution_count": 116,
   "metadata": {
    "ExecuteTime": {
     "end_time": "2021-11-21T11:17:57.730278Z",
     "start_time": "2021-11-21T11:17:57.707293Z"
    }
   },
   "outputs": [],
   "source": [
    "## 建模分析\n",
    "def hr_modeling(features, label):\n",
    "    from sklearn.model_selection import train_test_split\n",
    "    f_v = features.values # 特征\n",
    "    l_v = label.values # 标注\n",
    "    # 测试集：X_tt, Y_tt\n",
    "    # 验证集：X_validation, Y_validation\n",
    "    X_tt,X_validation,Y_tt,Y_validation = train_test_split(f_v, l_v, test_size=0.2)\n",
    "    X_train,X_test,Y_train,Y_test = train_test_split(X_tt, Y_tt, test_size=0.25)\n",
    "    print(len(X_train), len(X_validation), len(X_test))\n",
    "    \n",
    "    ## 模型构建\n",
    "    from sklearn.metrics import accuracy_score,recall_score,f1_score # 模型评价\n",
    "    from sklearn.neighbors import NearestNeighbors,KNeighborsClassifier # KNN\n",
    "    from sklearn.naive_bayes import GaussianNB,BernoulliNB # 高斯朴素贝叶斯、伯努利朴素贝叶斯\n",
    "    models = []\n",
    "    \n",
    "    models.append((\"KNN\", KNeighborsClassifier(n_neighbors=3))) # KNN\n",
    "    models.append((\"GaussianNB\", GaussianNB())) # Gaussian Naive Bayes\n",
    "    models.append((\"BernoulliNB\", BernoulliNB())) # BernoulliNB Naive Bayes\n",
    "    for clf_name,clf in models:\n",
    "        print(\"++++\", clf_name, \"++++\")\n",
    "        clf.fit(X_train, Y_train)\n",
    "        xy_lst = [(X_train,Y_train), (X_validation,Y_validation), (X_test,Y_test)]\n",
    "        set_name = [\"Train:\", \"Validation:\", \"Test:\"]\n",
    "        for i in range(len(xy_lst)):\n",
    "            X_part = xy_lst[i][0]\n",
    "            Y_part = xy_lst[i][1]\n",
    "            Y_pred = clf.predict(X_part)\n",
    "#             print(i)\n",
    "            print(set_name[i])\n",
    "            print(clf_name, \"- ACC:\", accuracy_score(Y_part, Y_pred))\n",
    "            print(clf_name, \"- REC:\", recall_score(Y_part, Y_pred))\n",
    "            print(clf_name, \"- F1:\", f1_score(Y_part, Y_pred))\n",
    "    \n",
    "    ## 朴素贝叶斯\n",
    "    \n",
    "    \n",
    "    # 模型存取\n",
    "#     from sklearn.externals import joblib # 旧版本 joblib 包引用方法（0.20.3）\n",
    "#     import joblib # 0.20.3 之后版本的 joblib 引用方法\n",
    "#     joblib.dump(knn_clf, \"knn_clf\") # 保存模型\n",
    "#     knn_clf = joblib.load(\"knn_clf\") # 使用模型\n",
    "#     print(\"Test2:\")\n",
    "#     Y_pred = knn_clf.predict(X_test)\n",
    "#     print(\"ACC:\", accuracy_score(Y_test, Y_pred)) # 准确率\n",
    "#     print(\"REC:\", recall_score(Y_test, Y_pred)) # 召回率\n",
    "#     print(\"F-Score:\", f1_score(Y_test, Y_pred)) # 综合反应\n",
    "    \n"
   ]
  },
  {
   "cell_type": "code",
   "execution_count": 117,
   "metadata": {
    "ExecuteTime": {
     "end_time": "2021-11-21T11:18:01.070365Z",
     "start_time": "2021-11-21T11:17:58.420884Z"
    }
   },
   "outputs": [
    {
     "name": "stdout",
     "output_type": "stream",
     "text": [
      "8999 3000 3000\n",
      "++++ KNN ++++\n",
      "Train:\n",
      "KNN - ACC: 0.9756639626625181\n",
      "KNN - REC: 0.9621647509578544\n",
      "KNN - F1: 0.9483124852489969\n",
      "Validation:\n",
      "KNN - ACC: 0.9563333333333334\n",
      "KNN - REC: 0.930718954248366\n",
      "KNN - F1: 0.9157556270096463\n",
      "Test:\n",
      "KNN - ACC: 0.9536666666666667\n",
      "KNN - REC: 0.9108635097493036\n",
      "KNN - F1: 0.9039391845196959\n",
      "++++ GaussianNB ++++\n",
      "Train:\n",
      "GaussianNB - ACC: 0.802200244471608\n",
      "GaussianNB - REC: 0.7207854406130269\n",
      "GaussianNB - F1: 0.6283924843423799\n",
      "Validation:\n",
      "GaussianNB - ACC: 0.8003333333333333\n",
      "GaussianNB - REC: 0.7215686274509804\n",
      "GaussianNB - F1: 0.6482677627715796\n",
      "Test:\n",
      "GaussianNB - ACC: 0.8043333333333333\n",
      "GaussianNB - REC: 0.7172701949860725\n",
      "GaussianNB - F1: 0.6369820655534941\n",
      "++++ BernoulliNB ++++\n",
      "Train:\n",
      "BernoulliNB - ACC: 0.8423158128680964\n",
      "BernoulliNB - REC: 0.460727969348659\n",
      "BernoulliNB - F1: 0.5755309602153754\n",
      "Validation:\n",
      "BernoulliNB - ACC: 0.835\n",
      "BernoulliNB - REC: 0.48366013071895425\n",
      "BernoulliNB - F1: 0.5991902834008098\n",
      "Test:\n",
      "BernoulliNB - ACC: 0.8456666666666667\n",
      "BernoulliNB - REC: 0.47493036211699163\n",
      "BernoulliNB - F1: 0.5956331877729257\n"
     ]
    }
   ],
   "source": [
    "## \n",
    "def main():\n",
    "#     print(hr_preprocessing(sl=True, le=True, lower_d=False, ld_n=3))\n",
    "    features,label = hr_preprocessing()\n",
    "    hr_modeling(features, label)\n",
    "    \n",
    "if __name__ == \"__main__\":\n",
    "    main()\n",
    "    \n"
   ]
  },
  {
   "cell_type": "markdown",
   "metadata": {},
   "source": [
    "- 生成模型 & 判别模型\n",
    "    - 生成模型：通过求输入与输出的联合概率分布，再求解类别归类的概率\n",
    "    $$P(B|A) = \\frac{P(A|B)P(B)}{P(A)}$$\n",
    "    - 判别模型：不通过联合概率分布，直接可以获得输出对应最大分类的概率\n"
   ]
  },
  {
   "cell_type": "markdown",
   "metadata": {},
   "source": [
    "#### 决策树（Decision Tree）\n",
    "- 决策切分\n",
    "    - 信息增益（Gain） - ID3:\n",
    "    $$H(X) = \\sum p_i log(p_i)$$\n",
    "    $$I(X,Y) = H(Y) - H(Y|X) = H(X) - H(X|Y)$$\n",
    "    - 信息增益率（GainRatio） - C4.5:\n",
    "    $$GainRatio(X->Y) = \\frac{I(X,Y)}{H(Y)}$$\n",
    "    - Gini 系数 - CART:\n",
    "    $$Gini(D) = 1-\\sum(\\frac{C_k}{D})^2$$\n",
    "- Tips:\n",
    "    - 连续值切分：计算每个分隔\n",
    "    - 规则用尽：投票\n",
    "    - 过拟合：剪枝\n",
    "        - 前剪枝：构造决策树前，规定了最大深度\n",
    "        - 后剪枝：先构造决策树，再对样本枝比较悬殊的枝叶进行修剪\n",
    "\n"
   ]
  },
  {
   "cell_type": "code",
   "execution_count": 5,
   "metadata": {
    "ExecuteTime": {
     "end_time": "2021-11-23T07:16:55.753210Z",
     "start_time": "2021-11-23T07:16:55.737219Z"
    }
   },
   "outputs": [],
   "source": [
    "## 导包\n",
    "import numpy as np # 数值计算\n",
    "import pandas as pd # 数据分析"
   ]
  },
  {
   "cell_type": "code",
   "execution_count": 6,
   "metadata": {
    "ExecuteTime": {
     "end_time": "2021-11-23T07:17:03.115720Z",
     "start_time": "2021-11-23T07:17:01.147781Z"
    }
   },
   "outputs": [],
   "source": [
    "from sklearn.preprocessing import MinMaxScaler,StandardScaler # 归一化、标准化\n",
    "from sklearn.preprocessing import LabelEncoder,OneHotEncoder # 标签化、独热编码\n",
    "from sklearn.preprocessing import Normalizer # \n",
    "from sklearn.discriminant_analysis import LinearDiscriminantAnalysis # LDA 降维\n",
    "from sklearn.decomposition import PCA # PCA 降维"
   ]
  },
  {
   "cell_type": "code",
   "execution_count": null,
   "metadata": {},
   "outputs": [],
   "source": [
    "import os\n",
    "import pydotplus\n",
    "os.environ[\"PATH\"] += os.pathsep + \"C:\\\\Graphviz\\\\bin\" # 绘制决策树"
   ]
  },
  {
   "cell_type": "markdown",
   "metadata": {},
   "source": [
    "```py\n",
    "# 绘制决策树\n",
    "# 方法一\n",
    "dot_data = export_graphviz(clf, out_file=None, \n",
    "                           feature_names=f_names, # 特征名\n",
    "                           class_names=[\"NL\",\"L\"], # 标签名\n",
    "                           filled=True, rounded=True, special_characters=True) # 样式设置\n",
    "graph = pydotplus.graph_from_dot_data(dot_data) # 绘制决策树\n",
    "graph.write_pdf(\"dt_tree.pdf\") # 输出为 pdf\n",
    "\n",
    "# 方法二\n",
    "from sklearn.externals.six import StringIO\n",
    "dot_data = StringIO()\n",
    "export_graphviz(clf, out_file=None, \n",
    "                feature_names=f_names, # 特征名\n",
    "                class_names=[\"NL\",\"L\"], # 标签名\n",
    "                filled=True, rounded=True, special_characters=True) # 样式设置\n",
    "graph = pydotplus.graph_from_dot_data(dot_data.getvalue()) # 绘制决策树\n",
    "graph.write_pdf(\"dt_tree.pdf\") # 输出为 pdf\n",
    "```\n"
   ]
  },
  {
   "cell_type": "code",
   "execution_count": 142,
   "metadata": {
    "ExecuteTime": {
     "end_time": "2021-11-21T12:57:23.526813Z",
     "start_time": "2021-11-21T12:57:23.504827Z"
    }
   },
   "outputs": [],
   "source": [
    "## 建模分析\n",
    "def hr_modeling(features, label):\n",
    "    from sklearn.model_selection import train_test_split\n",
    "    f_v = features.values # 特征值\n",
    "    f_names = features.columns.values # 特征名\n",
    "    l_v = label.values # 标注\n",
    "    # 测试集：X_tt, Y_tt\n",
    "    # 验证集：X_validation, Y_validation\n",
    "    X_tt,X_validation,Y_tt,Y_validation = train_test_split(f_v, l_v, test_size=0.2)\n",
    "    X_train,X_test,Y_train,Y_test = train_test_split(X_tt, Y_tt, test_size=0.25)\n",
    "    print(len(X_train), len(X_validation), len(X_test))\n",
    "    \n",
    "    ## 模型构建\n",
    "    from sklearn.metrics import accuracy_score,recall_score,f1_score # 模型评价\n",
    "    from sklearn.neighbors import NearestNeighbors,KNeighborsClassifier # KNN\n",
    "    from sklearn.naive_bayes import GaussianNB,BernoulliNB # 高斯朴素贝叶斯、伯努利朴素贝叶斯\n",
    "    from sklearn.tree import DecisionTreeClassifier # 决策树\n",
    "    from sklearn.externals.six import StringIO\n",
    "    models = [] # 初始化存放模型的元组\n",
    "    \n",
    "#     models.append((\"KNN\", KNeighborsClassifier(n_neighbors=3))) # KNN\n",
    "#     models.append((\"GaussianNB\", GaussianNB())) # Gaussian Naive Bayes\n",
    "#     models.append((\"BernoulliNB\", BernoulliNB())) # BernoulliNB Naive Bayes\n",
    "    models.append((\"DecisionTreeGini\", DecisionTreeClassifier())) # 决策树：Gini 系数\n",
    "    models.append((\"DecisionTreeEntropy\", DecisionTreeClassifier(criterion=\"entropy\"))) # 决策树：信息熵\n",
    "    for clf_name,clf in models:\n",
    "        print(\"++++\", clf_name, \"++++\")\n",
    "        clf.fit(X_train, Y_train)\n",
    "        xy_lst = [(X_train,Y_train), (X_validation,Y_validation), (X_test,Y_test)]\n",
    "        set_name = [\"Train:\", \"Validation:\", \"Test:\"]\n",
    "        for i in range(len(xy_lst)):\n",
    "            X_part = xy_lst[i][0]\n",
    "            Y_part = xy_lst[i][1]\n",
    "            Y_pred = clf.predict(X_part)\n",
    "#             print(i)\n",
    "            print(set_name[i])\n",
    "            print(clf_name, \"- ACC:\", accuracy_score(Y_part, Y_pred))\n",
    "            print(clf_name, \"- REC:\", recall_score(Y_part, Y_pred))\n",
    "            print(clf_name, \"- F1:\", f1_score(Y_part, Y_pred))\n",
    "            # 绘制决策树\n",
    "            dot_data = export_graphviz(clf, out_file=None, \n",
    "                                       feature_names=f_names, # 特征名\n",
    "                                       class_names=[\"NL\",\"L\"], # 标签名\n",
    "                                       filled=True, rounded=True, special_characters=True) # 样式设置\n",
    "            graph = pydotplus.graph_from_dot_data(dot_data) # 绘制决策树\n",
    "            graph.write_pdf(\"dt_tree.pdf\") # 输出为 pdf\n",
    "    \n",
    "    ## 朴素贝叶斯\n",
    "    \n",
    "    \n",
    "    # 模型存取\n",
    "#     from sklearn.externals import joblib # 旧版本 joblib 包引用方法（0.20.3）\n",
    "#     import joblib # 0.20.3 之后版本的 joblib 引用方法\n",
    "#     joblib.dump(knn_clf, \"knn_clf\") # 保存模型\n",
    "#     knn_clf = joblib.load(\"knn_clf\") # 使用模型\n",
    "#     print(\"Test2:\")\n",
    "#     Y_pred = knn_clf.predict(X_test)\n",
    "#     print(\"ACC:\", accuracy_score(Y_test, Y_pred)) # 准确率\n",
    "#     print(\"REC:\", recall_score(Y_test, Y_pred)) # 召回率\n",
    "#     print(\"F-Score:\", f1_score(Y_test, Y_pred)) # 综合反应\n",
    "    \n"
   ]
  },
  {
   "cell_type": "code",
   "execution_count": 143,
   "metadata": {
    "ExecuteTime": {
     "end_time": "2021-11-21T12:57:24.478448Z",
     "start_time": "2021-11-21T12:57:24.277562Z"
    },
    "collapsed": true
   },
   "outputs": [
    {
     "name": "stdout",
     "output_type": "stream",
     "text": [
      "8999 3000 3000\n",
      "++++ DecisionTreeGini ++++\n",
      "Train:\n",
      "DecisionTreeGini - ACC: 1.0\n",
      "DecisionTreeGini - REC: 1.0\n",
      "DecisionTreeGini - F1: 1.0\n"
     ]
    },
    {
     "ename": "NameError",
     "evalue": "name 'export_graphviz' is not defined",
     "output_type": "error",
     "traceback": [
      "\u001b[1;31m---------------------------------------------------------------------------\u001b[0m",
      "\u001b[1;31mNameError\u001b[0m                                 Traceback (most recent call last)",
      "\u001b[1;32m<ipython-input-143-0c1660394e3d>\u001b[0m in \u001b[0;36m<module>\u001b[1;34m\u001b[0m\n\u001b[0;32m      6\u001b[0m \u001b[1;33m\u001b[0m\u001b[0m\n\u001b[0;32m      7\u001b[0m \u001b[1;32mif\u001b[0m \u001b[0m__name__\u001b[0m \u001b[1;33m==\u001b[0m \u001b[1;34m\"__main__\"\u001b[0m\u001b[1;33m:\u001b[0m\u001b[1;33m\u001b[0m\u001b[1;33m\u001b[0m\u001b[0m\n\u001b[1;32m----> 8\u001b[1;33m     \u001b[0mmain\u001b[0m\u001b[1;33m(\u001b[0m\u001b[1;33m)\u001b[0m\u001b[1;33m\u001b[0m\u001b[1;33m\u001b[0m\u001b[0m\n\u001b[0m\u001b[0;32m      9\u001b[0m \u001b[1;33m\u001b[0m\u001b[0m\n",
      "\u001b[1;32m<ipython-input-143-0c1660394e3d>\u001b[0m in \u001b[0;36mmain\u001b[1;34m()\u001b[0m\n\u001b[0;32m      3\u001b[0m \u001b[1;31m#     print(hr_preprocessing(sl=True, le=True, lower_d=False, ld_n=3))\u001b[0m\u001b[1;33m\u001b[0m\u001b[1;33m\u001b[0m\u001b[1;33m\u001b[0m\u001b[0m\n\u001b[0;32m      4\u001b[0m     \u001b[0mfeatures\u001b[0m\u001b[1;33m,\u001b[0m\u001b[0mlabel\u001b[0m \u001b[1;33m=\u001b[0m \u001b[0mhr_preprocessing\u001b[0m\u001b[1;33m(\u001b[0m\u001b[1;33m)\u001b[0m\u001b[1;33m\u001b[0m\u001b[1;33m\u001b[0m\u001b[0m\n\u001b[1;32m----> 5\u001b[1;33m     \u001b[0mhr_modeling\u001b[0m\u001b[1;33m(\u001b[0m\u001b[0mfeatures\u001b[0m\u001b[1;33m,\u001b[0m \u001b[0mlabel\u001b[0m\u001b[1;33m)\u001b[0m\u001b[1;33m\u001b[0m\u001b[1;33m\u001b[0m\u001b[0m\n\u001b[0m\u001b[0;32m      6\u001b[0m \u001b[1;33m\u001b[0m\u001b[0m\n\u001b[0;32m      7\u001b[0m \u001b[1;32mif\u001b[0m \u001b[0m__name__\u001b[0m \u001b[1;33m==\u001b[0m \u001b[1;34m\"__main__\"\u001b[0m\u001b[1;33m:\u001b[0m\u001b[1;33m\u001b[0m\u001b[1;33m\u001b[0m\u001b[0m\n",
      "\u001b[1;32m<ipython-input-142-037ad23abcc8>\u001b[0m in \u001b[0;36mhr_modeling\u001b[1;34m(features, label)\u001b[0m\n\u001b[0;32m     39\u001b[0m             \u001b[0mprint\u001b[0m\u001b[1;33m(\u001b[0m\u001b[0mclf_name\u001b[0m\u001b[1;33m,\u001b[0m \u001b[1;34m\"- F1:\"\u001b[0m\u001b[1;33m,\u001b[0m \u001b[0mf1_score\u001b[0m\u001b[1;33m(\u001b[0m\u001b[0mY_part\u001b[0m\u001b[1;33m,\u001b[0m \u001b[0mY_pred\u001b[0m\u001b[1;33m)\u001b[0m\u001b[1;33m)\u001b[0m\u001b[1;33m\u001b[0m\u001b[1;33m\u001b[0m\u001b[0m\n\u001b[0;32m     40\u001b[0m             \u001b[1;31m# 绘制决策树\u001b[0m\u001b[1;33m\u001b[0m\u001b[1;33m\u001b[0m\u001b[1;33m\u001b[0m\u001b[0m\n\u001b[1;32m---> 41\u001b[1;33m             dot_data = export_graphviz(clf, out_file=None, \n\u001b[0m\u001b[0;32m     42\u001b[0m                                        \u001b[0mfeature_names\u001b[0m\u001b[1;33m=\u001b[0m\u001b[0mf_names\u001b[0m\u001b[1;33m,\u001b[0m \u001b[1;31m# 特征名\u001b[0m\u001b[1;33m\u001b[0m\u001b[1;33m\u001b[0m\u001b[0m\n\u001b[0;32m     43\u001b[0m                                        \u001b[0mclass_names\u001b[0m\u001b[1;33m=\u001b[0m\u001b[1;33m[\u001b[0m\u001b[1;34m\"NL\"\u001b[0m\u001b[1;33m,\u001b[0m\u001b[1;34m\"L\"\u001b[0m\u001b[1;33m]\u001b[0m\u001b[1;33m,\u001b[0m \u001b[1;31m# 标签名\u001b[0m\u001b[1;33m\u001b[0m\u001b[1;33m\u001b[0m\u001b[0m\n",
      "\u001b[1;31mNameError\u001b[0m: name 'export_graphviz' is not defined"
     ]
    }
   ],
   "source": [
    "## \n",
    "def main():\n",
    "#     print(hr_preprocessing(sl=True, le=True, lower_d=False, ld_n=3))\n",
    "    features,label = hr_preprocessing()\n",
    "    hr_modeling(features, label)\n",
    "    \n",
    "if __name__ == \"__main__\":\n",
    "    main()\n",
    "    \n"
   ]
  },
  {
   "cell_type": "markdown",
   "metadata": {
    "ExecuteTime": {
     "end_time": "2021-11-21T11:23:01.118207Z",
     "start_time": "2021-11-21T11:23:01.044243Z"
    }
   },
   "source": [
    "#### 支持向量机（SVM, Support Vector Machine）\n",
    "- $\\omega^T = [\\omega_0,\\omega_1,\\omega_2,\\dots,\\omega_n],\\,\\,x^T = [x_0,x_1,x_2,\\dots,x_n]$\n",
    "- 高维面：$\\omega^T x+b = 0$\n",
    "- 分界面：\n",
    "$$\\omega^{T}x_{p}+b\\geq\\varepsilon,\\,\\,\\omega^{T}x_{n}+b\\leq -\\varepsilon$$\n",
    "$$\\omega^{T}x_{p}+b\\geq 1,\\,\\,\\omega^{T}x_{n}+b\\leq -1$$\n",
    "$$y_i (\\omega^{T}x_{i}+b)\\geq 1$$\n",
    "- SVM原理：\n",
    "$$d = |\\frac{Ax_0 +By_0 +Cz_0 +D}{\\sqrt{A^2 +B^2 +C^2}}|$$\n",
    "$$max \\frac{2}{||\\omega^{2}||}\\,\\,\\,\\,min \\frac{||\\omega^{2}||}{2}$$\n",
    "$$\\bf{s.t.}\\,\\,y_{i}(\\omega^{T}x_{i}+b) \\geq 1$$\n",
    "$$\\text{拉格朗日乘数法：} L = \\frac{1}{2}||\\omega||^2 - \\sum^{N}_{n=1}a_{n}*\\{y_{n}(\\omega^{T}x_{n}+b)-1\\}$$\n",
    "\n",
    "<img style=\"float: center;\" src=\".\\figures\\SVM.png\" width=\"50%\">\n",
    "<center>Fig. SVM</center>\n"
   ]
  },
  {
   "cell_type": "markdown",
   "metadata": {},
   "source": [
    "- 出现线性不可分的解决思路：\n",
    "    - 求 min(max(L))：减小 max(L) 的影响\n",
    "    \n",
    "    <img style=\"float: center;\" src=\".\\figures\\SVM1.png\" width=\"50%\">\n",
    "    <center>Fig. min(max(L))</center>\n",
    "    \n",
    "    - 扩维：低维 --> 高维\n",
    "$$2dim-5dim: (x_1,x_2)\\rightarrow (x_1,x_2,x_1 x_2,x_1^2,x_2^2)$$\n",
    "$$3dim-19dim: (x_1,x_2,x_3)\\rightarrow (x_1,x_2,x_3,x_1^2,x_1x_2,x_1x_3,x_2^2,x_2x_3,x_3^2,x_1^3,x_1^2x_2,x_1^2x_3,x_1x_2x_3,x_1x_2^2,x_1x_3^2,x_2^3,x_2^2x_3,x_2x_3^2,x_3^3)$$\n",
    "\n",
    "    <img style=\"float: center;\" src=\".\\figures\\SVM2.png\" width=\"50%\">\n",
    "    <center>Fig. 扩维</center>\n",
    "\n",
    "    <img style=\"float: center;\" src=\".\\figures\\SVM维数灾难.png\" width=\"50%\">\n",
    "    <center>Fig. SVM中扩维导致维数灾难</center>\n",
    "    \n"
   ]
  },
  {
   "cell_type": "markdown",
   "metadata": {},
   "source": [
    "- 核函数：解决维数灾难\n",
    "    - 先映射，再计算 --> 导致维度灾难\n",
    "    - 先计算（低维空间），再扩维（核函数）\n",
    "    - 种类：\n",
    "        - 线性核函数：线性可分时使用\n",
    "        $$k(x,x_i) = x\\cdot x_i$$\n",
    "        - 多项式核函数：\n",
    "        $$k(x,x_i) = ((x\\cdot x_i)+1)^d$$\n",
    "        - 高斯径向基（RBF）核函数：可映射为无限维，可能会过拟合\n",
    "        $$k(x,x_i) = exp(-\\frac{||x-x_i||^2}{\\sigma^2})$$\n",
    "<img style=\"float: center;\" src=\".\\figures\\解决维度灾难.png\" width=50%>\n",
    "<center>Fig. 如何解决维数灾难</center>\n"
   ]
  },
  {
   "cell_type": "markdown",
   "metadata": {},
   "source": [
    "- SVM vs. 决策树：\n",
    "\n",
    "<img style=\"float: center;\" src=\".\\figures\\决策树vsSVM.png\" width=50%>\n",
    "<center>Fig. 决策树 vs. SVM</center>\n"
   ]
  },
  {
   "cell_type": "markdown",
   "metadata": {},
   "source": [
    "- Tips:\n",
    "\n",
    "<img style=\"float: center;\" src=\".\\figures\\样本异常.png\" width=50%>\n",
    "<center>Fig. 样本异常</center>\n",
    "\n",
    "<img style=\"float: center;\" src=\".\\figures\\多分类.png\" width=40%>\n",
    "<center>Fig. 多分类</center>\n"
   ]
  },
  {
   "cell_type": "code",
   "execution_count": 152,
   "metadata": {
    "ExecuteTime": {
     "end_time": "2021-11-21T15:23:31.350602Z",
     "start_time": "2021-11-21T15:23:31.326619Z"
    }
   },
   "outputs": [],
   "source": [
    "## 建模分析\n",
    "def hr_modeling(features, label):\n",
    "    from sklearn.model_selection import train_test_split\n",
    "    f_v = features.values # 特征值\n",
    "    f_names = features.columns.values # 特征名\n",
    "    l_v = label.values # 标注\n",
    "    # 测试集：X_tt, Y_tt\n",
    "    # 验证集：X_validation, Y_validation\n",
    "    X_tt,X_validation,Y_tt,Y_validation = train_test_split(f_v, l_v, test_size=0.2)\n",
    "    X_train,X_test,Y_train,Y_test = train_test_split(X_tt, Y_tt, test_size=0.25)\n",
    "    print(len(X_train), len(X_validation), len(X_test))\n",
    "    \n",
    "    ## 模型构建\n",
    "    from sklearn.metrics import accuracy_score,recall_score,f1_score # 模型评价\n",
    "    from sklearn.neighbors import NearestNeighbors,KNeighborsClassifier # KNN\n",
    "    from sklearn.naive_bayes import GaussianNB,BernoulliNB # 高斯朴素贝叶斯、伯努利朴素贝叶斯\n",
    "    from sklearn.tree import DecisionTreeClassifier # 决策树\n",
    "    from sklearn.svm import SVC # 支持向量机\n",
    "    models = [] # 初始化存放模型的元组\n",
    "    \n",
    "#     models.append((\"KNN\", KNeighborsClassifier(n_neighbors=3))) # KNN\n",
    "#     models.append((\"GaussianNB\", GaussianNB())) # Gaussian Naive Bayes\n",
    "#     models.append((\"BernoulliNB\", BernoulliNB())) # BernoulliNB Naive Bayes\n",
    "    models.append((\"DecisionTreeGini\", DecisionTreeClassifier())) # 决策树：Gini 系数\n",
    "    models.append((\"DecisionTreeEntropy\", DecisionTreeClassifier(criterion=\"entropy\"))) # 决策树：信息熵\n",
    "    models.append((\"SVM Classifier\", SVC(C=100000))) # 支持向量机：C 值越大模型越准确，计算时间越长\n",
    "    for clf_name,clf in models:\n",
    "        print(\"++++\", clf_name, \"++++\")\n",
    "        clf.fit(X_train, Y_train)\n",
    "        xy_lst = [(X_train,Y_train), (X_validation,Y_validation), (X_test,Y_test)]\n",
    "        set_name = [\"Train:\", \"Validation:\", \"Test:\"]\n",
    "        for i in range(len(xy_lst)):\n",
    "            X_part = xy_lst[i][0]\n",
    "            Y_part = xy_lst[i][1]\n",
    "            Y_pred = clf.predict(X_part)\n",
    "#             print(i)\n",
    "            print(set_name[i])\n",
    "            print(clf_name, \"- ACC:\", accuracy_score(Y_part, Y_pred))\n",
    "            print(clf_name, \"- REC:\", recall_score(Y_part, Y_pred))\n",
    "            print(clf_name, \"- F1:\", f1_score(Y_part, Y_pred))\n"
   ]
  },
  {
   "cell_type": "code",
   "execution_count": 153,
   "metadata": {
    "ExecuteTime": {
     "end_time": "2021-11-21T15:25:37.329656Z",
     "start_time": "2021-11-21T15:23:32.061195Z"
    }
   },
   "outputs": [
    {
     "name": "stdout",
     "output_type": "stream",
     "text": [
      "8999 3000 3000\n",
      "++++ DecisionTreeGini ++++\n",
      "Train:\n",
      "DecisionTreeGini - ACC: 1.0\n",
      "DecisionTreeGini - REC: 1.0\n",
      "DecisionTreeGini - F1: 1.0\n",
      "Validation:\n",
      "DecisionTreeGini - ACC: 0.9706666666666667\n",
      "DecisionTreeGini - REC: 0.9566395663956639\n",
      "DecisionTreeGini - F1: 0.9413333333333332\n",
      "Test:\n",
      "DecisionTreeGini - ACC: 0.98\n",
      "DecisionTreeGini - REC: 0.9696531791907514\n",
      "DecisionTreeGini - F1: 0.9572039942938658\n",
      "++++ DecisionTreeEntropy ++++\n",
      "Train:\n",
      "DecisionTreeEntropy - ACC: 1.0\n",
      "DecisionTreeEntropy - REC: 1.0\n",
      "DecisionTreeEntropy - F1: 1.0\n",
      "Validation:\n",
      "DecisionTreeEntropy - ACC: 0.9723333333333334\n",
      "DecisionTreeEntropy - REC: 0.9552845528455285\n",
      "DecisionTreeEntropy - F1: 0.9444072337575352\n",
      "Test:\n",
      "DecisionTreeEntropy - ACC: 0.9796666666666667\n",
      "DecisionTreeEntropy - REC: 0.9696531791907514\n",
      "DecisionTreeEntropy - F1: 0.9565217391304348\n",
      "++++ SVM Classifier ++++\n",
      "Train:\n",
      "SVM Classifier - ACC: 0.9975552839204356\n",
      "SVM Classifier - REC: 0.9939280709948622\n",
      "SVM Classifier - F1: 0.9948574100046751\n",
      "Validation:\n",
      "SVM Classifier - ACC: 0.962\n",
      "SVM Classifier - REC: 0.9498644986449865\n",
      "SVM Classifier - F1: 0.924802110817942\n",
      "Test:\n",
      "SVM Classifier - ACC: 0.9656666666666667\n",
      "SVM Classifier - REC: 0.9566473988439307\n",
      "SVM Classifier - F1: 0.9278206026629292\n"
     ]
    }
   ],
   "source": [
    "## \n",
    "def main():\n",
    "#     print(hr_preprocessing(sl=True, le=True, lower_d=False, ld_n=3))\n",
    "    features,label = hr_preprocessing()\n",
    "    hr_modeling(features, label)\n",
    "    \n",
    "if __name__ == \"__main__\":\n",
    "    main()\n",
    "    \n"
   ]
  },
  {
   "cell_type": "markdown",
   "metadata": {},
   "source": [
    "#### 集成：随机森林\n",
    "> 组合多个模型，以获得更好的效果  \n",
    "> $O(n^p), O(n!), O(m^n)$  \n",
    "> 强可学习：多项式学习算法的效果较为明显  \n",
    "> 弱可学习：多项式学习算法的效果不很明显  \n",
    "\n",
    "- 袋装法（bagging）：\n",
    "<img style=\"float: center;\" src=\".\\figures\\袋装法.png\" width=50%>\n",
    "<center>Fig. 袋装法</center>\n",
    "\n",
    "- 随机森林：\n",
    "<img style=\"float: center;\" src=\".\\figures\\随机森林.png\" width=50%>\n",
    "<center>Fig. 随机森林</center>\n"
   ]
  },
  {
   "cell_type": "code",
   "execution_count": 1,
   "metadata": {
    "ExecuteTime": {
     "end_time": "2021-11-22T12:01:05.807201Z",
     "start_time": "2021-11-22T12:00:59.128483Z"
    }
   },
   "outputs": [],
   "source": [
    "## 导包\n",
    "import numpy as np # 数值计算\n",
    "import pandas as pd # 数据分析\n",
    "from sklearn.preprocessing import MinMaxScaler,StandardScaler # 归一化、标准化\n",
    "from sklearn.preprocessing import LabelEncoder,OneHotEncoder # 标签化、独热编码\n",
    "from sklearn.preprocessing import Normalizer # \n",
    "from sklearn.discriminant_analysis import LinearDiscriminantAnalysis # LDA 降维\n",
    "from sklearn.decomposition import PCA # PCA 降维\n"
   ]
  },
  {
   "cell_type": "code",
   "execution_count": 20,
   "metadata": {
    "ExecuteTime": {
     "end_time": "2021-11-22T12:23:56.176106Z",
     "start_time": "2021-11-22T12:23:56.146126Z"
    }
   },
   "outputs": [],
   "source": [
    "## 建模分析\n",
    "def hr_modeling(features, label):\n",
    "    from sklearn.model_selection import train_test_split\n",
    "    f_v = features.values # 特征值\n",
    "    f_names = features.columns.values # 特征名\n",
    "    l_v = label.values # 标注\n",
    "    # 测试集：X_tt, Y_tt\n",
    "    # 验证集：X_validation, Y_validation\n",
    "    X_tt,X_validation,Y_tt,Y_validation = train_test_split(f_v, l_v, test_size=0.2)\n",
    "    X_train,X_test,Y_train,Y_test = train_test_split(X_tt, Y_tt, test_size=0.25)\n",
    "    print(len(X_train), len(X_validation), len(X_test))\n",
    "    \n",
    "    ## 模型构建\n",
    "    from sklearn.metrics import accuracy_score,recall_score,f1_score # 模型评价\n",
    "    from sklearn.neighbors import NearestNeighbors,KNeighborsClassifier # KNN\n",
    "    from sklearn.naive_bayes import GaussianNB,BernoulliNB # 高斯朴素贝叶斯、伯努利朴素贝叶斯\n",
    "    from sklearn.tree import DecisionTreeClassifier # 决策树\n",
    "    from sklearn.svm import SVC # 支持向量机\n",
    "    from sklearn.ensemble import RandomForestClassifier # 随机森林\n",
    "    models = [] # 初始化存放模型的元组\n",
    "    \n",
    "#     models.append((\"KNN\", KNeighborsClassifier(n_neighbors=3))) # KNN\n",
    "#     models.append((\"GaussianNB\", GaussianNB())) # Gaussian Naive Bayes\n",
    "#     models.append((\"BernoulliNB\", BernoulliNB())) # BernoulliNB Naive Bayes\n",
    "    models.append((\"DecisionTreeGini\", DecisionTreeClassifier())) # 决策树：Gini 系数\n",
    "#     models.append((\"DecisionTreeEntropy\", DecisionTreeClassifier(criterion=\"entropy\"))) # 决策树：信息熵\n",
    "#     models.append((\"SVM Classifier\", SVC(C=1000))) # 支持向量机：C 值越大模型越准确，计算时间越长\n",
    "    models.append((\"OriginalRandomForest\", RandomForestClassifier())) # 随机森林\n",
    "    models.append((\"RandomForest\", RandomForestClassifier(n_estimators=11, max_features=None))) # 随机森林\n",
    "    for clf_name,clf in models:\n",
    "        print(\"++++\", clf_name, \"++++\")\n",
    "        clf.fit(X_train, Y_train)\n",
    "        xy_lst = [(X_train,Y_train), (X_validation,Y_validation), (X_test,Y_test)]\n",
    "        set_name = [\"Train:\", \"Validation:\", \"Test:\"]\n",
    "        for i in range(len(xy_lst)):\n",
    "            X_part = xy_lst[i][0]\n",
    "            Y_part = xy_lst[i][1]\n",
    "            Y_pred = clf.predict(X_part)\n",
    "#             print(i)\n",
    "            print(set_name[i])\n",
    "            print(clf_name, \"- ACC:\", accuracy_score(Y_part, Y_pred))\n",
    "            print(clf_name, \"- REC:\", recall_score(Y_part, Y_pred))\n",
    "            print(clf_name, \"- F1:\", f1_score(Y_part, Y_pred))\n"
   ]
  },
  {
   "cell_type": "code",
   "execution_count": 21,
   "metadata": {
    "ExecuteTime": {
     "end_time": "2021-11-22T12:23:59.181543Z",
     "start_time": "2021-11-22T12:23:57.020784Z"
    }
   },
   "outputs": [
    {
     "name": "stdout",
     "output_type": "stream",
     "text": [
      "8999 3000 3000\n",
      "++++ DecisionTreeGini ++++\n",
      "Train:\n",
      "DecisionTreeGini - ACC: 1.0\n",
      "DecisionTreeGini - REC: 1.0\n",
      "DecisionTreeGini - F1: 1.0\n",
      "Validation:\n",
      "DecisionTreeGini - ACC: 0.9756666666666667\n",
      "DecisionTreeGini - REC: 0.9642857142857143\n",
      "DecisionTreeGini - F1: 0.950575490859851\n",
      "Test:\n",
      "DecisionTreeGini - ACC: 0.9733333333333334\n",
      "DecisionTreeGini - REC: 0.9631147540983607\n",
      "DecisionTreeGini - F1: 0.9463087248322147\n",
      "++++ OriginalRandomForest ++++\n",
      "Train:\n",
      "OriginalRandomForest - ACC: 1.0\n",
      "OriginalRandomForest - REC: 1.0\n",
      "OriginalRandomForest - F1: 1.0\n",
      "Validation:\n",
      "OriginalRandomForest - ACC: 0.99\n",
      "OriginalRandomForest - REC: 0.9615384615384616\n",
      "OriginalRandomForest - F1: 0.979020979020979\n",
      "Test:\n",
      "OriginalRandomForest - ACC: 0.9886666666666667\n",
      "OriginalRandomForest - REC: 0.9644808743169399\n",
      "OriginalRandomForest - F1: 0.9764868603042878\n",
      "++++ RandomForest ++++\n",
      "Train:\n",
      "RandomForest - ACC: 0.9992221357928659\n",
      "RandomForest - REC: 0.9966840360018948\n",
      "RandomForest - F1: 0.9983392645314353\n",
      "Validation:\n",
      "RandomForest - ACC: 0.9866666666666667\n",
      "RandomForest - REC: 0.9629120879120879\n",
      "RandomForest - F1: 0.9722607489597781\n",
      "Test:\n",
      "RandomForest - ACC: 0.9833333333333333\n",
      "RandomForest - REC: 0.9576502732240437\n",
      "RandomForest - F1: 0.965564738292011\n"
     ]
    }
   ],
   "source": [
    "## \n",
    "def main():\n",
    "#     print(hr_preprocessing(sl=True, le=True, lower_d=False, ld_n=3))\n",
    "    features,label = hr_preprocessing()\n",
    "    hr_modeling(features, label)\n",
    "    \n",
    "if __name__ == \"__main__\":\n",
    "    main()\n",
    "    \n"
   ]
  },
  {
   "cell_type": "markdown",
   "metadata": {},
   "source": [
    "#### 集成：Adaboost\n",
    "- 提升法（boost）：\n",
    "<img style=\"float: center;\" src=\".\\figures\\提升法.png\" width=50%>\n",
    "<center>Fig. 提升法</center>\n",
    "\n",
    "<img style=\"float: center;\" src=\".\\figures\\adaboost.png\" width=100%>\n",
    "<center>Fig. Adaboost</center>\n",
    "\n",
    "<img style=\"float: center;\" src=\".\\figures\\adaboost1.png\" width=80%>\n",
    "<center>Fig. Adaboost</center>\n",
    "\n",
    "- 优点：\n",
    "    - 精度高，灵活可调\n",
    "    - 几乎不用担心过拟合\n",
    "    - 简化特征工程流程\n"
   ]
  },
  {
   "cell_type": "code",
   "execution_count": 44,
   "metadata": {
    "ExecuteTime": {
     "end_time": "2021-11-22T13:00:17.660689Z",
     "start_time": "2021-11-22T13:00:17.640700Z"
    }
   },
   "outputs": [],
   "source": [
    "## 建模分析\n",
    "def hr_modeling(features, label):\n",
    "    from sklearn.model_selection import train_test_split\n",
    "    f_v = features.values # 特征值\n",
    "    f_names = features.columns.values # 特征名\n",
    "    l_v = label.values # 标注\n",
    "    # 测试集：X_tt, Y_tt\n",
    "    # 验证集：X_validation, Y_validation\n",
    "    X_tt,X_validation,Y_tt,Y_validation = train_test_split(f_v, l_v, test_size=0.2)\n",
    "    X_train,X_test,Y_train,Y_test = train_test_split(X_tt, Y_tt, test_size=0.25)\n",
    "    print(len(X_train), len(X_validation), len(X_test))\n",
    "    \n",
    "    ## 模型构建\n",
    "    from sklearn.metrics import accuracy_score,recall_score,f1_score # 模型评价\n",
    "    from sklearn.neighbors import NearestNeighbors,KNeighborsClassifier # KNN\n",
    "    from sklearn.naive_bayes import GaussianNB,BernoulliNB # 高斯朴素贝叶斯、伯努利朴素贝叶斯\n",
    "    from sklearn.tree import DecisionTreeClassifier # 决策树\n",
    "    from sklearn.svm import SVC # 支持向量机\n",
    "    from sklearn.ensemble import RandomForestClassifier # 随机森林\n",
    "    from sklearn.ensemble import AdaBoostClassifier # AdaBoost\n",
    "    models = [] # 初始化存放模型的元组\n",
    "    \n",
    "#     models.append((\"KNN\", KNeighborsClassifier(n_neighbors=3))) # KNN\n",
    "#     models.append((\"GaussianNB\", GaussianNB())) # Gaussian Naive Bayes\n",
    "#     models.append((\"BernoulliNB\", BernoulliNB())) # BernoulliNB Naive Bayes\n",
    "    models.append((\"DecisionTreeGini\", DecisionTreeClassifier())) # 决策树：Gini 系数\n",
    "#     models.append((\"DecisionTreeEntropy\", DecisionTreeClassifier(criterion=\"entropy\"))) # 决策树：信息熵\n",
    "#     models.append((\"SVM Classifier\", SVC(C=1000))) # 支持向量机：C 值越大模型越准确，计算时间越长\n",
    "#     models.append((\"OriginalRandomForest\", RandomForestClassifier())) # 随机森林\n",
    "    models.append((\"RandomForest\", RandomForestClassifier(n_estimators=11, max_features=None))) # 随机森林\n",
    "    models.append((\"AdaBoost\", AdaBoostClassifier())) # AdaBoost\n",
    "    for clf_name,clf in models:\n",
    "        print(\"++++\", clf_name, \"++++\")\n",
    "        clf.fit(X_train, Y_train)\n",
    "        xy_lst = [(X_train,Y_train), (X_validation,Y_validation), (X_test,Y_test)]\n",
    "        set_name = [\"Train:\", \"Validation:\", \"Test:\"]\n",
    "        for i in range(len(xy_lst)):\n",
    "            X_part = xy_lst[i][0]\n",
    "            Y_part = xy_lst[i][1]\n",
    "            Y_pred = clf.predict(X_part)\n",
    "#             print(i)\n",
    "            print(i, set_name[i])\n",
    "            print(clf_name, \"- ACC:\", accuracy_score(Y_part, Y_pred))\n",
    "            print(clf_name, \"- REC:\", recall_score(Y_part, Y_pred))\n",
    "            print(clf_name, \"- F1:\", f1_score(Y_part, Y_pred))\n",
    "\n"
   ]
  },
  {
   "cell_type": "code",
   "execution_count": 45,
   "metadata": {
    "ExecuteTime": {
     "end_time": "2021-11-22T13:00:19.758363Z",
     "start_time": "2021-11-22T13:00:18.417134Z"
    }
   },
   "outputs": [
    {
     "name": "stdout",
     "output_type": "stream",
     "text": [
      "8999 3000 3000\n",
      "++++ DecisionTreeGini ++++\n",
      "0 Train:\n",
      "DecisionTreeGini - ACC: 1.0\n",
      "DecisionTreeGini - REC: 1.0\n",
      "DecisionTreeGini - F1: 1.0\n",
      "1 Validation:\n",
      "DecisionTreeGini - ACC: 0.975\n",
      "DecisionTreeGini - REC: 0.9561527581329562\n",
      "DecisionTreeGini - F1: 0.9474421864050456\n",
      "2 Test:\n",
      "DecisionTreeGini - ACC: 0.974\n",
      "DecisionTreeGini - REC: 0.9589603283173734\n",
      "DecisionTreeGini - F1: 0.9472972972972974\n",
      "++++ RandomForest ++++\n",
      "0 Train:\n",
      "RandomForest - ACC: 0.9985553950438938\n",
      "RandomForest - REC: 0.9948429442100328\n",
      "RandomForest - F1: 0.9969462062485319\n",
      "1 Validation:\n",
      "RandomForest - ACC: 0.983\n",
      "RandomForest - REC: 0.9519094766619519\n",
      "RandomForest - F1: 0.9634931997136721\n",
      "2 Test:\n",
      "RandomForest - ACC: 0.985\n",
      "RandomForest - REC: 0.957592339261286\n",
      "RandomForest - F1: 0.9688581314878894\n",
      "++++ AdaBoost ++++\n",
      "0 Train:\n",
      "AdaBoost - ACC: 0.9607734192688077\n",
      "AdaBoost - REC: 0.9118612283169245\n",
      "AdaBoost - F1: 0.9168041480084846\n",
      "1 Validation:\n",
      "AdaBoost - ACC: 0.9596666666666667\n",
      "AdaBoost - REC: 0.9094766619519095\n",
      "AdaBoost - F1: 0.914001421464108\n",
      "2 Test:\n",
      "AdaBoost - ACC: 0.9576666666666667\n",
      "AdaBoost - REC: 0.9069767441860465\n",
      "AdaBoost - F1: 0.9125946317962834\n"
     ]
    }
   ],
   "source": [
    "## \n",
    "def main():\n",
    "#     print(hr_preprocessing(sl=True, le=True, lower_d=False, ld_n=3))\n",
    "    features,label = hr_preprocessing()\n",
    "    hr_modeling(features, label)\n",
    "    \n",
    "if __name__ == \"__main__\":\n",
    "    main()\n",
    "    \n"
   ]
  },
  {
   "cell_type": "code",
   "execution_count": 32,
   "metadata": {
    "ExecuteTime": {
     "end_time": "2021-11-22T12:44:55.689601Z",
     "start_time": "2021-11-22T12:44:55.663615Z"
    },
    "collapsed": true
   },
   "outputs": [
    {
     "ename": "TypeError",
     "evalue": "'module' object is not callable",
     "output_type": "error",
     "traceback": [
      "\u001b[1;31m---------------------------------------------------------------------------\u001b[0m",
      "\u001b[1;31mTypeError\u001b[0m                                 Traceback (most recent call last)",
      "\u001b[1;32m~\\OneDrive\\share\\24 - Kaggle\\code\\main.py\u001b[0m in \u001b[0;36m<module>\u001b[1;34m\u001b[0m\n\u001b[0;32m     13\u001b[0m \u001b[1;33m\u001b[0m\u001b[0m\n\u001b[0;32m     14\u001b[0m \u001b[1;32mif\u001b[0m \u001b[0m__name__\u001b[0m \u001b[1;33m==\u001b[0m \u001b[1;34m\"__main__\"\u001b[0m\u001b[1;33m:\u001b[0m\u001b[1;33m\u001b[0m\u001b[1;33m\u001b[0m\u001b[0m\n\u001b[1;32m---> 15\u001b[1;33m     \u001b[0mmain\u001b[0m\u001b[1;33m(\u001b[0m\u001b[1;33m)\u001b[0m\u001b[1;33m\u001b[0m\u001b[1;33m\u001b[0m\u001b[0m\n\u001b[0m\u001b[0;32m     16\u001b[0m \u001b[1;33m\u001b[0m\u001b[0m\n",
      "\u001b[1;32m~\\OneDrive\\share\\24 - Kaggle\\code\\main.py\u001b[0m in \u001b[0;36mmain\u001b[1;34m()\u001b[0m\n\u001b[0;32m      9\u001b[0m \u001b[1;32mdef\u001b[0m \u001b[0mmain\u001b[0m\u001b[1;33m(\u001b[0m\u001b[1;33m)\u001b[0m\u001b[1;33m:\u001b[0m\u001b[1;33m\u001b[0m\u001b[1;33m\u001b[0m\u001b[0m\n\u001b[0;32m     10\u001b[0m \u001b[1;31m#     print(hr_preprocessing(sl=True, le=True, lower_d=False, ld_n=3))\u001b[0m\u001b[1;33m\u001b[0m\u001b[1;33m\u001b[0m\u001b[1;33m\u001b[0m\u001b[0m\n\u001b[1;32m---> 11\u001b[1;33m     \u001b[0mfeatures\u001b[0m\u001b[1;33m,\u001b[0m\u001b[0mlabel\u001b[0m \u001b[1;33m=\u001b[0m \u001b[0mhr_preprocessing\u001b[0m\u001b[1;33m(\u001b[0m\u001b[1;33m)\u001b[0m\u001b[1;33m\u001b[0m\u001b[1;33m\u001b[0m\u001b[0m\n\u001b[0m\u001b[0;32m     12\u001b[0m     \u001b[0mhr_modeling\u001b[0m\u001b[1;33m(\u001b[0m\u001b[0mfeatures\u001b[0m\u001b[1;33m,\u001b[0m \u001b[0mlabel\u001b[0m\u001b[1;33m)\u001b[0m\u001b[1;33m\u001b[0m\u001b[1;33m\u001b[0m\u001b[0m\n\u001b[0;32m     13\u001b[0m \u001b[1;33m\u001b[0m\u001b[0m\n",
      "\u001b[1;31mTypeError\u001b[0m: 'module' object is not callable"
     ]
    }
   ],
   "source": [
    "%run \".\\\\code\\\\main.py\""
   ]
  },
  {
   "cell_type": "markdown",
   "metadata": {},
   "source": [
    "### 回归（regression analysis）\n",
    "> 回归是确定多个变量间相互依赖的定量关系的一种统计分析方法  \n",
    "> 方法：线性回归、决策树、支持向量机、集成方法、Logistic 映射、人工神经网络  \n",
    "\n",
    "#### 线性回归\n",
    "- 线性回归的最优化解法：\n",
    "<img style=\"float: center;\" src=\".\\figures\\最小二乘法.png\" width=60%>\n",
    "<center>Fig. 最小二乘法</center>\n",
    "\n",
    "<img style=\"float: center;\" src=\".\\figures\\最小二乘法2.png\" width=60%>\n",
    "<center>Fig. 最小二乘法</center>\n",
    "\n"
   ]
  },
  {
   "cell_type": "markdown",
   "metadata": {},
   "source": [
    "- 梯度下降法\n",
    "    - 梯度：设函数 $f(x,y)$ 在平面区域 $D$ 内具有一阶连续偏导数，则对每一点 $P(x_0,y_0)$ 都可以定出一个向量：\n",
    "    $$f_x(x_0,y_0)\\vec{i}+f_y(x_0,y_0)\\vec{j}$$\n",
    "    称为 $f(x,y)$ 在 $P$ 点处的梯度，记为 $\\nabla f(x_0,y_0)$\n",
    "    $$min(J(\\vec{\\omega})) = \\frac{1}{2m}\\sum^m_{i=1}(H(\\vec{X}_i)-y_i)^2$$\n",
    "    $$\\omega_j := \\omega_j - \\alpha\\frac{\\partial J(\\vec{\\omega})}{\\partial\\omega_j}$$\n",
    "    $$f(\\lambda x_1 +(1-\\lambda)x_2) \\leq \\lambda f(x_1) +(1-\\lambda)f(x_2)$$\n",
    "\n",
    "> 凸函数的极小值=最小值，对凸函数进行优化的过程称为凸优化  \n"
   ]
  },
  {
   "cell_type": "markdown",
   "metadata": {},
   "source": [
    "### 正则化\n",
    "> 舍入误差、系统误差、多极值点会导致特征权值和我们需要的出现偏差，导致越策结果非常差  \n",
    "\n",
    "#### 岭回归\n",
    "$$min(\\sum^m_{i=1}(H(\\vec{X}_i)-y_i)^2+\\alpha ||\\vec{\\omega}||^2_2)$$\n",
    "\n",
    "#### Lasso 回归\n",
    "$$min(\\frac{1}{2m}\\sum^m_{i=1}(H(\\vec{X}_i)-y_i)^2+\\alpha ||\\vec{\\omega}||_1)$$\n",
    "\n",
    "<img style=\"float: center;\" src=\".\\figures\\正则化.png\" width=40%>\n",
    "<center>Fig. 正则化</center>\n"
   ]
  },
  {
   "cell_type": "code",
   "execution_count": 12,
   "metadata": {
    "ExecuteTime": {
     "end_time": "2021-11-23T08:12:21.412150Z",
     "start_time": "2021-11-23T08:12:21.370150Z"
    },
    "scrolled": true
   },
   "outputs": [
    {
     "data": {
      "text/html": [
       "<div>\n",
       "<style scoped>\n",
       "    .dataframe tbody tr th:only-of-type {\n",
       "        vertical-align: middle;\n",
       "    }\n",
       "\n",
       "    .dataframe tbody tr th {\n",
       "        vertical-align: top;\n",
       "    }\n",
       "\n",
       "    .dataframe thead th {\n",
       "        text-align: right;\n",
       "    }\n",
       "</style>\n",
       "<table border=\"1\" class=\"dataframe\">\n",
       "  <thead>\n",
       "    <tr style=\"text-align: right;\">\n",
       "      <th></th>\n",
       "      <th>satisfaction_level</th>\n",
       "      <th>last_evaluation</th>\n",
       "      <th>number_project</th>\n",
       "      <th>average_monthly_hours</th>\n",
       "      <th>time_spend_company</th>\n",
       "      <th>Work_accident</th>\n",
       "      <th>left</th>\n",
       "      <th>promotion_last_5years</th>\n",
       "      <th>Department</th>\n",
       "      <th>salary</th>\n",
       "    </tr>\n",
       "  </thead>\n",
       "  <tbody>\n",
       "    <tr>\n",
       "      <th>0</th>\n",
       "      <td>0.38</td>\n",
       "      <td>0.53</td>\n",
       "      <td>2</td>\n",
       "      <td>157</td>\n",
       "      <td>3</td>\n",
       "      <td>0</td>\n",
       "      <td>1</td>\n",
       "      <td>0</td>\n",
       "      <td>sales</td>\n",
       "      <td>low</td>\n",
       "    </tr>\n",
       "    <tr>\n",
       "      <th>1</th>\n",
       "      <td>0.80</td>\n",
       "      <td>0.86</td>\n",
       "      <td>5</td>\n",
       "      <td>262</td>\n",
       "      <td>6</td>\n",
       "      <td>0</td>\n",
       "      <td>1</td>\n",
       "      <td>0</td>\n",
       "      <td>sales</td>\n",
       "      <td>medium</td>\n",
       "    </tr>\n",
       "    <tr>\n",
       "      <th>2</th>\n",
       "      <td>0.11</td>\n",
       "      <td>0.88</td>\n",
       "      <td>7</td>\n",
       "      <td>272</td>\n",
       "      <td>4</td>\n",
       "      <td>0</td>\n",
       "      <td>1</td>\n",
       "      <td>0</td>\n",
       "      <td>sales</td>\n",
       "      <td>medium</td>\n",
       "    </tr>\n",
       "    <tr>\n",
       "      <th>3</th>\n",
       "      <td>0.72</td>\n",
       "      <td>0.87</td>\n",
       "      <td>5</td>\n",
       "      <td>223</td>\n",
       "      <td>5</td>\n",
       "      <td>0</td>\n",
       "      <td>1</td>\n",
       "      <td>0</td>\n",
       "      <td>sales</td>\n",
       "      <td>low</td>\n",
       "    </tr>\n",
       "    <tr>\n",
       "      <th>4</th>\n",
       "      <td>0.37</td>\n",
       "      <td>0.52</td>\n",
       "      <td>2</td>\n",
       "      <td>159</td>\n",
       "      <td>3</td>\n",
       "      <td>0</td>\n",
       "      <td>1</td>\n",
       "      <td>0</td>\n",
       "      <td>sales</td>\n",
       "      <td>low</td>\n",
       "    </tr>\n",
       "  </tbody>\n",
       "</table>\n",
       "</div>"
      ],
      "text/plain": [
       "   satisfaction_level  last_evaluation  number_project  average_monthly_hours  \\\n",
       "0                0.38             0.53               2                    157   \n",
       "1                0.80             0.86               5                    262   \n",
       "2                0.11             0.88               7                    272   \n",
       "3                0.72             0.87               5                    223   \n",
       "4                0.37             0.52               2                    159   \n",
       "\n",
       "   time_spend_company  Work_accident  left  promotion_last_5years Department  \\\n",
       "0                   3              0     1                      0      sales   \n",
       "1                   6              0     1                      0      sales   \n",
       "2                   4              0     1                      0      sales   \n",
       "3                   5              0     1                      0      sales   \n",
       "4                   3              0     1                      0      sales   \n",
       "\n",
       "   salary  \n",
       "0     low  \n",
       "1  medium  \n",
       "2  medium  \n",
       "3     low  \n",
       "4     low  "
      ]
     },
     "execution_count": 12,
     "metadata": {},
     "output_type": "execute_result"
    }
   ],
   "source": [
    "df.head()"
   ]
  },
  {
   "cell_type": "code",
   "execution_count": 21,
   "metadata": {
    "ExecuteTime": {
     "end_time": "2021-11-23T08:23:42.353786Z",
     "start_time": "2021-11-23T08:23:42.318805Z"
    }
   },
   "outputs": [],
   "source": [
    "# %load \".\\\\code\\\\load_hr_modeling.py\"\n",
    "## 建模分析\n",
    "def hr_modeling(features, label):\n",
    "    from sklearn.model_selection import train_test_split\n",
    "    f_v = features.values # 特征值\n",
    "    f_names = features.columns.values # 特征名\n",
    "    l_v = label.values # 标注\n",
    "    # 测试集：X_tt, Y_tt\n",
    "    # 验证集：X_validation, Y_validation\n",
    "    X_tt,X_validation,Y_tt,Y_validation = train_test_split(f_v, l_v, test_size=0.2)\n",
    "    X_train,X_test,Y_train,Y_test = train_test_split(X_tt, Y_tt, test_size=0.25)\n",
    "    print(len(X_train), len(X_validation), len(X_test))\n",
    "    \n",
    "    ## 模型构建\n",
    "    from sklearn.metrics import accuracy_score,recall_score,f1_score # 模型评价\n",
    "    from sklearn.neighbors import NearestNeighbors,KNeighborsClassifier # KNN\n",
    "    from sklearn.naive_bayes import GaussianNB,BernoulliNB # 高斯朴素贝叶斯、伯努利朴素贝叶斯\n",
    "    from sklearn.tree import DecisionTreeClassifier # 决策树\n",
    "    from sklearn.svm import SVC # 支持向量机\n",
    "    from sklearn.ensemble import RandomForestClassifier # 随机森林\n",
    "    from sklearn.ensemble import AdaBoostClassifier # AdaBoost\n",
    "    models = [] # 初始化存放模型的元组\n",
    "    \n",
    "#     models.append((\"KNN\", KNeighborsClassifier(n_neighbors=3))) # KNN\n",
    "#     models.append((\"GaussianNB\", GaussianNB())) # Gaussian Naive Bayes\n",
    "#     models.append((\"BernoulliNB\", BernoulliNB())) # BernoulliNB Naive Bayes\n",
    "    models.append((\"DecisionTreeGini\", DecisionTreeClassifier())) # 决策树：Gini 系数\n",
    "#     models.append((\"DecisionTreeEntropy\", DecisionTreeClassifier(criterion=\"entropy\"))) # 决策树：信息熵\n",
    "#     models.append((\"SVM Classifier\", SVC(C=1000))) # 支持向量机：C 值越大模型越准确，计算时间越长\n",
    "#     models.append((\"OriginalRandomForest\", RandomForestClassifier())) # 随机森林\n",
    "    models.append((\"RandomForest\", RandomForestClassifier(n_estimators=11, max_features=None))) # 随机森林\n",
    "    models.append((\"AdaBoost\", AdaBoostClassifier())) # AdaBoost\n",
    "    for clf_name,clf in models:\n",
    "        print(\"++++\", clf_name, \"++++\")\n",
    "        clf.fit(X_train, Y_train)\n",
    "        xy_lst = [(X_train,Y_train), (X_validation,Y_validation), (X_test,Y_test)]\n",
    "        set_name = [\"Train:\", \"Validation:\", \"Test:\"]\n",
    "        for i in range(len(xy_lst)):\n",
    "            X_part = xy_lst[i][0]\n",
    "            Y_part = xy_lst[i][1]\n",
    "            Y_pred = clf.predict(X_part)\n",
    "#             print(i)\n",
    "            print(i, set_name[i])\n",
    "            print(clf_name, \"- ACC:\", accuracy_score(Y_part, Y_pred))\n",
    "            print(clf_name, \"- REC:\", recall_score(Y_part, Y_pred))\n",
    "            print(clf_name, \"- F1:\", f1_score(Y_part, Y_pred))\n",
    "\n"
   ]
  },
  {
   "cell_type": "code",
   "execution_count": 37,
   "metadata": {
    "ExecuteTime": {
     "end_time": "2021-11-23T08:41:42.627247Z",
     "start_time": "2021-11-23T08:41:42.612257Z"
    }
   },
   "outputs": [],
   "source": [
    "## 回归\n",
    "def regr_test(features, label):\n",
    "    print(\"X\", features)\n",
    "    print(\"Y\", label)\n",
    "    from sklearn.linear_model import LinearRegression,Ridge,Lasso # 线性回归、岭回归、Lasso 回归\n",
    "#     regr = LinearRegression() # 线性回归\n",
    "#     regr = Ridge(alpha=0.8) # 岭回归\n",
    "    regr = Lasso(alpha=0.002) # Lasso 回归\n",
    "    regr.fit(features.values, label.values)\n",
    "    Y_pred = regr.predict(features.values)\n",
    "    print(\"Coef\", regr.coef_)\n",
    "    # 模型评价\n",
    "    from sklearn.metrics import mean_squared_error # 评价指标：MSE\n",
    "    print(\"MSE:\", mean_squared_error(label.values, Y_pred)) # 打印均方误差\n"
   ]
  },
  {
   "cell_type": "code",
   "execution_count": 38,
   "metadata": {
    "ExecuteTime": {
     "end_time": "2021-11-23T08:41:43.259191Z",
     "start_time": "2021-11-23T08:41:43.152834Z"
    }
   },
   "outputs": [
    {
     "name": "stdout",
     "output_type": "stream",
     "text": [
      "X        number_project  average_monthly_hours\n",
      "0                 0.0               0.285047\n",
      "1                 0.6               0.775701\n",
      "2                 1.0               0.822430\n",
      "3                 0.6               0.593458\n",
      "4                 0.0               0.294393\n",
      "...               ...                    ...\n",
      "14994             0.0               0.257009\n",
      "14995             0.0               0.299065\n",
      "14996             0.0               0.219626\n",
      "14997             0.8               0.859813\n",
      "14998             0.0               0.289720\n",
      "\n",
      "[14999 rows x 2 columns]\n",
      "Y 0        0.265625\n",
      "1        0.781250\n",
      "2        0.812500\n",
      "3        0.796875\n",
      "4        0.250000\n",
      "           ...   \n",
      "14994    0.328125\n",
      "14995    0.187500\n",
      "14996    0.265625\n",
      "14997    0.937500\n",
      "14998    0.250000\n",
      "Name: last_evaluation, Length: 14999, dtype: float64\n",
      "Coef [0.25039551 0.24227119]\n",
      "MSE: 0.0596363767370062\n"
     ]
    }
   ],
   "source": [
    "# %load \".\\\\code\\\\load_main.py\"\n",
    "## main\n",
    "def main():\n",
    "    features,label = hr_preprocessing()\n",
    "    regr_test(features[[\"number_project\",\"average_monthly_hours\"]], features[\"last_evaluation\"])\n",
    "#     hr_modeling(features, label)\n",
    "    \n",
    "if __name__ == \"__main__\":\n",
    "    main()\n",
    "    \n"
   ]
  },
  {
   "cell_type": "markdown",
   "metadata": {},
   "source": [
    "### Logistic 回归\n",
    "- 罗吉斯特增长模型\n",
    "\n",
    "<img style=\"float: center;\" src=\".\\figures\\Logistic增长模型.png\" width=50%>\n",
    "<center>Fig. Logistic 增长模型</center>\n",
    "\n",
    "- Logistic Regression\n",
    "$$g(z) = \\frac{1}{1+e^{-z}}$$\n",
    "$$h_\\theta(x) = g(\\theta^T x) = \\frac{1}{1+e^{-\\theta^T x}}$$\n",
    "\n",
    "<img style=\"float: center;\" src=\".\\figures\\Logistic回归.png\" width=40%>\n",
    "<center>Fig. Logistic 回归</center>\n",
    "\n",
    "<img style=\"float: center;\" src=\".\\figures\\Logistic回归2.png\" width=60%>\n",
    "<center>Fig. Logistic 回归</center>\n"
   ]
  },
  {
   "cell_type": "code",
   "execution_count": 47,
   "metadata": {
    "ExecuteTime": {
     "end_time": "2021-11-23T09:06:36.937856Z",
     "start_time": "2021-11-23T09:06:36.915868Z"
    }
   },
   "outputs": [],
   "source": [
    "# %load \".\\\\code\\\\load_hr_modeling.py\"\n",
    "## 建模分析\n",
    "def hr_modeling(features, label):\n",
    "    from sklearn.model_selection import train_test_split\n",
    "    f_v = features.values # 特征值\n",
    "    f_names = features.columns.values # 特征名\n",
    "    l_v = label.values # 标注\n",
    "    # 测试集：X_tt, Y_tt\n",
    "    # 验证集：X_validation, Y_validation\n",
    "    X_tt,X_validation,Y_tt,Y_validation = train_test_split(f_v, l_v, test_size=0.2)\n",
    "    X_train,X_test,Y_train,Y_test = train_test_split(X_tt, Y_tt, test_size=0.25)\n",
    "    print(len(X_train), len(X_validation), len(X_test))\n",
    "    \n",
    "    ## 模型构建\n",
    "    from sklearn.metrics import accuracy_score,recall_score,f1_score # 模型评价\n",
    "    from sklearn.neighbors import NearestNeighbors,KNeighborsClassifier # KNN\n",
    "    from sklearn.naive_bayes import GaussianNB,BernoulliNB # 高斯朴素贝叶斯、伯努利朴素贝叶斯\n",
    "    from sklearn.tree import DecisionTreeClassifier # 决策树\n",
    "    from sklearn.svm import SVC # 支持向量机\n",
    "    from sklearn.ensemble import RandomForestClassifier # 随机森林\n",
    "    from sklearn.ensemble import AdaBoostClassifier # AdaBoost\n",
    "    from sklearn.linear_model import LogisticRegression # Logistic 回归\n",
    "    models = [] # 初始化存放模型的元组\n",
    "    \n",
    "#     models.append((\"KNN\", KNeighborsClassifier(n_neighbors=3))) # KNN\n",
    "#     models.append((\"GaussianNB\", GaussianNB())) # Gaussian Naive Bayes\n",
    "#     models.append((\"BernoulliNB\", BernoulliNB())) # BernoulliNB Naive Bayes\n",
    "#     models.append((\"DecisionTreeGini\", DecisionTreeClassifier())) # 决策树：Gini 系数\n",
    "#     models.append((\"DecisionTreeEntropy\", DecisionTreeClassifier(criterion=\"entropy\"))) # 决策树：信息熵\n",
    "#     models.append((\"SVM Classifier\", SVC(C=1000))) # 支持向量机：C 值越大模型越准确，计算时间越长\n",
    "    models.append((\"OriginalRandomForest\", RandomForestClassifier())) # 随机森林\n",
    "#     models.append((\"RandomForest\", RandomForestClassifier(n_estimators=11, max_features=None))) # 随机森林\n",
    "#     models.append((\"AdaBoost\", AdaBoostClassifier())) # AdaBoost\n",
    "    models.append((\"LogisticRegression\", LogisticRegression(max_iter=10000))) # Logistic 回归\n",
    "    for clf_name,clf in models:\n",
    "        print(\"++++\", clf_name, \"++++\")\n",
    "        clf.fit(X_train, Y_train)\n",
    "        xy_lst = [(X_train,Y_train), (X_validation,Y_validation), (X_test,Y_test)]\n",
    "        set_name = [\"Train:\", \"Validation:\", \"Test:\"]\n",
    "        for i in range(len(xy_lst)):\n",
    "            X_part = xy_lst[i][0]\n",
    "            Y_part = xy_lst[i][1]\n",
    "            Y_pred = clf.predict(X_part)\n",
    "#             print(i)\n",
    "            print(i, set_name[i])\n",
    "            print(clf_name, \"- ACC:\", accuracy_score(Y_part, Y_pred))\n",
    "            print(clf_name, \"- REC:\", recall_score(Y_part, Y_pred))\n",
    "            print(clf_name, \"- F1:\", f1_score(Y_part, Y_pred))\n",
    "\n"
   ]
  },
  {
   "cell_type": "code",
   "execution_count": 48,
   "metadata": {
    "ExecuteTime": {
     "end_time": "2021-11-23T09:06:38.875405Z",
     "start_time": "2021-11-23T09:06:37.535151Z"
    }
   },
   "outputs": [
    {
     "name": "stdout",
     "output_type": "stream",
     "text": [
      "8999 3000 3000\n",
      "++++ OriginalRandomForest ++++\n",
      "0 Train:\n",
      "OriginalRandomForest - ACC: 1.0\n",
      "OriginalRandomForest - REC: 1.0\n",
      "OriginalRandomForest - F1: 1.0\n",
      "1 Validation:\n",
      "OriginalRandomForest - ACC: 0.9893333333333333\n",
      "OriginalRandomForest - REC: 0.9614855570839065\n",
      "OriginalRandomForest - F1: 0.9776223776223776\n",
      "2 Test:\n",
      "OriginalRandomForest - ACC: 0.9896666666666667\n",
      "OriginalRandomForest - REC: 0.9622093023255814\n",
      "OriginalRandomForest - F1: 0.9771217712177122\n",
      "++++ LogisticRegression ++++\n",
      "0 Train:\n",
      "LogisticRegression - ACC: 0.7914212690298922\n",
      "LogisticRegression - REC: 0.35435992578849723\n",
      "LogisticRegression - F1: 0.4487518355359765\n",
      "1 Validation:\n",
      "LogisticRegression - ACC: 0.7923333333333333\n",
      "LogisticRegression - REC: 0.35075653370013754\n",
      "LogisticRegression - F1: 0.4501323918799647\n",
      "2 Test:\n",
      "LogisticRegression - ACC: 0.8\n",
      "LogisticRegression - REC: 0.37790697674418605\n",
      "LogisticRegression - F1: 0.4642857142857143\n"
     ]
    }
   ],
   "source": [
    "# %load \".\\\\code\\\\load_main.py\"\n",
    "## main\n",
    "def main():\n",
    "    features,label = hr_preprocessing()\n",
    "    hr_modeling(features, label)\n",
    "    \n",
    "if __name__ == \"__main__\":\n",
    "    main()\n",
    "    \n"
   ]
  },
  {
   "cell_type": "markdown",
   "metadata": {},
   "source": [
    "## 回归-分类：人工神经网络\n",
    "\n",
    "### 感知器\n",
    "\n",
    "<img style=\"float: center;\" src=\".\\figures\\感知器.png\" width=50%>\n",
    "<center>Fig. 感知器</center>\n"
   ]
  },
  {
   "cell_type": "markdown",
   "metadata": {},
   "source": [
    "### 非线性映射\n",
    "\n",
    "<img style=\"float: center;\" src=\".\\figures\\非线性关系的实现.png\" width=50%>\n",
    "<center>Fig. 非线性映射的实现</center>\n"
   ]
  },
  {
   "cell_type": "markdown",
   "metadata": {},
   "source": [
    "- 神经网络\n",
    "\n",
    "<img style=\"float: center;\" src=\".\\figures\\神经网络.png\" width=50%>\n",
    "<center>Fig. 神经网络</center>\n"
   ]
  },
  {
   "cell_type": "markdown",
   "metadata": {},
   "source": [
    "### 求解神经网络\n",
    "\n",
    "#### 反向传播\n",
    "\n",
    "<img style=\"float: center;\" src=\".\\figures\\反向传播.png\" width=50%>\n",
    "<center>Fig. 反向传播</center>\n",
    "\n",
    "#### 随机梯度下降（Stochastic Gradient Decent）\n",
    "- 每次调整权值时，选取部分样本进行梯度下降\n",
    "- 优点：收敛速度快，计算开销少\n",
    "- 缺点：容易陷入局部最优解\n"
   ]
  },
  {
   "cell_type": "markdown",
   "metadata": {},
   "source": [
    "### 几个问题\n",
    "1. 易受离群点影响，容易过拟合（正则化，dropout）\n",
    "2. 属性与结果要在 0~1之间\n",
    "3. 输出结果进行 Softmax 转化\n",
    "$$S_i = \\frac{e^{V_i}}{\\sum_j e^{V_j}}$$\n"
   ]
  },
  {
   "cell_type": "markdown",
   "metadata": {},
   "source": [
    "- Keras 安装（Windows）\n",
    "\n",
    "```py\n",
    "1. pip install tensorflow\n",
    "2. conda install pip\n",
    "3. pip install keras\n",
    "```\n",
    "\n",
    "> 问题：用pip安装tensorflow时出现：THESE PACKAGES DO NOT MATCH THE HASHES FROM THE REQUIREMENTS FILE  \n",
    "> 解决：使用命令```pip install --upgrade tensorflow```即可解决  \n"
   ]
  },
  {
   "cell_type": "code",
   "execution_count": 106,
   "metadata": {
    "ExecuteTime": {
     "end_time": "2021-11-26T10:16:24.758904Z",
     "start_time": "2021-11-26T10:16:24.705934Z"
    }
   },
   "outputs": [],
   "source": [
    "# %load \".\\\\code\\\\load_hr_modeling.py\"\n",
    "## 建模分析\n",
    "def hr_modeling(features, label):\n",
    "    from sklearn.model_selection import train_test_split\n",
    "    f_v = features.values # 特征值\n",
    "    f_names = features.columns.values # 特征名\n",
    "    l_v = label.values # 标注\n",
    "    # 测试集：X_tt, Y_tt\n",
    "    # 验证集：X_validation, Y_validation\n",
    "    X_tt,X_validation,Y_tt,Y_validation = train_test_split(f_v, l_v, test_size=0.2)\n",
    "    X_train,X_test,Y_train,Y_test = train_test_split(X_tt, Y_tt, test_size=0.25)\n",
    "    print(len(X_train), len(X_validation), len(X_test))\n",
    "    \n",
    "    ## 模型构建\n",
    "    from sklearn.metrics import accuracy_score,recall_score,f1_score # 模型评价\n",
    "    from sklearn.neighbors import NearestNeighbors,KNeighborsClassifier # KNN\n",
    "    from sklearn.naive_bayes import GaussianNB,BernoulliNB # 高斯朴素贝叶斯、伯努利朴素贝叶斯\n",
    "    from sklearn.tree import DecisionTreeClassifier # 决策树\n",
    "    from sklearn.svm import SVC # 支持向量机\n",
    "    from sklearn.ensemble import RandomForestClassifier # 随机森林\n",
    "    from sklearn.ensemble import AdaBoostClassifier # AdaBoost\n",
    "    from sklearn.linear_model import LogisticRegression # Logistic 回归\n",
    "    from keras.models import Sequential # 序贯模型\n",
    "    from keras.layers.core import Dense,Activation # 稠密层、激活函数\n",
    "    from tensorflow.keras.optimizers import SGD # 随机梯度下降\n",
    "    from matplotlib import pyplot as plt # 绘图包\n",
    "    f = open(\".\\\\output\\\\NNLog.log\", 'a') # 自动文件指针打开待写入文件\n",
    "    mdl = Sequential()\n",
    "    mdl.add(Dense(50, input_dim=len(f_v[0]))) # 输入层：指定隐含层神经元个数为 50\n",
    "    mdl.add(Activation(\"sigmoid\")) # 激活函数\n",
    "    mdl.add(Dense(2)) # 输出层\n",
    "    mdl.add(Activation(\"softmax\")) # 归一化\n",
    "    sgd = SGD(lr=0.05) # 学习率\n",
    "    mdl.compile(loss=\"mean_squared_error\", optimizer=\"adam\") # 编译: 损失函数-均方误差、优化器-亚当优化器\n",
    "    history = mdl.fit(X_train, np.array([[0,1] if i == 1 else [1,0] for i in Y_train]), epochs=10000, batch_size=8999, verbose=0)\n",
    "    print(\"History:\", dir(history), file=f) # \n",
    "    loss_val = history.history\n",
    "#     print(type(loss_val))\n",
    "#     print(type(loss_val['loss']))\n",
    "    print(\"Loss Function:\", loss_val, file=f) # 损失和评估值\n",
    "    f.close() # 关闭文件\n",
    "    xy_lst = [(X_train,Y_train), (X_validation,Y_validation), (X_test,Y_test)]\n",
    "    set_name = [\"Train:\", \"Validation:\", \"Test:\"]\n",
    "    for i in range(len(xy_lst)):\n",
    "        X_part = xy_lst[i][0]\n",
    "        Y_part = xy_lst[i][1]\n",
    "#         Y_pred = mdl.predict_classes(X_part)\n",
    "        Y_pred = mdl.predict(X_part)\n",
    "        Y_pred = np.argmax(Y_pred, axis=1)\n",
    "        print(i, set_name[i])\n",
    "        print(\"NN\", \"- ACC:\", accuracy_score(Y_part, Y_pred))\n",
    "        print(\"NN\", \"- REC:\", recall_score(Y_part, Y_pred))\n",
    "        print(\"NN\", \"- F1:\", f1_score(Y_part, Y_pred))\n",
    "    # 绘制损失函数曲线\n",
    "    plt.figure()\n",
    "    plt.plot(loss_val['loss'])\n",
    "    plt.title(\"Loss Function\")\n",
    "    plt.xlabel(\"Epochs\")\n",
    "    plt.ylabel(\"MSE Value\")\n",
    "    return \n",
    "    \n",
    "    models = [] # 初始化存放模型的元组\n",
    "    \n",
    "#     models.append((\"KNN\", KNeighborsClassifier(n_neighbors=3))) # KNN\n",
    "#     models.append((\"GaussianNB\", GaussianNB())) # Gaussian Naive Bayes\n",
    "#     models.append((\"BernoulliNB\", BernoulliNB())) # BernoulliNB Naive Bayes\n",
    "#     models.append((\"DecisionTreeGini\", DecisionTreeClassifier())) # 决策树：Gini 系数\n",
    "#     models.append((\"DecisionTreeEntropy\", DecisionTreeClassifier(criterion=\"entropy\"))) # 决策树：信息熵\n",
    "#     models.append((\"SVM Classifier\", SVC(C=1000))) # 支持向量机：C 值越大模型越准确，计算时间越长\n",
    "    models.append((\"OriginalRandomForest\", RandomForestClassifier())) # 随机森林\n",
    "#     models.append((\"RandomForest\", RandomForestClassifier(n_estimators=11, max_features=None))) # 随机森林\n",
    "#     models.append((\"AdaBoost\", AdaBoostClassifier())) # AdaBoost\n",
    "    models.append((\"LogisticRegression\", LogisticRegression(max_iter=10000))) # Logistic 回归\n",
    "    for clf_name,clf in models:\n",
    "        print(\"++++\", clf_name, \"++++\")\n",
    "        clf.fit(X_train, Y_train)\n",
    "        xy_lst = [(X_train,Y_train), (X_validation,Y_validation), (X_test,Y_test)]\n",
    "        set_name = [\"Train:\", \"Validation:\", \"Test:\"]\n",
    "        for i in range(len(xy_lst)):\n",
    "            X_part = xy_lst[i][0]\n",
    "            Y_part = xy_lst[i][1]\n",
    "            Y_pred = clf.predict(X_part)\n",
    "#             print(i)\n",
    "            print(i, set_name[i])\n",
    "            print(clf_name, \"- ACC:\", accuracy_score(Y_part, Y_pred))\n",
    "            print(clf_name, \"- REC:\", recall_score(Y_part, Y_pred))\n",
    "            print(clf_name, \"- F1:\", f1_score(Y_part, Y_pred))\n",
    "\n"
   ]
  },
  {
   "cell_type": "code",
   "execution_count": 107,
   "metadata": {
    "ExecuteTime": {
     "end_time": "2021-11-26T10:17:48.032735Z",
     "start_time": "2021-11-26T10:16:25.967451Z"
    }
   },
   "outputs": [
    {
     "name": "stdout",
     "output_type": "stream",
     "text": [
      "8999 3000 3000\n"
     ]
    },
    {
     "name": "stderr",
     "output_type": "stream",
     "text": [
      "C:\\Users\\kisso\\.conda\\envs\\tensorflow_gpu\\lib\\site-packages\\keras\\optimizer_v2\\gradient_descent.py:102: UserWarning: The `lr` argument is deprecated, use `learning_rate` instead.\n",
      "  super(SGD, self).__init__(name, **kwargs)\n"
     ]
    },
    {
     "name": "stdout",
     "output_type": "stream",
     "text": [
      "0 Train:\n",
      "NN - ACC: 0.9733303700411157\n",
      "NN - REC: 0.9168224299065421\n",
      "NN - F1: 0.9423631123919308\n",
      "1 Validation:\n",
      "NN - ACC: 0.972\n",
      "NN - REC: 0.925035360678925\n",
      "NN - F1: 0.9396551724137931\n",
      "2 Test:\n",
      "NN - ACC: 0.9653333333333334\n",
      "NN - REC: 0.899171270718232\n",
      "NN - F1: 0.9260312944523471\n"
     ]
    },
    {
     "data": {
      "image/png": "[encoded data removed]",
      "text/plain": [
       "<Figure size 432x288 with 1 Axes>"
      ]
     },
     "metadata": {
      "needs_background": "light"
     },
     "output_type": "display_data"
    }
   ],
   "source": [
    "## main\n",
    "def main():\n",
    "    features,label = hr_preprocessing()\n",
    "    hr_modeling(features, label)\n",
    "    \n",
    "if __name__ == \"__main__\":\n",
    "    main()\n",
    "    \n"
   ]
  },
  {
   "cell_type": "code",
   "execution_count": 9,
   "metadata": {
    "ExecuteTime": {
     "end_time": "2021-11-26T07:10:21.359172Z",
     "start_time": "2021-11-26T07:10:21.352178Z"
    }
   },
   "outputs": [
    {
     "data": {
      "text/plain": [
       "'c:\\\\programdata\\\\miniconda3\\\\python.exe'"
      ]
     },
     "execution_count": 9,
     "metadata": {},
     "output_type": "execute_result"
    }
   ],
   "source": [
    "import sys\n",
    "sys.executable"
   ]
  },
  {
   "cell_type": "markdown",
   "metadata": {},
   "source": [
    "## 回归：回归树与提升树\n",
    "- GBDT(Gradient Boosting Decision Tree)\n",
    "\n",
    "<img style=\"float: center;\" src=\".\\figures\\GBDT.png\" width=50%>\n",
    "<center>Fig. GBDT</center>\n",
    "\n",
    "<img style=\"float: center;\" src=\".\\figures\\GBDT2.png\" width=50%>\n",
    "<center>Fig. GBDT</center>\n",
    "\n",
    "<img style=\"float: center;\" src=\".\\figures\\GBDT3.png\" width=50%>\n",
    "<center>Fig. GBDT</center>\n",
    "\n"
   ]
  },
  {
   "cell_type": "code",
   "execution_count": 80,
   "metadata": {
    "ExecuteTime": {
     "end_time": "2021-11-23T13:38:27.759172Z",
     "start_time": "2021-11-23T13:38:27.735262Z"
    }
   },
   "outputs": [],
   "source": [
    "# %load \".\\\\code\\\\load_hr_modeling.py\"\n",
    "## 建模分析\n",
    "def hr_modeling(features, label):\n",
    "    from sklearn.model_selection import train_test_split\n",
    "    f_v = features.values # 特征值\n",
    "    f_names = features.columns.values # 特征名\n",
    "    l_v = label.values # 标注\n",
    "    # 测试集：X_tt, Y_tt\n",
    "    # 验证集：X_validation, Y_validation\n",
    "    X_tt,X_validation,Y_tt,Y_validation = train_test_split(f_v, l_v, test_size=0.2)\n",
    "    X_train,X_test,Y_train,Y_test = train_test_split(X_tt, Y_tt, test_size=0.25)\n",
    "    print(len(X_train), len(X_validation), len(X_test))\n",
    "    \n",
    "    ## 模型构建\n",
    "    from sklearn.metrics import accuracy_score,recall_score,f1_score # 模型评价\n",
    "    from sklearn.neighbors import NearestNeighbors,KNeighborsClassifier # KNN\n",
    "    from sklearn.naive_bayes import GaussianNB,BernoulliNB # 高斯朴素贝叶斯、伯努利朴素贝叶斯\n",
    "    from sklearn.tree import DecisionTreeClassifier # 决策树\n",
    "    from sklearn.svm import SVC # 支持向量机\n",
    "    from sklearn.ensemble import RandomForestClassifier # 随机森林\n",
    "    from sklearn.ensemble import AdaBoostClassifier # AdaBoost\n",
    "    from sklearn.linear_model import LogisticRegression # Logistic 回归\n",
    "    from sklearn.ensemble import GradientBoostingClassifier # GDBT 回归树\n",
    "#     from keras.models import Sequential # 序贯模型\n",
    "#     from keras.layers.core import Dense,Activation # 稠密层、激活函数\n",
    "#     from keras.optimizers import SGD # 随机梯度下降\n",
    "#     mdl = Sequential()\n",
    "#     mdl.add(Dense(50, input_dim=len(f_v[0]))) # 输入层：指定隐含层神经元个数为 50\n",
    "#     mdl.add(Activation(\"sigmoid\")) # 激活函数\n",
    "#     mdl.add(Dense(2)) # 输出层\n",
    "#     mdl.add(Activation(\"softmax\")) # 归一化\n",
    "#     sgd = SGD(lr=0.05) # 学习率\n",
    "#     mdl.complie(loss=\"mean_squared_error\", optimizer=\"adam\") # 编译: 损失函数-均方误差、优化器-亚当优化器\n",
    "#     mdl.fit(X_train, np.array([[0,1] if i == 1 else [1,0] for i in Y_train]), nb_epoch=10000, batch_size=8999)\n",
    "#     xy_lst = [(X_train,Y_train), (X_validation,Y_validation), (X_test,Y_test)]\n",
    "#     set_name = [\"Train:\", \"Validation:\", \"Test:\"]\n",
    "#     for i in range(len(xy_lst)):\n",
    "#         X_part = xy_lst[i][0]\n",
    "#         Y_part = xy_lst[i][1]\n",
    "#         Y_pred = mdl.predict_classes(X_part)\n",
    "#         print(i, set_name[i])\n",
    "#         print(\"NN\", \"- ACC:\", accuracy_score(Y_part, Y_pred))\n",
    "#         print(\"NN\", \"- REC:\", recall_score(Y_part, Y_pred))\n",
    "#         print(\"NN\", \"- F1:\", f1_score(Y_part, Y_pred))\n",
    "#     return \n",
    "    \n",
    "    models = [] # 初始化存放模型的列表\n",
    "    \n",
    "#     models.append((\"KNN\", KNeighborsClassifier(n_neighbors=3))) # KNN\n",
    "#     models.append((\"GaussianNB\", GaussianNB())) # Gaussian Naive Bayes\n",
    "#     models.append((\"BernoulliNB\", BernoulliNB())) # BernoulliNB Naive Bayes\n",
    "#     models.append((\"DecisionTreeGini\", DecisionTreeClassifier())) # 决策树：Gini 系数\n",
    "#     models.append((\"DecisionTreeEntropy\", DecisionTreeClassifier(criterion=\"entropy\"))) # 决策树：信息熵\n",
    "#     models.append((\"SVM Classifier\", SVC(C=1000))) # 支持向量机：C 值越大模型越准确，计算时间越长\n",
    "    models.append((\"OriginalRandomForest\", RandomForestClassifier())) # 随机森林\n",
    "#     models.append((\"RandomForest\", RandomForestClassifier(n_estimators=11, max_features=None))) # 随机森林\n",
    "#     models.append((\"AdaBoost\", AdaBoostClassifier())) # AdaBoost\n",
    "    models.append((\"LogisticRegression\", LogisticRegression(max_iter=10000))) # Logistic 回归\n",
    "    models.append((\"GDBT\", GradientBoostingClassifier(max_depth=6, n_estimators=100))) # GDBT 回归树\n",
    "    for clf_name,clf in models:\n",
    "        print(\"++++\", clf_name, \"++++\")\n",
    "        clf.fit(X_train, Y_train)\n",
    "        xy_lst = [(X_train,Y_train), (X_validation,Y_validation), (X_test,Y_test)]\n",
    "        set_name = [\"Train:\", \"Validation:\", \"Test:\"]\n",
    "        for i in range(len(xy_lst)):\n",
    "            X_part = xy_lst[i][0]\n",
    "            Y_part = xy_lst[i][1]\n",
    "            Y_pred = clf.predict(X_part)\n",
    "#             print(i)\n",
    "            print(i, set_name[i])\n",
    "            print(clf_name, \"- ACC:\", accuracy_score(Y_part, Y_pred))\n",
    "            print(clf_name, \"- REC:\", recall_score(Y_part, Y_pred))\n",
    "            print(clf_name, \"- F1:\", f1_score(Y_part, Y_pred))\n",
    "\n"
   ]
  },
  {
   "cell_type": "code",
   "execution_count": 81,
   "metadata": {
    "ExecuteTime": {
     "end_time": "2021-11-23T13:38:46.222363Z",
     "start_time": "2021-11-23T13:38:42.528325Z"
    }
   },
   "outputs": [
    {
     "name": "stdout",
     "output_type": "stream",
     "text": [
      "8999 3000 3000\n",
      "++++ OriginalRandomForest ++++\n",
      "0 Train:\n",
      "OriginalRandomForest - ACC: 1.0\n",
      "OriginalRandomForest - REC: 1.0\n",
      "OriginalRandomForest - F1: 1.0\n",
      "1 Validation:\n",
      "OriginalRandomForest - ACC: 0.9896666666666667\n",
      "OriginalRandomForest - REC: 0.9620786516853933\n",
      "OriginalRandomForest - F1: 0.9778729478943612\n",
      "2 Test:\n",
      "OriginalRandomForest - ACC: 0.99\n",
      "OriginalRandomForest - REC: 0.9581529581529582\n",
      "OriginalRandomForest - F1: 0.9779086892488955\n",
      "++++ LogisticRegression ++++\n",
      "0 Train:\n",
      "LogisticRegression - ACC: 0.7883098122013557\n",
      "LogisticRegression - REC: 0.34164358264081257\n",
      "LogisticRegression - F1: 0.43722304283604135\n",
      "1 Validation:\n",
      "LogisticRegression - ACC: 0.7856666666666666\n",
      "LogisticRegression - REC: 0.31320224719101125\n",
      "LogisticRegression - F1: 0.40955004591368227\n",
      "2 Test:\n",
      "LogisticRegression - ACC: 0.7863333333333333\n",
      "LogisticRegression - REC: 0.30735930735930733\n",
      "LogisticRegression - F1: 0.39925023430178064\n",
      "++++ GDBT ++++\n",
      "0 Train:\n",
      "GDBT - ACC: 0.994332703633737\n",
      "GDBT - REC: 0.9801477377654663\n",
      "GDBT - F1: 0.9881312543635095\n",
      "1 Validation:\n",
      "GDBT - ACC: 0.9853333333333333\n",
      "GDBT - REC: 0.9536516853932584\n",
      "GDBT - F1: 0.9686162624821683\n",
      "2 Test:\n",
      "GDBT - ACC: 0.983\n",
      "GDBT - REC: 0.950937950937951\n",
      "GDBT - F1: 0.9627465303140978\n"
     ]
    }
   ],
   "source": [
    "## main\n",
    "def main():\n",
    "    features,label = hr_preprocessing()\n",
    "    hr_modeling(features, label)\n",
    "    \n",
    "if __name__ == \"__main__\":\n",
    "    main()\n",
    "    \n"
   ]
  },
  {
   "cell_type": "markdown",
   "metadata": {},
   "source": [
    "## 聚类\n",
    "> 分类和回归都属于有监督学习，都有标注，为分类或回归任务提供指引  \n",
    "> 聚类和关联规则属于无监督学习，旨在为数据打标注  \n",
    "\n",
    "- 聚类：将集合分成由类似的对象组成的多个类的过程\n"
   ]
  },
  {
   "cell_type": "markdown",
   "metadata": {},
   "source": [
    "### K-means\n",
    "> 基于切割\n",
    "\n",
    "- 所有类都有一个中心，属于一个类的点到它的中心的距离相比于其他类的中心更近\n",
    "\n",
    "<img style=\"float: center;\" src=\".\\figures\\K-means.png\" width=25%>\n",
    "<center>Fig. K-means</center>\n",
    "\n",
    "- 算法流程：\n",
    "    1. 从 n 个样本中随机选取 k 个作为初始质心\n",
    "    2. 对每个样本测量其到每个质心的距离，并把它归到最近的质心的类\n",
    "    3. 重新计算得到的各个类的质心\n",
    "    4. 迭代 2~3 步直至新的质心与前一个质心相等或小于指定的阈值，算法结束\n",
    "- 缺点：\n",
    "    - 初始质心位置会影响最终聚类效果\n",
    "        - 方法：多尝试几次，取最稳定结果\n",
    "    - 个别离群值会影响整体聚类效果\n",
    "        - 将取质心换成取中点（K-Medoids）\n",
    "    - 必须指定 K（聚类个数）\n",
    "        - 其他衡量因子辅助（如轮廓系数）\n"
   ]
  },
  {
   "cell_type": "code",
   "execution_count": 1,
   "metadata": {
    "ExecuteTime": {
     "end_time": "2021-11-24T05:14:57.269049Z",
     "start_time": "2021-11-24T05:14:55.966311Z"
    }
   },
   "outputs": [],
   "source": [
    "## 导包\n",
    "import numpy as np # 数值计算\n",
    "import matplotlib.pyplot as plt # 绘图"
   ]
  },
  {
   "cell_type": "code",
   "execution_count": 2,
   "metadata": {
    "ExecuteTime": {
     "end_time": "2021-11-24T05:15:13.718964Z",
     "start_time": "2021-11-24T05:15:09.111428Z"
    }
   },
   "outputs": [],
   "source": [
    "from sklearn.datasets import make_circles,make_blobs,make_moons # 引用数据集\n",
    "from sklearn.cluster import KMeans # K-means"
   ]
  },
  {
   "cell_type": "code",
   "execution_count": 89,
   "metadata": {
    "ExecuteTime": {
     "end_time": "2021-11-23T14:43:25.796944Z",
     "start_time": "2021-11-23T14:40:16.785493Z"
    }
   },
   "outputs": [
    {
     "data": {
      "image/png": "[encoded data removed]",
      "text/plain": [
       "<Figure size 432x288 with 9 Axes>"
      ]
     },
     "metadata": {
      "needs_background": "light"
     },
     "output_type": "display_data"
    }
   ],
   "source": [
    "n_samples = 1000 # 样本数\n",
    "circles = make_circles(n_samples=n_samples, factor=0.5, noise=0.05)\n",
    "moons = make_moons(n_samples=n_samples, noise=0.05)\n",
    "blobs = make_blobs(n_samples=n_samples, random_state=8)\n",
    "random_data = np.random.rand(n_samples, 2), None\n",
    "colors = \"bgrcmyk\" # 绘图色系\n",
    "data = [circles,moons,blobs,random_data]\n",
    "models = [(\"None\", None), (\"Kmeans\", KMeans(n_clusters=3))]\n",
    "f = plt.figure()\n",
    "for inx,clt in enumerate(models):\n",
    "    clt_name,clt_entity = clt\n",
    "    for i,dataset in enumerate(data):\n",
    "        X,Y = dataset\n",
    "        if not clt_entity:\n",
    "            clt_res = [0 for item in range(len(X))]\n",
    "        else:\n",
    "            clt_entity.fit(X)\n",
    "            clt_res = clt_entity.labels_.astype(np.int)\n",
    "        plt.title(clt_name)\n",
    "        f.add_subplot(len(models), len(data), inx*len(data)+i+1)\n",
    "        [plt.scatter(X[p,0], X[p,1], color=colors[clt_res[p]]) for p in range(len(X))]\n",
    "plt.show()"
   ]
  },
  {
   "cell_type": "markdown",
   "metadata": {},
   "source": [
    "### DBSCAN\n",
    "> 基于密度  \n",
    "\n",
    "- DBSCAN(Density-Based Spatial Clustering of Applications with Noise)：找到密度相连对象的最大集合\n",
    "- E 领域：给定对象半径为 E 内的区域称为该对象的 E 领域\n",
    "- 核心对象：如果给定对象 E 领域内的样本点数大于等于 MinPts，则称该对象为核心对象\n",
    "- 直接密度可达：对于样本集合 D，如果样本点 q 在 p 的 E 领域内，并且 p 为核心对象，那么对象 q 从对象 p 直接密度可达\n",
    "- 密度可达：对于样本集合 D，给定一串样本点 p1,p2,...,pn，p=p1, q= pn, 假如对象 pi 从pi-1 直接密度可达，那么对象 q 从对象 p 密度可达\n",
    "- 密度相连：存在样本集合 D 中的一点 o，如果对象 o 到对象 p 和对象 q 都是密度可达的，那么 p 和 q 密度相连\n",
    "\n",
    "<img style=\"float: center;\" src=\".\\figures\\DBSCAN.png\" width=50%>\n",
    "<center>Fig. DBSCAN</center>\n",
    "\n"
   ]
  },
  {
   "cell_type": "markdown",
   "metadata": {},
   "source": [
    "- Tips:\n",
    "    - 优点：离群点较不敏感\n",
    "    - 计算一个点的相邻点较复杂：需要 KD-Tree 等数据几个辅助\n",
    "    "
   ]
  },
  {
   "cell_type": "code",
   "execution_count": 3,
   "metadata": {
    "ExecuteTime": {
     "end_time": "2021-11-24T05:15:18.392637Z",
     "start_time": "2021-11-24T05:15:18.377646Z"
    }
   },
   "outputs": [],
   "source": [
    "from sklearn.cluster import KMeans,DBSCAN # K-means、DBSCAN"
   ]
  },
  {
   "cell_type": "code",
   "execution_count": 99,
   "metadata": {
    "ExecuteTime": {
     "end_time": "2021-11-23T15:15:46.192992Z",
     "start_time": "2021-11-23T15:13:01.197828Z"
    }
   },
   "outputs": [
    {
     "data": {
      "image/png": "[encoded data removed]",
      "text/plain": [
       "<Figure size 432x288 with 9 Axes>"
      ]
     },
     "metadata": {
      "needs_background": "light"
     },
     "output_type": "display_data"
    }
   ],
   "source": [
    "n_samples = 1000 # 样本数\n",
    "circles = make_circles(n_samples=n_samples, factor=0.5, noise=0.05)\n",
    "moons = make_moons(n_samples=n_samples, noise=0.05)\n",
    "blobs = make_blobs(n_samples=n_samples, random_state=8, center_box=(-1,1), cluster_std=0.1)\n",
    "random_data = np.random.rand(n_samples, 2), None\n",
    "colors = \"bgrcmyk\" # 绘图色系\n",
    "data = [circles,moons,blobs,random_data]\n",
    "models = [(\"Kmeans\", KMeans(n_clusters=3)), (\"DBSCAN\", DBSCAN(min_samples=3, eps=0.2))]\n",
    "# models = [(\"DBSCAN\", DBSCAN(min_sampls=3, eps=0.5))]\n",
    "f = plt.figure()\n",
    "for inx,clt in enumerate(models):\n",
    "    clt_name,clt_entity = clt\n",
    "    for i,dataset in enumerate(data):\n",
    "        X,Y = dataset\n",
    "        if not clt_entity:\n",
    "            clt_res = [0 for item in range(len(X))]\n",
    "        else:\n",
    "            clt_entity.fit(X)\n",
    "            clt_res = clt_entity.labels_.astype(np.int)\n",
    "        plt.title(clt_name)\n",
    "        f.add_subplot(len(models), len(data), inx*len(data)+i+1)\n",
    "        [plt.scatter(X[p,0], X[p,1], color=colors[clt_res[p]]) for p in range(len(X))]\n",
    "plt.show()"
   ]
  },
  {
   "cell_type": "markdown",
   "metadata": {},
   "source": [
    "### 层次聚类\n",
    "\n",
    "- 层次聚类：\n",
    "\n",
    "<img style=\"float: center;\" src=\".\\figures\\层次聚类.png\" width=50%>\n",
    "<center>Fig. 层次聚类</center>\n",
    "\n",
    "- 距离衡量：\n",
    "    - 最短距离\n",
    "    - 最长距离\n",
    "    - 平均距离\n",
    "    - Ward：$$ESS = \\sum^n_{i=1}x^2_i-\\frac{1}{n}(\\sum^n_{i=1}x_i)^2$$\n",
    "- Tips:\n",
    "    - 优点：聚类灵活\n",
    "    - 缺点：计算复杂度比较高，离群点影响比较大\n"
   ]
  },
  {
   "cell_type": "code",
   "execution_count": 4,
   "metadata": {
    "ExecuteTime": {
     "end_time": "2021-11-24T05:15:36.837615Z",
     "start_time": "2021-11-24T05:15:36.821628Z"
    }
   },
   "outputs": [],
   "source": [
    "from sklearn.cluster import KMeans,DBSCAN,AgglomerativeClustering # K-means、DBSCAN、层次聚类"
   ]
  },
  {
   "cell_type": "code",
   "execution_count": 5,
   "metadata": {
    "ExecuteTime": {
     "end_time": "2021-11-24T05:26:04.486300Z",
     "start_time": "2021-11-24T05:19:26.215831Z"
    }
   },
   "outputs": [
    {
     "data": {
      "image/png": "[encoded data removed]",
      "text/plain": [
       "<Figure size 432x288 with 17 Axes>"
      ]
     },
     "metadata": {
      "needs_background": "light"
     },
     "output_type": "display_data"
    }
   ],
   "source": [
    "n_samples = 1000 # 样本数\n",
    "circles = make_circles(n_samples=n_samples, factor=0.5, noise=0.05)\n",
    "moons = make_moons(n_samples=n_samples, noise=0.05)\n",
    "blobs = make_blobs(n_samples=n_samples, random_state=8, center_box=(-1,1), cluster_std=0.1)\n",
    "random_data = np.random.rand(n_samples, 2), None\n",
    "colors = \"bgrcmyk\" # 绘图色系\n",
    "data = [circles,moons,blobs,random_data]\n",
    "models = [(\"None\", None), \n",
    "          (\"Kmeans\", KMeans(n_clusters=3)), \n",
    "          (\"DBSCAN\", DBSCAN(min_samples=3, eps=0.2)), \n",
    "          (\"Agglomerative\", AgglomerativeClustering(n_clusters=3, linkage=\"ward\"))]\n",
    "f = plt.figure()\n",
    "for inx,clt in enumerate(models):\n",
    "    clt_name,clt_entity = clt\n",
    "    for i,dataset in enumerate(data):\n",
    "        X,Y = dataset\n",
    "        if not clt_entity:\n",
    "            clt_res = [0 for item in range(len(X))]\n",
    "        else:\n",
    "            clt_entity.fit(X)\n",
    "            clt_res = clt_entity.labels_.astype(np.int)\n",
    "        plt.title(clt_name)\n",
    "        f.add_subplot(len(models), len(data), inx*len(data)+i+1)\n",
    "        [plt.scatter(X[p,0], X[p,1], color=colors[clt_res[p]]) for p in range(len(X))]\n",
    "plt.show()"
   ]
  },
  {
   "cell_type": "markdown",
   "metadata": {},
   "source": [
    "### 图分裂（Split）\n",
    "> 基于图\n",
    "\n",
    "- 承受系数：$$t = \\frac{min(W_1,W_2)}{n}$$\n",
    "- 分裂阈值：$$\\lambda = \\frac{1}{2}e^{\\frac{x}{y}}$$\n",
    "    - 其中，x：边数、y：点数\n",
    "    \n",
    "    <img style=\"float: center;\" src=\".\\figures\\图分裂.png\" width=50%>\n",
    "    <center>Fig. 图分裂</center>\n"
   ]
  },
  {
   "cell_type": "markdown",
   "metadata": {},
   "source": [
    "## 关联规则\n",
    "> 反映一个事物与其他事物之间的相互依存性和关联性  \n",
    "\n",
    "- **项目**：一个字段，对交易来说一般是指一次交易中的一个物品\n",
    "- **事务**：某个客户在一次交易中，发生的所有项目的集合（**全集**）\n",
    "- **项集**：包含若干个项目的集合（一次事务中的），是事务的**子集**\n",
    "- **频繁项集**：某个项集的支持度大于设定阈值（认为设定或依据数据分布和经验来设定），即称这个项集为频繁项集\n",
    "- **支持度（Support）**：项集 $\\{ X,Y \\}$ 在总项集中出现的概率\n",
    "- **置信度（Condfidence）**：在先决条件 $X$ 发生的条件下，由关联规则 $\\{ X\\rightarrow Y \\}$ 推出 $Y$ 的概率\n",
    "- **提升度**：表示含有 $X$ 的条件下同时含有 $Y$ 的概率，与无论是否含 $X$ 只要含 $Y$ 的概率之比$$\\frac{Confidence(\\{X\\}\\rightarrow\\{Y\\}}{Support(\\{Y\\})})$$\n"
   ]
  },
  {
   "cell_type": "markdown",
   "metadata": {},
   "source": [
    "- 例子：\n",
    "\n",
    "<img style=\"float: center;\" src=\".\\figures\\啤酒尿布.png\" width=70%>\n",
    "<center>Fig. 啤酒-尿布</center>\n",
    "\n",
    "<img style=\"float: center;\" src=\".\\figures\\牛奶咖啡.png\" width=70%>\n",
    "<center>Fig. 牛奶-咖啡</center>\n"
   ]
  },
  {
   "cell_type": "markdown",
   "metadata": {},
   "source": [
    "- Apriori\n",
    "\n",
    "<img style=\"float: center;\" src=\".\\figures\\Apriori.png\" width=50%>\n",
    "<center>Fig. Apriori</center>\n",
    "\n"
   ]
  },
  {
   "cell_type": "markdown",
   "metadata": {},
   "source": [
    "- Apriori 算法框架\n",
    "\n",
    "<img style=\"float: center;\" src=\".\\figures\\Apriori算法框架.png\" width=70%>\n",
    "<center>Fig. Apriori 算法框架</center>\n"
   ]
  },
  {
   "cell_type": "code",
   "execution_count": 32,
   "metadata": {
    "ExecuteTime": {
     "end_time": "2021-11-24T07:49:34.848110Z",
     "start_time": "2021-11-24T07:49:34.835117Z"
    }
   },
   "outputs": [],
   "source": [
    "## 定义类：关联规则\n",
    "class AssctAnaclass():\n",
    "    def fit(self, data):\n",
    "        self.apr_blk = AprBlk(data)\n",
    "        return self\n",
    "    def get_freq(self, thd=1, hd=1):\n",
    "        return self.apr_blk.getFreqItems(thd=thd, hd=hd)\n",
    "    def get_conf_high(self, thd, h_thd=10):\n",
    "        return self.apr_blk.getConf(low=False, h_thd=h_thd, l_thd=thd)\n",
    "    def get_conf__low(self, thd, hd, l_thd=1):\n",
    "        return self.apr_blk.getConf(h_thd=thd, l_thd=l_thd, hd=hd)\n",
    "    "
   ]
  },
  {
   "cell_type": "code",
   "execution_count": 33,
   "metadata": {
    "ExecuteTime": {
     "end_time": "2021-11-24T07:49:35.437525Z",
     "start_time": "2021-11-24T07:49:35.421526Z"
    }
   },
   "outputs": [],
   "source": [
    "## Apriori Block\n",
    "class AprBlk():\n",
    "    def __init__(self, data):\n",
    "        cnt = 0\n",
    "        self.apr_layers = dict()\n",
    "        self.data_num = len(data)\n",
    "        for datum in data:\n",
    "            cnt += 1\n",
    "            datum = comb(datum)\n",
    "            nodes = [AprNode(da) for da in datum]\n",
    "            for node in nodes:\n",
    "                if not node.size in self.apr_layers:\n",
    "                    self.apr_layers[node.size] = AprLayer()\n",
    "                if not node in self.apr_layers[node.size].d:\n",
    "                    self.apr_layers[node.size].d[node] = node\n",
    "                self.apr_layers[node.size].d[node].incNum()\n",
    "            for node in nodes:\n",
    "                if node.size == 1:\n",
    "                    continue\n",
    "                for sn in node.s:\n",
    "                    sub_n = AprNode(node.s-set([sn]))\n",
    "                    self.apr_layers[node.size-1].d[sub_n].addLnk(node)\n",
    "                    \n",
    "    def getFreqItems(self, thd=1, hd=1):\n",
    "        freq_items = []\n",
    "        for layer in self.apr_layers:\n",
    "            for node in self.apr_layers[layer].d:\n",
    "                if self.apr_layers[layer].d[node].num < thd:\n",
    "                    continue\n",
    "                freq_items.append((self.apr_layers[layer].d[node].s, self.apr_layers[layer].d[node].num))\n",
    "        freq_items.sort(key=lambda x: x[1], reverse=True)\n",
    "        return freq_items[:hd]\n",
    "    \n",
    "    def getConf(self, low=True, h_thd=10, l_thd=1, hd=1):\n",
    "        confidence = []\n",
    "        for layer in self.apr_layers:\n",
    "            for node in self.apr_layers[layer].d:\n",
    "                if self.apr_layers[layer].d[node].num < h_thd:\n",
    "                    continue\n",
    "                for lnk_node in node.lnk_nodes:\n",
    "                    if lnk_node.num < l_thd:\n",
    "                        continue\n",
    "                    conf = float(lnk_node.num)/float(node.num)\n",
    "                    confidence.append([node.s, node.num, lnk_node.s, lnk_node.num, conf])\n",
    "        confidence.sort(key=lambda x: x[4])\n",
    "        if low:\n",
    "            return confidence[:hd]\n",
    "        else:\n",
    "            return confidence[-hd::-1]\n",
    "                        "
   ]
  },
  {
   "cell_type": "code",
   "execution_count": 34,
   "metadata": {
    "ExecuteTime": {
     "end_time": "2021-11-24T07:49:35.974368Z",
     "start_time": "2021-11-24T07:49:35.957385Z"
    }
   },
   "outputs": [],
   "source": [
    "## \n",
    "from itertools import combinations\n",
    "def comb(lst):\n",
    "    ret =[]\n",
    "    for i in range(1, len(lst)+1):\n",
    "        ret += list(combinations(lst, i))\n",
    "    return ret\n"
   ]
  },
  {
   "cell_type": "code",
   "execution_count": 35,
   "metadata": {
    "ExecuteTime": {
     "end_time": "2021-11-24T07:49:36.498068Z",
     "start_time": "2021-11-24T07:49:36.490072Z"
    }
   },
   "outputs": [],
   "source": [
    "## \n",
    "class AprLayer(object):\n",
    "    d = dict()\n",
    "    def __init__(self):\n",
    "        self.d = dict()"
   ]
  },
  {
   "cell_type": "code",
   "execution_count": 36,
   "metadata": {
    "ExecuteTime": {
     "end_time": "2021-11-24T07:49:37.223575Z",
     "start_time": "2021-11-24T07:49:37.201591Z"
    }
   },
   "outputs": [],
   "source": [
    "## \n",
    "class AprNode(object):\n",
    "    def __init__(self, node):\n",
    "        self.s = set(node)\n",
    "        self.size = len(self.s)\n",
    "        self.lnk_nodes = dict()\n",
    "        self.num = 0\n",
    "    def __hash__(self):\n",
    "        return hash(\"__\".join(sorted([str(item) for item in list(self.s)])))\n",
    "    def __eq__(self, other):\n",
    "        if \"__\".join(sorted([str(item) for item in list(self.s)])) == \"__\".join(sorted([str(item) for item in list(other.s)])):\n",
    "            return True\n",
    "        return False\n",
    "    def isSubnode(self, node):\n",
    "        return self.s.isSubnode(node.s)\n",
    "    def incNum(self, num=1):\n",
    "        self.num += num\n",
    "    def addLnk(self, node):\n",
    "        self.lnk_nodes[node] = node.s\n",
    "    "
   ]
  },
  {
   "cell_type": "code",
   "execution_count": 37,
   "metadata": {
    "ExecuteTime": {
     "end_time": "2021-11-24T07:49:37.967310Z",
     "start_time": "2021-11-24T07:49:37.941324Z"
    }
   },
   "outputs": [
    {
     "name": "stdout",
     "output_type": "stream",
     "text": [
      "Freq [({'啤酒'}, 5), ({'尿布'}, 5), ({'尿布', '啤酒'}, 4), ({'牛奶'}, 3)]\n",
      "Conf [[{'尿布'}, 5, {'尿布', '啤酒'}, 4, 0.8], [{'啤酒'}, 5, {'尿布', '啤酒'}, 4, 0.8]]\n"
     ]
    }
   ],
   "source": [
    "## main 函数\n",
    "def main():\n",
    "    data = [[\"牛奶\",\"啤酒\",\"尿布\"],\n",
    "            [\"牛奶\",\"咖啡\",\"啤酒\",\"尿布\"],\n",
    "            [\"香肠\",\"牛奶\",\"饼干\"],\n",
    "            [\"尿布\",\"果汁\",\"啤酒\"],\n",
    "            [\"钉子\",\"啤酒\"],\n",
    "            [\"尿布\",\"毛巾\",\"香肠\"],\n",
    "            [\"啤酒\",\"毛巾\",\"尿布\",\"饼干\"]]\n",
    "    print(\"Freq\", AssctAnaclass().fit(data).get_freq(thd=3, hd=10))\n",
    "    print(\"Conf\", AssctAnaclass().fit(data).get_conf_high(thd=3, h_thd=3))\n",
    "    \n",
    "if __name__ == \"__main__\":\n",
    "    main()\n",
    "    "
   ]
  },
  {
   "cell_type": "markdown",
   "metadata": {},
   "source": [
    "## 序列规则\n",
    "> 序列规则将时间因素考虑进来，剔除关联规则中时间点靠后的项对时间点靠前的项的支持  \n",
    "\n",
    "- Apriori-All\n",
    "    - Forward: Apriori\n",
    "    - Backward: 去掉时间序列之后的项对之前的项的支持\n"
   ]
  },
  {
   "cell_type": "markdown",
   "metadata": {},
   "source": [
    "## 半监督学习\n",
    "> 样本集部分有标注，部分无标注（常远大于有标注样本）  \n",
    "\n",
    "- 获取标注的成本较大\n",
    "- 无标注样本可能很容易获得\n",
    "- 算法思想：\n",
    "    - 生成模型\n",
    "    - 判别模型（物以类聚）\n",
    "        - 标签传播算法\n",
    "        \n",
    "        <img style=\"float: center;\" src=\".\\figures\\标签传播算法.png\" width=25%>\n",
    "        <center>Fig. 标签传播算法</center>\n",
    "\n"
   ]
  },
  {
   "cell_type": "markdown",
   "metadata": {},
   "source": [
    "- Iris 数据集：\n",
    "| field | \n",
    "| :--- |\n",
    "| 花萼长度 | \n",
    "| 花萼宽度 | \n",
    "| 花瓣长度 | \n",
    "| 花瓣宽度 | \n",
    "| 种类：山鸢尾（Iris Setosa）、杂色鸢尾（Iris Versicolour）、维吉尼亚鸢尾（Iris Virginica）\n"
   ]
  },
  {
   "cell_type": "code",
   "execution_count": 82,
   "metadata": {
    "ExecuteTime": {
     "end_time": "2021-11-24T11:52:06.421700Z",
     "start_time": "2021-11-24T11:52:06.402691Z"
    }
   },
   "outputs": [],
   "source": [
    "## 导包\n",
    "import numpy as np # 数值计算"
   ]
  },
  {
   "cell_type": "code",
   "execution_count": 83,
   "metadata": {
    "ExecuteTime": {
     "end_time": "2021-11-24T11:52:07.056892Z",
     "start_time": "2021-11-24T11:52:07.024886Z"
    }
   },
   "outputs": [
    {
     "name": "stdout",
     "output_type": "stream",
     "text": [
      "Data Size: 150\n",
      "Unlabeled Number: 44\n"
     ]
    }
   ],
   "source": [
    "from sklearn import datasets # 数据集包\n",
    "iris = datasets.load_iris() # 导入鸢尾花数据集\n",
    "labels = np.copy(iris.target) # 复制标签\n",
    "print(\"Data Size:\", len(labels))\n",
    "# 随机生成未标注数据（标签为 -1）\n",
    "random_unlabeled_points = np.random.rand(len(iris.target))\n",
    "random_unlabeled_points = random_unlabeled_points < 0.3\n",
    "Y = labels[random_unlabeled_points]\n",
    "labels[random_unlabeled_points] = -1\n",
    "print(\"Unlabeled Number:\", list(labels).count(-1))"
   ]
  },
  {
   "cell_type": "code",
   "execution_count": 84,
   "metadata": {
    "ExecuteTime": {
     "end_time": "2021-11-24T11:52:07.906217Z",
     "start_time": "2021-11-24T11:52:07.886230Z"
    }
   },
   "outputs": [
    {
     "name": "stdout",
     "output_type": "stream",
     "text": [
      "[0 0 0 0 0 0 0 0 0 0 0 0 0 0 0 0 0 0 0 0 0 0 0 0 0 0 0 0 0 0 0 0 0 0 0 0 0\n",
      " 0 0 0 0 0 0 0 0 0 0 0 0 0 1 1 1 1 1 1 1 1 1 1 1 1 1 1 1 1 1 1 1 1 1 1 1 1\n",
      " 1 1 1 1 1 1 1 1 1 1 1 1 1 1 1 1 1 1 1 1 1 1 1 1 1 1 2 2 2 2 2 2 2 2 2 2 2\n",
      " 2 2 2 2 2 2 2 2 2 2 2 2 2 2 2 2 2 2 2 2 2 2 2 2 2 2 2 2 2 2 2 2 2 2 2 2 2\n",
      " 2 2]\n",
      "[ 0  0  0  0  0  0  0  0  0  0  0  0  0 -1 -1  0  0  0  0  0 -1  0 -1  0\n",
      "  0  0 -1  0  0  0 -1  0  0 -1 -1  0  0  0 -1  0  0 -1  0 -1 -1 -1  0  0\n",
      "  0  0 -1  1 -1  1  1  1 -1 -1  1  1  1  1 -1 -1 -1  1  1  1 -1  1 -1  1\n",
      "  1 -1  1  1  1  1  1  1  1  1  1  1  1  1 -1 -1  1  1 -1 -1 -1 -1 -1  1\n",
      "  1 -1  1  1  2 -1  2 -1  2  2  2  2  2  2  2  2 -1  2  2  2  2 -1  2  2\n",
      " -1 -1 -1  2 -1  2  2 -1  2  2  2 -1  2  2 -1  2  2 -1  2  2  2 -1  2  2\n",
      "  2  2  2  2  2  2]\n"
     ]
    }
   ],
   "source": [
    "print(iris.target)\n",
    "print(labels)"
   ]
  },
  {
   "cell_type": "code",
   "execution_count": 85,
   "metadata": {
    "ExecuteTime": {
     "end_time": "2021-11-24T11:52:08.992805Z",
     "start_time": "2021-11-24T11:52:08.937844Z"
    }
   },
   "outputs": [],
   "source": [
    "from sklearn.semi_supervised import LabelPropagation # 标签传播算法\n",
    "label_prop_model = LabelPropagation() # 模型：标签传播算法\n",
    "label_prop_model.fit(iris.data, labels) # 拟合\n",
    "Y_pred = label_prop_model.predict(iris.data) # 预测\n",
    "Y_pred = Y_pred[random_unlabeled_points]"
   ]
  },
  {
   "cell_type": "code",
   "execution_count": 86,
   "metadata": {
    "ExecuteTime": {
     "end_time": "2021-11-24T11:52:09.831607Z",
     "start_time": "2021-11-24T11:52:09.811619Z"
    }
   },
   "outputs": [
    {
     "name": "stdout",
     "output_type": "stream",
     "text": [
      "ACC: 0.9772727272727273\n",
      "REC: 0.9772727272727273\n",
      "F-Score: 0.9772727272727273\n"
     ]
    }
   ],
   "source": [
    "## 模型评价\n",
    "from sklearn.metrics import accuracy_score,recall_score,f1_score # 准确率、召回率、F 值\n",
    "print(\"ACC:\", accuracy_score(Y, Y_pred))\n",
    "print(\"REC:\", recall_score(Y, Y_pred, average=\"micro\"))\n",
    "print(\"F-Score:\", f1_score(Y, Y_pred, average=\"micro\"))"
   ]
  },
  {
   "cell_type": "markdown",
   "metadata": {},
   "source": [
    "## 小结\n",
    "- 分类：KNN、朴素贝叶斯、决策树、SVM、逻辑映射、GBDT、集成方法、神经网络\n",
    "- 回归：线性回归、逻辑回归、神经网络、回归树与提升树\n",
    "- 聚类：K-means、DBSCAN、AgglomerativeCluster、Split\n",
    "- 关联：关联规则、序列规则\n",
    "- 半监督：标签传播\n",
    "- 如何选择模型：\n",
    "![模型选择](.\\\\figures\\\\ml_map.png)\n"
   ]
  },
  {
   "cell_type": "markdown",
   "metadata": {},
   "source": [
    "# 模型评估\n",
    "\n",
    "## 分类模型评估\n",
    "\n",
    "### 二分类\n",
    "- 样本-预测\n",
    "    - 测试集：Y_test = [0,1,0,0,...,0,1]\n",
    "    - 处理后的预测结果：Y_pred = [0,1,1,0,...,0,1]\n",
    "    - 实际预测为一个概率：Y_pred = [0.1,0.8,0.6,0.2,...,0.2,0.9]\n",
    "- 混淆矩阵\n",
    "    - TP(True Positive): 实际为正类，预测为正类\n",
    "    - FN(False Negative): 实际为正类，预测为负类（漏）\n",
    "    - FP(False Positive): 实际为负类，预测为正类（错）\n",
    "    - TN(True Negative): 实际为负类，预测为负类\n",
    "    \n",
    "<img style=\"float: center;\" src=\".\\figures\\混淆矩阵.png\" width=70%>\n",
    "<center>Fig. 混淆矩阵</center>\n"
   ]
  },
  {
   "cell_type": "markdown",
   "metadata": {},
   "source": [
    "- 关键指标\n",
    "    - **正确率**（Accuracy Rate）：$$\\frac{TP+TN}{TP+TN+FN+FP}$$\n",
    "    - **召回率**（TPR, True Positive Rate/Recall）：$$\\frac{TP}{TP+FN}$$\n",
    "    - **F-measure**（F-score）：$$\\frac{2*Recall*Accuracy}{Recall+Accuracy}$$\n",
    "    - 查准率/精准率（Precision）：$$\\frac{TP}{TP+FP}$$\n",
    "    - 错误接收率（FPR, False Positive Rate）：$$\\frac{FP}{FP+TN}$$\n",
    "    - 错误拒绝率（FRR, False Rejection Rate）：$$\\frac{FN}{TP+FN}$$\n"
   ]
  },
  {
   "cell_type": "markdown",
   "metadata": {},
   "source": [
    "### 多分类\n",
    "- 多元混淆矩阵\n",
    "\n",
    "<img style=\"float: center;\" src=\".\\figures\\多元混淆矩阵.png\" width=35%>\n",
    "<center>Fig. 多元混淆矩阵</center>\n",
    "\n",
    "- 准确率：保持\n",
    "- 召回率与 F 值：\n",
    "    1. 先计算所有的 $TP, FN$ 等，再以二值方法计算\n",
    "    2. 分别把每个类当作正类，都计算一个召回率或者 F 值，然后取加权或者不加权平均\n",
    "    "
   ]
  },
  {
   "cell_type": "markdown",
   "metadata": {},
   "source": [
    "### ROC 与 AUC\n",
    "- ROC: Receiver Operating characteristic Curve\n",
    "    - ROC 曲线可以很容易的看到任意界限值对性能识别的影响力\n",
    "- AUC: Area Under Curve\n",
    "\n",
    "<img style=\"float: center;\" src=\".\\figures\\roc-auc.png\" width=80%>\n",
    "<center>Fig. ROC 与 AUC</center>\n"
   ]
  },
  {
   "cell_type": "code",
   "execution_count": 15,
   "metadata": {
    "ExecuteTime": {
     "end_time": "2021-11-27T06:47:08.531674Z",
     "start_time": "2021-11-27T06:47:08.514684Z"
    }
   },
   "outputs": [],
   "source": [
    "## 导包\n",
    "import numpy as np # 数值计算\n",
    "import pandas as pd # 数据分析"
   ]
  },
  {
   "cell_type": "code",
   "execution_count": 16,
   "metadata": {
    "ExecuteTime": {
     "end_time": "2021-11-27T06:47:09.035825Z",
     "start_time": "2021-11-27T06:47:09.028850Z"
    }
   },
   "outputs": [],
   "source": [
    "from sklearn.preprocessing import MinMaxScaler,StandardScaler # 归一化、标准化\n",
    "from sklearn.preprocessing import LabelEncoder,OneHotEncoder # 标签化、独热编码\n",
    "from sklearn.preprocessing import Normalizer # \n",
    "from sklearn.discriminant_analysis import LinearDiscriminantAnalysis # LDA 降维\n",
    "from sklearn.decomposition import PCA # PCA 降维"
   ]
  },
  {
   "cell_type": "code",
   "execution_count": 17,
   "metadata": {
    "ExecuteTime": {
     "end_time": "2021-11-27T06:47:09.650894Z",
     "start_time": "2021-11-27T06:47:09.628909Z"
    }
   },
   "outputs": [],
   "source": [
    "## \n",
    "# @arg\n",
    "# sl: statisfaction_level --- Flase: MinMaxScaler; True: StandardScaler\n",
    "# le: last_evaluation --- Flase: MinMaxScaler; True: StandardScaler\n",
    "# npr: number_project --- Flase: MinMaxScaler; True: StandardScaler\n",
    "# amh: average_monthly_hours --- Flase: MinMaxScaler; True: StandardScaler\n",
    "# tsc: time_spend_company --- Flase: MinMaxScaler; True: StandardScaler\n",
    "# wa: Work_accident --- Flase: MinMaxScaler; True: StandardScaler\n",
    "# pl5: promotion_last_5years --- Flase: MinMaxScaler; True: StandardScaler\n",
    "# dp: Department --- False: LabelEncoding; True: OneHotEncoding\n",
    "# slr: salary --- False: LabelEncoding; True: OneHotEncoding\n",
    "# lower_d: 是否降维 --- Default: False\n",
    "# ld_n: 保留的维数 --- Default: 1\n",
    "def hr_preprocessing(sl=False, le=False, npr=False, amh=False, tsc=False, wa=False, pl5=False, dp=False, slr=False, lower_d=False, ld_n=1):\n",
    "    ## 0. 加载数据\n",
    "    df = pd.read_csv(\".//datasets//HR_comma_sep.csv\")\n",
    "    \n",
    "    ## 1. 清洗数据（去除异常值、抽样，这里数据量较小不进行抽样了）\n",
    "    df = df.dropna(subset=[\"satisfaction_level\",\"last_evaluation\"])\n",
    "    df = df[df[\"satisfaction_level\"]<=1][df[\"salary\"]!=\"nme\"]\n",
    "    \n",
    "    ## 2. 得到标注\n",
    "    label = df[\"left\"]\n",
    "    df = df.drop(\"left\", axis=1)\n",
    "    \n",
    "    ## 3. 特征选择\n",
    "    \n",
    "    \n",
    "    ## 4. 特征处理\n",
    "    # 对 \"satisfaction_level\", \"last_evaluation\", \"number_project\",\n",
    "    # \"average_monthly_hours\", \"time_spend_company\", \"Work_accident\",\n",
    "    # \"promotion_last_5years\" 进行归一化和标准化\n",
    "    scaler_lst = [sl, le, npr, amh, tsc, wa, pl5]\n",
    "    column_lst = [\"satisfaction_level\", \"last_evaluation\", \"number_project\", \n",
    "                  \"average_monthly_hours\", \"time_spend_company\", \"Work_accident\", \n",
    "                  \"promotion_last_5years\"]\n",
    "    for i in range(len(scaler_lst)):\n",
    "        if not scaler_lst[i]:\n",
    "            df[column_lst[i]] =\\\n",
    "            MinMaxScaler().fit_transform(df[column_lst[i]].values.reshape(-1,1)).reshape(1,-1)[0]\n",
    "        else:\n",
    "            df[column_lst[i]] =\\\n",
    "            StandardScaler().fit_transform(df[column_lst[i]].values.reshape(-1,1)).reshape(1,-1)[0]\n",
    "    # 对 \"Department\", \"salary\" 进行标签化和归一化\n",
    "    scaler_lst = [dp, slr]\n",
    "    column_lst = [\"Department\", \"salary\"]\n",
    "    for i in range(len(scaler_lst)):\n",
    "        if not scaler_lst[i]:\n",
    "            if column_lst[i] == \"salary\":\n",
    "                df[column_lst[i]] = [map_salary(s) for s in df[\"salary\"].values]\n",
    "            else:\n",
    "                df[column_lst[i]] = LabelEncoder().fit_transform(df[column_lst[i]])\n",
    "            df[column_lst[i]] = MinMaxScaler().fit_transform(df[column_lst[i]].values.reshape(-1,1)).reshape(1,-1)[0]\n",
    "        else:\n",
    "            df = pd.get_dummies(df, columns=[column_lst[i]])\n",
    "    # 降维\n",
    "    if lower_d:\n",
    "        return PCA(n_components=ld_n).fit_transform(df.values),label\n",
    "#         return LinearDiscriminantAnalysis(n_components=ld_n)\n",
    "    \n",
    "    return df,label\n",
    "\n"
   ]
  },
  {
   "cell_type": "code",
   "execution_count": 18,
   "metadata": {
    "ExecuteTime": {
     "end_time": "2021-11-27T06:47:10.306247Z",
     "start_time": "2021-11-27T06:47:10.300242Z"
    }
   },
   "outputs": [],
   "source": [
    "##\n",
    "d = dict([(\"low\",0), (\"medium\",1), (\"high\",2)])\n",
    "def map_salary(s):\n",
    "    return d.get(s,0)\n"
   ]
  },
  {
   "cell_type": "code",
   "execution_count": 21,
   "metadata": {
    "ExecuteTime": {
     "end_time": "2021-11-27T06:50:12.799620Z",
     "start_time": "2021-11-27T06:50:12.764641Z"
    }
   },
   "outputs": [],
   "source": [
    "# %load \".\\\\code\\\\load_hr_modeling.py\"\n",
    "## 建模分析\n",
    "def hr_modeling(features, label):\n",
    "    from sklearn.model_selection import train_test_split\n",
    "    f_v = features.values # 特征值\n",
    "    f_names = features.columns.values # 特征名\n",
    "    l_v = label.values # 标注\n",
    "    # 测试集：X_tt, Y_tt\n",
    "    # 验证集：X_validation, Y_validation\n",
    "    X_tt,X_validation,Y_tt,Y_validation = train_test_split(f_v, l_v, test_size=0.2)\n",
    "    X_train,X_test,Y_train,Y_test = train_test_split(X_tt, Y_tt, test_size=0.25)\n",
    "    print(len(X_train), len(X_validation), len(X_test))\n",
    "    \n",
    "    ## 模型构建\n",
    "    from sklearn.metrics import accuracy_score,recall_score,f1_score # 模型评价\n",
    "    from sklearn.neighbors import NearestNeighbors,KNeighborsClassifier # KNN\n",
    "    from sklearn.naive_bayes import GaussianNB,BernoulliNB # 高斯朴素贝叶斯、伯努利朴素贝叶斯\n",
    "    from sklearn.tree import DecisionTreeClassifier # 决策树\n",
    "    from sklearn.svm import SVC # 支持向量机\n",
    "    from sklearn.ensemble import RandomForestClassifier # 随机森林\n",
    "    from sklearn.ensemble import AdaBoostClassifier # AdaBoost\n",
    "    from sklearn.linear_model import LogisticRegression # Logistic 回归\n",
    "    from keras.models import Sequential # 序贯模型\n",
    "    from keras.layers.core import Dense,Activation # 稠密层、激活函数\n",
    "    from tensorflow.keras.optimizers import SGD # 随机梯度下降\n",
    "    f = open(\".\\\\output\\\\NNLog2.log\", 'a') # 自动文件指针打开待写入文件\n",
    "    mdl = Sequential()\n",
    "    mdl.add(Dense(50, input_dim=len(f_v[0]))) # 输入层：指定隐含层神经元个数为 50\n",
    "    mdl.add(Activation(\"sigmoid\")) # 激活函数\n",
    "    mdl.add(Dense(2)) # 输出层\n",
    "    mdl.add(Activation(\"softmax\")) # 归一化\n",
    "    sgd = SGD(lr=0.05) # 学习率\n",
    "    mdl.compile(loss=\"mean_squared_error\", optimizer=\"adam\") # 编译: 损失函数-均方误差、优化器-亚当优化器\n",
    "    history = mdl.fit(X_train, np.array([[0,1] if i == 1 else [1,0] for i in Y_train]), epochs=10000, batch_size=8999, verbose=0)\n",
    "    print(\"History:\", dir(history), file=f) #\n",
    "    loss_val = history.history\n",
    "    print(\"Loss Function:\", loss_val, file=f) # 损失和评估值\n",
    "    f.close() # 关闭文件\n",
    "    xy_lst = [(X_train,Y_train), (X_validation,Y_validation), (X_test,Y_test)]\n",
    "    import matplotlib.pyplot as plt # 数据可视化\n",
    "    from sklearn.metrics import roc_curve,auc,roc_auc_score # ROC、AUC 评价曲线\n",
    "    f = plt.figure()\n",
    "    set_name = [\"Train:\", \"Validation:\", \"Test:\"]\n",
    "    for i in range(len(xy_lst)):\n",
    "        X_part = xy_lst[i][0]\n",
    "        Y_part = xy_lst[i][1]\n",
    "        Y_pred = mdl.predict(X_part)\n",
    "        print(Y_pred)\n",
    "        Y_pred = np.array(Y_pred[:,1]).reshape((1,-1))[0]\n",
    "        print(i, set_name[i])\n",
    "#         print(\"NN\", \"- ACC:\", accuracy_score(Y_part, Y_pred))\n",
    "#         print(\"NN\", \"- REC:\", recall_score(Y_part, Y_pred))\n",
    "#         print(\"NN\", \"- F1:\", f1_score(Y_part, Y_pred))\n",
    "        f.add_subplot(1,3,i+1)\n",
    "        fpr,tpr,threshold = roc_curve(Y_part, Y_pred)\n",
    "        plt.plot(fpr, tpr)\n",
    "        print(\"NN\", \"AUC\", auc(fpr, tpr))\n",
    "        print(\"NN\", \"AUC_Score\", roc_auc_score(Y_part, Y_pred))\n",
    "    plt.show()\n",
    "    # 绘制损失函数曲线\n",
    "    plt.figure()\n",
    "    plt.plot(loss_val['loss'])\n",
    "    plt.title(\"Loss Function\")\n",
    "    plt.xlabel(\"Epochs\")\n",
    "    plt.ylabel(\"MSE Value\")\n",
    "    return \n",
    "    \n",
    "    models = [] # 初始化存放模型的元组\n",
    "    \n",
    "#     models.append((\"KNN\", KNeighborsClassifier(n_neighbors=3))) # KNN\n",
    "#     models.append((\"GaussianNB\", GaussianNB())) # Gaussian Naive Bayes\n",
    "#     models.append((\"BernoulliNB\", BernoulliNB())) # BernoulliNB Naive Bayes\n",
    "#     models.append((\"DecisionTreeGini\", DecisionTreeClassifier())) # 决策树：Gini 系数\n",
    "#     models.append((\"DecisionTreeEntropy\", DecisionTreeClassifier(criterion=\"entropy\"))) # 决策树：信息熵\n",
    "#     models.append((\"SVM Classifier\", SVC(C=1000))) # 支持向量机：C 值越大模型越准确，计算时间越长\n",
    "    models.append((\"OriginalRandomForest\", RandomForestClassifier())) # 随机森林\n",
    "#     models.append((\"RandomForest\", RandomForestClassifier(n_estimators=11, max_features=None))) # 随机森林\n",
    "#     models.append((\"AdaBoost\", AdaBoostClassifier())) # AdaBoost\n",
    "    models.append((\"LogisticRegression\", LogisticRegression(max_iter=10000))) # Logistic 回归\n",
    "    for clf_name,clf in models:\n",
    "        print(\"++++\", clf_name, \"++++\")\n",
    "        clf.fit(X_train, Y_train)\n",
    "        xy_lst = [(X_train,Y_train), (X_validation,Y_validation), (X_test,Y_test)]\n",
    "        set_name = [\"Train:\", \"Validation:\", \"Test:\"]\n",
    "        for i in range(len(xy_lst)):\n",
    "            X_part = xy_lst[i][0]\n",
    "            Y_part = xy_lst[i][1]\n",
    "            Y_pred = clf.predict(X_part)\n",
    "#             print(i)\n",
    "            print(i, set_name[i])\n",
    "            print(clf_name, \"- ACC:\", accuracy_score(Y_part, Y_pred))\n",
    "            print(clf_name, \"- REC:\", recall_score(Y_part, Y_pred))\n",
    "            print(clf_name, \"- F1:\", f1_score(Y_part, Y_pred))\n",
    "\n"
   ]
  },
  {
   "cell_type": "code",
   "execution_count": 22,
   "metadata": {
    "ExecuteTime": {
     "end_time": "2021-11-27T06:51:47.874567Z",
     "start_time": "2021-11-27T06:50:15.988986Z"
    }
   },
   "outputs": [
    {
     "name": "stdout",
     "output_type": "stream",
     "text": [
      "8999 3000 3000\n"
     ]
    },
    {
     "name": "stderr",
     "output_type": "stream",
     "text": [
      "C:\\Users\\kisso\\.conda\\envs\\tensorflow_gpu\\lib\\site-packages\\keras\\optimizer_v2\\gradient_descent.py:102: UserWarning: The `lr` argument is deprecated, use `learning_rate` instead.\n",
      "  super(SGD, self).__init__(name, **kwargs)\n"
     ]
    },
    {
     "name": "stdout",
     "output_type": "stream",
     "text": [
      "[[9.9999905e-01 9.5208941e-07]\n",
      " [1.7219359e-01 8.2780641e-01]\n",
      " [9.9999976e-01 2.3489706e-07]\n",
      " ...\n",
      " [9.9999976e-01 1.8042572e-07]\n",
      " [9.9562520e-01 4.3748510e-03]\n",
      " [8.9505219e-01 1.0494784e-01]]\n",
      "0 Train:\n",
      "NN AUC 0.9606671719662442\n",
      "NN AUC_Score 0.9606671719662442\n",
      "[[9.9999666e-01 3.3943068e-06]\n",
      " [1.0000000e+00 1.8170937e-08]\n",
      " [9.5883352e-01 4.1166477e-02]\n",
      " ...\n",
      " [8.2812263e-03 9.9171877e-01]\n",
      " [9.9999869e-01 1.3047901e-06]\n",
      " [1.1499173e-01 8.8500822e-01]]\n",
      "1 Validation:\n",
      "NN AUC 0.9542053329083119\n",
      "NN AUC_Score 0.9542053329083119\n",
      "[[9.9999940e-01 5.5377353e-07]\n",
      " [9.9913067e-01 8.6935004e-04]\n",
      " [1.0000000e+00 4.2973516e-10]\n",
      " ...\n",
      " [1.0000000e+00 2.9888266e-08]\n",
      " [1.0000000e+00 4.0144585e-18]\n",
      " [1.0000000e+00 5.5809878e-08]]\n",
      "2 Test:\n",
      "NN AUC 0.9631139965805646\n",
      "NN AUC_Score 0.9631139965805646\n"
     ]
    },
    {
     "data": {
      "image/png": "[encoded data removed]",
      "text/plain": [
       "<Figure size 432x288 with 3 Axes>"
      ]
     },
     "metadata": {
      "needs_background": "light"
     },
     "output_type": "display_data"
    },
    {
     "data": {
      "image/png": "[encoded data removed]",
      "text/plain": [
       "<Figure size 432x288 with 1 Axes>"
      ]
     },
     "metadata": {
      "needs_background": "light"
     },
     "output_type": "display_data"
    }
   ],
   "source": [
    "## \n",
    "def main():\n",
    "#     print(hr_preprocessing(sl=True, le=True, lower_d=False, ld_n=3))\n",
    "    features,label = hr_preprocessing()\n",
    "    hr_modeling(features, label)\n",
    "    \n",
    "if __name__ == \"__main__\":\n",
    "    main()\n",
    "    \n",
    "    "
   ]
  },
  {
   "cell_type": "markdown",
   "metadata": {},
   "source": [
    "### 增益图与 KS 图\n",
    "\n",
    "<img style=\"float: center;\" src=\".\\figures\\增益图与KS图.png\" width=50%>\n",
    "<center>Fig. 增益图与 KS 图</center>\n",
    "\n"
   ]
  },
  {
   "cell_type": "markdown",
   "metadata": {},
   "source": [
    "## 回归模型评估\n",
    "- 关键指标\n",
    "    - 平均绝对误差（**MAE**, Mean Absolute Error）：$$MAE = \\frac{1}{n}\\sum^n_{i=1}|f_i-y_i|=\\frac{1}{n}\\sum^n_{i=1}|e_i|$$\n",
    "    - 残差平方和（**MSE**, Mean Square Error）：$$MSE = \\frac{1}{n}\\sum^n_{i=1}(f_i-y_i)^2=\\frac{1}{n}\\sum^n_{i=1}(e_i)^2$$\n",
    "    - 均方根误差（**RMSE**, Root MSE）：$$RMSE = \\sqrt{MSE}$$\n",
    "    - 决定系数（**r2_score**）：$$R^2 = \\frac{SSR}{SST} = \\frac{\\sum^n_{i=1}(\\hat{y}_i-\\bar{y})^2}{\\sum^n_{i=1}(y_i-\\bar{y})^2}$$\n"
   ]
  },
  {
   "cell_type": "code",
   "execution_count": 12,
   "metadata": {
    "ExecuteTime": {
     "end_time": "2021-11-25T04:18:01.087996Z",
     "start_time": "2021-11-25T04:18:01.077003Z"
    }
   },
   "outputs": [],
   "source": [
    "## 回归\n",
    "def regr_test(features, label):\n",
    "    print(\"X\", features)\n",
    "    print(\"Y\", label)\n",
    "    from sklearn.linear_model import LinearRegression,Ridge,Lasso # 线性回归、岭回归、Lasso 回归\n",
    "#     regr = LinearRegression() # 线性回归\n",
    "    regr = Ridge(alpha=0.8) # 岭回归\n",
    "#     regr = Lasso(alpha=0.002) # Lasso 回归\n",
    "    regr.fit(features.values, label.values)\n",
    "    Y_pred = regr.predict(features.values)\n",
    "    print(\"Coef\", regr.coef_)\n",
    "    # 模型评价\n",
    "    from sklearn.metrics import mean_squared_error,mean_absolute_error,r2_score # 评价指标：MSE、MAE、R2\n",
    "    print(\"MSE:\", mean_squared_error(label.values, Y_pred)) # 打印均方误差\n",
    "    print(\"MAE:\", mean_absolute_error(label.values, Y_pred)) # 打印平均绝对误差\n",
    "    print(\"R2:\", r2_score(label.values, Y_pred)) # 打印决定系数\n"
   ]
  },
  {
   "cell_type": "code",
   "execution_count": 13,
   "metadata": {
    "ExecuteTime": {
     "end_time": "2021-11-25T04:18:01.987168Z",
     "start_time": "2021-11-25T04:18:01.826242Z"
    }
   },
   "outputs": [
    {
     "name": "stdout",
     "output_type": "stream",
     "text": [
      "X        number_project  average_monthly_hours\n",
      "0                 0.0               0.285047\n",
      "1                 0.6               0.775701\n",
      "2                 1.0               0.822430\n",
      "3                 0.6               0.593458\n",
      "4                 0.0               0.294393\n",
      "...               ...                    ...\n",
      "14994             0.0               0.257009\n",
      "14995             0.0               0.299065\n",
      "14996             0.0               0.219626\n",
      "14997             0.8               0.859813\n",
      "14998             0.0               0.289720\n",
      "\n",
      "[14999 rows x 2 columns]\n",
      "Y 0        0.265625\n",
      "1        0.781250\n",
      "2        0.812500\n",
      "3        0.796875\n",
      "4        0.250000\n",
      "           ...   \n",
      "14994    0.328125\n",
      "14995    0.187500\n",
      "14996    0.265625\n",
      "14997    0.937500\n",
      "14998    0.250000\n",
      "Name: last_evaluation, Length: 14999, dtype: float64\n",
      "Coef [0.27251659 0.26898178]\n",
      "MSE: 0.05953801161410218\n",
      "MAE: 0.2043526214030418\n",
      "R2: 0.16759928987894634\n"
     ]
    }
   ],
   "source": [
    "# %load \".\\\\code\\\\load_main.py\"\n",
    "## main\n",
    "def main():\n",
    "    features,label = hr_preprocessing()\n",
    "    regr_test(features[[\"number_project\",\"average_monthly_hours\"]], features[\"last_evaluation\"])\n",
    "#     hr_modeling(features, label)\n",
    "    \n",
    "if __name__ == \"__main__\":\n",
    "    main()\n",
    "    \n"
   ]
  },
  {
   "cell_type": "markdown",
   "metadata": {},
   "source": [
    "## 聚类模型评估\n",
    "- 关键指标\n",
    "    - 均方根（**RMS**, Root Mean Square）：$$RMS = \\frac{1}{n}\\sqrt{\\sum^n_{i=1}(x_i-\\bar{x})^2}$$\n",
    "    - **轮廓系数**：$a(i)$ 为样本 $i$ 与簇内其他样本的平均距离；$b(i)$ 为样本 $i$ 与其他某簇样本的平均距离，多个簇 $b(i)$ 取最小$$s(i) = \\frac{b(i)-a(i)}{max\\{a(i),b(i)\\}}$$\n"
   ]
  },
  {
   "cell_type": "code",
   "execution_count": 14,
   "metadata": {
    "ExecuteTime": {
     "end_time": "2021-11-25T06:40:15.543517Z",
     "start_time": "2021-11-25T06:40:14.665648Z"
    }
   },
   "outputs": [],
   "source": [
    "## 导包\n",
    "import numpy as np # 数值计算\n",
    "import matplotlib.pyplot as plt # 绘图"
   ]
  },
  {
   "cell_type": "code",
   "execution_count": 15,
   "metadata": {
    "ExecuteTime": {
     "end_time": "2021-11-25T06:41:47.414057Z",
     "start_time": "2021-11-25T06:41:47.035483Z"
    }
   },
   "outputs": [],
   "source": [
    "from sklearn.datasets import make_circles,make_blobs,make_moons # 引用数据集\n",
    "from sklearn.cluster import KMeans,DBSCAN,AgglomerativeClustering # K-means、DBSCAN、层次聚类"
   ]
  },
  {
   "cell_type": "code",
   "execution_count": 17,
   "metadata": {
    "ExecuteTime": {
     "end_time": "2021-11-25T06:52:33.167579Z",
     "start_time": "2021-11-25T06:46:23.069284Z"
    }
   },
   "outputs": [
    {
     "name": "stdout",
     "output_type": "stream",
     "text": [
      "Kmeans 0 0.389855717675993\n",
      "Kmeans 1 0.42833062988234666\n",
      "Kmeans 2 0.8260921886020176\n",
      "Kmeans 3 0.39304291583237216\n",
      "DBSCAN 0 0.11334994640979625\n",
      "DBSCAN 1 0.33264082008537676\n",
      "DBSCAN 2 0.8260921886020176\n",
      "Agglomerative 0 0.3624382024078824\n",
      "Agglomerative 1 0.4191508445873224\n",
      "Agglomerative 2 0.8260921886020176\n",
      "Agglomerative 3 0.3527595430255033\n"
     ]
    },
    {
     "data": {
      "image/png": "[encoded data removed]",
      "text/plain": [
       "<Figure size 432x288 with 17 Axes>"
      ]
     },
     "metadata": {
      "needs_background": "light"
     },
     "output_type": "display_data"
    }
   ],
   "source": [
    "n_samples = 1000 # 样本数\n",
    "circles = make_circles(n_samples=n_samples, factor=0.5, noise=0.05)\n",
    "moons = make_moons(n_samples=n_samples, noise=0.05)\n",
    "blobs = make_blobs(n_samples=n_samples, random_state=8, center_box=(-1,1), cluster_std=0.1)\n",
    "random_data = np.random.rand(n_samples, 2), None\n",
    "colors = \"bgrcmyk\" # 绘图色系\n",
    "data = [circles,moons,blobs,random_data]\n",
    "models = [(\"None\", None), \n",
    "          (\"Kmeans\", KMeans(n_clusters=3)), \n",
    "          (\"DBSCAN\", DBSCAN(min_samples=3, eps=0.2)), \n",
    "          (\"Agglomerative\", AgglomerativeClustering(n_clusters=3, linkage=\"ward\"))]\n",
    "from sklearn.metrics import silhouette_score # 轮廓系数\n",
    "f = plt.figure()\n",
    "for inx,clt in enumerate(models):\n",
    "    clt_name,clt_entity = clt\n",
    "    for i,dataset in enumerate(data):\n",
    "        X,Y = dataset\n",
    "        if not clt_entity:\n",
    "            clt_res = [0 for item in range(len(X))]\n",
    "        else:\n",
    "            clt_entity.fit(X)\n",
    "            clt_res = clt_entity.labels_.astype(np.int)\n",
    "        plt.title(clt_name)\n",
    "        try:\n",
    "            print(clt_name, i, silhouette_score(X, clt_res))\n",
    "        except:\n",
    "            pass\n",
    "        f.add_subplot(len(models), len(data), inx*len(data)+i+1)\n",
    "        [plt.scatter(X[p,0], X[p,1], color=colors[clt_res[p]]) for p in range(len(X))]\n",
    "plt.show()"
   ]
  },
  {
   "cell_type": "markdown",
   "metadata": {},
   "source": [
    "## 关联模型评估\n",
    "- 关键指标\n",
    "    - **支持度（Support）**：项集 $\\{ X,Y \\}$ 在总项集中出现的概率\n",
    "    - **置信度（Condfidence）**：在先决条件 $X$ 发生的条件下，由关联规则 $\\{ X\\rightarrow Y \\}$ 推出 $Y$ 的概率\n",
    "    - **提升度**：表示含有 $X$ 的条件下同时含有 $Y$ 的概率，与无论是否含 $X$ 只要含 $Y$ 的概率之比$$\\frac{Confidence(\\{X\\}\\rightarrow\\{Y\\}}{Support(\\{Y\\})})$$\n",
    "\n"
   ]
  },
  {
   "cell_type": "markdown",
   "metadata": {},
   "source": [
    "# 数据挖掘总结\n",
    "\n",
    "## 数据分析全流程\n",
    "\n",
    "<img style=\"float: center;\" src=\".\\figures\\数据分析总结.png\" width=50%>\n",
    "<center>Fig. 数据分析全流程</center>\n",
    "\n"
   ]
  },
  {
   "cell_type": "markdown",
   "metadata": {},
   "source": [
    "## 多角度看数据分析\n",
    "\n",
    "| 目的论 | 过程论 | 方法论 |\n",
    "| :---: | :---: | :---: |\n",
    "| 描述 | 数据采集 | 对比分析 \n",
    "| 断因 | 探索分析 | 交叉分析 \n",
    "| 预测 | 特征工程 | 分组分析 \n",
    "| 决策 | 数据建模 | 因素分析 \n",
    "|     | 模型评估 | 漏斗图 \n",
    "|     | 模型应用 | 主成分分析 \n",
    "|     | 模型融合 | 聚类分析 \n",
    "|     |       | ...... \n"
   ]
  },
  {
   "cell_type": "markdown",
   "metadata": {},
   "source": [
    "## 大数据\n",
    "- 特点\n",
    "    - Volume：数据量大\n",
    "    - Variety：种类繁多\n",
    "    - Value：价值密度低\n",
    "    - Velocity：处理速度快\n",
    "    - Online：永远在线\n",
    "- 思想：思想不变\n",
    "- 工具：Hadoop, Spark, SparkSQL, Hive, MLLIB, MAX_COMPUTE\n",
    "- 职位：大数据挖掘与开发工程师（偏算法）、大数据开发工程师（偏工程）\n",
    "- 大数据工具与单机数据分析工具对比\n",
    "\n",
    "| ITEM | Python3 单机 | PySpark |\n",
    "| :--- | :--- | :--- |\n",
    "| 基本数据结构 | ndarray, Seires, DataFrame | RDD \n",
    "| 并行 | 线程、进程、协程 | parallelize/map/take/collect \n",
    "| 计数 | count | count \n",
    "| 最大、最小、平均 | max/min/mean | max/min/mean \n",
    "| 汇集 | groupby | groupBy \n",
    "| 逻辑回归 | Sklearn.linear_model.LogisticRegression | mllib.classification.LogisticRegressionMode \n"
   ]
  },
  {
   "cell_type": "markdown",
   "metadata": {},
   "source": [
    "- 未来\n",
    "    - 多分析可接触的数据资源\n",
    "    - 接触更多的数据分析工具，尤其是大数据\n",
    "    - 接触更专业的数据分析方向：自然语言处理、AI\n",
    "    - 将数据处理结果与自己进行交互，建立更科学的世界观\n",
    "    "
   ]
  },
  {
   "cell_type": "markdown",
   "metadata": {},
   "source": [
    "# 项目分析"
   ]
  },
  {
   "cell_type": "markdown",
   "metadata": {},
   "source": [
    "## 天池：心跳信号分类预测"
   ]
  },
  {
   "cell_type": "code",
   "execution_count": null,
   "metadata": {},
   "outputs": [],
   "source": []
  },
  {
   "cell_type": "code",
   "execution_count": null,
   "metadata": {},
   "outputs": [],
   "source": []
  },
  {
   "cell_type": "markdown",
   "metadata": {},
   "source": [
    "## 身高和体重数据集分析\n",
    "\n",
    "- "
   ]
  },
  {
   "cell_type": "code",
   "execution_count": 19,
   "metadata": {
    "ExecuteTime": {
     "end_time": "2021-11-10T08:50:01.517974Z",
     "start_time": "2021-11-10T08:50:01.511984Z"
    }
   },
   "outputs": [],
   "source": [
    "## 导入数据分析库\n",
    "import numpy as np # 数值计算扩展\n",
    "import pandas as pd # 数据分析\n",
    "from pandas import Series,DataFrame\n",
    "import matplotlib.pyplot as plt # 绘图\n"
   ]
  },
  {
   "cell_type": "code",
   "execution_count": 55,
   "metadata": {
    "ExecuteTime": {
     "end_time": "2021-11-10T10:03:43.263233Z",
     "start_time": "2021-11-10T10:03:43.212262Z"
    }
   },
   "outputs": [
    {
     "data": {
      "text/html": [
       "<div>\n",
       "<style scoped>\n",
       "    .dataframe tbody tr th:only-of-type {\n",
       "        vertical-align: middle;\n",
       "    }\n",
       "\n",
       "    .dataframe tbody tr th {\n",
       "        vertical-align: top;\n",
       "    }\n",
       "\n",
       "    .dataframe thead th {\n",
       "        text-align: right;\n",
       "    }\n",
       "</style>\n",
       "<table border=\"1\" class=\"dataframe\">\n",
       "  <thead>\n",
       "    <tr style=\"text-align: right;\">\n",
       "      <th></th>\n",
       "      <th>Index</th>\n",
       "      <th>Height(Inches)</th>\n",
       "      <th>Weight(Pounds)</th>\n",
       "    </tr>\n",
       "  </thead>\n",
       "  <tbody>\n",
       "    <tr>\n",
       "      <th>0</th>\n",
       "      <td>1</td>\n",
       "      <td>65.78331</td>\n",
       "      <td>112.9925</td>\n",
       "    </tr>\n",
       "    <tr>\n",
       "      <th>1</th>\n",
       "      <td>2</td>\n",
       "      <td>71.51521</td>\n",
       "      <td>136.4873</td>\n",
       "    </tr>\n",
       "    <tr>\n",
       "      <th>2</th>\n",
       "      <td>3</td>\n",
       "      <td>69.39874</td>\n",
       "      <td>153.0269</td>\n",
       "    </tr>\n",
       "    <tr>\n",
       "      <th>3</th>\n",
       "      <td>4</td>\n",
       "      <td>68.21660</td>\n",
       "      <td>142.3354</td>\n",
       "    </tr>\n",
       "    <tr>\n",
       "      <th>4</th>\n",
       "      <td>5</td>\n",
       "      <td>67.78781</td>\n",
       "      <td>144.2971</td>\n",
       "    </tr>\n",
       "  </tbody>\n",
       "</table>\n",
       "</div>"
      ],
      "text/plain": [
       "   Index  Height(Inches)  Weight(Pounds)\n",
       "0      1        65.78331        112.9925\n",
       "1      2        71.51521        136.4873\n",
       "2      3        69.39874        153.0269\n",
       "3      4        68.21660        142.3354\n",
       "4      5        67.78781        144.2971"
      ]
     },
     "execution_count": 55,
     "metadata": {},
     "output_type": "execute_result"
    }
   ],
   "source": [
    "df = pd.read_csv(\".//datasets//SOCR-HeightWeight.csv\")\n",
    "#type(df)\n",
    "df.head()"
   ]
  },
  {
   "cell_type": "code",
   "execution_count": 56,
   "metadata": {
    "ExecuteTime": {
     "end_time": "2021-11-10T10:03:44.755705Z",
     "start_time": "2021-11-10T10:03:44.702733Z"
    }
   },
   "outputs": [
    {
     "data": {
      "text/html": [
       "<div>\n",
       "<style scoped>\n",
       "    .dataframe tbody tr th:only-of-type {\n",
       "        vertical-align: middle;\n",
       "    }\n",
       "\n",
       "    .dataframe tbody tr th {\n",
       "        vertical-align: top;\n",
       "    }\n",
       "\n",
       "    .dataframe thead th {\n",
       "        text-align: right;\n",
       "    }\n",
       "</style>\n",
       "<table border=\"1\" class=\"dataframe\">\n",
       "  <thead>\n",
       "    <tr style=\"text-align: right;\">\n",
       "      <th></th>\n",
       "      <th>Index</th>\n",
       "      <th>Height(Inches)</th>\n",
       "      <th>Weight(Pounds)</th>\n",
       "    </tr>\n",
       "  </thead>\n",
       "  <tbody>\n",
       "    <tr>\n",
       "      <th>count</th>\n",
       "      <td>25000.000000</td>\n",
       "      <td>25000.000000</td>\n",
       "      <td>25000.000000</td>\n",
       "    </tr>\n",
       "    <tr>\n",
       "      <th>mean</th>\n",
       "      <td>12500.500000</td>\n",
       "      <td>67.993114</td>\n",
       "      <td>127.079421</td>\n",
       "    </tr>\n",
       "    <tr>\n",
       "      <th>std</th>\n",
       "      <td>7217.022701</td>\n",
       "      <td>1.901679</td>\n",
       "      <td>11.660898</td>\n",
       "    </tr>\n",
       "    <tr>\n",
       "      <th>min</th>\n",
       "      <td>1.000000</td>\n",
       "      <td>60.278360</td>\n",
       "      <td>78.014760</td>\n",
       "    </tr>\n",
       "    <tr>\n",
       "      <th>25%</th>\n",
       "      <td>6250.750000</td>\n",
       "      <td>66.704397</td>\n",
       "      <td>119.308675</td>\n",
       "    </tr>\n",
       "    <tr>\n",
       "      <th>50%</th>\n",
       "      <td>12500.500000</td>\n",
       "      <td>67.995700</td>\n",
       "      <td>127.157750</td>\n",
       "    </tr>\n",
       "    <tr>\n",
       "      <th>75%</th>\n",
       "      <td>18750.250000</td>\n",
       "      <td>69.272958</td>\n",
       "      <td>134.892850</td>\n",
       "    </tr>\n",
       "    <tr>\n",
       "      <th>max</th>\n",
       "      <td>25000.000000</td>\n",
       "      <td>75.152800</td>\n",
       "      <td>170.924000</td>\n",
       "    </tr>\n",
       "  </tbody>\n",
       "</table>\n",
       "</div>"
      ],
      "text/plain": [
       "              Index  Height(Inches)  Weight(Pounds)\n",
       "count  25000.000000    25000.000000    25000.000000\n",
       "mean   12500.500000       67.993114      127.079421\n",
       "std     7217.022701        1.901679       11.660898\n",
       "min        1.000000       60.278360       78.014760\n",
       "25%     6250.750000       66.704397      119.308675\n",
       "50%    12500.500000       67.995700      127.157750\n",
       "75%    18750.250000       69.272958      134.892850\n",
       "max    25000.000000       75.152800      170.924000"
      ]
     },
     "execution_count": 56,
     "metadata": {},
     "output_type": "execute_result"
    }
   ],
   "source": [
    "df.describe() #描述性统计"
   ]
  },
  {
   "cell_type": "code",
   "execution_count": 27,
   "metadata": {
    "ExecuteTime": {
     "end_time": "2021-11-10T08:51:57.551599Z",
     "start_time": "2021-11-10T08:51:57.540606Z"
    }
   },
   "outputs": [],
   "source": [
    "cols = df.columns.tolist()\n",
    "heights = df[cols[1]]"
   ]
  },
  {
   "cell_type": "code",
   "execution_count": 54,
   "metadata": {
    "ExecuteTime": {
     "end_time": "2021-11-10T09:54:56.731683Z",
     "start_time": "2021-11-10T09:54:56.707699Z"
    }
   },
   "outputs": [
    {
     "name": "stdout",
     "output_type": "stream",
     "text": [
      "样本数： 24833\n",
      "均值： 67.99094872145935\n",
      "标准差： 1.8500574763397541\n",
      "最大值： 73.11393000000001\n",
      "最小值： 62.85508000000001\n",
      "偏度： -0.01455373871152217\n",
      "峰度： -0.2937898624695281\n"
     ]
    }
   ],
   "source": [
    "print(\"样本数：\", len(heights)) # 样本数\n",
    "print(\"均值：\", heights.mean()) # 均值\n",
    "print(\"标准差：\", heights.std()) # 标准差\n",
    "print(\"最大值：\", heights.max()) # 最大值\n",
    "print(\"最小值：\", heights.min()) # 最小值\n",
    "print(\"偏度：\", heights.skew()) # 偏度 负偏\n",
    "print(\"峰度：\", heights.kurt()) # 峰度"
   ]
  },
  {
   "cell_type": "code",
   "execution_count": 36,
   "metadata": {
    "ExecuteTime": {
     "end_time": "2021-11-10T08:59:04.104078Z",
     "start_time": "2021-11-10T08:59:04.073078Z"
    }
   },
   "outputs": [],
   "source": [
    "## 四分位数\n",
    "q_low = heights.quantile(q=0.25) # 下四分位数\n",
    "q_high = heights.quantile(q=0.75) # 上四分位数\n",
    "q_interval = q_high - q_low # 四分位间距\n",
    "k = 1.5 # 形变\n",
    "## 筛选去除异常数据\n",
    "heights = heights[heights<q_high+k*q_interval][heights>q_low-k*q_interval]"
   ]
  },
  {
   "cell_type": "code",
   "execution_count": 37,
   "metadata": {
    "ExecuteTime": {
     "end_time": "2021-11-10T08:59:11.389405Z",
     "start_time": "2021-11-10T08:59:11.377407Z"
    }
   },
   "outputs": [
    {
     "data": {
      "text/plain": [
       "24833"
      ]
     },
     "execution_count": 37,
     "metadata": {},
     "output_type": "execute_result"
    }
   ],
   "source": [
    "len(heights) # 去除异常值后的样本数"
   ]
  },
  {
   "cell_type": "code",
   "execution_count": 39,
   "metadata": {
    "ExecuteTime": {
     "end_time": "2021-11-10T09:04:46.705040Z",
     "start_time": "2021-11-10T09:04:46.683031Z"
    }
   },
   "outputs": [
    {
     "data": {
      "text/plain": [
       "(array([ 306,  969, 2105, 3878, 5099, 5149, 3869, 2222,  954,  282],\n",
       "       dtype=int64),\n",
       " array([62.85508 , 63.880965, 64.90685 , 65.932735, 66.95862 , 67.984505,\n",
       "        69.01039 , 70.036275, 71.06216 , 72.088045, 73.11393 ]))"
      ]
     },
     "execution_count": 39,
     "metadata": {},
     "output_type": "execute_result"
    }
   ],
   "source": [
    "np.histogram(heights.values, bins=10) # 直方图"
   ]
  },
  {
   "cell_type": "code",
   "execution_count": 41,
   "metadata": {
    "ExecuteTime": {
     "end_time": "2021-11-10T09:09:02.332415Z",
     "start_time": "2021-11-10T09:09:02.314428Z"
    }
   },
   "outputs": [
    {
     "data": {
      "text/plain": [
       "(array([24791,    42], dtype=int64), array([62.85508, 72.85508, 82.85508]))"
      ]
     },
     "execution_count": 41,
     "metadata": {},
     "output_type": "execute_result"
    }
   ],
   "source": [
    "np.histogram(heights.values, bins=np.arange(heights.min(),heights.max()+10,10))"
   ]
  },
  {
   "cell_type": "code",
   "execution_count": 42,
   "metadata": {
    "ExecuteTime": {
     "end_time": "2021-11-10T09:11:44.065063Z",
     "start_time": "2021-11-10T09:11:44.024091Z"
    }
   },
   "outputs": [
    {
     "data": {
      "text/plain": [
       "(62.854, 72.855]    24791\n",
       "(72.855, 82.855]       42\n",
       "Name: Height(Inches), dtype: int64"
      ]
     },
     "execution_count": 42,
     "metadata": {},
     "output_type": "execute_result"
    }
   ],
   "source": [
    "heights.value_counts(bins=np.arange(heights.min(),heights.max()+10,10))"
   ]
  },
  {
   "cell_type": "code",
   "execution_count": null,
   "metadata": {
    "ExecuteTime": {
     "end_time": "2021-11-10T10:13:10.104105Z",
     "start_time": "2021-11-10T10:13:10.093111Z"
    }
   },
   "outputs": [],
   "source": []
  },
  {
   "cell_type": "code",
   "execution_count": 66,
   "metadata": {
    "ExecuteTime": {
     "end_time": "2021-11-10T10:12:53.910350Z",
     "start_time": "2021-11-10T10:12:53.892360Z"
    }
   },
   "outputs": [
    {
     "data": {
      "text/plain": [
       "pandas.core.series.Series"
      ]
     },
     "execution_count": 66,
     "metadata": {},
     "output_type": "execute_result"
    }
   ],
   "source": [
    "type(df[\"Height(Inches)\"])"
   ]
  },
  {
   "cell_type": "code",
   "execution_count": null,
   "metadata": {},
   "outputs": [],
   "source": []
  },
  {
   "cell_type": "markdown",
   "metadata": {},
   "source": [
    "## COVID-19 India\n",
    "- 该数据集中的主文件是 COVID-19IndiaData.csv，详细描述如下：\n",
    "| Field | Description |\n",
    "| :--- | :--- |\n",
    "| Date_reported | YYYY-MM-DD 中的观察日期\n",
    "| cum_cases | 截至该日期的累计确诊病例数\n",
    "| cum_death | 截至该日期的累计死亡人数\n",
    "| cum_recovered | 截至该日期的累计康复患者数\n",
    "| new_cases | 新确诊病例。计算方式：当前 cumcases - 前一个 cum_case\n",
    "| new_death | 新确认的死亡人数。计算方式：当前 cumdeath - 前一个 cum_death\n",
    "| cum_activecases | 截至该日期的累计感染人数。计算方式：cumcases - cumdeath - cum_recovered"
   ]
  },
  {
   "cell_type": "code",
   "execution_count": null,
   "metadata": {},
   "outputs": [],
   "source": []
  },
  {
   "cell_type": "markdown",
   "metadata": {},
   "source": [
    "## 2020美国总统献金数据分析\n",
    "- "
   ]
  },
  {
   "cell_type": "code",
   "execution_count": 10,
   "metadata": {
    "ExecuteTime": {
     "end_time": "2021-11-03T11:11:50.670836Z",
     "start_time": "2021-11-03T11:11:50.067875Z"
    }
   },
   "outputs": [],
   "source": [
    "## 导入基础库\n"
   ]
  },
  {
   "cell_type": "code",
   "execution_count": 43,
   "metadata": {
    "ExecuteTime": {
     "end_time": "2021-11-10T09:18:26.019445Z",
     "start_time": "2021-11-10T09:18:26.003454Z"
    }
   },
   "outputs": [],
   "source": [
    "## 导入数据分析库\n",
    "import numpy as np # 数值计算扩展\n",
    "import pandas as pd # 数据分析\n",
    "from pandas import Series,DataFrame\n",
    "import matplotlib.pyplot as plt # 绘图\n",
    "import wordcloud # 词云\n"
   ]
  },
  {
   "cell_type": "code",
   "execution_count": null,
   "metadata": {},
   "outputs": [],
   "source": [
    "df.read_csv(\".//datasets//\")"
   ]
  },
  {
   "cell_type": "code",
   "execution_count": null,
   "metadata": {},
   "outputs": [],
   "source": []
  },
  {
   "cell_type": "markdown",
   "metadata": {},
   "source": [
    "## 天池：零基础入门推荐系统 - 新闻推荐\n",
    "\n",
    "### 数据集介绍\n",
    "- https://tianchi.aliyun.com/competition/entrance/531842/information\n",
    "- 数据表解释：\n",
    "| Dataset | Description |\n",
    "| :--- | :--- |\n",
    "| train_click_log.csv | 训练集用户点击日志\n",
    "| testA_click_log.csv | 测试集用户点击日志\n",
    "| articles.csv | 新闻文章信息数据表\n",
    "| articles_emb.csv | 新闻文章embedding向量表示\n",
    "| sample_submit.csv | 提交样例文件\n",
    "\n",
    "- 字段解释：\n",
    "| Field | Description |\n",
    "| :--- | :--- |\n",
    "| user_id | 用户id\n",
    "| click_article_id | 点击文章id\n",
    "| click_timestamp | 点击时间戳\n",
    "| click_environment | 点击环境\n",
    "| click_deviceGroup | 点击设备组\n",
    "| click_os | 点击操作系统\n",
    "| click_country | 点击城市\n",
    "| click_region | 点击地区\n",
    "| click_referrer_type | 点击来源类型\n",
    "| article_id | 文章id，与click_article_id相对应\n",
    "| category_id | 文章类型id\n",
    "| created_at_ts | 文章创建时间戳\n",
    "| words_count | 文章字数\n",
    "| emb_1,emb_2,…,emb_249 | 文章embedding向量表示\n",
    "\n"
   ]
  },
  {
   "cell_type": "code",
   "execution_count": 44,
   "metadata": {
    "ExecuteTime": {
     "end_time": "2021-11-10T09:39:09.807721Z",
     "start_time": "2021-11-10T09:39:09.789732Z"
    }
   },
   "outputs": [],
   "source": [
    "## 导入数据分析库\n",
    "## 数值计算\n",
    "import numpy as np # 数值计算扩展\n",
    "import pandas as pd # 数据分析\n",
    "from pandas import Series,DataFrame\n",
    "## 可视化\n",
    "import matplotlib.pyplot as plt # 绘图\n",
    "import seaborn as sns # 可视化\n",
    "import wordcloud # 词云\n"
   ]
  },
  {
   "cell_type": "code",
   "execution_count": 48,
   "metadata": {
    "ExecuteTime": {
     "end_time": "2021-11-10T09:45:29.471654Z",
     "start_time": "2021-11-10T09:45:29.115857Z"
    }
   },
   "outputs": [
    {
     "data": {
      "text/html": [
       "<div>\n",
       "<style scoped>\n",
       "    .dataframe tbody tr th:only-of-type {\n",
       "        vertical-align: middle;\n",
       "    }\n",
       "\n",
       "    .dataframe tbody tr th {\n",
       "        vertical-align: top;\n",
       "    }\n",
       "\n",
       "    .dataframe thead th {\n",
       "        text-align: right;\n",
       "    }\n",
       "</style>\n",
       "<table border=\"1\" class=\"dataframe\">\n",
       "  <thead>\n",
       "    <tr style=\"text-align: right;\">\n",
       "      <th></th>\n",
       "      <th>article_id</th>\n",
       "      <th>category_id</th>\n",
       "      <th>created_at_ts</th>\n",
       "      <th>words_count</th>\n",
       "    </tr>\n",
       "  </thead>\n",
       "  <tbody>\n",
       "    <tr>\n",
       "      <th>0</th>\n",
       "      <td>0</td>\n",
       "      <td>0</td>\n",
       "      <td>1513144419000</td>\n",
       "      <td>168</td>\n",
       "    </tr>\n",
       "    <tr>\n",
       "      <th>1</th>\n",
       "      <td>1</td>\n",
       "      <td>1</td>\n",
       "      <td>1405341936000</td>\n",
       "      <td>189</td>\n",
       "    </tr>\n",
       "    <tr>\n",
       "      <th>2</th>\n",
       "      <td>2</td>\n",
       "      <td>1</td>\n",
       "      <td>1408667706000</td>\n",
       "      <td>250</td>\n",
       "    </tr>\n",
       "    <tr>\n",
       "      <th>3</th>\n",
       "      <td>3</td>\n",
       "      <td>1</td>\n",
       "      <td>1408468313000</td>\n",
       "      <td>230</td>\n",
       "    </tr>\n",
       "    <tr>\n",
       "      <th>4</th>\n",
       "      <td>4</td>\n",
       "      <td>1</td>\n",
       "      <td>1407071171000</td>\n",
       "      <td>162</td>\n",
       "    </tr>\n",
       "  </tbody>\n",
       "</table>\n",
       "</div>"
      ],
      "text/plain": [
       "   article_id  category_id  created_at_ts  words_count\n",
       "0           0            0  1513144419000          168\n",
       "1           1            1  1405341936000          189\n",
       "2           2            1  1408667706000          250\n",
       "3           3            1  1408468313000          230\n",
       "4           4            1  1407071171000          162"
      ]
     },
     "execution_count": 48,
     "metadata": {},
     "output_type": "execute_result"
    }
   ],
   "source": [
    "## 新闻文章信息数据表\n",
    "articles = pd.read_csv(\".//datasets//recommender_system//articles.csv\")\n",
    "articles.head()"
   ]
  },
  {
   "cell_type": "code",
   "execution_count": 46,
   "metadata": {
    "ExecuteTime": {
     "end_time": "2021-11-10T09:44:04.268964Z",
     "start_time": "2021-11-10T09:44:03.092087Z"
    }
   },
   "outputs": [
    {
     "data": {
      "text/html": [
       "<div>\n",
       "<style scoped>\n",
       "    .dataframe tbody tr th:only-of-type {\n",
       "        vertical-align: middle;\n",
       "    }\n",
       "\n",
       "    .dataframe tbody tr th {\n",
       "        vertical-align: top;\n",
       "    }\n",
       "\n",
       "    .dataframe thead th {\n",
       "        text-align: right;\n",
       "    }\n",
       "</style>\n",
       "<table border=\"1\" class=\"dataframe\">\n",
       "  <thead>\n",
       "    <tr style=\"text-align: right;\">\n",
       "      <th></th>\n",
       "      <th>user_id</th>\n",
       "      <th>click_article_id</th>\n",
       "      <th>click_timestamp</th>\n",
       "      <th>click_environment</th>\n",
       "      <th>click_deviceGroup</th>\n",
       "      <th>click_os</th>\n",
       "      <th>click_country</th>\n",
       "      <th>click_region</th>\n",
       "      <th>click_referrer_type</th>\n",
       "    </tr>\n",
       "  </thead>\n",
       "  <tbody>\n",
       "    <tr>\n",
       "      <th>0</th>\n",
       "      <td>199999</td>\n",
       "      <td>160417</td>\n",
       "      <td>1507029570190</td>\n",
       "      <td>4</td>\n",
       "      <td>1</td>\n",
       "      <td>17</td>\n",
       "      <td>1</td>\n",
       "      <td>13</td>\n",
       "      <td>1</td>\n",
       "    </tr>\n",
       "    <tr>\n",
       "      <th>1</th>\n",
       "      <td>199999</td>\n",
       "      <td>5408</td>\n",
       "      <td>1507029571478</td>\n",
       "      <td>4</td>\n",
       "      <td>1</td>\n",
       "      <td>17</td>\n",
       "      <td>1</td>\n",
       "      <td>13</td>\n",
       "      <td>1</td>\n",
       "    </tr>\n",
       "    <tr>\n",
       "      <th>2</th>\n",
       "      <td>199999</td>\n",
       "      <td>50823</td>\n",
       "      <td>1507029601478</td>\n",
       "      <td>4</td>\n",
       "      <td>1</td>\n",
       "      <td>17</td>\n",
       "      <td>1</td>\n",
       "      <td>13</td>\n",
       "      <td>1</td>\n",
       "    </tr>\n",
       "    <tr>\n",
       "      <th>3</th>\n",
       "      <td>199998</td>\n",
       "      <td>157770</td>\n",
       "      <td>1507029532200</td>\n",
       "      <td>4</td>\n",
       "      <td>1</td>\n",
       "      <td>17</td>\n",
       "      <td>1</td>\n",
       "      <td>25</td>\n",
       "      <td>5</td>\n",
       "    </tr>\n",
       "    <tr>\n",
       "      <th>4</th>\n",
       "      <td>199998</td>\n",
       "      <td>96613</td>\n",
       "      <td>1507029671831</td>\n",
       "      <td>4</td>\n",
       "      <td>1</td>\n",
       "      <td>17</td>\n",
       "      <td>1</td>\n",
       "      <td>25</td>\n",
       "      <td>5</td>\n",
       "    </tr>\n",
       "  </tbody>\n",
       "</table>\n",
       "</div>"
      ],
      "text/plain": [
       "   user_id  click_article_id  click_timestamp  click_environment  \\\n",
       "0   199999            160417    1507029570190                  4   \n",
       "1   199999              5408    1507029571478                  4   \n",
       "2   199999             50823    1507029601478                  4   \n",
       "3   199998            157770    1507029532200                  4   \n",
       "4   199998             96613    1507029671831                  4   \n",
       "\n",
       "   click_deviceGroup  click_os  click_country  click_region  \\\n",
       "0                  1        17              1            13   \n",
       "1                  1        17              1            13   \n",
       "2                  1        17              1            13   \n",
       "3                  1        17              1            25   \n",
       "4                  1        17              1            25   \n",
       "\n",
       "   click_referrer_type  \n",
       "0                    1  \n",
       "1                    1  \n",
       "2                    1  \n",
       "3                    5  \n",
       "4                    5  "
      ]
     },
     "execution_count": 46,
     "metadata": {},
     "output_type": "execute_result"
    }
   ],
   "source": [
    "## 训练集用户点击日志\n",
    "train_click = pd.read_csv(\".//datasets//recommender_system//train_click_log.csv\")\n",
    "train_click.head()"
   ]
  },
  {
   "cell_type": "code",
   "execution_count": null,
   "metadata": {
    "ExecuteTime": {
     "end_time": "2021-11-10T12:52:33.134428Z",
     "start_time": "2021-11-10T12:52:30.007673Z"
    }
   },
   "outputs": [],
   "source": []
  },
  {
   "cell_type": "code",
   "execution_count": null,
   "metadata": {},
   "outputs": [],
   "source": []
  },
  {
   "cell_type": "code",
   "execution_count": null,
   "metadata": {},
   "outputs": [],
   "source": []
  }
 ],
 "metadata": {
  "kernelspec": {
   "display_name": "Python 3",
   "language": "python",
   "name": "python3"
  },
  "language_info": {
   "codemirror_mode": {
    "name": "ipython",
    "version": 3
   },
   "file_extension": ".py",
   "mimetype": "text/x-python",
   "name": "python",
   "nbconvert_exporter": "python",
   "pygments_lexer": "ipython3",
   "version": "3.8.3"
  },
  "toc": {
   "base_numbering": 1,
   "nav_menu": {},
   "number_sections": true,
   "sideBar": true,
   "skip_h1_title": false,
   "title_cell": "Table of Contents",
   "title_sidebar": "Contents",
   "toc_cell": false,
   "toc_position": {
    "height": "486px",
    "left": "131px",
    "top": "110px",
    "width": "226.188px"
   },
   "toc_section_display": true,
   "toc_window_display": true
  }
 },
 "nbformat": 4,
 "nbformat_minor": 4
}
