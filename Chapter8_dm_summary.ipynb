{
 "cells": [
  {
   "cell_type": "markdown",
   "metadata": {},
   "source": [
    "# 数据挖掘 - 总结\n",
    "\n",
    "## 数据分析全流程\n",
    "\n",
    "<img style=\"float: center;\" src=\".\\figures\\数据分析总结.png\" width=50%>\n",
    "<center>Fig. 数据分析全流程</center>\n",
    "\n"
   ]
  },
  {
   "cell_type": "markdown",
   "metadata": {},
   "source": [
    "## 多角度看数据分析\n",
    "\n",
    "| 目的论 | 过程论 | 方法论 |\n",
    "| :---: | :---: | :---: |\n",
    "| 描述 | 数据采集 | 对比分析 \n",
    "| 断因 | 探索分析 | 交叉分析 \n",
    "| 预测 | 特征工程 | 分组分析 \n",
    "| 决策 | 数据建模 | 因素分析 \n",
    "|     | 模型评估 | 漏斗图 \n",
    "|     | 模型应用 | 主成分分析 \n",
    "|     | 模型融合 | 聚类分析 \n",
    "|     |       | ...... \n"
   ]
  },
  {
   "cell_type": "markdown",
   "metadata": {},
   "source": [
    "## 大数据\n",
    "- 特点\n",
    "    - Volume：数据量大\n",
    "    - Variety：种类繁多\n",
    "    - Value：价值密度低\n",
    "    - Velocity：处理速度快\n",
    "    - Online：永远在线\n",
    "- 思想：思想不变\n",
    "- 工具：Hadoop, Spark, SparkSQL, Hive, MLLIB, MAX_COMPUTE\n",
    "- 职位：大数据挖掘与开发工程师（偏算法）、大数据开发工程师（偏工程）\n",
    "- 大数据工具与单机数据分析工具对比\n",
    "\n",
    "| ITEM | Python3 单机 | PySpark |\n",
    "| :--- | :--- | :--- |\n",
    "| 基本数据结构 | ndarray, Seires, DataFrame | RDD \n",
    "| 并行 | 线程、进程、协程 | parallelize/map/take/collect \n",
    "| 计数 | count | count \n",
    "| 最大、最小、平均 | max/min/mean | max/min/mean \n",
    "| 汇集 | groupby | groupBy \n",
    "| 逻辑回归 | Sklearn.linear_model.LogisticRegression | mllib.classification.LogisticRegressionMode \n"
   ]
  },
  {
   "cell_type": "markdown",
   "metadata": {},
   "source": [
    "- 未来\n",
    "    - 多分析可接触的数据资源\n",
    "    - 接触更多的数据分析工具，尤其是大数据\n",
    "    - 接触更专业的数据分析方向：自然语言处理、AI\n",
    "    - 将数据处理结果与自己进行交互，建立更科学的世界观\n",
    "    "
   ]
  },
  {
   "cell_type": "code",
   "execution_count": null,
   "metadata": {},
   "outputs": [],
   "source": []
  }
 ],
 "metadata": {
  "kernelspec": {
   "display_name": "Python 3",
   "language": "python",
   "name": "python3"
  },
  "language_info": {
   "codemirror_mode": {
    "name": "ipython",
    "version": 3
   },
   "file_extension": ".py",
   "mimetype": "text/x-python",
   "name": "python",
   "nbconvert_exporter": "python",
   "pygments_lexer": "ipython3",
   "version": "3.8.3"
  },
  "toc": {
   "base_numbering": 1,
   "nav_menu": {},
   "number_sections": true,
   "sideBar": true,
   "skip_h1_title": false,
   "title_cell": "Table of Contents",
   "title_sidebar": "Contents",
   "toc_cell": false,
   "toc_position": {
    "height": "calc(100% - 180px)",
    "left": "10px",
    "top": "150px",
    "width": "241.188px"
   },
   "toc_section_display": true,
   "toc_window_display": true
  }
 },
 "nbformat": 4,
 "nbformat_minor": 4
}
