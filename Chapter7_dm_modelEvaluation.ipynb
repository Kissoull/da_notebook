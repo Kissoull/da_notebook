{
 "cells": [
  {
   "cell_type": "markdown",
   "metadata": {},
   "source": [
    "# 数据挖掘 - 模型评估\n",
    "\n",
    "## 分类模型评估\n",
    "\n",
    "### 二分类\n",
    "- 样本-预测\n",
    "    - 测试集：Y_test = [0,1,0,0,...,0,1]\n",
    "    - 处理后的预测结果：Y_pred = [0,1,1,0,...,0,1]\n",
    "    - 实际预测为一个概率：Y_pred = [0.1,0.8,0.6,0.2,...,0.2,0.9]\n",
    "- 混淆矩阵\n",
    "    - TP(True Positive): 实际为正类，预测为正类\n",
    "    - FN(False Negative): 实际为正类，预测为负类（漏）\n",
    "    - FP(False Positive): 实际为负类，预测为正类（错）\n",
    "    - TN(True Negative): 实际为负类，预测为负类\n",
    "    \n",
    "<img style=\"float: center;\" src=\".\\figures\\混淆矩阵.png\" width=70%>\n",
    "<center>Fig. 混淆矩阵</center>\n"
   ]
  },
  {
   "cell_type": "markdown",
   "metadata": {},
   "source": [
    "- 关键指标\n",
    "    - **正确率**（Accuracy Rate）：$$\\frac{TP+TN}{TP+TN+FN+FP}$$\n",
    "    - **召回率**（TPR, True Positive Rate/Recall）：$$\\frac{TP}{TP+FN}$$\n",
    "    - **F-measure**（F-score）：$$\\frac{2*Recall*Accuracy}{Recall+Accuracy}$$\n",
    "    - 查准率/精准率（Precision）：$$\\frac{TP}{TP+FP}$$\n",
    "    - 错误接收率（FPR, False Positive Rate）：$$\\frac{FP}{FP+TN}$$\n",
    "    - 错误拒绝率（FRR, False Rejection Rate）：$$\\frac{FN}{TP+FN}$$\n"
   ]
  },
  {
   "cell_type": "markdown",
   "metadata": {},
   "source": [
    "### 多分类\n",
    "- 多元混淆矩阵\n",
    "\n",
    "<img style=\"float: center;\" src=\".\\figures\\多元混淆矩阵.png\" width=35%>\n",
    "<center>Fig. 多元混淆矩阵</center>\n",
    "\n",
    "- 准确率：保持\n",
    "- 召回率与 F 值：\n",
    "    1. 先计算所有的 $TP, FN$ 等，再以二值方法计算\n",
    "    2. 分别把每个类当作正类，都计算一个召回率或者 F 值，然后取加权或者不加权平均\n",
    "    "
   ]
  },
  {
   "cell_type": "markdown",
   "metadata": {},
   "source": [
    "### ROC 与 AUC\n",
    "- ROC: Receiver Operating characteristic Curve\n",
    "    - ROC 曲线可以很容易的看到任意界限值对性能识别的影响力\n",
    "- AUC: Area Under Curve\n",
    "\n",
    "<img style=\"float: center;\" src=\".\\figures\\roc-auc.png\" width=80%>\n",
    "<center>Fig. ROC 与 AUC</center>\n"
   ]
  },
  {
   "cell_type": "code",
   "execution_count": 15,
   "metadata": {
    "ExecuteTime": {
     "end_time": "2021-11-27T06:47:08.531674Z",
     "start_time": "2021-11-27T06:47:08.514684Z"
    }
   },
   "outputs": [],
   "source": [
    "## 导包\n",
    "import numpy as np # 数值计算\n",
    "import pandas as pd # 数据分析"
   ]
  },
  {
   "cell_type": "code",
   "execution_count": 16,
   "metadata": {
    "ExecuteTime": {
     "end_time": "2021-11-27T06:47:09.035825Z",
     "start_time": "2021-11-27T06:47:09.028850Z"
    }
   },
   "outputs": [],
   "source": [
    "from sklearn.preprocessing import MinMaxScaler,StandardScaler # 归一化、标准化\n",
    "from sklearn.preprocessing import LabelEncoder,OneHotEncoder # 标签化、独热编码\n",
    "from sklearn.preprocessing import Normalizer # \n",
    "from sklearn.discriminant_analysis import LinearDiscriminantAnalysis # LDA 降维\n",
    "from sklearn.decomposition import PCA # PCA 降维"
   ]
  },
  {
   "cell_type": "code",
   "execution_count": 17,
   "metadata": {
    "ExecuteTime": {
     "end_time": "2021-11-27T06:47:09.650894Z",
     "start_time": "2021-11-27T06:47:09.628909Z"
    }
   },
   "outputs": [],
   "source": [
    "## \n",
    "# @arg\n",
    "# sl: statisfaction_level --- Flase: MinMaxScaler; True: StandardScaler\n",
    "# le: last_evaluation --- Flase: MinMaxScaler; True: StandardScaler\n",
    "# npr: number_project --- Flase: MinMaxScaler; True: StandardScaler\n",
    "# amh: average_monthly_hours --- Flase: MinMaxScaler; True: StandardScaler\n",
    "# tsc: time_spend_company --- Flase: MinMaxScaler; True: StandardScaler\n",
    "# wa: Work_accident --- Flase: MinMaxScaler; True: StandardScaler\n",
    "# pl5: promotion_last_5years --- Flase: MinMaxScaler; True: StandardScaler\n",
    "# dp: Department --- False: LabelEncoding; True: OneHotEncoding\n",
    "# slr: salary --- False: LabelEncoding; True: OneHotEncoding\n",
    "# lower_d: 是否降维 --- Default: False\n",
    "# ld_n: 保留的维数 --- Default: 1\n",
    "def hr_preprocessing(sl=False, le=False, npr=False, amh=False, tsc=False, wa=False, pl5=False, dp=False, slr=False, lower_d=False, ld_n=1):\n",
    "    ## 0. 加载数据\n",
    "    df = pd.read_csv(\".//datasets//HR_comma_sep.csv\")\n",
    "    \n",
    "    ## 1. 清洗数据（去除异常值、抽样，这里数据量较小不进行抽样了）\n",
    "    df = df.dropna(subset=[\"satisfaction_level\",\"last_evaluation\"])\n",
    "    df = df[df[\"satisfaction_level\"]<=1][df[\"salary\"]!=\"nme\"]\n",
    "    \n",
    "    ## 2. 得到标注\n",
    "    label = df[\"left\"]\n",
    "    df = df.drop(\"left\", axis=1)\n",
    "    \n",
    "    ## 3. 特征选择\n",
    "    \n",
    "    \n",
    "    ## 4. 特征处理\n",
    "    # 对 \"satisfaction_level\", \"last_evaluation\", \"number_project\",\n",
    "    # \"average_monthly_hours\", \"time_spend_company\", \"Work_accident\",\n",
    "    # \"promotion_last_5years\" 进行归一化和标准化\n",
    "    scaler_lst = [sl, le, npr, amh, tsc, wa, pl5]\n",
    "    column_lst = [\"satisfaction_level\", \"last_evaluation\", \"number_project\", \n",
    "                  \"average_monthly_hours\", \"time_spend_company\", \"Work_accident\", \n",
    "                  \"promotion_last_5years\"]\n",
    "    for i in range(len(scaler_lst)):\n",
    "        if not scaler_lst[i]:\n",
    "            df[column_lst[i]] =\\\n",
    "            MinMaxScaler().fit_transform(df[column_lst[i]].values.reshape(-1,1)).reshape(1,-1)[0]\n",
    "        else:\n",
    "            df[column_lst[i]] =\\\n",
    "            StandardScaler().fit_transform(df[column_lst[i]].values.reshape(-1,1)).reshape(1,-1)[0]\n",
    "    # 对 \"Department\", \"salary\" 进行标签化和归一化\n",
    "    scaler_lst = [dp, slr]\n",
    "    column_lst = [\"Department\", \"salary\"]\n",
    "    for i in range(len(scaler_lst)):\n",
    "        if not scaler_lst[i]:\n",
    "            if column_lst[i] == \"salary\":\n",
    "                df[column_lst[i]] = [map_salary(s) for s in df[\"salary\"].values]\n",
    "            else:\n",
    "                df[column_lst[i]] = LabelEncoder().fit_transform(df[column_lst[i]])\n",
    "            df[column_lst[i]] = MinMaxScaler().fit_transform(df[column_lst[i]].values.reshape(-1,1)).reshape(1,-1)[0]\n",
    "        else:\n",
    "            df = pd.get_dummies(df, columns=[column_lst[i]])\n",
    "    # 降维\n",
    "    if lower_d:\n",
    "        return PCA(n_components=ld_n).fit_transform(df.values),label\n",
    "#         return LinearDiscriminantAnalysis(n_components=ld_n)\n",
    "    \n",
    "    return df,label\n",
    "\n"
   ]
  },
  {
   "cell_type": "code",
   "execution_count": 18,
   "metadata": {
    "ExecuteTime": {
     "end_time": "2021-11-27T06:47:10.306247Z",
     "start_time": "2021-11-27T06:47:10.300242Z"
    }
   },
   "outputs": [],
   "source": [
    "##\n",
    "d = dict([(\"low\",0), (\"medium\",1), (\"high\",2)])\n",
    "def map_salary(s):\n",
    "    return d.get(s,0)\n"
   ]
  },
  {
   "cell_type": "code",
   "execution_count": 21,
   "metadata": {
    "ExecuteTime": {
     "end_time": "2021-11-27T06:50:12.799620Z",
     "start_time": "2021-11-27T06:50:12.764641Z"
    }
   },
   "outputs": [],
   "source": [
    "# %load \".\\\\code\\\\load_hr_modeling.py\"\n",
    "## 建模分析\n",
    "def hr_modeling(features, label):\n",
    "    from sklearn.model_selection import train_test_split\n",
    "    f_v = features.values # 特征值\n",
    "    f_names = features.columns.values # 特征名\n",
    "    l_v = label.values # 标注\n",
    "    # 测试集：X_tt, Y_tt\n",
    "    # 验证集：X_validation, Y_validation\n",
    "    X_tt,X_validation,Y_tt,Y_validation = train_test_split(f_v, l_v, test_size=0.2)\n",
    "    X_train,X_test,Y_train,Y_test = train_test_split(X_tt, Y_tt, test_size=0.25)\n",
    "    print(len(X_train), len(X_validation), len(X_test))\n",
    "    \n",
    "    ## 模型构建\n",
    "    from sklearn.metrics import accuracy_score,recall_score,f1_score # 模型评价\n",
    "    from sklearn.neighbors import NearestNeighbors,KNeighborsClassifier # KNN\n",
    "    from sklearn.naive_bayes import GaussianNB,BernoulliNB # 高斯朴素贝叶斯、伯努利朴素贝叶斯\n",
    "    from sklearn.tree import DecisionTreeClassifier # 决策树\n",
    "    from sklearn.svm import SVC # 支持向量机\n",
    "    from sklearn.ensemble import RandomForestClassifier # 随机森林\n",
    "    from sklearn.ensemble import AdaBoostClassifier # AdaBoost\n",
    "    from sklearn.linear_model import LogisticRegression # Logistic 回归\n",
    "    from keras.models import Sequential # 序贯模型\n",
    "    from keras.layers.core import Dense,Activation # 稠密层、激活函数\n",
    "    from tensorflow.keras.optimizers import SGD # 随机梯度下降\n",
    "    f = open(\".\\\\output\\\\NNLog2.log\", 'a') # 自动文件指针打开待写入文件\n",
    "    mdl = Sequential()\n",
    "    mdl.add(Dense(50, input_dim=len(f_v[0]))) # 输入层：指定隐含层神经元个数为 50\n",
    "    mdl.add(Activation(\"sigmoid\")) # 激活函数\n",
    "    mdl.add(Dense(2)) # 输出层\n",
    "    mdl.add(Activation(\"softmax\")) # 归一化\n",
    "    sgd = SGD(lr=0.05) # 学习率\n",
    "    mdl.compile(loss=\"mean_squared_error\", optimizer=\"adam\") # 编译: 损失函数-均方误差、优化器-亚当优化器\n",
    "    history = mdl.fit(X_train, np.array([[0,1] if i == 1 else [1,0] for i in Y_train]), epochs=10000, batch_size=8999, verbose=0)\n",
    "    print(\"History:\", dir(history), file=f) #\n",
    "    loss_val = history.history\n",
    "    print(\"Loss Function:\", loss_val, file=f) # 损失和评估值\n",
    "    f.close() # 关闭文件\n",
    "    xy_lst = [(X_train,Y_train), (X_validation,Y_validation), (X_test,Y_test)]\n",
    "    import matplotlib.pyplot as plt # 数据可视化\n",
    "    from sklearn.metrics import roc_curve,auc,roc_auc_score # ROC、AUC 评价曲线\n",
    "    f = plt.figure()\n",
    "    set_name = [\"Train:\", \"Validation:\", \"Test:\"]\n",
    "    for i in range(len(xy_lst)):\n",
    "        X_part = xy_lst[i][0]\n",
    "        Y_part = xy_lst[i][1]\n",
    "        Y_pred = mdl.predict(X_part)\n",
    "        print(Y_pred)\n",
    "        Y_pred = np.array(Y_pred[:,1]).reshape((1,-1))[0]\n",
    "        print(i, set_name[i])\n",
    "#         print(\"NN\", \"- ACC:\", accuracy_score(Y_part, Y_pred))\n",
    "#         print(\"NN\", \"- REC:\", recall_score(Y_part, Y_pred))\n",
    "#         print(\"NN\", \"- F1:\", f1_score(Y_part, Y_pred))\n",
    "        f.add_subplot(1,3,i+1)\n",
    "        fpr,tpr,threshold = roc_curve(Y_part, Y_pred)\n",
    "        plt.plot(fpr, tpr)\n",
    "        print(\"NN\", \"AUC\", auc(fpr, tpr))\n",
    "        print(\"NN\", \"AUC_Score\", roc_auc_score(Y_part, Y_pred))\n",
    "    plt.show()\n",
    "    # 绘制损失函数曲线\n",
    "    plt.figure()\n",
    "    plt.plot(loss_val['loss'])\n",
    "    plt.title(\"Loss Function\")\n",
    "    plt.xlabel(\"Epochs\")\n",
    "    plt.ylabel(\"MSE Value\")\n",
    "    return \n",
    "    \n",
    "    models = [] # 初始化存放模型的元组\n",
    "    \n",
    "#     models.append((\"KNN\", KNeighborsClassifier(n_neighbors=3))) # KNN\n",
    "#     models.append((\"GaussianNB\", GaussianNB())) # Gaussian Naive Bayes\n",
    "#     models.append((\"BernoulliNB\", BernoulliNB())) # BernoulliNB Naive Bayes\n",
    "#     models.append((\"DecisionTreeGini\", DecisionTreeClassifier())) # 决策树：Gini 系数\n",
    "#     models.append((\"DecisionTreeEntropy\", DecisionTreeClassifier(criterion=\"entropy\"))) # 决策树：信息熵\n",
    "#     models.append((\"SVM Classifier\", SVC(C=1000))) # 支持向量机：C 值越大模型越准确，计算时间越长\n",
    "    models.append((\"OriginalRandomForest\", RandomForestClassifier())) # 随机森林\n",
    "#     models.append((\"RandomForest\", RandomForestClassifier(n_estimators=11, max_features=None))) # 随机森林\n",
    "#     models.append((\"AdaBoost\", AdaBoostClassifier())) # AdaBoost\n",
    "    models.append((\"LogisticRegression\", LogisticRegression(max_iter=10000))) # Logistic 回归\n",
    "    for clf_name,clf in models:\n",
    "        print(\"++++\", clf_name, \"++++\")\n",
    "        clf.fit(X_train, Y_train)\n",
    "        xy_lst = [(X_train,Y_train), (X_validation,Y_validation), (X_test,Y_test)]\n",
    "        set_name = [\"Train:\", \"Validation:\", \"Test:\"]\n",
    "        for i in range(len(xy_lst)):\n",
    "            X_part = xy_lst[i][0]\n",
    "            Y_part = xy_lst[i][1]\n",
    "            Y_pred = clf.predict(X_part)\n",
    "#             print(i)\n",
    "            print(i, set_name[i])\n",
    "            print(clf_name, \"- ACC:\", accuracy_score(Y_part, Y_pred))\n",
    "            print(clf_name, \"- REC:\", recall_score(Y_part, Y_pred))\n",
    "            print(clf_name, \"- F1:\", f1_score(Y_part, Y_pred))\n",
    "\n"
   ]
  },
  {
   "cell_type": "code",
   "execution_count": 22,
   "metadata": {
    "ExecuteTime": {
     "end_time": "2021-11-27T06:51:47.874567Z",
     "start_time": "2021-11-27T06:50:15.988986Z"
    }
   },
   "outputs": [
    {
     "name": "stdout",
     "output_type": "stream",
     "text": [
      "8999 3000 3000\n"
     ]
    },
    {
     "name": "stderr",
     "output_type": "stream",
     "text": [
      "C:\\Users\\kisso\\.conda\\envs\\tensorflow_gpu\\lib\\site-packages\\keras\\optimizer_v2\\gradient_descent.py:102: UserWarning: The `lr` argument is deprecated, use `learning_rate` instead.\n",
      "  super(SGD, self).__init__(name, **kwargs)\n"
     ]
    },
    {
     "name": "stdout",
     "output_type": "stream",
     "text": [
      "[[9.9999905e-01 9.5208941e-07]\n",
      " [1.7219359e-01 8.2780641e-01]\n",
      " [9.9999976e-01 2.3489706e-07]\n",
      " ...\n",
      " [9.9999976e-01 1.8042572e-07]\n",
      " [9.9562520e-01 4.3748510e-03]\n",
      " [8.9505219e-01 1.0494784e-01]]\n",
      "0 Train:\n",
      "NN AUC 0.9606671719662442\n",
      "NN AUC_Score 0.9606671719662442\n",
      "[[9.9999666e-01 3.3943068e-06]\n",
      " [1.0000000e+00 1.8170937e-08]\n",
      " [9.5883352e-01 4.1166477e-02]\n",
      " ...\n",
      " [8.2812263e-03 9.9171877e-01]\n",
      " [9.9999869e-01 1.3047901e-06]\n",
      " [1.1499173e-01 8.8500822e-01]]\n",
      "1 Validation:\n",
      "NN AUC 0.9542053329083119\n",
      "NN AUC_Score 0.9542053329083119\n",
      "[[9.9999940e-01 5.5377353e-07]\n",
      " [9.9913067e-01 8.6935004e-04]\n",
      " [1.0000000e+00 4.2973516e-10]\n",
      " ...\n",
      " [1.0000000e+00 2.9888266e-08]\n",
      " [1.0000000e+00 4.0144585e-18]\n",
      " [1.0000000e+00 5.5809878e-08]]\n",
      "2 Test:\n",
      "NN AUC 0.9631139965805646\n",
      "NN AUC_Score 0.9631139965805646\n"
     ]
    },
    {
     "data": {
      "image/png": "[encoded data removed]",
      "text/plain": [
       "<Figure size 432x288 with 3 Axes>"
      ]
     },
     "metadata": {
      "needs_background": "light"
     },
     "output_type": "display_data"
    },
    {
     "data": {
      "image/png": "[encoded data removed]",
      "text/plain": [
       "<Figure size 432x288 with 1 Axes>"
      ]
     },
     "metadata": {
      "needs_background": "light"
     },
     "output_type": "display_data"
    }
   ],
   "source": [
    "## \n",
    "def main():\n",
    "#     print(hr_preprocessing(sl=True, le=True, lower_d=False, ld_n=3))\n",
    "    features,label = hr_preprocessing()\n",
    "    hr_modeling(features, label)\n",
    "    \n",
    "if __name__ == \"__main__\":\n",
    "    main()\n",
    "    \n",
    "    "
   ]
  },
  {
   "cell_type": "markdown",
   "metadata": {},
   "source": [
    "### 增益图与 KS 图\n",
    "\n",
    "<img style=\"float: center;\" src=\".\\figures\\增益图与KS图.png\" width=50%>\n",
    "<center>Fig. 增益图与 KS 图</center>\n",
    "\n"
   ]
  },
  {
   "cell_type": "markdown",
   "metadata": {},
   "source": [
    "## 回归模型评估\n",
    "- 关键指标\n",
    "    - 平均绝对误差（**MAE**, Mean Absolute Error）：$$MAE = \\frac{1}{n}\\sum^n_{i=1}|f_i-y_i|=\\frac{1}{n}\\sum^n_{i=1}|e_i|$$\n",
    "    - 残差平方和（**MSE**, Mean Square Error）：$$MSE = \\frac{1}{n}\\sum^n_{i=1}(f_i-y_i)^2=\\frac{1}{n}\\sum^n_{i=1}(e_i)^2$$\n",
    "    - 均方根误差（**RMSE**, Root MSE）：$$RMSE = \\sqrt{MSE}$$\n",
    "    - 决定系数（**r2_score**）：$$R^2 = \\frac{SSR}{SST} = \\frac{\\sum^n_{i=1}(\\hat{y}_i-\\bar{y})^2}{\\sum^n_{i=1}(y_i-\\bar{y})^2}$$\n"
   ]
  },
  {
   "cell_type": "code",
   "execution_count": 12,
   "metadata": {
    "ExecuteTime": {
     "end_time": "2021-11-25T04:18:01.087996Z",
     "start_time": "2021-11-25T04:18:01.077003Z"
    }
   },
   "outputs": [],
   "source": [
    "## 回归\n",
    "def regr_test(features, label):\n",
    "    print(\"X\", features)\n",
    "    print(\"Y\", label)\n",
    "    from sklearn.linear_model import LinearRegression,Ridge,Lasso # 线性回归、岭回归、Lasso 回归\n",
    "#     regr = LinearRegression() # 线性回归\n",
    "    regr = Ridge(alpha=0.8) # 岭回归\n",
    "#     regr = Lasso(alpha=0.002) # Lasso 回归\n",
    "    regr.fit(features.values, label.values)\n",
    "    Y_pred = regr.predict(features.values)\n",
    "    print(\"Coef\", regr.coef_)\n",
    "    # 模型评价\n",
    "    from sklearn.metrics import mean_squared_error,mean_absolute_error,r2_score # 评价指标：MSE、MAE、R2\n",
    "    print(\"MSE:\", mean_squared_error(label.values, Y_pred)) # 打印均方误差\n",
    "    print(\"MAE:\", mean_absolute_error(label.values, Y_pred)) # 打印平均绝对误差\n",
    "    print(\"R2:\", r2_score(label.values, Y_pred)) # 打印决定系数\n"
   ]
  },
  {
   "cell_type": "code",
   "execution_count": 13,
   "metadata": {
    "ExecuteTime": {
     "end_time": "2021-11-25T04:18:01.987168Z",
     "start_time": "2021-11-25T04:18:01.826242Z"
    }
   },
   "outputs": [
    {
     "name": "stdout",
     "output_type": "stream",
     "text": [
      "X        number_project  average_monthly_hours\n",
      "0                 0.0               0.285047\n",
      "1                 0.6               0.775701\n",
      "2                 1.0               0.822430\n",
      "3                 0.6               0.593458\n",
      "4                 0.0               0.294393\n",
      "...               ...                    ...\n",
      "14994             0.0               0.257009\n",
      "14995             0.0               0.299065\n",
      "14996             0.0               0.219626\n",
      "14997             0.8               0.859813\n",
      "14998             0.0               0.289720\n",
      "\n",
      "[14999 rows x 2 columns]\n",
      "Y 0        0.265625\n",
      "1        0.781250\n",
      "2        0.812500\n",
      "3        0.796875\n",
      "4        0.250000\n",
      "           ...   \n",
      "14994    0.328125\n",
      "14995    0.187500\n",
      "14996    0.265625\n",
      "14997    0.937500\n",
      "14998    0.250000\n",
      "Name: last_evaluation, Length: 14999, dtype: float64\n",
      "Coef [0.27251659 0.26898178]\n",
      "MSE: 0.05953801161410218\n",
      "MAE: 0.2043526214030418\n",
      "R2: 0.16759928987894634\n"
     ]
    }
   ],
   "source": [
    "# %load \".\\\\code\\\\load_main.py\"\n",
    "## main\n",
    "def main():\n",
    "    features,label = hr_preprocessing()\n",
    "    regr_test(features[[\"number_project\",\"average_monthly_hours\"]], features[\"last_evaluation\"])\n",
    "#     hr_modeling(features, label)\n",
    "    \n",
    "if __name__ == \"__main__\":\n",
    "    main()\n",
    "    \n"
   ]
  },
  {
   "cell_type": "markdown",
   "metadata": {},
   "source": [
    "## 聚类模型评估\n",
    "- 关键指标\n",
    "    - 均方根（**RMS**, Root Mean Square）：$$RMS = \\frac{1}{n}\\sqrt{\\sum^n_{i=1}(x_i-\\bar{x})^2}$$\n",
    "    - **轮廓系数**：$a(i)$ 为样本 $i$ 与簇内其他样本的平均距离；$b(i)$ 为样本 $i$ 与其他某簇样本的平均距离，多个簇 $b(i)$ 取最小$$s(i) = \\frac{b(i)-a(i)}{max\\{a(i),b(i)\\}}$$\n"
   ]
  },
  {
   "cell_type": "code",
   "execution_count": 14,
   "metadata": {
    "ExecuteTime": {
     "end_time": "2021-11-25T06:40:15.543517Z",
     "start_time": "2021-11-25T06:40:14.665648Z"
    }
   },
   "outputs": [],
   "source": [
    "## 导包\n",
    "import numpy as np # 数值计算\n",
    "import matplotlib.pyplot as plt # 绘图"
   ]
  },
  {
   "cell_type": "code",
   "execution_count": 15,
   "metadata": {
    "ExecuteTime": {
     "end_time": "2021-11-25T06:41:47.414057Z",
     "start_time": "2021-11-25T06:41:47.035483Z"
    }
   },
   "outputs": [],
   "source": [
    "from sklearn.datasets import make_circles,make_blobs,make_moons # 引用数据集\n",
    "from sklearn.cluster import KMeans,DBSCAN,AgglomerativeClustering # K-means、DBSCAN、层次聚类"
   ]
  },
  {
   "cell_type": "code",
   "execution_count": 17,
   "metadata": {
    "ExecuteTime": {
     "end_time": "2021-11-25T06:52:33.167579Z",
     "start_time": "2021-11-25T06:46:23.069284Z"
    }
   },
   "outputs": [
    {
     "name": "stdout",
     "output_type": "stream",
     "text": [
      "Kmeans 0 0.389855717675993\n",
      "Kmeans 1 0.42833062988234666\n",
      "Kmeans 2 0.8260921886020176\n",
      "Kmeans 3 0.39304291583237216\n",
      "DBSCAN 0 0.11334994640979625\n",
      "DBSCAN 1 0.33264082008537676\n",
      "DBSCAN 2 0.8260921886020176\n",
      "Agglomerative 0 0.3624382024078824\n",
      "Agglomerative 1 0.4191508445873224\n",
      "Agglomerative 2 0.8260921886020176\n",
      "Agglomerative 3 0.3527595430255033\n"
     ]
    },
    {
     "data": {
      "image/png": "[encoded data removed]",
      "text/plain": [
       "<Figure size 432x288 with 17 Axes>"
      ]
     },
     "metadata": {
      "needs_background": "light"
     },
     "output_type": "display_data"
    }
   ],
   "source": [
    "n_samples = 1000 # 样本数\n",
    "circles = make_circles(n_samples=n_samples, factor=0.5, noise=0.05)\n",
    "moons = make_moons(n_samples=n_samples, noise=0.05)\n",
    "blobs = make_blobs(n_samples=n_samples, random_state=8, center_box=(-1,1), cluster_std=0.1)\n",
    "random_data = np.random.rand(n_samples, 2), None\n",
    "colors = \"bgrcmyk\" # 绘图色系\n",
    "data = [circles,moons,blobs,random_data]\n",
    "models = [(\"None\", None), \n",
    "          (\"Kmeans\", KMeans(n_clusters=3)), \n",
    "          (\"DBSCAN\", DBSCAN(min_samples=3, eps=0.2)), \n",
    "          (\"Agglomerative\", AgglomerativeClustering(n_clusters=3, linkage=\"ward\"))]\n",
    "from sklearn.metrics import silhouette_score # 轮廓系数\n",
    "f = plt.figure()\n",
    "for inx,clt in enumerate(models):\n",
    "    clt_name,clt_entity = clt\n",
    "    for i,dataset in enumerate(data):\n",
    "        X,Y = dataset\n",
    "        if not clt_entity:\n",
    "            clt_res = [0 for item in range(len(X))]\n",
    "        else:\n",
    "            clt_entity.fit(X)\n",
    "            clt_res = clt_entity.labels_.astype(np.int)\n",
    "        plt.title(clt_name)\n",
    "        try:\n",
    "            print(clt_name, i, silhouette_score(X, clt_res))\n",
    "        except:\n",
    "            pass\n",
    "        f.add_subplot(len(models), len(data), inx*len(data)+i+1)\n",
    "        [plt.scatter(X[p,0], X[p,1], color=colors[clt_res[p]]) for p in range(len(X))]\n",
    "plt.show()"
   ]
  },
  {
   "cell_type": "markdown",
   "metadata": {},
   "source": [
    "## 关联模型评估\n",
    "- 关键指标\n",
    "    - **支持度（Support）**：项集 $\\{ X,Y \\}$ 在总项集中出现的概率\n",
    "    - **置信度（Condfidence）**：在先决条件 $X$ 发生的条件下，由关联规则 $\\{ X\\rightarrow Y \\}$ 推出 $Y$ 的概率\n",
    "    - **提升度**：表示含有 $X$ 的条件下同时含有 $Y$ 的概率，与无论是否含 $X$ 只要含 $Y$ 的概率之比$$\\frac{Confidence(\\{X\\}\\rightarrow\\{Y\\}}{Support(\\{Y\\})})$$\n",
    "\n"
   ]
  },
  {
   "cell_type": "code",
   "execution_count": null,
   "metadata": {},
   "outputs": [],
   "source": []
  }
 ],
 "metadata": {
  "kernelspec": {
   "display_name": "tensorflow_gpu",
   "language": "python",
   "name": "tensorflow_gpu"
  },
  "language_info": {
   "codemirror_mode": {
    "name": "ipython",
    "version": 3
   },
   "file_extension": ".py",
   "mimetype": "text/x-python",
   "name": "python",
   "nbconvert_exporter": "python",
   "pygments_lexer": "ipython3",
   "version": "3.9.7"
  },
  "toc": {
   "base_numbering": 1,
   "nav_menu": {
    "height": "176px",
    "width": "319px"
   },
   "number_sections": true,
   "sideBar": true,
   "skip_h1_title": false,
   "title_cell": "Table of Contents",
   "title_sidebar": "Contents",
   "toc_cell": false,
   "toc_position": {
    "height": "calc(100% - 180px)",
    "left": "10px",
    "top": "150px",
    "width": "238.188px"
   },
   "toc_section_display": true,
   "toc_window_display": true
  }
 },
 "nbformat": 4,
 "nbformat_minor": 4
}
