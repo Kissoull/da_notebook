{
 "cells": [
  {
   "cell_type": "markdown",
   "metadata": {},
   "source": [
    "# Kaggle 数据挖掘项目入门\n",
    "- 数据竞赛网站：\n",
    "    - Kaggle: https://www.kaggle.com/\n",
    "    - 天池: https://tianchi.aliyun.com/\n",
    "- 数据集网站：\n",
    "    - ImageNet: \n",
    "    - Open Images: \n",
    "- 各领域统计数据：\n",
    "    - 统计局\n",
    "    - 政府机构\n",
    "    - 公司财报\n",
    "\n",
    "## 命令行语句"
   ]
  },
  {
   "cell_type": "code",
   "execution_count": 1,
   "metadata": {
    "ExecuteTime": {
     "end_time": "2021-11-23T06:11:44.685415Z",
     "start_time": "2021-11-23T06:11:44.662431Z"
    }
   },
   "outputs": [
    {
     "data": {
      "text/plain": [
       "'c:\\\\programdata\\\\miniconda3\\\\python.exe'"
      ]
     },
     "execution_count": 1,
     "metadata": {},
     "output_type": "execute_result"
    }
   ],
   "source": [
    "## 查询当前 python 内核\n",
    "import sys\n",
    "sys.executable"
   ]
  },
  {
   "cell_type": "code",
   "execution_count": 2,
   "metadata": {
    "ExecuteTime": {
     "end_time": "2021-11-23T06:11:45.048571Z",
     "start_time": "2021-11-23T06:11:45.030587Z"
    }
   },
   "outputs": [
    {
     "data": {
      "text/plain": [
       "'C:\\\\Users\\\\kisso\\\\OneDrive\\\\share\\\\24 - Kaggle'"
      ]
     },
     "execution_count": 2,
     "metadata": {},
     "output_type": "execute_result"
    }
   ],
   "source": [
    "## 查询当前路径\n",
    "%pwd"
   ]
  },
  {
   "cell_type": "code",
   "execution_count": 3,
   "metadata": {
    "ExecuteTime": {
     "end_time": "2021-11-23T06:11:45.850773Z",
     "start_time": "2021-11-23T06:11:45.766622Z"
    }
   },
   "outputs": [
    {
     "name": "stdout",
     "output_type": "stream",
     "text": [
      " 驱动器 C 中的卷没有标签。\n",
      " 卷的序列号是 98B9-FBB3\n",
      "\n",
      " C:\\Users\\kisso\\OneDrive\\share\\24 - Kaggle 的目录\n",
      "\n",
      "23/11/2021  14:11    <DIR>          .\n",
      "23/11/2021  14:11    <DIR>          ..\n",
      "03/11/2021  19:24    <DIR>          .ipynb_checkpoints\n",
      "23/11/2021  13:53             1,082 Chapter0_AuthorInfo.ipynb\n",
      "23/11/2021  13:53            14,431 Chapter1_KaggleInfo.ipynb\n",
      "23/11/2021  13:59             6,470 Chapter2_PythonSyntax.ipynb\n",
      "23/11/2021  14:10            12,202 Chapter3_BaseOnDataAnalysis.ipynb\n",
      "23/11/2021  14:10    <DIR>          code\n",
      "11/11/2021  14:14    <DIR>          datasets\n",
      "23/11/2021  13:38    <DIR>          figures\n",
      "19/11/2021  23:12         1,669,034 KaggleDataAnalysis - 20211119.pdf\n",
      "21/11/2021  23:29         1,978,242 KaggleDataAnalysis - 20211121.pdf\n",
      "23/11/2021  14:11           517,099 KaggleDataAnalysis.ipynb\n",
      "21/11/2021  17:37         1,495,107 knn_clf\n",
      "10/11/2021  16:23    <DIR>          lecture_notes\n",
      "15/11/2021  14:06               385 main.py\n",
      "18/11/2021  14:17                16 start_jupyter.bat\n",
      "              10 个文件      5,694,068 字节\n",
      "               7 个目录 132,937,588,736 可用字节\n"
     ]
    }
   ],
   "source": [
    "## 查询当前路径下文件目录\n",
    "%ls"
   ]
  },
  {
   "cell_type": "code",
   "execution_count": 4,
   "metadata": {
    "ExecuteTime": {
     "end_time": "2021-11-23T06:11:47.366277Z",
     "start_time": "2021-11-23T06:11:46.766626Z"
    },
    "collapsed": true
   },
   "outputs": [
    {
     "ename": "NameError",
     "evalue": "name 'hr_preprocessing' is not defined",
     "output_type": "error",
     "traceback": [
      "\u001b[1;31m---------------------------------------------------------------------------\u001b[0m",
      "\u001b[1;31mNameError\u001b[0m                                 Traceback (most recent call last)",
      "\u001b[1;32m<ipython-input-4-c609035756b1>\u001b[0m in \u001b[0;36m<module>\u001b[1;34m\u001b[0m\n\u001b[0;32m      8\u001b[0m \u001b[1;33m\u001b[0m\u001b[0m\n\u001b[0;32m      9\u001b[0m \u001b[1;32mif\u001b[0m \u001b[0m__name__\u001b[0m \u001b[1;33m==\u001b[0m \u001b[1;34m\"__main__\"\u001b[0m\u001b[1;33m:\u001b[0m\u001b[1;33m\u001b[0m\u001b[1;33m\u001b[0m\u001b[0m\n\u001b[1;32m---> 10\u001b[1;33m     \u001b[0mmain\u001b[0m\u001b[1;33m(\u001b[0m\u001b[1;33m)\u001b[0m\u001b[1;33m\u001b[0m\u001b[1;33m\u001b[0m\u001b[0m\n\u001b[0m\u001b[0;32m     11\u001b[0m \u001b[1;33m\u001b[0m\u001b[0m\n",
      "\u001b[1;32m<ipython-input-4-c609035756b1>\u001b[0m in \u001b[0;36mmain\u001b[1;34m()\u001b[0m\n\u001b[0;32m      4\u001b[0m \u001b[1;32mdef\u001b[0m \u001b[0mmain\u001b[0m\u001b[1;33m(\u001b[0m\u001b[1;33m)\u001b[0m\u001b[1;33m:\u001b[0m\u001b[1;33m\u001b[0m\u001b[1;33m\u001b[0m\u001b[0m\n\u001b[0;32m      5\u001b[0m \u001b[1;31m#     print(hr_preprocessing(sl=True, le=True, lower_d=False, ld_n=3))\u001b[0m\u001b[1;33m\u001b[0m\u001b[1;33m\u001b[0m\u001b[1;33m\u001b[0m\u001b[0m\n\u001b[1;32m----> 6\u001b[1;33m     \u001b[0mfeatures\u001b[0m\u001b[1;33m,\u001b[0m\u001b[0mlabel\u001b[0m \u001b[1;33m=\u001b[0m \u001b[0mhr_preprocessing\u001b[0m\u001b[1;33m(\u001b[0m\u001b[1;33m)\u001b[0m\u001b[1;33m\u001b[0m\u001b[1;33m\u001b[0m\u001b[0m\n\u001b[0m\u001b[0;32m      7\u001b[0m     \u001b[0mhr_modeling\u001b[0m\u001b[1;33m(\u001b[0m\u001b[0mfeatures\u001b[0m\u001b[1;33m,\u001b[0m \u001b[0mlabel\u001b[0m\u001b[1;33m)\u001b[0m\u001b[1;33m\u001b[0m\u001b[1;33m\u001b[0m\u001b[0m\n\u001b[0;32m      8\u001b[0m \u001b[1;33m\u001b[0m\u001b[0m\n",
      "\u001b[1;31mNameError\u001b[0m: name 'hr_preprocessing' is not defined"
     ]
    }
   ],
   "source": [
    "## 加载外部 python 程序\n",
    "# %load \".\\\\code\\\\main.py\"\n",
    "## 主函数\n",
    "def main():\n",
    "#     print(hr_preprocessing(sl=True, le=True, lower_d=False, ld_n=3))\n",
    "    features,label = hr_preprocessing()\n",
    "    hr_modeling(features, label)\n",
    "    \n",
    "if __name__ == \"__main__\":\n",
    "    main()\n",
    "    \n"
   ]
  },
  {
   "cell_type": "code",
   "execution_count": 5,
   "metadata": {
    "ExecuteTime": {
     "end_time": "2021-11-23T06:11:50.253445Z",
     "start_time": "2021-11-23T06:11:50.223461Z"
    },
    "collapsed": true
   },
   "outputs": [
    {
     "ename": "SyntaxError",
     "evalue": "invalid syntax (import_package.py, line 2)",
     "output_type": "error",
     "traceback": [
      "\u001b[1;36m  File \u001b[1;32m\"C:\\Users\\kisso\\OneDrive\\share\\24 - Kaggle\\code\\import_package.py\"\u001b[1;36m, line \u001b[1;32m2\u001b[0m\n\u001b[1;33m    def import package:\u001b[0m\n\u001b[1;37m        ^\u001b[0m\n\u001b[1;31mSyntaxError\u001b[0m\u001b[1;31m:\u001b[0m invalid syntax\n"
     ]
    }
   ],
   "source": [
    "## 运行外部 python 代码\n",
    "%run \".\\\\code\\\\main.py\"\n"
   ]
  },
  {
   "cell_type": "code",
   "execution_count": null,
   "metadata": {},
   "outputs": [],
   "source": []
  }
 ],
 "metadata": {
  "kernelspec": {
   "display_name": "Python 3",
   "language": "python",
   "name": "python3"
  },
  "language_info": {
   "codemirror_mode": {
    "name": "ipython",
    "version": 3
   },
   "file_extension": ".py",
   "mimetype": "text/x-python",
   "name": "python",
   "nbconvert_exporter": "python",
   "pygments_lexer": "ipython3",
   "version": "3.8.3"
  },
  "toc": {
   "base_numbering": 1,
   "nav_menu": {},
   "number_sections": true,
   "sideBar": true,
   "skip_h1_title": false,
   "title_cell": "Table of Contents",
   "title_sidebar": "Contents",
   "toc_cell": false,
   "toc_position": {
    "height": "calc(100% - 180px)",
    "left": "10px",
    "top": "150px",
    "width": "236.188px"
   },
   "toc_section_display": true,
   "toc_window_display": true
  }
 },
 "nbformat": 4,
 "nbformat_minor": 4
}
