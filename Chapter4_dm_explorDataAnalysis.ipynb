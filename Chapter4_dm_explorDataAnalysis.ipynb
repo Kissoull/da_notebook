{
 "cells": [
  {
   "cell_type": "markdown",
   "metadata": {},
   "source": [
    "# 探索型数据分析（单因子分析）\n",
    "- 相关职位：数据分析师\n",
    "\n",
    "## 数据获取\n",
    "- 获取数据方法：\n",
    "    - 监测与抓取\n",
    "    - 填写、埋点、日志、计算\n",
    "\n",
    "- 样例数据集介绍：\n",
    "\n",
    "| Field | Description |\n",
    "| :--- | :--- |\n",
    "| statistion_level | 满意度（0~1） |\n",
    "| last_evaluation | 最近一次的评价（0~1） |\n",
    "| number_project | 接手项目数 |\n",
    "| average_montly_hours | 每月平均工作时长（小时） |\n",
    "| time_spend_company | 入职时长（年） |\n",
    "| work_accident | 是否有工作事故（boolean） |\n",
    "| left | 是否离职（boolean） |\n",
    "| promotion_last_5years | 近5年是否有晋升（boolean） |\n",
    "| department | 所属部门 |\n",
    "| salary | 薪资（low, medium, high） |\n"
   ]
  },
  {
   "cell_type": "markdown",
   "metadata": {},
   "source": [
    "## 探索分析与可视化\n",
    "### 描述性统计\n",
    "- 空值：isnull()\n",
    "- 描述性统计：df.describe()\n",
    "- 均值：mean()\n",
    "- 标准差、方差：std(), var()\n",
    "- 中位数：median()\n",
    "- 最大值：max()\n",
    "- 最小值：min()\n",
    "- 偏度：skew()\n",
    "- 峰度：kurt()\n",
    "- 分位数：\n",
    "```py\n",
    "# 下四分位数\n",
    "q_low = dat.quantile(q=0.25)\n",
    "# 上四分位数\n",
    "q_high = dat.quantile(q=0.75)\n",
    "# 四分位间距\n",
    "q_interval = q_high - q_low\n",
    "# 形变\n",
    "k = 1.5\n",
    "# 筛选去除异常数据\n",
    "dat = dat[dat<q_high+k*q_interval][dat>q_low-k*q_interval]\n",
    "```\n"
   ]
  },
  {
   "cell_type": "markdown",
   "metadata": {},
   "source": [
    "## 可视化分析\n",
    "- 可视化工具：matpltlib, seaborn, plotly\n",
    "```py\n",
    "## 可视化分析库\n",
    "import seaborn as sns\n",
    "import matpltlib.pyplot as plt\n",
    "```\n"
   ]
  },
  {
   "cell_type": "code",
   "execution_count": 1,
   "metadata": {
    "ExecuteTime": {
     "end_time": "2021-11-27T05:37:59.642909Z",
     "start_time": "2021-11-27T05:37:58.521310Z"
    }
   },
   "outputs": [],
   "source": [
    "## 数值计算库\n",
    "import numpy as np\n",
    "import pandas as pd"
   ]
  },
  {
   "cell_type": "code",
   "execution_count": 2,
   "metadata": {
    "ExecuteTime": {
     "end_time": "2021-11-27T05:38:02.510458Z",
     "start_time": "2021-11-27T05:37:59.650907Z"
    }
   },
   "outputs": [],
   "source": [
    "## 可视化库\n",
    "import matplotlib.pyplot as plt\n",
    "import seaborn as sns"
   ]
  },
  {
   "cell_type": "code",
   "execution_count": 3,
   "metadata": {
    "ExecuteTime": {
     "end_time": "2021-11-27T05:38:02.605421Z",
     "start_time": "2021-11-27T05:38:02.516451Z"
    }
   },
   "outputs": [
    {
     "data": {
      "text/html": [
       "<div>\n",
       "<style scoped>\n",
       "    .dataframe tbody tr th:only-of-type {\n",
       "        vertical-align: middle;\n",
       "    }\n",
       "\n",
       "    .dataframe tbody tr th {\n",
       "        vertical-align: top;\n",
       "    }\n",
       "\n",
       "    .dataframe thead th {\n",
       "        text-align: right;\n",
       "    }\n",
       "</style>\n",
       "<table border=\"1\" class=\"dataframe\">\n",
       "  <thead>\n",
       "    <tr style=\"text-align: right;\">\n",
       "      <th></th>\n",
       "      <th>satisfaction_level</th>\n",
       "      <th>last_evaluation</th>\n",
       "      <th>number_project</th>\n",
       "      <th>average_monthly_hours</th>\n",
       "      <th>time_spend_company</th>\n",
       "      <th>Work_accident</th>\n",
       "      <th>left</th>\n",
       "      <th>promotion_last_5years</th>\n",
       "      <th>Department</th>\n",
       "      <th>salary</th>\n",
       "    </tr>\n",
       "  </thead>\n",
       "  <tbody>\n",
       "    <tr>\n",
       "      <th>0</th>\n",
       "      <td>0.38</td>\n",
       "      <td>0.53</td>\n",
       "      <td>2</td>\n",
       "      <td>157</td>\n",
       "      <td>3</td>\n",
       "      <td>0</td>\n",
       "      <td>1</td>\n",
       "      <td>0</td>\n",
       "      <td>sales</td>\n",
       "      <td>low</td>\n",
       "    </tr>\n",
       "    <tr>\n",
       "      <th>1</th>\n",
       "      <td>0.80</td>\n",
       "      <td>0.86</td>\n",
       "      <td>5</td>\n",
       "      <td>262</td>\n",
       "      <td>6</td>\n",
       "      <td>0</td>\n",
       "      <td>1</td>\n",
       "      <td>0</td>\n",
       "      <td>sales</td>\n",
       "      <td>medium</td>\n",
       "    </tr>\n",
       "    <tr>\n",
       "      <th>2</th>\n",
       "      <td>0.11</td>\n",
       "      <td>0.88</td>\n",
       "      <td>7</td>\n",
       "      <td>272</td>\n",
       "      <td>4</td>\n",
       "      <td>0</td>\n",
       "      <td>1</td>\n",
       "      <td>0</td>\n",
       "      <td>sales</td>\n",
       "      <td>medium</td>\n",
       "    </tr>\n",
       "    <tr>\n",
       "      <th>3</th>\n",
       "      <td>0.72</td>\n",
       "      <td>0.87</td>\n",
       "      <td>5</td>\n",
       "      <td>223</td>\n",
       "      <td>5</td>\n",
       "      <td>0</td>\n",
       "      <td>1</td>\n",
       "      <td>0</td>\n",
       "      <td>sales</td>\n",
       "      <td>low</td>\n",
       "    </tr>\n",
       "    <tr>\n",
       "      <th>4</th>\n",
       "      <td>0.37</td>\n",
       "      <td>0.52</td>\n",
       "      <td>2</td>\n",
       "      <td>159</td>\n",
       "      <td>3</td>\n",
       "      <td>0</td>\n",
       "      <td>1</td>\n",
       "      <td>0</td>\n",
       "      <td>sales</td>\n",
       "      <td>low</td>\n",
       "    </tr>\n",
       "  </tbody>\n",
       "</table>\n",
       "</div>"
      ],
      "text/plain": [
       "   satisfaction_level  last_evaluation  number_project  average_monthly_hours  \\\n",
       "0                0.38             0.53               2                    157   \n",
       "1                0.80             0.86               5                    262   \n",
       "2                0.11             0.88               7                    272   \n",
       "3                0.72             0.87               5                    223   \n",
       "4                0.37             0.52               2                    159   \n",
       "\n",
       "   time_spend_company  Work_accident  left  promotion_last_5years Department  \\\n",
       "0                   3              0     1                      0      sales   \n",
       "1                   6              0     1                      0      sales   \n",
       "2                   4              0     1                      0      sales   \n",
       "3                   5              0     1                      0      sales   \n",
       "4                   3              0     1                      0      sales   \n",
       "\n",
       "   salary  \n",
       "0     low  \n",
       "1  medium  \n",
       "2  medium  \n",
       "3     low  \n",
       "4     low  "
      ]
     },
     "execution_count": 3,
     "metadata": {},
     "output_type": "execute_result"
    }
   ],
   "source": [
    "df = pd.read_csv(\".//datasets//HR_comma_sep.csv\")\n",
    "df.head()"
   ]
  },
  {
   "cell_type": "code",
   "execution_count": 4,
   "metadata": {
    "ExecuteTime": {
     "end_time": "2021-11-27T05:38:03.910182Z",
     "start_time": "2021-11-27T05:38:03.801244Z"
    }
   },
   "outputs": [
    {
     "data": {
      "text/html": [
       "<div>\n",
       "<style scoped>\n",
       "    .dataframe tbody tr th:only-of-type {\n",
       "        vertical-align: middle;\n",
       "    }\n",
       "\n",
       "    .dataframe tbody tr th {\n",
       "        vertical-align: top;\n",
       "    }\n",
       "\n",
       "    .dataframe thead th {\n",
       "        text-align: right;\n",
       "    }\n",
       "</style>\n",
       "<table border=\"1\" class=\"dataframe\">\n",
       "  <thead>\n",
       "    <tr style=\"text-align: right;\">\n",
       "      <th></th>\n",
       "      <th>satisfaction_level</th>\n",
       "      <th>last_evaluation</th>\n",
       "      <th>number_project</th>\n",
       "      <th>average_monthly_hours</th>\n",
       "      <th>time_spend_company</th>\n",
       "      <th>Work_accident</th>\n",
       "      <th>left</th>\n",
       "      <th>promotion_last_5years</th>\n",
       "    </tr>\n",
       "  </thead>\n",
       "  <tbody>\n",
       "    <tr>\n",
       "      <th>count</th>\n",
       "      <td>14999.000000</td>\n",
       "      <td>14999.000000</td>\n",
       "      <td>14999.000000</td>\n",
       "      <td>14999.000000</td>\n",
       "      <td>14999.000000</td>\n",
       "      <td>14999.000000</td>\n",
       "      <td>14999.000000</td>\n",
       "      <td>14999.000000</td>\n",
       "    </tr>\n",
       "    <tr>\n",
       "      <th>mean</th>\n",
       "      <td>0.612834</td>\n",
       "      <td>0.716102</td>\n",
       "      <td>3.803054</td>\n",
       "      <td>201.050337</td>\n",
       "      <td>3.498233</td>\n",
       "      <td>0.144610</td>\n",
       "      <td>0.238083</td>\n",
       "      <td>0.021268</td>\n",
       "    </tr>\n",
       "    <tr>\n",
       "      <th>std</th>\n",
       "      <td>0.248631</td>\n",
       "      <td>0.171169</td>\n",
       "      <td>1.232592</td>\n",
       "      <td>49.943099</td>\n",
       "      <td>1.460136</td>\n",
       "      <td>0.351719</td>\n",
       "      <td>0.425924</td>\n",
       "      <td>0.144281</td>\n",
       "    </tr>\n",
       "    <tr>\n",
       "      <th>min</th>\n",
       "      <td>0.090000</td>\n",
       "      <td>0.360000</td>\n",
       "      <td>2.000000</td>\n",
       "      <td>96.000000</td>\n",
       "      <td>2.000000</td>\n",
       "      <td>0.000000</td>\n",
       "      <td>0.000000</td>\n",
       "      <td>0.000000</td>\n",
       "    </tr>\n",
       "    <tr>\n",
       "      <th>25%</th>\n",
       "      <td>0.440000</td>\n",
       "      <td>0.560000</td>\n",
       "      <td>3.000000</td>\n",
       "      <td>156.000000</td>\n",
       "      <td>3.000000</td>\n",
       "      <td>0.000000</td>\n",
       "      <td>0.000000</td>\n",
       "      <td>0.000000</td>\n",
       "    </tr>\n",
       "    <tr>\n",
       "      <th>50%</th>\n",
       "      <td>0.640000</td>\n",
       "      <td>0.720000</td>\n",
       "      <td>4.000000</td>\n",
       "      <td>200.000000</td>\n",
       "      <td>3.000000</td>\n",
       "      <td>0.000000</td>\n",
       "      <td>0.000000</td>\n",
       "      <td>0.000000</td>\n",
       "    </tr>\n",
       "    <tr>\n",
       "      <th>75%</th>\n",
       "      <td>0.820000</td>\n",
       "      <td>0.870000</td>\n",
       "      <td>5.000000</td>\n",
       "      <td>245.000000</td>\n",
       "      <td>4.000000</td>\n",
       "      <td>0.000000</td>\n",
       "      <td>0.000000</td>\n",
       "      <td>0.000000</td>\n",
       "    </tr>\n",
       "    <tr>\n",
       "      <th>max</th>\n",
       "      <td>1.000000</td>\n",
       "      <td>1.000000</td>\n",
       "      <td>7.000000</td>\n",
       "      <td>310.000000</td>\n",
       "      <td>10.000000</td>\n",
       "      <td>1.000000</td>\n",
       "      <td>1.000000</td>\n",
       "      <td>1.000000</td>\n",
       "    </tr>\n",
       "  </tbody>\n",
       "</table>\n",
       "</div>"
      ],
      "text/plain": [
       "       satisfaction_level  last_evaluation  number_project  \\\n",
       "count        14999.000000     14999.000000    14999.000000   \n",
       "mean             0.612834         0.716102        3.803054   \n",
       "std              0.248631         0.171169        1.232592   \n",
       "min              0.090000         0.360000        2.000000   \n",
       "25%              0.440000         0.560000        3.000000   \n",
       "50%              0.640000         0.720000        4.000000   \n",
       "75%              0.820000         0.870000        5.000000   \n",
       "max              1.000000         1.000000        7.000000   \n",
       "\n",
       "       average_monthly_hours  time_spend_company  Work_accident          left  \\\n",
       "count           14999.000000        14999.000000   14999.000000  14999.000000   \n",
       "mean              201.050337            3.498233       0.144610      0.238083   \n",
       "std                49.943099            1.460136       0.351719      0.425924   \n",
       "min                96.000000            2.000000       0.000000      0.000000   \n",
       "25%               156.000000            3.000000       0.000000      0.000000   \n",
       "50%               200.000000            3.000000       0.000000      0.000000   \n",
       "75%               245.000000            4.000000       0.000000      0.000000   \n",
       "max               310.000000           10.000000       1.000000      1.000000   \n",
       "\n",
       "       promotion_last_5years  \n",
       "count           14999.000000  \n",
       "mean                0.021268  \n",
       "std                 0.144281  \n",
       "min                 0.000000  \n",
       "25%                 0.000000  \n",
       "50%                 0.000000  \n",
       "75%                 0.000000  \n",
       "max                 1.000000  "
      ]
     },
     "execution_count": 4,
     "metadata": {},
     "output_type": "execute_result"
    }
   ],
   "source": [
    "df.describe() # 描述性统计"
   ]
  },
  {
   "cell_type": "markdown",
   "metadata": {
    "ExecuteTime": {
     "end_time": "2021-11-23T06:18:32.692184Z",
     "start_time": "2021-11-23T06:18:32.688186Z"
    }
   },
   "source": [
    "### 条形图"
   ]
  },
  {
   "cell_type": "code",
   "execution_count": 5,
   "metadata": {
    "ExecuteTime": {
     "end_time": "2021-11-27T05:38:10.466418Z",
     "start_time": "2021-11-27T05:38:09.584902Z"
    }
   },
   "outputs": [
    {
     "data": {
      "image/png": "[encoded data removed]",
      "text/plain": [
       "<Figure size 432x288 with 1 Axes>"
      ]
     },
     "metadata": {
      "needs_background": "light"
     },
     "output_type": "display_data"
    }
   ],
   "source": [
    "## seaborn 柱状图 countplot\n",
    "## 设置显示效果：背景、样式、颜色等\n",
    "# sns.set_style(style=\"whitegrid\") # 背景\n",
    "# sns.set_context(context=\"poster\", font_scale=0.8) # 字体字号\n",
    "# sns.set_palette(sns.color_palette(\"RdBu\", n_colors=7)) # 颜色\n",
    "## 绘制条形图\n",
    "sns.countplot(x=\"salary\", hue=\"Department\", data=df)\n",
    "plt.show()"
   ]
  },
  {
   "cell_type": "code",
   "execution_count": 6,
   "metadata": {
    "ExecuteTime": {
     "end_time": "2021-11-27T05:38:11.870285Z",
     "start_time": "2021-11-27T05:38:11.520488Z"
    }
   },
   "outputs": [
    {
     "data": {
      "image/png": "[encoded data removed]",
      "text/plain": [
       "<Figure size 432x288 with 1 Axes>"
      ]
     },
     "metadata": {
      "needs_background": "light"
     },
     "output_type": "display_data"
    }
   ],
   "source": [
    "## 可视化\n",
    "## 设置显示效果：背景、样式、颜色等\n",
    "# sns.set_style(style=\"whitegrid\") # 背景样式\n",
    "# sns.set_context(context=\"poster\", font_scale=0.7) # 字体字号\n",
    "# sns.set_palette([sns.color_palette(\"RdBu\", n_colors=7)[5]]) # 柱条颜色\n",
    "## matplotlib 柱状图 bar\n",
    "## 绘制条形图 bar(), barh()\n",
    "plt.title(\"SALARY\") # 标题\n",
    "plt.xlabel(\"Salary\") # X 轴注释\n",
    "plt.ylabel(\"Number\") # Y 轴注释\n",
    "plt.xticks(np.arange(len(df[\"salary\"].value_counts()))+0.5, df[\"salary\"].value_counts().index)\n",
    "plt.axis([0,4,0,10000])\n",
    "plt.bar(np.arange(len(df[\"salary\"].value_counts()))+0.5, df[\"salary\"].value_counts(), width=0.5)\n",
    "for x,y in zip(np.arange(len(df[\"salary\"].value_counts()))+0.5, df[\"salary\"].value_counts()):\n",
    "    plt.text(x,y,y,ha=\"center\",va=\"bottom\")\n",
    "plt.show()"
   ]
  },
  {
   "cell_type": "markdown",
   "metadata": {},
   "source": [
    "### 直方图"
   ]
  },
  {
   "cell_type": "code",
   "execution_count": 7,
   "metadata": {
    "ExecuteTime": {
     "end_time": "2021-11-27T05:38:18.332098Z",
     "start_time": "2021-11-27T05:38:17.208743Z"
    }
   },
   "outputs": [
    {
     "name": "stderr",
     "output_type": "stream",
     "text": [
      "c:\\programdata\\miniconda3\\lib\\site-packages\\seaborn\\distributions.py:2557: FutureWarning: `distplot` is a deprecated function and will be removed in a future version. Please adapt your code to use either `displot` (a figure-level function with similar flexibility) or `histplot` (an axes-level function for histograms).\n",
      "  warnings.warn(msg, FutureWarning)\n",
      "c:\\programdata\\miniconda3\\lib\\site-packages\\seaborn\\distributions.py:2557: FutureWarning: `distplot` is a deprecated function and will be removed in a future version. Please adapt your code to use either `displot` (a figure-level function with similar flexibility) or `histplot` (an axes-level function for histograms).\n",
      "  warnings.warn(msg, FutureWarning)\n",
      "c:\\programdata\\miniconda3\\lib\\site-packages\\seaborn\\distributions.py:2557: FutureWarning: `distplot` is a deprecated function and will be removed in a future version. Please adapt your code to use either `displot` (a figure-level function with similar flexibility) or `histplot` (an axes-level function for histograms).\n",
      "  warnings.warn(msg, FutureWarning)\n"
     ]
    },
    {
     "data": {
      "image/png": "[encoded data removed]",
      "text/plain": [
       "<Figure size 432x288 with 3 Axes>"
      ]
     },
     "metadata": {
      "needs_background": "light"
     },
     "output_type": "display_data"
    }
   ],
   "source": [
    "## seaborn 直方图 distplot\n",
    "f = plt.figure()\n",
    "# plt.subplots_adjust(wspace=0.8, hspace=0.8) # 调整子图格式\n",
    "f.add_subplot(1,3,1)\n",
    "sns.distplot(df[\"satisfaction_level\"], bins=10) # kde=True, hist=True\n",
    "f.add_subplot(1,3,2)\n",
    "sns.distplot(df[\"last_evaluation\"], bins=10)\n",
    "f.add_subplot(1,3,3)\n",
    "sns.distplot(df[\"average_monthly_hours\"], bins=10)\n",
    "plt.show()"
   ]
  },
  {
   "cell_type": "markdown",
   "metadata": {},
   "source": [
    "### 箱线图"
   ]
  },
  {
   "cell_type": "code",
   "execution_count": 8,
   "metadata": {
    "ExecuteTime": {
     "end_time": "2021-11-27T05:38:41.816386Z",
     "start_time": "2021-11-27T05:38:41.515557Z"
    }
   },
   "outputs": [
    {
     "data": {
      "image/png": "[encoded data removed]",
      "text/plain": [
       "<Figure size 432x288 with 1 Axes>"
      ]
     },
     "metadata": {
      "needs_background": "light"
     },
     "output_type": "display_data"
    }
   ],
   "source": [
    "## BOX PLOT\n",
    "sns.boxplot(y=df[\"time_spend_company\"])\n",
    "plt.show()"
   ]
  },
  {
   "cell_type": "markdown",
   "metadata": {},
   "source": [
    "### 折线图"
   ]
  },
  {
   "cell_type": "code",
   "execution_count": 9,
   "metadata": {
    "ExecuteTime": {
     "end_time": "2021-11-27T05:38:48.648784Z",
     "start_time": "2021-11-27T05:38:47.664349Z"
    }
   },
   "outputs": [
    {
     "data": {
      "image/png": "[encoded data removed]",
      "text/plain": [
       "<Figure size 432x288 with 1 Axes>"
      ]
     },
     "metadata": {
      "needs_background": "light"
     },
     "output_type": "display_data"
    }
   ],
   "source": [
    "## LINE PLOT (POINT PLOT)\n",
    "# sub_df = df.groupby(\"time_spend_company\").mean()\n",
    "# sns.pointplot(sub_df.index, sub_df[\"left\"])\n",
    "sns.pointplot(x=\"time_spend_company\", y=\"left\", data=df)\n",
    "plt.show()"
   ]
  },
  {
   "cell_type": "markdown",
   "metadata": {},
   "source": [
    "### 饼图"
   ]
  },
  {
   "cell_type": "code",
   "execution_count": 10,
   "metadata": {
    "ExecuteTime": {
     "end_time": "2021-11-27T05:38:55.017718Z",
     "start_time": "2021-11-27T05:38:54.579977Z"
    }
   },
   "outputs": [
    {
     "data": {
      "image/png": "[encoded data removed]",
      "text/plain": [
       "<Figure size 432x288 with 1 Axes>"
      ]
     },
     "metadata": {},
     "output_type": "display_data"
    }
   ],
   "source": [
    "## PIE\n",
    "lbs = df[\"Department\"].value_counts().index\n",
    "explodes = [0.1 if i==\"sales\" else 0 for i in lbs] # 突出显示 sales\n",
    "plt.pie(df[\"Department\"].value_counts(normalize=True), explode=explodes, labels=lbs, autopct=\"%1.1f%%\", colors=sns.color_palette(\"Reds\"))\n",
    "plt.show()"
   ]
  },
  {
   "cell_type": "markdown",
   "metadata": {},
   "source": [
    "# 探索型数据分析（多因子与复合分析）\n",
    "- 假设检验与方差分析\n",
    "- 相关系数：皮尔逊、斯皮尔曼\n",
    "- 回归：线性回归\n",
    "- PCA与奇异值分解\n",
    "\n",
    "## 假设检验\n",
    "1. 建立原假设 $H_0$\n",
    "2. 选择统计量\n",
    "3. 显著性水平 $\\alpha$ ：一般为 0.05\n",
    "4. 计算 $p$ 值，做出判断：$p<\\alpha$ 则拒绝原假设 $H_0$（多采取双边检验）\n",
    "\n",
    "## 卡方检验\n",
    "- 卡方检验：$$\\chi ^2 = \\sum ^{k}_{i=1}\\frac{(f_i-np_i)^2}{np_i}$$\n",
    "\n",
    "## 方差检验（F 检验）\n",
    "### 单因素方差分析\n",
    "- m：组数 n：采样数\n",
    "- 离差平方和：$$SST = \\sum^{m}_{i=1}\\sum^{n_i}_{j=1}(x_{ij}-\\bar{x})^2$$\n",
    "- 组间平方和：$$SSM = \\sum^{m}_{i=1}\\sum^{n_i}_{j=1}(x_{i}-\\bar{x})^2$$\n",
    "- 残差平方和：$$SSE = \\sum^{m}_{i=1}\\sum^{n_i}_{j=1}(x_{i}-\\bar{x_i})^2$$\n",
    "- F 分布：$$F = \\frac{SSM/(m-1)}{SSE/(n-m)}$$\n",
    "- p值：查表得 $p_{value}$\n",
    "\n",
    "## 相关系数\n",
    "### 皮尔逊相关系数（Pearson correlation coefficient）\n",
    "- 皮尔逊相关系数：\n",
    "$$\\gamma(X,Y) = \\frac{Cov(X,Y)}{\\sigma_x\\sigma_y} = \\frac{E[(X-\\mu_x)(Y-\\mu_y)]}{\\sigma_x\\sigma_y}$$\n",
    "\n",
    "### 斯皮尔曼相关系数（Spearman correlation coefficient）\n",
    "- 斯皮尔曼相关系数：\n",
    "$$\\rho_s = 1-\\frac{6\\sum d^{2}_{i}}{n(n^2-1)}$$\n",
    "\n",
    "## 线性回归\n",
    "- 线性回归：\n",
    "<img style=\"float: center;\" src=\"./figures/线性回归.png\" width=\"50%\">\n",
    "<center>Fig. 线性回归</center>\n",
    "\n",
    "- 线性回归检验：\n",
    "<img style=\"float: center;\" src=\"./figures/线型回归检验.png\" width=\"50%\">\n",
    "<center>Fig. 线型回归检验</center>\n",
    "\n",
    "\n",
    "## 数据降维\n",
    "### 主成分分析（PCA）\n",
    "- 求特征协方差矩阵\n",
    "- 求协方差的特征值和特征向量\n",
    "- 求贡献率和累计贡献率\n",
    "\n",
    "### 奇异值分解（SVD）\n",
    "- 奇异值分解：特征矩阵 $A$ 分解为 $m*n$ 的酉矩阵 $U$，$m*n$ 半正定矩阵（奇异值阵），$n*n$ 酉矩阵转置 $V$\n",
    "$$A = U\\sum V^T$$\n",
    "$$A_{m*n} \\approx U_{m*r}\\Sigma_{r*r}V^{T}_{r*n}$$\n",
    "$$U^T_{r*m}A_{m*n} = \\Sigma_{r*r}V^T_{r*n}$$\n",
    "\n"
   ]
  },
  {
   "cell_type": "code",
   "execution_count": 11,
   "metadata": {
    "ExecuteTime": {
     "end_time": "2021-11-27T05:38:58.041603Z",
     "start_time": "2021-11-27T05:38:58.022614Z"
    }
   },
   "outputs": [],
   "source": [
    "## 导包\n",
    "import numpy as np # 数值计算\n",
    "import scipy.stats as ss # 统计学习"
   ]
  },
  {
   "cell_type": "code",
   "execution_count": 12,
   "metadata": {
    "ExecuteTime": {
     "end_time": "2021-11-27T05:38:58.996726Z",
     "start_time": "2021-11-27T05:38:58.984733Z"
    }
   },
   "outputs": [
    {
     "data": {
      "text/plain": [
       "array([ 1.26997114,  0.47547086, -1.54249503, -0.51322885, -0.7803707 ,\n",
       "        2.64918917,  0.97119276, -1.24470206,  0.03719105, -1.10228525,\n",
       "        2.31039944, -0.64720943, -0.41388682, -0.235524  , -0.00533999,\n",
       "       -0.16374383,  1.09002198,  0.64097722,  0.460957  ,  0.76081187])"
      ]
     },
     "execution_count": 12,
     "metadata": {},
     "output_type": "execute_result"
    }
   ],
   "source": [
    "norm_dist = ss.norm.rvs(size=20) # 构造一个正太分布\n",
    "norm_dist"
   ]
  },
  {
   "cell_type": "code",
   "execution_count": 13,
   "metadata": {
    "ExecuteTime": {
     "end_time": "2021-11-27T05:38:59.925742Z",
     "start_time": "2021-11-27T05:38:59.904757Z"
    }
   },
   "outputs": [
    {
     "data": {
      "text/plain": [
       "NormaltestResult(statistic=1.5585531428209205, pvalue=0.4587377553014962)"
      ]
     },
     "execution_count": 13,
     "metadata": {},
     "output_type": "execute_result"
    }
   ],
   "source": [
    "ss.normaltest(norm_dist) # 正太检验"
   ]
  },
  {
   "cell_type": "code",
   "execution_count": 14,
   "metadata": {
    "ExecuteTime": {
     "end_time": "2021-11-27T05:39:02.430736Z",
     "start_time": "2021-11-27T05:39:02.413770Z"
    }
   },
   "outputs": [
    {
     "data": {
      "text/plain": [
       "(126.08080808080808,\n",
       " 2.9521414005078985e-29,\n",
       " 1,\n",
       " array([[55., 55.],\n",
       "        [45., 45.]]))"
      ]
     },
     "execution_count": 14,
     "metadata": {},
     "output_type": "execute_result"
    }
   ],
   "source": [
    "ss.chi2_contingency([[15,95],[85,5]]) # 卡方检验"
   ]
  },
  {
   "cell_type": "code",
   "execution_count": 15,
   "metadata": {
    "ExecuteTime": {
     "end_time": "2021-11-27T05:39:03.279739Z",
     "start_time": "2021-11-27T05:39:03.255754Z"
    }
   },
   "outputs": [
    {
     "data": {
      "text/plain": [
       "Ttest_indResult(statistic=1.04523429764923, pvalue=0.3048548320063531)"
      ]
     },
     "execution_count": 15,
     "metadata": {},
     "output_type": "execute_result"
    }
   ],
   "source": [
    "ss.ttest_ind(ss.norm.rvs(size=10), ss.norm.rvs(size=20)) # t检验"
   ]
  },
  {
   "cell_type": "code",
   "execution_count": 16,
   "metadata": {
    "ExecuteTime": {
     "end_time": "2021-11-27T05:39:04.130567Z",
     "start_time": "2021-11-27T05:39:04.120574Z"
    }
   },
   "outputs": [
    {
     "data": {
      "text/plain": [
       "F_onewayResult(statistic=16.71888111888112, pvalue=0.00033930156922179407)"
      ]
     },
     "execution_count": 16,
     "metadata": {},
     "output_type": "execute_result"
    }
   ],
   "source": [
    "ss.f_oneway([49,50,39,40,43],[28,32,20,26,34],[38,40,45,42,48]) # 方差检验"
   ]
  },
  {
   "cell_type": "code",
   "execution_count": 17,
   "metadata": {
    "ExecuteTime": {
     "end_time": "2021-11-27T05:39:05.779834Z",
     "start_time": "2021-11-27T05:39:04.872712Z"
    }
   },
   "outputs": [],
   "source": [
    "from statsmodels.graphics.api import qqplot\n",
    "from matplotlib import pyplot as plt"
   ]
  },
  {
   "cell_type": "code",
   "execution_count": 18,
   "metadata": {
    "ExecuteTime": {
     "end_time": "2021-11-27T05:39:06.794734Z",
     "start_time": "2021-11-27T05:39:06.367978Z"
    }
   },
   "outputs": [
    {
     "data": {
      "image/png": "[encoded data removed]",
      "text/plain": [
       "<Figure size 432x288 with 1 Axes>"
      ]
     },
     "metadata": {
      "needs_background": "light"
     },
     "output_type": "display_data"
    }
   ],
   "source": [
    "plt.show(qqplot(ss.norm.rvs(size=100))) # QQ图（默认检验正太分布）"
   ]
  },
  {
   "cell_type": "code",
   "execution_count": 20,
   "metadata": {
    "ExecuteTime": {
     "end_time": "2021-11-27T05:39:20.581410Z",
     "start_time": "2021-11-27T05:39:20.572415Z"
    }
   },
   "outputs": [],
   "source": [
    "import pandas as pd # 数据分析"
   ]
  },
  {
   "cell_type": "code",
   "execution_count": 21,
   "metadata": {
    "ExecuteTime": {
     "end_time": "2021-11-27T05:39:21.742745Z",
     "start_time": "2021-11-27T05:39:21.724756Z"
    }
   },
   "outputs": [
    {
     "data": {
      "text/plain": [
       "0.9333729600465923"
      ]
     },
     "execution_count": 21,
     "metadata": {},
     "output_type": "execute_result"
    }
   ],
   "source": [
    "s1 = pd.Series([0.1,0.2,1.1,2.4,1.3,0.3,0.5])\n",
    "s2 = pd.Series([0.5,0.4,1.2,2.5,1.1,0.7,0.1])\n",
    "s1.corr(s2)"
   ]
  },
  {
   "cell_type": "code",
   "execution_count": 22,
   "metadata": {
    "ExecuteTime": {
     "end_time": "2021-11-27T05:39:22.394373Z",
     "start_time": "2021-11-27T05:39:22.381382Z"
    }
   },
   "outputs": [
    {
     "data": {
      "text/plain": [
       "0.7142857142857144"
      ]
     },
     "execution_count": 22,
     "metadata": {},
     "output_type": "execute_result"
    }
   ],
   "source": [
    "s1.corr(s2, method=\"spearman\")"
   ]
  },
  {
   "cell_type": "code",
   "execution_count": 23,
   "metadata": {
    "ExecuteTime": {
     "end_time": "2021-11-27T05:39:23.027010Z",
     "start_time": "2021-11-27T05:39:23.004023Z"
    }
   },
   "outputs": [
    {
     "data": {
      "text/html": [
       "<div>\n",
       "<style scoped>\n",
       "    .dataframe tbody tr th:only-of-type {\n",
       "        vertical-align: middle;\n",
       "    }\n",
       "\n",
       "    .dataframe tbody tr th {\n",
       "        vertical-align: top;\n",
       "    }\n",
       "\n",
       "    .dataframe thead th {\n",
       "        text-align: right;\n",
       "    }\n",
       "</style>\n",
       "<table border=\"1\" class=\"dataframe\">\n",
       "  <thead>\n",
       "    <tr style=\"text-align: right;\">\n",
       "      <th></th>\n",
       "      <th>0</th>\n",
       "      <th>1</th>\n",
       "    </tr>\n",
       "  </thead>\n",
       "  <tbody>\n",
       "    <tr>\n",
       "      <th>0</th>\n",
       "      <td>1.000000</td>\n",
       "      <td>0.933373</td>\n",
       "    </tr>\n",
       "    <tr>\n",
       "      <th>1</th>\n",
       "      <td>0.933373</td>\n",
       "      <td>1.000000</td>\n",
       "    </tr>\n",
       "  </tbody>\n",
       "</table>\n",
       "</div>"
      ],
      "text/plain": [
       "          0         1\n",
       "0  1.000000  0.933373\n",
       "1  0.933373  1.000000"
      ]
     },
     "execution_count": 23,
     "metadata": {},
     "output_type": "execute_result"
    }
   ],
   "source": [
    "# df = pd.DataFrame([s1, s2])\n",
    "df = pd.DataFrame(np.array([s1,s2]).T) # 转置\n",
    "df.corr() # 对列进行相关性计算"
   ]
  },
  {
   "cell_type": "code",
   "execution_count": 24,
   "metadata": {
    "ExecuteTime": {
     "end_time": "2021-11-27T05:39:23.804566Z",
     "start_time": "2021-11-27T05:39:23.784578Z"
    }
   },
   "outputs": [],
   "source": [
    "x = np.arange(10).astype(np.float).reshape(10,1) # 强制类型转换\n",
    "y = x*3 + 4 + np.random.random((10,1)) # np.random.random(()) 是引入的噪声"
   ]
  },
  {
   "cell_type": "code",
   "execution_count": 25,
   "metadata": {
    "ExecuteTime": {
     "end_time": "2021-11-27T05:39:26.799017Z",
     "start_time": "2021-11-27T05:39:24.696064Z"
    }
   },
   "outputs": [],
   "source": [
    "from sklearn.linear_model import LinearRegression # 线性回归"
   ]
  },
  {
   "cell_type": "code",
   "execution_count": 26,
   "metadata": {
    "ExecuteTime": {
     "end_time": "2021-11-27T05:39:26.830999Z",
     "start_time": "2021-11-27T05:39:26.804015Z"
    }
   },
   "outputs": [
    {
     "data": {
      "text/plain": [
       "array([[ 4.34350049],\n",
       "       [ 7.35891452],\n",
       "       [10.37432854],\n",
       "       [13.38974257],\n",
       "       [16.40515659],\n",
       "       [19.42057061],\n",
       "       [22.43598464],\n",
       "       [25.45139866],\n",
       "       [28.46681268],\n",
       "       [31.48222671]])"
      ]
     },
     "execution_count": 26,
     "metadata": {},
     "output_type": "execute_result"
    }
   ],
   "source": [
    "reg = LinearRegression()\n",
    "res = reg.fit(x,y)\n",
    "y_pred = reg.predict(x)\n",
    "y_pred"
   ]
  },
  {
   "cell_type": "code",
   "execution_count": 27,
   "metadata": {
    "ExecuteTime": {
     "end_time": "2021-11-27T05:39:28.703630Z",
     "start_time": "2021-11-27T05:39:28.675644Z"
    }
   },
   "outputs": [
    {
     "data": {
      "text/plain": [
       "array([[2.5, 2.4],\n",
       "       [0.5, 0.7],\n",
       "       [2.2, 2.9],\n",
       "       [1.9, 2.2],\n",
       "       [3.1, 3. ],\n",
       "       [2.3, 2.7],\n",
       "       [2. , 1.6],\n",
       "       [1. , 1.1],\n",
       "       [1.5, 1.6],\n",
       "       [1.1, 0.9]])"
      ]
     },
     "execution_count": 27,
     "metadata": {},
     "output_type": "execute_result"
    }
   ],
   "source": [
    "data = np.array([np.array([2.5, 0.5, 2.2, 1.9, 3.1, 2.3, 2, 1, 1.5, 1.1]), \n",
    "                 np.array([2.4, 0.7, 2.9, 2.2, 3, 2.7, 1.6, 1.1, 1.6, 0.9])]).T\n",
    "data"
   ]
  },
  {
   "cell_type": "code",
   "execution_count": 29,
   "metadata": {
    "ExecuteTime": {
     "end_time": "2021-11-27T05:39:37.359914Z",
     "start_time": "2021-11-27T05:39:37.339924Z"
    }
   },
   "outputs": [],
   "source": [
    "from sklearn.decomposition import PCA # 主成分分析"
   ]
  },
  {
   "cell_type": "code",
   "execution_count": 30,
   "metadata": {
    "ExecuteTime": {
     "end_time": "2021-11-27T05:39:38.263795Z",
     "start_time": "2021-11-27T05:39:38.232812Z"
    }
   },
   "outputs": [
    {
     "data": {
      "text/plain": [
       "PCA(n_components=1)"
      ]
     },
     "execution_count": 30,
     "metadata": {},
     "output_type": "execute_result"
    }
   ],
   "source": [
    "lower_dim = PCA(n_components=1)\n",
    "lower_dim.fit(data)"
   ]
  },
  {
   "cell_type": "code",
   "execution_count": 31,
   "metadata": {
    "ExecuteTime": {
     "end_time": "2021-11-27T05:39:41.058296Z",
     "start_time": "2021-11-27T05:39:41.036309Z"
    }
   },
   "outputs": [
    {
     "data": {
      "text/plain": [
       "array([0.96318131])"
      ]
     },
     "execution_count": 31,
     "metadata": {},
     "output_type": "execute_result"
    }
   ],
   "source": [
    "lower_dim.explained_variance_ratio_"
   ]
  },
  {
   "cell_type": "code",
   "execution_count": 32,
   "metadata": {
    "ExecuteTime": {
     "end_time": "2021-11-27T05:39:41.706925Z",
     "start_time": "2021-11-27T05:39:41.684937Z"
    }
   },
   "outputs": [
    {
     "data": {
      "text/plain": [
       "array([[-0.82797019],\n",
       "       [ 1.77758033],\n",
       "       [-0.99219749],\n",
       "       [-0.27421042],\n",
       "       [-1.67580142],\n",
       "       [-0.9129491 ],\n",
       "       [ 0.09910944],\n",
       "       [ 1.14457216],\n",
       "       [ 0.43804614],\n",
       "       [ 1.22382056]])"
      ]
     },
     "execution_count": 32,
     "metadata": {},
     "output_type": "execute_result"
    }
   ],
   "source": [
    "lower_dim.fit_transform(data)"
   ]
  },
  {
   "cell_type": "code",
   "execution_count": 33,
   "metadata": {
    "ExecuteTime": {
     "end_time": "2021-11-27T05:39:44.754962Z",
     "start_time": "2021-11-27T05:39:44.736974Z"
    }
   },
   "outputs": [],
   "source": [
    "# 导包\n",
    "import pandas as pd\n",
    "import numpy as np\n",
    "\n",
    "\n",
    "'''\n",
    "@desc: 主成分分析\n",
    "@func: \n",
    "@args: \n",
    "@ret: \n",
    "'''\n",
    "def myPCA(data, n_components=100000000):\n",
    "    mean_vals = np.mean(data, axis=0) # 属性的均值（列）\n",
    "    mid = data - mean_vals\n",
    "    cov_mat = np.cov(mid, rowvar=False) # 协方差矩阵\n",
    "    from scipy import linalg\n",
    "    eig_vals, eig_vects = linalg.eig(np.mat(cov_mat)) # 特征值、特征向量\n",
    "    eig_val_index = np.argsort(eig_vals) # 特征值排序后的索引\n",
    "    eig_val_index = eig_val_index[:-(n_components+1):-1]\n",
    "    eig_vects = eig_vects[:,eig_val_index]\n",
    "    low_dim_mat = np.dot(mid, eig_vects)\n",
    "    \n",
    "    return low_dim_mat, eig_vals\n",
    "    \n"
   ]
  },
  {
   "cell_type": "code",
   "execution_count": 34,
   "metadata": {
    "ExecuteTime": {
     "end_time": "2021-11-27T05:39:47.920434Z",
     "start_time": "2021-11-27T05:39:47.902446Z"
    }
   },
   "outputs": [
    {
     "name": "stdout",
     "output_type": "stream",
     "text": [
      "(array([[-0.82797019],\n",
      "       [ 1.77758033],\n",
      "       [-0.99219749],\n",
      "       [-0.27421042],\n",
      "       [-1.67580142],\n",
      "       [-0.9129491 ],\n",
      "       [ 0.09910944],\n",
      "       [ 1.14457216],\n",
      "       [ 0.43804614],\n",
      "       [ 1.22382056]]), array([0.0490834 +0.j, 1.28402771+0.j]))\n"
     ]
    }
   ],
   "source": [
    "data = np.array([np.array([2.5, 0.5, 2.2, 1.9, 3.1, 2.3, 2, 1, 1.5, 1.1]), \n",
    "                 np.array([2.4, 0.7, 2.9, 2.2, 3, 2.7, 1.6, 1.1, 1.6, 0.9])]).T\n",
    "print(myPCA(data, n_components=1))"
   ]
  },
  {
   "cell_type": "markdown",
   "metadata": {},
   "source": [
    "## 复合分析\n",
    "- 交叉分析\n",
    "- 分组分析\n",
    "- 相关分析\n",
    "- 因子分析\n",
    "- 聚类分析\n",
    "- 回归分析\n"
   ]
  },
  {
   "cell_type": "code",
   "execution_count": 35,
   "metadata": {
    "ExecuteTime": {
     "end_time": "2021-11-27T05:39:50.037927Z",
     "start_time": "2021-11-27T05:39:50.016945Z"
    }
   },
   "outputs": [],
   "source": [
    "## 导包\n",
    "import numpy as np # 数值计算\n",
    "import pandas as pd # 数据分析\n",
    "import scipy.stats as ss # 统计分析\n",
    "import matplotlib.pyplot as plt # 绘图\n",
    "import seaborn as sns # 绘图"
   ]
  },
  {
   "cell_type": "code",
   "execution_count": 36,
   "metadata": {
    "ExecuteTime": {
     "end_time": "2021-11-27T05:39:52.568757Z",
     "start_time": "2021-11-27T05:39:52.518271Z"
    }
   },
   "outputs": [
    {
     "data": {
      "text/html": [
       "<div>\n",
       "<style scoped>\n",
       "    .dataframe tbody tr th:only-of-type {\n",
       "        vertical-align: middle;\n",
       "    }\n",
       "\n",
       "    .dataframe tbody tr th {\n",
       "        vertical-align: top;\n",
       "    }\n",
       "\n",
       "    .dataframe thead th {\n",
       "        text-align: right;\n",
       "    }\n",
       "</style>\n",
       "<table border=\"1\" class=\"dataframe\">\n",
       "  <thead>\n",
       "    <tr style=\"text-align: right;\">\n",
       "      <th></th>\n",
       "      <th>satisfaction_level</th>\n",
       "      <th>last_evaluation</th>\n",
       "      <th>number_project</th>\n",
       "      <th>average_monthly_hours</th>\n",
       "      <th>time_spend_company</th>\n",
       "      <th>Work_accident</th>\n",
       "      <th>left</th>\n",
       "      <th>promotion_last_5years</th>\n",
       "      <th>Department</th>\n",
       "      <th>salary</th>\n",
       "    </tr>\n",
       "  </thead>\n",
       "  <tbody>\n",
       "    <tr>\n",
       "      <th>0</th>\n",
       "      <td>0.38</td>\n",
       "      <td>0.53</td>\n",
       "      <td>2</td>\n",
       "      <td>157</td>\n",
       "      <td>3</td>\n",
       "      <td>0</td>\n",
       "      <td>1</td>\n",
       "      <td>0</td>\n",
       "      <td>sales</td>\n",
       "      <td>low</td>\n",
       "    </tr>\n",
       "    <tr>\n",
       "      <th>1</th>\n",
       "      <td>0.80</td>\n",
       "      <td>0.86</td>\n",
       "      <td>5</td>\n",
       "      <td>262</td>\n",
       "      <td>6</td>\n",
       "      <td>0</td>\n",
       "      <td>1</td>\n",
       "      <td>0</td>\n",
       "      <td>sales</td>\n",
       "      <td>medium</td>\n",
       "    </tr>\n",
       "    <tr>\n",
       "      <th>2</th>\n",
       "      <td>0.11</td>\n",
       "      <td>0.88</td>\n",
       "      <td>7</td>\n",
       "      <td>272</td>\n",
       "      <td>4</td>\n",
       "      <td>0</td>\n",
       "      <td>1</td>\n",
       "      <td>0</td>\n",
       "      <td>sales</td>\n",
       "      <td>medium</td>\n",
       "    </tr>\n",
       "    <tr>\n",
       "      <th>3</th>\n",
       "      <td>0.72</td>\n",
       "      <td>0.87</td>\n",
       "      <td>5</td>\n",
       "      <td>223</td>\n",
       "      <td>5</td>\n",
       "      <td>0</td>\n",
       "      <td>1</td>\n",
       "      <td>0</td>\n",
       "      <td>sales</td>\n",
       "      <td>low</td>\n",
       "    </tr>\n",
       "    <tr>\n",
       "      <th>4</th>\n",
       "      <td>0.37</td>\n",
       "      <td>0.52</td>\n",
       "      <td>2</td>\n",
       "      <td>159</td>\n",
       "      <td>3</td>\n",
       "      <td>0</td>\n",
       "      <td>1</td>\n",
       "      <td>0</td>\n",
       "      <td>sales</td>\n",
       "      <td>low</td>\n",
       "    </tr>\n",
       "  </tbody>\n",
       "</table>\n",
       "</div>"
      ],
      "text/plain": [
       "   satisfaction_level  last_evaluation  number_project  average_monthly_hours  \\\n",
       "0                0.38             0.53               2                    157   \n",
       "1                0.80             0.86               5                    262   \n",
       "2                0.11             0.88               7                    272   \n",
       "3                0.72             0.87               5                    223   \n",
       "4                0.37             0.52               2                    159   \n",
       "\n",
       "   time_spend_company  Work_accident  left  promotion_last_5years Department  \\\n",
       "0                   3              0     1                      0      sales   \n",
       "1                   6              0     1                      0      sales   \n",
       "2                   4              0     1                      0      sales   \n",
       "3                   5              0     1                      0      sales   \n",
       "4                   3              0     1                      0      sales   \n",
       "\n",
       "   salary  \n",
       "0     low  \n",
       "1  medium  \n",
       "2  medium  \n",
       "3     low  \n",
       "4     low  "
      ]
     },
     "execution_count": 36,
     "metadata": {},
     "output_type": "execute_result"
    }
   ],
   "source": [
    "## 加载数据\n",
    "# sns.set_context(font_scale=1.5)\n",
    "df = pd.read_csv(\".//datasets/HR_comma_sep.csv\")\n",
    "df.head()"
   ]
  },
  {
   "cell_type": "code",
   "execution_count": 37,
   "metadata": {
    "ExecuteTime": {
     "end_time": "2021-11-27T05:39:53.450167Z",
     "start_time": "2021-11-27T05:39:53.432175Z"
    }
   },
   "outputs": [
    {
     "name": "stdout",
     "output_type": "stream",
     "text": [
      "Index(['satisfaction_level', 'last_evaluation', 'number_project',\n",
      "       'average_monthly_hours', 'time_spend_company', 'Work_accident', 'left',\n",
      "       'promotion_last_5years', 'Department', 'salary'],\n",
      "      dtype='object')\n"
     ]
    }
   ],
   "source": [
    "print(df.columns) # 打印指标名"
   ]
  },
  {
   "cell_type": "code",
   "execution_count": 38,
   "metadata": {
    "ExecuteTime": {
     "end_time": "2021-11-27T05:39:54.536210Z",
     "start_time": "2021-11-27T05:39:54.496213Z"
    }
   },
   "outputs": [
    {
     "name": "stdout",
     "output_type": "stream",
     "text": [
      "{'IT': array([   61,    62,    63, ..., 14932, 14933, 14938], dtype=int64), 'RandD': array([  301,   302,   303,   304,   305,   453,   454,   455,   456,\n",
      "         457,   605,   606,   607,   608,   609,   833,   834,   835,\n",
      "         836,   837,   985,   986,   987,   988,   989,  1061,  1062,\n",
      "        1063,  1064,  1065,  1217,  1218,  1219,  1291,  1292,  1293,\n",
      "        1294,  1295,  1296,  1368,  1369,  1370,  1371,  1372,  1373,\n",
      "        1445,  1446,  1447,  1448,  1449,  1450,  1522,  1523,  1524,\n",
      "        1525,  1526,  1598,  1599,  1600,  1601,  1602,  1675,  1676,\n",
      "        1677,  1678,  1679,  1751,  1752,  1753,  1754,  1755,  1827,\n",
      "        1828,  1829,  1830,  1831,  1903,  1904,  1905,  1906,  1907,\n",
      "        1979,  1980,  1981,  1982,  1983,  2055,  2056,  2057,  2058,\n",
      "        2059,  2131,  2132,  2133,  2134,  2135,  2207,  2208,  2209,\n",
      "        2210,  2211,  2283,  2284,  2285,  2286,  2287,  2359,  2360,\n",
      "        2361,  2362,  2363,  2435,  2436,  2437,  2438,  2439,  2511,\n",
      "        2512,  2513,  2514,  2515,  2588,  2589,  2590,  2591,  2592,\n",
      "        2593,  2665,  2666,  2667,  2668,  2669,  2670,  2742,  2743,\n",
      "        2744,  2745,  2746,  2747,  2819,  2820,  2821,  2822,  2823,\n",
      "        2824,  2896,  2897,  2898,  2899,  2900,  2972,  2973,  2974,\n",
      "        2975,  2976,  3049,  3050,  3051,  3052,  3053,  3125,  3126,\n",
      "        3127,  3128,  3129,  3201,  3202,  3203,  3204,  3205,  3277,\n",
      "        3278,  3279,  3280,  3281,  3353,  3354,  3355,  3356,  3357,\n",
      "        3429,  3430,  3431,  3432,  3433,  3505,  3506,  3507,  3508,\n",
      "        3509,  3581,  3582,  3583,  3584,  3585,  3657,  3658,  3659,\n",
      "        3660,  3661,  3733,  3734,  3735,  3736,  3737,  3809,  3810,\n",
      "        3811,  3812,  3813,  3885,  3886,  3887,  3888,  3889,  3962,\n",
      "        3963,  3964,  3965,  3966,  3967,  4039,  4040,  4041,  4042,\n",
      "        4043,  4044,  4116,  4117,  4118,  4119,  4120,  4121,  4193,\n",
      "        4194,  4195,  4196,  4197,  4198,  4270,  4271,  4272,  4273,\n",
      "        4274,  4346,  4347,  4348,  4349,  4350,  4423,  4424,  4425,\n",
      "        4426,  4427,  4499,  4500,  4501,  4502,  4503,  4575,  4576,\n",
      "        4577,  4578,  4579,  4651,  4652,  4653,  4654,  4655,  4727,\n",
      "        4728,  4729,  4730,  4731,  4803,  4804,  4805,  4806,  4807,\n",
      "        4879,  4880,  4881,  4882,  4883,  4955,  4956,  4957,  4958,\n",
      "        4959,  5031,  5032,  5033,  5034,  5035,  5107,  5108,  5109,\n",
      "        5110,  5111,  5183,  5184,  5185,  5186,  5187,  5259,  5260,\n",
      "        5261,  5262,  5263,  5336,  5337,  5338,  5339,  5340,  5341,\n",
      "        5413,  5414,  5415,  5416,  5417,  5418,  5490,  5491,  5492,\n",
      "        5493,  5494,  5495,  5567,  5568,  5569,  5570,  5571,  5572,\n",
      "        5644,  5645,  5646,  5647,  5648,  5720,  5721,  5722,  5723,\n",
      "        5724,  5797,  5798,  5799,  5800,  5801,  5873,  5874,  5875,\n",
      "        5876,  5877,  5949,  5950,  5951,  5952,  5953,  6025,  6026,\n",
      "        6027,  6028,  6029,  6101,  6102,  6103,  6104,  6105,  6177,\n",
      "        6178,  6179,  6180,  6181,  6253,  6254,  6255,  6256,  6257,\n",
      "        6329,  6330,  6331,  6332,  6333,  6405,  6406,  6407,  6408,\n",
      "        6409,  6481,  6482,  6483,  6484,  6485,  6557,  6558,  6559,\n",
      "        6560,  6561,  6633,  6634,  6635,  6636,  6637,  6710,  6711,\n",
      "        6712,  6713,  6714,  6715,  6787,  6788,  6789,  6790,  6791,\n",
      "        6792,  6864,  6865,  6866,  6867,  6868,  6869,  6941,  6942,\n",
      "        6943,  6944,  6945,  6946,  7018,  7019,  7020,  7021,  7022,\n",
      "        7094,  7095,  7096,  7097,  7098,  7171,  7172,  7173,  7174,\n",
      "        7175,  7247,  7248,  7249,  7250,  7251,  7323,  7324,  7325,\n",
      "        7326,  7327,  7399,  7400,  7401,  7402,  7403,  7475,  7476,\n",
      "        7477,  7478,  7479,  7551,  7552,  7553,  7554,  7555,  7627,\n",
      "        7628,  7629,  7630,  7631,  7703,  7704,  7705,  7706,  7707,\n",
      "        7779,  7780,  7781,  7782,  7783,  7855,  7856,  7857,  7858,\n",
      "        7859,  7931,  7932,  7933,  7934,  7935,  8007,  8008,  8009,\n",
      "        8010,  8011,  8084,  8085,  8086,  8087,  8088,  8089,  8161,\n",
      "        8162,  8163,  8164,  8165,  8166,  8238,  8239,  8240,  8241,\n",
      "        8242,  8243,  8315,  8316,  8317,  8318,  8319,  8320,  8392,\n",
      "        8393,  8394,  8395,  8396,  8468,  8469,  8470,  8471,  8472,\n",
      "        8545,  8546,  8547,  8548,  8549,  8621,  8622,  8623,  8624,\n",
      "        8625,  8697,  8698,  8699,  8700,  8701,  8773,  8774,  8775,\n",
      "        8776,  8777,  8849,  8850,  8851,  8852,  8853,  8925,  8926,\n",
      "        8927,  8928,  8929,  9001,  9002,  9003,  9004,  9005,  9077,\n",
      "        9078,  9079,  9080,  9081,  9153,  9154,  9155,  9156,  9157,\n",
      "        9229,  9230,  9231,  9232,  9233,  9305,  9306,  9307,  9308,\n",
      "        9309,  9381,  9382,  9383,  9384,  9385,  9535,  9536,  9537,\n",
      "        9538,  9539,  9540,  9689,  9690,  9691,  9692,  9693,  9694,\n",
      "        9766,  9767,  9768,  9769,  9770, 10147, 10148, 10149, 10150,\n",
      "       10151, 10223, 10224, 10225, 10226, 10227, 10299, 10300, 10301,\n",
      "       10302, 10303, 10375, 10376, 10377, 10378, 10379, 10451, 10452,\n",
      "       10453, 10454, 10455, 10527, 10528, 10529, 10530, 10531, 10603,\n",
      "       10604, 10605, 10606, 10607, 10679, 10680, 10681, 10682, 10683,\n",
      "       10755, 10756, 10757, 10758, 10759, 10832, 10833, 10834, 10835,\n",
      "       10836, 10837, 10909, 10910, 10911, 10912, 10913, 10914, 10986,\n",
      "       10987, 10988, 10989, 10990, 10991, 11001, 11002, 11003, 11004,\n",
      "       11005, 11006, 11179, 11180, 11181, 11182, 11183, 11184, 11478,\n",
      "       11479, 11480, 11481, 11482, 11483, 11659, 11660, 11661, 11662,\n",
      "       11663, 11664, 12301, 12302, 12303, 12304, 12305, 12453, 12454,\n",
      "       12455, 12456, 12457, 12605, 12606, 12607, 12608, 12609, 12814,\n",
      "       12815, 12816, 12817, 12818, 12890, 12891, 12892, 12893, 12894,\n",
      "       12966, 12967, 12968, 12969, 12970, 13043, 13044, 13045, 13046,\n",
      "       13047, 13048, 13120, 13121, 13122, 13123, 13124, 13125, 13197,\n",
      "       13198, 13199, 13200, 13201, 13202, 13212, 13213, 13214, 13215,\n",
      "       13216, 13217, 13390, 13391, 13392, 13393, 13394, 13395, 13689,\n",
      "       13690, 13691, 13692, 13693, 13694, 13870, 13871, 13872, 13873,\n",
      "       13874, 13875, 14512, 14513, 14514, 14515, 14516, 14664, 14665,\n",
      "       14666, 14667, 14668, 14816, 14817, 14818, 14819, 14820, 14939,\n",
      "       14940, 14941, 14942, 14943], dtype=int64), 'accounting': array([   28,    29,    30,    79,   105,   106,   107,   155,   181,\n",
      "         182,   183,   224,   225,   232,   258,   259,   260,   308,\n",
      "         334,   335,   336,   377,   378,   384,   410,   411,   412,\n",
      "         460,   486,   487,   488,   529,   530,   536,   562,   563,\n",
      "         564,   612,   638,   639,   640,   688,   714,   715,   716,\n",
      "         764,   790,   791,   792,   840,   866,   867,   868,   916,\n",
      "         942,   943,   944,   992,  1018,  1019,  1020,  1068,  1094,\n",
      "        1095,  1096,  1145,  1171,  1172,  1173,  1222,  1248,  1249,\n",
      "        1250,  1299,  1325,  1326,  1327,  1376,  1402,  1403,  1404,\n",
      "        1453,  1479,  1480,  1481,  1529,  1555,  1556,  1557,  1606,\n",
      "        1632,  1633,  1634,  1682,  1708,  1709,  1710,  1758,  1784,\n",
      "        1785,  1786,  1834,  1860,  1861,  1862,  1910,  1936,  1937,\n",
      "        1938,  1986,  2012,  2013,  2014,  2062,  2088,  2089,  2090,\n",
      "        2138,  2164,  2165,  2166,  2214,  2240,  2241,  2242,  2290,\n",
      "        2316,  2317,  2318,  2366,  2392,  2393,  2394,  2442,  2468,\n",
      "        2469,  2470,  2519,  2545,  2546,  2547,  2596,  2622,  2623,\n",
      "        2624,  2673,  2699,  2700,  2701,  2750,  2776,  2777,  2778,\n",
      "        2827,  2853,  2854,  2855,  2903,  2929,  2930,  2931,  2980,\n",
      "        3006,  3007,  3008,  3056,  3082,  3083,  3084,  3132,  3158,\n",
      "        3159,  3160,  3208,  3234,  3235,  3236,  3284,  3310,  3311,\n",
      "        3312,  3360,  3386,  3387,  3388,  3436,  3462,  3463,  3464,\n",
      "        3512,  3538,  3539,  3540,  3588,  3614,  3615,  3616,  3664,\n",
      "        3690,  3691,  3692,  3740,  3766,  3767,  3768,  3816,  3842,\n",
      "        3843,  3844,  3893,  3919,  3920,  3921,  3970,  3996,  3997,\n",
      "        3998,  4047,  4073,  4074,  4075,  4124,  4150,  4151,  4152,\n",
      "        4201,  4227,  4228,  4229,  4277,  4303,  4304,  4305,  4354,\n",
      "        4380,  4381,  4382,  4430,  4456,  4457,  4458,  4506,  4532,\n",
      "        4533,  4534,  4582,  4608,  4609,  4610,  4658,  4684,  4685,\n",
      "        4686,  4734,  4760,  4761,  4762,  4810,  4836,  4837,  4838,\n",
      "        4886,  4912,  4913,  4914,  4962,  4988,  4989,  4990,  5038,\n",
      "        5064,  5065,  5066,  5114,  5140,  5141,  5142,  5190,  5216,\n",
      "        5217,  5218,  5267,  5293,  5294,  5295,  5344,  5370,  5371,\n",
      "        5372,  5421,  5447,  5448,  5449,  5498,  5524,  5525,  5526,\n",
      "        5575,  5601,  5602,  5603,  5651,  5677,  5678,  5679,  5728,\n",
      "        5754,  5755,  5756,  5804,  5830,  5831,  5832,  5880,  5906,\n",
      "        5907,  5908,  5956,  5982,  5983,  5984,  6032,  6058,  6059,\n",
      "        6060,  6108,  6134,  6135,  6136,  6184,  6210,  6211,  6212,\n",
      "        6260,  6286,  6287,  6288,  6336,  6362,  6363,  6364,  6412,\n",
      "        6438,  6439,  6440,  6488,  6514,  6515,  6516,  6564,  6590,\n",
      "        6591,  6592,  6641,  6667,  6668,  6669,  6718,  6744,  6745,\n",
      "        6746,  6795,  6821,  6822,  6823,  6872,  6898,  6899,  6900,\n",
      "        6949,  6975,  6976,  6977,  7025,  7051,  7052,  7053,  7102,\n",
      "        7128,  7129,  7130,  7178,  7204,  7205,  7206,  7254,  7280,\n",
      "        7281,  7282,  7330,  7356,  7357,  7358,  7406,  7432,  7433,\n",
      "        7434,  7482,  7508,  7509,  7510,  7558,  7584,  7585,  7586,\n",
      "        7634,  7660,  7661,  7662,  7710,  7736,  7737,  7738,  7786,\n",
      "        7812,  7813,  7814,  7862,  7888,  7889,  7890,  7938,  7964,\n",
      "        7965,  7966,  8015,  8041,  8042,  8043,  8092,  8118,  8119,\n",
      "        8120,  8169,  8195,  8196,  8197,  8246,  8272,  8273,  8274,\n",
      "        8323,  8349,  8350,  8351,  8399,  8425,  8426,  8427,  8476,\n",
      "        8502,  8503,  8504,  8552,  8578,  8579,  8580,  8628,  8654,\n",
      "        8655,  8656,  8704,  8730,  8731,  8732,  8780,  8806,  8807,\n",
      "        8808,  8856,  8882,  8883,  8884,  8932,  8958,  8959,  8960,\n",
      "        9008,  9034,  9035,  9036,  9084,  9110,  9"
     ]
    },
    {
     "data": {
      "text/html": [
       "<b>limit_output extension: Maximum message size of 10000 exceeded with 36932 characters</b>"
      ]
     },
     "metadata": {},
     "output_type": "display_data"
    }
   ],
   "source": [
    "dp_indices = df.groupby(by=\"Department\").indices\n",
    "print(dp_indices)"
   ]
  },
  {
   "cell_type": "code",
   "execution_count": 39,
   "metadata": {
    "ExecuteTime": {
     "end_time": "2021-11-27T05:39:59.261489Z",
     "start_time": "2021-11-27T05:39:59.241480Z"
    }
   },
   "outputs": [
    {
     "name": "stdout",
     "output_type": "stream",
     "text": [
      "0.2891069046174478\n"
     ]
    }
   ],
   "source": [
    "sales_values = df[\"left\"].iloc[dp_indices[\"sales\"]].values\n",
    "technical_values = df[\"left\"].iloc[dp_indices[\"technical\"]].values\n",
    "print(ss.ttest_ind(sales_values, technical_values)[1]) # p 值"
   ]
  },
  {
   "cell_type": "markdown",
   "metadata": {},
   "source": [
    "### 交叉分析\n",
    "#### p 值"
   ]
  },
  {
   "cell_type": "code",
   "execution_count": 40,
   "metadata": {
    "ExecuteTime": {
     "end_time": "2021-11-27T05:40:02.315594Z",
     "start_time": "2021-11-27T05:40:01.473074Z"
    }
   },
   "outputs": [
    {
     "data": {
      "image/png": "[encoded data removed]",
      "text/plain": [
       "<Figure size 432x288 with 2 Axes>"
      ]
     },
     "metadata": {
      "needs_background": "light"
     },
     "output_type": "display_data"
    }
   ],
   "source": [
    "## 交叉分析\n",
    "dp_keys = list(dp_indices.keys())\n",
    "dp_t_mat = np.zeros([len(dp_keys), len(dp_keys)])\n",
    "for i in range(len(dp_keys)):\n",
    "    for j in range(len(dp_keys)):\n",
    "        p_value = ss.ttest_ind(df[\"left\"].iloc[dp_indices[dp_keys[i]]].values, \\\n",
    "                    df[\"left\"].iloc[dp_indices[dp_keys[j]]].values)[1]\n",
    "        # 突出显示离职率有显著差异的部门\n",
    "        if p_value < 0.05:\n",
    "            dp_t_mat[i][j] = -1\n",
    "        else:\n",
    "            dp_t_mat[i][j] = p_value\n",
    "sns.heatmap(dp_t_mat, xticklabels=dp_keys, yticklabels=dp_keys)\n",
    "plt.show()"
   ]
  },
  {
   "cell_type": "markdown",
   "metadata": {},
   "source": [
    "#### 透视表"
   ]
  },
  {
   "cell_type": "code",
   "execution_count": 41,
   "metadata": {
    "ExecuteTime": {
     "end_time": "2021-11-27T05:40:05.905649Z",
     "start_time": "2021-11-27T05:40:05.887660Z"
    }
   },
   "outputs": [
    {
     "name": "stdout",
     "output_type": "stream",
     "text": [
      "Index(['satisfaction_level', 'last_evaluation', 'number_project',\n",
      "       'average_monthly_hours', 'time_spend_company', 'Work_accident', 'left',\n",
      "       'promotion_last_5years', 'Department', 'salary'],\n",
      "      dtype='object')\n"
     ]
    }
   ],
   "source": [
    "df_cols = df.columns # 字段名\n",
    "print(df_cols)"
   ]
  },
  {
   "cell_type": "code",
   "execution_count": 42,
   "metadata": {
    "ExecuteTime": {
     "end_time": "2021-11-27T05:40:06.864742Z",
     "start_time": "2021-11-27T05:40:06.810749Z"
    }
   },
   "outputs": [
    {
     "name": "stdout",
     "output_type": "stream",
     "text": [
      "Work_accident                        0         1\n",
      "promotion_last_5years salary                    \n",
      "0                     high    0.082996  0.000000\n",
      "                      low     0.331728  0.090020\n",
      "                      medium  0.230683  0.081655\n",
      "1                     high    0.000000  0.000000\n",
      "                      low     0.229167  0.166667\n",
      "                      medium  0.028986  0.023256\n"
     ]
    }
   ],
   "source": [
    "## 透视表\n",
    "piv_tb = pd.pivot_table(df, values=\"left\", index=[\"promotion_last_5years\", \"salary\"], \\\n",
    "                       columns=[\"Work_accident\"], aggfunc=np.mean)\n",
    "print(piv_tb)"
   ]
  },
  {
   "cell_type": "code",
   "execution_count": 43,
   "metadata": {
    "ExecuteTime": {
     "end_time": "2021-11-27T05:40:08.516315Z",
     "start_time": "2021-11-27T05:40:08.039591Z"
    }
   },
   "outputs": [
    {
     "data": {
      "image/png": "[encoded data removed]",
      "text/plain": [
       "<Figure size 432x288 with 2 Axes>"
      ]
     },
     "metadata": {
      "needs_background": "light"
     },
     "output_type": "display_data"
    }
   ],
   "source": [
    "sns.heatmap(piv_tb, vmin=0, vmax=1, cmap=sns.color_palette(\"Reds\", n_colors=256))\n",
    "plt.show()"
   ]
  },
  {
   "cell_type": "markdown",
   "metadata": {},
   "source": [
    "### 分组与钻取\n",
    "- 连续分组\n",
    "    - 分隔（一阶差分）\n",
    "    - 拐点（二阶差分）\n",
    "    - 聚类\n",
    "    - 不纯度（Gini）\n",
    "- 不纯度（Gini）：$$Gini(D) = 1 - \\sum(\\frac{C_k}{D})^2$$\n"
   ]
  },
  {
   "cell_type": "code",
   "execution_count": 44,
   "metadata": {
    "ExecuteTime": {
     "end_time": "2021-11-27T05:40:15.042000Z",
     "start_time": "2021-11-27T05:40:12.271716Z"
    }
   },
   "outputs": [
    {
     "data": {
      "text/plain": [
       "<function matplotlib.pyplot.show(close=None, block=None)>"
      ]
     },
     "execution_count": 44,
     "metadata": {},
     "output_type": "execute_result"
    },
    {
     "data": {
      "image/png": "[encoded data removed]",
      "text/plain": [
       "<Figure size 432x288 with 1 Axes>"
      ]
     },
     "metadata": {
      "needs_background": "light"
     },
     "output_type": "display_data"
    }
   ],
   "source": [
    "## 分组分析\n",
    "# sns.set_context(font_scale=1.5)\n",
    "sns.barplot(x=\"salary\", y=\"left\", hue=\"Department\", data=df)\n",
    "plt.show"
   ]
  },
  {
   "cell_type": "code",
   "execution_count": 45,
   "metadata": {
    "ExecuteTime": {
     "end_time": "2021-11-27T05:54:16.514590Z",
     "start_time": "2021-11-27T05:40:17.571796Z"
    }
   },
   "outputs": [
    {
     "name": "stderr",
     "output_type": "stream",
     "text": [
      "c:\\programdata\\miniconda3\\lib\\site-packages\\seaborn\\_decorators.py:36: FutureWarning: Pass the following variables as keyword args: x, y. From version 0.12, the only valid positional argument will be `data`, and passing other arguments without an explicit keyword will result in an error or misinterpretation.\n",
      "  warnings.warn(\n"
     ]
    },
    {
     "data": {
      "image/png": "[encoded data removed]",
      "text/plain": [
       "<Figure size 432x288 with 1 Axes>"
      ]
     },
     "metadata": {
      "needs_background": "light"
     },
     "output_type": "display_data"
    }
   ],
   "source": [
    "sl_s = df[\"satisfaction_level\"]\n",
    "sns.barplot(list(range(len(sl_s))), sl_s.sort_values())\n",
    "plt.show()"
   ]
  },
  {
   "cell_type": "markdown",
   "metadata": {},
   "source": [
    "### 相关分析\n",
    "- 熵：$$H(X) = -\\sum p_{i}log(p_{i})$$\n",
    "- 条件熵：$$H(Y|X) = \\sum p(x_{i})H(Y|X=x_{i})$$\n",
    "- 互信息（熵增益）：$$I(X,Y) = H(Y) - H(Y|X) = H(X) - H(X|Y)$$\n",
    "- 熵增益率：$$GainRatio(X - > Y) = \\frac{I(X,Y)}{H(Y)}$$\n",
    "- 相关性：$$Corr(X,Y) = \\frac{I(X,Y)}{\\sqrt{H(X)H(Y)}}$$\n"
   ]
  },
  {
   "cell_type": "code",
   "execution_count": 46,
   "metadata": {
    "ExecuteTime": {
     "end_time": "2021-11-27T06:06:43.195422Z",
     "start_time": "2021-11-27T06:06:42.462842Z"
    }
   },
   "outputs": [
    {
     "data": {
      "image/png": "[encoded data removed]",
      "text/plain": [
       "<Figure size 432x288 with 2 Axes>"
      ]
     },
     "metadata": {
      "needs_background": "light"
     },
     "output_type": "display_data"
    }
   ],
   "source": [
    "## 相关分析\n",
    "# sns.set_context(font_scale=1.5)\n",
    "sns.heatmap(df.corr(), vmin=-1, vmax=1, cmap=sns.color_palette(\"RdBu\", n_colors=128))\n",
    "plt.show()"
   ]
  },
  {
   "cell_type": "markdown",
   "metadata": {},
   "source": [
    "#### 熵"
   ]
  },
  {
   "cell_type": "code",
   "execution_count": 50,
   "metadata": {
    "ExecuteTime": {
     "end_time": "2021-11-27T06:08:40.379292Z",
     "start_time": "2021-11-27T06:08:40.362302Z"
    }
   },
   "outputs": [],
   "source": [
    "## 熵\n",
    "def getEntropy(s):\n",
    "    import pandas as pd\n",
    "    if not isinstance(s, pd.core.series.Series):\n",
    "        s = pd.Series(s)\n",
    "    prt_ary = s.groupby(by=s).count().values/float(len(s)) # 计算概率分布\n",
    "    \n",
    "    return -(np.log2(prt_ary)*prt_ary).sum()\n"
   ]
  },
  {
   "cell_type": "code",
   "execution_count": 51,
   "metadata": {
    "ExecuteTime": {
     "end_time": "2021-11-27T06:08:41.115787Z",
     "start_time": "2021-11-27T06:08:41.095801Z"
    }
   },
   "outputs": [],
   "source": [
    "s1 = pd.Series([\"X1\", \"X1\", \"X2\", \"X2\", \"X2\", \"X2\"])\n",
    "s2 = pd.Series([\"Y1\", \"Y1\", \"Y1\", \"Y2\", \"Y2\", \"Y2\"])"
   ]
  },
  {
   "cell_type": "code",
   "execution_count": 52,
   "metadata": {
    "ExecuteTime": {
     "end_time": "2021-11-27T06:08:41.945040Z",
     "start_time": "2021-11-27T06:08:41.927053Z"
    }
   },
   "outputs": [
    {
     "name": "stdout",
     "output_type": "stream",
     "text": [
      "Entropy: 1.0\n"
     ]
    }
   ],
   "source": [
    "print(\"Entropy:\", getEntropy(s2)) # 打印熵"
   ]
  },
  {
   "cell_type": "markdown",
   "metadata": {},
   "source": [
    "#### 条件熵"
   ]
  },
  {
   "cell_type": "code",
   "execution_count": 53,
   "metadata": {
    "ExecuteTime": {
     "end_time": "2021-11-27T06:08:46.294822Z",
     "start_time": "2021-11-27T06:08:46.271814Z"
    }
   },
   "outputs": [],
   "source": [
    "## 条件熵\n",
    "def getCondEntropy(s1,s2):\n",
    "    d = dict()\n",
    "    for i in list(range(len(s1))):\n",
    "        d[s1[i]] = d.get(s1[i], []) + [s2[i]]\n",
    "        \n",
    "    return sum([getEntropy(d[k])*len(d[k])/float(len(s1)) for k in d])\n"
   ]
  },
  {
   "cell_type": "code",
   "execution_count": 54,
   "metadata": {
    "ExecuteTime": {
     "end_time": "2021-11-27T06:08:48.114903Z",
     "start_time": "2021-11-27T06:08:48.096914Z"
    }
   },
   "outputs": [
    {
     "name": "stdout",
     "output_type": "stream",
     "text": [
      "CondEntropy: 0.5408520829727552\n"
     ]
    }
   ],
   "source": [
    "print(\"CondEntropy:\", getCondEntropy(s1,s2)) # 打印条件熵"
   ]
  },
  {
   "cell_type": "markdown",
   "metadata": {},
   "source": [
    "#### 熵增益"
   ]
  },
  {
   "cell_type": "code",
   "execution_count": 55,
   "metadata": {
    "ExecuteTime": {
     "end_time": "2021-11-27T06:08:52.601893Z",
     "start_time": "2021-11-27T06:08:52.591883Z"
    }
   },
   "outputs": [],
   "source": [
    "## 熵增益\n",
    "def getEntropyGain(s1, s2):\n",
    "    return getEntropy(s2) - getCondEntropy(s1, s2)\n"
   ]
  },
  {
   "cell_type": "code",
   "execution_count": 56,
   "metadata": {
    "ExecuteTime": {
     "end_time": "2021-11-27T06:08:53.996049Z",
     "start_time": "2021-11-27T06:08:53.969046Z"
    }
   },
   "outputs": [
    {
     "name": "stdout",
     "output_type": "stream",
     "text": [
      "EntropyGin: 0.4591479170272448\n",
      "EntropyGin: 0.4591479170272448\n"
     ]
    }
   ],
   "source": [
    "print(\"EntropyGin:\", getEntropyGain(s1, s2)) # 打印熵增益\n",
    "print(\"EntropyGin:\", getEntropyGain(s2, s1)) # 打印熵增益"
   ]
  },
  {
   "cell_type": "markdown",
   "metadata": {},
   "source": [
    "#### 增益率"
   ]
  },
  {
   "cell_type": "code",
   "execution_count": 57,
   "metadata": {
    "ExecuteTime": {
     "end_time": "2021-11-27T06:08:57.778667Z",
     "start_time": "2021-11-27T06:08:57.769677Z"
    }
   },
   "outputs": [],
   "source": [
    "## 增益率\n",
    "def getEntropyGainRatio(s1, s2):\n",
    "    return getEntropyGain(s1, s2)/getEntropy(s2)\n"
   ]
  },
  {
   "cell_type": "code",
   "execution_count": 58,
   "metadata": {
    "ExecuteTime": {
     "end_time": "2021-11-27T06:09:01.331418Z",
     "start_time": "2021-11-27T06:09:01.311428Z"
    }
   },
   "outputs": [
    {
     "name": "stdout",
     "output_type": "stream",
     "text": [
      "EntropyGainRatio: 0.4591479170272448\n",
      "EntropyGainRatio: 0.5\n"
     ]
    }
   ],
   "source": [
    "print(\"EntropyGainRatio:\", getEntropyGainRatio(s1, s2)) # 增益率\n",
    "print(\"EntropyGainRatio:\", getEntropyGainRatio(s2, s1)) # 增益率"
   ]
  },
  {
   "cell_type": "markdown",
   "metadata": {},
   "source": [
    "#### 相关性"
   ]
  },
  {
   "cell_type": "code",
   "execution_count": 59,
   "metadata": {
    "ExecuteTime": {
     "end_time": "2021-11-27T06:09:03.363671Z",
     "start_time": "2021-11-27T06:09:03.343663Z"
    }
   },
   "outputs": [],
   "source": [
    "##　相关性\n",
    "def getDiscreteCorr(s1, s2):\n",
    "    import math # \n",
    "    return getEntropyGain(s1, s2)/math.sqrt(getEntropy(s1)*getEntropy(s2))\n"
   ]
  },
  {
   "cell_type": "code",
   "execution_count": 60,
   "metadata": {
    "ExecuteTime": {
     "end_time": "2021-11-27T06:09:04.944202Z",
     "start_time": "2021-11-27T06:09:04.922212Z"
    }
   },
   "outputs": [
    {
     "name": "stdout",
     "output_type": "stream",
     "text": [
      "DiscreteCorr: 0.4791387674918639\n"
     ]
    }
   ],
   "source": [
    "print(\"DiscreteCorr:\", getDiscreteCorr(s2, s1)) # 打印相关性"
   ]
  },
  {
   "cell_type": "code",
   "execution_count": 64,
   "metadata": {
    "ExecuteTime": {
     "end_time": "2021-11-27T06:09:42.442602Z",
     "start_time": "2021-11-27T06:09:42.433607Z"
    }
   },
   "outputs": [],
   "source": [
    "## \n",
    "def getProbSS(s):\n",
    "    import pandas as pd # \n",
    "    if not isinstance(s, pd.core.series.Series):\n",
    "        s = pd.Series(s)\n",
    "    prt_ary = s.groupby(by=s).count().values/float(len(s)) # 计算概率分布\n",
    "    \n",
    "    return sum(prt_ary**2)\n"
   ]
  },
  {
   "cell_type": "code",
   "execution_count": 65,
   "metadata": {
    "ExecuteTime": {
     "end_time": "2021-11-27T06:09:43.242761Z",
     "start_time": "2021-11-27T06:09:43.222773Z"
    }
   },
   "outputs": [],
   "source": [
    "## Gini 系数\n",
    "def getGini(s1, s2):\n",
    "    d = dict()\n",
    "    for i in list(range(len(s1))):\n",
    "        d[s1[i]] = d.get(s1[i], []) + [s2[i]]\n",
    "        \n",
    "    return 1-sum([getProbSS(d[k])*len(d[k])/float(len(s1)) for k in d])\n"
   ]
  },
  {
   "cell_type": "code",
   "execution_count": 66,
   "metadata": {
    "ExecuteTime": {
     "end_time": "2021-11-27T06:09:44.138109Z",
     "start_time": "2021-11-27T06:09:44.120120Z"
    }
   },
   "outputs": [
    {
     "name": "stdout",
     "output_type": "stream",
     "text": [
      "Gini: 0.25\n",
      "Gini: 0.2222222222222222\n"
     ]
    }
   ],
   "source": [
    "print(\"Gini:\", getGini(s1, s2)) # 打印 Gini 系数\n",
    "print(\"Gini:\", getGini(s2, s1)) # 打印 Gini 系数"
   ]
  },
  {
   "cell_type": "markdown",
   "metadata": {},
   "source": [
    "### 因子分析\n",
    "- 探索性因子分析：PCA\n",
    "- 验证性因子分析：相关、卡方、覆盖、Anova、熵、F-Value、自定\n"
   ]
  },
  {
   "cell_type": "code",
   "execution_count": 67,
   "metadata": {
    "ExecuteTime": {
     "end_time": "2021-11-27T06:09:48.613121Z",
     "start_time": "2021-11-27T06:09:48.592118Z"
    }
   },
   "outputs": [],
   "source": [
    "## 导包\n",
    "import numpy as np # 数值计算\n",
    "import pandas as pd # 数据分析\n",
    "import scipy.stats as ss # 统计分析\n",
    "import matplotlib.pyplot as plt # 绘图\n",
    "import seaborn as sns # 绘图\n",
    "from sklearn.decomposition import PCA # 主成分分析"
   ]
  },
  {
   "cell_type": "code",
   "execution_count": 68,
   "metadata": {
    "ExecuteTime": {
     "end_time": "2021-11-27T06:09:49.323295Z",
     "start_time": "2021-11-27T06:09:49.273309Z"
    }
   },
   "outputs": [
    {
     "name": "stdout",
     "output_type": "stream",
     "text": [
      "Index(['satisfaction_level', 'last_evaluation', 'number_project',\n",
      "       'average_monthly_hours', 'time_spend_company', 'Work_accident', 'left',\n",
      "       'promotion_last_5years', 'Department', 'salary'],\n",
      "      dtype='object')\n"
     ]
    }
   ],
   "source": [
    "## 加载数据\n",
    "df = pd.read_csv(\".//datasets/HR_comma_sep.csv\")\n",
    "print(df.columns)"
   ]
  },
  {
   "cell_type": "code",
   "execution_count": 69,
   "metadata": {
    "ExecuteTime": {
     "end_time": "2021-11-27T06:09:51.989040Z",
     "start_time": "2021-11-27T06:09:51.984045Z"
    }
   },
   "outputs": [],
   "source": [
    "# sns.set_context(font_scale=1.5)\n",
    "my_pca = PCA(n_components=7)"
   ]
  },
  {
   "cell_type": "code",
   "execution_count": 70,
   "metadata": {
    "ExecuteTime": {
     "end_time": "2021-11-27T06:09:52.805572Z",
     "start_time": "2021-11-27T06:09:52.766618Z"
    }
   },
   "outputs": [
    {
     "name": "stdout",
     "output_type": "stream",
     "text": [
      "Ratio: [9.98565340e-01 8.69246970e-04 4.73865973e-04 4.96932182e-05\n",
      " 2.43172315e-05 9.29496619e-06 8.24128218e-06]\n"
     ]
    }
   ],
   "source": [
    "lower_mat = my_pca.fit_transform(df.drop(labels=[\"salary\", \"Department\", \"left\"], axis=1))\n",
    "print(\"Ratio:\", my_pca.explained_variance_ratio_)"
   ]
  },
  {
   "cell_type": "code",
   "execution_count": 71,
   "metadata": {
    "ExecuteTime": {
     "end_time": "2021-11-27T06:09:54.331706Z",
     "start_time": "2021-11-27T06:09:53.703187Z"
    }
   },
   "outputs": [
    {
     "data": {
      "image/png": "[encoded data removed]",
      "text/plain": [
       "<Figure size 432x288 with 2 Axes>"
      ]
     },
     "metadata": {
      "needs_background": "light"
     },
     "output_type": "display_data"
    }
   ],
   "source": [
    "sns.heatmap(pd.DataFrame(lower_mat).corr(), vmin=-1, vmax=1, cmap=sns.color_palette(\"RdBu\", n_colors=128))\n",
    "plt.show()"
   ]
  },
  {
   "cell_type": "markdown",
   "metadata": {},
   "source": [
    "### 小结\n",
    "| 数据类型 | 可用方法 |\n",
    "| :--- | :--- |\n",
    "| 连续---连续 | 相关系数、假设检验 |\n",
    "| 连续---离散（二值） | 相关系数、连续二值化（最小 Gini切分、最大熵增益切分）\n",
    "| 连续---离散（非二值） | 相关系数（定序）\n",
    "| 离散（二值）---离散（二值） | 相关系数、熵相关、F 分值\n",
    "| 离散---离散（非二值） | 熵相关、Gini、相关系数（定序）\n"
   ]
  },
  {
   "cell_type": "code",
   "execution_count": null,
   "metadata": {},
   "outputs": [],
   "source": []
  }
 ],
 "metadata": {
  "kernelspec": {
   "display_name": "Python 3",
   "language": "python",
   "name": "python3"
  },
  "language_info": {
   "codemirror_mode": {
    "name": "ipython",
    "version": 3
   },
   "file_extension": ".py",
   "mimetype": "text/x-python",
   "name": "python",
   "nbconvert_exporter": "python",
   "pygments_lexer": "ipython3",
   "version": "3.8.3"
  },
  "toc": {
   "base_numbering": 1,
   "nav_menu": {
    "height": "178px",
    "width": "322px"
   },
   "number_sections": true,
   "sideBar": true,
   "skip_h1_title": false,
   "title_cell": "Table of Contents",
   "title_sidebar": "Contents",
   "toc_cell": false,
   "toc_position": {},
   "toc_section_display": true,
   "toc_window_display": true
  }
 },
 "nbformat": 4,
 "nbformat_minor": 4
}
