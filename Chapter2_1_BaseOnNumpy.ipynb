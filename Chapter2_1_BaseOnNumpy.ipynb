{
 "cells": [
  {
   "cell_type": "markdown",
   "metadata": {},
   "source": [
    "# NumPy 基础\n",
    "\n",
    "> [NumPy 官方文档](https://numpy.org/)  \n",
    "\n",
    "- **属性**: 确定数组的大小、形状、存储大小、数据类型\n",
    "- **索引**: 获取和设置数组各个元素的值\n",
    "- **切片**: 在大的数组中获取或设置更小的子数组\n",
    "- **变形**: 改变给定数组的形状\n",
    "- **拼接和分裂**: 将多个数组合并为一个，以及将一个数组分裂成多个\n"
   ]
  },
  {
   "cell_type": "code",
   "execution_count": 1,
   "metadata": {
    "ExecuteTime": {
     "end_time": "2021-12-03T06:56:31.007430Z",
     "start_time": "2021-12-03T06:56:30.620537Z"
    }
   },
   "outputs": [],
   "source": [
    "import numpy as np # 数值计算"
   ]
  },
  {
   "cell_type": "markdown",
   "metadata": {},
   "source": [
    "## 索引\n",
    "> 获取和设置数组各个元素的值  \n"
   ]
  },
  {
   "cell_type": "markdown",
   "metadata": {},
   "source": [
    "### 基础索引\n",
    "- 传入单个数字或切片\n"
   ]
  },
  {
   "cell_type": "code",
   "execution_count": 8,
   "metadata": {
    "ExecuteTime": {
     "end_time": "2021-11-28T06:05:37.168744Z",
     "start_time": "2021-11-28T06:05:37.145753Z"
    }
   },
   "outputs": [
    {
     "name": "stdout",
     "output_type": "stream",
     "text": [
      "[[1 2 3]\n",
      " [4 5 6]\n",
      " [7 8 9]]\n",
      "2\n",
      "[2 5 8]\n"
     ]
    }
   ],
   "source": [
    "## 基础索引\n",
    "arr = np.array([1,2,3,4,5,6,7,8,9]).reshape(3,3)\n",
    "print(arr)\n",
    "print(arr[0][1])\n",
    "print(arr[:,1])"
   ]
  },
  {
   "cell_type": "code",
   "execution_count": 37,
   "metadata": {
    "ExecuteTime": {
     "end_time": "2021-11-29T11:59:56.501508Z",
     "start_time": "2021-11-29T11:59:56.492511Z"
    }
   },
   "outputs": [
    {
     "name": "stdout",
     "output_type": "stream",
     "text": [
      "[[5 9 1 3 9]\n",
      " [1 6 5 3 5]\n",
      " [2 9 8 8 7]\n",
      " [2 3 1 2 5]]\n"
     ]
    }
   ],
   "source": [
    "arr = np.random.randint(1, 10, size=(4,5))\n",
    "print(arr)"
   ]
  },
  {
   "cell_type": "code",
   "execution_count": 38,
   "metadata": {
    "ExecuteTime": {
     "end_time": "2021-11-29T12:00:01.407977Z",
     "start_time": "2021-11-29T12:00:01.391988Z"
    }
   },
   "outputs": [
    {
     "data": {
      "text/plain": [
       "array([[6, 5],\n",
       "       [9, 8]])"
      ]
     },
     "execution_count": 38,
     "metadata": {},
     "output_type": "execute_result"
    }
   ],
   "source": [
    "arr[1:3, [1,2]]"
   ]
  },
  {
   "cell_type": "code",
   "execution_count": 49,
   "metadata": {
    "ExecuteTime": {
     "end_time": "2021-11-29T12:04:47.981697Z",
     "start_time": "2021-11-29T12:04:47.956706Z"
    }
   },
   "outputs": [
    {
     "data": {
      "text/plain": [
       "array([[0.47697415, 0.24256067, 0.13450575, 0.53871626, 0.72787245,\n",
       "        0.13139608, 0.03159093, 0.84106464, 0.04019638, 0.61801539],\n",
       "       [0.90771798, 0.76876412, 0.4156353 , 0.28096365, 0.91482831,\n",
       "        0.75484058, 0.1974789 , 0.1102867 , 0.27384335, 0.14508812],\n",
       "       [0.46796992, 0.95200617, 0.46622676, 0.42917761, 0.46409571,\n",
       "        0.68791331, 0.9218171 , 0.51027156, 0.09725935, 0.06775706],\n",
       "       [0.1996498 , 0.9015554 , 0.25908651, 0.8789608 , 0.98120606,\n",
       "        0.10678605, 0.44034654, 0.80947525, 0.9697676 , 0.49469178],\n",
       "       [0.43418722, 0.49311675, 0.79876998, 0.20456404, 0.99615378,\n",
       "        0.38799091, 0.14694696, 0.14330205, 0.17551516, 0.32683644]])"
      ]
     },
     "execution_count": 49,
     "metadata": {},
     "output_type": "execute_result"
    }
   ],
   "source": [
    "data = np.random.random(size=(10000, 10))\n",
    "data[:5]"
   ]
  },
  {
   "cell_type": "code",
   "execution_count": 55,
   "metadata": {
    "ExecuteTime": {
     "end_time": "2021-11-29T12:07:15.290151Z",
     "start_time": "2021-11-29T12:07:15.272154Z"
    }
   },
   "outputs": [
    {
     "data": {
      "text/plain": [
       "array([[0.33860376, 0.66418434, 0.67540385, ..., 0.9894949 , 0.1054126 ,\n",
       "        0.07261823],\n",
       "       [0.98932769, 0.28102714, 0.61671909, ..., 0.60369494, 0.37061934,\n",
       "        0.62357983],\n",
       "       [0.25831886, 0.00858017, 0.83541099, ..., 0.38701913, 0.46466161,\n",
       "        0.95218669],\n",
       "       ...,\n",
       "       [0.17039116, 0.99746777, 0.1557513 , ..., 0.73061435, 0.84171985,\n",
       "        0.31424041],\n",
       "       [0.59244825, 0.6758388 , 0.16587225, ..., 0.60943939, 0.40763342,\n",
       "        0.39963486],\n",
       "       [0.47685717, 0.0079033 , 0.80593434, ..., 0.50069713, 0.49514245,\n",
       "        0.37597932]])"
      ]
     },
     "execution_count": 55,
     "metadata": {},
     "output_type": "execute_result"
    }
   ],
   "source": [
    "data_train = data[np.random.randint(0, len(data), size=int(len(data)*0.8))]\n",
    "data_train[:5]"
   ]
  },
  {
   "cell_type": "markdown",
   "metadata": {},
   "source": [
    "### 神奇索引\n",
    "- 数字列表\n"
   ]
  },
  {
   "cell_type": "code",
   "execution_count": null,
   "metadata": {
    "ExecuteTime": {
     "end_time": "2021-11-29T12:36:58.887294Z",
     "start_time": "2021-11-29T12:36:58.866297Z"
    }
   },
   "outputs": [],
   "source": []
  },
  {
   "cell_type": "markdown",
   "metadata": {},
   "source": [
    "### 布尔索引\n",
    "- 布尔数组(条件判断)\n"
   ]
  },
  {
   "cell_type": "code",
   "execution_count": null,
   "metadata": {},
   "outputs": [],
   "source": []
  },
  {
   "cell_type": "markdown",
   "metadata": {},
   "source": [
    "## NumPy 常用 random 随机函数\n",
    "\n",
    "- 常用随机数方法:\n",
    "\n",
    "| Function | Description |\n",
    "| :--- | :--- |\n",
    "| seed([seed]) | 设置随机数种子, 这样每次生成的随机数都会相同 \n",
    "| rand(d0,d1,...,dn) | [0,1) 之间的均匀分布 \n",
    "| rann(d0,d1,...,dn) | 标准正太分布, 均值0, 方差1 \n",
    "| randint(low[, high, size, dtype]) | 随机整数, 包含 low, 不包含 high \n",
    "| random([size]) | 生成 [0.0,1.1) 之间的随机数 \n",
    "| choice(a[, size, replace, p]) | a 是一维数组, 从它里面生成随机结果\n",
    "| shuffle(x) | 对数组x进行随机排列 \n",
    "| permutation(x) | 对数组x进行随机排列, 或者数字的全排列 \n",
    "| normal([loc, scale, size]) | 高斯分布, 均值 loc, 方差 scale \n",
    "| uniform(low, high, size) | [low, high) 之间的均匀分布 \n",
    "\n",
    "\n"
   ]
  },
  {
   "cell_type": "code",
   "execution_count": 67,
   "metadata": {
    "ExecuteTime": {
     "end_time": "2021-11-29T12:34:16.265806Z",
     "start_time": "2021-11-29T12:34:16.244813Z"
    }
   },
   "outputs": [],
   "source": [
    "np.random.seed(0) # 设置随机数种子"
   ]
  },
  {
   "cell_type": "markdown",
   "metadata": {},
   "source": [
    "### [0,1) 均匀分布"
   ]
  },
  {
   "cell_type": "code",
   "execution_count": 80,
   "metadata": {
    "ExecuteTime": {
     "end_time": "2021-11-28T07:54:53.701981Z",
     "start_time": "2021-11-28T07:54:53.688989Z"
    }
   },
   "outputs": [
    {
     "data": {
      "text/plain": [
       "array([0.5488135 , 0.71518937, 0.60276338, 0.54488318, 0.4236548 ])"
      ]
     },
     "execution_count": 80,
     "metadata": {},
     "output_type": "execute_result"
    }
   ],
   "source": [
    "np.random.rand(5) # [0,1) 均匀分布"
   ]
  },
  {
   "cell_type": "code",
   "execution_count": 81,
   "metadata": {
    "ExecuteTime": {
     "end_time": "2021-11-28T07:54:55.365185Z",
     "start_time": "2021-11-28T07:54:55.353195Z"
    }
   },
   "outputs": [
    {
     "data": {
      "text/plain": [
       "array([[0.64589411, 0.43758721, 0.891773  , 0.96366276],\n",
       "       [0.38344152, 0.79172504, 0.52889492, 0.56804456],\n",
       "       [0.92559664, 0.07103606, 0.0871293 , 0.0202184 ]])"
      ]
     },
     "execution_count": 81,
     "metadata": {},
     "output_type": "execute_result"
    }
   ],
   "source": [
    "np.random.rand(3,4) # [0,1) 均匀分布"
   ]
  },
  {
   "cell_type": "markdown",
   "metadata": {},
   "source": [
    "### [low,high) 均匀分布"
   ]
  },
  {
   "cell_type": "code",
   "execution_count": 82,
   "metadata": {
    "ExecuteTime": {
     "end_time": "2021-11-28T07:54:56.902477Z",
     "start_time": "2021-11-28T07:54:56.886491Z"
    }
   },
   "outputs": [
    {
     "data": {
      "text/plain": [
       "array([[8.49357861, 8.00341076, 8.83010933, 9.80756508],\n",
       "       [8.19242708, 5.15331426, 8.02476259, 2.06446983],\n",
       "       [6.75928919, 2.29017959, 9.50202025, 5.6966349 ]])"
      ]
     },
     "execution_count": 82,
     "metadata": {},
     "output_type": "execute_result"
    }
   ],
   "source": [
    "np.random.uniform(low=1, high=10, size=(3,4)) # 1-10 均匀分布"
   ]
  },
  {
   "cell_type": "markdown",
   "metadata": {},
   "source": [
    "### 标准正态分布"
   ]
  },
  {
   "cell_type": "code",
   "execution_count": 83,
   "metadata": {
    "ExecuteTime": {
     "end_time": "2021-11-28T07:54:57.950704Z",
     "start_time": "2021-11-28T07:54:57.929717Z"
    }
   },
   "outputs": [
    {
     "data": {
      "text/plain": [
       "array([-1.56349669, -0.56669762, -0.24214951,  1.51439128, -0.3330574 ])"
      ]
     },
     "execution_count": 83,
     "metadata": {},
     "output_type": "execute_result"
    }
   ],
   "source": [
    "np.random.randn(5) # 标准正态分布"
   ]
  },
  {
   "cell_type": "code",
   "execution_count": 84,
   "metadata": {
    "ExecuteTime": {
     "end_time": "2021-11-28T07:54:58.371859Z",
     "start_time": "2021-11-28T07:54:58.359865Z"
    }
   },
   "outputs": [
    {
     "data": {
      "text/plain": [
       "array([[ 0.04736482,  1.46274045,  1.53502913,  0.56644004],\n",
       "       [ 0.14926509, -1.078278  ,  1.39547227,  1.78748405],\n",
       "       [-0.56951726,  0.17538653, -0.46250554, -1.0858006 ]])"
      ]
     },
     "execution_count": 84,
     "metadata": {},
     "output_type": "execute_result"
    }
   ],
   "source": [
    "np.random.randn(3,4) # 标准正态分布"
   ]
  },
  {
   "cell_type": "markdown",
   "metadata": {},
   "source": [
    "### 随机整数\n",
    "- randint: 包含low, 不包含high; 不指定high则生成[0,low)之间的整数"
   ]
  },
  {
   "cell_type": "code",
   "execution_count": 85,
   "metadata": {
    "ExecuteTime": {
     "end_time": "2021-11-28T07:54:59.090694Z",
     "start_time": "2021-11-28T07:54:59.077606Z"
    }
   },
   "outputs": [
    {
     "data": {
      "text/plain": [
       "0"
      ]
     },
     "execution_count": 85,
     "metadata": {},
     "output_type": "execute_result"
    }
   ],
   "source": [
    "np.random.randint(3) # [0,3) 随机整数"
   ]
  },
  {
   "cell_type": "code",
   "execution_count": 86,
   "metadata": {
    "ExecuteTime": {
     "end_time": "2021-11-28T07:54:59.453317Z",
     "start_time": "2021-11-28T07:54:59.431326Z"
    }
   },
   "outputs": [
    {
     "data": {
      "text/plain": [
       "array([ 4,  6, 10,  5,  5])"
      ]
     },
     "execution_count": 86,
     "metadata": {},
     "output_type": "execute_result"
    }
   ],
   "source": [
    "np.random.randint(1, 11, size=(5,)) # [1,10] 之间的 5*1 dim 随机整数"
   ]
  },
  {
   "cell_type": "markdown",
   "metadata": {},
   "source": [
    "### [0.0,1.0) 随机数"
   ]
  },
  {
   "cell_type": "code",
   "execution_count": 87,
   "metadata": {
    "ExecuteTime": {
     "end_time": "2021-11-28T07:55:00.071134Z",
     "start_time": "2021-11-28T07:55:00.048147Z"
    }
   },
   "outputs": [
    {
     "data": {
      "text/plain": [
       "array([0.95894927, 0.65279032, 0.63505887, 0.99529957, 0.58185033])"
      ]
     },
     "execution_count": 87,
     "metadata": {},
     "output_type": "execute_result"
    }
   ],
   "source": [
    "np.random.random(5) # [0.0,1.0) 随机数"
   ]
  },
  {
   "cell_type": "code",
   "execution_count": 88,
   "metadata": {
    "ExecuteTime": {
     "end_time": "2021-11-28T07:55:00.388068Z",
     "start_time": "2021-11-28T07:55:00.377075Z"
    }
   },
   "outputs": [
    {
     "data": {
      "text/plain": [
       "array([42.43685882, 48.46975023, 63.35101011, 34.80076148, 68.47523223])"
      ]
     },
     "execution_count": 88,
     "metadata": {},
     "output_type": "execute_result"
    }
   ],
   "source": [
    "# a + (b-a+1)*np.random.random()\n",
    "# [1,100]\n",
    "arr = 1+100*np.random.random(5)\n",
    "arr"
   ]
  },
  {
   "cell_type": "markdown",
   "metadata": {},
   "source": [
    "### 随机采样"
   ]
  },
  {
   "cell_type": "code",
   "execution_count": 89,
   "metadata": {
    "ExecuteTime": {
     "end_time": "2021-11-28T07:55:01.040235Z",
     "start_time": "2021-11-28T07:55:01.018228Z"
    }
   },
   "outputs": [
    {
     "data": {
      "text/plain": [
       "array([0, 1])"
      ]
     },
     "execution_count": 89,
     "metadata": {},
     "output_type": "execute_result"
    }
   ],
   "source": [
    "np.random.choice(10, 2)"
   ]
  },
  {
   "cell_type": "code",
   "execution_count": 90,
   "metadata": {
    "ExecuteTime": {
     "end_time": "2021-11-28T07:55:01.558898Z",
     "start_time": "2021-11-28T07:55:01.541905Z"
    }
   },
   "outputs": [
    {
     "data": {
      "text/plain": [
       "array([2, 4])"
      ]
     },
     "execution_count": 90,
     "metadata": {},
     "output_type": "execute_result"
    }
   ],
   "source": [
    "np.random.choice([1,2,3,4,5], 2)"
   ]
  },
  {
   "cell_type": "markdown",
   "metadata": {},
   "source": [
    "### 随机打散"
   ]
  },
  {
   "cell_type": "code",
   "execution_count": 91,
   "metadata": {
    "ExecuteTime": {
     "end_time": "2021-11-28T07:55:02.483664Z",
     "start_time": "2021-11-28T07:55:02.471672Z"
    }
   },
   "outputs": [
    {
     "name": "stdout",
     "output_type": "stream",
     "text": [
      "x_old: [0 1 2 3 4 5 6 7 8 9]\n",
      "x_new: [8 3 4 7 2 1 9 6 5 0]\n"
     ]
    }
   ],
   "source": [
    "x = np.arange(10)\n",
    "print(\"x_old:\", x)\n",
    "np.random.shuffle(x) # 随机打散数据\n",
    "print(\"x_new:\", x)"
   ]
  },
  {
   "cell_type": "code",
   "execution_count": 92,
   "metadata": {
    "ExecuteTime": {
     "end_time": "2021-11-28T07:55:03.125567Z",
     "start_time": "2021-11-28T07:55:03.110469Z"
    }
   },
   "outputs": [
    {
     "name": "stdout",
     "output_type": "stream",
     "text": [
      "[[ 0  1  2  3  4]\n",
      " [ 5  6  7  8  9]\n",
      " [10 11 12 13 14]\n",
      " [15 16 17 18 19]]\n",
      "[[15 16 17 18 19]\n",
      " [ 0  1  2  3  4]\n",
      " [10 11 12 13 14]\n",
      " [ 5  6  7  8  9]]\n"
     ]
    }
   ],
   "source": [
    "# 多维数据只打散第一维度\n",
    "x = np.arange(20).reshape(4,5)\n",
    "print(x)\n",
    "np.random.shuffle(x)\n",
    "print(x)"
   ]
  },
  {
   "cell_type": "markdown",
   "metadata": {
    "ExecuteTime": {
     "end_time": "2021-11-28T06:53:08.646472Z",
     "start_time": "2021-11-28T06:53:08.634481Z"
    }
   },
   "source": [
    "### permutation()"
   ]
  },
  {
   "cell_type": "code",
   "execution_count": 93,
   "metadata": {
    "ExecuteTime": {
     "end_time": "2021-11-28T07:55:04.302332Z",
     "start_time": "2021-11-28T07:55:04.288340Z"
    }
   },
   "outputs": [
    {
     "data": {
      "text/plain": [
       "array([8, 6, 3, 4, 2, 9, 1, 5, 7, 0])"
      ]
     },
     "execution_count": 93,
     "metadata": {},
     "output_type": "execute_result"
    }
   ],
   "source": [
    "np.random.permutation(10) # 生成一维随机数组"
   ]
  },
  {
   "cell_type": "code",
   "execution_count": 94,
   "metadata": {
    "ExecuteTime": {
     "end_time": "2021-11-28T07:55:04.851785Z",
     "start_time": "2021-11-28T07:55:04.839795Z"
    }
   },
   "outputs": [
    {
     "name": "stdout",
     "output_type": "stream",
     "text": [
      "[[ 0  1  2  3]\n",
      " [ 4  5  6  7]\n",
      " [ 8  9 10 11]]\n"
     ]
    },
    {
     "data": {
      "text/plain": [
       "array([[ 0,  1,  2,  3],\n",
       "       [ 4,  5,  6,  7],\n",
       "       [ 8,  9, 10, 11]])"
      ]
     },
     "execution_count": 94,
     "metadata": {},
     "output_type": "execute_result"
    }
   ],
   "source": [
    "# permutation() 不会改变原来的 arrange, 会返回一个新的 copy\n",
    "x = np.arange(12).reshape(3,4)\n",
    "print(x)\n",
    "np.random.permutation(x) # 生成第一维度打散的数组"
   ]
  },
  {
   "cell_type": "code",
   "execution_count": 95,
   "metadata": {
    "ExecuteTime": {
     "end_time": "2021-11-28T07:55:05.524739Z",
     "start_time": "2021-11-28T07:55:05.514745Z"
    }
   },
   "outputs": [
    {
     "name": "stdout",
     "output_type": "stream",
     "text": [
      "[[ 0  1  2  3]\n",
      " [ 4  5  6  7]\n",
      " [ 8  9 10 11]]\n"
     ]
    }
   ],
   "source": [
    "print(x)"
   ]
  },
  {
   "cell_type": "markdown",
   "metadata": {},
   "source": [
    "### 高斯分布"
   ]
  },
  {
   "cell_type": "code",
   "execution_count": 96,
   "metadata": {
    "ExecuteTime": {
     "end_time": "2021-11-28T07:55:06.851543Z",
     "start_time": "2021-11-28T07:55:06.831556Z"
    }
   },
   "outputs": [
    {
     "data": {
      "text/plain": [
       "array([  7.39735995,  -7.13146282, -16.26282602,   2.77426142,\n",
       "        -3.01780936])"
      ]
     },
     "execution_count": 96,
     "metadata": {},
     "output_type": "execute_result"
    }
   ],
   "source": [
    "np.random.normal(1, 10, 5) # EX=1, DX=10, Gaussian 分布"
   ]
  },
  {
   "cell_type": "markdown",
   "metadata": {},
   "source": [
    "### 随机数的应用: 随机噪声"
   ]
  },
  {
   "cell_type": "code",
   "execution_count": 97,
   "metadata": {
    "ExecuteTime": {
     "end_time": "2021-11-28T07:55:07.942425Z",
     "start_time": "2021-11-28T07:55:07.930431Z"
    }
   },
   "outputs": [],
   "source": [
    "import matplotlib.pyplot as plt"
   ]
  },
  {
   "cell_type": "code",
   "execution_count": 98,
   "metadata": {
    "ExecuteTime": {
     "end_time": "2021-11-28T07:55:09.339764Z",
     "start_time": "2021-11-28T07:55:08.843301Z"
    }
   },
   "outputs": [
    {
     "data": {
      "image/png": "[encoded data removed]",
      "text/plain": [
       "<Figure size 432x288 with 1 Axes>"
      ]
     },
     "metadata": {
      "needs_background": "light"
     },
     "output_type": "display_data"
    }
   ],
   "source": [
    "x = np.linspace(-10, 10, 100)\n",
    "y = np.sin(x)\n",
    "plt.plot(x, y)\n",
    "plt.title(\"SIN(X)\")\n",
    "plt.show()"
   ]
  },
  {
   "cell_type": "code",
   "execution_count": 99,
   "metadata": {
    "ExecuteTime": {
     "end_time": "2021-11-28T07:55:11.098779Z",
     "start_time": "2021-11-28T07:55:10.696952Z"
    }
   },
   "outputs": [
    {
     "data": {
      "image/png": "[encoded data removed]",
      "text/plain": [
       "<Figure size 432x288 with 1 Axes>"
      ]
     },
     "metadata": {
      "needs_background": "light"
     },
     "output_type": "display_data"
    }
   ],
   "source": [
    "x = np.linspace(-10, 10, 100)\n",
    "y = np.sin(x) + np.random.rand(len(x))\n",
    "plt.plot(x, y)\n",
    "plt.title(\"SIN(X)\")\n",
    "plt.show()"
   ]
  },
  {
   "cell_type": "markdown",
   "metadata": {},
   "source": [
    "## NumPy 常用统计函数\n",
    "\n",
    "- 常用统计函数:\n",
    "\n",
    "| Function | Description |\n",
    "| :--- | :--- |\n",
    "| np.sum | 元素求和 \n",
    "| np.prod | 元素求积 \n",
    "| np.cumsum | 累积加和 \n",
    "| np.cumprod | 累积乘积 \n",
    "| np.min | 最小值 \n",
    "| np.max | 最大值 \n",
    "| np.mean | 均值 \n",
    "| np.std | 标准差 \n",
    "| np.var | 方差 \n",
    "| np.median | 中位数 \n",
    "| np.quantitle | 0-1 分位数 \n",
    "| np.percentile | 0-100 百分位数 \n",
    "| np.average | 加权平均, 可指定 weights \n",
    "\n",
    "- **axis** 参数: 指定计算轴, 如果不指定则会计算所有元素的结果\n"
   ]
  },
  {
   "cell_type": "code",
   "execution_count": 100,
   "metadata": {
    "ExecuteTime": {
     "end_time": "2021-11-28T07:55:17.772570Z",
     "start_time": "2021-11-28T07:55:17.754576Z"
    }
   },
   "outputs": [
    {
     "name": "stdout",
     "output_type": "stream",
     "text": [
      "[[ 0  1  2  3]\n",
      " [ 4  5  6  7]\n",
      " [ 8  9 10 11]]\n",
      "AllSum: 66\n",
      "Sum: [12 15 18 21]\n",
      "Max: [ 8  9 10 11]\n",
      "Min: [0 1 2 3]\n",
      "Mean: [4. 5. 6. 7.]\n"
     ]
    }
   ],
   "source": [
    "arr = np.arange(12).reshape(3,4)\n",
    "print(arr)\n",
    "print(\"AllSum:\", np.sum(arr))\n",
    "print(\"Sum:\", np.sum(arr, axis=0))\n",
    "print(\"Max:\", np.max(arr, axis=0))\n",
    "print(\"Min:\", np.min(arr, axis=0))\n",
    "print(\"Mean:\", np.mean(arr, axis=0))\n"
   ]
  },
  {
   "cell_type": "markdown",
   "metadata": {},
   "source": [
    "### 实例: 数据标准化\n",
    "- 行(row): 记录(record), 样本\n",
    "- 列(column): 字段, 特征\n",
    "- 数据标准化: 机器学习、神经网络中不同列的量纲应该相同, 这样训练收敛更快\n",
    "- 归一化公式: $$X_{centered} = X-X_{mean}$$\n",
    "- 标准化公式: $$X_{std} = \\frac{X-mean(X, axis=0)}{std(X, axis=0)}$$\n"
   ]
  },
  {
   "cell_type": "code",
   "execution_count": 17,
   "metadata": {
    "ExecuteTime": {
     "end_time": "2021-11-29T10:59:10.552329Z",
     "start_time": "2021-11-29T10:59:10.533340Z"
    }
   },
   "outputs": [
    {
     "name": "stdout",
     "output_type": "stream",
     "text": [
      "[[38 26 78 73]\n",
      " [10 21 81 70]\n",
      " [80 48 65 83]]\n"
     ]
    }
   ],
   "source": [
    "# X = np.arange(12).reshape(3,4)\n",
    "X = np.random.randint(1, 100, size=(3,4))\n",
    "print(X)"
   ]
  },
  {
   "cell_type": "code",
   "execution_count": 18,
   "metadata": {
    "ExecuteTime": {
     "end_time": "2021-11-29T11:00:36.054168Z",
     "start_time": "2021-11-29T11:00:36.043182Z"
    }
   },
   "outputs": [
    {
     "name": "stdout",
     "output_type": "stream",
     "text": [
      "[[ -4.66666667  -5.66666667   3.33333333  -2.33333333]\n",
      " [-32.66666667 -10.66666667   6.33333333  -5.33333333]\n",
      " [ 37.33333333  16.33333333  -9.66666667   7.66666667]]\n"
     ]
    }
   ],
   "source": [
    "X_centered = X - X.mean(axis=0) # 归一化\n",
    "print(X_centered)"
   ]
  },
  {
   "cell_type": "code",
   "execution_count": 22,
   "metadata": {
    "ExecuteTime": {
     "end_time": "2021-11-29T11:03:08.307040Z",
     "start_time": "2021-11-29T11:03:08.299047Z"
    }
   },
   "outputs": [
    {
     "data": {
      "text/plain": [
       "array([ 2.36847579e-15, -1.18423789e-15, -4.73695157e-15,  4.73695157e-15])"
      ]
     },
     "execution_count": 22,
     "metadata": {},
     "output_type": "execute_result"
    }
   ],
   "source": [
    "X_centered.mean(0)"
   ]
  },
  {
   "cell_type": "code",
   "execution_count": 20,
   "metadata": {
    "ExecuteTime": {
     "end_time": "2021-11-29T11:00:46.510710Z",
     "start_time": "2021-11-29T11:00:46.494603Z"
    }
   },
   "outputs": [
    {
     "name": "stdout",
     "output_type": "stream",
     "text": [
      "[[-0.16222142 -0.48315736  0.48001536 -0.4198321 ]\n",
      " [-1.13554995 -0.90947268  0.91202919 -0.95961623]\n",
      " [ 1.29777137  1.39263004 -1.39204455  1.37944833]]\n"
     ]
    }
   ],
   "source": [
    "X_std = (X-np.mean(X, axis=0))/np.std(X, axis=0) # 标准化\n",
    "print(X_std)"
   ]
  },
  {
   "cell_type": "code",
   "execution_count": 21,
   "metadata": {
    "ExecuteTime": {
     "end_time": "2021-11-29T11:01:15.371191Z",
     "start_time": "2021-11-29T11:01:15.357198Z"
    }
   },
   "outputs": [
    {
     "name": "stdout",
     "output_type": "stream",
     "text": [
      "[[-0.16222142 -0.48315736  0.48001536 -0.4198321 ]\n",
      " [-1.13554995 -0.90947268  0.91202919 -0.95961623]\n",
      " [ 1.29777137  1.39263004 -1.39204455  1.37944833]]\n"
     ]
    }
   ],
   "source": [
    "X_std = X_centered/X.std(0) # 标准化\n",
    "print(X_std)"
   ]
  },
  {
   "cell_type": "code",
   "execution_count": 28,
   "metadata": {
    "ExecuteTime": {
     "end_time": "2021-11-29T11:46:37.741030Z",
     "start_time": "2021-11-29T11:46:37.731037Z"
    }
   },
   "outputs": [
    {
     "data": {
      "text/plain": [
       "array([[ 0,  1,  2,  3],\n",
       "       [ 4,  5,  6,  7],\n",
       "       [ 8,  9, 10, 11]])"
      ]
     },
     "execution_count": 28,
     "metadata": {},
     "output_type": "execute_result"
    }
   ],
   "source": [
    "X = np.arange(12).reshape(3,4)\n",
    "X"
   ]
  },
  {
   "cell_type": "code",
   "execution_count": null,
   "metadata": {},
   "outputs": [],
   "source": []
  },
  {
   "cell_type": "markdown",
   "metadata": {},
   "source": [
    "## Tips\n",
    "\n",
    "### 比较, 掩码, 布尔逻辑\n",
    "- 布尔掩码: 查找符合条件的数据\n"
   ]
  },
  {
   "cell_type": "code",
   "execution_count": 102,
   "metadata": {
    "ExecuteTime": {
     "end_time": "2021-11-28T07:57:56.630695Z",
     "start_time": "2021-11-28T07:57:54.420850Z"
    }
   },
   "outputs": [],
   "source": [
    "x = np.random.randint(1, 10000, size=int(1e8)) # [1,10000) 之间 1e8 个整数序列"
   ]
  },
  {
   "cell_type": "code",
   "execution_count": 104,
   "metadata": {
    "ExecuteTime": {
     "end_time": "2021-11-28T07:58:14.212304Z",
     "start_time": "2021-11-28T07:58:14.192320Z"
    }
   },
   "outputs": [
    {
     "data": {
      "text/plain": [
       "array([9101, 4653, 6236,  424, 6855,  968, 4371, 9053, 6188, 5204])"
      ]
     },
     "execution_count": 104,
     "metadata": {},
     "output_type": "execute_result"
    }
   ],
   "source": [
    "x[:10]"
   ]
  },
  {
   "cell_type": "code",
   "execution_count": 106,
   "metadata": {
    "ExecuteTime": {
     "end_time": "2021-11-28T08:00:41.595701Z",
     "start_time": "2021-11-28T08:00:40.116382Z"
    }
   },
   "outputs": [
    {
     "data": {
      "text/plain": [
       "50000608"
      ]
     },
     "execution_count": 106,
     "metadata": {},
     "output_type": "execute_result"
    }
   ],
   "source": [
    "x[x>5000].size"
   ]
  },
  {
   "cell_type": "markdown",
   "metadata": {},
   "source": [
    "### 数组升维\n",
    "- np.newaxis <==> None\n",
    "- np.expand_dims(arr, axis)\n",
    "- np.reshape(a, newshape)\n"
   ]
  },
  {
   "cell_type": "code",
   "execution_count": 108,
   "metadata": {
    "ExecuteTime": {
     "end_time": "2021-11-28T08:09:28.996799Z",
     "start_time": "2021-11-28T08:09:28.974789Z"
    }
   },
   "outputs": [
    {
     "data": {
      "text/plain": [
       "array([0, 1, 2, 3, 4, 5, 6, 7, 8, 9])"
      ]
     },
     "execution_count": 108,
     "metadata": {},
     "output_type": "execute_result"
    }
   ],
   "source": [
    "x = np.arange(10)\n",
    "x"
   ]
  },
  {
   "cell_type": "code",
   "execution_count": 113,
   "metadata": {
    "ExecuteTime": {
     "end_time": "2021-11-28T08:11:19.002143Z",
     "start_time": "2021-11-28T08:11:18.981141Z"
    }
   },
   "outputs": [
    {
     "data": {
      "text/plain": [
       "array([[0, 1, 2, 3, 4, 5, 6, 7, 8, 9]])"
      ]
     },
     "execution_count": 113,
     "metadata": {},
     "output_type": "execute_result"
    }
   ],
   "source": [
    "x[np.newaxis, x]"
   ]
  },
  {
   "cell_type": "code",
   "execution_count": 115,
   "metadata": {
    "ExecuteTime": {
     "end_time": "2021-11-28T08:11:35.862783Z",
     "start_time": "2021-11-28T08:11:35.849794Z"
    }
   },
   "outputs": [
    {
     "data": {
      "text/plain": [
       "(1, 10)"
      ]
     },
     "execution_count": 115,
     "metadata": {},
     "output_type": "execute_result"
    }
   ],
   "source": [
    "x[np.newaxis, x].shape"
   ]
  },
  {
   "cell_type": "code",
   "execution_count": 110,
   "metadata": {
    "ExecuteTime": {
     "end_time": "2021-11-28T08:10:27.505556Z",
     "start_time": "2021-11-28T08:10:27.490368Z"
    }
   },
   "outputs": [
    {
     "data": {
      "text/plain": [
       "array([[0, 1, 2, 3, 4, 5, 6, 7, 8, 9]])"
      ]
     },
     "execution_count": 110,
     "metadata": {},
     "output_type": "execute_result"
    }
   ],
   "source": [
    "x[None, x]"
   ]
  },
  {
   "cell_type": "code",
   "execution_count": 117,
   "metadata": {
    "ExecuteTime": {
     "end_time": "2021-11-28T08:11:51.761674Z",
     "start_time": "2021-11-28T08:11:51.744663Z"
    }
   },
   "outputs": [
    {
     "data": {
      "text/plain": [
       "(1, 10)"
      ]
     },
     "execution_count": 117,
     "metadata": {},
     "output_type": "execute_result"
    }
   ],
   "source": [
    "x[np.newaxis, x].shape"
   ]
  },
  {
   "cell_type": "code",
   "execution_count": 120,
   "metadata": {
    "ExecuteTime": {
     "end_time": "2021-11-28T08:15:09.163052Z",
     "start_time": "2021-11-28T08:15:09.155056Z"
    }
   },
   "outputs": [
    {
     "data": {
      "text/plain": [
       "array([[0, 1, 2, 3, 4, 5, 6, 7, 8, 9]])"
      ]
     },
     "execution_count": 120,
     "metadata": {},
     "output_type": "execute_result"
    }
   ],
   "source": [
    "x.reshape(1, -1)"
   ]
  },
  {
   "cell_type": "code",
   "execution_count": 121,
   "metadata": {
    "ExecuteTime": {
     "end_time": "2021-11-28T08:15:29.262673Z",
     "start_time": "2021-11-28T08:15:29.237686Z"
    }
   },
   "outputs": [
    {
     "data": {
      "text/plain": [
       "array([[0],\n",
       "       [1],\n",
       "       [2],\n",
       "       [3],\n",
       "       [4],\n",
       "       [5],\n",
       "       [6],\n",
       "       [7],\n",
       "       [8],\n",
       "       [9]])"
      ]
     },
     "execution_count": 121,
     "metadata": {},
     "output_type": "execute_result"
    }
   ],
   "source": [
    "x.reshape(-1, 1)"
   ]
  },
  {
   "cell_type": "markdown",
   "metadata": {},
   "source": [
    "### 数据合并\n",
    "- 背景: 机器学习中需要对不同来源的数据进行合并\n",
    "- 场景: \n",
    "    - 向已有数据添加多行, 比如添加样本数据\n",
    "    - 向已有数据添加多列, 比如添加特征\n",
    "- 方法:\n",
    "    - np.concatentate(array_list, axis=0/1): 沿着指定 axis 进行数据合并\n",
    "    - np.vstack(), np.row_stack(array_list): 垂直 vertically, 按行 row wise 进行数据合并\n",
    "    - np.hstack(), np.column_stack(array_list): 水平 horizontally, 按列 column wise 进行数据合并\n"
   ]
  },
  {
   "cell_type": "code",
   "execution_count": 124,
   "metadata": {
    "ExecuteTime": {
     "end_time": "2021-11-28T08:27:50.898650Z",
     "start_time": "2021-11-28T08:27:50.880665Z"
    }
   },
   "outputs": [
    {
     "name": "stdout",
     "output_type": "stream",
     "text": [
      "[[0 1 2]\n",
      " [3 4 5]]\n",
      "[[14 16 12]\n",
      " [16 13 17]\n",
      " [10 15 17]\n",
      " [14 10 14]]\n"
     ]
    }
   ],
   "source": [
    "x1 = np.arange(6).reshape(2,3)\n",
    "x2 = np.random.randint(10, 20, size=(4,3))\n",
    "print(x1)\n",
    "print(x2)"
   ]
  },
  {
   "cell_type": "code",
   "execution_count": 127,
   "metadata": {
    "ExecuteTime": {
     "end_time": "2021-11-28T08:29:03.222038Z",
     "start_time": "2021-11-28T08:29:03.211043Z"
    }
   },
   "outputs": [
    {
     "data": {
      "text/plain": [
       "array([[ 0,  1,  2],\n",
       "       [ 3,  4,  5],\n",
       "       [14, 16, 12],\n",
       "       [16, 13, 17],\n",
       "       [10, 15, 17],\n",
       "       [14, 10, 14]])"
      ]
     },
     "execution_count": 127,
     "metadata": {},
     "output_type": "execute_result"
    }
   ],
   "source": [
    "np.concatenate([x1,x2])"
   ]
  },
  {
   "cell_type": "code",
   "execution_count": 129,
   "metadata": {
    "ExecuteTime": {
     "end_time": "2021-11-28T08:32:30.241219Z",
     "start_time": "2021-11-28T08:32:30.232224Z"
    }
   },
   "outputs": [
    {
     "name": "stdout",
     "output_type": "stream",
     "text": [
      "[[8 9 9 4 4]\n",
      " [5 4 8 2 5]\n",
      " [6 9 3 4 1]\n",
      " [2 4 3 5 7]]\n",
      "[[0 4]\n",
      " [2 2]\n",
      " [8 6]\n",
      " [3 6]]\n"
     ]
    }
   ],
   "source": [
    "x1 = np.random.randint(0, 10, size=(4,5))\n",
    "x2 = np.random.randint(0,10, size=(4,2))\n",
    "print(x1)\n",
    "print(x2)"
   ]
  },
  {
   "cell_type": "code",
   "execution_count": 131,
   "metadata": {
    "ExecuteTime": {
     "end_time": "2021-11-28T08:33:25.213577Z",
     "start_time": "2021-11-28T08:33:25.202590Z"
    }
   },
   "outputs": [
    {
     "data": {
      "text/plain": [
       "array([[8, 9, 9, 4, 4, 0, 4],\n",
       "       [5, 4, 8, 2, 5, 2, 2],\n",
       "       [6, 9, 3, 4, 1, 8, 6],\n",
       "       [2, 4, 3, 5, 7, 3, 6]])"
      ]
     },
     "execution_count": 131,
     "metadata": {},
     "output_type": "execute_result"
    }
   ],
   "source": [
    "np.concatenate([x1,x2], axis=1)"
   ]
  },
  {
   "cell_type": "markdown",
   "metadata": {},
   "source": [
    "## 广播\n",
    "- 规则1：如果两个数组的维度数不相同，那么小维度数组的形状将会在最左边补1\n",
    "- 规则2：如果两个数组的形状在任何一个维度上都不匹配，那么数组的形状会沿着维度为1 的维度扩展以匹配另外一个数组的形状\n",
    "- 规则3：如果两个数组的形状在任何一个维度上都不匹配并且没有任何一个维度等于1，那么会引发异常\n"
   ]
  },
  {
   "cell_type": "code",
   "execution_count": 8,
   "metadata": {
    "ExecuteTime": {
     "end_time": "2021-11-29T10:40:56.093749Z",
     "start_time": "2021-11-29T10:40:56.073748Z"
    }
   },
   "outputs": [
    {
     "name": "stdout",
     "output_type": "stream",
     "text": [
      "[1. 1. 1.]\n",
      "[[6 1 4]\n",
      " [4 8 4]\n",
      " [6 3 5]]\n",
      "[[7. 2. 5.]\n",
      " [5. 9. 5.]\n",
      " [7. 4. 6.]]\n"
     ]
    }
   ],
   "source": [
    "arr1 = np.ones(3)\n",
    "arr2 = np.random.randint(1, 10, size=(3,3))\n",
    "arr = arr1 + arr2\n",
    "print(arr1)\n",
    "print(arr2)\n",
    "print(arr)"
   ]
  },
  {
   "cell_type": "code",
   "execution_count": 15,
   "metadata": {
    "ExecuteTime": {
     "end_time": "2021-11-29T10:54:42.761821Z",
     "start_time": "2021-11-29T10:54:42.740835Z"
    }
   },
   "outputs": [
    {
     "name": "stdout",
     "output_type": "stream",
     "text": [
      "(3, 2) (3,)\n"
     ]
    },
    {
     "ename": "ValueError",
     "evalue": "operands could not be broadcast together with shapes (3,2) (3,) ",
     "output_type": "error",
     "traceback": [
      "\u001b[1;31m---------------------------------------------------------------------------\u001b[0m",
      "\u001b[1;31mValueError\u001b[0m                                Traceback (most recent call last)",
      "\u001b[1;32m<ipython-input-15-13579912768d>\u001b[0m in \u001b[0;36m<module>\u001b[1;34m\u001b[0m\n\u001b[0;32m      2\u001b[0m \u001b[0ma\u001b[0m \u001b[1;33m=\u001b[0m \u001b[0mnp\u001b[0m\u001b[1;33m.\u001b[0m\u001b[0marange\u001b[0m\u001b[1;33m(\u001b[0m\u001b[1;36m3\u001b[0m\u001b[1;33m)\u001b[0m\u001b[1;33m\u001b[0m\u001b[1;33m\u001b[0m\u001b[0m\n\u001b[0;32m      3\u001b[0m \u001b[0mprint\u001b[0m\u001b[1;33m(\u001b[0m\u001b[0mM\u001b[0m\u001b[1;33m.\u001b[0m\u001b[0mshape\u001b[0m\u001b[1;33m,\u001b[0m \u001b[0ma\u001b[0m\u001b[1;33m.\u001b[0m\u001b[0mshape\u001b[0m\u001b[1;33m)\u001b[0m\u001b[1;33m\u001b[0m\u001b[1;33m\u001b[0m\u001b[0m\n\u001b[1;32m----> 4\u001b[1;33m \u001b[0mM\u001b[0m \u001b[1;33m+\u001b[0m \u001b[0ma\u001b[0m\u001b[1;33m\u001b[0m\u001b[1;33m\u001b[0m\u001b[0m\n\u001b[0m\u001b[0;32m      5\u001b[0m \u001b[1;31m# 异常原因:\u001b[0m\u001b[1;33m\u001b[0m\u001b[1;33m\u001b[0m\u001b[1;33m\u001b[0m\u001b[0m\n\u001b[0;32m      6\u001b[0m \u001b[1;31m# M.shape = (3,2)\u001b[0m\u001b[1;33m\u001b[0m\u001b[1;33m\u001b[0m\u001b[1;33m\u001b[0m\u001b[0m\n",
      "\u001b[1;31mValueError\u001b[0m: operands could not be broadcast together with shapes (3,2) (3,) "
     ]
    }
   ],
   "source": [
    "M = np.ones((3,2))\n",
    "a = np.arange(3)\n",
    "print(M.shape, a.shape)\n",
    "M + a\n",
    "# 异常原因:\n",
    "# M.shape = (3,2)\n",
    "# a.shape = (3,)\n",
    "# 规则1:\n",
    "# M.shape = (3,2)\n",
    "# a.shape = (1,3)\n",
    "# 规则2:\n",
    "# M.shape = (3,2)\n",
    "# a.shape = (3,3)\n",
    "# 规则3: --> 异常\n"
   ]
  },
  {
   "cell_type": "markdown",
   "metadata": {},
   "source": [
    "## 排序\n",
    "\n",
    "### 全排序\n"
   ]
  },
  {
   "cell_type": "code",
   "execution_count": 96,
   "metadata": {
    "ExecuteTime": {
     "end_time": "2021-11-29T12:40:54.211578Z",
     "start_time": "2021-11-29T12:40:54.191571Z"
    }
   },
   "outputs": [
    {
     "data": {
      "text/plain": [
       "array([1, 3, 4, 4, 4, 5, 6, 6, 8, 8])"
      ]
     },
     "execution_count": 96,
     "metadata": {},
     "output_type": "execute_result"
    }
   ],
   "source": [
    "np.random.seed(0)\n",
    "x = np.random.randint(1, 10, size=10)\n",
    "ind = np.argsort(x)\n",
    "x[ind]"
   ]
  },
  {
   "cell_type": "markdown",
   "metadata": {},
   "source": [
    "### 部分排序"
   ]
  },
  {
   "cell_type": "code",
   "execution_count": 90,
   "metadata": {
    "ExecuteTime": {
     "end_time": "2021-11-29T12:38:25.155696Z",
     "start_time": "2021-11-29T12:38:25.139703Z"
    }
   },
   "outputs": [
    {
     "name": "stdout",
     "output_type": "stream",
     "text": [
      "[6 1 4 4 8 4 6 3 5 8]\n"
     ]
    },
    {
     "data": {
      "text/plain": [
       "array([1, 3, 4, 4, 6, 4, 6, 5, 8, 8])"
      ]
     },
     "execution_count": 90,
     "metadata": {},
     "output_type": "execute_result"
    }
   ],
   "source": [
    "np.random.seed(0)\n",
    "x = np.random.randint(1, 10, size=10)\n",
    "print(x)\n",
    "np.partition(x, 3)"
   ]
  },
  {
   "cell_type": "markdown",
   "metadata": {},
   "source": [
    "### K 个最近邻"
   ]
  },
  {
   "cell_type": "code",
   "execution_count": 3,
   "metadata": {
    "ExecuteTime": {
     "end_time": "2021-12-03T06:56:38.578274Z",
     "start_time": "2021-12-03T06:56:38.233959Z"
    }
   },
   "outputs": [
    {
     "data": {
      "image/png": "[encoded data removed]",
      "text/plain": [
       "<Figure size 432x288 with 1 Axes>"
      ]
     },
     "metadata": {
      "needs_background": "light"
     },
     "output_type": "display_data"
    }
   ],
   "source": [
    "np.random.seed(0)\n",
    "x = np.random.random(size=(10,2))\n",
    "import matplotlib.pyplot as plt\n",
    "plt.scatter(x[:,0], x[:,1])\n",
    "# for i,txt in enumerate(range(x.shape[0])):\n",
    "#     ax.annotate(txt,(x[i,0],x[i,1]))\n",
    "plt.show()"
   ]
  },
  {
   "cell_type": "code",
   "execution_count": 4,
   "metadata": {
    "ExecuteTime": {
     "end_time": "2021-12-03T06:56:41.401877Z",
     "start_time": "2021-12-03T06:56:41.387885Z"
    }
   },
   "outputs": [
    {
     "data": {
      "text/plain": [
       "array([[0.5488135 , 0.71518937],\n",
       "       [0.60276338, 0.54488318],\n",
       "       [0.4236548 , 0.64589411],\n",
       "       [0.43758721, 0.891773  ],\n",
       "       [0.96366276, 0.38344152],\n",
       "       [0.79172504, 0.52889492],\n",
       "       [0.56804456, 0.92559664],\n",
       "       [0.07103606, 0.0871293 ],\n",
       "       [0.0202184 , 0.83261985],\n",
       "       [0.77815675, 0.87001215]])"
      ]
     },
     "execution_count": 4,
     "metadata": {},
     "output_type": "execute_result"
    }
   ],
   "source": [
    "x"
   ]
  },
  {
   "cell_type": "code",
   "execution_count": 5,
   "metadata": {
    "ExecuteTime": {
     "end_time": "2021-12-03T06:56:50.215052Z",
     "start_time": "2021-12-03T06:56:50.205058Z"
    }
   },
   "outputs": [
    {
     "data": {
      "text/plain": [
       "array([[[0.5488135 , 0.71518937]],\n",
       "\n",
       "       [[0.60276338, 0.54488318]],\n",
       "\n",
       "       [[0.4236548 , 0.64589411]],\n",
       "\n",
       "       [[0.43758721, 0.891773  ]],\n",
       "\n",
       "       [[0.96366276, 0.38344152]],\n",
       "\n",
       "       [[0.79172504, 0.52889492]],\n",
       "\n",
       "       [[0.56804456, 0.92559664]],\n",
       "\n",
       "       [[0.07103606, 0.0871293 ]],\n",
       "\n",
       "       [[0.0202184 , 0.83261985]],\n",
       "\n",
       "       [[0.77815675, 0.87001215]]])"
      ]
     },
     "execution_count": 5,
     "metadata": {},
     "output_type": "execute_result"
    }
   ],
   "source": [
    "x[:,None,:]"
   ]
  },
  {
   "cell_type": "code",
   "execution_count": 6,
   "metadata": {
    "ExecuteTime": {
     "end_time": "2021-12-03T06:57:06.791978Z",
     "start_time": "2021-12-03T06:57:06.778989Z"
    }
   },
   "outputs": [
    {
     "data": {
      "text/plain": [
       "array([[[0.5488135 , 0.71518937],\n",
       "        [0.60276338, 0.54488318],\n",
       "        [0.4236548 , 0.64589411],\n",
       "        [0.43758721, 0.891773  ],\n",
       "        [0.96366276, 0.38344152],\n",
       "        [0.79172504, 0.52889492],\n",
       "        [0.56804456, 0.92559664],\n",
       "        [0.07103606, 0.0871293 ],\n",
       "        [0.0202184 , 0.83261985],\n",
       "        [0.77815675, 0.87001215]]])"
      ]
     },
     "execution_count": 6,
     "metadata": {},
     "output_type": "execute_result"
    }
   ],
   "source": [
    "x[None,:,:]"
   ]
  },
  {
   "cell_type": "code",
   "execution_count": 7,
   "metadata": {
    "ExecuteTime": {
     "end_time": "2021-12-03T06:57:18.351706Z",
     "start_time": "2021-12-03T06:57:18.333717Z"
    }
   },
   "outputs": [
    {
     "data": {
      "text/plain": [
       "array([[[ 0.        ,  0.        ],\n",
       "        [-0.05394987,  0.17030618],\n",
       "        [ 0.1251587 ,  0.06929525],\n",
       "        [ 0.11122629, -0.17658363],\n",
       "        [-0.41484926,  0.33174785],\n",
       "        [-0.24291153,  0.18629445],\n",
       "        [-0.01923106, -0.21040727],\n",
       "        [ 0.47777745,  0.62806007],\n",
       "        [ 0.52859511, -0.11743048],\n",
       "        [-0.22934325, -0.15482278]],\n",
       "\n",
       "       [[ 0.05394987, -0.17030618],\n",
       "        [ 0.        ,  0.        ],\n",
       "        [ 0.17910858, -0.10101093],\n",
       "        [ 0.16517616, -0.34688982],\n",
       "        [-0.36089938,  0.16144166],\n",
       "        [-0.18896166,  0.01598826],\n",
       "        [ 0.03471881, -0.38071346],\n",
       "        [ 0.53172732,  0.45775388],\n",
       "        [ 0.58254498, -0.28773666],\n",
       "        [-0.17539337, -0.32512897]],\n",
       "\n",
       "       [[-0.1251587 , -0.06929525],\n",
       "        [-0.17910858,  0.10101093],\n",
       "        [ 0.        ,  0.        ],\n",
       "        [-0.01393241, -0.24587889],\n",
       "        [-0.54000796,  0.26245259],\n",
       "        [-0.36807024,  0.11699919],\n",
       "        [-0.14438976, -0.27970253],\n",
       "        [ 0.35261874,  0.55876481],\n",
       "        [ 0.4034364 , -0.18672573],\n",
       "        [-0.35450195, -0.22411804]],\n",
       "\n",
       "       [[-0.11122629,  0.17658363],\n",
       "        [-0.16517616,  0.34688982],\n",
       "        [ 0.01393241,  0.24587889],\n",
       "        [ 0.        ,  0.        ],\n",
       "        [-0.52607555,  0.50833148],\n",
       "        [-0.35413783,  0.36287808],\n",
       "        [-0.13045735, -0.03382364],\n",
       "        [ 0.36655115,  0.8046437 ],\n",
       "        [ 0.41736881,  0.05915316],\n",
       "        [-0.34056954,  0.02176085]],\n",
       "\n",
       "       [[ 0.41484926, -0.33174785],\n",
       "        [ 0.36089938, -0.16144166],\n",
       "        [ 0.54000796, -0.26245259],\n",
       "        [ 0.52607555, -0.50833148],\n",
       "        [ 0.        ,  0.        ],\n",
       "        [ 0.17193772, -0.1454534 ],\n",
       "        [ 0.3956182 , -0.54215512],\n",
       "        [ 0.8926267 ,  0.29631222],\n",
       "        [ 0.94344436, -0.44917833],\n",
       "        [ 0.18550601, -0.48657063]],\n",
       "\n",
       "       [[ 0.24291153, -0.18629445],\n",
       "        [ 0.18896166, -0.01598826],\n",
       "        [ 0.36807024, -0.11699919],\n",
       "        [ 0.35413783, -0.36287808],\n",
       "        [-0.17193772,  0.1454534 ],\n",
       "        [ 0.        ,  0.        ],\n",
       "        [ 0.22368048, -0.39670172],\n",
       "        [ 0.72068898,  0.44176562],\n",
       "        [ 0.77150664, -0.30372493],\n",
       "        [ 0.01356829, -0.34111723]],\n",
       "\n",
       "       [[ 0.01923106,  0.21040727],\n",
       "        [-0.03471881,  0.38071346],\n",
       "        [ 0.14438976,  0.27970253],\n",
       "        [ 0.13045735,  0.03382364],\n",
       "        [-0.3956182 ,  0.54215512],\n",
       "        [-0.22368048,  0.39670172],\n",
       "        [ 0.        ,  0.        ],\n",
       "        [ 0.4970085 ,  0.83846734],\n",
       "        [ 0.54782616,  0.09297679],\n",
       "        [-0.21011219,  0.05558449]],\n",
       "\n",
       "       [[-0.47777745, -0.62806007],\n",
       "        [-0.53172732, -0.45775388],\n",
       "        [-0.35261874, -0.55876481],\n",
       "        [-0.36655115, -0.8046437 ],\n",
       "        [-0.8926267 , -0.29631222],\n",
       "        [-0.72068898, -0.44176562],\n",
       "        [-0.4970085 , -0.83846734],\n",
       "        [ 0.        ,  0.        ],\n",
       "        [ 0.05081766, -0.74549055],\n",
       "        [-0.70712069, -0.78288285]],\n",
       "\n",
       "       [[-0.52859511,  0.11743048],\n",
       "        [-0.58254498,  0.28773666],\n",
       "        [-0.4034364 ,  0.18672573],\n",
       "        [-0.41736881, -0.05915316],\n",
       "        [-0.94344436,  0.44917833],\n",
       "        [-0.77150664,  0.30372493],\n",
       "        [-0.54782616, -0.09297679],\n",
       "        [-0.05081766,  0.74549055],\n",
       "        [ 0.        ,  0.        ],\n",
       "        [-0.75793835, -0.0373923 ]],\n",
       "\n",
       "       [[ 0.22934325,  0.15482278],\n",
       "        [ 0.17539337,  0.32512897],\n",
       "        [ 0.35450195,  0.22411804],\n",
       "        [ 0.34056954, -0.02176085],\n",
       "        [-0.18550601,  0.48657063],\n",
       "        [-0.01356829,  0.34111723],\n",
       "        [ 0.21011219, -0.05558449],\n",
       "        [ 0.70712069,  0.78288285],\n",
       "        [ 0.75793835,  0.0373923 ],\n",
       "        [ 0.        ,  0.        ]]])"
      ]
     },
     "execution_count": 7,
     "metadata": {},
     "output_type": "execute_result"
    }
   ],
   "source": [
    "diff = x[:,None,:]-x[None,:,:]\n",
    "diff"
   ]
  },
  {
   "cell_type": "code",
   "execution_count": 4,
   "metadata": {
    "ExecuteTime": {
     "end_time": "2021-11-30T04:58:23.037973Z",
     "start_time": "2021-11-30T04:58:23.010008Z"
    }
   },
   "outputs": [
    {
     "data": {
      "text/plain": [
       "array([[0, 2, 1, 3, 6, 9, 5, 4, 8, 7],\n",
       "       [1, 0, 5, 2, 9, 6, 3, 4, 8, 7],\n",
       "       [2, 0, 1, 3, 6, 5, 9, 8, 4, 7],\n",
       "       [3, 6, 0, 2, 9, 1, 8, 5, 4, 7],\n",
       "       [4, 5, 1, 9, 0, 2, 6, 3, 7, 8],\n",
       "       [5, 1, 4, 0, 9, 2, 6, 3, 8, 7],\n",
       "       [6, 3, 0, 9, 2, 1, 5, 8, 4, 7],\n",
       "       [7, 2, 1, 8, 0, 5, 3, 4, 6, 9],\n",
       "       [8, 3, 2, 0, 6, 1, 7, 9, 5, 4],\n",
       "       [9, 6, 0, 3, 5, 1, 2, 4, 8, 7]], dtype=int64)"
      ]
     },
     "execution_count": 4,
     "metadata": {},
     "output_type": "execute_result"
    }
   ],
   "source": [
    "diff = x[:,None,:]-x[None,:,:] # 每对点的差值\n",
    "diff_sq = diff**2 # 差值的平方\n",
    "dist_sq = diff_sq.sum(-1) # 距离平方和\n",
    "nearest = np.argsort(dist_sq, axis=1) # 每个点和他的最近邻\n",
    "nearest"
   ]
  },
  {
   "cell_type": "code",
   "execution_count": 5,
   "metadata": {
    "ExecuteTime": {
     "end_time": "2021-11-30T04:58:24.072228Z",
     "start_time": "2021-11-30T04:58:24.061236Z"
    }
   },
   "outputs": [
    {
     "data": {
      "text/plain": [
       "array([[0, 2, 1, 3, 6, 9, 5, 7, 8, 4],\n",
       "       [1, 0, 5, 2, 9, 3, 6, 7, 8, 4],\n",
       "       [0, 2, 1, 3, 6, 5, 9, 7, 8, 4],\n",
       "       [3, 6, 0, 2, 9, 5, 1, 7, 8, 4],\n",
       "       [1, 4, 5, 9, 3, 2, 6, 7, 8, 0],\n",
       "       [1, 4, 5, 0, 3, 2, 6, 7, 8, 9],\n",
       "       [3, 0, 6, 9, 1, 5, 2, 7, 8, 4],\n",
       "       [1, 7, 2, 8, 0, 5, 3, 4, 6, 9],\n",
       "       [8, 3, 2, 0, 6, 1, 7, 9, 5, 4],\n",
       "       [6, 9, 0, 3, 5, 1, 2, 7, 8, 4]], dtype=int64)"
      ]
     },
     "execution_count": 5,
     "metadata": {},
     "output_type": "execute_result"
    }
   ],
   "source": [
    "# K 近邻\n",
    "K = 2\n",
    "k_nearest = np.argpartition(dist_sq, K+1, axis=1)\n",
    "k_nearest"
   ]
  },
  {
   "cell_type": "code",
   "execution_count": 6,
   "metadata": {
    "ExecuteTime": {
     "end_time": "2021-11-30T04:58:25.582124Z",
     "start_time": "2021-11-30T04:58:25.241317Z"
    }
   },
   "outputs": [
    {
     "data": {
      "image/png": "[encoded data removed]",
      "text/plain": [
       "<Figure size 432x288 with 1 Axes>"
      ]
     },
     "metadata": {
      "needs_background": "light"
     },
     "output_type": "display_data"
    }
   ],
   "source": [
    "plt.scatter(x[:,0], x[:,1])\n",
    "for i in range(x.shape[0]):\n",
    "    for j in k_nearest[i,:K+1]:\n",
    "        plt.plot(*zip(x[i], x[j]), color=\"k\")\n",
    "plt.show()"
   ]
  },
  {
   "cell_type": "markdown",
   "metadata": {},
   "source": [
    "## 结构化数组"
   ]
  },
  {
   "cell_type": "code",
   "execution_count": 23,
   "metadata": {
    "ExecuteTime": {
     "end_time": "2021-12-01T12:22:13.461191Z",
     "start_time": "2021-12-01T12:22:13.453197Z"
    }
   },
   "outputs": [],
   "source": [
    "data = np.ones(3, dtype={'names':('name','age'),\n",
    "                         'formats':('U10','i4')})"
   ]
  },
  {
   "cell_type": "code",
   "execution_count": 24,
   "metadata": {
    "ExecuteTime": {
     "end_time": "2021-12-01T12:22:14.121880Z",
     "start_time": "2021-12-01T12:22:14.106889Z"
    }
   },
   "outputs": [],
   "source": [
    "name = ['林丹','李宗伟','谌龙']\n",
    "age = [25,26,19]"
   ]
  },
  {
   "cell_type": "code",
   "execution_count": 25,
   "metadata": {
    "ExecuteTime": {
     "end_time": "2021-12-01T12:22:14.688624Z",
     "start_time": "2021-12-01T12:22:14.681631Z"
    }
   },
   "outputs": [],
   "source": [
    "data['name'] = name\n",
    "data['age'] = age"
   ]
  },
  {
   "cell_type": "code",
   "execution_count": 26,
   "metadata": {
    "ExecuteTime": {
     "end_time": "2021-12-01T12:22:15.270879Z",
     "start_time": "2021-12-01T12:22:15.259888Z"
    }
   },
   "outputs": [
    {
     "data": {
      "text/plain": [
       "array(['林丹', '李宗伟', '谌龙'], dtype='<U10')"
      ]
     },
     "execution_count": 26,
     "metadata": {},
     "output_type": "execute_result"
    }
   ],
   "source": [
    "data['name']"
   ]
  },
  {
   "cell_type": "code",
   "execution_count": 27,
   "metadata": {
    "ExecuteTime": {
     "end_time": "2021-12-01T12:22:15.930070Z",
     "start_time": "2021-12-01T12:22:15.911057Z"
    }
   },
   "outputs": [
    {
     "data": {
      "text/plain": [
       "('林丹', 25)"
      ]
     },
     "execution_count": 27,
     "metadata": {},
     "output_type": "execute_result"
    }
   ],
   "source": [
    "data[0]"
   ]
  },
  {
   "cell_type": "code",
   "execution_count": 28,
   "metadata": {
    "ExecuteTime": {
     "end_time": "2021-12-01T12:22:57.387757Z",
     "start_time": "2021-12-01T12:22:57.375762Z"
    }
   },
   "outputs": [
    {
     "data": {
      "text/plain": [
       "array(['谌龙'], dtype='<U10')"
      ]
     },
     "execution_count": 28,
     "metadata": {},
     "output_type": "execute_result"
    }
   ],
   "source": [
    "data[data['age']<20]['name']"
   ]
  },
  {
   "cell_type": "code",
   "execution_count": 29,
   "metadata": {
    "ExecuteTime": {
     "end_time": "2021-12-01T13:12:51.187592Z",
     "start_time": "2021-12-01T13:12:51.178600Z"
    }
   },
   "outputs": [
    {
     "data": {
      "text/plain": [
       "array([25, 26, 19])"
      ]
     },
     "execution_count": 29,
     "metadata": {},
     "output_type": "execute_result"
    }
   ],
   "source": [
    "data_rec = data.view(np.recarray)\n",
    "data_rec.age"
   ]
  },
  {
   "cell_type": "code",
   "execution_count": null,
   "metadata": {},
   "outputs": [],
   "source": []
  }
 ],
 "metadata": {
  "kernelspec": {
   "display_name": "Python 3",
   "language": "python",
   "name": "python3"
  },
  "language_info": {
   "codemirror_mode": {
    "name": "ipython",
    "version": 3
   },
   "file_extension": ".py",
   "mimetype": "text/x-python",
   "name": "python",
   "nbconvert_exporter": "python",
   "pygments_lexer": "ipython3",
   "version": "3.8.3"
  },
  "toc": {
   "base_numbering": 1,
   "nav_menu": {
    "height": "158px",
    "width": "307px"
   },
   "number_sections": true,
   "sideBar": true,
   "skip_h1_title": false,
   "title_cell": "Table of Contents",
   "title_sidebar": "Contents",
   "toc_cell": false,
   "toc_position": {
    "height": "calc(100% - 180px)",
    "left": "10px",
    "top": "150px",
    "width": "226.179px"
   },
   "toc_section_display": true,
   "toc_window_display": true
  }
 },
 "nbformat": 4,
 "nbformat_minor": 4
}
