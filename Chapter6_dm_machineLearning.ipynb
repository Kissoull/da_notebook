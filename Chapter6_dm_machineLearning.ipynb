{
 "cells": [
  {
   "cell_type": "markdown",
   "metadata": {},
   "source": [
    "# 数据挖掘 - 机器学习\n",
    "- 数据集：训练集（train set）、验证集（validation set）、测试集（test set）\n",
    "    - 训练集（**建模**）：用来训练和拟合数据\n",
    "        - tips：训练集数据量越大，训练结果越准确，训练集的增多应该以整个数据集的增多为前提，而不是增大训练集在整个数据集中的占比\n",
    "    - 验证集（**调参**）：经过训练集训练出多个模型后，使用验证集进行数据纠偏或比较预测\n",
    "    - 测试集（**评价**）：考察模型的泛化能力\n",
    "        - 泛化：对未知数据的预测\n",
    "        - 过拟合：训练集、验证集表现良好，但是测试集表现较差\n",
    "        - 交叉验证：测试集、训练集二八分（二八定律），丢弃了测试集\n",
    "        - K-fold 交叉验证：将数据分为 K 份，每份轮流作一遍测试集，其他作训练集\n"
   ]
  },
  {
   "cell_type": "code",
   "execution_count": 47,
   "metadata": {
    "ExecuteTime": {
     "end_time": "2021-11-26T09:20:50.372543Z",
     "start_time": "2021-11-26T09:20:50.359535Z"
    }
   },
   "outputs": [],
   "source": [
    "## 导包\n",
    "import numpy as np # 数值计算\n",
    "import pandas as pd # 数据分析"
   ]
  },
  {
   "cell_type": "code",
   "execution_count": 48,
   "metadata": {
    "ExecuteTime": {
     "end_time": "2021-11-26T09:20:51.440018Z",
     "start_time": "2021-11-26T09:20:51.428026Z"
    }
   },
   "outputs": [],
   "source": [
    "from sklearn.preprocessing import MinMaxScaler,StandardScaler # 归一化、标准化\n",
    "from sklearn.preprocessing import LabelEncoder,OneHotEncoder # 标签化、独热编码\n",
    "from sklearn.preprocessing import Normalizer # \n",
    "from sklearn.discriminant_analysis import LinearDiscriminantAnalysis # LDA 降维\n",
    "from sklearn.decomposition import PCA # PCA 降维"
   ]
  },
  {
   "cell_type": "code",
   "execution_count": 49,
   "metadata": {
    "ExecuteTime": {
     "end_time": "2021-11-26T09:20:52.801169Z",
     "start_time": "2021-11-26T09:20:52.742204Z"
    }
   },
   "outputs": [
    {
     "data": {
      "text/html": [
       "<div>\n",
       "<style scoped>\n",
       "    .dataframe tbody tr th:only-of-type {\n",
       "        vertical-align: middle;\n",
       "    }\n",
       "\n",
       "    .dataframe tbody tr th {\n",
       "        vertical-align: top;\n",
       "    }\n",
       "\n",
       "    .dataframe thead th {\n",
       "        text-align: right;\n",
       "    }\n",
       "</style>\n",
       "<table border=\"1\" class=\"dataframe\">\n",
       "  <thead>\n",
       "    <tr style=\"text-align: right;\">\n",
       "      <th></th>\n",
       "      <th>satisfaction_level</th>\n",
       "      <th>last_evaluation</th>\n",
       "      <th>number_project</th>\n",
       "      <th>average_monthly_hours</th>\n",
       "      <th>time_spend_company</th>\n",
       "      <th>Work_accident</th>\n",
       "      <th>left</th>\n",
       "      <th>promotion_last_5years</th>\n",
       "      <th>Department</th>\n",
       "      <th>salary</th>\n",
       "    </tr>\n",
       "  </thead>\n",
       "  <tbody>\n",
       "    <tr>\n",
       "      <th>0</th>\n",
       "      <td>0.38</td>\n",
       "      <td>0.53</td>\n",
       "      <td>2</td>\n",
       "      <td>157</td>\n",
       "      <td>3</td>\n",
       "      <td>0</td>\n",
       "      <td>1</td>\n",
       "      <td>0</td>\n",
       "      <td>sales</td>\n",
       "      <td>low</td>\n",
       "    </tr>\n",
       "    <tr>\n",
       "      <th>1</th>\n",
       "      <td>0.80</td>\n",
       "      <td>0.86</td>\n",
       "      <td>5</td>\n",
       "      <td>262</td>\n",
       "      <td>6</td>\n",
       "      <td>0</td>\n",
       "      <td>1</td>\n",
       "      <td>0</td>\n",
       "      <td>sales</td>\n",
       "      <td>medium</td>\n",
       "    </tr>\n",
       "    <tr>\n",
       "      <th>2</th>\n",
       "      <td>0.11</td>\n",
       "      <td>0.88</td>\n",
       "      <td>7</td>\n",
       "      <td>272</td>\n",
       "      <td>4</td>\n",
       "      <td>0</td>\n",
       "      <td>1</td>\n",
       "      <td>0</td>\n",
       "      <td>sales</td>\n",
       "      <td>medium</td>\n",
       "    </tr>\n",
       "  </tbody>\n",
       "</table>\n",
       "</div>"
      ],
      "text/plain": [
       "   satisfaction_level  last_evaluation  number_project  average_monthly_hours  \\\n",
       "0                0.38             0.53               2                    157   \n",
       "1                0.80             0.86               5                    262   \n",
       "2                0.11             0.88               7                    272   \n",
       "\n",
       "   time_spend_company  Work_accident  left  promotion_last_5years Department  \\\n",
       "0                   3              0     1                      0      sales   \n",
       "1                   6              0     1                      0      sales   \n",
       "2                   4              0     1                      0      sales   \n",
       "\n",
       "   salary  \n",
       "0     low  \n",
       "1  medium  \n",
       "2  medium  "
      ]
     },
     "execution_count": 49,
     "metadata": {},
     "output_type": "execute_result"
    }
   ],
   "source": [
    "## 查看数据集\n",
    "df = pd.read_csv(\".//datasets//HR_comma_sep.csv\")\n",
    "df.head(3)"
   ]
  },
  {
   "cell_type": "code",
   "execution_count": 50,
   "metadata": {
    "ExecuteTime": {
     "end_time": "2021-11-26T09:20:53.910548Z",
     "start_time": "2021-11-26T09:20:53.875566Z"
    }
   },
   "outputs": [],
   "source": [
    "## \n",
    "# @arg\n",
    "# sl: statisfaction_level --- Flase: MinMaxScaler; True: StandardScaler\n",
    "# le: last_evaluation --- Flase: MinMaxScaler; True: StandardScaler\n",
    "# npr: number_project --- Flase: MinMaxScaler; True: StandardScaler\n",
    "# amh: average_monthly_hours --- Flase: MinMaxScaler; True: StandardScaler\n",
    "# tsc: time_spend_company --- Flase: MinMaxScaler; True: StandardScaler\n",
    "# wa: Work_accident --- Flase: MinMaxScaler; True: StandardScaler\n",
    "# pl5: promotion_last_5years --- Flase: MinMaxScaler; True: StandardScaler\n",
    "# dp: Department --- False: LabelEncoding; True: OneHotEncoding\n",
    "# slr: salary --- False: LabelEncoding; True: OneHotEncoding\n",
    "# lower_d: 是否降维 --- Default: False\n",
    "# ld_n: 保留的维数 --- Default: 1\n",
    "def hr_preprocessing(sl=False, le=False, npr=False, amh=False, tsc=False, wa=False, pl5=False, dp=False, slr=False, lower_d=False, ld_n=1):\n",
    "    ## 0. 加载数据\n",
    "    df = pd.read_csv(\".//datasets//HR_comma_sep.csv\")\n",
    "    \n",
    "    ## 1. 清洗数据（去除异常值、抽样，这里数据量较小不进行抽样了）\n",
    "    df = df.dropna(subset=[\"satisfaction_level\",\"last_evaluation\"])\n",
    "    df = df[df[\"satisfaction_level\"]<=1][df[\"salary\"]!=\"nme\"]\n",
    "    \n",
    "    ## 2. 得到标注\n",
    "    label = df[\"left\"]\n",
    "    df = df.drop(\"left\", axis=1)\n",
    "    \n",
    "    ## 3. 特征选择\n",
    "    \n",
    "    \n",
    "    ## 4. 特征处理\n",
    "    # 对 \"satisfaction_level\", \"last_evaluation\", \"number_project\",\n",
    "    # \"average_monthly_hours\", \"time_spend_company\", \"Work_accident\",\n",
    "    # \"promotion_last_5years\" 进行归一化和标准化\n",
    "    scaler_lst = [sl, le, npr, amh, tsc, wa, pl5]\n",
    "    column_lst = [\"satisfaction_level\", \"last_evaluation\", \"number_project\", \n",
    "                  \"average_monthly_hours\", \"time_spend_company\", \"Work_accident\", \n",
    "                  \"promotion_last_5years\"]\n",
    "    for i in range(len(scaler_lst)):\n",
    "        if not scaler_lst[i]:\n",
    "            df[column_lst[i]] =\\\n",
    "            MinMaxScaler().fit_transform(df[column_lst[i]].values.reshape(-1,1)).reshape(1,-1)[0]\n",
    "        else:\n",
    "            df[column_lst[i]] =\\\n",
    "            StandardScaler().fit_transform(df[column_lst[i]].values.reshape(-1,1)).reshape(1,-1)[0]\n",
    "    # 对 \"Department\", \"salary\" 进行标签化和归一化\n",
    "    scaler_lst = [dp, slr]\n",
    "    column_lst = [\"Department\", \"salary\"]\n",
    "    for i in range(len(scaler_lst)):\n",
    "        if not scaler_lst[i]:\n",
    "            if column_lst[i] == \"salary\":\n",
    "                df[column_lst[i]] = [map_salary(s) for s in df[\"salary\"].values]\n",
    "            else:\n",
    "                df[column_lst[i]] = LabelEncoder().fit_transform(df[column_lst[i]])\n",
    "            df[column_lst[i]] = MinMaxScaler().fit_transform(df[column_lst[i]].values.reshape(-1,1)).reshape(1,-1)[0]\n",
    "        else:\n",
    "            df = pd.get_dummies(df, columns=[column_lst[i]])\n",
    "    # 降维\n",
    "    if lower_d:\n",
    "        return PCA(n_components=ld_n).fit_transform(df.values),label\n",
    "#         return LinearDiscriminantAnalysis(n_components=ld_n)\n",
    "    \n",
    "    return df,label\n",
    "\n"
   ]
  },
  {
   "cell_type": "code",
   "execution_count": 51,
   "metadata": {
    "ExecuteTime": {
     "end_time": "2021-11-26T09:20:55.083216Z",
     "start_time": "2021-11-26T09:20:55.074221Z"
    }
   },
   "outputs": [],
   "source": [
    "##\n",
    "d = dict([(\"low\",0), (\"medium\",1), (\"high\",2)])\n",
    "def map_salary(s):\n",
    "    return d.get(s,0)\n"
   ]
  },
  {
   "cell_type": "code",
   "execution_count": 8,
   "metadata": {
    "ExecuteTime": {
     "end_time": "2021-11-23T07:59:14.832653Z",
     "start_time": "2021-11-23T07:59:14.817027Z"
    }
   },
   "outputs": [],
   "source": [
    "## 建模分析\n",
    "def hr_modeling(features, label):\n",
    "    from sklearn.model_selection import train_test_split\n",
    "    f_v = features.values # 特征\n",
    "    l_v = label.values # 标注\n",
    "    X_tt,X_validation,Y_tt,Y_validation = train_test_split(f_v, l_v, test_size=0.2)\n",
    "    X_train,X_test,Y_train,Y_test = train_test_split(X_tt, Y_tt, test_size=0.25)\n",
    "    print(len(X_train), len(X_validation), len(X_test))\n"
   ]
  },
  {
   "cell_type": "code",
   "execution_count": 9,
   "metadata": {
    "ExecuteTime": {
     "end_time": "2021-11-23T07:59:15.524476Z",
     "start_time": "2021-11-23T07:59:15.423550Z"
    }
   },
   "outputs": [
    {
     "name": "stdout",
     "output_type": "stream",
     "text": [
      "8999 3000 3000\n"
     ]
    }
   ],
   "source": [
    "## \n",
    "def main():\n",
    "#     print(hr_preprocessing(sl=True, le=True, lower_d=False, ld_n=3))\n",
    "    features,label = hr_preprocessing()\n",
    "    hr_modeling(features, label)\n",
    "    \n",
    "if __name__ == \"__main__\":\n",
    "    main()\n",
    "    \n",
    "    "
   ]
  },
  {
   "cell_type": "markdown",
   "metadata": {},
   "source": [
    "## 分类模型\n",
    "> KNN、朴素贝叶斯、决策树、支持向量机、集成方法、Logistic 映射、人工神经网络\n",
    "\n",
    "### KNN（K-Nearest Neighbors）\n",
    "- 距离：\n",
    "    - 欧氏距离：$$d_{12} = \\sqrt{\\sum^{n}_{k=1}(x_{1k}-x_{2k})^2}$$\n",
    "    - 曼哈顿距离：$$d_{12} = \\sum^{n}_{k=1}|x_{1k}-x_{2k}|$$\n",
    "    - 闵可夫斯基距离：$$d_{12} = ^p\\sqrt{\\sum^{n}_{k=1}|x_{1k}-x_{2k}|}$$\n",
    "\n",
    "<img style=\"float: center;\" src=\"./figures/距离.png\" width=\"35%\">\n",
    "<center>Fig. 距离</center>\n",
    "\n"
   ]
  },
  {
   "cell_type": "markdown",
   "metadata": {},
   "source": [
    "- KD-Tree：\n",
    "\n",
    "<img style=\"float: left;\" src=\"./figures/KD-Tree1.png\" width=\"35%\">\n",
    "<img style=\"float: right;\" src=\"./figures/KD-Tree2.png\" width=\"50%\">\n"
   ]
  },
  {
   "cell_type": "markdown",
   "metadata": {},
   "source": [
    "<center>Fig. KD-Tree</center>"
   ]
  },
  {
   "cell_type": "markdown",
   "metadata": {},
   "source": [
    " - KNN算法思想：\n",
    " \n",
    "<img style=\"float: center;\" src=\"./figures/KNN算法思想.png\" width=\"35%\">\n",
    "<center>Fig. KNN算法思想</center>\n",
    "    "
   ]
  },
  {
   "cell_type": "code",
   "execution_count": 10,
   "metadata": {
    "ExecuteTime": {
     "end_time": "2021-11-23T07:59:19.338994Z",
     "start_time": "2021-11-23T07:59:19.307674Z"
    }
   },
   "outputs": [],
   "source": [
    "## 建模分析\n",
    "def hr_modeling(features, label):\n",
    "    from sklearn.model_selection import train_test_split\n",
    "    f_v = features.values # 特征\n",
    "    l_v = label.values # 标注\n",
    "    # 测试集：X_tt, Y_tt\n",
    "    # 验证集：X_validation, Y_validation\n",
    "    X_tt,X_validation,Y_tt,Y_validation = train_test_split(f_v, l_v, test_size=0.2)\n",
    "    X_train,X_test,Y_train,Y_test = train_test_split(X_tt, Y_tt, test_size=0.25)\n",
    "    print(len(X_train), len(X_validation), len(X_test))\n",
    "    \n",
    "    ## KNN\n",
    "    from sklearn.neighbors import NearestNeighbors,KNeighborsClassifier # \n",
    "    knn_clf = KNeighborsClassifier(n_neighbors=3) # 调参\n",
    "    knn_clf_n5 = KNeighborsClassifier(n_neighbors=5)\n",
    "    knn_clf.fit(X_train, Y_train) # 拟合\n",
    "    knn_clf_n5.fit(X_train, Y_train) # 拟合\n",
    "    Y_pred = knn_clf.predict(X_validation) # 模型验证\n",
    "    Y_pred_n5 = knn_clf_n5.predict(X_validation) # 模型验证\n",
    "    from sklearn.metrics import accuracy_score,recall_score,f1_score # 模型评价\n",
    "    print(\"训练集（Train Set）：\")\n",
    "    Y_pred = knn_clf.predict(X_train)\n",
    "    print(\"ACC:\", accuracy_score(Y_train, Y_pred)) # 准确率\n",
    "    print(\"REC:\", recall_score(Y_train, Y_pred)) # 召回率\n",
    "    print(\"F-Score:\", f1_score(Y_train, Y_pred)) # 综合反应\n",
    "\n",
    "    print(\"验证集(Validation Set)：\")\n",
    "    Y_pred = knn_clf.predict(X_validation)\n",
    "    print(\" ++++ n = 3 ++++ \")\n",
    "    print(\"ACC:\", accuracy_score(Y_validation, Y_pred)) # 准确率\n",
    "    print(\"REC:\", recall_score(Y_validation, Y_pred)) # 召回率\n",
    "    print(\"F-Score:\", f1_score(Y_validation, Y_pred)) # 综合反应\n",
    "    print(\" ++++ n = 5 ++++ \")\n",
    "    print(\"ACC:\", accuracy_score(Y_validation, Y_pred_n5)) # 准确率\n",
    "    print(\"REC:\", recall_score(Y_validation, Y_pred_n5)) # 召回率\n",
    "    print(\"F-Score:\", f1_score(Y_validation, Y_pred_n5)) # 综合反应\n",
    "    \n",
    "    print(\"测试集（Test Set）：\")\n",
    "    Y_pred = knn_clf.predict(X_test)\n",
    "    print(\"ACC:\", accuracy_score(Y_test, Y_pred)) # 准确率\n",
    "    print(\"REC:\", recall_score(Y_test, Y_pred)) # 召回率\n",
    "    print(\"F-Score:\", f1_score(Y_test, Y_pred)) # 综合反应\n",
    "    \n",
    "    # 模型存取\n",
    "#     from sklearn.externals import joblib # 旧版本 joblib 包引用方法（0.20.3）\n",
    "    import joblib # 0.20.3 之后版本的 joblib 引用方法\n",
    "    joblib.dump(knn_clf, \"knn_clf\") # 保存模型\n",
    "    knn_clf = joblib.load(\"knn_clf\") # 使用模型\n",
    "    print(\"Test2:\")\n",
    "    Y_pred = knn_clf.predict(X_test)\n",
    "    print(\"ACC:\", accuracy_score(Y_test, Y_pred)) # 准确率\n",
    "    print(\"REC:\", recall_score(Y_test, Y_pred)) # 召回率\n",
    "    print(\"F-Score:\", f1_score(Y_test, Y_pred)) # 综合反应\n",
    "    \n"
   ]
  },
  {
   "cell_type": "code",
   "execution_count": 11,
   "metadata": {
    "ExecuteTime": {
     "end_time": "2021-11-23T07:59:22.972484Z",
     "start_time": "2021-11-23T07:59:20.063264Z"
    }
   },
   "outputs": [
    {
     "name": "stdout",
     "output_type": "stream",
     "text": [
      "8999 3000 3000\n",
      "训练集（Train Set）：\n",
      "ACC: 0.9757750861206801\n",
      "REC: 0.9554937413073713\n",
      "F-Score: 0.9497695852534563\n",
      "验证集(Validation Set)：\n",
      " ++++ n = 3 ++++ \n",
      "ACC: 0.9593333333333334\n",
      "REC: 0.9271255060728745\n",
      "F-Score: 0.9184491978609625\n",
      " ++++ n = 5 ++++ \n",
      "ACC: 0.9496666666666667\n",
      "REC: 0.9095816464237517\n",
      "F-Score: 0.8992661774516345\n",
      "测试集（Test Set）：\n",
      "ACC: 0.951\n",
      "REC: 0.9034175334323923\n",
      "F-Score: 0.8921496698459281\n",
      "Test2:\n",
      "ACC: 0.951\n",
      "REC: 0.9034175334323923\n",
      "F-Score: 0.8921496698459281\n"
     ]
    }
   ],
   "source": [
    "## \n",
    "def main():\n",
    "#     print(hr_preprocessing(sl=True, le=True, lower_d=False, ld_n=3))\n",
    "    features,label = hr_preprocessing()\n",
    "    hr_modeling(features, label)\n",
    "    \n",
    "if __name__ == \"__main__\":\n",
    "    main()\n",
    "    \n"
   ]
  },
  {
   "cell_type": "markdown",
   "metadata": {},
   "source": [
    "> n = 3 时模型要优于 n = 5 时"
   ]
  },
  {
   "cell_type": "code",
   "execution_count": 66,
   "metadata": {
    "ExecuteTime": {
     "end_time": "2021-11-23T07:14:27.020754Z",
     "start_time": "2021-11-23T07:14:23.131505Z"
    }
   },
   "outputs": [
    {
     "name": "stdout",
     "output_type": "stream",
     "text": [
      "8999 3000 3000\n",
      "训练集（Train Set）：\n",
      "ACC: 0.9781086787420824\n",
      "REC: 0.9652711703139867\n",
      "F-Score: 0.953701527614571\n",
      "验证集(Validation Set)：\n",
      " ++++ n = 3 ++++ \n",
      "ACC: 0.969\n",
      "REC: 0.9481792717086834\n",
      "F-Score: 0.9357290946786454\n",
      " ++++ n = 5 ++++ \n",
      "ACC: 0.9696666666666667\n",
      "REC: 0.9285714285714286\n",
      "F-Score: 0.9357798165137615\n",
      "测试集（Test Set）：\n",
      "ACC: 0.9623333333333334\n",
      "REC: 0.9139072847682119\n",
      "F-Score: 0.9243134628265238\n",
      "Test2:\n",
      "ACC: 0.9623333333333334\n",
      "REC: 0.9139072847682119\n",
      "F-Score: 0.9243134628265238\n"
     ]
    }
   ],
   "source": [
    "## \n",
    "def main():\n",
    "#     print(hr_preprocessing(sl=True, le=True, lower_d=False, ld_n=3))\n",
    "    features,label = hr_preprocessing(sl=True, le=True, npr=True, amh=True, tsc=True, wa=True, pl5=True, dp=False, slr=False)\n",
    "    hr_modeling(features, label)\n",
    "    \n",
    "if __name__ == \"__main__\":\n",
    "    main()\n",
    "    \n"
   ]
  },
  {
   "cell_type": "code",
   "execution_count": 69,
   "metadata": {
    "ExecuteTime": {
     "end_time": "2021-11-23T07:15:02.302269Z",
     "start_time": "2021-11-23T07:14:54.060326Z"
    }
   },
   "outputs": [
    {
     "name": "stdout",
     "output_type": "stream",
     "text": [
      "8999 3000 3000\n",
      "训练集（Train Set）：\n",
      "ACC: 0.974997221913546\n",
      "REC: 0.9650613786591123\n",
      "F-Score: 0.9478321354045909\n",
      "验证集(Validation Set)：\n",
      " ++++ n = 3 ++++ \n",
      "ACC: 0.951\n",
      "REC: 0.9239280774550485\n",
      "F-Score: 0.9008766014834794\n",
      " ++++ n = 5 ++++ \n",
      "ACC: 0.951\n",
      "REC: 0.9156293222683264\n",
      "F-Score: 0.9000679809653296\n",
      "测试集（Test Set）：\n",
      "ACC: 0.951\n",
      "REC: 0.9356164383561644\n",
      "F-Score: 0.9028420356906808\n",
      "Test2:\n",
      "ACC: 0.951\n",
      "REC: 0.9356164383561644\n",
      "F-Score: 0.9028420356906808\n"
     ]
    }
   ],
   "source": [
    "## \n",
    "def main():\n",
    "#     print(hr_preprocessing(sl=True, le=True, lower_d=False, ld_n=3))\n",
    "    features,label = hr_preprocessing(sl=True, le=True, npr=True, amh=True, tsc=True, wa=True, pl5=True, dp=True, slr=False)\n",
    "    hr_modeling(features, label)\n",
    "    \n",
    "if __name__ == \"__main__\":\n",
    "    main()\n",
    "    \n"
   ]
  },
  {
   "cell_type": "markdown",
   "metadata": {},
   "source": [
    "### 朴素贝叶斯（Naive Bayes ）\n",
    "- 概率：$P(A)$\n",
    "- 条件概率：$P(A|B)$\n",
    "- 联合概率：$P(A,B)$\n",
    "- 三种概率之间的关系：$$P(A,B) = P(A|B)P(B) = P(B|A)P(A)$$\n",
    "- 全概率公式：$$P(B) = \\sum P(A_i)P(B|A_i)$$\n",
    "- 贝叶斯公式：\n",
    "$$P(B_i|A) = \\frac{P(B_i)P(A|B_i)}{\\sum P(B_j)P(A|B_j)}$$\n",
    "$$\\Rightarrow P(B|A) = \\frac{P(A|B)P(B)}{P(A)}$$\n",
    "\n",
    "- 拉普拉斯平滑：\n",
    "<img style=\"float: center;\" src=\"./figures/拉普拉斯平滑.png\" width=\"50%\">\n",
    "<center>Fig. 拉普拉斯平滑</center>\n",
    "\n",
    "- 伯努利朴素贝叶斯（Bernoulli Naive Bayes）：多用于二值（0-1），离散值，连续值二值化\n",
    "- 高斯朴素贝叶斯（Gaussian Naive Bayes）：假设特征满足高斯分布\n"
   ]
  },
  {
   "cell_type": "code",
   "execution_count": 70,
   "metadata": {
    "ExecuteTime": {
     "end_time": "2021-11-23T07:15:31.362296Z",
     "start_time": "2021-11-23T07:15:31.341309Z"
    }
   },
   "outputs": [],
   "source": [
    "## 建模分析\n",
    "def hr_modeling(features, label):\n",
    "    from sklearn.model_selection import train_test_split\n",
    "    f_v = features.values # 特征\n",
    "    l_v = label.values # 标注\n",
    "    # 测试集：X_tt, Y_tt\n",
    "    # 验证集：X_validation, Y_validation\n",
    "    X_tt,X_validation,Y_tt,Y_validation = train_test_split(f_v, l_v, test_size=0.2)\n",
    "    X_train,X_test,Y_train,Y_test = train_test_split(X_tt, Y_tt, test_size=0.25)\n",
    "    print(len(X_train), len(X_validation), len(X_test))\n",
    "    \n",
    "    ## 模型构建\n",
    "    from sklearn.metrics import accuracy_score,recall_score,f1_score # 模型评价\n",
    "    from sklearn.neighbors import NearestNeighbors,KNeighborsClassifier # KNN\n",
    "    from sklearn.naive_bayes import GaussianNB,BernoulliNB # 高斯朴素贝叶斯、伯努利朴素贝叶斯\n",
    "    models = []\n",
    "    \n",
    "    models.append((\"KNN\", KNeighborsClassifier(n_neighbors=3))) # KNN\n",
    "    models.append((\"GaussianNB\", GaussianNB())) # Gaussian Naive Bayes\n",
    "    models.append((\"BernoulliNB\", BernoulliNB())) # BernoulliNB Naive Bayes\n",
    "    for clf_name,clf in models:\n",
    "        print(\"++++\", clf_name, \"++++\")\n",
    "        clf.fit(X_train, Y_train)\n",
    "        xy_lst = [(X_train,Y_train), (X_validation,Y_validation), (X_test,Y_test)]\n",
    "        set_name = [\"Train:\", \"Validation:\", \"Test:\"]\n",
    "        for i in range(len(xy_lst)):\n",
    "            X_part = xy_lst[i][0]\n",
    "            Y_part = xy_lst[i][1]\n",
    "            Y_pred = clf.predict(X_part)\n",
    "#             print(i)\n",
    "            print(set_name[i])\n",
    "            print(clf_name, \"- ACC:\", accuracy_score(Y_part, Y_pred))\n",
    "            print(clf_name, \"- REC:\", recall_score(Y_part, Y_pred))\n",
    "            print(clf_name, \"- F1:\", f1_score(Y_part, Y_pred))\n",
    "    \n",
    "    ## 朴素贝叶斯\n",
    "    \n",
    "    \n",
    "    # 模型存取\n",
    "#     from sklearn.externals import joblib # 旧版本 joblib 包引用方法（0.20.3）\n",
    "#     import joblib # 0.20.3 之后版本的 joblib 引用方法\n",
    "#     joblib.dump(knn_clf, \"knn_clf\") # 保存模型\n",
    "#     knn_clf = joblib.load(\"knn_clf\") # 使用模型\n",
    "#     print(\"Test2:\")\n",
    "#     Y_pred = knn_clf.predict(X_test)\n",
    "#     print(\"ACC:\", accuracy_score(Y_test, Y_pred)) # 准确率\n",
    "#     print(\"REC:\", recall_score(Y_test, Y_pred)) # 召回率\n",
    "#     print(\"F-Score:\", f1_score(Y_test, Y_pred)) # 综合反应\n",
    "    \n"
   ]
  },
  {
   "cell_type": "code",
   "execution_count": 71,
   "metadata": {
    "ExecuteTime": {
     "end_time": "2021-11-23T07:15:40.774468Z",
     "start_time": "2021-11-23T07:15:38.226627Z"
    }
   },
   "outputs": [
    {
     "name": "stdout",
     "output_type": "stream",
     "text": [
      "8999 3000 3000\n",
      "++++ KNN ++++\n",
      "Train:\n",
      "KNN - ACC: 0.9743304811645739\n",
      "KNN - REC: 0.9627039627039627\n",
      "KNN - F1: 0.9470304975922954\n",
      "Validation:\n",
      "KNN - ACC: 0.9586666666666667\n",
      "KNN - REC: 0.9342105263157895\n",
      "KNN - F1: 0.9115549215406562\n",
      "Test:\n",
      "KNN - ACC: 0.951\n",
      "KNN - REC: 0.9137466307277629\n",
      "KNN - F1: 0.9021956087824351\n",
      "++++ GaussianNB ++++\n",
      "Train:\n",
      "GaussianNB - ACC: 0.8059784420491166\n",
      "GaussianNB - REC: 0.751981351981352\n",
      "GaussianNB - F1: 0.6488334674175382\n",
      "Validation:\n",
      "GaussianNB - ACC: 0.8156666666666667\n",
      "GaussianNB - REC: 0.7997076023391813\n",
      "GaussianNB - F1: 0.6642380085003037\n",
      "Test:\n",
      "GaussianNB - ACC: 0.795\n",
      "GaussianNB - REC: 0.7439353099730458\n",
      "GaussianNB - F1: 0.6422338568935428\n",
      "++++ BernoulliNB ++++\n",
      "Train:\n",
      "BernoulliNB - ACC: 0.8384264918324258\n",
      "BernoulliNB - REC: 0.45268065268065266\n",
      "BernoulliNB - F1: 0.571849234393404\n",
      "Validation:\n",
      "BernoulliNB - ACC: 0.8616666666666667\n",
      "BernoulliNB - REC: 0.5116959064327485\n",
      "BernoulliNB - F1: 0.6278026905829597\n",
      "Test:\n",
      "BernoulliNB - ACC: 0.8313333333333334\n",
      "BernoulliNB - REC: 0.4743935309973046\n",
      "BernoulliNB - F1: 0.5818181818181818\n"
     ]
    }
   ],
   "source": [
    "## \n",
    "def main():\n",
    "#     print(hr_preprocessing(sl=True, le=True, lower_d=False, ld_n=3))\n",
    "    features,label = hr_preprocessing()\n",
    "    hr_modeling(features, label)\n",
    "    \n",
    "if __name__ == \"__main__\":\n",
    "    main()\n",
    "    \n"
   ]
  },
  {
   "cell_type": "markdown",
   "metadata": {},
   "source": [
    "- 生成模型 & 判别模型\n",
    "    - 生成模型：通过求输入与输出的联合概率分布，再求解类别归类的概率\n",
    "    $$P(B|A) = \\frac{P(A|B)P(B)}{P(A)}$$\n",
    "    - 判别模型：不通过联合概率分布，直接可以获得输出对应最大分类的概率\n"
   ]
  },
  {
   "cell_type": "markdown",
   "metadata": {},
   "source": [
    "### 决策树（Decision Tree）\n",
    "- 决策切分\n",
    "    - 信息增益（Gain） - ID3:\n",
    "    $$H(X) = \\sum p_i log(p_i)$$\n",
    "    $$I(X,Y) = H(Y) - H(Y|X) = H(X) - H(X|Y)$$\n",
    "    - 信息增益率（GainRatio） - C4.5:\n",
    "    $$GainRatio(X->Y) = \\frac{I(X,Y)}{H(Y)}$$\n",
    "    - Gini 系数 - CART:\n",
    "    $$Gini(D) = 1-\\sum(\\frac{C_k}{D})^2$$\n",
    "- Tips:\n",
    "    - 连续值切分：计算每个分隔\n",
    "    - 规则用尽：投票\n",
    "    - 过拟合：剪枝\n",
    "        - 前剪枝：构造决策树前，规定了最大深度\n",
    "        - 后剪枝：先构造决策树，再对样本枝比较悬殊的枝叶进行修剪\n",
    "\n"
   ]
  },
  {
   "cell_type": "code",
   "execution_count": 72,
   "metadata": {
    "ExecuteTime": {
     "end_time": "2021-11-23T07:16:36.251841Z",
     "start_time": "2021-11-23T07:16:36.244847Z"
    }
   },
   "outputs": [],
   "source": [
    "## 导包\n",
    "import numpy as np # 数值计算\n",
    "import pandas as pd # 数据分析"
   ]
  },
  {
   "cell_type": "code",
   "execution_count": 73,
   "metadata": {
    "ExecuteTime": {
     "end_time": "2021-11-23T07:16:41.704791Z",
     "start_time": "2021-11-23T07:16:41.698798Z"
    }
   },
   "outputs": [],
   "source": [
    "from sklearn.preprocessing import MinMaxScaler,StandardScaler # 归一化、标准化\n",
    "from sklearn.preprocessing import LabelEncoder,OneHotEncoder # 标签化、独热编码\n",
    "from sklearn.preprocessing import Normalizer # \n",
    "from sklearn.discriminant_analysis import LinearDiscriminantAnalysis # LDA 降维\n",
    "from sklearn.decomposition import PCA # PCA 降维"
   ]
  },
  {
   "cell_type": "code",
   "execution_count": 74,
   "metadata": {
    "ExecuteTime": {
     "end_time": "2021-11-23T07:16:44.374685Z",
     "start_time": "2021-11-23T07:16:44.338682Z"
    },
    "collapsed": true
   },
   "outputs": [
    {
     "ename": "ModuleNotFoundError",
     "evalue": "No module named 'pydotplus'",
     "output_type": "error",
     "traceback": [
      "\u001b[1;31m---------------------------------------------------------------------------\u001b[0m",
      "\u001b[1;31mModuleNotFoundError\u001b[0m                       Traceback (most recent call last)",
      "\u001b[1;32m<ipython-input-74-7be48d3debe1>\u001b[0m in \u001b[0;36m<module>\u001b[1;34m\u001b[0m\n\u001b[0;32m      1\u001b[0m \u001b[1;32mimport\u001b[0m \u001b[0mos\u001b[0m\u001b[1;33m\u001b[0m\u001b[1;33m\u001b[0m\u001b[0m\n\u001b[1;32m----> 2\u001b[1;33m \u001b[1;32mimport\u001b[0m \u001b[0mpydotplus\u001b[0m\u001b[1;33m\u001b[0m\u001b[1;33m\u001b[0m\u001b[0m\n\u001b[0m\u001b[0;32m      3\u001b[0m \u001b[0mos\u001b[0m\u001b[1;33m.\u001b[0m\u001b[0menviron\u001b[0m\u001b[1;33m[\u001b[0m\u001b[1;34m\"PATH\"\u001b[0m\u001b[1;33m]\u001b[0m \u001b[1;33m+=\u001b[0m \u001b[0mos\u001b[0m\u001b[1;33m.\u001b[0m\u001b[0mpathsep\u001b[0m \u001b[1;33m+\u001b[0m \u001b[1;34m\"C:\\\\Graphviz\\\\bin\"\u001b[0m \u001b[1;31m# 绘制决策树\u001b[0m\u001b[1;33m\u001b[0m\u001b[1;33m\u001b[0m\u001b[0m\n",
      "\u001b[1;31mModuleNotFoundError\u001b[0m: No module named 'pydotplus'"
     ]
    }
   ],
   "source": [
    "import os\n",
    "import pydotplus\n",
    "os.environ[\"PATH\"] += os.pathsep + \"C:\\\\Graphviz\\\\bin\" # 绘制决策树"
   ]
  },
  {
   "cell_type": "markdown",
   "metadata": {},
   "source": [
    "```py\n",
    "# 绘制决策树\n",
    "# 方法一\n",
    "dot_data = export_graphviz(clf, out_file=None, \n",
    "                           feature_names=f_names, # 特征名\n",
    "                           class_names=[\"NL\",\"L\"], # 标签名\n",
    "                           filled=True, rounded=True, special_characters=True) # 样式设置\n",
    "graph = pydotplus.graph_from_dot_data(dot_data) # 绘制决策树\n",
    "graph.write_pdf(\"dt_tree.pdf\") # 输出为 pdf\n",
    "\n",
    "# 方法二\n",
    "from sklearn.externals.six import StringIO\n",
    "dot_data = StringIO()\n",
    "export_graphviz(clf, out_file=None, \n",
    "                feature_names=f_names, # 特征名\n",
    "                class_names=[\"NL\",\"L\"], # 标签名\n",
    "                filled=True, rounded=True, special_characters=True) # 样式设置\n",
    "graph = pydotplus.graph_from_dot_data(dot_data.getvalue()) # 绘制决策树\n",
    "graph.write_pdf(\"dt_tree.pdf\") # 输出为 pdf\n",
    "```\n"
   ]
  },
  {
   "cell_type": "code",
   "execution_count": null,
   "metadata": {},
   "outputs": [],
   "source": [
    "## 建模分析\n",
    "def hr_modeling(features, label):\n",
    "    from sklearn.model_selection import train_test_split\n",
    "    f_v = features.values # 特征值\n",
    "    f_names = features.columns.values # 特征名\n",
    "    l_v = label.values # 标注\n",
    "    # 测试集：X_tt, Y_tt\n",
    "    # 验证集：X_validation, Y_validation\n",
    "    X_tt,X_validation,Y_tt,Y_validation = train_test_split(f_v, l_v, test_size=0.2)\n",
    "    X_train,X_test,Y_train,Y_test = train_test_split(X_tt, Y_tt, test_size=0.25)\n",
    "    print(len(X_train), len(X_validation), len(X_test))\n",
    "    \n",
    "    ## 模型构建\n",
    "    from sklearn.metrics import accuracy_score,recall_score,f1_score # 模型评价\n",
    "    from sklearn.neighbors import NearestNeighbors,KNeighborsClassifier # KNN\n",
    "    from sklearn.naive_bayes import GaussianNB,BernoulliNB # 高斯朴素贝叶斯、伯努利朴素贝叶斯\n",
    "    from sklearn.tree import DecisionTreeClassifier # 决策树\n",
    "    from sklearn.externals.six import StringIO\n",
    "    models = [] # 初始化存放模型的元组\n",
    "    \n",
    "#     models.append((\"KNN\", KNeighborsClassifier(n_neighbors=3))) # KNN\n",
    "#     models.append((\"GaussianNB\", GaussianNB())) # Gaussian Naive Bayes\n",
    "#     models.append((\"BernoulliNB\", BernoulliNB())) # BernoulliNB Naive Bayes\n",
    "    models.append((\"DecisionTreeGini\", DecisionTreeClassifier())) # 决策树：Gini 系数\n",
    "    models.append((\"DecisionTreeEntropy\", DecisionTreeClassifier(criterion=\"entropy\"))) # 决策树：信息熵\n",
    "    for clf_name,clf in models:\n",
    "        print(\"++++\", clf_name, \"++++\")\n",
    "        clf.fit(X_train, Y_train)\n",
    "        xy_lst = [(X_train,Y_train), (X_validation,Y_validation), (X_test,Y_test)]\n",
    "        set_name = [\"Train:\", \"Validation:\", \"Test:\"]\n",
    "        for i in range(len(xy_lst)):\n",
    "            X_part = xy_lst[i][0]\n",
    "            Y_part = xy_lst[i][1]\n",
    "            Y_pred = clf.predict(X_part)\n",
    "#             print(i)\n",
    "            print(set_name[i])\n",
    "            print(clf_name, \"- ACC:\", accuracy_score(Y_part, Y_pred))\n",
    "            print(clf_name, \"- REC:\", recall_score(Y_part, Y_pred))\n",
    "            print(clf_name, \"- F1:\", f1_score(Y_part, Y_pred))\n",
    "            # 绘制决策树\n",
    "            dot_data = export_graphviz(clf, out_file=None, \n",
    "                                       feature_names=f_names, # 特征名\n",
    "                                       class_names=[\"NL\",\"L\"], # 标签名\n",
    "                                       filled=True, rounded=True, special_characters=True) # 样式设置\n",
    "            graph = pydotplus.graph_from_dot_data(dot_data) # 绘制决策树\n",
    "            graph.write_pdf(\"dt_tree.pdf\") # 输出为 pdf\n",
    "    \n",
    "    ## 朴素贝叶斯\n",
    "    \n",
    "    \n",
    "    # 模型存取\n",
    "#     from sklearn.externals import joblib # 旧版本 joblib 包引用方法（0.20.3）\n",
    "#     import joblib # 0.20.3 之后版本的 joblib 引用方法\n",
    "#     joblib.dump(knn_clf, \"knn_clf\") # 保存模型\n",
    "#     knn_clf = joblib.load(\"knn_clf\") # 使用模型\n",
    "#     print(\"Test2:\")\n",
    "#     Y_pred = knn_clf.predict(X_test)\n",
    "#     print(\"ACC:\", accuracy_score(Y_test, Y_pred)) # 准确率\n",
    "#     print(\"REC:\", recall_score(Y_test, Y_pred)) # 召回率\n",
    "#     print(\"F-Score:\", f1_score(Y_test, Y_pred)) # 综合反应\n",
    "    \n"
   ]
  },
  {
   "cell_type": "code",
   "execution_count": null,
   "metadata": {},
   "outputs": [],
   "source": [
    "## \n",
    "def main():\n",
    "#     print(hr_preprocessing(sl=True, le=True, lower_d=False, ld_n=3))\n",
    "    features,label = hr_preprocessing()\n",
    "    hr_modeling(features, label)\n",
    "    \n",
    "if __name__ == \"__main__\":\n",
    "    main()\n",
    "    \n"
   ]
  },
  {
   "cell_type": "markdown",
   "metadata": {
    "ExecuteTime": {
     "end_time": "2021-11-23T07:17:58.301434Z",
     "start_time": "2021-11-23T07:17:58.274452Z"
    }
   },
   "source": [
    "### 支持向量机（SVM, Support Vector Machine）\n",
    "- $\\omega^T = [\\omega_0,\\omega_1,\\omega_2,\\dots,\\omega_n],\\,\\,x^T = [x_0,x_1,x_2,\\dots,x_n]$\n",
    "- 高维面：$\\omega^T x+b = 0$\n",
    "- 分界面：\n",
    "$$\\omega^{T}x_{p}+b\\geq\\varepsilon,\\,\\,\\omega^{T}x_{n}+b\\leq -\\varepsilon$$\n",
    "$$\\omega^{T}x_{p}+b\\geq 1,\\,\\,\\omega^{T}x_{n}+b\\leq -1$$\n",
    "$$y_i (\\omega^{T}x_{i}+b)\\geq 1$$\n",
    "- SVM原理：\n",
    "$$d = |\\frac{Ax_0 +By_0 +Cz_0 +D}{\\sqrt{A^2 +B^2 +C^2}}|$$\n",
    "$$max \\frac{2}{||\\omega^{2}||}\\,\\,\\,\\,min \\frac{||\\omega^{2}||}{2}$$\n",
    "$$\\bf{s.t.}\\,\\,y_{i}(\\omega^{T}x_{i}+b) \\geq 1$$\n",
    "$$\\text{拉格朗日乘数法：} L = \\frac{1}{2}||\\omega||^2 - \\sum^{N}_{n=1}a_{n}*\\{y_{n}(\\omega^{T}x_{n}+b)-1\\}$$\n",
    "\n",
    "<img style=\"float: center;\" src=\".\\figures\\SVM.png\" width=\"50%\">\n",
    "<center>Fig. SVM</center>\n"
   ]
  },
  {
   "cell_type": "markdown",
   "metadata": {},
   "source": [
    "- 出现线性不可分的解决思路：\n",
    "    - 求 min(max(L))：减小 max(L) 的影响\n",
    "    \n",
    "    <img style=\"float: center;\" src=\".\\figures\\SVM1.png\" width=\"50%\">\n",
    "    <center>Fig. min(max(L))</center>\n",
    "    \n",
    "    - 扩维：低维 --> 高维\n",
    "$$2dim-5dim: (x_1,x_2)\\rightarrow (x_1,x_2,x_1 x_2,x_1^2,x_2^2)$$\n",
    "$$3dim-19dim: (x_1,x_2,x_3)\\rightarrow (x_1,x_2,x_3,x_1^2,x_1x_2,x_1x_3,x_2^2,x_2x_3,x_3^2,x_1^3,x_1^2x_2,x_1^2x_3,x_1x_2x_3,x_1x_2^2,x_1x_3^2,x_2^3,x_2^2x_3,x_2x_3^2,x_3^3)$$\n",
    "\n",
    "    <img style=\"float: center;\" src=\".\\figures\\SVM2.png\" width=\"50%\">\n",
    "    <center>Fig. 扩维</center>\n",
    "\n",
    "    <img style=\"float: center;\" src=\".\\figures\\SVM维数灾难.png\" width=\"50%\">\n",
    "    <center>Fig. SVM中扩维导致维数灾难</center>\n",
    "    \n"
   ]
  },
  {
   "cell_type": "markdown",
   "metadata": {},
   "source": [
    "- 核函数：解决维数灾难\n",
    "    - 先映射，再计算 --> 导致维度灾难\n",
    "    - 先计算（低维空间），再扩维（核函数）\n",
    "    - 种类：\n",
    "        - 线性核函数：线性可分时使用\n",
    "        $$k(x,x_i) = x\\cdot x_i$$\n",
    "        - 多项式核函数：\n",
    "        $$k(x,x_i) = ((x\\cdot x_i)+1)^d$$\n",
    "        - 高斯径向基（RBF）核函数：可映射为无限维，可能会过拟合\n",
    "        $$k(x,x_i) = exp(-\\frac{||x-x_i||^2}{\\sigma^2})$$\n",
    "<img style=\"float: center;\" src=\".\\figures\\解决维度灾难.png\" width=50%>\n",
    "<center>Fig. 如何解决维数灾难</center>\n"
   ]
  },
  {
   "cell_type": "markdown",
   "metadata": {},
   "source": [
    "- SVM vs. 决策树：\n",
    "\n",
    "<img style=\"float: center;\" src=\".\\figures\\决策树vsSVM.png\" width=50%>\n",
    "<center>Fig. 决策树 vs. SVM</center>\n"
   ]
  },
  {
   "cell_type": "markdown",
   "metadata": {},
   "source": [
    "- Tips:\n",
    "\n",
    "<img style=\"float: center;\" src=\".\\figures\\样本异常.png\" width=50%>\n",
    "<center>Fig. 样本异常</center>\n",
    "\n",
    "<img style=\"float: center;\" src=\".\\figures\\多分类.png\" width=40%>\n",
    "<center>Fig. 多分类</center>\n"
   ]
  },
  {
   "cell_type": "code",
   "execution_count": 76,
   "metadata": {
    "ExecuteTime": {
     "end_time": "2021-11-23T07:20:07.370726Z",
     "start_time": "2021-11-23T07:20:07.356737Z"
    }
   },
   "outputs": [],
   "source": [
    "## 建模分析\n",
    "def hr_modeling(features, label):\n",
    "    from sklearn.model_selection import train_test_split\n",
    "    f_v = features.values # 特征值\n",
    "    f_names = features.columns.values # 特征名\n",
    "    l_v = label.values # 标注\n",
    "    # 测试集：X_tt, Y_tt\n",
    "    # 验证集：X_validation, Y_validation\n",
    "    X_tt,X_validation,Y_tt,Y_validation = train_test_split(f_v, l_v, test_size=0.2)\n",
    "    X_train,X_test,Y_train,Y_test = train_test_split(X_tt, Y_tt, test_size=0.25)\n",
    "    print(len(X_train), len(X_validation), len(X_test))\n",
    "    \n",
    "    ## 模型构建\n",
    "    from sklearn.metrics import accuracy_score,recall_score,f1_score # 模型评价\n",
    "    from sklearn.neighbors import NearestNeighbors,KNeighborsClassifier # KNN\n",
    "    from sklearn.naive_bayes import GaussianNB,BernoulliNB # 高斯朴素贝叶斯、伯努利朴素贝叶斯\n",
    "    from sklearn.tree import DecisionTreeClassifier # 决策树\n",
    "    from sklearn.svm import SVC # 支持向量机\n",
    "    models = [] # 初始化存放模型的元组\n",
    "    \n",
    "#     models.append((\"KNN\", KNeighborsClassifier(n_neighbors=3))) # KNN\n",
    "#     models.append((\"GaussianNB\", GaussianNB())) # Gaussian Naive Bayes\n",
    "#     models.append((\"BernoulliNB\", BernoulliNB())) # BernoulliNB Naive Bayes\n",
    "    models.append((\"DecisionTreeGini\", DecisionTreeClassifier())) # 决策树：Gini 系数\n",
    "    models.append((\"DecisionTreeEntropy\", DecisionTreeClassifier(criterion=\"entropy\"))) # 决策树：信息熵\n",
    "    models.append((\"SVM Classifier\", SVC(C=100000))) # 支持向量机：C 值越大模型越准确，计算时间越长\n",
    "    for clf_name,clf in models:\n",
    "        print(\"++++\", clf_name, \"++++\")\n",
    "        clf.fit(X_train, Y_train)\n",
    "        xy_lst = [(X_train,Y_train), (X_validation,Y_validation), (X_test,Y_test)]\n",
    "        set_name = [\"Train:\", \"Validation:\", \"Test:\"]\n",
    "        for i in range(len(xy_lst)):\n",
    "            X_part = xy_lst[i][0]\n",
    "            Y_part = xy_lst[i][1]\n",
    "            Y_pred = clf.predict(X_part)\n",
    "#             print(i)\n",
    "            print(set_name[i])\n",
    "            print(clf_name, \"- ACC:\", accuracy_score(Y_part, Y_pred))\n",
    "            print(clf_name, \"- REC:\", recall_score(Y_part, Y_pred))\n",
    "            print(clf_name, \"- F1:\", f1_score(Y_part, Y_pred))\n"
   ]
  },
  {
   "cell_type": "code",
   "execution_count": 77,
   "metadata": {
    "ExecuteTime": {
     "end_time": "2021-11-23T07:21:52.802666Z",
     "start_time": "2021-11-23T07:20:14.043716Z"
    }
   },
   "outputs": [
    {
     "name": "stdout",
     "output_type": "stream",
     "text": [
      "8999 3000 3000\n",
      "++++ DecisionTreeGini ++++\n",
      "Train:\n",
      "DecisionTreeGini - ACC: 1.0\n",
      "DecisionTreeGini - REC: 1.0\n",
      "DecisionTreeGini - F1: 1.0\n",
      "Validation:\n",
      "DecisionTreeGini - ACC: 0.9686666666666667\n",
      "DecisionTreeGini - REC: 0.9583333333333334\n",
      "DecisionTreeGini - F1: 0.9362279511533244\n",
      "Test:\n",
      "DecisionTreeGini - ACC: 0.9803333333333333\n",
      "DecisionTreeGini - REC: 0.977027027027027\n",
      "DecisionTreeGini - F1: 0.960797342192691\n",
      "++++ DecisionTreeEntropy ++++\n",
      "Train:\n",
      "DecisionTreeEntropy - ACC: 1.0\n",
      "DecisionTreeEntropy - REC: 1.0\n",
      "DecisionTreeEntropy - F1: 1.0\n",
      "Validation:\n",
      "DecisionTreeEntropy - ACC: 0.976\n",
      "DecisionTreeEntropy - REC: 0.9597222222222223\n",
      "DecisionTreeEntropy - F1: 0.9504814305364512\n",
      "Test:\n",
      "DecisionTreeEntropy - ACC: 0.9756666666666667\n",
      "DecisionTreeEntropy - REC: 0.972972972972973\n",
      "DecisionTreeEntropy - F1: 0.9517514871116987\n",
      "++++ SVM Classifier ++++\n",
      "Train:\n",
      "SVM Classifier - ACC: 0.9975552839204356\n",
      "SVM Classifier - REC: 0.9938417811463761\n",
      "SVM Classifier - F1: 0.9947842579421526\n",
      "Validation:\n",
      "SVM Classifier - ACC: 0.962\n",
      "SVM Classifier - REC: 0.9375\n",
      "SVM Classifier - F1: 0.9221311475409837\n",
      "Test:\n",
      "SVM Classifier - ACC: 0.967\n",
      "SVM Classifier - REC: 0.9648648648648649\n",
      "SVM Classifier - F1: 0.9351669941060904\n"
     ]
    }
   ],
   "source": [
    "## \n",
    "def main():\n",
    "#     print(hr_preprocessing(sl=True, le=True, lower_d=False, ld_n=3))\n",
    "    features,label = hr_preprocessing()\n",
    "    hr_modeling(features, label)\n",
    "    \n",
    "if __name__ == \"__main__\":\n",
    "    main()\n",
    "    \n"
   ]
  },
  {
   "cell_type": "markdown",
   "metadata": {},
   "source": [
    "### 集成：随机森林\n",
    "> 组合多个模型，以获得更好的效果  \n",
    "> $O(n^p), O(n!), O(m^n)$  \n",
    "> 强可学习：多项式学习算法的效果较为明显  \n",
    "> 弱可学习：多项式学习算法的效果不很明显  \n",
    "\n",
    "- 袋装法（bagging）：\n",
    "<img style=\"float: center;\" src=\".\\figures\\袋装法.png\" width=50%>\n",
    "<center>Fig. 袋装法</center>\n",
    "\n",
    "- 随机森林：\n",
    "<img style=\"float: center;\" src=\".\\figures\\随机森林.png\" width=50%>\n",
    "<center>Fig. 随机森林</center>\n"
   ]
  },
  {
   "cell_type": "code",
   "execution_count": 78,
   "metadata": {
    "ExecuteTime": {
     "end_time": "2021-11-23T07:22:17.595009Z",
     "start_time": "2021-11-23T07:22:17.574008Z"
    }
   },
   "outputs": [],
   "source": [
    "## 建模分析\n",
    "def hr_modeling(features, label):\n",
    "    from sklearn.model_selection import train_test_split\n",
    "    f_v = features.values # 特征值\n",
    "    f_names = features.columns.values # 特征名\n",
    "    l_v = label.values # 标注\n",
    "    # 测试集：X_tt, Y_tt\n",
    "    # 验证集：X_validation, Y_validation\n",
    "    X_tt,X_validation,Y_tt,Y_validation = train_test_split(f_v, l_v, test_size=0.2)\n",
    "    X_train,X_test,Y_train,Y_test = train_test_split(X_tt, Y_tt, test_size=0.25)\n",
    "    print(len(X_train), len(X_validation), len(X_test))\n",
    "    \n",
    "    ## 模型构建\n",
    "    from sklearn.metrics import accuracy_score,recall_score,f1_score # 模型评价\n",
    "    from sklearn.neighbors import NearestNeighbors,KNeighborsClassifier # KNN\n",
    "    from sklearn.naive_bayes import GaussianNB,BernoulliNB # 高斯朴素贝叶斯、伯努利朴素贝叶斯\n",
    "    from sklearn.tree import DecisionTreeClassifier # 决策树\n",
    "    from sklearn.svm import SVC # 支持向量机\n",
    "    from sklearn.ensemble import RandomForestClassifier # 随机森林\n",
    "    models = [] # 初始化存放模型的元组\n",
    "    \n",
    "#     models.append((\"KNN\", KNeighborsClassifier(n_neighbors=3))) # KNN\n",
    "#     models.append((\"GaussianNB\", GaussianNB())) # Gaussian Naive Bayes\n",
    "#     models.append((\"BernoulliNB\", BernoulliNB())) # BernoulliNB Naive Bayes\n",
    "    models.append((\"DecisionTreeGini\", DecisionTreeClassifier())) # 决策树：Gini 系数\n",
    "#     models.append((\"DecisionTreeEntropy\", DecisionTreeClassifier(criterion=\"entropy\"))) # 决策树：信息熵\n",
    "#     models.append((\"SVM Classifier\", SVC(C=1000))) # 支持向量机：C 值越大模型越准确，计算时间越长\n",
    "    models.append((\"OriginalRandomForest\", RandomForestClassifier())) # 随机森林\n",
    "    models.append((\"RandomForest\", RandomForestClassifier(n_estimators=11, max_features=None))) # 随机森林\n",
    "    for clf_name,clf in models:\n",
    "        print(\"++++\", clf_name, \"++++\")\n",
    "        clf.fit(X_train, Y_train)\n",
    "        xy_lst = [(X_train,Y_train), (X_validation,Y_validation), (X_test,Y_test)]\n",
    "        set_name = [\"Train:\", \"Validation:\", \"Test:\"]\n",
    "        for i in range(len(xy_lst)):\n",
    "            X_part = xy_lst[i][0]\n",
    "            Y_part = xy_lst[i][1]\n",
    "            Y_pred = clf.predict(X_part)\n",
    "#             print(i)\n",
    "            print(set_name[i])\n",
    "            print(clf_name, \"- ACC:\", accuracy_score(Y_part, Y_pred))\n",
    "            print(clf_name, \"- REC:\", recall_score(Y_part, Y_pred))\n",
    "            print(clf_name, \"- F1:\", f1_score(Y_part, Y_pred))\n"
   ]
  },
  {
   "cell_type": "code",
   "execution_count": 79,
   "metadata": {
    "ExecuteTime": {
     "end_time": "2021-11-23T07:22:20.134473Z",
     "start_time": "2021-11-23T07:22:18.337839Z"
    }
   },
   "outputs": [
    {
     "name": "stdout",
     "output_type": "stream",
     "text": [
      "8999 3000 3000\n",
      "++++ DecisionTreeGini ++++\n",
      "Train:\n",
      "DecisionTreeGini - ACC: 1.0\n",
      "DecisionTreeGini - REC: 1.0\n",
      "DecisionTreeGini - F1: 1.0\n",
      "Validation:\n",
      "DecisionTreeGini - ACC: 0.9786666666666667\n",
      "DecisionTreeGini - REC: 0.9587345254470426\n",
      "DecisionTreeGini - F1: 0.9561042524005486\n",
      "Test:\n",
      "DecisionTreeGini - ACC: 0.971\n",
      "DecisionTreeGini - REC: 0.9530386740331491\n",
      "DecisionTreeGini - F1: 0.9406952965235175\n",
      "++++ OriginalRandomForest ++++\n",
      "Train:\n",
      "OriginalRandomForest - ACC: 1.0\n",
      "OriginalRandomForest - REC: 1.0\n",
      "OriginalRandomForest - F1: 1.0\n",
      "Validation:\n",
      "OriginalRandomForest - ACC: 0.9873333333333333\n",
      "OriginalRandomForest - REC: 0.9573590096286108\n",
      "OriginalRandomForest - F1: 0.9734265734265735\n",
      "Test:\n",
      "OriginalRandomForest - ACC: 0.987\n",
      "OriginalRandomForest - REC: 0.9544198895027625\n",
      "OriginalRandomForest - F1: 0.972554539057002\n",
      "++++ RandomForest ++++\n",
      "Train:\n",
      "RandomForest - ACC: 0.9985553950438938\n",
      "RandomForest - REC: 0.995754716981132\n",
      "RandomForest - F1: 0.9969303423848879\n",
      "Validation:\n",
      "RandomForest - ACC: 0.984\n",
      "RandomForest - REC: 0.9573590096286108\n",
      "RandomForest - F1: 0.9666666666666667\n",
      "Test:\n",
      "RandomForest - ACC: 0.9803333333333333\n",
      "RandomForest - REC: 0.9502762430939227\n",
      "RandomForest - F1: 0.9588850174216028\n"
     ]
    }
   ],
   "source": [
    "## \n",
    "def main():\n",
    "#     print(hr_preprocessing(sl=True, le=True, lower_d=False, ld_n=3))\n",
    "    features,label = hr_preprocessing()\n",
    "    hr_modeling(features, label)\n",
    "    \n",
    "if __name__ == \"__main__\":\n",
    "    main()\n",
    "    \n"
   ]
  },
  {
   "cell_type": "markdown",
   "metadata": {},
   "source": [
    "### 集成：Adaboost\n",
    "- 提升法（boost）：\n",
    "<img style=\"float: center;\" src=\".\\figures\\提升法.png\" width=50%>\n",
    "<center>Fig. 提升法</center>\n",
    "\n",
    "<img style=\"float: center;\" src=\".\\figures\\adaboost.png\" width=100%>\n",
    "<center>Fig. Adaboost</center>\n",
    "\n",
    "<img style=\"float: center;\" src=\".\\figures\\adaboost1.png\" width=80%>\n",
    "<center>Fig. Adaboost</center>\n",
    "\n",
    "- 优点：\n",
    "    - 精度高，灵活可调\n",
    "    - 几乎不用担心过拟合\n",
    "    - 简化特征工程流程\n"
   ]
  },
  {
   "cell_type": "code",
   "execution_count": 80,
   "metadata": {
    "ExecuteTime": {
     "end_time": "2021-11-23T07:22:24.694212Z",
     "start_time": "2021-11-23T07:22:24.659240Z"
    }
   },
   "outputs": [],
   "source": [
    "## 建模分析\n",
    "def hr_modeling(features, label):\n",
    "    from sklearn.model_selection import train_test_split\n",
    "    f_v = features.values # 特征值\n",
    "    f_names = features.columns.values # 特征名\n",
    "    l_v = label.values # 标注\n",
    "    # 测试集：X_tt, Y_tt\n",
    "    # 验证集：X_validation, Y_validation\n",
    "    X_tt,X_validation,Y_tt,Y_validation = train_test_split(f_v, l_v, test_size=0.2)\n",
    "    X_train,X_test,Y_train,Y_test = train_test_split(X_tt, Y_tt, test_size=0.25)\n",
    "    print(len(X_train), len(X_validation), len(X_test))\n",
    "    \n",
    "    ## 模型构建\n",
    "    from sklearn.metrics import accuracy_score,recall_score,f1_score # 模型评价\n",
    "    from sklearn.neighbors import NearestNeighbors,KNeighborsClassifier # KNN\n",
    "    from sklearn.naive_bayes import GaussianNB,BernoulliNB # 高斯朴素贝叶斯、伯努利朴素贝叶斯\n",
    "    from sklearn.tree import DecisionTreeClassifier # 决策树\n",
    "    from sklearn.svm import SVC # 支持向量机\n",
    "    from sklearn.ensemble import RandomForestClassifier # 随机森林\n",
    "    from sklearn.ensemble import AdaBoostClassifier # AdaBoost\n",
    "    models = [] # 初始化存放模型的元组\n",
    "    \n",
    "#     models.append((\"KNN\", KNeighborsClassifier(n_neighbors=3))) # KNN\n",
    "#     models.append((\"GaussianNB\", GaussianNB())) # Gaussian Naive Bayes\n",
    "#     models.append((\"BernoulliNB\", BernoulliNB())) # BernoulliNB Naive Bayes\n",
    "    models.append((\"DecisionTreeGini\", DecisionTreeClassifier())) # 决策树：Gini 系数\n",
    "#     models.append((\"DecisionTreeEntropy\", DecisionTreeClassifier(criterion=\"entropy\"))) # 决策树：信息熵\n",
    "#     models.append((\"SVM Classifier\", SVC(C=1000))) # 支持向量机：C 值越大模型越准确，计算时间越长\n",
    "#     models.append((\"OriginalRandomForest\", RandomForestClassifier())) # 随机森林\n",
    "    models.append((\"RandomForest\", RandomForestClassifier(n_estimators=11, max_features=None))) # 随机森林\n",
    "    models.append((\"AdaBoost\", AdaBoostClassifier())) # AdaBoost\n",
    "    for clf_name,clf in models:\n",
    "        print(\"++++\", clf_name, \"++++\")\n",
    "        clf.fit(X_train, Y_train)\n",
    "        xy_lst = [(X_train,Y_train), (X_validation,Y_validation), (X_test,Y_test)]\n",
    "        set_name = [\"Train:\", \"Validation:\", \"Test:\"]\n",
    "        for i in range(len(xy_lst)):\n",
    "            X_part = xy_lst[i][0]\n",
    "            Y_part = xy_lst[i][1]\n",
    "            Y_pred = clf.predict(X_part)\n",
    "#             print(i)\n",
    "            print(i, set_name[i])\n",
    "            print(clf_name, \"- ACC:\", accuracy_score(Y_part, Y_pred))\n",
    "            print(clf_name, \"- REC:\", recall_score(Y_part, Y_pred))\n",
    "            print(clf_name, \"- F1:\", f1_score(Y_part, Y_pred))\n",
    "\n"
   ]
  },
  {
   "cell_type": "code",
   "execution_count": 81,
   "metadata": {
    "ExecuteTime": {
     "end_time": "2021-11-23T07:22:38.669849Z",
     "start_time": "2021-11-23T07:22:37.326252Z"
    }
   },
   "outputs": [
    {
     "name": "stdout",
     "output_type": "stream",
     "text": [
      "8999 3000 3000\n",
      "++++ DecisionTreeGini ++++\n",
      "0 Train:\n",
      "DecisionTreeGini - ACC: 1.0\n",
      "DecisionTreeGini - REC: 1.0\n",
      "DecisionTreeGini - F1: 1.0\n",
      "1 Validation:\n",
      "DecisionTreeGini - ACC: 0.9723333333333334\n",
      "DecisionTreeGini - REC: 0.9608636977058029\n",
      "DecisionTreeGini - F1: 0.9449236894492369\n",
      "2 Test:\n",
      "DecisionTreeGini - ACC: 0.9666666666666667\n",
      "DecisionTreeGini - REC: 0.953757225433526\n",
      "DecisionTreeGini - F1: 0.9295774647887324\n",
      "++++ RandomForest ++++\n",
      "0 Train:\n",
      "RandomForest - ACC: 0.9986665185020558\n",
      "RandomForest - REC: 0.9953227315247896\n",
      "RandomForest - F1: 0.9971883786316776\n",
      "1 Validation:\n",
      "RandomForest - ACC: 0.9846666666666667\n",
      "RandomForest - REC: 0.9608636977058029\n",
      "RandomForest - F1: 0.9687074829931972\n",
      "2 Test:\n",
      "RandomForest - ACC: 0.983\n",
      "RandomForest - REC: 0.9450867052023122\n",
      "RandomForest - F1: 0.9624724061810155\n",
      "++++ AdaBoost ++++\n",
      "0 Train:\n",
      "AdaBoost - ACC: 0.9605511723524837\n",
      "AdaBoost - REC: 0.9097287184284378\n",
      "AdaBoost - F1: 0.9163722025912839\n",
      "1 Validation:\n",
      "AdaBoost - ACC: 0.9616666666666667\n",
      "AdaBoost - REC: 0.9284750337381916\n",
      "AdaBoost - F1: 0.9228705566733736\n",
      "2 Test:\n",
      "AdaBoost - ACC: 0.956\n",
      "AdaBoost - REC: 0.8916184971098265\n",
      "AdaBoost - F1: 0.9033674963396778\n"
     ]
    }
   ],
   "source": [
    "## \n",
    "def main():\n",
    "#     print(hr_preprocessing(sl=True, le=True, lower_d=False, ld_n=3))\n",
    "    features,label = hr_preprocessing()\n",
    "    hr_modeling(features, label)\n",
    "    \n",
    "if __name__ == \"__main__\":\n",
    "    main()\n",
    "    \n"
   ]
  },
  {
   "cell_type": "code",
   "execution_count": 82,
   "metadata": {
    "ExecuteTime": {
     "end_time": "2021-11-23T07:22:48.636656Z",
     "start_time": "2021-11-23T07:22:48.605658Z"
    },
    "collapsed": true
   },
   "outputs": [
    {
     "ename": "SyntaxError",
     "evalue": "invalid syntax (import_package.py, line 2)",
     "output_type": "error",
     "traceback": [
      "\u001b[1;36m  File \u001b[1;32m\"C:\\Users\\kisso\\OneDrive\\share\\24 - Kaggle\\code\\import_package.py\"\u001b[1;36m, line \u001b[1;32m2\u001b[0m\n\u001b[1;33m    def import package:\u001b[0m\n\u001b[1;37m        ^\u001b[0m\n\u001b[1;31mSyntaxError\u001b[0m\u001b[1;31m:\u001b[0m invalid syntax\n"
     ]
    }
   ],
   "source": [
    "%run \".\\\\code\\\\main.py\""
   ]
  },
  {
   "cell_type": "markdown",
   "metadata": {},
   "source": [
    "## 回归（regression analysis）\n",
    "> 回归是确定多个变量间相互依赖的定量关系的一种统计分析方法  \n",
    "> 方法：线性回归、决策树、支持向量机、集成方法、Logistic 映射、人工神经网络  \n",
    "\n",
    "### 线性回归\n",
    "- 线性回归的最优化解法：\n",
    "<img style=\"float: center;\" src=\".\\figures\\最小二乘法.png\" width=60%>\n",
    "<center>Fig. 最小二乘法</center>\n",
    "\n",
    "<img style=\"float: center;\" src=\".\\figures\\最小二乘法2.png\" width=60%>\n",
    "<center>Fig. 最小二乘法</center>\n",
    "\n"
   ]
  },
  {
   "cell_type": "markdown",
   "metadata": {},
   "source": [
    "#### 梯度下降法\n",
    "- 梯度：设函数 $f(x,y)$ 在平面区域 $D$ 内具有一阶连续偏导数，则对每一点 $P(x_0,y_0)$ 都可以定出一个向量：\n",
    "$$f_x(x_0,y_0)\\vec{i}+f_y(x_0,y_0)\\vec{j}$$\n",
    "称为 $f(x,y)$ 在 $P$ 点处的梯度，记为 $\\nabla f(x_0,y_0)$\n",
    "$$min(J(\\vec{\\omega})) = \\frac{1}{2m}\\sum^m_{i=1}(H(\\vec{X}_i)-y_i)^2$$\n",
    "$$\\omega_j := \\omega_j - \\alpha\\frac{\\partial J(\\vec{\\omega})}{\\partial\\omega_j}$$\n",
    "$$f(\\lambda x_1 +(1-\\lambda)x_2) \\leq \\lambda f(x_1) +(1-\\lambda)f(x_2)$$\n",
    "\n",
    "> 凸函数的极小值=最小值，对凸函数进行优化的过程称为凸优化  \n"
   ]
  },
  {
   "cell_type": "markdown",
   "metadata": {},
   "source": [
    "### 正则化\n",
    "> 舍入误差、系统误差、多极值点会导致特征权值和我们需要的出现偏差，导致越策结果非常差  \n",
    "\n",
    "#### 岭回归\n",
    "$$min(\\sum^m_{i=1}(H(\\vec{X}_i)-y_i)^2+\\alpha ||\\vec{\\omega}||^2_2)$$\n",
    "\n",
    "#### Lasso 回归\n",
    "$$min(\\frac{1}{2m}\\sum^m_{i=1}(H(\\vec{X}_i)-y_i)^2+\\alpha ||\\vec{\\omega}||_1)$$\n",
    "\n",
    "<img style=\"float: center;\" src=\".\\figures\\正则化.png\" width=40%>\n",
    "<center>Fig. 正则化</center>\n"
   ]
  },
  {
   "cell_type": "code",
   "execution_count": 12,
   "metadata": {
    "ExecuteTime": {
     "end_time": "2021-11-23T08:12:21.412150Z",
     "start_time": "2021-11-23T08:12:21.370150Z"
    },
    "scrolled": true
   },
   "outputs": [
    {
     "data": {
      "text/html": [
       "<div>\n",
       "<style scoped>\n",
       "    .dataframe tbody tr th:only-of-type {\n",
       "        vertical-align: middle;\n",
       "    }\n",
       "\n",
       "    .dataframe tbody tr th {\n",
       "        vertical-align: top;\n",
       "    }\n",
       "\n",
       "    .dataframe thead th {\n",
       "        text-align: right;\n",
       "    }\n",
       "</style>\n",
       "<table border=\"1\" class=\"dataframe\">\n",
       "  <thead>\n",
       "    <tr style=\"text-align: right;\">\n",
       "      <th></th>\n",
       "      <th>satisfaction_level</th>\n",
       "      <th>last_evaluation</th>\n",
       "      <th>number_project</th>\n",
       "      <th>average_monthly_hours</th>\n",
       "      <th>time_spend_company</th>\n",
       "      <th>Work_accident</th>\n",
       "      <th>left</th>\n",
       "      <th>promotion_last_5years</th>\n",
       "      <th>Department</th>\n",
       "      <th>salary</th>\n",
       "    </tr>\n",
       "  </thead>\n",
       "  <tbody>\n",
       "    <tr>\n",
       "      <th>0</th>\n",
       "      <td>0.38</td>\n",
       "      <td>0.53</td>\n",
       "      <td>2</td>\n",
       "      <td>157</td>\n",
       "      <td>3</td>\n",
       "      <td>0</td>\n",
       "      <td>1</td>\n",
       "      <td>0</td>\n",
       "      <td>sales</td>\n",
       "      <td>low</td>\n",
       "    </tr>\n",
       "    <tr>\n",
       "      <th>1</th>\n",
       "      <td>0.80</td>\n",
       "      <td>0.86</td>\n",
       "      <td>5</td>\n",
       "      <td>262</td>\n",
       "      <td>6</td>\n",
       "      <td>0</td>\n",
       "      <td>1</td>\n",
       "      <td>0</td>\n",
       "      <td>sales</td>\n",
       "      <td>medium</td>\n",
       "    </tr>\n",
       "    <tr>\n",
       "      <th>2</th>\n",
       "      <td>0.11</td>\n",
       "      <td>0.88</td>\n",
       "      <td>7</td>\n",
       "      <td>272</td>\n",
       "      <td>4</td>\n",
       "      <td>0</td>\n",
       "      <td>1</td>\n",
       "      <td>0</td>\n",
       "      <td>sales</td>\n",
       "      <td>medium</td>\n",
       "    </tr>\n",
       "    <tr>\n",
       "      <th>3</th>\n",
       "      <td>0.72</td>\n",
       "      <td>0.87</td>\n",
       "      <td>5</td>\n",
       "      <td>223</td>\n",
       "      <td>5</td>\n",
       "      <td>0</td>\n",
       "      <td>1</td>\n",
       "      <td>0</td>\n",
       "      <td>sales</td>\n",
       "      <td>low</td>\n",
       "    </tr>\n",
       "    <tr>\n",
       "      <th>4</th>\n",
       "      <td>0.37</td>\n",
       "      <td>0.52</td>\n",
       "      <td>2</td>\n",
       "      <td>159</td>\n",
       "      <td>3</td>\n",
       "      <td>0</td>\n",
       "      <td>1</td>\n",
       "      <td>0</td>\n",
       "      <td>sales</td>\n",
       "      <td>low</td>\n",
       "    </tr>\n",
       "  </tbody>\n",
       "</table>\n",
       "</div>"
      ],
      "text/plain": [
       "   satisfaction_level  last_evaluation  number_project  average_monthly_hours  \\\n",
       "0                0.38             0.53               2                    157   \n",
       "1                0.80             0.86               5                    262   \n",
       "2                0.11             0.88               7                    272   \n",
       "3                0.72             0.87               5                    223   \n",
       "4                0.37             0.52               2                    159   \n",
       "\n",
       "   time_spend_company  Work_accident  left  promotion_last_5years Department  \\\n",
       "0                   3              0     1                      0      sales   \n",
       "1                   6              0     1                      0      sales   \n",
       "2                   4              0     1                      0      sales   \n",
       "3                   5              0     1                      0      sales   \n",
       "4                   3              0     1                      0      sales   \n",
       "\n",
       "   salary  \n",
       "0     low  \n",
       "1  medium  \n",
       "2  medium  \n",
       "3     low  \n",
       "4     low  "
      ]
     },
     "execution_count": 12,
     "metadata": {},
     "output_type": "execute_result"
    }
   ],
   "source": [
    "df.head()"
   ]
  },
  {
   "cell_type": "code",
   "execution_count": 21,
   "metadata": {
    "ExecuteTime": {
     "end_time": "2021-11-23T08:23:42.353786Z",
     "start_time": "2021-11-23T08:23:42.318805Z"
    }
   },
   "outputs": [],
   "source": [
    "# %load \".\\\\code\\\\load_hr_modeling.py\"\n",
    "## 建模分析\n",
    "def hr_modeling(features, label):\n",
    "    from sklearn.model_selection import train_test_split\n",
    "    f_v = features.values # 特征值\n",
    "    f_names = features.columns.values # 特征名\n",
    "    l_v = label.values # 标注\n",
    "    # 测试集：X_tt, Y_tt\n",
    "    # 验证集：X_validation, Y_validation\n",
    "    X_tt,X_validation,Y_tt,Y_validation = train_test_split(f_v, l_v, test_size=0.2)\n",
    "    X_train,X_test,Y_train,Y_test = train_test_split(X_tt, Y_tt, test_size=0.25)\n",
    "    print(len(X_train), len(X_validation), len(X_test))\n",
    "    \n",
    "    ## 模型构建\n",
    "    from sklearn.metrics import accuracy_score,recall_score,f1_score # 模型评价\n",
    "    from sklearn.neighbors import NearestNeighbors,KNeighborsClassifier # KNN\n",
    "    from sklearn.naive_bayes import GaussianNB,BernoulliNB # 高斯朴素贝叶斯、伯努利朴素贝叶斯\n",
    "    from sklearn.tree import DecisionTreeClassifier # 决策树\n",
    "    from sklearn.svm import SVC # 支持向量机\n",
    "    from sklearn.ensemble import RandomForestClassifier # 随机森林\n",
    "    from sklearn.ensemble import AdaBoostClassifier # AdaBoost\n",
    "    models = [] # 初始化存放模型的元组\n",
    "    \n",
    "#     models.append((\"KNN\", KNeighborsClassifier(n_neighbors=3))) # KNN\n",
    "#     models.append((\"GaussianNB\", GaussianNB())) # Gaussian Naive Bayes\n",
    "#     models.append((\"BernoulliNB\", BernoulliNB())) # BernoulliNB Naive Bayes\n",
    "    models.append((\"DecisionTreeGini\", DecisionTreeClassifier())) # 决策树：Gini 系数\n",
    "#     models.append((\"DecisionTreeEntropy\", DecisionTreeClassifier(criterion=\"entropy\"))) # 决策树：信息熵\n",
    "#     models.append((\"SVM Classifier\", SVC(C=1000))) # 支持向量机：C 值越大模型越准确，计算时间越长\n",
    "#     models.append((\"OriginalRandomForest\", RandomForestClassifier())) # 随机森林\n",
    "    models.append((\"RandomForest\", RandomForestClassifier(n_estimators=11, max_features=None))) # 随机森林\n",
    "    models.append((\"AdaBoost\", AdaBoostClassifier())) # AdaBoost\n",
    "    for clf_name,clf in models:\n",
    "        print(\"++++\", clf_name, \"++++\")\n",
    "        clf.fit(X_train, Y_train)\n",
    "        xy_lst = [(X_train,Y_train), (X_validation,Y_validation), (X_test,Y_test)]\n",
    "        set_name = [\"Train:\", \"Validation:\", \"Test:\"]\n",
    "        for i in range(len(xy_lst)):\n",
    "            X_part = xy_lst[i][0]\n",
    "            Y_part = xy_lst[i][1]\n",
    "            Y_pred = clf.predict(X_part)\n",
    "#             print(i)\n",
    "            print(i, set_name[i])\n",
    "            print(clf_name, \"- ACC:\", accuracy_score(Y_part, Y_pred))\n",
    "            print(clf_name, \"- REC:\", recall_score(Y_part, Y_pred))\n",
    "            print(clf_name, \"- F1:\", f1_score(Y_part, Y_pred))\n",
    "\n"
   ]
  },
  {
   "cell_type": "code",
   "execution_count": 37,
   "metadata": {
    "ExecuteTime": {
     "end_time": "2021-11-23T08:41:42.627247Z",
     "start_time": "2021-11-23T08:41:42.612257Z"
    }
   },
   "outputs": [],
   "source": [
    "## 回归\n",
    "def regr_test(features, label):\n",
    "    print(\"X\", features)\n",
    "    print(\"Y\", label)\n",
    "    from sklearn.linear_model import LinearRegression,Ridge,Lasso # 线性回归、岭回归、Lasso 回归\n",
    "#     regr = LinearRegression() # 线性回归\n",
    "#     regr = Ridge(alpha=0.8) # 岭回归\n",
    "    regr = Lasso(alpha=0.002) # Lasso 回归\n",
    "    regr.fit(features.values, label.values)\n",
    "    Y_pred = regr.predict(features.values)\n",
    "    print(\"Coef\", regr.coef_)\n",
    "    # 模型评价\n",
    "    from sklearn.metrics import mean_squared_error # 评价指标：MSE\n",
    "    print(\"MSE:\", mean_squared_error(label.values, Y_pred)) # 打印均方误差\n"
   ]
  },
  {
   "cell_type": "code",
   "execution_count": 38,
   "metadata": {
    "ExecuteTime": {
     "end_time": "2021-11-23T08:41:43.259191Z",
     "start_time": "2021-11-23T08:41:43.152834Z"
    }
   },
   "outputs": [
    {
     "name": "stdout",
     "output_type": "stream",
     "text": [
      "X        number_project  average_monthly_hours\n",
      "0                 0.0               0.285047\n",
      "1                 0.6               0.775701\n",
      "2                 1.0               0.822430\n",
      "3                 0.6               0.593458\n",
      "4                 0.0               0.294393\n",
      "...               ...                    ...\n",
      "14994             0.0               0.257009\n",
      "14995             0.0               0.299065\n",
      "14996             0.0               0.219626\n",
      "14997             0.8               0.859813\n",
      "14998             0.0               0.289720\n",
      "\n",
      "[14999 rows x 2 columns]\n",
      "Y 0        0.265625\n",
      "1        0.781250\n",
      "2        0.812500\n",
      "3        0.796875\n",
      "4        0.250000\n",
      "           ...   \n",
      "14994    0.328125\n",
      "14995    0.187500\n",
      "14996    0.265625\n",
      "14997    0.937500\n",
      "14998    0.250000\n",
      "Name: last_evaluation, Length: 14999, dtype: float64\n",
      "Coef [0.25039551 0.24227119]\n",
      "MSE: 0.0596363767370062\n"
     ]
    }
   ],
   "source": [
    "# %load \".\\\\code\\\\load_main.py\"\n",
    "## main\n",
    "def main():\n",
    "    features,label = hr_preprocessing()\n",
    "    regr_test(features[[\"number_project\",\"average_monthly_hours\"]], features[\"last_evaluation\"])\n",
    "#     hr_modeling(features, label)\n",
    "    \n",
    "if __name__ == \"__main__\":\n",
    "    main()\n",
    "    \n"
   ]
  },
  {
   "cell_type": "markdown",
   "metadata": {},
   "source": [
    "### Logistic 回归\n",
    "- 罗吉斯特增长模型\n",
    "\n",
    "<img style=\"float: center;\" src=\".\\figures\\Logistic增长模型.png\" width=50%>\n",
    "<center>Fig. Logistic 增长模型</center>\n",
    "\n",
    "- Logistic Regression\n",
    "$$g(z) = \\frac{1}{1+e^{-z}}$$\n",
    "$$h_\\theta(x) = g(\\theta^T x) = \\frac{1}{1+e^{-\\theta^T x}}$$\n",
    "\n",
    "<img style=\"float: center;\" src=\".\\figures\\Logistic回归.png\" width=40%>\n",
    "<center>Fig. Logistic 回归</center>\n",
    "\n",
    "<img style=\"float: center;\" src=\".\\figures\\Logistic回归2.png\" width=60%>\n",
    "<center>Fig. Logistic 回归</center>\n"
   ]
  },
  {
   "cell_type": "code",
   "execution_count": 47,
   "metadata": {
    "ExecuteTime": {
     "end_time": "2021-11-23T09:06:36.937856Z",
     "start_time": "2021-11-23T09:06:36.915868Z"
    }
   },
   "outputs": [],
   "source": [
    "# %load \".\\\\code\\\\load_hr_modeling.py\"\n",
    "## 建模分析\n",
    "def hr_modeling(features, label):\n",
    "    from sklearn.model_selection import train_test_split\n",
    "    f_v = features.values # 特征值\n",
    "    f_names = features.columns.values # 特征名\n",
    "    l_v = label.values # 标注\n",
    "    # 测试集：X_tt, Y_tt\n",
    "    # 验证集：X_validation, Y_validation\n",
    "    X_tt,X_validation,Y_tt,Y_validation = train_test_split(f_v, l_v, test_size=0.2)\n",
    "    X_train,X_test,Y_train,Y_test = train_test_split(X_tt, Y_tt, test_size=0.25)\n",
    "    print(len(X_train), len(X_validation), len(X_test))\n",
    "    \n",
    "    ## 模型构建\n",
    "    from sklearn.metrics import accuracy_score,recall_score,f1_score # 模型评价\n",
    "    from sklearn.neighbors import NearestNeighbors,KNeighborsClassifier # KNN\n",
    "    from sklearn.naive_bayes import GaussianNB,BernoulliNB # 高斯朴素贝叶斯、伯努利朴素贝叶斯\n",
    "    from sklearn.tree import DecisionTreeClassifier # 决策树\n",
    "    from sklearn.svm import SVC # 支持向量机\n",
    "    from sklearn.ensemble import RandomForestClassifier # 随机森林\n",
    "    from sklearn.ensemble import AdaBoostClassifier # AdaBoost\n",
    "    from sklearn.linear_model import LogisticRegression # Logistic 回归\n",
    "    models = [] # 初始化存放模型的元组\n",
    "    \n",
    "#     models.append((\"KNN\", KNeighborsClassifier(n_neighbors=3))) # KNN\n",
    "#     models.append((\"GaussianNB\", GaussianNB())) # Gaussian Naive Bayes\n",
    "#     models.append((\"BernoulliNB\", BernoulliNB())) # BernoulliNB Naive Bayes\n",
    "#     models.append((\"DecisionTreeGini\", DecisionTreeClassifier())) # 决策树：Gini 系数\n",
    "#     models.append((\"DecisionTreeEntropy\", DecisionTreeClassifier(criterion=\"entropy\"))) # 决策树：信息熵\n",
    "#     models.append((\"SVM Classifier\", SVC(C=1000))) # 支持向量机：C 值越大模型越准确，计算时间越长\n",
    "    models.append((\"OriginalRandomForest\", RandomForestClassifier())) # 随机森林\n",
    "#     models.append((\"RandomForest\", RandomForestClassifier(n_estimators=11, max_features=None))) # 随机森林\n",
    "#     models.append((\"AdaBoost\", AdaBoostClassifier())) # AdaBoost\n",
    "    models.append((\"LogisticRegression\", LogisticRegression(max_iter=10000))) # Logistic 回归\n",
    "    for clf_name,clf in models:\n",
    "        print(\"++++\", clf_name, \"++++\")\n",
    "        clf.fit(X_train, Y_train)\n",
    "        xy_lst = [(X_train,Y_train), (X_validation,Y_validation), (X_test,Y_test)]\n",
    "        set_name = [\"Train:\", \"Validation:\", \"Test:\"]\n",
    "        for i in range(len(xy_lst)):\n",
    "            X_part = xy_lst[i][0]\n",
    "            Y_part = xy_lst[i][1]\n",
    "            Y_pred = clf.predict(X_part)\n",
    "#             print(i)\n",
    "            print(i, set_name[i])\n",
    "            print(clf_name, \"- ACC:\", accuracy_score(Y_part, Y_pred))\n",
    "            print(clf_name, \"- REC:\", recall_score(Y_part, Y_pred))\n",
    "            print(clf_name, \"- F1:\", f1_score(Y_part, Y_pred))\n",
    "\n"
   ]
  },
  {
   "cell_type": "code",
   "execution_count": 48,
   "metadata": {
    "ExecuteTime": {
     "end_time": "2021-11-23T09:06:38.875405Z",
     "start_time": "2021-11-23T09:06:37.535151Z"
    }
   },
   "outputs": [
    {
     "name": "stdout",
     "output_type": "stream",
     "text": [
      "8999 3000 3000\n",
      "++++ OriginalRandomForest ++++\n",
      "0 Train:\n",
      "OriginalRandomForest - ACC: 1.0\n",
      "OriginalRandomForest - REC: 1.0\n",
      "OriginalRandomForest - F1: 1.0\n",
      "1 Validation:\n",
      "OriginalRandomForest - ACC: 0.9893333333333333\n",
      "OriginalRandomForest - REC: 0.9614855570839065\n",
      "OriginalRandomForest - F1: 0.9776223776223776\n",
      "2 Test:\n",
      "OriginalRandomForest - ACC: 0.9896666666666667\n",
      "OriginalRandomForest - REC: 0.9622093023255814\n",
      "OriginalRandomForest - F1: 0.9771217712177122\n",
      "++++ LogisticRegression ++++\n",
      "0 Train:\n",
      "LogisticRegression - ACC: 0.7914212690298922\n",
      "LogisticRegression - REC: 0.35435992578849723\n",
      "LogisticRegression - F1: 0.4487518355359765\n",
      "1 Validation:\n",
      "LogisticRegression - ACC: 0.7923333333333333\n",
      "LogisticRegression - REC: 0.35075653370013754\n",
      "LogisticRegression - F1: 0.4501323918799647\n",
      "2 Test:\n",
      "LogisticRegression - ACC: 0.8\n",
      "LogisticRegression - REC: 0.37790697674418605\n",
      "LogisticRegression - F1: 0.4642857142857143\n"
     ]
    }
   ],
   "source": [
    "# %load \".\\\\code\\\\load_main.py\"\n",
    "## main\n",
    "def main():\n",
    "    features,label = hr_preprocessing()\n",
    "    hr_modeling(features, label)\n",
    "    \n",
    "if __name__ == \"__main__\":\n",
    "    main()\n",
    "    \n"
   ]
  },
  {
   "cell_type": "markdown",
   "metadata": {},
   "source": [
    "## 回归-分类：人工神经网络\n",
    "\n",
    "### 感知器\n",
    "\n",
    "<img style=\"float: center;\" src=\".\\figures\\感知器.png\" width=50%>\n",
    "<center>Fig. 感知器</center>\n"
   ]
  },
  {
   "cell_type": "markdown",
   "metadata": {},
   "source": [
    "### 非线性映射\n",
    "\n",
    "<img style=\"float: center;\" src=\".\\figures\\非线性关系的实现.png\" width=50%>\n",
    "<center>Fig. 非线性映射的实现</center>\n"
   ]
  },
  {
   "cell_type": "markdown",
   "metadata": {},
   "source": [
    "- 神经网络\n",
    "\n",
    "<img style=\"float: center;\" src=\".\\figures\\神经网络.png\" width=50%>\n",
    "<center>Fig. 神经网络</center>\n"
   ]
  },
  {
   "cell_type": "markdown",
   "metadata": {},
   "source": [
    "### 求解神经网络\n",
    "\n",
    "#### 反向传播\n",
    "\n",
    "<img style=\"float: center;\" src=\".\\figures\\反向传播.png\" width=50%>\n",
    "<center>Fig. 反向传播</center>\n",
    "\n",
    "#### 随机梯度下降（Stochastic Gradient Decent）\n",
    "- 每次调整权值时，选取部分样本进行梯度下降\n",
    "- 优点：收敛速度快，计算开销少\n",
    "- 缺点：容易陷入局部最优解\n"
   ]
  },
  {
   "cell_type": "markdown",
   "metadata": {},
   "source": [
    "### 几个问题\n",
    "1. 易受离群点影响，容易过拟合（正则化，dropout）\n",
    "2. 属性与结果要在 0~1之间\n",
    "3. 输出结果进行 Softmax 转化\n",
    "$$S_i = \\frac{e^{V_i}}{\\sum_j e^{V_j}}$$\n"
   ]
  },
  {
   "cell_type": "markdown",
   "metadata": {},
   "source": [
    "- Keras 安装（Windows）\n",
    "\n",
    "```py\n",
    "1. pip install tensorflow\n",
    "2. conda install pip\n",
    "3. pip install keras\n",
    "```\n",
    "\n",
    "> 问题：用pip安装tensorflow时出现：THESE PACKAGES DO NOT MATCH THE HASHES FROM THE REQUIREMENTS FILE  \n",
    "> 解决：使用命令```pip install --upgrade tensorflow```即可解决  \n"
   ]
  },
  {
   "cell_type": "code",
   "execution_count": 106,
   "metadata": {
    "ExecuteTime": {
     "end_time": "2021-11-26T10:16:24.758904Z",
     "start_time": "2021-11-26T10:16:24.705934Z"
    }
   },
   "outputs": [],
   "source": [
    "# %load \".\\\\code\\\\load_hr_modeling.py\"\n",
    "## 建模分析\n",
    "def hr_modeling(features, label):\n",
    "    from sklearn.model_selection import train_test_split\n",
    "    f_v = features.values # 特征值\n",
    "    f_names = features.columns.values # 特征名\n",
    "    l_v = label.values # 标注\n",
    "    # 测试集：X_tt, Y_tt\n",
    "    # 验证集：X_validation, Y_validation\n",
    "    X_tt,X_validation,Y_tt,Y_validation = train_test_split(f_v, l_v, test_size=0.2)\n",
    "    X_train,X_test,Y_train,Y_test = train_test_split(X_tt, Y_tt, test_size=0.25)\n",
    "    print(len(X_train), len(X_validation), len(X_test))\n",
    "    \n",
    "    ## 模型构建\n",
    "    from sklearn.metrics import accuracy_score,recall_score,f1_score # 模型评价\n",
    "    from sklearn.neighbors import NearestNeighbors,KNeighborsClassifier # KNN\n",
    "    from sklearn.naive_bayes import GaussianNB,BernoulliNB # 高斯朴素贝叶斯、伯努利朴素贝叶斯\n",
    "    from sklearn.tree import DecisionTreeClassifier # 决策树\n",
    "    from sklearn.svm import SVC # 支持向量机\n",
    "    from sklearn.ensemble import RandomForestClassifier # 随机森林\n",
    "    from sklearn.ensemble import AdaBoostClassifier # AdaBoost\n",
    "    from sklearn.linear_model import LogisticRegression # Logistic 回归\n",
    "    from keras.models import Sequential # 序贯模型\n",
    "    from keras.layers.core import Dense,Activation # 稠密层、激活函数\n",
    "    from tensorflow.keras.optimizers import SGD # 随机梯度下降\n",
    "    from matplotlib import pyplot as plt # 绘图包\n",
    "    f = open(\".\\\\output\\\\NNLog.log\", 'a') # 自动文件指针打开待写入文件\n",
    "    mdl = Sequential()\n",
    "    mdl.add(Dense(50, input_dim=len(f_v[0]))) # 输入层：指定隐含层神经元个数为 50\n",
    "    mdl.add(Activation(\"sigmoid\")) # 激活函数\n",
    "    mdl.add(Dense(2)) # 输出层\n",
    "    mdl.add(Activation(\"softmax\")) # 归一化\n",
    "    sgd = SGD(lr=0.05) # 学习率\n",
    "    mdl.compile(loss=\"mean_squared_error\", optimizer=\"adam\") # 编译: 损失函数-均方误差、优化器-亚当优化器\n",
    "    history = mdl.fit(X_train, np.array([[0,1] if i == 1 else [1,0] for i in Y_train]), epochs=10000, batch_size=8999, verbose=0)\n",
    "    print(\"History:\", dir(history), file=f) # \n",
    "    loss_val = history.history\n",
    "#     print(type(loss_val))\n",
    "#     print(type(loss_val['loss']))\n",
    "    print(\"Loss Function:\", loss_val, file=f) # 损失和评估值\n",
    "    f.close() # 关闭文件\n",
    "    xy_lst = [(X_train,Y_train), (X_validation,Y_validation), (X_test,Y_test)]\n",
    "    set_name = [\"Train:\", \"Validation:\", \"Test:\"]\n",
    "    for i in range(len(xy_lst)):\n",
    "        X_part = xy_lst[i][0]\n",
    "        Y_part = xy_lst[i][1]\n",
    "#         Y_pred = mdl.predict_classes(X_part)\n",
    "        Y_pred = mdl.predict(X_part)\n",
    "        Y_pred = np.argmax(Y_pred, axis=1)\n",
    "        print(i, set_name[i])\n",
    "        print(\"NN\", \"- ACC:\", accuracy_score(Y_part, Y_pred))\n",
    "        print(\"NN\", \"- REC:\", recall_score(Y_part, Y_pred))\n",
    "        print(\"NN\", \"- F1:\", f1_score(Y_part, Y_pred))\n",
    "    # 绘制损失函数曲线\n",
    "    plt.figure()\n",
    "    plt.plot(loss_val['loss'])\n",
    "    plt.title(\"Loss Function\")\n",
    "    plt.xlabel(\"Epochs\")\n",
    "    plt.ylabel(\"MSE Value\")\n",
    "    return \n",
    "    \n",
    "    models = [] # 初始化存放模型的元组\n",
    "    \n",
    "#     models.append((\"KNN\", KNeighborsClassifier(n_neighbors=3))) # KNN\n",
    "#     models.append((\"GaussianNB\", GaussianNB())) # Gaussian Naive Bayes\n",
    "#     models.append((\"BernoulliNB\", BernoulliNB())) # BernoulliNB Naive Bayes\n",
    "#     models.append((\"DecisionTreeGini\", DecisionTreeClassifier())) # 决策树：Gini 系数\n",
    "#     models.append((\"DecisionTreeEntropy\", DecisionTreeClassifier(criterion=\"entropy\"))) # 决策树：信息熵\n",
    "#     models.append((\"SVM Classifier\", SVC(C=1000))) # 支持向量机：C 值越大模型越准确，计算时间越长\n",
    "    models.append((\"OriginalRandomForest\", RandomForestClassifier())) # 随机森林\n",
    "#     models.append((\"RandomForest\", RandomForestClassifier(n_estimators=11, max_features=None))) # 随机森林\n",
    "#     models.append((\"AdaBoost\", AdaBoostClassifier())) # AdaBoost\n",
    "    models.append((\"LogisticRegression\", LogisticRegression(max_iter=10000))) # Logistic 回归\n",
    "    for clf_name,clf in models:\n",
    "        print(\"++++\", clf_name, \"++++\")\n",
    "        clf.fit(X_train, Y_train)\n",
    "        xy_lst = [(X_train,Y_train), (X_validation,Y_validation), (X_test,Y_test)]\n",
    "        set_name = [\"Train:\", \"Validation:\", \"Test:\"]\n",
    "        for i in range(len(xy_lst)):\n",
    "            X_part = xy_lst[i][0]\n",
    "            Y_part = xy_lst[i][1]\n",
    "            Y_pred = clf.predict(X_part)\n",
    "#             print(i)\n",
    "            print(i, set_name[i])\n",
    "            print(clf_name, \"- ACC:\", accuracy_score(Y_part, Y_pred))\n",
    "            print(clf_name, \"- REC:\", recall_score(Y_part, Y_pred))\n",
    "            print(clf_name, \"- F1:\", f1_score(Y_part, Y_pred))\n",
    "\n"
   ]
  },
  {
   "cell_type": "code",
   "execution_count": 107,
   "metadata": {
    "ExecuteTime": {
     "end_time": "2021-11-26T10:17:48.032735Z",
     "start_time": "2021-11-26T10:16:25.967451Z"
    }
   },
   "outputs": [
    {
     "name": "stdout",
     "output_type": "stream",
     "text": [
      "8999 3000 3000\n"
     ]
    },
    {
     "name": "stderr",
     "output_type": "stream",
     "text": [
      "C:\\Users\\kisso\\.conda\\envs\\tensorflow_gpu\\lib\\site-packages\\keras\\optimizer_v2\\gradient_descent.py:102: UserWarning: The `lr` argument is deprecated, use `learning_rate` instead.\n",
      "  super(SGD, self).__init__(name, **kwargs)\n"
     ]
    },
    {
     "name": "stdout",
     "output_type": "stream",
     "text": [
      "0 Train:\n",
      "NN - ACC: 0.9733303700411157\n",
      "NN - REC: 0.9168224299065421\n",
      "NN - F1: 0.9423631123919308\n",
      "1 Validation:\n",
      "NN - ACC: 0.972\n",
      "NN - REC: 0.925035360678925\n",
      "NN - F1: 0.9396551724137931\n",
      "2 Test:\n",
      "NN - ACC: 0.9653333333333334\n",
      "NN - REC: 0.899171270718232\n",
      "NN - F1: 0.9260312944523471\n"
     ]
    },
    {
     "data": {
      "image/png": "[encoded data removed]",
      "text/plain": [
       "<Figure size 432x288 with 1 Axes>"
      ]
     },
     "metadata": {
      "needs_background": "light"
     },
     "output_type": "display_data"
    }
   ],
   "source": [
    "## main\n",
    "def main():\n",
    "    features,label = hr_preprocessing()\n",
    "    hr_modeling(features, label)\n",
    "    \n",
    "if __name__ == \"__main__\":\n",
    "    main()\n",
    "    \n"
   ]
  },
  {
   "cell_type": "code",
   "execution_count": 9,
   "metadata": {
    "ExecuteTime": {
     "end_time": "2021-11-26T07:10:21.359172Z",
     "start_time": "2021-11-26T07:10:21.352178Z"
    }
   },
   "outputs": [
    {
     "data": {
      "text/plain": [
       "'c:\\\\programdata\\\\miniconda3\\\\python.exe'"
      ]
     },
     "execution_count": 9,
     "metadata": {},
     "output_type": "execute_result"
    }
   ],
   "source": [
    "import sys\n",
    "sys.executable"
   ]
  },
  {
   "cell_type": "markdown",
   "metadata": {},
   "source": [
    "## 回归：回归树与提升树\n",
    "- GBDT(Gradient Boosting Decision Tree)\n",
    "\n",
    "<img style=\"float: center;\" src=\".\\figures\\GBDT.png\" width=50%>\n",
    "<center>Fig. GBDT</center>\n",
    "\n",
    "<img style=\"float: center;\" src=\".\\figures\\GBDT2.png\" width=50%>\n",
    "<center>Fig. GBDT</center>\n",
    "\n",
    "<img style=\"float: center;\" src=\".\\figures\\GBDT3.png\" width=50%>\n",
    "<center>Fig. GBDT</center>\n",
    "\n"
   ]
  },
  {
   "cell_type": "code",
   "execution_count": 80,
   "metadata": {
    "ExecuteTime": {
     "end_time": "2021-11-23T13:38:27.759172Z",
     "start_time": "2021-11-23T13:38:27.735262Z"
    }
   },
   "outputs": [],
   "source": [
    "# %load \".\\\\code\\\\load_hr_modeling.py\"\n",
    "## 建模分析\n",
    "def hr_modeling(features, label):\n",
    "    from sklearn.model_selection import train_test_split\n",
    "    f_v = features.values # 特征值\n",
    "    f_names = features.columns.values # 特征名\n",
    "    l_v = label.values # 标注\n",
    "    # 测试集：X_tt, Y_tt\n",
    "    # 验证集：X_validation, Y_validation\n",
    "    X_tt,X_validation,Y_tt,Y_validation = train_test_split(f_v, l_v, test_size=0.2)\n",
    "    X_train,X_test,Y_train,Y_test = train_test_split(X_tt, Y_tt, test_size=0.25)\n",
    "    print(len(X_train), len(X_validation), len(X_test))\n",
    "    \n",
    "    ## 模型构建\n",
    "    from sklearn.metrics import accuracy_score,recall_score,f1_score # 模型评价\n",
    "    from sklearn.neighbors import NearestNeighbors,KNeighborsClassifier # KNN\n",
    "    from sklearn.naive_bayes import GaussianNB,BernoulliNB # 高斯朴素贝叶斯、伯努利朴素贝叶斯\n",
    "    from sklearn.tree import DecisionTreeClassifier # 决策树\n",
    "    from sklearn.svm import SVC # 支持向量机\n",
    "    from sklearn.ensemble import RandomForestClassifier # 随机森林\n",
    "    from sklearn.ensemble import AdaBoostClassifier # AdaBoost\n",
    "    from sklearn.linear_model import LogisticRegression # Logistic 回归\n",
    "    from sklearn.ensemble import GradientBoostingClassifier # GDBT 回归树\n",
    "#     from keras.models import Sequential # 序贯模型\n",
    "#     from keras.layers.core import Dense,Activation # 稠密层、激活函数\n",
    "#     from keras.optimizers import SGD # 随机梯度下降\n",
    "#     mdl = Sequential()\n",
    "#     mdl.add(Dense(50, input_dim=len(f_v[0]))) # 输入层：指定隐含层神经元个数为 50\n",
    "#     mdl.add(Activation(\"sigmoid\")) # 激活函数\n",
    "#     mdl.add(Dense(2)) # 输出层\n",
    "#     mdl.add(Activation(\"softmax\")) # 归一化\n",
    "#     sgd = SGD(lr=0.05) # 学习率\n",
    "#     mdl.complie(loss=\"mean_squared_error\", optimizer=\"adam\") # 编译: 损失函数-均方误差、优化器-亚当优化器\n",
    "#     mdl.fit(X_train, np.array([[0,1] if i == 1 else [1,0] for i in Y_train]), nb_epoch=10000, batch_size=8999)\n",
    "#     xy_lst = [(X_train,Y_train), (X_validation,Y_validation), (X_test,Y_test)]\n",
    "#     set_name = [\"Train:\", \"Validation:\", \"Test:\"]\n",
    "#     for i in range(len(xy_lst)):\n",
    "#         X_part = xy_lst[i][0]\n",
    "#         Y_part = xy_lst[i][1]\n",
    "#         Y_pred = mdl.predict_classes(X_part)\n",
    "#         print(i, set_name[i])\n",
    "#         print(\"NN\", \"- ACC:\", accuracy_score(Y_part, Y_pred))\n",
    "#         print(\"NN\", \"- REC:\", recall_score(Y_part, Y_pred))\n",
    "#         print(\"NN\", \"- F1:\", f1_score(Y_part, Y_pred))\n",
    "#     return \n",
    "    \n",
    "    models = [] # 初始化存放模型的列表\n",
    "    \n",
    "#     models.append((\"KNN\", KNeighborsClassifier(n_neighbors=3))) # KNN\n",
    "#     models.append((\"GaussianNB\", GaussianNB())) # Gaussian Naive Bayes\n",
    "#     models.append((\"BernoulliNB\", BernoulliNB())) # BernoulliNB Naive Bayes\n",
    "#     models.append((\"DecisionTreeGini\", DecisionTreeClassifier())) # 决策树：Gini 系数\n",
    "#     models.append((\"DecisionTreeEntropy\", DecisionTreeClassifier(criterion=\"entropy\"))) # 决策树：信息熵\n",
    "#     models.append((\"SVM Classifier\", SVC(C=1000))) # 支持向量机：C 值越大模型越准确，计算时间越长\n",
    "    models.append((\"OriginalRandomForest\", RandomForestClassifier())) # 随机森林\n",
    "#     models.append((\"RandomForest\", RandomForestClassifier(n_estimators=11, max_features=None))) # 随机森林\n",
    "#     models.append((\"AdaBoost\", AdaBoostClassifier())) # AdaBoost\n",
    "    models.append((\"LogisticRegression\", LogisticRegression(max_iter=10000))) # Logistic 回归\n",
    "    models.append((\"GDBT\", GradientBoostingClassifier(max_depth=6, n_estimators=100))) # GDBT 回归树\n",
    "    for clf_name,clf in models:\n",
    "        print(\"++++\", clf_name, \"++++\")\n",
    "        clf.fit(X_train, Y_train)\n",
    "        xy_lst = [(X_train,Y_train), (X_validation,Y_validation), (X_test,Y_test)]\n",
    "        set_name = [\"Train:\", \"Validation:\", \"Test:\"]\n",
    "        for i in range(len(xy_lst)):\n",
    "            X_part = xy_lst[i][0]\n",
    "            Y_part = xy_lst[i][1]\n",
    "            Y_pred = clf.predict(X_part)\n",
    "#             print(i)\n",
    "            print(i, set_name[i])\n",
    "            print(clf_name, \"- ACC:\", accuracy_score(Y_part, Y_pred))\n",
    "            print(clf_name, \"- REC:\", recall_score(Y_part, Y_pred))\n",
    "            print(clf_name, \"- F1:\", f1_score(Y_part, Y_pred))\n",
    "\n"
   ]
  },
  {
   "cell_type": "code",
   "execution_count": 81,
   "metadata": {
    "ExecuteTime": {
     "end_time": "2021-11-23T13:38:46.222363Z",
     "start_time": "2021-11-23T13:38:42.528325Z"
    }
   },
   "outputs": [
    {
     "name": "stdout",
     "output_type": "stream",
     "text": [
      "8999 3000 3000\n",
      "++++ OriginalRandomForest ++++\n",
      "0 Train:\n",
      "OriginalRandomForest - ACC: 1.0\n",
      "OriginalRandomForest - REC: 1.0\n",
      "OriginalRandomForest - F1: 1.0\n",
      "1 Validation:\n",
      "OriginalRandomForest - ACC: 0.9896666666666667\n",
      "OriginalRandomForest - REC: 0.9620786516853933\n",
      "OriginalRandomForest - F1: 0.9778729478943612\n",
      "2 Test:\n",
      "OriginalRandomForest - ACC: 0.99\n",
      "OriginalRandomForest - REC: 0.9581529581529582\n",
      "OriginalRandomForest - F1: 0.9779086892488955\n",
      "++++ LogisticRegression ++++\n",
      "0 Train:\n",
      "LogisticRegression - ACC: 0.7883098122013557\n",
      "LogisticRegression - REC: 0.34164358264081257\n",
      "LogisticRegression - F1: 0.43722304283604135\n",
      "1 Validation:\n",
      "LogisticRegression - ACC: 0.7856666666666666\n",
      "LogisticRegression - REC: 0.31320224719101125\n",
      "LogisticRegression - F1: 0.40955004591368227\n",
      "2 Test:\n",
      "LogisticRegression - ACC: 0.7863333333333333\n",
      "LogisticRegression - REC: 0.30735930735930733\n",
      "LogisticRegression - F1: 0.39925023430178064\n",
      "++++ GDBT ++++\n",
      "0 Train:\n",
      "GDBT - ACC: 0.994332703633737\n",
      "GDBT - REC: 0.9801477377654663\n",
      "GDBT - F1: 0.9881312543635095\n",
      "1 Validation:\n",
      "GDBT - ACC: 0.9853333333333333\n",
      "GDBT - REC: 0.9536516853932584\n",
      "GDBT - F1: 0.9686162624821683\n",
      "2 Test:\n",
      "GDBT - ACC: 0.983\n",
      "GDBT - REC: 0.950937950937951\n",
      "GDBT - F1: 0.9627465303140978\n"
     ]
    }
   ],
   "source": [
    "## main\n",
    "def main():\n",
    "    features,label = hr_preprocessing()\n",
    "    hr_modeling(features, label)\n",
    "    \n",
    "if __name__ == \"__main__\":\n",
    "    main()\n",
    "    \n"
   ]
  },
  {
   "cell_type": "markdown",
   "metadata": {},
   "source": [
    "## 聚类\n",
    "> 分类和回归都属于有监督学习，都有标注，为分类或回归任务提供指引  \n",
    "> 聚类和关联规则属于无监督学习，旨在为数据打标注  \n",
    "\n",
    "- 聚类：将集合分成由类似的对象组成的多个类的过程\n"
   ]
  },
  {
   "cell_type": "markdown",
   "metadata": {},
   "source": [
    "### K-means\n",
    "> 基于切割\n",
    "\n",
    "- 所有类都有一个中心，属于一个类的点到它的中心的距离相比于其他类的中心更近\n",
    "\n",
    "<img style=\"float: center;\" src=\".\\figures\\K-means.png\" width=25%>\n",
    "<center>Fig. K-means</center>\n",
    "\n",
    "- 算法流程：\n",
    "    1. 从 n 个样本中随机选取 k 个作为初始质心\n",
    "    2. 对每个样本测量其到每个质心的距离，并把它归到最近的质心的类\n",
    "    3. 重新计算得到的各个类的质心\n",
    "    4. 迭代 2~3 步直至新的质心与前一个质心相等或小于指定的阈值，算法结束\n",
    "- 缺点：\n",
    "    - 初始质心位置会影响最终聚类效果\n",
    "        - 方法：多尝试几次，取最稳定结果\n",
    "    - 个别离群值会影响整体聚类效果\n",
    "        - 将取质心换成取中点（K-Medoids）\n",
    "    - 必须指定 K（聚类个数）\n",
    "        - 其他衡量因子辅助（如轮廓系数）\n"
   ]
  },
  {
   "cell_type": "code",
   "execution_count": 1,
   "metadata": {
    "ExecuteTime": {
     "end_time": "2021-11-24T05:14:57.269049Z",
     "start_time": "2021-11-24T05:14:55.966311Z"
    }
   },
   "outputs": [],
   "source": [
    "## 导包\n",
    "import numpy as np # 数值计算\n",
    "import matplotlib.pyplot as plt # 绘图"
   ]
  },
  {
   "cell_type": "code",
   "execution_count": 2,
   "metadata": {
    "ExecuteTime": {
     "end_time": "2021-11-24T05:15:13.718964Z",
     "start_time": "2021-11-24T05:15:09.111428Z"
    }
   },
   "outputs": [],
   "source": [
    "from sklearn.datasets import make_circles,make_blobs,make_moons # 引用数据集\n",
    "from sklearn.cluster import KMeans # K-means"
   ]
  },
  {
   "cell_type": "code",
   "execution_count": 89,
   "metadata": {
    "ExecuteTime": {
     "end_time": "2021-11-23T14:43:25.796944Z",
     "start_time": "2021-11-23T14:40:16.785493Z"
    }
   },
   "outputs": [
    {
     "data": {
      "image/png": "[encoded data removed]",
      "text/plain": [
       "<Figure size 432x288 with 9 Axes>"
      ]
     },
     "metadata": {
      "needs_background": "light"
     },
     "output_type": "display_data"
    }
   ],
   "source": [
    "n_samples = 1000 # 样本数\n",
    "circles = make_circles(n_samples=n_samples, factor=0.5, noise=0.05)\n",
    "moons = make_moons(n_samples=n_samples, noise=0.05)\n",
    "blobs = make_blobs(n_samples=n_samples, random_state=8)\n",
    "random_data = np.random.rand(n_samples, 2), None\n",
    "colors = \"bgrcmyk\" # 绘图色系\n",
    "data = [circles,moons,blobs,random_data]\n",
    "models = [(\"None\", None), (\"Kmeans\", KMeans(n_clusters=3))]\n",
    "f = plt.figure()\n",
    "for inx,clt in enumerate(models):\n",
    "    clt_name,clt_entity = clt\n",
    "    for i,dataset in enumerate(data):\n",
    "        X,Y = dataset\n",
    "        if not clt_entity:\n",
    "            clt_res = [0 for item in range(len(X))]\n",
    "        else:\n",
    "            clt_entity.fit(X)\n",
    "            clt_res = clt_entity.labels_.astype(np.int)\n",
    "        plt.title(clt_name)\n",
    "        f.add_subplot(len(models), len(data), inx*len(data)+i+1)\n",
    "        [plt.scatter(X[p,0], X[p,1], color=colors[clt_res[p]]) for p in range(len(X))]\n",
    "plt.show()"
   ]
  },
  {
   "cell_type": "markdown",
   "metadata": {},
   "source": [
    "### DBSCAN\n",
    "> 基于密度  \n",
    "\n",
    "- DBSCAN(Density-Based Spatial Clustering of Applications with Noise)：找到密度相连对象的最大集合\n",
    "- E 领域：给定对象半径为 E 内的区域称为该对象的 E 领域\n",
    "- 核心对象：如果给定对象 E 领域内的样本点数大于等于 MinPts，则称该对象为核心对象\n",
    "- 直接密度可达：对于样本集合 D，如果样本点 q 在 p 的 E 领域内，并且 p 为核心对象，那么对象 q 从对象 p 直接密度可达\n",
    "- 密度可达：对于样本集合 D，给定一串样本点 p1,p2,...,pn，p=p1, q= pn, 假如对象 pi 从pi-1 直接密度可达，那么对象 q 从对象 p 密度可达\n",
    "- 密度相连：存在样本集合 D 中的一点 o，如果对象 o 到对象 p 和对象 q 都是密度可达的，那么 p 和 q 密度相连\n",
    "\n",
    "<img style=\"float: center;\" src=\".\\figures\\DBSCAN.png\" width=50%>\n",
    "<center>Fig. DBSCAN</center>\n",
    "\n"
   ]
  },
  {
   "cell_type": "markdown",
   "metadata": {},
   "source": [
    "- Tips:\n",
    "    - 优点：离群点较不敏感\n",
    "    - 计算一个点的相邻点较复杂：需要 KD-Tree 等数据几个辅助\n",
    "    "
   ]
  },
  {
   "cell_type": "code",
   "execution_count": 3,
   "metadata": {
    "ExecuteTime": {
     "end_time": "2021-11-24T05:15:18.392637Z",
     "start_time": "2021-11-24T05:15:18.377646Z"
    }
   },
   "outputs": [],
   "source": [
    "from sklearn.cluster import KMeans,DBSCAN # K-means、DBSCAN"
   ]
  },
  {
   "cell_type": "code",
   "execution_count": 99,
   "metadata": {
    "ExecuteTime": {
     "end_time": "2021-11-23T15:15:46.192992Z",
     "start_time": "2021-11-23T15:13:01.197828Z"
    }
   },
   "outputs": [
    {
     "data": {
      "image/png": "[encoded data removed]",
      "text/plain": [
       "<Figure size 432x288 with 9 Axes>"
      ]
     },
     "metadata": {
      "needs_background": "light"
     },
     "output_type": "display_data"
    }
   ],
   "source": [
    "n_samples = 1000 # 样本数\n",
    "circles = make_circles(n_samples=n_samples, factor=0.5, noise=0.05)\n",
    "moons = make_moons(n_samples=n_samples, noise=0.05)\n",
    "blobs = make_blobs(n_samples=n_samples, random_state=8, center_box=(-1,1), cluster_std=0.1)\n",
    "random_data = np.random.rand(n_samples, 2), None\n",
    "colors = \"bgrcmyk\" # 绘图色系\n",
    "data = [circles,moons,blobs,random_data]\n",
    "models = [(\"Kmeans\", KMeans(n_clusters=3)), (\"DBSCAN\", DBSCAN(min_samples=3, eps=0.2))]\n",
    "# models = [(\"DBSCAN\", DBSCAN(min_sampls=3, eps=0.5))]\n",
    "f = plt.figure()\n",
    "for inx,clt in enumerate(models):\n",
    "    clt_name,clt_entity = clt\n",
    "    for i,dataset in enumerate(data):\n",
    "        X,Y = dataset\n",
    "        if not clt_entity:\n",
    "            clt_res = [0 for item in range(len(X))]\n",
    "        else:\n",
    "            clt_entity.fit(X)\n",
    "            clt_res = clt_entity.labels_.astype(np.int)\n",
    "        plt.title(clt_name)\n",
    "        f.add_subplot(len(models), len(data), inx*len(data)+i+1)\n",
    "        [plt.scatter(X[p,0], X[p,1], color=colors[clt_res[p]]) for p in range(len(X))]\n",
    "plt.show()"
   ]
  },
  {
   "cell_type": "markdown",
   "metadata": {},
   "source": [
    "### 层次聚类\n",
    "\n",
    "- 层次聚类：\n",
    "\n",
    "<img style=\"float: center;\" src=\".\\figures\\层次聚类.png\" width=50%>\n",
    "<center>Fig. 层次聚类</center>\n",
    "\n",
    "- 距离衡量：\n",
    "    - 最短距离\n",
    "    - 最长距离\n",
    "    - 平均距离\n",
    "    - Ward：$$ESS = \\sum^n_{i=1}x^2_i-\\frac{1}{n}(\\sum^n_{i=1}x_i)^2$$\n",
    "- Tips:\n",
    "    - 优点：聚类灵活\n",
    "    - 缺点：计算复杂度比较高，离群点影响比较大\n"
   ]
  },
  {
   "cell_type": "code",
   "execution_count": 4,
   "metadata": {
    "ExecuteTime": {
     "end_time": "2021-11-24T05:15:36.837615Z",
     "start_time": "2021-11-24T05:15:36.821628Z"
    }
   },
   "outputs": [],
   "source": [
    "from sklearn.cluster import KMeans,DBSCAN,AgglomerativeClustering # K-means、DBSCAN、层次聚类"
   ]
  },
  {
   "cell_type": "code",
   "execution_count": 5,
   "metadata": {
    "ExecuteTime": {
     "end_time": "2021-11-24T05:26:04.486300Z",
     "start_time": "2021-11-24T05:19:26.215831Z"
    }
   },
   "outputs": [
    {
     "data": {
      "image/png": "[encoded data removed]",
      "text/plain": [
       "<Figure size 432x288 with 17 Axes>"
      ]
     },
     "metadata": {
      "needs_background": "light"
     },
     "output_type": "display_data"
    }
   ],
   "source": [
    "n_samples = 1000 # 样本数\n",
    "circles = make_circles(n_samples=n_samples, factor=0.5, noise=0.05)\n",
    "moons = make_moons(n_samples=n_samples, noise=0.05)\n",
    "blobs = make_blobs(n_samples=n_samples, random_state=8, center_box=(-1,1), cluster_std=0.1)\n",
    "random_data = np.random.rand(n_samples, 2), None\n",
    "colors = \"bgrcmyk\" # 绘图色系\n",
    "data = [circles,moons,blobs,random_data]\n",
    "models = [(\"None\", None), \n",
    "          (\"Kmeans\", KMeans(n_clusters=3)), \n",
    "          (\"DBSCAN\", DBSCAN(min_samples=3, eps=0.2)), \n",
    "          (\"Agglomerative\", AgglomerativeClustering(n_clusters=3, linkage=\"ward\"))]\n",
    "f = plt.figure()\n",
    "for inx,clt in enumerate(models):\n",
    "    clt_name,clt_entity = clt\n",
    "    for i,dataset in enumerate(data):\n",
    "        X,Y = dataset\n",
    "        if not clt_entity:\n",
    "            clt_res = [0 for item in range(len(X))]\n",
    "        else:\n",
    "            clt_entity.fit(X)\n",
    "            clt_res = clt_entity.labels_.astype(np.int)\n",
    "        plt.title(clt_name)\n",
    "        f.add_subplot(len(models), len(data), inx*len(data)+i+1)\n",
    "        [plt.scatter(X[p,0], X[p,1], color=colors[clt_res[p]]) for p in range(len(X))]\n",
    "plt.show()"
   ]
  },
  {
   "cell_type": "markdown",
   "metadata": {},
   "source": [
    "### 图分裂（Split）\n",
    "> 基于图\n",
    "\n",
    "- 承受系数：$$t = \\frac{min(W_1,W_2)}{n}$$\n",
    "- 分裂阈值：$$\\lambda = \\frac{1}{2}e^{\\frac{x}{y}}$$\n",
    "    - 其中，x：边数、y：点数\n",
    "    \n",
    "    <img style=\"float: center;\" src=\".\\figures\\图分裂.png\" width=50%>\n",
    "    <center>Fig. 图分裂</center>\n"
   ]
  },
  {
   "cell_type": "markdown",
   "metadata": {},
   "source": [
    "## 关联规则\n",
    "> 反映一个事物与其他事物之间的相互依存性和关联性  \n",
    "\n",
    "- **项目**：一个字段，对交易来说一般是指一次交易中的一个物品\n",
    "- **事务**：某个客户在一次交易中，发生的所有项目的集合（**全集**）\n",
    "- **项集**：包含若干个项目的集合（一次事务中的），是事务的**子集**\n",
    "- **频繁项集**：某个项集的支持度大于设定阈值（认为设定或依据数据分布和经验来设定），即称这个项集为频繁项集\n",
    "- **支持度（Support）**：项集 $\\{ X,Y \\}$ 在总项集中出现的概率\n",
    "- **置信度（Condfidence）**：在先决条件 $X$ 发生的条件下，由关联规则 $\\{ X\\rightarrow Y \\}$ 推出 $Y$ 的概率\n",
    "- **提升度**：表示含有 $X$ 的条件下同时含有 $Y$ 的概率，与无论是否含 $X$ 只要含 $Y$ 的概率之比$$\\frac{Confidence(\\{X\\}\\rightarrow\\{Y\\}}{Support(\\{Y\\})})$$\n"
   ]
  },
  {
   "cell_type": "markdown",
   "metadata": {},
   "source": [
    "- 例子：\n",
    "\n",
    "<img style=\"float: center;\" src=\".\\figures\\啤酒尿布.png\" width=70%>\n",
    "<center>Fig. 啤酒-尿布</center>\n",
    "\n",
    "<img style=\"float: center;\" src=\".\\figures\\牛奶咖啡.png\" width=70%>\n",
    "<center>Fig. 牛奶-咖啡</center>\n"
   ]
  },
  {
   "cell_type": "markdown",
   "metadata": {},
   "source": [
    "- Apriori\n",
    "\n",
    "<img style=\"float: center;\" src=\".\\figures\\Apriori.png\" width=50%>\n",
    "<center>Fig. Apriori</center>\n",
    "\n"
   ]
  },
  {
   "cell_type": "markdown",
   "metadata": {},
   "source": [
    "- Apriori 算法框架\n",
    "\n",
    "<img style=\"float: center;\" src=\".\\figures\\Apriori算法框架.png\" width=70%>\n",
    "<center>Fig. Apriori 算法框架</center>\n"
   ]
  },
  {
   "cell_type": "code",
   "execution_count": 32,
   "metadata": {
    "ExecuteTime": {
     "end_time": "2021-11-24T07:49:34.848110Z",
     "start_time": "2021-11-24T07:49:34.835117Z"
    }
   },
   "outputs": [],
   "source": [
    "## 定义类：关联规则\n",
    "class AssctAnaclass():\n",
    "    def fit(self, data):\n",
    "        self.apr_blk = AprBlk(data)\n",
    "        return self\n",
    "    def get_freq(self, thd=1, hd=1):\n",
    "        return self.apr_blk.getFreqItems(thd=thd, hd=hd)\n",
    "    def get_conf_high(self, thd, h_thd=10):\n",
    "        return self.apr_blk.getConf(low=False, h_thd=h_thd, l_thd=thd)\n",
    "    def get_conf__low(self, thd, hd, l_thd=1):\n",
    "        return self.apr_blk.getConf(h_thd=thd, l_thd=l_thd, hd=hd)\n",
    "    "
   ]
  },
  {
   "cell_type": "code",
   "execution_count": 33,
   "metadata": {
    "ExecuteTime": {
     "end_time": "2021-11-24T07:49:35.437525Z",
     "start_time": "2021-11-24T07:49:35.421526Z"
    }
   },
   "outputs": [],
   "source": [
    "## Apriori Block\n",
    "class AprBlk():\n",
    "    def __init__(self, data):\n",
    "        cnt = 0\n",
    "        self.apr_layers = dict()\n",
    "        self.data_num = len(data)\n",
    "        for datum in data:\n",
    "            cnt += 1\n",
    "            datum = comb(datum)\n",
    "            nodes = [AprNode(da) for da in datum]\n",
    "            for node in nodes:\n",
    "                if not node.size in self.apr_layers:\n",
    "                    self.apr_layers[node.size] = AprLayer()\n",
    "                if not node in self.apr_layers[node.size].d:\n",
    "                    self.apr_layers[node.size].d[node] = node\n",
    "                self.apr_layers[node.size].d[node].incNum()\n",
    "            for node in nodes:\n",
    "                if node.size == 1:\n",
    "                    continue\n",
    "                for sn in node.s:\n",
    "                    sub_n = AprNode(node.s-set([sn]))\n",
    "                    self.apr_layers[node.size-1].d[sub_n].addLnk(node)\n",
    "                    \n",
    "    def getFreqItems(self, thd=1, hd=1):\n",
    "        freq_items = []\n",
    "        for layer in self.apr_layers:\n",
    "            for node in self.apr_layers[layer].d:\n",
    "                if self.apr_layers[layer].d[node].num < thd:\n",
    "                    continue\n",
    "                freq_items.append((self.apr_layers[layer].d[node].s, self.apr_layers[layer].d[node].num))\n",
    "        freq_items.sort(key=lambda x: x[1], reverse=True)\n",
    "        return freq_items[:hd]\n",
    "    \n",
    "    def getConf(self, low=True, h_thd=10, l_thd=1, hd=1):\n",
    "        confidence = []\n",
    "        for layer in self.apr_layers:\n",
    "            for node in self.apr_layers[layer].d:\n",
    "                if self.apr_layers[layer].d[node].num < h_thd:\n",
    "                    continue\n",
    "                for lnk_node in node.lnk_nodes:\n",
    "                    if lnk_node.num < l_thd:\n",
    "                        continue\n",
    "                    conf = float(lnk_node.num)/float(node.num)\n",
    "                    confidence.append([node.s, node.num, lnk_node.s, lnk_node.num, conf])\n",
    "        confidence.sort(key=lambda x: x[4])\n",
    "        if low:\n",
    "            return confidence[:hd]\n",
    "        else:\n",
    "            return confidence[-hd::-1]\n",
    "                        "
   ]
  },
  {
   "cell_type": "code",
   "execution_count": 34,
   "metadata": {
    "ExecuteTime": {
     "end_time": "2021-11-24T07:49:35.974368Z",
     "start_time": "2021-11-24T07:49:35.957385Z"
    }
   },
   "outputs": [],
   "source": [
    "## \n",
    "from itertools import combinations\n",
    "def comb(lst):\n",
    "    ret =[]\n",
    "    for i in range(1, len(lst)+1):\n",
    "        ret += list(combinations(lst, i))\n",
    "    return ret\n"
   ]
  },
  {
   "cell_type": "code",
   "execution_count": 35,
   "metadata": {
    "ExecuteTime": {
     "end_time": "2021-11-24T07:49:36.498068Z",
     "start_time": "2021-11-24T07:49:36.490072Z"
    }
   },
   "outputs": [],
   "source": [
    "## \n",
    "class AprLayer(object):\n",
    "    d = dict()\n",
    "    def __init__(self):\n",
    "        self.d = dict()"
   ]
  },
  {
   "cell_type": "code",
   "execution_count": 36,
   "metadata": {
    "ExecuteTime": {
     "end_time": "2021-11-24T07:49:37.223575Z",
     "start_time": "2021-11-24T07:49:37.201591Z"
    }
   },
   "outputs": [],
   "source": [
    "## \n",
    "class AprNode(object):\n",
    "    def __init__(self, node):\n",
    "        self.s = set(node)\n",
    "        self.size = len(self.s)\n",
    "        self.lnk_nodes = dict()\n",
    "        self.num = 0\n",
    "    def __hash__(self):\n",
    "        return hash(\"__\".join(sorted([str(item) for item in list(self.s)])))\n",
    "    def __eq__(self, other):\n",
    "        if \"__\".join(sorted([str(item) for item in list(self.s)])) == \"__\".join(sorted([str(item) for item in list(other.s)])):\n",
    "            return True\n",
    "        return False\n",
    "    def isSubnode(self, node):\n",
    "        return self.s.isSubnode(node.s)\n",
    "    def incNum(self, num=1):\n",
    "        self.num += num\n",
    "    def addLnk(self, node):\n",
    "        self.lnk_nodes[node] = node.s\n",
    "    "
   ]
  },
  {
   "cell_type": "code",
   "execution_count": 37,
   "metadata": {
    "ExecuteTime": {
     "end_time": "2021-11-24T07:49:37.967310Z",
     "start_time": "2021-11-24T07:49:37.941324Z"
    }
   },
   "outputs": [
    {
     "name": "stdout",
     "output_type": "stream",
     "text": [
      "Freq [({'啤酒'}, 5), ({'尿布'}, 5), ({'尿布', '啤酒'}, 4), ({'牛奶'}, 3)]\n",
      "Conf [[{'尿布'}, 5, {'尿布', '啤酒'}, 4, 0.8], [{'啤酒'}, 5, {'尿布', '啤酒'}, 4, 0.8]]\n"
     ]
    }
   ],
   "source": [
    "## main 函数\n",
    "def main():\n",
    "    data = [[\"牛奶\",\"啤酒\",\"尿布\"],\n",
    "            [\"牛奶\",\"咖啡\",\"啤酒\",\"尿布\"],\n",
    "            [\"香肠\",\"牛奶\",\"饼干\"],\n",
    "            [\"尿布\",\"果汁\",\"啤酒\"],\n",
    "            [\"钉子\",\"啤酒\"],\n",
    "            [\"尿布\",\"毛巾\",\"香肠\"],\n",
    "            [\"啤酒\",\"毛巾\",\"尿布\",\"饼干\"]]\n",
    "    print(\"Freq\", AssctAnaclass().fit(data).get_freq(thd=3, hd=10))\n",
    "    print(\"Conf\", AssctAnaclass().fit(data).get_conf_high(thd=3, h_thd=3))\n",
    "    \n",
    "if __name__ == \"__main__\":\n",
    "    main()\n",
    "    "
   ]
  },
  {
   "cell_type": "markdown",
   "metadata": {},
   "source": [
    "## 序列规则\n",
    "> 序列规则将时间因素考虑进来，剔除关联规则中时间点靠后的项对时间点靠前的项的支持  \n",
    "\n",
    "- Apriori-All\n",
    "    - Forward: Apriori\n",
    "    - Backward: 去掉时间序列之后的项对之前的项的支持\n"
   ]
  },
  {
   "cell_type": "markdown",
   "metadata": {},
   "source": [
    "## 半监督学习\n",
    "> 样本集部分有标注，部分无标注（常远大于有标注样本）  \n",
    "\n",
    "- 获取标注的成本较大\n",
    "- 无标注样本可能很容易获得\n",
    "- 算法思想：\n",
    "    - 生成模型\n",
    "    - 判别模型（物以类聚）\n",
    "        - 标签传播算法\n",
    "        \n",
    "        <img style=\"float: center;\" src=\".\\figures\\标签传播算法.png\" width=25%>\n",
    "        <center>Fig. 标签传播算法</center>\n",
    "\n"
   ]
  },
  {
   "cell_type": "markdown",
   "metadata": {},
   "source": [
    "- Iris 数据集：\n",
    "| field | \n",
    "| :--- |\n",
    "| 花萼长度 | \n",
    "| 花萼宽度 | \n",
    "| 花瓣长度 | \n",
    "| 花瓣宽度 | \n",
    "| 种类：山鸢尾（Iris Setosa）、杂色鸢尾（Iris Versicolour）、维吉尼亚鸢尾（Iris Virginica）\n"
   ]
  },
  {
   "cell_type": "code",
   "execution_count": 82,
   "metadata": {
    "ExecuteTime": {
     "end_time": "2021-11-24T11:52:06.421700Z",
     "start_time": "2021-11-24T11:52:06.402691Z"
    }
   },
   "outputs": [],
   "source": [
    "## 导包\n",
    "import numpy as np # 数值计算"
   ]
  },
  {
   "cell_type": "code",
   "execution_count": 83,
   "metadata": {
    "ExecuteTime": {
     "end_time": "2021-11-24T11:52:07.056892Z",
     "start_time": "2021-11-24T11:52:07.024886Z"
    }
   },
   "outputs": [
    {
     "name": "stdout",
     "output_type": "stream",
     "text": [
      "Data Size: 150\n",
      "Unlabeled Number: 44\n"
     ]
    }
   ],
   "source": [
    "from sklearn import datasets # 数据集包\n",
    "iris = datasets.load_iris() # 导入鸢尾花数据集\n",
    "labels = np.copy(iris.target) # 复制标签\n",
    "print(\"Data Size:\", len(labels))\n",
    "# 随机生成未标注数据（标签为 -1）\n",
    "random_unlabeled_points = np.random.rand(len(iris.target))\n",
    "random_unlabeled_points = random_unlabeled_points < 0.3\n",
    "Y = labels[random_unlabeled_points]\n",
    "labels[random_unlabeled_points] = -1\n",
    "print(\"Unlabeled Number:\", list(labels).count(-1))"
   ]
  },
  {
   "cell_type": "code",
   "execution_count": 84,
   "metadata": {
    "ExecuteTime": {
     "end_time": "2021-11-24T11:52:07.906217Z",
     "start_time": "2021-11-24T11:52:07.886230Z"
    }
   },
   "outputs": [
    {
     "name": "stdout",
     "output_type": "stream",
     "text": [
      "[0 0 0 0 0 0 0 0 0 0 0 0 0 0 0 0 0 0 0 0 0 0 0 0 0 0 0 0 0 0 0 0 0 0 0 0 0\n",
      " 0 0 0 0 0 0 0 0 0 0 0 0 0 1 1 1 1 1 1 1 1 1 1 1 1 1 1 1 1 1 1 1 1 1 1 1 1\n",
      " 1 1 1 1 1 1 1 1 1 1 1 1 1 1 1 1 1 1 1 1 1 1 1 1 1 1 2 2 2 2 2 2 2 2 2 2 2\n",
      " 2 2 2 2 2 2 2 2 2 2 2 2 2 2 2 2 2 2 2 2 2 2 2 2 2 2 2 2 2 2 2 2 2 2 2 2 2\n",
      " 2 2]\n",
      "[ 0  0  0  0  0  0  0  0  0  0  0  0  0 -1 -1  0  0  0  0  0 -1  0 -1  0\n",
      "  0  0 -1  0  0  0 -1  0  0 -1 -1  0  0  0 -1  0  0 -1  0 -1 -1 -1  0  0\n",
      "  0  0 -1  1 -1  1  1  1 -1 -1  1  1  1  1 -1 -1 -1  1  1  1 -1  1 -1  1\n",
      "  1 -1  1  1  1  1  1  1  1  1  1  1  1  1 -1 -1  1  1 -1 -1 -1 -1 -1  1\n",
      "  1 -1  1  1  2 -1  2 -1  2  2  2  2  2  2  2  2 -1  2  2  2  2 -1  2  2\n",
      " -1 -1 -1  2 -1  2  2 -1  2  2  2 -1  2  2 -1  2  2 -1  2  2  2 -1  2  2\n",
      "  2  2  2  2  2  2]\n"
     ]
    }
   ],
   "source": [
    "print(iris.target)\n",
    "print(labels)"
   ]
  },
  {
   "cell_type": "code",
   "execution_count": 85,
   "metadata": {
    "ExecuteTime": {
     "end_time": "2021-11-24T11:52:08.992805Z",
     "start_time": "2021-11-24T11:52:08.937844Z"
    }
   },
   "outputs": [],
   "source": [
    "from sklearn.semi_supervised import LabelPropagation # 标签传播算法\n",
    "label_prop_model = LabelPropagation() # 模型：标签传播算法\n",
    "label_prop_model.fit(iris.data, labels) # 拟合\n",
    "Y_pred = label_prop_model.predict(iris.data) # 预测\n",
    "Y_pred = Y_pred[random_unlabeled_points]"
   ]
  },
  {
   "cell_type": "code",
   "execution_count": 86,
   "metadata": {
    "ExecuteTime": {
     "end_time": "2021-11-24T11:52:09.831607Z",
     "start_time": "2021-11-24T11:52:09.811619Z"
    }
   },
   "outputs": [
    {
     "name": "stdout",
     "output_type": "stream",
     "text": [
      "ACC: 0.9772727272727273\n",
      "REC: 0.9772727272727273\n",
      "F-Score: 0.9772727272727273\n"
     ]
    }
   ],
   "source": [
    "## 模型评价\n",
    "from sklearn.metrics import accuracy_score,recall_score,f1_score # 准确率、召回率、F 值\n",
    "print(\"ACC:\", accuracy_score(Y, Y_pred))\n",
    "print(\"REC:\", recall_score(Y, Y_pred, average=\"micro\"))\n",
    "print(\"F-Score:\", f1_score(Y, Y_pred, average=\"micro\"))"
   ]
  },
  {
   "cell_type": "markdown",
   "metadata": {},
   "source": [
    "## 小结\n",
    "- 分类：KNN、朴素贝叶斯、决策树、SVM、逻辑映射、GBDT、集成方法、神经网络\n",
    "- 回归：线性回归、逻辑回归、神经网络、回归树与提升树\n",
    "- 聚类：K-means、DBSCAN、AgglomerativeCluster、Split\n",
    "- 关联：关联规则、序列规则\n",
    "- 半监督：标签传播\n",
    "- [如何选择模型](https://scikit-learn.org/stable/tutorial/machine_learning_map/index.html): \n",
    "![模型选择](.\\\\figures\\\\ml_map.png)\n",
    "<center>Fig. 如何选择模型</center>\n"
   ]
  },
  {
   "cell_type": "code",
   "execution_count": null,
   "metadata": {},
   "outputs": [],
   "source": []
  }
 ],
 "metadata": {
  "interpreter": {
   "hash": "05e86bb7804783a258e1c7d83c3fdfd50688bc84895cc06bd98f31a469a290dc"
  },
  "kernelspec": {
   "display_name": "tensorflow_gpu",
   "language": "python",
   "name": "tensorflow_gpu"
  },
  "language_info": {
   "codemirror_mode": {
    "name": "ipython",
    "version": 3
   },
   "file_extension": ".py",
   "mimetype": "text/x-python",
   "name": "python",
   "nbconvert_exporter": "python",
   "pygments_lexer": "ipython3",
   "version": "3.9.7"
  },
  "toc": {
   "base_numbering": 1,
   "nav_menu": {
    "height": "171px",
    "width": "306px"
   },
   "number_sections": true,
   "sideBar": true,
   "skip_h1_title": false,
   "title_cell": "Table of Contents",
   "title_sidebar": "Contents",
   "toc_cell": false,
   "toc_position": {
    "height": "calc(100% - 180px)",
    "left": "10px",
    "top": "150px",
    "width": "198px"
   },
   "toc_section_display": true,
   "toc_window_display": true
  }
 },
 "nbformat": 4,
 "nbformat_minor": 4
}
