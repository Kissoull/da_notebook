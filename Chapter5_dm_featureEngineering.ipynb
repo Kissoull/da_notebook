{
 "cells": [
  {
   "cell_type": "markdown",
   "metadata": {},
   "source": [
    "# 数据挖掘 - 特征工程\n",
    "> 数据和特征决定了机器学习的上限，而模型和算法只是逼近这个上限而已。  \n",
    "\n",
    "- 流程：\n",
    "<img style=\"float: center;\" src=\"./figures/特征工程.png\" width=\"50%\">\n",
    "<center>Fig. 特征工程</center>\n"
   ]
  },
  {
   "cell_type": "markdown",
   "metadata": {},
   "source": [
    "## 数据清洗\n",
    "- 数据样本抽样\n",
    "    - 样本要具有代表性\n",
    "    - 样本比例要平衡、样本不平衡时如何处理\n",
    "    - 考虑全量数据\n",
    "\n",
    "- 异常值（空值）处理\n",
    "    - 识别异常值和重复值\n",
    "        - Pandas: isnull()/duplicated()\n",
    "    - 直接丢弃（包括重复数据）\n",
    "        - Pandas: drop()/dropna()/drop_duplicated()\n",
    "    - 将是否有异常当作一个新的属性，替代原值\n",
    "        - Pandas: fillna()\n",
    "    - 集中值指代\n",
    "        - Pandas: fillna()\n",
    "    - 边界值指代\n",
    "        - Pandas: fillna()\n",
    "    - 插值\n",
    "        - Pandas: interpolate()---Series\n"
   ]
  },
  {
   "cell_type": "code",
   "execution_count": 1,
   "metadata": {
    "ExecuteTime": {
     "end_time": "2021-11-23T06:52:26.549490Z",
     "start_time": "2021-11-23T06:52:25.390285Z"
    }
   },
   "outputs": [],
   "source": [
    "import numpy as np # 数值计算\n",
    "import pandas as pd # 数据分析"
   ]
  },
  {
   "cell_type": "code",
   "execution_count": 2,
   "metadata": {
    "ExecuteTime": {
     "end_time": "2021-11-23T06:52:34.933315Z",
     "start_time": "2021-11-23T06:52:34.881345Z"
    }
   },
   "outputs": [
    {
     "data": {
      "text/html": [
       "<div>\n",
       "<style scoped>\n",
       "    .dataframe tbody tr th:only-of-type {\n",
       "        vertical-align: middle;\n",
       "    }\n",
       "\n",
       "    .dataframe tbody tr th {\n",
       "        vertical-align: top;\n",
       "    }\n",
       "\n",
       "    .dataframe thead th {\n",
       "        text-align: right;\n",
       "    }\n",
       "</style>\n",
       "<table border=\"1\" class=\"dataframe\">\n",
       "  <thead>\n",
       "    <tr style=\"text-align: right;\">\n",
       "      <th></th>\n",
       "      <th>A</th>\n",
       "      <th>B</th>\n",
       "      <th>C</th>\n",
       "      <th>D</th>\n",
       "      <th>E</th>\n",
       "      <th>F</th>\n",
       "    </tr>\n",
       "  </thead>\n",
       "  <tbody>\n",
       "    <tr>\n",
       "      <th>0</th>\n",
       "      <td>a0</td>\n",
       "      <td>b0</td>\n",
       "      <td>1.0</td>\n",
       "      <td>0.1</td>\n",
       "      <td>10.0</td>\n",
       "      <td>f0</td>\n",
       "    </tr>\n",
       "    <tr>\n",
       "      <th>1</th>\n",
       "      <td>a1</td>\n",
       "      <td>b1</td>\n",
       "      <td>2.0</td>\n",
       "      <td>10.2</td>\n",
       "      <td>19.0</td>\n",
       "      <td>f1</td>\n",
       "    </tr>\n",
       "    <tr>\n",
       "      <th>2</th>\n",
       "      <td>a1</td>\n",
       "      <td>b2</td>\n",
       "      <td>NaN</td>\n",
       "      <td>11.4</td>\n",
       "      <td>32.0</td>\n",
       "      <td>g2</td>\n",
       "    </tr>\n",
       "    <tr>\n",
       "      <th>3</th>\n",
       "      <td>a2</td>\n",
       "      <td>b2</td>\n",
       "      <td>3.0</td>\n",
       "      <td>8.9</td>\n",
       "      <td>25.0</td>\n",
       "      <td>f3</td>\n",
       "    </tr>\n",
       "    <tr>\n",
       "      <th>4</th>\n",
       "      <td>a3</td>\n",
       "      <td>b3</td>\n",
       "      <td>4.0</td>\n",
       "      <td>9.1</td>\n",
       "      <td>8.0</td>\n",
       "      <td>f4</td>\n",
       "    </tr>\n",
       "    <tr>\n",
       "      <th>5</th>\n",
       "      <td>a4</td>\n",
       "      <td>None</td>\n",
       "      <td>5.0</td>\n",
       "      <td>12.0</td>\n",
       "      <td>NaN</td>\n",
       "      <td>f5</td>\n",
       "    </tr>\n",
       "  </tbody>\n",
       "</table>\n",
       "</div>"
      ],
      "text/plain": [
       "    A     B    C     D     E   F\n",
       "0  a0    b0  1.0   0.1  10.0  f0\n",
       "1  a1    b1  2.0  10.2  19.0  f1\n",
       "2  a1    b2  NaN  11.4  32.0  g2\n",
       "3  a2    b2  3.0   8.9  25.0  f3\n",
       "4  a3    b3  4.0   9.1   8.0  f4\n",
       "5  a4  None  5.0  12.0   NaN  f5"
      ]
     },
     "execution_count": 2,
     "metadata": {},
     "output_type": "execute_result"
    }
   ],
   "source": [
    "df = pd.DataFrame({\n",
    "    \"A\": [\"a0\", \"a1\", \"a1\", \"a2\", \"a3\", \"a4\"],\n",
    "    \"B\": [\"b0\", \"b1\", \"b2\", \"b2\", \"b3\", None],\n",
    "    \"C\": [1, 2, None, 3, 4, 5],\n",
    "    \"D\": [0.1, 10.2, 11.4, 8.9, 9.1, 12],\n",
    "    \"E\": [10, 19, 32, 25, 8, None],\n",
    "    \"F\": [\"f0\", \"f1\", \"g2\", \"f3\", \"f4\", \"f5\"]\n",
    "})\n",
    "df"
   ]
  },
  {
   "cell_type": "code",
   "execution_count": 3,
   "metadata": {
    "ExecuteTime": {
     "end_time": "2021-11-23T06:52:44.071756Z",
     "start_time": "2021-11-23T06:52:44.048772Z"
    }
   },
   "outputs": [
    {
     "data": {
      "text/html": [
       "<div>\n",
       "<style scoped>\n",
       "    .dataframe tbody tr th:only-of-type {\n",
       "        vertical-align: middle;\n",
       "    }\n",
       "\n",
       "    .dataframe tbody tr th {\n",
       "        vertical-align: top;\n",
       "    }\n",
       "\n",
       "    .dataframe thead th {\n",
       "        text-align: right;\n",
       "    }\n",
       "</style>\n",
       "<table border=\"1\" class=\"dataframe\">\n",
       "  <thead>\n",
       "    <tr style=\"text-align: right;\">\n",
       "      <th></th>\n",
       "      <th>A</th>\n",
       "      <th>B</th>\n",
       "      <th>C</th>\n",
       "      <th>D</th>\n",
       "      <th>E</th>\n",
       "      <th>F</th>\n",
       "    </tr>\n",
       "  </thead>\n",
       "  <tbody>\n",
       "    <tr>\n",
       "      <th>0</th>\n",
       "      <td>False</td>\n",
       "      <td>False</td>\n",
       "      <td>False</td>\n",
       "      <td>False</td>\n",
       "      <td>False</td>\n",
       "      <td>False</td>\n",
       "    </tr>\n",
       "    <tr>\n",
       "      <th>1</th>\n",
       "      <td>False</td>\n",
       "      <td>False</td>\n",
       "      <td>False</td>\n",
       "      <td>False</td>\n",
       "      <td>False</td>\n",
       "      <td>False</td>\n",
       "    </tr>\n",
       "    <tr>\n",
       "      <th>2</th>\n",
       "      <td>False</td>\n",
       "      <td>False</td>\n",
       "      <td>True</td>\n",
       "      <td>False</td>\n",
       "      <td>False</td>\n",
       "      <td>False</td>\n",
       "    </tr>\n",
       "    <tr>\n",
       "      <th>3</th>\n",
       "      <td>False</td>\n",
       "      <td>False</td>\n",
       "      <td>False</td>\n",
       "      <td>False</td>\n",
       "      <td>False</td>\n",
       "      <td>False</td>\n",
       "    </tr>\n",
       "    <tr>\n",
       "      <th>4</th>\n",
       "      <td>False</td>\n",
       "      <td>False</td>\n",
       "      <td>False</td>\n",
       "      <td>False</td>\n",
       "      <td>False</td>\n",
       "      <td>False</td>\n",
       "    </tr>\n",
       "    <tr>\n",
       "      <th>5</th>\n",
       "      <td>False</td>\n",
       "      <td>True</td>\n",
       "      <td>False</td>\n",
       "      <td>False</td>\n",
       "      <td>True</td>\n",
       "      <td>False</td>\n",
       "    </tr>\n",
       "  </tbody>\n",
       "</table>\n",
       "</div>"
      ],
      "text/plain": [
       "       A      B      C      D      E      F\n",
       "0  False  False  False  False  False  False\n",
       "1  False  False  False  False  False  False\n",
       "2  False  False   True  False  False  False\n",
       "3  False  False  False  False  False  False\n",
       "4  False  False  False  False  False  False\n",
       "5  False   True  False  False   True  False"
      ]
     },
     "execution_count": 3,
     "metadata": {},
     "output_type": "execute_result"
    }
   ],
   "source": [
    "df.isnull() # 返回空值"
   ]
  },
  {
   "cell_type": "code",
   "execution_count": 4,
   "metadata": {
    "ExecuteTime": {
     "end_time": "2021-11-23T06:52:53.483649Z",
     "start_time": "2021-11-23T06:52:53.432679Z"
    }
   },
   "outputs": [
    {
     "data": {
      "text/html": [
       "<div>\n",
       "<style scoped>\n",
       "    .dataframe tbody tr th:only-of-type {\n",
       "        vertical-align: middle;\n",
       "    }\n",
       "\n",
       "    .dataframe tbody tr th {\n",
       "        vertical-align: top;\n",
       "    }\n",
       "\n",
       "    .dataframe thead th {\n",
       "        text-align: right;\n",
       "    }\n",
       "</style>\n",
       "<table border=\"1\" class=\"dataframe\">\n",
       "  <thead>\n",
       "    <tr style=\"text-align: right;\">\n",
       "      <th></th>\n",
       "      <th>A</th>\n",
       "      <th>B</th>\n",
       "      <th>C</th>\n",
       "      <th>D</th>\n",
       "      <th>E</th>\n",
       "      <th>F</th>\n",
       "    </tr>\n",
       "  </thead>\n",
       "  <tbody>\n",
       "    <tr>\n",
       "      <th>0</th>\n",
       "      <td>a0</td>\n",
       "      <td>b0</td>\n",
       "      <td>1.0</td>\n",
       "      <td>0.1</td>\n",
       "      <td>10.0</td>\n",
       "      <td>f0</td>\n",
       "    </tr>\n",
       "    <tr>\n",
       "      <th>1</th>\n",
       "      <td>a1</td>\n",
       "      <td>b1</td>\n",
       "      <td>2.0</td>\n",
       "      <td>10.2</td>\n",
       "      <td>19.0</td>\n",
       "      <td>f1</td>\n",
       "    </tr>\n",
       "    <tr>\n",
       "      <th>3</th>\n",
       "      <td>a2</td>\n",
       "      <td>b2</td>\n",
       "      <td>3.0</td>\n",
       "      <td>8.9</td>\n",
       "      <td>25.0</td>\n",
       "      <td>f3</td>\n",
       "    </tr>\n",
       "    <tr>\n",
       "      <th>4</th>\n",
       "      <td>a3</td>\n",
       "      <td>b3</td>\n",
       "      <td>4.0</td>\n",
       "      <td>9.1</td>\n",
       "      <td>8.0</td>\n",
       "      <td>f4</td>\n",
       "    </tr>\n",
       "  </tbody>\n",
       "</table>\n",
       "</div>"
      ],
      "text/plain": [
       "    A   B    C     D     E   F\n",
       "0  a0  b0  1.0   0.1  10.0  f0\n",
       "1  a1  b1  2.0  10.2  19.0  f1\n",
       "3  a2  b2  3.0   8.9  25.0  f3\n",
       "4  a3  b3  4.0   9.1   8.0  f4"
      ]
     },
     "execution_count": 4,
     "metadata": {},
     "output_type": "execute_result"
    }
   ],
   "source": [
    "df.dropna() # 丢弃空值"
   ]
  },
  {
   "cell_type": "code",
   "execution_count": 5,
   "metadata": {
    "ExecuteTime": {
     "end_time": "2021-11-23T06:53:02.521257Z",
     "start_time": "2021-11-23T06:53:02.486276Z"
    }
   },
   "outputs": [
    {
     "data": {
      "text/html": [
       "<div>\n",
       "<style scoped>\n",
       "    .dataframe tbody tr th:only-of-type {\n",
       "        vertical-align: middle;\n",
       "    }\n",
       "\n",
       "    .dataframe tbody tr th {\n",
       "        vertical-align: top;\n",
       "    }\n",
       "\n",
       "    .dataframe thead th {\n",
       "        text-align: right;\n",
       "    }\n",
       "</style>\n",
       "<table border=\"1\" class=\"dataframe\">\n",
       "  <thead>\n",
       "    <tr style=\"text-align: right;\">\n",
       "      <th></th>\n",
       "      <th>A</th>\n",
       "      <th>B</th>\n",
       "      <th>C</th>\n",
       "      <th>D</th>\n",
       "      <th>E</th>\n",
       "      <th>F</th>\n",
       "    </tr>\n",
       "  </thead>\n",
       "  <tbody>\n",
       "    <tr>\n",
       "      <th>0</th>\n",
       "      <td>a0</td>\n",
       "      <td>b0</td>\n",
       "      <td>1.0</td>\n",
       "      <td>0.1</td>\n",
       "      <td>10.0</td>\n",
       "      <td>f0</td>\n",
       "    </tr>\n",
       "    <tr>\n",
       "      <th>1</th>\n",
       "      <td>a1</td>\n",
       "      <td>b1</td>\n",
       "      <td>2.0</td>\n",
       "      <td>10.2</td>\n",
       "      <td>19.0</td>\n",
       "      <td>f1</td>\n",
       "    </tr>\n",
       "    <tr>\n",
       "      <th>2</th>\n",
       "      <td>a1</td>\n",
       "      <td>b2</td>\n",
       "      <td>NaN</td>\n",
       "      <td>11.4</td>\n",
       "      <td>32.0</td>\n",
       "      <td>g2</td>\n",
       "    </tr>\n",
       "    <tr>\n",
       "      <th>3</th>\n",
       "      <td>a2</td>\n",
       "      <td>b2</td>\n",
       "      <td>3.0</td>\n",
       "      <td>8.9</td>\n",
       "      <td>25.0</td>\n",
       "      <td>f3</td>\n",
       "    </tr>\n",
       "    <tr>\n",
       "      <th>4</th>\n",
       "      <td>a3</td>\n",
       "      <td>b3</td>\n",
       "      <td>4.0</td>\n",
       "      <td>9.1</td>\n",
       "      <td>8.0</td>\n",
       "      <td>f4</td>\n",
       "    </tr>\n",
       "  </tbody>\n",
       "</table>\n",
       "</div>"
      ],
      "text/plain": [
       "    A   B    C     D     E   F\n",
       "0  a0  b0  1.0   0.1  10.0  f0\n",
       "1  a1  b1  2.0  10.2  19.0  f1\n",
       "2  a1  b2  NaN  11.4  32.0  g2\n",
       "3  a2  b2  3.0   8.9  25.0  f3\n",
       "4  a3  b3  4.0   9.1   8.0  f4"
      ]
     },
     "execution_count": 5,
     "metadata": {},
     "output_type": "execute_result"
    }
   ],
   "source": [
    "df.dropna(subset=[\"B\"]) # 丢弃\"B\"中的空值"
   ]
  },
  {
   "cell_type": "code",
   "execution_count": 6,
   "metadata": {
    "ExecuteTime": {
     "end_time": "2021-11-23T06:53:15.330279Z",
     "start_time": "2021-11-23T06:53:15.311289Z"
    }
   },
   "outputs": [
    {
     "data": {
      "text/plain": [
       "0    False\n",
       "1    False\n",
       "2     True\n",
       "3    False\n",
       "4    False\n",
       "5    False\n",
       "dtype: bool"
      ]
     },
     "execution_count": 6,
     "metadata": {},
     "output_type": "execute_result"
    }
   ],
   "source": [
    "df.duplicated([\"A\"]) # 返回重复值"
   ]
  },
  {
   "cell_type": "code",
   "execution_count": 7,
   "metadata": {
    "ExecuteTime": {
     "end_time": "2021-11-23T06:53:23.803948Z",
     "start_time": "2021-11-23T06:53:23.767969Z"
    }
   },
   "outputs": [
    {
     "data": {
      "text/html": [
       "<div>\n",
       "<style scoped>\n",
       "    .dataframe tbody tr th:only-of-type {\n",
       "        vertical-align: middle;\n",
       "    }\n",
       "\n",
       "    .dataframe tbody tr th {\n",
       "        vertical-align: top;\n",
       "    }\n",
       "\n",
       "    .dataframe thead th {\n",
       "        text-align: right;\n",
       "    }\n",
       "</style>\n",
       "<table border=\"1\" class=\"dataframe\">\n",
       "  <thead>\n",
       "    <tr style=\"text-align: right;\">\n",
       "      <th></th>\n",
       "      <th>A</th>\n",
       "      <th>B</th>\n",
       "      <th>C</th>\n",
       "      <th>D</th>\n",
       "      <th>E</th>\n",
       "      <th>F</th>\n",
       "    </tr>\n",
       "  </thead>\n",
       "  <tbody>\n",
       "    <tr>\n",
       "      <th>0</th>\n",
       "      <td>a0</td>\n",
       "      <td>b0</td>\n",
       "      <td>1.0</td>\n",
       "      <td>0.1</td>\n",
       "      <td>10.0</td>\n",
       "      <td>f0</td>\n",
       "    </tr>\n",
       "    <tr>\n",
       "      <th>1</th>\n",
       "      <td>a1</td>\n",
       "      <td>b1</td>\n",
       "      <td>2.0</td>\n",
       "      <td>10.2</td>\n",
       "      <td>19.0</td>\n",
       "      <td>f1</td>\n",
       "    </tr>\n",
       "    <tr>\n",
       "      <th>3</th>\n",
       "      <td>a2</td>\n",
       "      <td>b2</td>\n",
       "      <td>3.0</td>\n",
       "      <td>8.9</td>\n",
       "      <td>25.0</td>\n",
       "      <td>f3</td>\n",
       "    </tr>\n",
       "    <tr>\n",
       "      <th>4</th>\n",
       "      <td>a3</td>\n",
       "      <td>b3</td>\n",
       "      <td>4.0</td>\n",
       "      <td>9.1</td>\n",
       "      <td>8.0</td>\n",
       "      <td>f4</td>\n",
       "    </tr>\n",
       "    <tr>\n",
       "      <th>5</th>\n",
       "      <td>a4</td>\n",
       "      <td>None</td>\n",
       "      <td>5.0</td>\n",
       "      <td>12.0</td>\n",
       "      <td>NaN</td>\n",
       "      <td>f5</td>\n",
       "    </tr>\n",
       "  </tbody>\n",
       "</table>\n",
       "</div>"
      ],
      "text/plain": [
       "    A     B    C     D     E   F\n",
       "0  a0    b0  1.0   0.1  10.0  f0\n",
       "1  a1    b1  2.0  10.2  19.0  f1\n",
       "3  a2    b2  3.0   8.9  25.0  f3\n",
       "4  a3    b3  4.0   9.1   8.0  f4\n",
       "5  a4  None  5.0  12.0   NaN  f5"
      ]
     },
     "execution_count": 7,
     "metadata": {},
     "output_type": "execute_result"
    }
   ],
   "source": [
    "df.drop_duplicates([\"A\"]) # 丢弃\"A\"中的重复值"
   ]
  },
  {
   "cell_type": "code",
   "execution_count": 8,
   "metadata": {
    "ExecuteTime": {
     "end_time": "2021-11-23T06:54:00.488930Z",
     "start_time": "2021-11-23T06:54:00.454926Z"
    }
   },
   "outputs": [
    {
     "data": {
      "text/html": [
       "<div>\n",
       "<style scoped>\n",
       "    .dataframe tbody tr th:only-of-type {\n",
       "        vertical-align: middle;\n",
       "    }\n",
       "\n",
       "    .dataframe tbody tr th {\n",
       "        vertical-align: top;\n",
       "    }\n",
       "\n",
       "    .dataframe thead th {\n",
       "        text-align: right;\n",
       "    }\n",
       "</style>\n",
       "<table border=\"1\" class=\"dataframe\">\n",
       "  <thead>\n",
       "    <tr style=\"text-align: right;\">\n",
       "      <th></th>\n",
       "      <th>A</th>\n",
       "      <th>B</th>\n",
       "      <th>C</th>\n",
       "      <th>D</th>\n",
       "      <th>E</th>\n",
       "      <th>F</th>\n",
       "    </tr>\n",
       "  </thead>\n",
       "  <tbody>\n",
       "    <tr>\n",
       "      <th>0</th>\n",
       "      <td>a0</td>\n",
       "      <td>b0</td>\n",
       "      <td>1.0</td>\n",
       "      <td>0.1</td>\n",
       "      <td>10.0</td>\n",
       "      <td>f0</td>\n",
       "    </tr>\n",
       "    <tr>\n",
       "      <th>1</th>\n",
       "      <td>a1</td>\n",
       "      <td>b1</td>\n",
       "      <td>2.0</td>\n",
       "      <td>10.2</td>\n",
       "      <td>19.0</td>\n",
       "      <td>f1</td>\n",
       "    </tr>\n",
       "    <tr>\n",
       "      <th>2</th>\n",
       "      <td>a1</td>\n",
       "      <td>b2</td>\n",
       "      <td>18.8</td>\n",
       "      <td>11.4</td>\n",
       "      <td>32.0</td>\n",
       "      <td>g2</td>\n",
       "    </tr>\n",
       "    <tr>\n",
       "      <th>3</th>\n",
       "      <td>a2</td>\n",
       "      <td>b2</td>\n",
       "      <td>3.0</td>\n",
       "      <td>8.9</td>\n",
       "      <td>25.0</td>\n",
       "      <td>f3</td>\n",
       "    </tr>\n",
       "    <tr>\n",
       "      <th>4</th>\n",
       "      <td>a3</td>\n",
       "      <td>b3</td>\n",
       "      <td>4.0</td>\n",
       "      <td>9.1</td>\n",
       "      <td>8.0</td>\n",
       "      <td>f4</td>\n",
       "    </tr>\n",
       "    <tr>\n",
       "      <th>5</th>\n",
       "      <td>a4</td>\n",
       "      <td>18.8</td>\n",
       "      <td>5.0</td>\n",
       "      <td>12.0</td>\n",
       "      <td>18.8</td>\n",
       "      <td>f5</td>\n",
       "    </tr>\n",
       "  </tbody>\n",
       "</table>\n",
       "</div>"
      ],
      "text/plain": [
       "    A     B     C     D     E   F\n",
       "0  a0    b0   1.0   0.1  10.0  f0\n",
       "1  a1    b1   2.0  10.2  19.0  f1\n",
       "2  a1    b2  18.8  11.4  32.0  g2\n",
       "3  a2    b2   3.0   8.9  25.0  f3\n",
       "4  a3    b3   4.0   9.1   8.0  f4\n",
       "5  a4  18.8   5.0  12.0  18.8  f5"
      ]
     },
     "execution_count": 8,
     "metadata": {},
     "output_type": "execute_result"
    }
   ],
   "source": [
    "df.fillna(df[\"E\"].mean()) # 空值替换为均值"
   ]
  },
  {
   "cell_type": "code",
   "execution_count": 9,
   "metadata": {
    "ExecuteTime": {
     "end_time": "2021-11-23T06:54:08.007662Z",
     "start_time": "2021-11-23T06:54:07.985676Z"
    }
   },
   "outputs": [
    {
     "data": {
      "text/plain": [
       "0    10.0\n",
       "1    19.0\n",
       "2    32.0\n",
       "3    25.0\n",
       "4     8.0\n",
       "5     8.0\n",
       "Name: E, dtype: float64"
      ]
     },
     "execution_count": 9,
     "metadata": {},
     "output_type": "execute_result"
    }
   ],
   "source": [
    "df[\"E\"].interpolate() # 插值替换\"E\"中的空值，用于 Series"
   ]
  },
  {
   "cell_type": "code",
   "execution_count": 10,
   "metadata": {
    "ExecuteTime": {
     "end_time": "2021-11-23T06:54:15.927870Z",
     "start_time": "2021-11-23T06:54:15.906882Z"
    }
   },
   "outputs": [
    {
     "data": {
      "text/plain": [
       "0     1.0\n",
       "1     2.5\n",
       "2     4.0\n",
       "3     5.0\n",
       "4    20.0\n",
       "dtype: float64"
      ]
     },
     "execution_count": 10,
     "metadata": {},
     "output_type": "execute_result"
    }
   ],
   "source": [
    "pd.Series([1,None,4,5,20]).interpolate()"
   ]
  },
  {
   "cell_type": "code",
   "execution_count": 11,
   "metadata": {
    "ExecuteTime": {
     "end_time": "2021-11-23T06:54:25.979930Z",
     "start_time": "2021-11-23T06:54:25.416296Z"
    }
   },
   "outputs": [
    {
     "data": {
      "text/plain": [
       "0    10.000000\n",
       "1    19.000000\n",
       "2    32.000000\n",
       "3    25.000000\n",
       "4     8.000000\n",
       "5   -20.143603\n",
       "Name: E, dtype: float64"
      ]
     },
     "execution_count": 11,
     "metadata": {},
     "output_type": "execute_result"
    }
   ],
   "source": [
    "df[\"E\"].interpolate(method=\"spline\", order=3) # "
   ]
  },
  {
   "cell_type": "code",
   "execution_count": 12,
   "metadata": {
    "ExecuteTime": {
     "end_time": "2021-11-23T06:54:45.215071Z",
     "start_time": "2021-11-23T06:54:45.177098Z"
    }
   },
   "outputs": [
    {
     "name": "stderr",
     "output_type": "stream",
     "text": [
      "<ipython-input-12-597caefa95c7>:6: UserWarning: Boolean Series key will be reindexed to match DataFrame index.\n",
      "  df[df[\"D\"]>lower_q-k*q_int][df[\"D\"]<upper_q+k*q_int]\n"
     ]
    },
    {
     "data": {
      "text/html": [
       "<div>\n",
       "<style scoped>\n",
       "    .dataframe tbody tr th:only-of-type {\n",
       "        vertical-align: middle;\n",
       "    }\n",
       "\n",
       "    .dataframe tbody tr th {\n",
       "        vertical-align: top;\n",
       "    }\n",
       "\n",
       "    .dataframe thead th {\n",
       "        text-align: right;\n",
       "    }\n",
       "</style>\n",
       "<table border=\"1\" class=\"dataframe\">\n",
       "  <thead>\n",
       "    <tr style=\"text-align: right;\">\n",
       "      <th></th>\n",
       "      <th>A</th>\n",
       "      <th>B</th>\n",
       "      <th>C</th>\n",
       "      <th>D</th>\n",
       "      <th>E</th>\n",
       "      <th>F</th>\n",
       "    </tr>\n",
       "  </thead>\n",
       "  <tbody>\n",
       "    <tr>\n",
       "      <th>1</th>\n",
       "      <td>a1</td>\n",
       "      <td>b1</td>\n",
       "      <td>2.0</td>\n",
       "      <td>10.2</td>\n",
       "      <td>19.0</td>\n",
       "      <td>f1</td>\n",
       "    </tr>\n",
       "    <tr>\n",
       "      <th>2</th>\n",
       "      <td>a1</td>\n",
       "      <td>b2</td>\n",
       "      <td>NaN</td>\n",
       "      <td>11.4</td>\n",
       "      <td>32.0</td>\n",
       "      <td>g2</td>\n",
       "    </tr>\n",
       "    <tr>\n",
       "      <th>3</th>\n",
       "      <td>a2</td>\n",
       "      <td>b2</td>\n",
       "      <td>3.0</td>\n",
       "      <td>8.9</td>\n",
       "      <td>25.0</td>\n",
       "      <td>f3</td>\n",
       "    </tr>\n",
       "    <tr>\n",
       "      <th>4</th>\n",
       "      <td>a3</td>\n",
       "      <td>b3</td>\n",
       "      <td>4.0</td>\n",
       "      <td>9.1</td>\n",
       "      <td>8.0</td>\n",
       "      <td>f4</td>\n",
       "    </tr>\n",
       "    <tr>\n",
       "      <th>5</th>\n",
       "      <td>a4</td>\n",
       "      <td>None</td>\n",
       "      <td>5.0</td>\n",
       "      <td>12.0</td>\n",
       "      <td>NaN</td>\n",
       "      <td>f5</td>\n",
       "    </tr>\n",
       "  </tbody>\n",
       "</table>\n",
       "</div>"
      ],
      "text/plain": [
       "    A     B    C     D     E   F\n",
       "1  a1    b1  2.0  10.2  19.0  f1\n",
       "2  a1    b2  NaN  11.4  32.0  g2\n",
       "3  a2    b2  3.0   8.9  25.0  f3\n",
       "4  a3    b3  4.0   9.1   8.0  f4\n",
       "5  a4  None  5.0  12.0   NaN  f5"
      ]
     },
     "execution_count": 12,
     "metadata": {},
     "output_type": "execute_result"
    }
   ],
   "source": [
    "# 去除 \"D\" 中异常值 \"0.1\"\n",
    "upper_q = df[\"D\"].quantile(0.75) # 上四分位数\n",
    "lower_q = df[\"D\"].quantile(0.25) #下四分位数\n",
    "q_int = upper_q - lower_q # 四分位间距\n",
    "k = 1.5\n",
    "df[df[\"D\"]>lower_q-k*q_int][df[\"D\"]<upper_q+k*q_int]"
   ]
  },
  {
   "cell_type": "code",
   "execution_count": 13,
   "metadata": {
    "ExecuteTime": {
     "end_time": "2021-11-23T06:54:56.100238Z",
     "start_time": "2021-11-23T06:54:56.073254Z"
    }
   },
   "outputs": [
    {
     "data": {
      "text/html": [
       "<div>\n",
       "<style scoped>\n",
       "    .dataframe tbody tr th:only-of-type {\n",
       "        vertical-align: middle;\n",
       "    }\n",
       "\n",
       "    .dataframe tbody tr th {\n",
       "        vertical-align: top;\n",
       "    }\n",
       "\n",
       "    .dataframe thead th {\n",
       "        text-align: right;\n",
       "    }\n",
       "</style>\n",
       "<table border=\"1\" class=\"dataframe\">\n",
       "  <thead>\n",
       "    <tr style=\"text-align: right;\">\n",
       "      <th></th>\n",
       "      <th>A</th>\n",
       "      <th>B</th>\n",
       "      <th>C</th>\n",
       "      <th>D</th>\n",
       "      <th>E</th>\n",
       "      <th>F</th>\n",
       "    </tr>\n",
       "  </thead>\n",
       "  <tbody>\n",
       "    <tr>\n",
       "      <th>0</th>\n",
       "      <td>a0</td>\n",
       "      <td>b0</td>\n",
       "      <td>1.0</td>\n",
       "      <td>0.1</td>\n",
       "      <td>10.0</td>\n",
       "      <td>f0</td>\n",
       "    </tr>\n",
       "    <tr>\n",
       "      <th>1</th>\n",
       "      <td>a1</td>\n",
       "      <td>b1</td>\n",
       "      <td>2.0</td>\n",
       "      <td>10.2</td>\n",
       "      <td>19.0</td>\n",
       "      <td>f1</td>\n",
       "    </tr>\n",
       "    <tr>\n",
       "      <th>3</th>\n",
       "      <td>a2</td>\n",
       "      <td>b2</td>\n",
       "      <td>3.0</td>\n",
       "      <td>8.9</td>\n",
       "      <td>25.0</td>\n",
       "      <td>f3</td>\n",
       "    </tr>\n",
       "    <tr>\n",
       "      <th>4</th>\n",
       "      <td>a3</td>\n",
       "      <td>b3</td>\n",
       "      <td>4.0</td>\n",
       "      <td>9.1</td>\n",
       "      <td>8.0</td>\n",
       "      <td>f4</td>\n",
       "    </tr>\n",
       "    <tr>\n",
       "      <th>5</th>\n",
       "      <td>a4</td>\n",
       "      <td>None</td>\n",
       "      <td>5.0</td>\n",
       "      <td>12.0</td>\n",
       "      <td>NaN</td>\n",
       "      <td>f5</td>\n",
       "    </tr>\n",
       "  </tbody>\n",
       "</table>\n",
       "</div>"
      ],
      "text/plain": [
       "    A     B    C     D     E   F\n",
       "0  a0    b0  1.0   0.1  10.0  f0\n",
       "1  a1    b1  2.0  10.2  19.0  f1\n",
       "3  a2    b2  3.0   8.9  25.0  f3\n",
       "4  a3    b3  4.0   9.1   8.0  f4\n",
       "5  a4  None  5.0  12.0   NaN  f5"
      ]
     },
     "execution_count": 13,
     "metadata": {},
     "output_type": "execute_result"
    }
   ],
   "source": [
    "df[[True if item.startswith(\"f\") else False for item in list(df[\"F\"].values)]] # 去除 \"F\" 中的异常值 \"g2\""
   ]
  },
  {
   "cell_type": "markdown",
   "metadata": {},
   "source": [
    "## 特征选择\n",
    "> 特征选择中使用一些样本进行评估，在正式建模中使用全量数据  \n",
    "\n",
    "- 剔除与标注不相关或者冗余的特征\n",
    "<img style=\"float: center;\" src=\"./figures/数据归约.png\" width=\"50%\">\n",
    "<center>数据归约</center>\n",
    "- 数据归约的思路之一（另一个思路为抽样）\n",
    "    - 过滤思想\n",
    "    - 包裹思想\n",
    "    - 嵌入思想\n",
    "    <img style=\"float: center;\" src=\"./figures/包裹思想.png\" width=\"50%\">\n",
    "    <center>Fig. 包裹思想</center>\n",
    "\n",
    "    <img style=\"float: center;\" src=\"./figures/RFE算法.png\" width=\"50%\">\n",
    "    <center>Fig. RFE算法</center>\n",
    "\n",
    "    <img style=\"float: center;\" src=\"./figures/嵌入思想.png\" width=\"50%\">\n",
    "    <center>Fig. 嵌入思想</center>\n",
    "\n"
   ]
  },
  {
   "cell_type": "code",
   "execution_count": 14,
   "metadata": {
    "ExecuteTime": {
     "end_time": "2021-11-23T06:56:14.430674Z",
     "start_time": "2021-11-23T06:56:13.846688Z"
    }
   },
   "outputs": [],
   "source": [
    "## 导包\n",
    "import numpy as np # 数值计算\n",
    "import pandas as pd # 数据分析\n",
    "import scipy.stats as ss # 统计分析"
   ]
  },
  {
   "cell_type": "code",
   "execution_count": 15,
   "metadata": {
    "ExecuteTime": {
     "end_time": "2021-11-23T06:56:21.046606Z",
     "start_time": "2021-11-23T06:56:21.009623Z"
    }
   },
   "outputs": [
    {
     "data": {
      "text/html": [
       "<div>\n",
       "<style scoped>\n",
       "    .dataframe tbody tr th:only-of-type {\n",
       "        vertical-align: middle;\n",
       "    }\n",
       "\n",
       "    .dataframe tbody tr th {\n",
       "        vertical-align: top;\n",
       "    }\n",
       "\n",
       "    .dataframe thead th {\n",
       "        text-align: right;\n",
       "    }\n",
       "</style>\n",
       "<table border=\"1\" class=\"dataframe\">\n",
       "  <thead>\n",
       "    <tr style=\"text-align: right;\">\n",
       "      <th></th>\n",
       "      <th>A</th>\n",
       "      <th>B</th>\n",
       "      <th>C</th>\n",
       "      <th>D</th>\n",
       "    </tr>\n",
       "  </thead>\n",
       "  <tbody>\n",
       "    <tr>\n",
       "      <th>0</th>\n",
       "      <td>0.543411</td>\n",
       "      <td>1.853274</td>\n",
       "      <td>0.208446</td>\n",
       "      <td>0</td>\n",
       "    </tr>\n",
       "    <tr>\n",
       "      <th>1</th>\n",
       "      <td>0.561628</td>\n",
       "      <td>0.592413</td>\n",
       "      <td>0.083393</td>\n",
       "      <td>1</td>\n",
       "    </tr>\n",
       "    <tr>\n",
       "      <th>2</th>\n",
       "      <td>-0.042901</td>\n",
       "      <td>1.678708</td>\n",
       "      <td>0.769801</td>\n",
       "      <td>0</td>\n",
       "    </tr>\n",
       "    <tr>\n",
       "      <th>3</th>\n",
       "      <td>0.355007</td>\n",
       "      <td>0.110546</td>\n",
       "      <td>-1.154880</td>\n",
       "      <td>0</td>\n",
       "    </tr>\n",
       "    <tr>\n",
       "      <th>4</th>\n",
       "      <td>-1.421442</td>\n",
       "      <td>0.227605</td>\n",
       "      <td>0.264522</td>\n",
       "      <td>0</td>\n",
       "    </tr>\n",
       "    <tr>\n",
       "      <th>5</th>\n",
       "      <td>0.131963</td>\n",
       "      <td>0.554369</td>\n",
       "      <td>-0.293429</td>\n",
       "      <td>1</td>\n",
       "    </tr>\n",
       "    <tr>\n",
       "      <th>6</th>\n",
       "      <td>-0.912573</td>\n",
       "      <td>0.519707</td>\n",
       "      <td>-0.494365</td>\n",
       "      <td>1</td>\n",
       "    </tr>\n",
       "    <tr>\n",
       "      <th>7</th>\n",
       "      <td>0.700048</td>\n",
       "      <td>-0.860755</td>\n",
       "      <td>0.198060</td>\n",
       "      <td>0</td>\n",
       "    </tr>\n",
       "    <tr>\n",
       "      <th>8</th>\n",
       "      <td>-0.180716</td>\n",
       "      <td>-0.592450</td>\n",
       "      <td>-2.266915</td>\n",
       "      <td>1</td>\n",
       "    </tr>\n",
       "    <tr>\n",
       "      <th>9</th>\n",
       "      <td>0.168361</td>\n",
       "      <td>-0.426018</td>\n",
       "      <td>0.718560</td>\n",
       "      <td>0</td>\n",
       "    </tr>\n",
       "  </tbody>\n",
       "</table>\n",
       "</div>"
      ],
      "text/plain": [
       "          A         B         C  D\n",
       "0  0.543411  1.853274  0.208446  0\n",
       "1  0.561628  0.592413  0.083393  1\n",
       "2 -0.042901  1.678708  0.769801  0\n",
       "3  0.355007  0.110546 -1.154880  0\n",
       "4 -1.421442  0.227605  0.264522  0\n",
       "5  0.131963  0.554369 -0.293429  1\n",
       "6 -0.912573  0.519707 -0.494365  1\n",
       "7  0.700048 -0.860755  0.198060  0\n",
       "8 -0.180716 -0.592450 -2.266915  1\n",
       "9  0.168361 -0.426018  0.718560  0"
      ]
     },
     "execution_count": 15,
     "metadata": {},
     "output_type": "execute_result"
    }
   ],
   "source": [
    "df = pd.DataFrame({\n",
    "    \"A\": ss.norm.rvs(size=10),\n",
    "    \"B\": ss.norm.rvs(size=10),\n",
    "    \"C\": ss.norm.rvs(size=10),\n",
    "    \"D\": np.random.randint(low=0, high=2, size=10)\n",
    "})\n",
    "df"
   ]
  },
  {
   "cell_type": "code",
   "execution_count": 16,
   "metadata": {
    "ExecuteTime": {
     "end_time": "2021-11-23T06:56:35.901523Z",
     "start_time": "2021-11-23T06:56:33.970099Z"
    }
   },
   "outputs": [],
   "source": [
    "from sklearn.svm import SVR # SVR 回归器\n",
    "from sklearn.tree import DecisionTreeRegressor # 决策树回归器"
   ]
  },
  {
   "cell_type": "code",
   "execution_count": 17,
   "metadata": {
    "ExecuteTime": {
     "end_time": "2021-11-23T06:56:48.831681Z",
     "start_time": "2021-11-23T06:56:48.817693Z"
    }
   },
   "outputs": [],
   "source": [
    "X = df.loc[:, [\"A\", \"B\", \"C\"]] # 特征\n",
    "Y = df.loc[:, \"D\"] # 标注"
   ]
  },
  {
   "cell_type": "code",
   "execution_count": 18,
   "metadata": {
    "ExecuteTime": {
     "end_time": "2021-11-23T06:56:57.433215Z",
     "start_time": "2021-11-23T06:56:57.393241Z"
    }
   },
   "outputs": [],
   "source": [
    "from sklearn.feature_selection import SelectKBest,RFE,SelectFromModel # 特征选择：过滤、包裹、嵌入"
   ]
  },
  {
   "cell_type": "code",
   "execution_count": 19,
   "metadata": {
    "ExecuteTime": {
     "end_time": "2021-11-23T06:57:06.255900Z",
     "start_time": "2021-11-23T06:57:06.224893Z"
    }
   },
   "outputs": [
    {
     "data": {
      "text/plain": [
       "SelectKBest(k=2)"
      ]
     },
     "execution_count": 19,
     "metadata": {},
     "output_type": "execute_result"
    }
   ],
   "source": [
    "skb = SelectKBest(k=2) # \n",
    "skb.fit(X, Y) # 拟合"
   ]
  },
  {
   "cell_type": "code",
   "execution_count": 20,
   "metadata": {
    "ExecuteTime": {
     "end_time": "2021-11-23T06:57:13.314772Z",
     "start_time": "2021-11-23T06:57:13.289762Z"
    }
   },
   "outputs": [
    {
     "data": {
      "text/plain": [
       "array([[ 0.54341107,  0.20844591],\n",
       "       [ 0.56162796,  0.08339278],\n",
       "       [-0.04290139,  0.76980055],\n",
       "       [ 0.3550067 , -1.15488044],\n",
       "       [-1.42144151,  0.26452209],\n",
       "       [ 0.13196307, -0.29342912],\n",
       "       [-0.91257253, -0.4943652 ],\n",
       "       [ 0.7000484 ,  0.19805953],\n",
       "       [-0.18071642, -2.2669152 ],\n",
       "       [ 0.16836105,  0.71855991]])"
      ]
     },
     "execution_count": 20,
     "metadata": {},
     "output_type": "execute_result"
    }
   ],
   "source": [
    "skb.transform(X) # 变换"
   ]
  },
  {
   "cell_type": "code",
   "execution_count": 21,
   "metadata": {
    "ExecuteTime": {
     "end_time": "2021-11-23T06:57:23.351644Z",
     "start_time": "2021-11-23T06:57:23.327659Z"
    }
   },
   "outputs": [
    {
     "data": {
      "text/html": [
       "<div>\n",
       "<style scoped>\n",
       "    .dataframe tbody tr th:only-of-type {\n",
       "        vertical-align: middle;\n",
       "    }\n",
       "\n",
       "    .dataframe tbody tr th {\n",
       "        vertical-align: top;\n",
       "    }\n",
       "\n",
       "    .dataframe thead th {\n",
       "        text-align: right;\n",
       "    }\n",
       "</style>\n",
       "<table border=\"1\" class=\"dataframe\">\n",
       "  <thead>\n",
       "    <tr style=\"text-align: right;\">\n",
       "      <th></th>\n",
       "      <th>A</th>\n",
       "      <th>B</th>\n",
       "      <th>C</th>\n",
       "      <th>D</th>\n",
       "    </tr>\n",
       "  </thead>\n",
       "  <tbody>\n",
       "    <tr>\n",
       "      <th>0</th>\n",
       "      <td>0.543411</td>\n",
       "      <td>1.853274</td>\n",
       "      <td>0.208446</td>\n",
       "      <td>0</td>\n",
       "    </tr>\n",
       "    <tr>\n",
       "      <th>1</th>\n",
       "      <td>0.561628</td>\n",
       "      <td>0.592413</td>\n",
       "      <td>0.083393</td>\n",
       "      <td>1</td>\n",
       "    </tr>\n",
       "    <tr>\n",
       "      <th>2</th>\n",
       "      <td>-0.042901</td>\n",
       "      <td>1.678708</td>\n",
       "      <td>0.769801</td>\n",
       "      <td>0</td>\n",
       "    </tr>\n",
       "    <tr>\n",
       "      <th>3</th>\n",
       "      <td>0.355007</td>\n",
       "      <td>0.110546</td>\n",
       "      <td>-1.154880</td>\n",
       "      <td>0</td>\n",
       "    </tr>\n",
       "    <tr>\n",
       "      <th>4</th>\n",
       "      <td>-1.421442</td>\n",
       "      <td>0.227605</td>\n",
       "      <td>0.264522</td>\n",
       "      <td>0</td>\n",
       "    </tr>\n",
       "    <tr>\n",
       "      <th>5</th>\n",
       "      <td>0.131963</td>\n",
       "      <td>0.554369</td>\n",
       "      <td>-0.293429</td>\n",
       "      <td>1</td>\n",
       "    </tr>\n",
       "    <tr>\n",
       "      <th>6</th>\n",
       "      <td>-0.912573</td>\n",
       "      <td>0.519707</td>\n",
       "      <td>-0.494365</td>\n",
       "      <td>1</td>\n",
       "    </tr>\n",
       "    <tr>\n",
       "      <th>7</th>\n",
       "      <td>0.700048</td>\n",
       "      <td>-0.860755</td>\n",
       "      <td>0.198060</td>\n",
       "      <td>0</td>\n",
       "    </tr>\n",
       "    <tr>\n",
       "      <th>8</th>\n",
       "      <td>-0.180716</td>\n",
       "      <td>-0.592450</td>\n",
       "      <td>-2.266915</td>\n",
       "      <td>1</td>\n",
       "    </tr>\n",
       "    <tr>\n",
       "      <th>9</th>\n",
       "      <td>0.168361</td>\n",
       "      <td>-0.426018</td>\n",
       "      <td>0.718560</td>\n",
       "      <td>0</td>\n",
       "    </tr>\n",
       "  </tbody>\n",
       "</table>\n",
       "</div>"
      ],
      "text/plain": [
       "          A         B         C  D\n",
       "0  0.543411  1.853274  0.208446  0\n",
       "1  0.561628  0.592413  0.083393  1\n",
       "2 -0.042901  1.678708  0.769801  0\n",
       "3  0.355007  0.110546 -1.154880  0\n",
       "4 -1.421442  0.227605  0.264522  0\n",
       "5  0.131963  0.554369 -0.293429  1\n",
       "6 -0.912573  0.519707 -0.494365  1\n",
       "7  0.700048 -0.860755  0.198060  0\n",
       "8 -0.180716 -0.592450 -2.266915  1\n",
       "9  0.168361 -0.426018  0.718560  0"
      ]
     },
     "execution_count": 21,
     "metadata": {},
     "output_type": "execute_result"
    }
   ],
   "source": [
    "df"
   ]
  },
  {
   "cell_type": "code",
   "execution_count": 22,
   "metadata": {
    "ExecuteTime": {
     "end_time": "2021-11-23T06:57:32.941219Z",
     "start_time": "2021-11-23T06:57:32.905217Z"
    }
   },
   "outputs": [
    {
     "data": {
      "text/plain": [
       "array([[ 0.54341107,  0.20844591],\n",
       "       [ 0.56162796,  0.08339278],\n",
       "       [-0.04290139,  0.76980055],\n",
       "       [ 0.3550067 , -1.15488044],\n",
       "       [-1.42144151,  0.26452209],\n",
       "       [ 0.13196307, -0.29342912],\n",
       "       [-0.91257253, -0.4943652 ],\n",
       "       [ 0.7000484 ,  0.19805953],\n",
       "       [-0.18071642, -2.2669152 ],\n",
       "       [ 0.16836105,  0.71855991]])"
      ]
     },
     "execution_count": 22,
     "metadata": {},
     "output_type": "execute_result"
    }
   ],
   "source": [
    "rfe = RFE(estimator=SVR(kernel=\"linear\"), n_features_to_select=2, step=1) # \n",
    "rfe.fit_transform(X, Y) # 拟合、变换"
   ]
  },
  {
   "cell_type": "code",
   "execution_count": 23,
   "metadata": {
    "ExecuteTime": {
     "end_time": "2021-11-23T06:57:40.289880Z",
     "start_time": "2021-11-23T06:57:40.257899Z"
    }
   },
   "outputs": [
    {
     "data": {
      "text/plain": [
       "array([[ 0.54341107,  1.85327409,  0.20844591],\n",
       "       [ 0.56162796,  0.59241342,  0.08339278],\n",
       "       [-0.04290139,  1.67870797,  0.76980055],\n",
       "       [ 0.3550067 ,  0.11054614, -1.15488044],\n",
       "       [-1.42144151,  0.22760544,  0.26452209],\n",
       "       [ 0.13196307,  0.55436934, -0.29342912],\n",
       "       [-0.91257253,  0.51970675, -0.4943652 ],\n",
       "       [ 0.7000484 , -0.86075509,  0.19805953],\n",
       "       [-0.18071642, -0.5924496 , -2.2669152 ],\n",
       "       [ 0.16836105, -0.42601845,  0.71855991]])"
      ]
     },
     "execution_count": 23,
     "metadata": {},
     "output_type": "execute_result"
    }
   ],
   "source": [
    "sfm = SelectFromModel(estimator=DecisionTreeRegressor(), threshold=0.1) # \n",
    "sfm.fit_transform(X, Y) # 拟合、变换"
   ]
  },
  {
   "cell_type": "markdown",
   "metadata": {},
   "source": [
    "## 特征变换\n",
    "> 对指化、离散化、数据平滑、归一化（标准化）、数值化、正规化  \n",
    "\n",
    "### 对指化\n",
    "- 指数化（$e^x$）：numpy.exp\n",
    "- 对数化（$lnx$）：numpy.log\n",
    "\n",
    "### 离散化（分箱）\n",
    "- 将连续变量分成几段（bins）\n",
    "- 原因：克服数据缺陷、某些算法要求、非线数据映射\n",
    "- 方法：\n",
    "    - 分箱：等频（等深）、等距（等宽）\n",
    "    - 自因变量优化\n"
   ]
  },
  {
   "cell_type": "code",
   "execution_count": 30,
   "metadata": {
    "ExecuteTime": {
     "end_time": "2021-11-23T07:00:30.318857Z",
     "start_time": "2021-11-23T07:00:30.303864Z"
    }
   },
   "outputs": [
    {
     "data": {
      "text/plain": [
       "[(5.999, 13.333], (5.999, 13.333], (5.999, 13.333], (13.333, 24.333], (13.333, 24.333], (13.333, 24.333], (24.333, 67.0], (24.333, 67.0], (24.333, 67.0]]\n",
       "Categories (3, interval[float64]): [(5.999, 13.333] < (13.333, 24.333] < (24.333, 67.0]]"
      ]
     },
     "execution_count": 30,
     "metadata": {},
     "output_type": "execute_result"
    }
   ],
   "source": [
    "lst = [6, 8, 10, 15, 16, 24, 25, 40, 67]\n",
    "pd.qcut(lst, 3) # 等深分箱"
   ]
  },
  {
   "cell_type": "code",
   "execution_count": 31,
   "metadata": {
    "ExecuteTime": {
     "end_time": "2021-11-23T07:00:43.384681Z",
     "start_time": "2021-11-23T07:00:43.361712Z"
    }
   },
   "outputs": [
    {
     "data": {
      "text/plain": [
       "['low', 'low', 'low', 'medium', 'medium', 'medium', 'high', 'high', 'high']\n",
       "Categories (3, object): ['low' < 'medium' < 'high']"
      ]
     },
     "execution_count": 31,
     "metadata": {},
     "output_type": "execute_result"
    }
   ],
   "source": [
    "pd.qcut(lst, q=3, labels=[\"low\", \"medium\", \"high\"]) # 等深分箱"
   ]
  },
  {
   "cell_type": "code",
   "execution_count": 32,
   "metadata": {
    "ExecuteTime": {
     "end_time": "2021-11-23T07:00:53.222574Z",
     "start_time": "2021-11-23T07:00:53.193572Z"
    }
   },
   "outputs": [
    {
     "data": {
      "text/plain": [
       "[(5.939, 26.333], (5.939, 26.333], (5.939, 26.333], (5.939, 26.333], (5.939, 26.333], (5.939, 26.333], (5.939, 26.333], (26.333, 46.667], (46.667, 67.0]]\n",
       "Categories (3, interval[float64]): [(5.939, 26.333] < (26.333, 46.667] < (46.667, 67.0]]"
      ]
     },
     "execution_count": 32,
     "metadata": {},
     "output_type": "execute_result"
    }
   ],
   "source": [
    "pd.cut(lst, bins=3) # 等宽分箱"
   ]
  },
  {
   "cell_type": "code",
   "execution_count": 33,
   "metadata": {
    "ExecuteTime": {
     "end_time": "2021-11-23T07:01:00.837711Z",
     "start_time": "2021-11-23T07:01:00.793734Z"
    }
   },
   "outputs": [
    {
     "data": {
      "text/plain": [
       "['low', 'low', 'low', 'low', 'low', 'low', 'low', 'medium', 'high']\n",
       "Categories (3, object): ['low' < 'medium' < 'high']"
      ]
     },
     "execution_count": 33,
     "metadata": {},
     "output_type": "execute_result"
    }
   ],
   "source": [
    "pd.cut(lst, bins=3, labels=[\"low\", \"medium\", \"high\"]) # 等宽分箱"
   ]
  },
  {
   "cell_type": "markdown",
   "metadata": {},
   "source": [
    "### 归一化（Min-Max）\n",
    "- $$x^{\\prime} = \\frac{x-x_{min}}{x_{max}-x_{min}}$$\n",
    "\n",
    "### 标准化（Z-score）\n",
    "- $$x^{\\prime} = \\frac{x-\\bar{x}}{\\sigma}$$\n"
   ]
  },
  {
   "cell_type": "code",
   "execution_count": 34,
   "metadata": {
    "ExecuteTime": {
     "end_time": "2021-11-23T07:01:27.957054Z",
     "start_time": "2021-11-23T07:01:27.940039Z"
    }
   },
   "outputs": [],
   "source": [
    "## 导包\n",
    "from sklearn.preprocessing import MinMaxScaler,StandardScaler # 归一化、标准化"
   ]
  },
  {
   "cell_type": "code",
   "execution_count": 35,
   "metadata": {
    "ExecuteTime": {
     "end_time": "2021-11-23T07:01:34.204917Z",
     "start_time": "2021-11-23T07:01:34.185928Z"
    }
   },
   "outputs": [
    {
     "data": {
      "text/plain": [
       "array([[0.  ],\n",
       "       [0.15],\n",
       "       [0.45],\n",
       "       [0.7 ],\n",
       "       [1.  ]])"
      ]
     },
     "execution_count": 35,
     "metadata": {},
     "output_type": "execute_result"
    }
   ],
   "source": [
    "MinMaxScaler().fit_transform(np.array([1,4,10,15,21]).reshape(-1,1)) # 归一化"
   ]
  },
  {
   "cell_type": "code",
   "execution_count": 36,
   "metadata": {
    "ExecuteTime": {
     "end_time": "2021-11-23T07:01:41.716469Z",
     "start_time": "2021-11-23T07:01:41.689484Z"
    }
   },
   "outputs": [
    {
     "data": {
      "text/plain": [
       "array([[ 1.],\n",
       "       [ 1.],\n",
       "       [ 1.],\n",
       "       [ 1.],\n",
       "       [-1.],\n",
       "       [-1.],\n",
       "       [-1.],\n",
       "       [-1.]])"
      ]
     },
     "execution_count": 36,
     "metadata": {},
     "output_type": "execute_result"
    }
   ],
   "source": [
    "StandardScaler().fit_transform(np.array([1,1,1,1,0,0,0,0]).reshape(-1,1)) # 标准化"
   ]
  },
  {
   "cell_type": "markdown",
   "metadata": {},
   "source": [
    "### 数值化\n",
    ">  定类、定序、定距、定比  \n",
    "\n",
    "- 标签化：定序、定类\n",
    "- 归一化：定距\n",
    "- 独热（One-Hot Encode）：定类、定序\n"
   ]
  },
  {
   "cell_type": "code",
   "execution_count": 37,
   "metadata": {
    "ExecuteTime": {
     "end_time": "2021-11-23T07:02:59.477531Z",
     "start_time": "2021-11-23T07:02:59.459541Z"
    }
   },
   "outputs": [],
   "source": [
    "from sklearn.preprocessing import LabelEncoder,OneHotEncoder # 标签化、独热"
   ]
  },
  {
   "cell_type": "code",
   "execution_count": 38,
   "metadata": {
    "ExecuteTime": {
     "end_time": "2021-11-23T07:03:06.415972Z",
     "start_time": "2021-11-23T07:03:06.386991Z"
    }
   },
   "outputs": [
    {
     "name": "stderr",
     "output_type": "stream",
     "text": [
      "c:\\programdata\\miniconda3\\lib\\site-packages\\sklearn\\utils\\validation.py:63: DataConversionWarning: A column-vector y was passed when a 1d array was expected. Please change the shape of y to (n_samples, ), for example using ravel().\n",
      "  return f(*args, **kwargs)\n"
     ]
    },
    {
     "data": {
      "text/plain": [
       "array([0, 1, 1, 0], dtype=int64)"
      ]
     },
     "execution_count": 38,
     "metadata": {},
     "output_type": "execute_result"
    }
   ],
   "source": [
    "LabelEncoder().fit_transform(np.array([\"Down\",\"Up\",\"Up\",\"Down\"]).reshape(-1,1)) # 标签化"
   ]
  },
  {
   "cell_type": "code",
   "execution_count": 39,
   "metadata": {
    "ExecuteTime": {
     "end_time": "2021-11-23T07:03:14.011896Z",
     "start_time": "2021-11-23T07:03:13.994910Z"
    }
   },
   "outputs": [
    {
     "data": {
      "text/plain": [
       "array([1, 2, 0, 2, 1], dtype=int64)"
      ]
     },
     "execution_count": 39,
     "metadata": {},
     "output_type": "execute_result"
    }
   ],
   "source": [
    "LabelEncoder().fit_transform(np.array([\"Low\",\"Medium\",\"High\",\"Medium\",\"Low\"]).reshape(-1,1)) # 标签化"
   ]
  },
  {
   "cell_type": "code",
   "execution_count": 40,
   "metadata": {
    "ExecuteTime": {
     "end_time": "2021-11-23T07:03:22.375692Z",
     "start_time": "2021-11-23T07:03:22.359700Z"
    }
   },
   "outputs": [
    {
     "data": {
      "text/plain": [
       "<5x4 sparse matrix of type '<class 'numpy.float64'>'\n",
       "\twith 5 stored elements in Compressed Sparse Row format>"
      ]
     },
     "execution_count": 40,
     "metadata": {},
     "output_type": "execute_result"
    }
   ],
   "source": [
    "# One-Hot\n",
    "lb_encoder = LabelEncoder()\n",
    "lb_tran_f = lb_encoder.fit_transform(np.array([\"Red\",\"Yellow\",\"Blue\",\"Green\"]))\n",
    "oht_encoder = OneHotEncoder().fit(lb_tran_f.reshape(-1,1))\n",
    "oht_encoder.transform(lb_encoder.transform(np.array([\"Yellow\",\"Blue\",\"Green\",\"Green\",\"Red\"])).reshape(-1,1)) # 这是一个结构体"
   ]
  },
  {
   "cell_type": "code",
   "execution_count": 41,
   "metadata": {
    "ExecuteTime": {
     "end_time": "2021-11-23T07:03:31.078831Z",
     "start_time": "2021-11-23T07:03:31.050865Z"
    }
   },
   "outputs": [
    {
     "data": {
      "text/plain": [
       "array([[0., 0., 0., 1.],\n",
       "       [1., 0., 0., 0.],\n",
       "       [0., 1., 0., 0.],\n",
       "       [0., 1., 0., 0.],\n",
       "       [0., 0., 1., 0.]])"
      ]
     },
     "execution_count": 41,
     "metadata": {},
     "output_type": "execute_result"
    }
   ],
   "source": [
    "oht_encoder.transform(lb_encoder.transform(np.array([\"Yellow\",\"Blue\",\"Green\",\"Green\",\"Red\"])).reshape(-1,1)).toarray()"
   ]
  },
  {
   "cell_type": "markdown",
   "metadata": {},
   "source": [
    "### 正规化（规范化）\n",
    "- 公式：\n",
    "    - L1: $$x^{\\prime} = \\frac{x_i}{\\sum^{n}_{j=1}|x_j|}$$\n",
    "    - L2: $$x^{\\prime} = \\frac{x_i}{\\sqrt{\\sum^{n}_{j=1}|x_j|^2}}$$\n",
    "- 应用：\n",
    "    - 直接用在特征上\n",
    "    - 用在每个对象的各个特征的表示（特征矩阵的行）\n",
    "    - 模型的参数上（回归模型使用较多）\n",
    "    "
   ]
  },
  {
   "cell_type": "code",
   "execution_count": 42,
   "metadata": {
    "ExecuteTime": {
     "end_time": "2021-11-23T07:03:59.517168Z",
     "start_time": "2021-11-23T07:03:59.498181Z"
    }
   },
   "outputs": [],
   "source": [
    "from sklearn.preprocessing import Normalizer # 正规化"
   ]
  },
  {
   "cell_type": "code",
   "execution_count": 43,
   "metadata": {
    "ExecuteTime": {
     "end_time": "2021-11-23T07:04:05.529571Z",
     "start_time": "2021-11-23T07:04:05.507578Z"
    }
   },
   "outputs": [
    {
     "data": {
      "text/plain": [
       "array([[ 1.],\n",
       "       [ 1.],\n",
       "       [ 1.],\n",
       "       [-1.],\n",
       "       [ 1.]])"
      ]
     },
     "execution_count": 43,
     "metadata": {},
     "output_type": "execute_result"
    }
   ],
   "source": [
    "Normalizer(norm=\"l1\").fit_transform(np.array([1,1,3,-1,2]).reshape(-1,1)) # 正规化（针对行）"
   ]
  },
  {
   "cell_type": "code",
   "execution_count": 44,
   "metadata": {
    "ExecuteTime": {
     "end_time": "2021-11-23T07:04:13.362854Z",
     "start_time": "2021-11-23T07:04:13.338868Z"
    }
   },
   "outputs": [
    {
     "data": {
      "text/plain": [
       "array([[ 0.125,  0.125,  0.375, -0.125,  0.25 ]])"
      ]
     },
     "execution_count": 44,
     "metadata": {},
     "output_type": "execute_result"
    }
   ],
   "source": [
    "Normalizer(norm=\"l1\").fit_transform(np.array([[1,1,3,-1,2]])) # 正规化（针对行）"
   ]
  },
  {
   "cell_type": "code",
   "execution_count": 45,
   "metadata": {
    "ExecuteTime": {
     "end_time": "2021-11-23T07:04:21.148542Z",
     "start_time": "2021-11-23T07:04:21.123556Z"
    }
   },
   "outputs": [
    {
     "data": {
      "text/plain": [
       "array([[ 0.25,  0.25,  0.75, -0.25,  0.5 ]])"
      ]
     },
     "execution_count": 45,
     "metadata": {},
     "output_type": "execute_result"
    }
   ],
   "source": [
    "Normalizer(norm=\"l2\").fit_transform(np.array([[1,1,3,-1,2]])) # 正规化（针对行）"
   ]
  },
  {
   "cell_type": "code",
   "execution_count": 46,
   "metadata": {
    "ExecuteTime": {
     "end_time": "2021-11-23T07:04:27.917906Z",
     "start_time": "2021-11-23T07:04:27.896925Z"
    }
   },
   "outputs": [
    {
     "name": "stdout",
     "output_type": "stream",
     "text": [
      "[[ 1]\n",
      " [ 1]\n",
      " [ 3]\n",
      " [-1]\n",
      " [ 2]]\n",
      "[ 1  1  3 -1  2]\n",
      "[[ 1  1  3 -1  2]]\n"
     ]
    }
   ],
   "source": [
    "print(np.array([1,1,3,-1,2]).reshape(-1,1))\n",
    "print(np.array([1,1,3,-1,2]))\n",
    "print(np.array([[1,1,3,-1,2]]))"
   ]
  },
  {
   "cell_type": "markdown",
   "metadata": {},
   "source": [
    "## 特征降维\n",
    "> PCA, LDA,   \n",
    "\n",
    "### LDA降维\n",
    "- LDA降维（线性判别式分析，Linear Discriminant Analysis）：投影变换后同一标注内距离尽可能小；不同标注间距离尽可能大\n",
    "    - 均值：$$\\mu_0 = \\frac{1}{n_0}\\sum_{s\\in X_0}x, \\mu_1 = \\frac{1}{n_1}\\sum_{s\\in X_1}x$$\n",
    "    - 最大化：\n",
    "        $$J(\\omega) = \\frac{||\\vec{\\omega}_{0}^{T}(\\vec{X}_0-u_0) -\\vec{\\omega}_{1}^{T}(\\vec{X}_1-u_1)||^2}{\\vec{\\omega }_{0}^{T}(\\vec{X}_0-u_0)(\\vec{X}_0-u_0)^{T}\\vec{\\omega}_0 +\\vec{\\omega}_{1}^{T}(\\vec{X}_1-u_1)(\\vec{X}_1-u_1)^T\\vec{\\omega}_1} = \\frac{\\vec{\\omega}^T(\\vec{X}_0-u_0)(\\vec{X}_1-u_1)^T\\vec{\\omega}}{\\vec{\\omega}_{0}^{T}(\\vec{X}_0-u_0)(\\vec{X}_0-u_0)^{T}\\vec{\\omega}_0 +\\vec{\\omega}_{1}^{T}(\\vec{X}_1-u_1)(\\vec{X}_1-u_1)^T\\vec{\\omega}_1}$$\n",
    "        $$\\text{令} S_b = (\\vec{X}_0-u_0)(\\vec{X}_1-u_1 )^T, S_w = (\\vec{X}_0-u_0)(\\vec{X}_0-u_0)^{T}+(\\vec{X}_1-u_1)(\\vec{X}_1-u_1)^T$$\n",
    "        $$\\Rightarrow \\max J(\\omega) = \\frac{\\vec{\\omega}^T S_b\\omega}{{\\omega}^T S_w\\omega}$$\n"
   ]
  },
  {
   "cell_type": "code",
   "execution_count": 48,
   "metadata": {
    "ExecuteTime": {
     "end_time": "2021-11-23T07:05:34.027677Z",
     "start_time": "2021-11-23T07:05:34.017681Z"
    }
   },
   "outputs": [],
   "source": [
    "## 导包\n",
    "import numpy as np # 数值计算\n",
    "import pandas as pd # 数据分析"
   ]
  },
  {
   "cell_type": "code",
   "execution_count": 49,
   "metadata": {
    "ExecuteTime": {
     "end_time": "2021-11-23T07:05:35.678596Z",
     "start_time": "2021-11-23T07:05:35.664604Z"
    }
   },
   "outputs": [],
   "source": [
    "from sklearn.discriminant_analysis import LinearDiscriminantAnalysis # LDA降维"
   ]
  },
  {
   "cell_type": "code",
   "execution_count": 50,
   "metadata": {
    "ExecuteTime": {
     "end_time": "2021-11-23T07:06:31.617298Z",
     "start_time": "2021-11-23T07:06:31.595316Z"
    }
   },
   "outputs": [
    {
     "data": {
      "text/plain": [
       "array([[-1.73205081],\n",
       "       [-1.73205081],\n",
       "       [-3.46410162],\n",
       "       [ 1.73205081],\n",
       "       [ 1.73205081],\n",
       "       [ 3.46410162]])"
      ]
     },
     "execution_count": 50,
     "metadata": {},
     "output_type": "execute_result"
    }
   ],
   "source": [
    "X = np.array([[-1,-1],[-2,-1],[-3,-2],[1,1],[2,1],[3,2]])\n",
    "Y = np.array([1,1,1,2,2,2])\n",
    "LinearDiscriminantAnalysis(n_components=1).fit_transform(X, Y) # LDA 降维"
   ]
  },
  {
   "cell_type": "code",
   "execution_count": 51,
   "metadata": {
    "ExecuteTime": {
     "end_time": "2021-11-23T07:06:41.178618Z",
     "start_time": "2021-11-23T07:06:41.156630Z"
    }
   },
   "outputs": [
    {
     "data": {
      "text/plain": [
       "array([2])"
      ]
     },
     "execution_count": 51,
     "metadata": {},
     "output_type": "execute_result"
    }
   ],
   "source": [
    "## Fisher 判别器（fisher classifier）\n",
    "clf = LinearDiscriminantAnalysis(n_components=1).fit(X, Y) # 拟合\n",
    "clf.predict([[0.8,1]]) # 判别器"
   ]
  },
  {
   "cell_type": "markdown",
   "metadata": {},
   "source": [
    "## 特征衍生\n",
    "- 从用户角度衍生：用户购买习惯？购买次数？...\n",
    "- 从商品角度衍生：商品特征？是否快消品？是否有季节影响？...\n",
    "- 从关系角度衍生：某商品是否是用户常买的？用户一般会如何搭配？...\n"
   ]
  },
  {
   "cell_type": "code",
   "execution_count": 52,
   "metadata": {
    "ExecuteTime": {
     "end_time": "2021-11-23T07:07:47.899039Z",
     "start_time": "2021-11-23T07:07:47.881050Z"
    }
   },
   "outputs": [],
   "source": [
    "## 导包\n",
    "import numpy as np # 数值计算\n",
    "import pandas as pd # 数据分析"
   ]
  },
  {
   "cell_type": "code",
   "execution_count": 53,
   "metadata": {
    "ExecuteTime": {
     "end_time": "2021-11-23T07:07:55.334916Z",
     "start_time": "2021-11-23T07:07:55.321923Z"
    }
   },
   "outputs": [],
   "source": [
    "from sklearn.preprocessing import MinMaxScaler,StandardScaler # 归一化、标准化\n",
    "from sklearn.preprocessing import LabelEncoder,OneHotEncoder # 标签化、独热编码\n",
    "from sklearn.preprocessing import Normalizer #  \n",
    "from sklearn.discriminant_analysis import LinearDiscriminantAnalysis # LDA 降维\n",
    "from sklearn.decomposition import PCA # PCA 降维"
   ]
  },
  {
   "cell_type": "code",
   "execution_count": 54,
   "metadata": {
    "ExecuteTime": {
     "end_time": "2021-11-23T07:08:01.964013Z",
     "start_time": "2021-11-23T07:08:01.907045Z"
    }
   },
   "outputs": [
    {
     "data": {
      "text/html": [
       "<div>\n",
       "<style scoped>\n",
       "    .dataframe tbody tr th:only-of-type {\n",
       "        vertical-align: middle;\n",
       "    }\n",
       "\n",
       "    .dataframe tbody tr th {\n",
       "        vertical-align: top;\n",
       "    }\n",
       "\n",
       "    .dataframe thead th {\n",
       "        text-align: right;\n",
       "    }\n",
       "</style>\n",
       "<table border=\"1\" class=\"dataframe\">\n",
       "  <thead>\n",
       "    <tr style=\"text-align: right;\">\n",
       "      <th></th>\n",
       "      <th>satisfaction_level</th>\n",
       "      <th>last_evaluation</th>\n",
       "      <th>number_project</th>\n",
       "      <th>average_monthly_hours</th>\n",
       "      <th>time_spend_company</th>\n",
       "      <th>Work_accident</th>\n",
       "      <th>left</th>\n",
       "      <th>promotion_last_5years</th>\n",
       "      <th>Department</th>\n",
       "      <th>salary</th>\n",
       "    </tr>\n",
       "  </thead>\n",
       "  <tbody>\n",
       "    <tr>\n",
       "      <th>0</th>\n",
       "      <td>0.38</td>\n",
       "      <td>0.53</td>\n",
       "      <td>2</td>\n",
       "      <td>157</td>\n",
       "      <td>3</td>\n",
       "      <td>0</td>\n",
       "      <td>1</td>\n",
       "      <td>0</td>\n",
       "      <td>sales</td>\n",
       "      <td>low</td>\n",
       "    </tr>\n",
       "    <tr>\n",
       "      <th>1</th>\n",
       "      <td>0.80</td>\n",
       "      <td>0.86</td>\n",
       "      <td>5</td>\n",
       "      <td>262</td>\n",
       "      <td>6</td>\n",
       "      <td>0</td>\n",
       "      <td>1</td>\n",
       "      <td>0</td>\n",
       "      <td>sales</td>\n",
       "      <td>medium</td>\n",
       "    </tr>\n",
       "    <tr>\n",
       "      <th>2</th>\n",
       "      <td>0.11</td>\n",
       "      <td>0.88</td>\n",
       "      <td>7</td>\n",
       "      <td>272</td>\n",
       "      <td>4</td>\n",
       "      <td>0</td>\n",
       "      <td>1</td>\n",
       "      <td>0</td>\n",
       "      <td>sales</td>\n",
       "      <td>medium</td>\n",
       "    </tr>\n",
       "  </tbody>\n",
       "</table>\n",
       "</div>"
      ],
      "text/plain": [
       "   satisfaction_level  last_evaluation  number_project  average_monthly_hours  \\\n",
       "0                0.38             0.53               2                    157   \n",
       "1                0.80             0.86               5                    262   \n",
       "2                0.11             0.88               7                    272   \n",
       "\n",
       "   time_spend_company  Work_accident  left  promotion_last_5years Department  \\\n",
       "0                   3              0     1                      0      sales   \n",
       "1                   6              0     1                      0      sales   \n",
       "2                   4              0     1                      0      sales   \n",
       "\n",
       "   salary  \n",
       "0     low  \n",
       "1  medium  \n",
       "2  medium  "
      ]
     },
     "execution_count": 54,
     "metadata": {},
     "output_type": "execute_result"
    }
   ],
   "source": [
    "## 查看数据集\n",
    "df = pd.read_csv(\".//datasets//HR_comma_sep.csv\")\n",
    "df.head(3)"
   ]
  },
  {
   "cell_type": "code",
   "execution_count": 55,
   "metadata": {
    "ExecuteTime": {
     "end_time": "2021-11-23T07:08:12.977710Z",
     "start_time": "2021-11-23T07:08:12.947701Z"
    }
   },
   "outputs": [],
   "source": [
    "## \n",
    "# @arg\n",
    "# sl: statisfaction_level --- Flase: MinMaxScaler; True: StandardScaler\n",
    "# le: last_evaluation --- Flase: MinMaxScaler; True: StandardScaler\n",
    "# npr: number_project --- Flase: MinMaxScaler; True: StandardScaler\n",
    "# amh: average_monthly_hours --- Flase: MinMaxScaler; True: StandardScaler\n",
    "# tsc: time_spend_company --- Flase: MinMaxScaler; True: StandardScaler\n",
    "# wa: Work_accident --- Flase: MinMaxScaler; True: StandardScaler\n",
    "# pl5: promotion_last_5years --- Flase: MinMaxScaler; True: StandardScaler\n",
    "# dp: Department --- False: LabelEncoding; True: OneHotEncoding\n",
    "# slr: salary --- False: LabelEncoding; True: OneHotEncoding\n",
    "# lower_d: 是否降维 --- Default: False\n",
    "# ld_n: 保留的维数 --- Default: 1\n",
    "def hr_preprocessing(sl=False, le=False, npr=False, amh=False, tsc=False, wa=False, pl5=False, dp=False, slr=False, lower_d=False, ld_n=1):\n",
    "    ## 0. 加载数据\n",
    "    df = pd.read_csv(\".//datasets//HR_comma_sep.csv\")\n",
    "    \n",
    "    ## 1. 清洗数据（去除异常值、抽样，这里数据量较小不进行抽样了）\n",
    "    df = df.dropna(subset=[\"satisfaction_level\",\"last_evaluation\"])\n",
    "    df = df[df[\"satisfaction_level\"]<=1][df[\"salary\"]!=\"nme\"]\n",
    "    \n",
    "    ## 2. 得到标注\n",
    "    label = df[\"left\"]\n",
    "    df = df.drop(\"left\", axis=1)\n",
    "    \n",
    "    ## 3. 特征选择\n",
    "    \n",
    "    \n",
    "    ## 4. 特征处理\n",
    "    # 对 \"satisfaction_level\", \"last_evaluation\", \"number_project\",\n",
    "    # \"average_monthly_hours\", \"time_spend_company\", \"Work_accident\",\n",
    "    # \"promotion_last_5years\" 进行归一化和标准化\n",
    "    scaler_lst = [sl, le, npr, amh, tsc, wa, pl5]\n",
    "    column_lst = [\"satisfaction_level\", \"last_evaluation\", \"number_project\", \n",
    "                  \"average_monthly_hours\", \"time_spend_company\", \"Work_accident\", \n",
    "                  \"promotion_last_5years\"]\n",
    "    for i in range(len(scaler_lst)):\n",
    "        if not scaler_lst[i]:\n",
    "            df[column_lst[i]] =\\\n",
    "            MinMaxScaler().fit_transform(df[column_lst[i]].values.reshape(-1,1)).reshape(1,-1)[0]\n",
    "        else:\n",
    "            df[column_lst[i]] =\\\n",
    "            StandardScaler().fit_transform(df[column_lst[i]].values.reshape(-1,1)).reshape(1,-1)[0]\n",
    "    # 对 \"Department\", \"salary\" 进行标签化和归一化\n",
    "    scaler_lst = [dp, slr]\n",
    "    column_lst = [\"Department\", \"salary\"]\n",
    "    for i in range(len(scaler_lst)):\n",
    "        if not scaler_lst[i]:\n",
    "            if column_lst[i] == \"salary\":\n",
    "                df[column_lst[i]] = [map_salary(s) for s in df[\"salary\"].values]\n",
    "            else:\n",
    "                df[column_lst[i]] = LabelEncoder().fit_transform(df[column_lst[i]])\n",
    "            df[column_lst[i]] = MinMaxScaler().fit_transform(df[column_lst[i]].values.reshape(-1,1)).reshape(1,-1)[0]\n",
    "        else:\n",
    "            df = pd.get_dummies(df, columns=[column_lst[i]])\n",
    "    # 降维\n",
    "    if lower_d:\n",
    "        return PCA(n_components=ld_n).fit_transform(df.values),label\n",
    "#         return LinearDiscriminantAnalysis(n_components=ld_n)\n",
    "    \n",
    "    return df,label\n",
    "\n"
   ]
  },
  {
   "cell_type": "code",
   "execution_count": 56,
   "metadata": {
    "ExecuteTime": {
     "end_time": "2021-11-23T07:08:21.451490Z",
     "start_time": "2021-11-23T07:08:21.442493Z"
    }
   },
   "outputs": [],
   "source": [
    "##\n",
    "d = dict([(\"low\",0), (\"medium\",1), (\"high\",2)])\n",
    "def map_salary(s):\n",
    "    return d.get(s,0)\n"
   ]
  },
  {
   "cell_type": "code",
   "execution_count": 57,
   "metadata": {
    "ExecuteTime": {
     "end_time": "2021-11-23T07:08:28.396969Z",
     "start_time": "2021-11-23T07:08:28.298024Z"
    },
    "collapsed": true
   },
   "outputs": [
    {
     "name": "stdout",
     "output_type": "stream",
     "text": [
      "(       satisfaction_level  last_evaluation  number_project  \\\n",
      "0               -0.936495        -1.087275             0.0   \n",
      "1                0.752814         0.840707             0.6   \n",
      "2               -2.022479         0.957554             1.0   \n",
      "3                0.431041         0.899131             0.6   \n",
      "4               -0.976716        -1.145699             0.0   \n",
      "...                   ...              ...             ...   \n",
      "14994           -0.856051        -0.853580             0.0   \n",
      "14995           -0.976716        -1.379394             0.0   \n",
      "14996           -0.976716        -1.087275             0.0   \n",
      "14997           -2.022479         1.424944             0.8   \n",
      "14998           -0.976716        -1.145699             0.0   \n",
      "\n",
      "       average_monthly_hours  time_spend_company  Work_accident  \\\n",
      "0                   0.285047               0.125            0.0   \n",
      "1                   0.775701               0.500            0.0   \n",
      "2                   0.822430               0.250            0.0   \n",
      "3                   0.593458               0.375            0.0   \n",
      "4                   0.294393               0.125            0.0   \n",
      "...                      ...                 ...            ...   \n",
      "14994               0.257009               0.125            0.0   \n",
      "14995               0.299065               0.125            0.0   \n",
      "14996               0.219626               0.125            0.0   \n",
      "14997               0.859813               0.250            0.0   \n",
      "14998               0.289720               0.125            0.0   \n",
      "\n",
      "       promotion_last_5years  Department  salary  \n",
      "0                        0.0    0.777778     0.0  \n",
      "1                        0.0    0.777778     0.5  \n",
      "2                        0.0    0.777778     0.5  \n",
      "3                        0.0    0.777778     0.0  \n",
      "4                        0.0    0.777778     0.0  \n",
      "...                      ...         ...     ...  \n",
      "14994                    0.0    0.888889     0.0  \n",
      "14995                    0.0    0.888889     0.0  \n",
      "14996                    0.0    0.888889     0.0  \n",
      "14997                    0.0    0.888889     0.0  \n",
      "14998                    0.0    0.888889     0.0  \n",
      "\n",
      "[14999 rows x 9 columns], 0        1\n",
      "1        1\n",
      "2        1\n",
      "3        1\n",
      "4        1\n",
      "        ..\n",
      "14994    1\n",
      "14995    1\n",
      "14996    1\n",
      "14997    1\n",
      "14998    1\n",
      "Name: left, Length: 14999, dtype: int64)\n"
     ]
    }
   ],
   "source": [
    "## \n",
    "def main():\n",
    "    print(hr_preprocessing(sl=True, le=True, lower_d=False, ld_n=3))\n",
    "    \n",
    "if __name__ == \"__main__\":\n",
    "    main()\n",
    "    \n",
    "    "
   ]
  },
  {
   "cell_type": "markdown",
   "metadata": {},
   "source": [
    "## 小结\n",
    "\n",
    "<img style=\"float: center;\" src=\"./figures/特征工程小结.png\" width=\"50%\">\n",
    "<center>Fig. 特征工程小结</center>\n"
   ]
  },
  {
   "cell_type": "code",
   "execution_count": 58,
   "metadata": {
    "ExecuteTime": {
     "end_time": "2021-11-23T07:09:41.044097Z",
     "start_time": "2021-11-23T07:09:41.037101Z"
    }
   },
   "outputs": [],
   "source": []
  }
 ],
 "metadata": {
  "kernelspec": {
   "display_name": "Python 3",
   "language": "python",
   "name": "python3"
  },
  "language_info": {
   "codemirror_mode": {
    "name": "ipython",
    "version": 3
   },
   "file_extension": ".py",
   "mimetype": "text/x-python",
   "name": "python",
   "nbconvert_exporter": "python",
   "pygments_lexer": "ipython3",
   "version": "3.8.3"
  },
  "toc": {
   "base_numbering": 1,
   "nav_menu": {
    "height": "170px",
    "width": "334px"
   },
   "number_sections": true,
   "sideBar": true,
   "skip_h1_title": false,
   "title_cell": "Table of Contents",
   "title_sidebar": "Contents",
   "toc_cell": false,
   "toc_position": {
    "height": "calc(100% - 180px)",
    "left": "10px",
    "top": "150px",
    "width": "187.188px"
   },
   "toc_section_display": true,
   "toc_window_display": true
  }
 },
 "nbformat": 4,
 "nbformat_minor": 4
}
